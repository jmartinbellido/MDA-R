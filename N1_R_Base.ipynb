{
  "nbformat": 4,
  "nbformat_minor": 0,
  "metadata": {
    "colab": {
      "name": "N1_R_Base.ipynb",
      "provenance": [],
      "toc_visible": true,
      "collapsed_sections": [
        "PbKIeucpo5DP",
        "Q2n1HP4YpBGi",
        "2RsEbWB6pTbp",
        "AhSmKQwNGriC",
        "Sy8JvQbi57jp",
        "PdtpHXoXbKtk",
        "lWHsrMlU0HwP",
        "GKAZNd7OqPH4",
        "jDOtaH35vB4A",
        "8Vpvf5pCzoKm",
        "1dMhWitB4y-p"
      ]
    },
    "kernelspec": {
      "name": "ir",
      "display_name": "R"
    }
  },
  "cells": [
    {
      "cell_type": "markdown",
      "metadata": {
        "id": "RLEj8Ol04IIe"
      },
      "source": [
        "# ÍNDICE\n",
        "# **ISDI MDA**\n",
        "# [Guía] Introducción a R\n",
        "# N1: R Base\n",
        "---\n",
        "\n",
        "### ÍNDICE DE CONTENIDO\n",
        "1. IMPORTAR LIBRERÍAS\n",
        "2. INSTALAR Y UTILIZAR LIBRERÍAS\n",
        "3. DEFINIR UN OBJETO\n",
        "4. TIPOS DE OBJETO\n",
        "5. ESTRUCTURAS DE DATOS\n",
        "6. OPERADORES\n",
        "7. (OPCIONAL) BÁSICOS DE PROGRAMACIÓN\n",
        "\n",
        "### Profesor: Juan Martin Bellido (jmbelldo@isdi.education)\n",
        "\n"
      ]
    },
    {
      "cell_type": "markdown",
      "metadata": {
        "id": "lHyWlgTl5_8t"
      },
      "source": [
        "# IMPORTAR LIBRERÍAS\n",
        "---\n",
        "R es un lenguaje de programación *open-source* y *colaborativo*. Por tanto, está abierto a que cualquier persona cree y comparta nuevas funcionalidades. Las funcionalidades están agrupadas en *paquetes* o *librerías* que debemos instalar (una única vez) e importar cada vez que querramos utilizarlas.\n",
        "\n",
        "Muchas librerías populares suelen estar pre-instaladas en nuestros entornos, por tanto únicamente necesitamos importarlas. Para importar una librería, utilizamos la función \n",
        "\n",
        "```\n",
        "require(library)\n",
        "```\n",
        "De forma alternativa, podemos utilizar la función\n",
        "\n",
        "\n",
        "```\n",
        "library(library)\n",
        "```"
      ]
    },
    {
      "cell_type": "code",
      "metadata": {
        "id": "TxEwN93qtcWt"
      },
      "source": [
        "# Importamos la libraría de nombre \"dplyr\". A partir de ahora, podremos utilizar sus funcionalidades. \n",
        "# Si la librería no estuviera instalada, obtendríamos un error \n",
        "require(dplyr)\n",
        "library(dplyr) # alternativamente, podríamos utilizar la función \"library()\""
      ],
      "execution_count": null,
      "outputs": []
    },
    {
      "cell_type": "markdown",
      "metadata": {
        "id": "2oWkPhzI_1MK"
      },
      "source": [
        "# INSTALAR Y UTILIZAR LIBRERÍAS\n",
        "---\n",
        "En alginas casos, necesitaremos utilizar librerías que no están disponibles por defecto en nuestro entorno. Para hacerlo, utilizaremos la función\n",
        "\n",
        "```\n",
        "install.packages(\"library\")\n",
        "```\n",
        "\n"
      ]
    },
    {
      "cell_type": "code",
      "metadata": {
        "id": "wLlxs1m-tpjO",
        "colab": {
          "base_uri": "https://localhost:8080/"
        },
        "outputId": "34e4b9a6-9f05-489c-fb5d-9aa50fcb5a1d"
      },
      "source": [
        "# Utilizamos la función install.packages() para instalar nueva librería\n",
        "install.packages(\"data.table\") # observar que el nombre de la librería debe ir entre comillas"
      ],
      "execution_count": null,
      "outputs": [
        {
          "output_type": "stream",
          "text": [
            "Installing package into ‘/usr/local/lib/R/site-library’\n",
            "(as ‘lib’ is unspecified)\n",
            "\n"
          ],
          "name": "stderr"
        }
      ]
    },
    {
      "cell_type": "code",
      "metadata": {
        "id": "npfibQIIBWis",
        "colab": {
          "base_uri": "https://localhost:8080/"
        },
        "outputId": "6b5494bc-f8d8-4743-d935-affa0822d1b4"
      },
      "source": [
        "# Ahora que la librería está instalada, podremos importarla sin problema\n",
        "require(data.table) # observar que en este caso no es necesario comentar (incluir comillas) el nombre de la librería"
      ],
      "execution_count": null,
      "outputs": [
        {
          "output_type": "stream",
          "text": [
            "Loading required package: data.table\n",
            "\n"
          ],
          "name": "stderr"
        }
      ]
    },
    {
      "cell_type": "markdown",
      "metadata": {
        "id": "xxy3fHNoaE4X"
      },
      "source": [
        "### Importar dataframe\n",
        "---"
      ]
    },
    {
      "cell_type": "markdown",
      "metadata": {
        "id": "WJHgZL_hBoxs"
      },
      "source": [
        "Una vez importamos una librería, podremos utilizar las funciones que incluya. Una función muy utilizada dentro de la librería \"data.table\" es *fread()*, que permite importar una tabla de datos (*dataframe*) de forma sencilla.\n",
        "\n",
        "```\n",
        "fread(\"path to dataframe\")\n",
        "```\n"
      ]
    },
    {
      "cell_type": "code",
      "metadata": {
        "id": "HNrQ5mxzt0N-",
        "colab": {
          "base_uri": "https://localhost:8080/",
          "height": 624
        },
        "outputId": "e960c17a-a72d-4012-e2b9-eb664cd2ead0"
      },
      "source": [
        "# Utilizamos la función fread() para importar una tabla de datos (dataframe) que contiene información sobre películas de James Bond\n",
        "fread(\"https://data-wizards.s3.amazonaws.com/datasets/jamesbond.csv\") # especificamos como parámetro el URL donde se encuentra depositado el dataframe\n",
        "# Nota: si ejectutáramos este código desde un entorno local (no en el cloud, como lo estamos haciendo ahora), podríamos también especificar una ruta a un objeto local"
      ],
      "execution_count": null,
      "outputs": [
        {
          "output_type": "display_data",
          "data": {
            "text/plain": [
              "   Film                            Year Actor          Director          \n",
              "1  Dr. No                          1962 Sean Connery   Terence Young     \n",
              "2  From Russia with Love           1963 Sean Connery   Terence Young     \n",
              "3  Goldfinger                      1964 Sean Connery   Guy Hamilton      \n",
              "4  Thunderball                     1965 Sean Connery   Terence Young     \n",
              "5  Casino Royale                   1967 David Niven    Ken Hughes        \n",
              "6  You Only Live Twice             1967 Sean Connery   Lewis Gilbert     \n",
              "7  On Her Majesty's Secret Service 1969 George Lazenby Peter R. Hunt     \n",
              "8  Diamonds Are Forever            1971 Sean Connery   Guy Hamilton      \n",
              "9  Live and Let Die                1973 Roger Moore    Guy Hamilton      \n",
              "10 The Man with the Golden Gun     1974 Roger Moore    Guy Hamilton      \n",
              "11 The Spy Who Loved Me            1977 Roger Moore    Lewis Gilbert     \n",
              "12 Moonraker                       1979 Roger Moore    Lewis Gilbert     \n",
              "13 For Your Eyes Only              1981 Roger Moore    John Glen         \n",
              "14 Never Say Never Again           1983 Sean Connery   Irvin Kershner    \n",
              "15 Octopussy                       1983 Roger Moore    John Glen         \n",
              "16 A View to a Kill                1985 Roger Moore    John Glen         \n",
              "17 The Living Daylights            1987 Timothy Dalton John Glen         \n",
              "18 Licence to Kill                 1989 Timothy Dalton John Glen         \n",
              "19 GoldenEye                       1995 Pierce Brosnan Martin Campbell   \n",
              "20 Tomorrow Never Dies             1997 Pierce Brosnan Roger Spottiswoode\n",
              "21 The World Is Not Enough         1999 Pierce Brosnan Michael Apted     \n",
              "22 Die Another Day                 2002 Pierce Brosnan Lee Tamahori      \n",
              "23 Casino Royale                   2006 Daniel Craig   Martin Campbell   \n",
              "24 Quantum of Solace               2008 Daniel Craig   Marc Forster      \n",
              "25 Skyfall                         2012 Daniel Craig   Sam Mendes        \n",
              "26 Spectre                         2015 Daniel Craig   Sam Mendes        \n",
              "   Box Office Budget Bond Actor Salary\n",
              "1  448.8        7.0   0.6             \n",
              "2  543.8       12.6   1.6             \n",
              "3  820.4       18.6   3.2             \n",
              "4  848.1       41.9   4.7             \n",
              "5  315.0       85.0    NA             \n",
              "6  514.2       59.9   4.4             \n",
              "7  291.5       37.3   0.6             \n",
              "8  442.5       34.7   5.8             \n",
              "9  460.3       30.8    NA             \n",
              "10 334.0       27.7    NA             \n",
              "11 533.0       45.1    NA             \n",
              "12 535.0       91.5    NA             \n",
              "13 449.4       60.2    NA             \n",
              "14 380.0       86.0    NA             \n",
              "15 373.8       53.9   7.8             \n",
              "16 275.2       54.5   9.1             \n",
              "17 313.5       68.8   5.2             \n",
              "18 250.9       56.7   7.9             \n",
              "19 518.5       76.9   5.1             \n",
              "20 463.2      133.9  10.0             \n",
              "21 439.5      158.3  13.5             \n",
              "22 465.4      154.2  17.9             \n",
              "23 581.5      145.3   3.3             \n",
              "24 514.2      181.4   8.1             \n",
              "25 943.5      170.2  14.5             \n",
              "26 726.7      206.3    NA             "
            ],
            "text/latex": "A data.table: 26 × 7\n\\begin{tabular}{lllllll}\n Film & Year & Actor & Director & Box Office & Budget & Bond Actor Salary\\\\\n <chr> & <int> & <chr> & <chr> & <dbl> & <dbl> & <dbl>\\\\\n\\hline\n\t Dr. No                          & 1962 & Sean Connery   & Terence Young      & 448.8 &   7.0 &  0.6\\\\\n\t From Russia with Love           & 1963 & Sean Connery   & Terence Young      & 543.8 &  12.6 &  1.6\\\\\n\t Goldfinger                      & 1964 & Sean Connery   & Guy Hamilton       & 820.4 &  18.6 &  3.2\\\\\n\t Thunderball                     & 1965 & Sean Connery   & Terence Young      & 848.1 &  41.9 &  4.7\\\\\n\t Casino Royale                   & 1967 & David Niven    & Ken Hughes         & 315.0 &  85.0 &   NA\\\\\n\t You Only Live Twice             & 1967 & Sean Connery   & Lewis Gilbert      & 514.2 &  59.9 &  4.4\\\\\n\t On Her Majesty's Secret Service & 1969 & George Lazenby & Peter R. Hunt      & 291.5 &  37.3 &  0.6\\\\\n\t Diamonds Are Forever            & 1971 & Sean Connery   & Guy Hamilton       & 442.5 &  34.7 &  5.8\\\\\n\t Live and Let Die                & 1973 & Roger Moore    & Guy Hamilton       & 460.3 &  30.8 &   NA\\\\\n\t The Man with the Golden Gun     & 1974 & Roger Moore    & Guy Hamilton       & 334.0 &  27.7 &   NA\\\\\n\t The Spy Who Loved Me            & 1977 & Roger Moore    & Lewis Gilbert      & 533.0 &  45.1 &   NA\\\\\n\t Moonraker                       & 1979 & Roger Moore    & Lewis Gilbert      & 535.0 &  91.5 &   NA\\\\\n\t For Your Eyes Only              & 1981 & Roger Moore    & John Glen          & 449.4 &  60.2 &   NA\\\\\n\t Never Say Never Again           & 1983 & Sean Connery   & Irvin Kershner     & 380.0 &  86.0 &   NA\\\\\n\t Octopussy                       & 1983 & Roger Moore    & John Glen          & 373.8 &  53.9 &  7.8\\\\\n\t A View to a Kill                & 1985 & Roger Moore    & John Glen          & 275.2 &  54.5 &  9.1\\\\\n\t The Living Daylights            & 1987 & Timothy Dalton & John Glen          & 313.5 &  68.8 &  5.2\\\\\n\t Licence to Kill                 & 1989 & Timothy Dalton & John Glen          & 250.9 &  56.7 &  7.9\\\\\n\t GoldenEye                       & 1995 & Pierce Brosnan & Martin Campbell    & 518.5 &  76.9 &  5.1\\\\\n\t Tomorrow Never Dies             & 1997 & Pierce Brosnan & Roger Spottiswoode & 463.2 & 133.9 & 10.0\\\\\n\t The World Is Not Enough         & 1999 & Pierce Brosnan & Michael Apted      & 439.5 & 158.3 & 13.5\\\\\n\t Die Another Day                 & 2002 & Pierce Brosnan & Lee Tamahori       & 465.4 & 154.2 & 17.9\\\\\n\t Casino Royale                   & 2006 & Daniel Craig   & Martin Campbell    & 581.5 & 145.3 &  3.3\\\\\n\t Quantum of Solace               & 2008 & Daniel Craig   & Marc Forster       & 514.2 & 181.4 &  8.1\\\\\n\t Skyfall                         & 2012 & Daniel Craig   & Sam Mendes         & 943.5 & 170.2 & 14.5\\\\\n\t Spectre                         & 2015 & Daniel Craig   & Sam Mendes         & 726.7 & 206.3 &   NA\\\\\n\\end{tabular}\n",
            "text/markdown": "\nA data.table: 26 × 7\n\n| Film &lt;chr&gt; | Year &lt;int&gt; | Actor &lt;chr&gt; | Director &lt;chr&gt; | Box Office &lt;dbl&gt; | Budget &lt;dbl&gt; | Bond Actor Salary &lt;dbl&gt; |\n|---|---|---|---|---|---|---|\n| Dr. No                          | 1962 | Sean Connery   | Terence Young      | 448.8 |   7.0 |  0.6 |\n| From Russia with Love           | 1963 | Sean Connery   | Terence Young      | 543.8 |  12.6 |  1.6 |\n| Goldfinger                      | 1964 | Sean Connery   | Guy Hamilton       | 820.4 |  18.6 |  3.2 |\n| Thunderball                     | 1965 | Sean Connery   | Terence Young      | 848.1 |  41.9 |  4.7 |\n| Casino Royale                   | 1967 | David Niven    | Ken Hughes         | 315.0 |  85.0 |   NA |\n| You Only Live Twice             | 1967 | Sean Connery   | Lewis Gilbert      | 514.2 |  59.9 |  4.4 |\n| On Her Majesty's Secret Service | 1969 | George Lazenby | Peter R. Hunt      | 291.5 |  37.3 |  0.6 |\n| Diamonds Are Forever            | 1971 | Sean Connery   | Guy Hamilton       | 442.5 |  34.7 |  5.8 |\n| Live and Let Die                | 1973 | Roger Moore    | Guy Hamilton       | 460.3 |  30.8 |   NA |\n| The Man with the Golden Gun     | 1974 | Roger Moore    | Guy Hamilton       | 334.0 |  27.7 |   NA |\n| The Spy Who Loved Me            | 1977 | Roger Moore    | Lewis Gilbert      | 533.0 |  45.1 |   NA |\n| Moonraker                       | 1979 | Roger Moore    | Lewis Gilbert      | 535.0 |  91.5 |   NA |\n| For Your Eyes Only              | 1981 | Roger Moore    | John Glen          | 449.4 |  60.2 |   NA |\n| Never Say Never Again           | 1983 | Sean Connery   | Irvin Kershner     | 380.0 |  86.0 |   NA |\n| Octopussy                       | 1983 | Roger Moore    | John Glen          | 373.8 |  53.9 |  7.8 |\n| A View to a Kill                | 1985 | Roger Moore    | John Glen          | 275.2 |  54.5 |  9.1 |\n| The Living Daylights            | 1987 | Timothy Dalton | John Glen          | 313.5 |  68.8 |  5.2 |\n| Licence to Kill                 | 1989 | Timothy Dalton | John Glen          | 250.9 |  56.7 |  7.9 |\n| GoldenEye                       | 1995 | Pierce Brosnan | Martin Campbell    | 518.5 |  76.9 |  5.1 |\n| Tomorrow Never Dies             | 1997 | Pierce Brosnan | Roger Spottiswoode | 463.2 | 133.9 | 10.0 |\n| The World Is Not Enough         | 1999 | Pierce Brosnan | Michael Apted      | 439.5 | 158.3 | 13.5 |\n| Die Another Day                 | 2002 | Pierce Brosnan | Lee Tamahori       | 465.4 | 154.2 | 17.9 |\n| Casino Royale                   | 2006 | Daniel Craig   | Martin Campbell    | 581.5 | 145.3 |  3.3 |\n| Quantum of Solace               | 2008 | Daniel Craig   | Marc Forster       | 514.2 | 181.4 |  8.1 |\n| Skyfall                         | 2012 | Daniel Craig   | Sam Mendes         | 943.5 | 170.2 | 14.5 |\n| Spectre                         | 2015 | Daniel Craig   | Sam Mendes         | 726.7 | 206.3 |   NA |\n\n",
            "text/html": [
              "<table>\n",
              "<caption>A data.table: 26 × 7</caption>\n",
              "<thead>\n",
              "\t<tr><th scope=col>Film</th><th scope=col>Year</th><th scope=col>Actor</th><th scope=col>Director</th><th scope=col>Box Office</th><th scope=col>Budget</th><th scope=col>Bond Actor Salary</th></tr>\n",
              "\t<tr><th scope=col>&lt;chr&gt;</th><th scope=col>&lt;int&gt;</th><th scope=col>&lt;chr&gt;</th><th scope=col>&lt;chr&gt;</th><th scope=col>&lt;dbl&gt;</th><th scope=col>&lt;dbl&gt;</th><th scope=col>&lt;dbl&gt;</th></tr>\n",
              "</thead>\n",
              "<tbody>\n",
              "\t<tr><td>Dr. No                         </td><td>1962</td><td>Sean Connery  </td><td>Terence Young     </td><td>448.8</td><td>  7.0</td><td> 0.6</td></tr>\n",
              "\t<tr><td>From Russia with Love          </td><td>1963</td><td>Sean Connery  </td><td>Terence Young     </td><td>543.8</td><td> 12.6</td><td> 1.6</td></tr>\n",
              "\t<tr><td>Goldfinger                     </td><td>1964</td><td>Sean Connery  </td><td>Guy Hamilton      </td><td>820.4</td><td> 18.6</td><td> 3.2</td></tr>\n",
              "\t<tr><td>Thunderball                    </td><td>1965</td><td>Sean Connery  </td><td>Terence Young     </td><td>848.1</td><td> 41.9</td><td> 4.7</td></tr>\n",
              "\t<tr><td>Casino Royale                  </td><td>1967</td><td>David Niven   </td><td>Ken Hughes        </td><td>315.0</td><td> 85.0</td><td>  NA</td></tr>\n",
              "\t<tr><td>You Only Live Twice            </td><td>1967</td><td>Sean Connery  </td><td>Lewis Gilbert     </td><td>514.2</td><td> 59.9</td><td> 4.4</td></tr>\n",
              "\t<tr><td>On Her Majesty's Secret Service</td><td>1969</td><td>George Lazenby</td><td>Peter R. Hunt     </td><td>291.5</td><td> 37.3</td><td> 0.6</td></tr>\n",
              "\t<tr><td>Diamonds Are Forever           </td><td>1971</td><td>Sean Connery  </td><td>Guy Hamilton      </td><td>442.5</td><td> 34.7</td><td> 5.8</td></tr>\n",
              "\t<tr><td>Live and Let Die               </td><td>1973</td><td>Roger Moore   </td><td>Guy Hamilton      </td><td>460.3</td><td> 30.8</td><td>  NA</td></tr>\n",
              "\t<tr><td>The Man with the Golden Gun    </td><td>1974</td><td>Roger Moore   </td><td>Guy Hamilton      </td><td>334.0</td><td> 27.7</td><td>  NA</td></tr>\n",
              "\t<tr><td>The Spy Who Loved Me           </td><td>1977</td><td>Roger Moore   </td><td>Lewis Gilbert     </td><td>533.0</td><td> 45.1</td><td>  NA</td></tr>\n",
              "\t<tr><td>Moonraker                      </td><td>1979</td><td>Roger Moore   </td><td>Lewis Gilbert     </td><td>535.0</td><td> 91.5</td><td>  NA</td></tr>\n",
              "\t<tr><td>For Your Eyes Only             </td><td>1981</td><td>Roger Moore   </td><td>John Glen         </td><td>449.4</td><td> 60.2</td><td>  NA</td></tr>\n",
              "\t<tr><td>Never Say Never Again          </td><td>1983</td><td>Sean Connery  </td><td>Irvin Kershner    </td><td>380.0</td><td> 86.0</td><td>  NA</td></tr>\n",
              "\t<tr><td>Octopussy                      </td><td>1983</td><td>Roger Moore   </td><td>John Glen         </td><td>373.8</td><td> 53.9</td><td> 7.8</td></tr>\n",
              "\t<tr><td>A View to a Kill               </td><td>1985</td><td>Roger Moore   </td><td>John Glen         </td><td>275.2</td><td> 54.5</td><td> 9.1</td></tr>\n",
              "\t<tr><td>The Living Daylights           </td><td>1987</td><td>Timothy Dalton</td><td>John Glen         </td><td>313.5</td><td> 68.8</td><td> 5.2</td></tr>\n",
              "\t<tr><td>Licence to Kill                </td><td>1989</td><td>Timothy Dalton</td><td>John Glen         </td><td>250.9</td><td> 56.7</td><td> 7.9</td></tr>\n",
              "\t<tr><td>GoldenEye                      </td><td>1995</td><td>Pierce Brosnan</td><td>Martin Campbell   </td><td>518.5</td><td> 76.9</td><td> 5.1</td></tr>\n",
              "\t<tr><td>Tomorrow Never Dies            </td><td>1997</td><td>Pierce Brosnan</td><td>Roger Spottiswoode</td><td>463.2</td><td>133.9</td><td>10.0</td></tr>\n",
              "\t<tr><td>The World Is Not Enough        </td><td>1999</td><td>Pierce Brosnan</td><td>Michael Apted     </td><td>439.5</td><td>158.3</td><td>13.5</td></tr>\n",
              "\t<tr><td>Die Another Day                </td><td>2002</td><td>Pierce Brosnan</td><td>Lee Tamahori      </td><td>465.4</td><td>154.2</td><td>17.9</td></tr>\n",
              "\t<tr><td>Casino Royale                  </td><td>2006</td><td>Daniel Craig  </td><td>Martin Campbell   </td><td>581.5</td><td>145.3</td><td> 3.3</td></tr>\n",
              "\t<tr><td>Quantum of Solace              </td><td>2008</td><td>Daniel Craig  </td><td>Marc Forster      </td><td>514.2</td><td>181.4</td><td> 8.1</td></tr>\n",
              "\t<tr><td>Skyfall                        </td><td>2012</td><td>Daniel Craig  </td><td>Sam Mendes        </td><td>943.5</td><td>170.2</td><td>14.5</td></tr>\n",
              "\t<tr><td>Spectre                        </td><td>2015</td><td>Daniel Craig  </td><td>Sam Mendes        </td><td>726.7</td><td>206.3</td><td>  NA</td></tr>\n",
              "</tbody>\n",
              "</table>\n"
            ]
          },
          "metadata": {
            "tags": []
          }
        }
      ]
    },
    {
      "cell_type": "markdown",
      "metadata": {
        "id": "-w30jyw4Dsz6"
      },
      "source": [
        "Al utilizar una función, podríamos también especificar a qué librería pertenece. Esto es particularmente útil para evitar errores cuando dos o más funciones propias de distintas librarías reciben el mismo nombre.\n",
        "Para especificar a qué librería pertenece una función, utilizamos la siguente sintaxis\n",
        "\n",
        "```\n",
        "library::function()\n",
        "```\n",
        "\n"
      ]
    },
    {
      "cell_type": "code",
      "metadata": {
        "id": "JBSOMxK-DnW6",
        "colab": {
          "base_uri": "https://localhost:8080/",
          "height": 624
        },
        "outputId": "b90ad74d-5b8e-4265-c791-05993f0528e7"
      },
      "source": [
        "# Importaremos el mismo dataframe utilizando la función fread(), en este caso especificaremos a qué librería pertenece\n",
        "data.table::fread(\"https://data-wizards.s3.amazonaws.com/datasets/jamesbond.csv\")"
      ],
      "execution_count": null,
      "outputs": [
        {
          "output_type": "display_data",
          "data": {
            "text/plain": [
              "   Film                            Year Actor          Director          \n",
              "1  Dr. No                          1962 Sean Connery   Terence Young     \n",
              "2  From Russia with Love           1963 Sean Connery   Terence Young     \n",
              "3  Goldfinger                      1964 Sean Connery   Guy Hamilton      \n",
              "4  Thunderball                     1965 Sean Connery   Terence Young     \n",
              "5  Casino Royale                   1967 David Niven    Ken Hughes        \n",
              "6  You Only Live Twice             1967 Sean Connery   Lewis Gilbert     \n",
              "7  On Her Majesty's Secret Service 1969 George Lazenby Peter R. Hunt     \n",
              "8  Diamonds Are Forever            1971 Sean Connery   Guy Hamilton      \n",
              "9  Live and Let Die                1973 Roger Moore    Guy Hamilton      \n",
              "10 The Man with the Golden Gun     1974 Roger Moore    Guy Hamilton      \n",
              "11 The Spy Who Loved Me            1977 Roger Moore    Lewis Gilbert     \n",
              "12 Moonraker                       1979 Roger Moore    Lewis Gilbert     \n",
              "13 For Your Eyes Only              1981 Roger Moore    John Glen         \n",
              "14 Never Say Never Again           1983 Sean Connery   Irvin Kershner    \n",
              "15 Octopussy                       1983 Roger Moore    John Glen         \n",
              "16 A View to a Kill                1985 Roger Moore    John Glen         \n",
              "17 The Living Daylights            1987 Timothy Dalton John Glen         \n",
              "18 Licence to Kill                 1989 Timothy Dalton John Glen         \n",
              "19 GoldenEye                       1995 Pierce Brosnan Martin Campbell   \n",
              "20 Tomorrow Never Dies             1997 Pierce Brosnan Roger Spottiswoode\n",
              "21 The World Is Not Enough         1999 Pierce Brosnan Michael Apted     \n",
              "22 Die Another Day                 2002 Pierce Brosnan Lee Tamahori      \n",
              "23 Casino Royale                   2006 Daniel Craig   Martin Campbell   \n",
              "24 Quantum of Solace               2008 Daniel Craig   Marc Forster      \n",
              "25 Skyfall                         2012 Daniel Craig   Sam Mendes        \n",
              "26 Spectre                         2015 Daniel Craig   Sam Mendes        \n",
              "   Box Office Budget Bond Actor Salary\n",
              "1  448.8        7.0   0.6             \n",
              "2  543.8       12.6   1.6             \n",
              "3  820.4       18.6   3.2             \n",
              "4  848.1       41.9   4.7             \n",
              "5  315.0       85.0    NA             \n",
              "6  514.2       59.9   4.4             \n",
              "7  291.5       37.3   0.6             \n",
              "8  442.5       34.7   5.8             \n",
              "9  460.3       30.8    NA             \n",
              "10 334.0       27.7    NA             \n",
              "11 533.0       45.1    NA             \n",
              "12 535.0       91.5    NA             \n",
              "13 449.4       60.2    NA             \n",
              "14 380.0       86.0    NA             \n",
              "15 373.8       53.9   7.8             \n",
              "16 275.2       54.5   9.1             \n",
              "17 313.5       68.8   5.2             \n",
              "18 250.9       56.7   7.9             \n",
              "19 518.5       76.9   5.1             \n",
              "20 463.2      133.9  10.0             \n",
              "21 439.5      158.3  13.5             \n",
              "22 465.4      154.2  17.9             \n",
              "23 581.5      145.3   3.3             \n",
              "24 514.2      181.4   8.1             \n",
              "25 943.5      170.2  14.5             \n",
              "26 726.7      206.3    NA             "
            ],
            "text/latex": "A data.table: 26 × 7\n\\begin{tabular}{lllllll}\n Film & Year & Actor & Director & Box Office & Budget & Bond Actor Salary\\\\\n <chr> & <int> & <chr> & <chr> & <dbl> & <dbl> & <dbl>\\\\\n\\hline\n\t Dr. No                          & 1962 & Sean Connery   & Terence Young      & 448.8 &   7.0 &  0.6\\\\\n\t From Russia with Love           & 1963 & Sean Connery   & Terence Young      & 543.8 &  12.6 &  1.6\\\\\n\t Goldfinger                      & 1964 & Sean Connery   & Guy Hamilton       & 820.4 &  18.6 &  3.2\\\\\n\t Thunderball                     & 1965 & Sean Connery   & Terence Young      & 848.1 &  41.9 &  4.7\\\\\n\t Casino Royale                   & 1967 & David Niven    & Ken Hughes         & 315.0 &  85.0 &   NA\\\\\n\t You Only Live Twice             & 1967 & Sean Connery   & Lewis Gilbert      & 514.2 &  59.9 &  4.4\\\\\n\t On Her Majesty's Secret Service & 1969 & George Lazenby & Peter R. Hunt      & 291.5 &  37.3 &  0.6\\\\\n\t Diamonds Are Forever            & 1971 & Sean Connery   & Guy Hamilton       & 442.5 &  34.7 &  5.8\\\\\n\t Live and Let Die                & 1973 & Roger Moore    & Guy Hamilton       & 460.3 &  30.8 &   NA\\\\\n\t The Man with the Golden Gun     & 1974 & Roger Moore    & Guy Hamilton       & 334.0 &  27.7 &   NA\\\\\n\t The Spy Who Loved Me            & 1977 & Roger Moore    & Lewis Gilbert      & 533.0 &  45.1 &   NA\\\\\n\t Moonraker                       & 1979 & Roger Moore    & Lewis Gilbert      & 535.0 &  91.5 &   NA\\\\\n\t For Your Eyes Only              & 1981 & Roger Moore    & John Glen          & 449.4 &  60.2 &   NA\\\\\n\t Never Say Never Again           & 1983 & Sean Connery   & Irvin Kershner     & 380.0 &  86.0 &   NA\\\\\n\t Octopussy                       & 1983 & Roger Moore    & John Glen          & 373.8 &  53.9 &  7.8\\\\\n\t A View to a Kill                & 1985 & Roger Moore    & John Glen          & 275.2 &  54.5 &  9.1\\\\\n\t The Living Daylights            & 1987 & Timothy Dalton & John Glen          & 313.5 &  68.8 &  5.2\\\\\n\t Licence to Kill                 & 1989 & Timothy Dalton & John Glen          & 250.9 &  56.7 &  7.9\\\\\n\t GoldenEye                       & 1995 & Pierce Brosnan & Martin Campbell    & 518.5 &  76.9 &  5.1\\\\\n\t Tomorrow Never Dies             & 1997 & Pierce Brosnan & Roger Spottiswoode & 463.2 & 133.9 & 10.0\\\\\n\t The World Is Not Enough         & 1999 & Pierce Brosnan & Michael Apted      & 439.5 & 158.3 & 13.5\\\\\n\t Die Another Day                 & 2002 & Pierce Brosnan & Lee Tamahori       & 465.4 & 154.2 & 17.9\\\\\n\t Casino Royale                   & 2006 & Daniel Craig   & Martin Campbell    & 581.5 & 145.3 &  3.3\\\\\n\t Quantum of Solace               & 2008 & Daniel Craig   & Marc Forster       & 514.2 & 181.4 &  8.1\\\\\n\t Skyfall                         & 2012 & Daniel Craig   & Sam Mendes         & 943.5 & 170.2 & 14.5\\\\\n\t Spectre                         & 2015 & Daniel Craig   & Sam Mendes         & 726.7 & 206.3 &   NA\\\\\n\\end{tabular}\n",
            "text/markdown": "\nA data.table: 26 × 7\n\n| Film &lt;chr&gt; | Year &lt;int&gt; | Actor &lt;chr&gt; | Director &lt;chr&gt; | Box Office &lt;dbl&gt; | Budget &lt;dbl&gt; | Bond Actor Salary &lt;dbl&gt; |\n|---|---|---|---|---|---|---|\n| Dr. No                          | 1962 | Sean Connery   | Terence Young      | 448.8 |   7.0 |  0.6 |\n| From Russia with Love           | 1963 | Sean Connery   | Terence Young      | 543.8 |  12.6 |  1.6 |\n| Goldfinger                      | 1964 | Sean Connery   | Guy Hamilton       | 820.4 |  18.6 |  3.2 |\n| Thunderball                     | 1965 | Sean Connery   | Terence Young      | 848.1 |  41.9 |  4.7 |\n| Casino Royale                   | 1967 | David Niven    | Ken Hughes         | 315.0 |  85.0 |   NA |\n| You Only Live Twice             | 1967 | Sean Connery   | Lewis Gilbert      | 514.2 |  59.9 |  4.4 |\n| On Her Majesty's Secret Service | 1969 | George Lazenby | Peter R. Hunt      | 291.5 |  37.3 |  0.6 |\n| Diamonds Are Forever            | 1971 | Sean Connery   | Guy Hamilton       | 442.5 |  34.7 |  5.8 |\n| Live and Let Die                | 1973 | Roger Moore    | Guy Hamilton       | 460.3 |  30.8 |   NA |\n| The Man with the Golden Gun     | 1974 | Roger Moore    | Guy Hamilton       | 334.0 |  27.7 |   NA |\n| The Spy Who Loved Me            | 1977 | Roger Moore    | Lewis Gilbert      | 533.0 |  45.1 |   NA |\n| Moonraker                       | 1979 | Roger Moore    | Lewis Gilbert      | 535.0 |  91.5 |   NA |\n| For Your Eyes Only              | 1981 | Roger Moore    | John Glen          | 449.4 |  60.2 |   NA |\n| Never Say Never Again           | 1983 | Sean Connery   | Irvin Kershner     | 380.0 |  86.0 |   NA |\n| Octopussy                       | 1983 | Roger Moore    | John Glen          | 373.8 |  53.9 |  7.8 |\n| A View to a Kill                | 1985 | Roger Moore    | John Glen          | 275.2 |  54.5 |  9.1 |\n| The Living Daylights            | 1987 | Timothy Dalton | John Glen          | 313.5 |  68.8 |  5.2 |\n| Licence to Kill                 | 1989 | Timothy Dalton | John Glen          | 250.9 |  56.7 |  7.9 |\n| GoldenEye                       | 1995 | Pierce Brosnan | Martin Campbell    | 518.5 |  76.9 |  5.1 |\n| Tomorrow Never Dies             | 1997 | Pierce Brosnan | Roger Spottiswoode | 463.2 | 133.9 | 10.0 |\n| The World Is Not Enough         | 1999 | Pierce Brosnan | Michael Apted      | 439.5 | 158.3 | 13.5 |\n| Die Another Day                 | 2002 | Pierce Brosnan | Lee Tamahori       | 465.4 | 154.2 | 17.9 |\n| Casino Royale                   | 2006 | Daniel Craig   | Martin Campbell    | 581.5 | 145.3 |  3.3 |\n| Quantum of Solace               | 2008 | Daniel Craig   | Marc Forster       | 514.2 | 181.4 |  8.1 |\n| Skyfall                         | 2012 | Daniel Craig   | Sam Mendes         | 943.5 | 170.2 | 14.5 |\n| Spectre                         | 2015 | Daniel Craig   | Sam Mendes         | 726.7 | 206.3 |   NA |\n\n",
            "text/html": [
              "<table>\n",
              "<caption>A data.table: 26 × 7</caption>\n",
              "<thead>\n",
              "\t<tr><th scope=col>Film</th><th scope=col>Year</th><th scope=col>Actor</th><th scope=col>Director</th><th scope=col>Box Office</th><th scope=col>Budget</th><th scope=col>Bond Actor Salary</th></tr>\n",
              "\t<tr><th scope=col>&lt;chr&gt;</th><th scope=col>&lt;int&gt;</th><th scope=col>&lt;chr&gt;</th><th scope=col>&lt;chr&gt;</th><th scope=col>&lt;dbl&gt;</th><th scope=col>&lt;dbl&gt;</th><th scope=col>&lt;dbl&gt;</th></tr>\n",
              "</thead>\n",
              "<tbody>\n",
              "\t<tr><td>Dr. No                         </td><td>1962</td><td>Sean Connery  </td><td>Terence Young     </td><td>448.8</td><td>  7.0</td><td> 0.6</td></tr>\n",
              "\t<tr><td>From Russia with Love          </td><td>1963</td><td>Sean Connery  </td><td>Terence Young     </td><td>543.8</td><td> 12.6</td><td> 1.6</td></tr>\n",
              "\t<tr><td>Goldfinger                     </td><td>1964</td><td>Sean Connery  </td><td>Guy Hamilton      </td><td>820.4</td><td> 18.6</td><td> 3.2</td></tr>\n",
              "\t<tr><td>Thunderball                    </td><td>1965</td><td>Sean Connery  </td><td>Terence Young     </td><td>848.1</td><td> 41.9</td><td> 4.7</td></tr>\n",
              "\t<tr><td>Casino Royale                  </td><td>1967</td><td>David Niven   </td><td>Ken Hughes        </td><td>315.0</td><td> 85.0</td><td>  NA</td></tr>\n",
              "\t<tr><td>You Only Live Twice            </td><td>1967</td><td>Sean Connery  </td><td>Lewis Gilbert     </td><td>514.2</td><td> 59.9</td><td> 4.4</td></tr>\n",
              "\t<tr><td>On Her Majesty's Secret Service</td><td>1969</td><td>George Lazenby</td><td>Peter R. Hunt     </td><td>291.5</td><td> 37.3</td><td> 0.6</td></tr>\n",
              "\t<tr><td>Diamonds Are Forever           </td><td>1971</td><td>Sean Connery  </td><td>Guy Hamilton      </td><td>442.5</td><td> 34.7</td><td> 5.8</td></tr>\n",
              "\t<tr><td>Live and Let Die               </td><td>1973</td><td>Roger Moore   </td><td>Guy Hamilton      </td><td>460.3</td><td> 30.8</td><td>  NA</td></tr>\n",
              "\t<tr><td>The Man with the Golden Gun    </td><td>1974</td><td>Roger Moore   </td><td>Guy Hamilton      </td><td>334.0</td><td> 27.7</td><td>  NA</td></tr>\n",
              "\t<tr><td>The Spy Who Loved Me           </td><td>1977</td><td>Roger Moore   </td><td>Lewis Gilbert     </td><td>533.0</td><td> 45.1</td><td>  NA</td></tr>\n",
              "\t<tr><td>Moonraker                      </td><td>1979</td><td>Roger Moore   </td><td>Lewis Gilbert     </td><td>535.0</td><td> 91.5</td><td>  NA</td></tr>\n",
              "\t<tr><td>For Your Eyes Only             </td><td>1981</td><td>Roger Moore   </td><td>John Glen         </td><td>449.4</td><td> 60.2</td><td>  NA</td></tr>\n",
              "\t<tr><td>Never Say Never Again          </td><td>1983</td><td>Sean Connery  </td><td>Irvin Kershner    </td><td>380.0</td><td> 86.0</td><td>  NA</td></tr>\n",
              "\t<tr><td>Octopussy                      </td><td>1983</td><td>Roger Moore   </td><td>John Glen         </td><td>373.8</td><td> 53.9</td><td> 7.8</td></tr>\n",
              "\t<tr><td>A View to a Kill               </td><td>1985</td><td>Roger Moore   </td><td>John Glen         </td><td>275.2</td><td> 54.5</td><td> 9.1</td></tr>\n",
              "\t<tr><td>The Living Daylights           </td><td>1987</td><td>Timothy Dalton</td><td>John Glen         </td><td>313.5</td><td> 68.8</td><td> 5.2</td></tr>\n",
              "\t<tr><td>Licence to Kill                </td><td>1989</td><td>Timothy Dalton</td><td>John Glen         </td><td>250.9</td><td> 56.7</td><td> 7.9</td></tr>\n",
              "\t<tr><td>GoldenEye                      </td><td>1995</td><td>Pierce Brosnan</td><td>Martin Campbell   </td><td>518.5</td><td> 76.9</td><td> 5.1</td></tr>\n",
              "\t<tr><td>Tomorrow Never Dies            </td><td>1997</td><td>Pierce Brosnan</td><td>Roger Spottiswoode</td><td>463.2</td><td>133.9</td><td>10.0</td></tr>\n",
              "\t<tr><td>The World Is Not Enough        </td><td>1999</td><td>Pierce Brosnan</td><td>Michael Apted     </td><td>439.5</td><td>158.3</td><td>13.5</td></tr>\n",
              "\t<tr><td>Die Another Day                </td><td>2002</td><td>Pierce Brosnan</td><td>Lee Tamahori      </td><td>465.4</td><td>154.2</td><td>17.9</td></tr>\n",
              "\t<tr><td>Casino Royale                  </td><td>2006</td><td>Daniel Craig  </td><td>Martin Campbell   </td><td>581.5</td><td>145.3</td><td> 3.3</td></tr>\n",
              "\t<tr><td>Quantum of Solace              </td><td>2008</td><td>Daniel Craig  </td><td>Marc Forster      </td><td>514.2</td><td>181.4</td><td> 8.1</td></tr>\n",
              "\t<tr><td>Skyfall                        </td><td>2012</td><td>Daniel Craig  </td><td>Sam Mendes        </td><td>943.5</td><td>170.2</td><td>14.5</td></tr>\n",
              "\t<tr><td>Spectre                        </td><td>2015</td><td>Daniel Craig  </td><td>Sam Mendes        </td><td>726.7</td><td>206.3</td><td>  NA</td></tr>\n",
              "</tbody>\n",
              "</table>\n"
            ]
          },
          "metadata": {
            "tags": []
          }
        }
      ]
    },
    {
      "cell_type": "markdown",
      "metadata": {
        "id": "kYCgmKZvaOwR"
      },
      "source": [
        "### Exportar dataframe\n",
        "---"
      ]
    },
    {
      "cell_type": "markdown",
      "metadata": {
        "id": "O0PBoVz0ay8l"
      },
      "source": [
        "\n",
        "De la misma forma, podemos utilizar la función fwrite() para guardar un dataframe en nuestro entorno local.\n",
        "\n",
        "```\n",
        "fwrite(object, path + name)\n",
        "```\n",
        "*Nota: este método únicamente funciona al utilizarlo en nuestro entorno local, no funcionará al ejecutarlo desde Colab*\n"
      ]
    },
    {
      "cell_type": "code",
      "metadata": {
        "id": "kOpez_yLaewN"
      },
      "source": [
        "# Importamos un dataframe       \n",
        "data(USArrests)\n",
        "\n",
        "# Exportamos el dataframe (USArrests) como un archivo CSV\n",
        "fwrite(USArrests, \"USArrests.csv\") \n",
        "# Nota: aquí, como segundo parámetro, hemos únicamente especificado el nombre (sin especificar path). \n",
        "## de este modo, el archivo se almacenará automáticamente en nuestro \"working directory\""
      ],
      "execution_count": null,
      "outputs": []
    },
    {
      "cell_type": "markdown",
      "metadata": {
        "id": "LojYP0yWcHHp"
      },
      "source": [
        "El *working directory* es el *path* que se utiliza para trabajar por defecto. Podremos consultarlo utilizando la siguiente función,\n",
        "\n",
        "```\n",
        "getwd()\n",
        "```\n",
        "\n"
      ]
    },
    {
      "cell_type": "markdown",
      "metadata": {
        "id": "iIrdHlbahh6j"
      },
      "source": [
        "# DEFINIR UN OBJETO\n",
        "---\n",
        "Al igual que la mayoría de lenguajes de programación modernos, R es un lenguaje orientado a objetos. Esto significa que podemos definir objetos (o *variables*) que se almacenarán en nuestro entorno de forma temporal y para ser luego invocados a lo largo de nuestro código. Los objetos que definamos se perderán únicamente al explícitamente eliminarlos o al reiniciar nuestro entorno.\n",
        "\n",
        "Para definir un objeto utilizamos la siguiente sintaxis,\n",
        "\n",
        "\n",
        "```\n",
        "new_object = content\n",
        "```\n",
        "De forma alternativa, podemos definir un objeto utilizando la siguiente sintaxis,\n",
        "\n",
        "```\n",
        "new_object <- content\n",
        "```\n",
        "\n"
      ]
    },
    {
      "cell_type": "code",
      "metadata": {
        "id": "imA05pfnjB5W",
        "colab": {
          "base_uri": "https://localhost:8080/",
          "height": 34
        },
        "outputId": "c592bf3d-cfb9-4492-e542-0da3212140e7"
      },
      "source": [
        "# creamos dos objetos que contienen valores numéricos\n",
        "objeto_1 = 10\n",
        "objeto_2 = 2\n",
        "\n",
        "objeto_1 * objeto_2"
      ],
      "execution_count": null,
      "outputs": [
        {
          "output_type": "display_data",
          "data": {
            "text/plain": [
              "[1] 20"
            ],
            "text/latex": "20",
            "text/markdown": "20",
            "text/html": [
              "20"
            ]
          },
          "metadata": {
            "tags": []
          }
        }
      ]
    },
    {
      "cell_type": "code",
      "metadata": {
        "id": "tMraptjKjftF"
      },
      "source": [
        "# importamos el dataset de James Bond, pero esta vez lo guardaremos en un objeto. De esta forma, salvo que lo invoquemos, no lo veremos ejecutado como output\n",
        " df_james_bond = data.table::fread(\"https://data-wizards.s3.amazonaws.com/datasets/jamesbond.csv\")"
      ],
      "execution_count": null,
      "outputs": []
    },
    {
      "cell_type": "code",
      "metadata": {
        "id": "JCnpD3hqk9T0",
        "colab": {
          "base_uri": "https://localhost:8080/",
          "height": 624
        },
        "outputId": "a23a0b8a-1542-4536-da21-2669f0943675"
      },
      "source": [
        "# invocamos el objeto con el dataset de James Bond\n",
        "df_james_bond"
      ],
      "execution_count": null,
      "outputs": [
        {
          "output_type": "display_data",
          "data": {
            "text/plain": [
              "   Film                            Year Actor          Director          \n",
              "1  Dr. No                          1962 Sean Connery   Terence Young     \n",
              "2  From Russia with Love           1963 Sean Connery   Terence Young     \n",
              "3  Goldfinger                      1964 Sean Connery   Guy Hamilton      \n",
              "4  Thunderball                     1965 Sean Connery   Terence Young     \n",
              "5  Casino Royale                   1967 David Niven    Ken Hughes        \n",
              "6  You Only Live Twice             1967 Sean Connery   Lewis Gilbert     \n",
              "7  On Her Majesty's Secret Service 1969 George Lazenby Peter R. Hunt     \n",
              "8  Diamonds Are Forever            1971 Sean Connery   Guy Hamilton      \n",
              "9  Live and Let Die                1973 Roger Moore    Guy Hamilton      \n",
              "10 The Man with the Golden Gun     1974 Roger Moore    Guy Hamilton      \n",
              "11 The Spy Who Loved Me            1977 Roger Moore    Lewis Gilbert     \n",
              "12 Moonraker                       1979 Roger Moore    Lewis Gilbert     \n",
              "13 For Your Eyes Only              1981 Roger Moore    John Glen         \n",
              "14 Never Say Never Again           1983 Sean Connery   Irvin Kershner    \n",
              "15 Octopussy                       1983 Roger Moore    John Glen         \n",
              "16 A View to a Kill                1985 Roger Moore    John Glen         \n",
              "17 The Living Daylights            1987 Timothy Dalton John Glen         \n",
              "18 Licence to Kill                 1989 Timothy Dalton John Glen         \n",
              "19 GoldenEye                       1995 Pierce Brosnan Martin Campbell   \n",
              "20 Tomorrow Never Dies             1997 Pierce Brosnan Roger Spottiswoode\n",
              "21 The World Is Not Enough         1999 Pierce Brosnan Michael Apted     \n",
              "22 Die Another Day                 2002 Pierce Brosnan Lee Tamahori      \n",
              "23 Casino Royale                   2006 Daniel Craig   Martin Campbell   \n",
              "24 Quantum of Solace               2008 Daniel Craig   Marc Forster      \n",
              "25 Skyfall                         2012 Daniel Craig   Sam Mendes        \n",
              "26 Spectre                         2015 Daniel Craig   Sam Mendes        \n",
              "   Box Office Budget Bond Actor Salary\n",
              "1  448.8        7.0   0.6             \n",
              "2  543.8       12.6   1.6             \n",
              "3  820.4       18.6   3.2             \n",
              "4  848.1       41.9   4.7             \n",
              "5  315.0       85.0    NA             \n",
              "6  514.2       59.9   4.4             \n",
              "7  291.5       37.3   0.6             \n",
              "8  442.5       34.7   5.8             \n",
              "9  460.3       30.8    NA             \n",
              "10 334.0       27.7    NA             \n",
              "11 533.0       45.1    NA             \n",
              "12 535.0       91.5    NA             \n",
              "13 449.4       60.2    NA             \n",
              "14 380.0       86.0    NA             \n",
              "15 373.8       53.9   7.8             \n",
              "16 275.2       54.5   9.1             \n",
              "17 313.5       68.8   5.2             \n",
              "18 250.9       56.7   7.9             \n",
              "19 518.5       76.9   5.1             \n",
              "20 463.2      133.9  10.0             \n",
              "21 439.5      158.3  13.5             \n",
              "22 465.4      154.2  17.9             \n",
              "23 581.5      145.3   3.3             \n",
              "24 514.2      181.4   8.1             \n",
              "25 943.5      170.2  14.5             \n",
              "26 726.7      206.3    NA             "
            ],
            "text/latex": "A data.table: 26 × 7\n\\begin{tabular}{lllllll}\n Film & Year & Actor & Director & Box Office & Budget & Bond Actor Salary\\\\\n <chr> & <int> & <chr> & <chr> & <dbl> & <dbl> & <dbl>\\\\\n\\hline\n\t Dr. No                          & 1962 & Sean Connery   & Terence Young      & 448.8 &   7.0 &  0.6\\\\\n\t From Russia with Love           & 1963 & Sean Connery   & Terence Young      & 543.8 &  12.6 &  1.6\\\\\n\t Goldfinger                      & 1964 & Sean Connery   & Guy Hamilton       & 820.4 &  18.6 &  3.2\\\\\n\t Thunderball                     & 1965 & Sean Connery   & Terence Young      & 848.1 &  41.9 &  4.7\\\\\n\t Casino Royale                   & 1967 & David Niven    & Ken Hughes         & 315.0 &  85.0 &   NA\\\\\n\t You Only Live Twice             & 1967 & Sean Connery   & Lewis Gilbert      & 514.2 &  59.9 &  4.4\\\\\n\t On Her Majesty's Secret Service & 1969 & George Lazenby & Peter R. Hunt      & 291.5 &  37.3 &  0.6\\\\\n\t Diamonds Are Forever            & 1971 & Sean Connery   & Guy Hamilton       & 442.5 &  34.7 &  5.8\\\\\n\t Live and Let Die                & 1973 & Roger Moore    & Guy Hamilton       & 460.3 &  30.8 &   NA\\\\\n\t The Man with the Golden Gun     & 1974 & Roger Moore    & Guy Hamilton       & 334.0 &  27.7 &   NA\\\\\n\t The Spy Who Loved Me            & 1977 & Roger Moore    & Lewis Gilbert      & 533.0 &  45.1 &   NA\\\\\n\t Moonraker                       & 1979 & Roger Moore    & Lewis Gilbert      & 535.0 &  91.5 &   NA\\\\\n\t For Your Eyes Only              & 1981 & Roger Moore    & John Glen          & 449.4 &  60.2 &   NA\\\\\n\t Never Say Never Again           & 1983 & Sean Connery   & Irvin Kershner     & 380.0 &  86.0 &   NA\\\\\n\t Octopussy                       & 1983 & Roger Moore    & John Glen          & 373.8 &  53.9 &  7.8\\\\\n\t A View to a Kill                & 1985 & Roger Moore    & John Glen          & 275.2 &  54.5 &  9.1\\\\\n\t The Living Daylights            & 1987 & Timothy Dalton & John Glen          & 313.5 &  68.8 &  5.2\\\\\n\t Licence to Kill                 & 1989 & Timothy Dalton & John Glen          & 250.9 &  56.7 &  7.9\\\\\n\t GoldenEye                       & 1995 & Pierce Brosnan & Martin Campbell    & 518.5 &  76.9 &  5.1\\\\\n\t Tomorrow Never Dies             & 1997 & Pierce Brosnan & Roger Spottiswoode & 463.2 & 133.9 & 10.0\\\\\n\t The World Is Not Enough         & 1999 & Pierce Brosnan & Michael Apted      & 439.5 & 158.3 & 13.5\\\\\n\t Die Another Day                 & 2002 & Pierce Brosnan & Lee Tamahori       & 465.4 & 154.2 & 17.9\\\\\n\t Casino Royale                   & 2006 & Daniel Craig   & Martin Campbell    & 581.5 & 145.3 &  3.3\\\\\n\t Quantum of Solace               & 2008 & Daniel Craig   & Marc Forster       & 514.2 & 181.4 &  8.1\\\\\n\t Skyfall                         & 2012 & Daniel Craig   & Sam Mendes         & 943.5 & 170.2 & 14.5\\\\\n\t Spectre                         & 2015 & Daniel Craig   & Sam Mendes         & 726.7 & 206.3 &   NA\\\\\n\\end{tabular}\n",
            "text/markdown": "\nA data.table: 26 × 7\n\n| Film &lt;chr&gt; | Year &lt;int&gt; | Actor &lt;chr&gt; | Director &lt;chr&gt; | Box Office &lt;dbl&gt; | Budget &lt;dbl&gt; | Bond Actor Salary &lt;dbl&gt; |\n|---|---|---|---|---|---|---|\n| Dr. No                          | 1962 | Sean Connery   | Terence Young      | 448.8 |   7.0 |  0.6 |\n| From Russia with Love           | 1963 | Sean Connery   | Terence Young      | 543.8 |  12.6 |  1.6 |\n| Goldfinger                      | 1964 | Sean Connery   | Guy Hamilton       | 820.4 |  18.6 |  3.2 |\n| Thunderball                     | 1965 | Sean Connery   | Terence Young      | 848.1 |  41.9 |  4.7 |\n| Casino Royale                   | 1967 | David Niven    | Ken Hughes         | 315.0 |  85.0 |   NA |\n| You Only Live Twice             | 1967 | Sean Connery   | Lewis Gilbert      | 514.2 |  59.9 |  4.4 |\n| On Her Majesty's Secret Service | 1969 | George Lazenby | Peter R. Hunt      | 291.5 |  37.3 |  0.6 |\n| Diamonds Are Forever            | 1971 | Sean Connery   | Guy Hamilton       | 442.5 |  34.7 |  5.8 |\n| Live and Let Die                | 1973 | Roger Moore    | Guy Hamilton       | 460.3 |  30.8 |   NA |\n| The Man with the Golden Gun     | 1974 | Roger Moore    | Guy Hamilton       | 334.0 |  27.7 |   NA |\n| The Spy Who Loved Me            | 1977 | Roger Moore    | Lewis Gilbert      | 533.0 |  45.1 |   NA |\n| Moonraker                       | 1979 | Roger Moore    | Lewis Gilbert      | 535.0 |  91.5 |   NA |\n| For Your Eyes Only              | 1981 | Roger Moore    | John Glen          | 449.4 |  60.2 |   NA |\n| Never Say Never Again           | 1983 | Sean Connery   | Irvin Kershner     | 380.0 |  86.0 |   NA |\n| Octopussy                       | 1983 | Roger Moore    | John Glen          | 373.8 |  53.9 |  7.8 |\n| A View to a Kill                | 1985 | Roger Moore    | John Glen          | 275.2 |  54.5 |  9.1 |\n| The Living Daylights            | 1987 | Timothy Dalton | John Glen          | 313.5 |  68.8 |  5.2 |\n| Licence to Kill                 | 1989 | Timothy Dalton | John Glen          | 250.9 |  56.7 |  7.9 |\n| GoldenEye                       | 1995 | Pierce Brosnan | Martin Campbell    | 518.5 |  76.9 |  5.1 |\n| Tomorrow Never Dies             | 1997 | Pierce Brosnan | Roger Spottiswoode | 463.2 | 133.9 | 10.0 |\n| The World Is Not Enough         | 1999 | Pierce Brosnan | Michael Apted      | 439.5 | 158.3 | 13.5 |\n| Die Another Day                 | 2002 | Pierce Brosnan | Lee Tamahori       | 465.4 | 154.2 | 17.9 |\n| Casino Royale                   | 2006 | Daniel Craig   | Martin Campbell    | 581.5 | 145.3 |  3.3 |\n| Quantum of Solace               | 2008 | Daniel Craig   | Marc Forster       | 514.2 | 181.4 |  8.1 |\n| Skyfall                         | 2012 | Daniel Craig   | Sam Mendes         | 943.5 | 170.2 | 14.5 |\n| Spectre                         | 2015 | Daniel Craig   | Sam Mendes         | 726.7 | 206.3 |   NA |\n\n",
            "text/html": [
              "<table>\n",
              "<caption>A data.table: 26 × 7</caption>\n",
              "<thead>\n",
              "\t<tr><th scope=col>Film</th><th scope=col>Year</th><th scope=col>Actor</th><th scope=col>Director</th><th scope=col>Box Office</th><th scope=col>Budget</th><th scope=col>Bond Actor Salary</th></tr>\n",
              "\t<tr><th scope=col>&lt;chr&gt;</th><th scope=col>&lt;int&gt;</th><th scope=col>&lt;chr&gt;</th><th scope=col>&lt;chr&gt;</th><th scope=col>&lt;dbl&gt;</th><th scope=col>&lt;dbl&gt;</th><th scope=col>&lt;dbl&gt;</th></tr>\n",
              "</thead>\n",
              "<tbody>\n",
              "\t<tr><td>Dr. No                         </td><td>1962</td><td>Sean Connery  </td><td>Terence Young     </td><td>448.8</td><td>  7.0</td><td> 0.6</td></tr>\n",
              "\t<tr><td>From Russia with Love          </td><td>1963</td><td>Sean Connery  </td><td>Terence Young     </td><td>543.8</td><td> 12.6</td><td> 1.6</td></tr>\n",
              "\t<tr><td>Goldfinger                     </td><td>1964</td><td>Sean Connery  </td><td>Guy Hamilton      </td><td>820.4</td><td> 18.6</td><td> 3.2</td></tr>\n",
              "\t<tr><td>Thunderball                    </td><td>1965</td><td>Sean Connery  </td><td>Terence Young     </td><td>848.1</td><td> 41.9</td><td> 4.7</td></tr>\n",
              "\t<tr><td>Casino Royale                  </td><td>1967</td><td>David Niven   </td><td>Ken Hughes        </td><td>315.0</td><td> 85.0</td><td>  NA</td></tr>\n",
              "\t<tr><td>You Only Live Twice            </td><td>1967</td><td>Sean Connery  </td><td>Lewis Gilbert     </td><td>514.2</td><td> 59.9</td><td> 4.4</td></tr>\n",
              "\t<tr><td>On Her Majesty's Secret Service</td><td>1969</td><td>George Lazenby</td><td>Peter R. Hunt     </td><td>291.5</td><td> 37.3</td><td> 0.6</td></tr>\n",
              "\t<tr><td>Diamonds Are Forever           </td><td>1971</td><td>Sean Connery  </td><td>Guy Hamilton      </td><td>442.5</td><td> 34.7</td><td> 5.8</td></tr>\n",
              "\t<tr><td>Live and Let Die               </td><td>1973</td><td>Roger Moore   </td><td>Guy Hamilton      </td><td>460.3</td><td> 30.8</td><td>  NA</td></tr>\n",
              "\t<tr><td>The Man with the Golden Gun    </td><td>1974</td><td>Roger Moore   </td><td>Guy Hamilton      </td><td>334.0</td><td> 27.7</td><td>  NA</td></tr>\n",
              "\t<tr><td>The Spy Who Loved Me           </td><td>1977</td><td>Roger Moore   </td><td>Lewis Gilbert     </td><td>533.0</td><td> 45.1</td><td>  NA</td></tr>\n",
              "\t<tr><td>Moonraker                      </td><td>1979</td><td>Roger Moore   </td><td>Lewis Gilbert     </td><td>535.0</td><td> 91.5</td><td>  NA</td></tr>\n",
              "\t<tr><td>For Your Eyes Only             </td><td>1981</td><td>Roger Moore   </td><td>John Glen         </td><td>449.4</td><td> 60.2</td><td>  NA</td></tr>\n",
              "\t<tr><td>Never Say Never Again          </td><td>1983</td><td>Sean Connery  </td><td>Irvin Kershner    </td><td>380.0</td><td> 86.0</td><td>  NA</td></tr>\n",
              "\t<tr><td>Octopussy                      </td><td>1983</td><td>Roger Moore   </td><td>John Glen         </td><td>373.8</td><td> 53.9</td><td> 7.8</td></tr>\n",
              "\t<tr><td>A View to a Kill               </td><td>1985</td><td>Roger Moore   </td><td>John Glen         </td><td>275.2</td><td> 54.5</td><td> 9.1</td></tr>\n",
              "\t<tr><td>The Living Daylights           </td><td>1987</td><td>Timothy Dalton</td><td>John Glen         </td><td>313.5</td><td> 68.8</td><td> 5.2</td></tr>\n",
              "\t<tr><td>Licence to Kill                </td><td>1989</td><td>Timothy Dalton</td><td>John Glen         </td><td>250.9</td><td> 56.7</td><td> 7.9</td></tr>\n",
              "\t<tr><td>GoldenEye                      </td><td>1995</td><td>Pierce Brosnan</td><td>Martin Campbell   </td><td>518.5</td><td> 76.9</td><td> 5.1</td></tr>\n",
              "\t<tr><td>Tomorrow Never Dies            </td><td>1997</td><td>Pierce Brosnan</td><td>Roger Spottiswoode</td><td>463.2</td><td>133.9</td><td>10.0</td></tr>\n",
              "\t<tr><td>The World Is Not Enough        </td><td>1999</td><td>Pierce Brosnan</td><td>Michael Apted     </td><td>439.5</td><td>158.3</td><td>13.5</td></tr>\n",
              "\t<tr><td>Die Another Day                </td><td>2002</td><td>Pierce Brosnan</td><td>Lee Tamahori      </td><td>465.4</td><td>154.2</td><td>17.9</td></tr>\n",
              "\t<tr><td>Casino Royale                  </td><td>2006</td><td>Daniel Craig  </td><td>Martin Campbell   </td><td>581.5</td><td>145.3</td><td> 3.3</td></tr>\n",
              "\t<tr><td>Quantum of Solace              </td><td>2008</td><td>Daniel Craig  </td><td>Marc Forster      </td><td>514.2</td><td>181.4</td><td> 8.1</td></tr>\n",
              "\t<tr><td>Skyfall                        </td><td>2012</td><td>Daniel Craig  </td><td>Sam Mendes        </td><td>943.5</td><td>170.2</td><td>14.5</td></tr>\n",
              "\t<tr><td>Spectre                        </td><td>2015</td><td>Daniel Craig  </td><td>Sam Mendes        </td><td>726.7</td><td>206.3</td><td>  NA</td></tr>\n",
              "</tbody>\n",
              "</table>\n"
            ]
          },
          "metadata": {
            "tags": []
          }
        }
      ]
    },
    {
      "cell_type": "markdown",
      "metadata": {
        "id": "NcEJO2jhnd7-"
      },
      "source": [
        "Para eliminar un objeto utilizamos la siguiente sintaxis,\n",
        "```\n",
        "remove(object)\n",
        "```\n",
        "\n"
      ]
    },
    {
      "cell_type": "code",
      "metadata": {
        "id": "rrYJJrPplDr8",
        "colab": {
          "base_uri": "https://localhost:8080/",
          "height": 130
        },
        "outputId": "e1171b6d-210f-4391-c3fa-75e734f81a32"
      },
      "source": [
        "# eliminamos el objeto que contiene el data frame de James Bond\n",
        "remove(df_james_bond)"
      ],
      "execution_count": null,
      "outputs": [
        {
          "output_type": "stream",
          "text": [
            "Warning message in remove(df_james_bond):\n",
            "“object 'df_james_bond' not found”\n"
          ],
          "name": "stderr"
        },
        {
          "output_type": "error",
          "ename": "ERROR",
          "evalue": "ignored",
          "traceback": [
            "Error in eval(expr, envir, enclos): object 'df_james_bond' not found\nTraceback:\n"
          ]
        }
      ]
    },
    {
      "cell_type": "code",
      "metadata": {
        "id": "3egqvblulKeL",
        "colab": {
          "base_uri": "https://localhost:8080/",
          "height": 96
        },
        "outputId": "37c8b8e3-34ed-48e1-8382-9c1ae4f26f10"
      },
      "source": [
        "df_james_bond # tras haberlo eliminado, ahora no podremos invocalo (nos dará error)"
      ],
      "execution_count": null,
      "outputs": [
        {
          "output_type": "error",
          "ename": "ERROR",
          "evalue": "ignored",
          "traceback": [
            "Error in eval(expr, envir, enclos): object 'df_james_bond' not found\nTraceback:\n"
          ]
        }
      ]
    },
    {
      "cell_type": "markdown",
      "metadata": {
        "id": "SNme5GQxpl3k"
      },
      "source": [
        "Podemos consultar los objetos que tengamos definidos en nuestro entorno utilizando la función ls()\n",
        "\n",
        "```\n",
        "ls()\n",
        "```"
      ]
    },
    {
      "cell_type": "code",
      "metadata": {
        "colab": {
          "base_uri": "https://localhost:8080/",
          "height": 34
        },
        "id": "JSThY3UKcQ_G",
        "outputId": "66df10aa-64ed-4ba1-d263-9aabf2700b8a"
      },
      "source": [
        "# consultamos los objetos que estén disponibles en nuestro entorno\n",
        "ls()"
      ],
      "execution_count": null,
      "outputs": [
        {
          "output_type": "display_data",
          "data": {
            "text/plain": [
              "[1] \"objeto_1\" \"objeto_2\""
            ],
            "text/latex": "\\begin{enumerate*}\n\\item 'objeto\\_1'\n\\item 'objeto\\_2'\n\\end{enumerate*}\n",
            "text/markdown": "1. 'objeto_1'\n2. 'objeto_2'\n\n\n",
            "text/html": [
              "<style>\n",
              ".list-inline {list-style: none; margin:0; padding: 0}\n",
              ".list-inline>li {display: inline-block}\n",
              ".list-inline>li:not(:last-child)::after {content: \"\\00b7\"; padding: 0 .5ex}\n",
              "</style>\n",
              "<ol class=list-inline><li>'objeto_1'</li><li>'objeto_2'</li></ol>\n"
            ]
          },
          "metadata": {
            "tags": []
          }
        }
      ]
    },
    {
      "cell_type": "markdown",
      "metadata": {
        "id": "6HqskeOwrQjc"
      },
      "source": [
        "# TIPOS DE OBJETO\n",
        "---\n",
        "R reconoce varios tipos de objetos,\n",
        "*   Numéricos (números)\n",
        "*   Alfanuméricos (texto)\n",
        "*   Lógicos (verdadero/ falso)\n"
      ]
    },
    {
      "cell_type": "markdown",
      "metadata": {
        "id": "PbKIeucpo5DP"
      },
      "source": [
        "### Variables numéricas\n",
        "---\n",
        "\n"
      ]
    },
    {
      "cell_type": "code",
      "metadata": {
        "id": "tMKeDxeVtnN8",
        "colab": {
          "base_uri": "https://localhost:8080/",
          "height": 34
        },
        "outputId": "1f059161-c643-4e89-bfd8-aa9eb6df2dbd"
      },
      "source": [
        "numeric_value = 10        # defino un nuevo objeto con un valor numérico \n",
        "class(numeric_value)      # compruebo la clase/ tipo de objeto"
      ],
      "execution_count": null,
      "outputs": [
        {
          "output_type": "display_data",
          "data": {
            "text/plain": [
              "[1] \"numeric\""
            ],
            "text/latex": "'numeric'",
            "text/markdown": "'numeric'",
            "text/html": [
              "'numeric'"
            ]
          },
          "metadata": {
            "tags": []
          }
        }
      ]
    },
    {
      "cell_type": "code",
      "metadata": {
        "id": "GrxGCTHTuR1M",
        "colab": {
          "base_uri": "https://localhost:8080/",
          "height": 34
        },
        "outputId": "991976a4-f100-44a0-8ccd-36aca0f47ebd"
      },
      "source": [
        "numeric_value = 2.5       # defino un nuevo objeto con un valor numérico \n",
        "class(numeric_value)      # compruebo la clase/ tipo de objeto"
      ],
      "execution_count": null,
      "outputs": [
        {
          "output_type": "display_data",
          "data": {
            "text/plain": [
              "[1] \"numeric\""
            ],
            "text/latex": "'numeric'",
            "text/markdown": "'numeric'",
            "text/html": [
              "'numeric'"
            ]
          },
          "metadata": {
            "tags": []
          }
        }
      ]
    },
    {
      "cell_type": "markdown",
      "metadata": {
        "id": "Q2n1HP4YpBGi"
      },
      "source": [
        "### Variables alfanuméricas/ texto\n",
        "---\n",
        "\n"
      ]
    },
    {
      "cell_type": "code",
      "metadata": {
        "id": "nSQO9B_ktuhH",
        "colab": {
          "base_uri": "https://localhost:8080/",
          "height": 34
        },
        "outputId": "0b0eefe7-e2fb-4ed2-985e-fd58f4b5039b"
      },
      "source": [
        "text_value = \"mi texto\"   # defino un nuevo objeto con un valor texto \n",
        "class(text_value)         # compruebo la clase/ tipo de objeto"
      ],
      "execution_count": null,
      "outputs": [
        {
          "output_type": "display_data",
          "data": {
            "text/plain": [
              "[1] \"character\""
            ],
            "text/latex": "'character'",
            "text/markdown": "'character'",
            "text/html": [
              "'character'"
            ]
          },
          "metadata": {
            "tags": []
          }
        }
      ]
    },
    {
      "cell_type": "markdown",
      "metadata": {
        "id": "2RsEbWB6pTbp"
      },
      "source": [
        "### Variables lógicas\n",
        "---\n"
      ]
    },
    {
      "cell_type": "markdown",
      "metadata": {
        "id": "jP2f66yLpOem"
      },
      "source": [
        ""
      ]
    },
    {
      "cell_type": "code",
      "metadata": {
        "id": "-Ry10t4TtmVT",
        "colab": {
          "base_uri": "https://localhost:8080/",
          "height": 34
        },
        "outputId": "b34f39d2-f37f-4f4b-b4f0-d6933cd1278b"
      },
      "source": [
        "logic_value = FALSE       # defino un nuevo objeto con un valor lógico \n",
        "class(logic_value)        # compruebo la clase/ tipo de objeto"
      ],
      "execution_count": null,
      "outputs": [
        {
          "output_type": "display_data",
          "data": {
            "text/plain": [
              "[1] \"logical\""
            ],
            "text/latex": "'logical'",
            "text/markdown": "'logical'",
            "text/html": [
              "'logical'"
            ]
          },
          "metadata": {
            "tags": []
          }
        }
      ]
    },
    {
      "cell_type": "markdown",
      "metadata": {
        "id": "zrunTZ7kqY0j"
      },
      "source": [
        "# ESTRUCTURAS DE DATOS\n",
        "---\n",
        "R contempla en su estructura base distintos formatos de almacenamiento de datos, cada uno de ellos con características y tratamiento propio. \n",
        "\n",
        "Las estructuras de datos básicos son cuatro,\n",
        "*   *Vectores*\n",
        "*   *Data Frames*\n",
        "*   *Factores*\n",
        "*   *Listas*\n",
        "\n"
      ]
    },
    {
      "cell_type": "markdown",
      "metadata": {
        "id": "AhSmKQwNGriC"
      },
      "source": [
        "### Vectores\n",
        "---\n",
        "Se trata de la estructura más elemental en R, unidimensional e indexada que permite almacenar distintos tipos de objetos. \n",
        "\n",
        "Para definir un vector utilizamos la siguiente sintaxis,\n",
        "\n",
        "```\n",
        "c(1,2,3,4,5)\n",
        "```"
      ]
    },
    {
      "cell_type": "code",
      "metadata": {
        "id": "6q9L-VamrdpV",
        "colab": {
          "base_uri": "https://localhost:8080/",
          "height": 34
        },
        "outputId": "a40c33ba-a7c5-4e78-ef02-caa29a04f609"
      },
      "source": [
        "# definimos un vector y lo guardamos en un objeto\n",
        "my_vector = c(1,\"a\",3,TRUE,5)\n",
        "my_vector # invocamos el objeto"
      ],
      "execution_count": null,
      "outputs": [
        {
          "output_type": "display_data",
          "data": {
            "text/plain": [
              "[1] \"1\"    \"a\"    \"3\"    \"TRUE\" \"5\"   "
            ],
            "text/latex": "\\begin{enumerate*}\n\\item '1'\n\\item 'a'\n\\item '3'\n\\item 'TRUE'\n\\item '5'\n\\end{enumerate*}\n",
            "text/markdown": "1. '1'\n2. 'a'\n3. '3'\n4. 'TRUE'\n5. '5'\n\n\n",
            "text/html": [
              "<style>\n",
              ".list-inline {list-style: none; margin:0; padding: 0}\n",
              ".list-inline>li {display: inline-block}\n",
              ".list-inline>li:not(:last-child)::after {content: \"\\00b7\"; padding: 0 .5ex}\n",
              "</style>\n",
              "<ol class=list-inline><li>'1'</li><li>'a'</li><li>'3'</li><li>'TRUE'</li><li>'5'</li></ol>\n"
            ]
          },
          "metadata": {
            "tags": []
          }
        }
      ]
    },
    {
      "cell_type": "code",
      "metadata": {
        "colab": {
          "base_uri": "https://localhost:8080/",
          "height": 34
        },
        "id": "_NOZee68cqLa",
        "outputId": "1a326c94-61b6-4ab6-e100-087000be64f7"
      },
      "source": [
        "# para consultar el valor de un elemento en concreto, utilizamos la posición del elemento dentro del vector\n",
        "# nota: R indexa al 1 (el 1 es el primer elemento)\n",
        "my_vector[2]"
      ],
      "execution_count": null,
      "outputs": [
        {
          "output_type": "display_data",
          "data": {
            "text/plain": [
              "[1] \"a\""
            ],
            "text/latex": "'a'",
            "text/markdown": "'a'",
            "text/html": [
              "'a'"
            ]
          },
          "metadata": {
            "tags": []
          }
        }
      ]
    },
    {
      "cell_type": "markdown",
      "metadata": {
        "id": "Sy8JvQbi57jp"
      },
      "source": [
        "### Data Frames\n",
        "\n",
        "\n",
        "---\n",
        "\n",
        "\n",
        "Un data frame es una tabla de datos, una estructura de dos dimensiones formada por filas y columnas. Se trata de la estructura de datos más utilizada para el análisis de datos.\n",
        "\n",
        "*Nota: Data Frames vs. Matrices*\n",
        "\n",
        "\n",
        "---\n",
        "\n",
        "\n",
        "R incluye matrices como estructuras de datos. Estas también son estructuras de dos dimensiones pero, a diferencia de un *data frame*, una *matriz* únicamente permite un mismo tipo de variable. No son útiles para el análisis de datos, por tanto no serán abordadas en el curso."
      ]
    },
    {
      "cell_type": "code",
      "metadata": {
        "id": "JxSXzZ-_wS-g",
        "colab": {
          "base_uri": "https://localhost:8080/",
          "height": 183
        },
        "outputId": "51a6d63b-64a1-4605-e6b1-7cc001149154"
      },
      "source": [
        "# comenzamos definiendo tres vectores, cada uno de ellos almacenará un único tipo de objeto\n",
        "col_1 = c(\"a\",\"b\",\"c\",\"d\",\"e\")\n",
        "col_2 = c(1,2,3,4,5)\n",
        "col_3 = c(TRUE,TRUE,TRUE,FALSE,FALSE)\n",
        "\n",
        "# utilizamos la función data.frame() para convertir cada vector en una columna del data frame\n",
        "my_data_frame = data.frame(col_1,col_2,col_3) \n",
        "my_data_frame"
      ],
      "execution_count": null,
      "outputs": [
        {
          "output_type": "display_data",
          "data": {
            "text/plain": [
              "  col_1 col_2 col_3\n",
              "1 a     1      TRUE\n",
              "2 b     2      TRUE\n",
              "3 c     3      TRUE\n",
              "4 d     4     FALSE\n",
              "5 e     5     FALSE"
            ],
            "text/latex": "A data.frame: 5 × 3\n\\begin{tabular}{lll}\n col\\_1 & col\\_2 & col\\_3\\\\\n <chr> & <dbl> & <lgl>\\\\\n\\hline\n\t a & 1 &  TRUE\\\\\n\t b & 2 &  TRUE\\\\\n\t c & 3 &  TRUE\\\\\n\t d & 4 & FALSE\\\\\n\t e & 5 & FALSE\\\\\n\\end{tabular}\n",
            "text/markdown": "\nA data.frame: 5 × 3\n\n| col_1 &lt;chr&gt; | col_2 &lt;dbl&gt; | col_3 &lt;lgl&gt; |\n|---|---|---|\n| a | 1 |  TRUE |\n| b | 2 |  TRUE |\n| c | 3 |  TRUE |\n| d | 4 | FALSE |\n| e | 5 | FALSE |\n\n",
            "text/html": [
              "<table>\n",
              "<caption>A data.frame: 5 × 3</caption>\n",
              "<thead>\n",
              "\t<tr><th scope=col>col_1</th><th scope=col>col_2</th><th scope=col>col_3</th></tr>\n",
              "\t<tr><th scope=col>&lt;chr&gt;</th><th scope=col>&lt;dbl&gt;</th><th scope=col>&lt;lgl&gt;</th></tr>\n",
              "</thead>\n",
              "<tbody>\n",
              "\t<tr><td>a</td><td>1</td><td> TRUE</td></tr>\n",
              "\t<tr><td>b</td><td>2</td><td> TRUE</td></tr>\n",
              "\t<tr><td>c</td><td>3</td><td> TRUE</td></tr>\n",
              "\t<tr><td>d</td><td>4</td><td>FALSE</td></tr>\n",
              "\t<tr><td>e</td><td>5</td><td>FALSE</td></tr>\n",
              "</tbody>\n",
              "</table>\n"
            ]
          },
          "metadata": {
            "tags": []
          }
        }
      ]
    },
    {
      "cell_type": "code",
      "metadata": {
        "colab": {
          "base_uri": "https://localhost:8080/",
          "height": 34
        },
        "id": "Y1Z5xeXAffYD",
        "outputId": "a9b7e6fe-9d9c-46c0-d613-b0c7775652ee"
      },
      "source": [
        "# a continuación, consultaremos el valor de uno de los elementos almacenados\n",
        "# al tratarse de una estructura de dos dimmensiones, utilizaremos dos parámtros (fila y columna, en ese órden)\n",
        "my_data_frame[3,2]"
      ],
      "execution_count": null,
      "outputs": [
        {
          "output_type": "display_data",
          "data": {
            "text/plain": [
              "[1] 3"
            ],
            "text/latex": "3",
            "text/markdown": "3",
            "text/html": [
              "3"
            ]
          },
          "metadata": {
            "tags": []
          }
        }
      ]
    },
    {
      "cell_type": "markdown",
      "metadata": {
        "id": "PdtpHXoXbKtk"
      },
      "source": [
        "### Factores\n",
        "---\n",
        "Los factores son vectores que contienen variables categóricas, es decir, aquellas con valores únicos limitados. Definimos factores a partir de vectores.\n",
        "\n",
        "```\n",
        "factor(vector)\n",
        "```\n",
        "\n"
      ]
    },
    {
      "cell_type": "code",
      "metadata": {
        "id": "4bcunzM3kR94",
        "colab": {
          "base_uri": "https://localhost:8080/",
          "height": 68
        },
        "outputId": "d8815f18-ab24-4bce-8715-2fbcd60ea22b"
      },
      "source": [
        "my_vector = c('a','a','a','b','b') # creamos un vector\n",
        "my_factor = factor(my_vector) # transformamos vector en factor\n",
        "my_factor # invocamos factor"
      ],
      "execution_count": null,
      "outputs": [
        {
          "output_type": "display_data",
          "data": {
            "text/plain": [
              "[1] a a a b b\n",
              "Levels: a b"
            ],
            "text/latex": "\\begin{enumerate*}\n\\item a\n\\item a\n\\item a\n\\item b\n\\item b\n\\end{enumerate*}\n\n\\emph{Levels}: \\begin{enumerate*}\n\\item 'a'\n\\item 'b'\n\\end{enumerate*}\n",
            "text/markdown": "1. a\n2. a\n3. a\n4. b\n5. b\n\n\n\n**Levels**: 1. 'a'\n2. 'b'\n\n\n",
            "text/html": [
              "<style>\n",
              ".list-inline {list-style: none; margin:0; padding: 0}\n",
              ".list-inline>li {display: inline-block}\n",
              ".list-inline>li:not(:last-child)::after {content: \"\\00b7\"; padding: 0 .5ex}\n",
              "</style>\n",
              "<ol class=list-inline><li>a</li><li>a</li><li>a</li><li>b</li><li>b</li></ol>\n",
              "\n",
              "<details>\n",
              "\t<summary style=display:list-item;cursor:pointer>\n",
              "\t\t<strong>Levels</strong>:\n",
              "\t</summary>\n",
              "\t<style>\n",
              "\t.list-inline {list-style: none; margin:0; padding: 0}\n",
              "\t.list-inline>li {display: inline-block}\n",
              "\t.list-inline>li:not(:last-child)::after {content: \"\\00b7\"; padding: 0 .5ex}\n",
              "\t</style>\n",
              "\t<ol class=list-inline><li>'a'</li><li>'b'</li></ol>\n",
              "</details>"
            ]
          },
          "metadata": {
            "tags": []
          }
        }
      ]
    },
    {
      "cell_type": "code",
      "metadata": {
        "id": "uA5YVKJPkvjW",
        "colab": {
          "base_uri": "https://localhost:8080/",
          "height": 34
        },
        "outputId": "79532b5d-76b6-4ffa-97ea-f750e347e3e8"
      },
      "source": [
        "summary(my_factor) # podemos ver los valores únicos de nuestro factor"
      ],
      "execution_count": null,
      "outputs": [
        {
          "output_type": "display_data",
          "data": {
            "text/plain": [
              "a b \n",
              "3 2 "
            ],
            "text/latex": "\\begin{description*}\n\\item[a] 3\n\\item[b] 2\n\\end{description*}\n",
            "text/markdown": "a\n:   3b\n:   2\n\n",
            "text/html": [
              "<style>\n",
              ".dl-inline {width: auto; margin:0; padding: 0}\n",
              ".dl-inline>dt, .dl-inline>dd {float: none; width: auto; display: inline-block}\n",
              ".dl-inline>dt::after {content: \":\\0020\"; padding-right: .5ex}\n",
              ".dl-inline>dt:not(:first-of-type) {padding-left: .5ex}\n",
              "</style><dl class=dl-inline><dt>a</dt><dd>3</dd><dt>b</dt><dd>2</dd></dl>\n"
            ]
          },
          "metadata": {
            "tags": []
          }
        }
      ]
    },
    {
      "cell_type": "markdown",
      "metadata": {
        "id": "lWHsrMlU0HwP"
      },
      "source": [
        "### Listas\n",
        "\n",
        "\n",
        "---\n",
        "\n",
        "\n",
        "Se trata de una estructura poco utilizada para el análisis de datos, más utilizada en programación. Una lista es un contenedor de elementos ordenados, podemos incluir cualquier tipo de varible o estructuras y luego invocarlo según su posición en el índice.\n",
        "\n",
        "```\n",
        "list()\n",
        "```\n",
        "\n"
      ]
    },
    {
      "cell_type": "code",
      "metadata": {
        "id": "ctb7dwmAvTNY",
        "colab": {
          "base_uri": "https://localhost:8080/",
          "height": 113
        },
        "outputId": "c2521eb7-f8eb-49a6-d54a-457170459ded"
      },
      "source": [
        "# creamos una lista\n",
        "my_list = list(\n",
        "  \"abc\"           # el primer elemento es texto\n",
        "  ,2.5            # el segundo elemento es numérico\n",
        "  ,TRUE           # el tercer elemento es lógico\n",
        "  ,c(1,2,3)       # el cuarto elemento es un vector\n",
        ")\n",
        "\n",
        "my_list # invocamos la lista"
      ],
      "execution_count": null,
      "outputs": [
        {
          "output_type": "display_data",
          "data": {
            "text/plain": [
              "[[1]]\n",
              "[1] \"abc\"\n",
              "\n",
              "[[2]]\n",
              "[1] 2.5\n",
              "\n",
              "[[3]]\n",
              "[1] TRUE\n",
              "\n",
              "[[4]]\n",
              "[1] 1 2 3\n"
            ],
            "text/latex": "\\begin{enumerate}\n\\item 'abc'\n\\item 2.5\n\\item TRUE\n\\item \\begin{enumerate*}\n\\item 1\n\\item 2\n\\item 3\n\\end{enumerate*}\n\n\\end{enumerate}\n",
            "text/markdown": "1. 'abc'\n2. 2.5\n3. TRUE\n4. 1. 1\n2. 2\n3. 3\n\n\n\n\n\n",
            "text/html": [
              "<ol>\n",
              "\t<li>'abc'</li>\n",
              "\t<li>2.5</li>\n",
              "\t<li>TRUE</li>\n",
              "\t<li><style>\n",
              ".list-inline {list-style: none; margin:0; padding: 0}\n",
              ".list-inline>li {display: inline-block}\n",
              ".list-inline>li:not(:last-child)::after {content: \"\\00b7\"; padding: 0 .5ex}\n",
              "</style>\n",
              "<ol class=list-inline><li>1</li><li>2</li><li>3</li></ol>\n",
              "</li>\n",
              "</ol>\n"
            ]
          },
          "metadata": {
            "tags": []
          }
        }
      ]
    },
    {
      "cell_type": "code",
      "metadata": {
        "id": "bmn78bZovTbI",
        "colab": {
          "base_uri": "https://localhost:8080/",
          "height": 62
        },
        "outputId": "e90148f0-9389-4220-e8cc-05b1d76d70a4"
      },
      "source": [
        "my_list[2] # invocamos el segundo elemento dentro de la lista"
      ],
      "execution_count": null,
      "outputs": [
        {
          "output_type": "display_data",
          "data": {
            "text/plain": [
              "[[1]]\n",
              "[1] 2.5\n"
            ],
            "text/latex": "\\begin{enumerate}\n\\item 2.5\n\\end{enumerate}\n",
            "text/markdown": "1. 2.5\n\n\n",
            "text/html": [
              "<ol>\n",
              "\t<li>2.5</li>\n",
              "</ol>\n"
            ]
          },
          "metadata": {
            "tags": []
          }
        }
      ]
    },
    {
      "cell_type": "markdown",
      "metadata": {
        "id": "NwUSCqcJnbIw"
      },
      "source": [
        "# OPERADORES\n",
        "---\n",
        "En programación, los operadores son símbolos específicos que permiten hacer comparaciones y realizar manipulaciones.\n",
        "\n",
        "*   Operadores aritméticos: permiten realizar operaciones matemáticas\n",
        "*   Operadores lógicos: permiten realizar pruebas lógicas, de resultado (true/false)\n",
        "\n",
        "\n",
        "\n"
      ]
    },
    {
      "cell_type": "markdown",
      "metadata": {
        "id": "GKAZNd7OqPH4"
      },
      "source": [
        "### Operadores aritméticos\n",
        "---\n",
        "\n",
        "\n",
        "| Operator \t|   Description  \t|\n",
        "|----------\t|:--------------:\t|\n",
        "| +        \t| addition       \t|\n",
        "| -        \t| subtraction    \t|\n",
        "| *        \t| multiplication \t|\n",
        "| /        \t| division       \t|\n",
        "| ^ or **  \t| exponentiation \t|\n",
        "\n"
      ]
    },
    {
      "cell_type": "code",
      "metadata": {
        "id": "pc9WXGpzrUzU"
      },
      "source": [
        "# Operadores aritméticos\n",
        "## definimos dos objetos numéricos\n",
        "obj_1 = 10\n",
        "obj_2 = 5"
      ],
      "execution_count": null,
      "outputs": []
    },
    {
      "cell_type": "code",
      "metadata": {
        "id": "MnFS7xLquhAV",
        "colab": {
          "base_uri": "https://localhost:8080/",
          "height": 34
        },
        "outputId": "7b638bf2-8a3a-4357-bcc6-daef1ae81fd6"
      },
      "source": [
        "# Test 1\n",
        "obj_1/obj_2"
      ],
      "execution_count": null,
      "outputs": [
        {
          "output_type": "display_data",
          "data": {
            "text/plain": [
              "[1] 2"
            ],
            "text/latex": "2",
            "text/markdown": "2",
            "text/html": [
              "2"
            ]
          },
          "metadata": {
            "tags": []
          }
        }
      ]
    },
    {
      "cell_type": "code",
      "metadata": {
        "id": "7tCc-vYZu3al",
        "colab": {
          "base_uri": "https://localhost:8080/",
          "height": 34
        },
        "outputId": "7ac3c553-c480-46e4-8fec-1ea0c85b7801"
      },
      "source": [
        "# Test 2\n",
        "obj_1-obj_2"
      ],
      "execution_count": null,
      "outputs": [
        {
          "output_type": "display_data",
          "data": {
            "text/plain": [
              "[1] 5"
            ],
            "text/latex": "5",
            "text/markdown": "5",
            "text/html": [
              "5"
            ]
          },
          "metadata": {
            "tags": []
          }
        }
      ]
    },
    {
      "cell_type": "markdown",
      "metadata": {
        "id": "jDOtaH35vB4A"
      },
      "source": [
        "### Operadores lógicos\n",
        "---\n",
        "\n",
        "| Operator  \t|        Description       \t|\n",
        "|-----------\t|:------------------------:\t|\n",
        "| <         \t| less than                \t|\n",
        "| <=        \t| less than or equal to    \t|\n",
        "| >         \t| greater than             \t|\n",
        "| >=        \t| greater than or equal to \t|\n",
        "| ==        \t| exactly equal to         \t|\n",
        "| !=        \t| not equal to             \t|\n",
        "| !x        \t| Not x                    \t|\n",
        "| x \\| y    \t| x OR y                   \t|\n",
        "| x & y     \t| x AND y                  \t|\n",
        "| isTRUE(x) \t| test if X is TRUE        \t|"
      ]
    },
    {
      "cell_type": "code",
      "metadata": {
        "id": "uEx34PxMwPQW"
      },
      "source": [
        "# Operadores aritméticos\n",
        "## definimos dos objetos numéricos\n",
        "obj_1 = 10\n",
        "obj_2 = 5"
      ],
      "execution_count": null,
      "outputs": []
    },
    {
      "cell_type": "code",
      "metadata": {
        "id": "hmHV5labwUvP",
        "colab": {
          "base_uri": "https://localhost:8080/",
          "height": 34
        },
        "outputId": "1fbd4b17-5656-4f58-be72-d46edee3bc20"
      },
      "source": [
        "# Test 1\n",
        "## comprobar si objeto 1 es mayor a 8\n",
        "obj_1 > 8"
      ],
      "execution_count": null,
      "outputs": [
        {
          "output_type": "display_data",
          "data": {
            "text/plain": [
              "[1] TRUE"
            ],
            "text/latex": "TRUE",
            "text/markdown": "TRUE",
            "text/html": [
              "TRUE"
            ]
          },
          "metadata": {
            "tags": []
          }
        }
      ]
    },
    {
      "cell_type": "code",
      "metadata": {
        "id": "JvZWRuPvwcWP",
        "colab": {
          "base_uri": "https://localhost:8080/",
          "height": 34
        },
        "outputId": "7aff5d8a-603b-4140-acda-89853cc580e9"
      },
      "source": [
        "# Test 2\n",
        "## comprobar si objeto 1 es igual a objeto 2\n",
        "obj_1 == obj_2"
      ],
      "execution_count": null,
      "outputs": [
        {
          "output_type": "display_data",
          "data": {
            "text/plain": [
              "[1] FALSE"
            ],
            "text/latex": "FALSE",
            "text/markdown": "FALSE",
            "text/html": [
              "FALSE"
            ]
          },
          "metadata": {
            "tags": []
          }
        }
      ]
    },
    {
      "cell_type": "code",
      "metadata": {
        "id": "HK_vR0uWwkJV",
        "colab": {
          "base_uri": "https://localhost:8080/",
          "height": 34
        },
        "outputId": "b098bf29-40ce-4cb3-90d0-376681fed46a"
      },
      "source": [
        "# Test 3\n",
        "## comprobar si se cumple alguna de las dos condiciones\n",
        "obj_1 > 8 | obj_2 > 8 # \"objeto 1 es mayor a 8 u objeto 2 es mayor a 8\""
      ],
      "execution_count": null,
      "outputs": [
        {
          "output_type": "display_data",
          "data": {
            "text/plain": [
              "[1] TRUE"
            ],
            "text/latex": "TRUE",
            "text/markdown": "TRUE",
            "text/html": [
              "TRUE"
            ]
          },
          "metadata": {
            "tags": []
          }
        }
      ]
    },
    {
      "cell_type": "code",
      "metadata": {
        "id": "GEq6HZZEzR6m",
        "colab": {
          "base_uri": "https://localhost:8080/",
          "height": 34
        },
        "outputId": "fa3fb908-1f96-48d7-ada1-5ed730b9f23e"
      },
      "source": [
        "# Test 3\n",
        "## comprobar si se cumplen ambas condiciones\n",
        "obj_1 > 8 & obj_2 > 8 # \"objeto 1 es mayor a 8 y objeto 2 es mayor a 8\""
      ],
      "execution_count": null,
      "outputs": [
        {
          "output_type": "display_data",
          "data": {
            "text/plain": [
              "[1] FALSE"
            ],
            "text/latex": "FALSE",
            "text/markdown": "FALSE",
            "text/html": [
              "FALSE"
            ]
          },
          "metadata": {
            "tags": []
          }
        }
      ]
    },
    {
      "cell_type": "markdown",
      "metadata": {
        "id": "7eYo-zc6zaFm"
      },
      "source": [
        "# (OPCIONAL) BÁSICOS DE PROGRAMACIÓN\n",
        "---\n",
        "Existen ciertas funcionalidades básicas presentes en todo lenguaje de programación. Su uso no es estrictamente necesario para el análisis de datos, pero resulta útil para la automatización de procesos,\n",
        "*   *Expresiones condicionales*\n",
        "*   *Loops (bucles)*\n"
      ]
    },
    {
      "cell_type": "markdown",
      "metadata": {
        "id": "8Vpvf5pCzoKm"
      },
      "source": [
        "### Expresiones condicionales\n",
        "---\n",
        "Una expresión condicional es una serie de pruebas lógicas con respuestas predefinidas. Se componen siempre de al menos una condición lógica, pero pueden tener tantas como se desee.\n",
        "\n",
        "Sintaxis básica,\n",
        "```\n",
        "if(condición lógica){\n",
        "  respuesta si se cumple\n",
        "}\n",
        "```\n",
        "\n",
        "Sintaxis completa,\n",
        "```\n",
        "if(condición lógica){\n",
        "  respuesta si se cumple\n",
        "} else if(condición lógica adicional){\n",
        "  respuesta si se cumple\n",
        "} else(condición lógica si ninguna otra se cumple){\n",
        "  respuesta si ninguna otra condición se cumple\n",
        "}\n",
        "```"
      ]
    },
    {
      "cell_type": "code",
      "metadata": {
        "id": "JYZT4K_g4SYH",
        "colab": {
          "base_uri": "https://localhost:8080/"
        },
        "outputId": "4ba6a267-7939-445e-c7b0-ee90426fd2ef"
      },
      "source": [
        "# Creamos una condición IF que nos permite comprobar si un número (depositado en un objeto) es positivo\n",
        "obj = 10 # definimos un objeto\n",
        "\n",
        "if(obj > 0){                        # condición 1: si el objeto es positivo\n",
        "  print(\"El número es positivo\")    # la función print() permite desplegar texto\n",
        "} \n",
        "\n",
        "## no hemos establecido respuesta en caso de que la condición no se cumpla"
      ],
      "execution_count": null,
      "outputs": [
        {
          "output_type": "stream",
          "text": [
            "[1] \"El número es positivo\"\n"
          ],
          "name": "stdout"
        }
      ]
    },
    {
      "cell_type": "code",
      "metadata": {
        "id": "FaB8diWszsu4",
        "colab": {
          "base_uri": "https://localhost:8080/"
        },
        "outputId": "09ee96f5-902a-4f13-8792-a3e40a86367f"
      },
      "source": [
        "# Creamos una condición IF que nos permite comprobar si un número (depositado en un objeto) es positivo, negativo o cero\n",
        "obj = -10 # definimos un objeto\n",
        "\n",
        "if(obj > 0){                        # condición 1: si el objeto es positivo\n",
        "  print(\"El número es positivo\")    # la función print() permite desplegar texto\n",
        "} else if(obj == 0){                # condición 2: si el objeto es cero\n",
        "  print(\"El número es cero\")\n",
        "} else{                             # condición 3: si el resto no se cumple\n",
        "  print(\"El número es negativo\")\n",
        "}"
      ],
      "execution_count": null,
      "outputs": [
        {
          "output_type": "stream",
          "text": [
            "[1] \"El número es negativo\"\n"
          ],
          "name": "stdout"
        }
      ]
    },
    {
      "cell_type": "markdown",
      "metadata": {
        "id": "1dMhWitB4y-p"
      },
      "source": [
        "### Loops (bucles)\n",
        "---\n",
        "\n",
        "*   *For loop*: el bucle se repetirá tantas veces como elementos en un vector predefinido\n",
        "*   *Do while*: el bucle se repetirá siempre y cuando se cumpla una condición"
      ]
    },
    {
      "cell_type": "markdown",
      "metadata": {
        "id": "igCBpSzy71WD"
      },
      "source": [
        "\n",
        "En un *for loop*, establecemos una respuesta que se repetirá tantas veces como elementos en un vector determinado. La variable que definamos en el loop adoptará el valor de cada elemento en el vector.\n",
        "\n",
        "Sintaxis básica,\n",
        "```\n",
        "for(i in vector){\n",
        "  respuesta\n",
        "}  \n",
        "```"
      ]
    },
    {
      "cell_type": "code",
      "metadata": {
        "id": "2EXuNvLs42Sg",
        "colab": {
          "base_uri": "https://localhost:8080/"
        },
        "outputId": "76b38eea-37f5-4da1-ed36-c68395330955"
      },
      "source": [
        "my_vector = c(1,2,3,4,5) # definimos un vector\n",
        "\n",
        "for (var in my_vector){ # creamos una variable \"var\" que tomará el valor de cada elemento en el vector\n",
        "  print(paste(\"El número es\", var)) # la función paste() nos permite concatenar texto\n",
        "}"
      ],
      "execution_count": null,
      "outputs": [
        {
          "output_type": "stream",
          "text": [
            "[1] \"El número es 1\"\n",
            "[1] \"El número es 2\"\n",
            "[1] \"El número es 3\"\n",
            "[1] \"El número es 4\"\n",
            "[1] \"El número es 5\"\n"
          ],
          "name": "stdout"
        }
      ]
    },
    {
      "cell_type": "code",
      "metadata": {
        "id": "iCMx0dwt42K5",
        "colab": {
          "base_uri": "https://localhost:8080/"
        },
        "outputId": "b5f7a038-5f54-4c9e-e702-d151595c8299"
      },
      "source": [
        "my_vector = c(\"a\",\"b\",\"c\",\"d\",\"e\") # definimos un vector\n",
        "\n",
        "for (letra in my_vector){ # creamos una variable \"letra\" que tomará el valor de cada elemento en el vector\n",
        "  print(paste(\"La letra es\", letra))\n",
        "}"
      ],
      "execution_count": null,
      "outputs": [
        {
          "output_type": "stream",
          "text": [
            "[1] \"La letra es a\"\n",
            "[1] \"La letra es b\"\n",
            "[1] \"La letra es c\"\n",
            "[1] \"La letra es d\"\n",
            "[1] \"La letra es e\"\n"
          ],
          "name": "stdout"
        }
      ]
    },
    {
      "cell_type": "markdown",
      "metadata": {
        "id": "MmUtKkWPB3Nn"
      },
      "source": [
        "En un *while loop*, establecemos una condición y una respuesta que se repetirá siempre y cuando la condición se mantega se mantenga verdadera. \n",
        "\n",
        "```\n",
        "while (condición){respuesta}\n",
        "```\n",
        "Nota: debemos tener cuidado no crear while loops infinitos, en tal caso tendremos que reiniciar el entorno.\n"
      ]
    },
    {
      "cell_type": "code",
      "metadata": {
        "id": "Tbsyh5TvB6I1",
        "colab": {
          "base_uri": "https://localhost:8080/"
        },
        "outputId": "530c5b1e-211f-47ce-e164-4aedce1f5d63"
      },
      "source": [
        "my_object = 10 # definimos un objeto\n",
        "\n",
        "while (my_object <= 25){      # la condición es que el valor del objeto se mantenga menor o igual a 25\n",
        "  print(my_object)            # desplegamos el valor del objeto en cada repetición\n",
        "  my_object = my_object + 1   # sumamos 1 al valor del objeto\n",
        "}"
      ],
      "execution_count": null,
      "outputs": [
        {
          "output_type": "stream",
          "text": [
            "[1] 10\n",
            "[1] 11\n",
            "[1] 12\n",
            "[1] 13\n",
            "[1] 14\n",
            "[1] 15\n",
            "[1] 16\n",
            "[1] 17\n",
            "[1] 18\n",
            "[1] 19\n",
            "[1] 20\n",
            "[1] 21\n",
            "[1] 22\n",
            "[1] 23\n",
            "[1] 24\n",
            "[1] 25\n"
          ],
          "name": "stdout"
        }
      ]
    }
  ]
}
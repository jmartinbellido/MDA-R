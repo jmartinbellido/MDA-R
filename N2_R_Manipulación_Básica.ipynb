{
  "nbformat": 4,
  "nbformat_minor": 0,
  "metadata": {
    "colab": {
      "name": "N2_R_Manipulación_Básica.ipynb",
      "provenance": [],
      "collapsed_sections": [],
      "toc_visible": true
    },
    "kernelspec": {
      "name": "ir",
      "display_name": "R"
    }
  },
  "cells": [
    {
      "cell_type": "markdown",
      "metadata": {
        "id": "G0aIOusr4m2z"
      },
      "source": [
        "# ÍNDICE\n",
        "# **ISDI MDA**\n",
        "# [Guía] Introducción a R\n",
        "# N2: Manipulación Básica\n",
        "---\n",
        "\n",
        "### ÍNDICE DE CONTENIDO\n",
        "La presente sesión está destinada a aprender a realizar operaciones de manipulación básicas de datos de forma simplificada utilizando funcionalidades incluídas en la librería *dplyr*\n",
        "1. SELECCIONANDO COLUMNAS Y FILTRANDO FILAS \n",
        "2. CREANDO NUEVAS COLUMNAS\n",
        "3. AGRUPANDO Y AGREGANDO DATA\n",
        "\n",
        "### Profesor: Juan Martin Bellido (jmbelldo@isdi.education)\n",
        "\n"
      ]
    },
    {
      "cell_type": "markdown",
      "metadata": {
        "id": "3ra7iNdQ6GQ_"
      },
      "source": [
        "### Preparativos antes de comenzar"
      ]
    },
    {
      "cell_type": "code",
      "metadata": {
        "id": "wLlxs1m-tpjO",
        "colab": {
          "base_uri": "https://localhost:8080/"
        },
        "outputId": "76ec801b-37a9-4727-896f-cea3f4775f52"
      },
      "source": [
        "# Instalamos librería \"data.table\" porque Google colab no la incluye por defecto\n",
        "# Tendremos que repetir este paso en cada sesión, esto no ocurriría si estuvieramos trabajando en otro entorno (se instalaría una única vez)\n",
        "install.packages(\"data.table\") "
      ],
      "execution_count": null,
      "outputs": [
        {
          "output_type": "stream",
          "text": [
            "Installing package into ‘/usr/local/lib/R/site-library’\n",
            "(as ‘lib’ is unspecified)\n",
            "\n"
          ],
          "name": "stderr"
        }
      ]
    },
    {
      "cell_type": "code",
      "metadata": {
        "id": "TxEwN93qtcWt"
      },
      "source": [
        "# Cargamos todas las librerías que utilizaremos en la sesión\n",
        "require(dplyr)\n",
        "require(data.table)"
      ],
      "execution_count": null,
      "outputs": []
    },
    {
      "cell_type": "code",
      "metadata": {
        "id": "-w2HuB9hz5fM"
      },
      "source": [
        "# (Opcional) editamos las opciones globales para evitar que R utilice notación científica\n",
        "options(scipen=999)"
      ],
      "execution_count": null,
      "outputs": []
    },
    {
      "cell_type": "markdown",
      "metadata": {
        "id": "EadzEfEu9Xbf"
      },
      "source": [
        "# SELECCIONANDO COLUMNAS Y FILTRANDO FILAS\n",
        "\n",
        "Comenzamos aprendiendo a reducir un *data frame* en número de variables (columnas) y observaciones (filas)\n"
      ]
    },
    {
      "cell_type": "markdown",
      "metadata": {
        "id": "do-9MA7JS-aj"
      },
      "source": [
        "### Seleccionando columnas\n",
        "---\n",
        "Para seleccionar columnas específicas que querramos conservar de un *data frame* utilizaremos la función *select()*\n",
        "\n",
        "```\n",
        "dplyr::select(object, columns ...)\n",
        "```\n",
        "\n",
        "A modo de simplificar la operación, la función select() suele utilizarse con el *pipe operator (%>%)*. En tal caso omitiremos definir el objeto como parámetro de la función\n",
        "\n",
        "```\n",
        "object %>% select(columns ...) \n",
        "```\n",
        "\n"
      ]
    },
    {
      "cell_type": "code",
      "metadata": {
        "id": "8S8Uy45ZB3X9",
        "colab": {
          "base_uri": "https://localhost:8080/"
        },
        "outputId": "6894c36f-f31a-4157-a202-29a4ef432505"
      },
      "source": [
        "# Importamos un df\n",
        "df_james_bond = data.table::fread(\"https://data-wizards.s3.amazonaws.com/datasets/jamesbond.csv\")\n",
        "glimpse(df_james_bond)"
      ],
      "execution_count": null,
      "outputs": [
        {
          "output_type": "stream",
          "text": [
            "Rows: 26\n",
            "Columns: 7\n",
            "$ Film                \u001b[3m\u001b[90m<chr>\u001b[39m\u001b[23m \"Dr. No\", \"From Russia with Love\", \"Goldfinger\", …\n",
            "$ Year                \u001b[3m\u001b[90m<int>\u001b[39m\u001b[23m 1962, 1963, 1964, 1965, 1967, 1967, 1969, 1971, 1…\n",
            "$ Actor               \u001b[3m\u001b[90m<chr>\u001b[39m\u001b[23m \"Sean Connery\", \"Sean Connery\", \"Sean Connery\", \"…\n",
            "$ Director            \u001b[3m\u001b[90m<chr>\u001b[39m\u001b[23m \"Terence Young\", \"Terence Young\", \"Guy Hamilton\",…\n",
            "$ `Box Office`        \u001b[3m\u001b[90m<dbl>\u001b[39m\u001b[23m 448.8, 543.8, 820.4, 848.1, 315.0, 514.2, 291.5, …\n",
            "$ Budget              \u001b[3m\u001b[90m<dbl>\u001b[39m\u001b[23m 7.0, 12.6, 18.6, 41.9, 85.0, 59.9, 37.3, 34.7, 30…\n",
            "$ `Bond Actor Salary` \u001b[3m\u001b[90m<dbl>\u001b[39m\u001b[23m 0.6, 1.6, 3.2, 4.7, NA, 4.4, 0.6, 5.8, NA, NA, NA…\n"
          ],
          "name": "stdout"
        }
      ]
    },
    {
      "cell_type": "code",
      "metadata": {
        "colab": {
          "base_uri": "https://localhost:8080/",
          "height": 624
        },
        "id": "ZpsvEfx9SqUB",
        "outputId": "5246a7f5-0d28-4573-bd78-45e19562915e"
      },
      "source": [
        "# Comenzamos seleccionando dos columnas específicas utilizando la sintaxis básica \n",
        "dplyr::select(df_james_bond,Film,Director)"
      ],
      "execution_count": null,
      "outputs": [
        {
          "output_type": "display_data",
          "data": {
            "text/plain": [
              "   Film                            Director          \n",
              "1  Dr. No                          Terence Young     \n",
              "2  From Russia with Love           Terence Young     \n",
              "3  Goldfinger                      Guy Hamilton      \n",
              "4  Thunderball                     Terence Young     \n",
              "5  Casino Royale                   Ken Hughes        \n",
              "6  You Only Live Twice             Lewis Gilbert     \n",
              "7  On Her Majesty's Secret Service Peter R. Hunt     \n",
              "8  Diamonds Are Forever            Guy Hamilton      \n",
              "9  Live and Let Die                Guy Hamilton      \n",
              "10 The Man with the Golden Gun     Guy Hamilton      \n",
              "11 The Spy Who Loved Me            Lewis Gilbert     \n",
              "12 Moonraker                       Lewis Gilbert     \n",
              "13 For Your Eyes Only              John Glen         \n",
              "14 Never Say Never Again           Irvin Kershner    \n",
              "15 Octopussy                       John Glen         \n",
              "16 A View to a Kill                John Glen         \n",
              "17 The Living Daylights            John Glen         \n",
              "18 Licence to Kill                 John Glen         \n",
              "19 GoldenEye                       Martin Campbell   \n",
              "20 Tomorrow Never Dies             Roger Spottiswoode\n",
              "21 The World Is Not Enough         Michael Apted     \n",
              "22 Die Another Day                 Lee Tamahori      \n",
              "23 Casino Royale                   Martin Campbell   \n",
              "24 Quantum of Solace               Marc Forster      \n",
              "25 Skyfall                         Sam Mendes        \n",
              "26 Spectre                         Sam Mendes        "
            ],
            "text/latex": "A data.table: 26 × 2\n\\begin{tabular}{ll}\n Film & Director\\\\\n <chr> & <chr>\\\\\n\\hline\n\t Dr. No                          & Terence Young     \\\\\n\t From Russia with Love           & Terence Young     \\\\\n\t Goldfinger                      & Guy Hamilton      \\\\\n\t Thunderball                     & Terence Young     \\\\\n\t Casino Royale                   & Ken Hughes        \\\\\n\t You Only Live Twice             & Lewis Gilbert     \\\\\n\t On Her Majesty's Secret Service & Peter R. Hunt     \\\\\n\t Diamonds Are Forever            & Guy Hamilton      \\\\\n\t Live and Let Die                & Guy Hamilton      \\\\\n\t The Man with the Golden Gun     & Guy Hamilton      \\\\\n\t The Spy Who Loved Me            & Lewis Gilbert     \\\\\n\t Moonraker                       & Lewis Gilbert     \\\\\n\t For Your Eyes Only              & John Glen         \\\\\n\t Never Say Never Again           & Irvin Kershner    \\\\\n\t Octopussy                       & John Glen         \\\\\n\t A View to a Kill                & John Glen         \\\\\n\t The Living Daylights            & John Glen         \\\\\n\t Licence to Kill                 & John Glen         \\\\\n\t GoldenEye                       & Martin Campbell   \\\\\n\t Tomorrow Never Dies             & Roger Spottiswoode\\\\\n\t The World Is Not Enough         & Michael Apted     \\\\\n\t Die Another Day                 & Lee Tamahori      \\\\\n\t Casino Royale                   & Martin Campbell   \\\\\n\t Quantum of Solace               & Marc Forster      \\\\\n\t Skyfall                         & Sam Mendes        \\\\\n\t Spectre                         & Sam Mendes        \\\\\n\\end{tabular}\n",
            "text/markdown": "\nA data.table: 26 × 2\n\n| Film &lt;chr&gt; | Director &lt;chr&gt; |\n|---|---|\n| Dr. No                          | Terence Young      |\n| From Russia with Love           | Terence Young      |\n| Goldfinger                      | Guy Hamilton       |\n| Thunderball                     | Terence Young      |\n| Casino Royale                   | Ken Hughes         |\n| You Only Live Twice             | Lewis Gilbert      |\n| On Her Majesty's Secret Service | Peter R. Hunt      |\n| Diamonds Are Forever            | Guy Hamilton       |\n| Live and Let Die                | Guy Hamilton       |\n| The Man with the Golden Gun     | Guy Hamilton       |\n| The Spy Who Loved Me            | Lewis Gilbert      |\n| Moonraker                       | Lewis Gilbert      |\n| For Your Eyes Only              | John Glen          |\n| Never Say Never Again           | Irvin Kershner     |\n| Octopussy                       | John Glen          |\n| A View to a Kill                | John Glen          |\n| The Living Daylights            | John Glen          |\n| Licence to Kill                 | John Glen          |\n| GoldenEye                       | Martin Campbell    |\n| Tomorrow Never Dies             | Roger Spottiswoode |\n| The World Is Not Enough         | Michael Apted      |\n| Die Another Day                 | Lee Tamahori       |\n| Casino Royale                   | Martin Campbell    |\n| Quantum of Solace               | Marc Forster       |\n| Skyfall                         | Sam Mendes         |\n| Spectre                         | Sam Mendes         |\n\n",
            "text/html": [
              "<table>\n",
              "<caption>A data.table: 26 × 2</caption>\n",
              "<thead>\n",
              "\t<tr><th scope=col>Film</th><th scope=col>Director</th></tr>\n",
              "\t<tr><th scope=col>&lt;chr&gt;</th><th scope=col>&lt;chr&gt;</th></tr>\n",
              "</thead>\n",
              "<tbody>\n",
              "\t<tr><td>Dr. No                         </td><td>Terence Young     </td></tr>\n",
              "\t<tr><td>From Russia with Love          </td><td>Terence Young     </td></tr>\n",
              "\t<tr><td>Goldfinger                     </td><td>Guy Hamilton      </td></tr>\n",
              "\t<tr><td>Thunderball                    </td><td>Terence Young     </td></tr>\n",
              "\t<tr><td>Casino Royale                  </td><td>Ken Hughes        </td></tr>\n",
              "\t<tr><td>You Only Live Twice            </td><td>Lewis Gilbert     </td></tr>\n",
              "\t<tr><td>On Her Majesty's Secret Service</td><td>Peter R. Hunt     </td></tr>\n",
              "\t<tr><td>Diamonds Are Forever           </td><td>Guy Hamilton      </td></tr>\n",
              "\t<tr><td>Live and Let Die               </td><td>Guy Hamilton      </td></tr>\n",
              "\t<tr><td>The Man with the Golden Gun    </td><td>Guy Hamilton      </td></tr>\n",
              "\t<tr><td>The Spy Who Loved Me           </td><td>Lewis Gilbert     </td></tr>\n",
              "\t<tr><td>Moonraker                      </td><td>Lewis Gilbert     </td></tr>\n",
              "\t<tr><td>For Your Eyes Only             </td><td>John Glen         </td></tr>\n",
              "\t<tr><td>Never Say Never Again          </td><td>Irvin Kershner    </td></tr>\n",
              "\t<tr><td>Octopussy                      </td><td>John Glen         </td></tr>\n",
              "\t<tr><td>A View to a Kill               </td><td>John Glen         </td></tr>\n",
              "\t<tr><td>The Living Daylights           </td><td>John Glen         </td></tr>\n",
              "\t<tr><td>Licence to Kill                </td><td>John Glen         </td></tr>\n",
              "\t<tr><td>GoldenEye                      </td><td>Martin Campbell   </td></tr>\n",
              "\t<tr><td>Tomorrow Never Dies            </td><td>Roger Spottiswoode</td></tr>\n",
              "\t<tr><td>The World Is Not Enough        </td><td>Michael Apted     </td></tr>\n",
              "\t<tr><td>Die Another Day                </td><td>Lee Tamahori      </td></tr>\n",
              "\t<tr><td>Casino Royale                  </td><td>Martin Campbell   </td></tr>\n",
              "\t<tr><td>Quantum of Solace              </td><td>Marc Forster      </td></tr>\n",
              "\t<tr><td>Skyfall                        </td><td>Sam Mendes        </td></tr>\n",
              "\t<tr><td>Spectre                        </td><td>Sam Mendes        </td></tr>\n",
              "</tbody>\n",
              "</table>\n"
            ]
          },
          "metadata": {
            "tags": []
          }
        }
      ]
    },
    {
      "cell_type": "code",
      "metadata": {
        "id": "YVmhAdvr901g",
        "colab": {
          "base_uri": "https://localhost:8080/",
          "height": 624
        },
        "outputId": "510ec337-97bb-4ae0-d129-388e23ece40d"
      },
      "source": [
        "# Repetimos la tarea anterior, pero ejecutando el comando utilizando la sintaxis simplificada\n",
        "# Para simplificar la lectura e interpretación, dejo espacios y utilizo varias líneas. Esto es algo totalmente opcional\n",
        "\n",
        "df_james_bond %>% select(\n",
        "  Film        # columna 1 a ser seleccionada\n",
        "  ,Director   # columna 2 a ser seleccionada\n",
        ")"
      ],
      "execution_count": null,
      "outputs": [
        {
          "output_type": "display_data",
          "data": {
            "text/plain": [
              "   Film                            Director          \n",
              "1  Dr. No                          Terence Young     \n",
              "2  From Russia with Love           Terence Young     \n",
              "3  Goldfinger                      Guy Hamilton      \n",
              "4  Thunderball                     Terence Young     \n",
              "5  Casino Royale                   Ken Hughes        \n",
              "6  You Only Live Twice             Lewis Gilbert     \n",
              "7  On Her Majesty's Secret Service Peter R. Hunt     \n",
              "8  Diamonds Are Forever            Guy Hamilton      \n",
              "9  Live and Let Die                Guy Hamilton      \n",
              "10 The Man with the Golden Gun     Guy Hamilton      \n",
              "11 The Spy Who Loved Me            Lewis Gilbert     \n",
              "12 Moonraker                       Lewis Gilbert     \n",
              "13 For Your Eyes Only              John Glen         \n",
              "14 Never Say Never Again           Irvin Kershner    \n",
              "15 Octopussy                       John Glen         \n",
              "16 A View to a Kill                John Glen         \n",
              "17 The Living Daylights            John Glen         \n",
              "18 Licence to Kill                 John Glen         \n",
              "19 GoldenEye                       Martin Campbell   \n",
              "20 Tomorrow Never Dies             Roger Spottiswoode\n",
              "21 The World Is Not Enough         Michael Apted     \n",
              "22 Die Another Day                 Lee Tamahori      \n",
              "23 Casino Royale                   Martin Campbell   \n",
              "24 Quantum of Solace               Marc Forster      \n",
              "25 Skyfall                         Sam Mendes        \n",
              "26 Spectre                         Sam Mendes        "
            ],
            "text/latex": "A data.table: 26 × 2\n\\begin{tabular}{ll}\n Film & Director\\\\\n <chr> & <chr>\\\\\n\\hline\n\t Dr. No                          & Terence Young     \\\\\n\t From Russia with Love           & Terence Young     \\\\\n\t Goldfinger                      & Guy Hamilton      \\\\\n\t Thunderball                     & Terence Young     \\\\\n\t Casino Royale                   & Ken Hughes        \\\\\n\t You Only Live Twice             & Lewis Gilbert     \\\\\n\t On Her Majesty's Secret Service & Peter R. Hunt     \\\\\n\t Diamonds Are Forever            & Guy Hamilton      \\\\\n\t Live and Let Die                & Guy Hamilton      \\\\\n\t The Man with the Golden Gun     & Guy Hamilton      \\\\\n\t The Spy Who Loved Me            & Lewis Gilbert     \\\\\n\t Moonraker                       & Lewis Gilbert     \\\\\n\t For Your Eyes Only              & John Glen         \\\\\n\t Never Say Never Again           & Irvin Kershner    \\\\\n\t Octopussy                       & John Glen         \\\\\n\t A View to a Kill                & John Glen         \\\\\n\t The Living Daylights            & John Glen         \\\\\n\t Licence to Kill                 & John Glen         \\\\\n\t GoldenEye                       & Martin Campbell   \\\\\n\t Tomorrow Never Dies             & Roger Spottiswoode\\\\\n\t The World Is Not Enough         & Michael Apted     \\\\\n\t Die Another Day                 & Lee Tamahori      \\\\\n\t Casino Royale                   & Martin Campbell   \\\\\n\t Quantum of Solace               & Marc Forster      \\\\\n\t Skyfall                         & Sam Mendes        \\\\\n\t Spectre                         & Sam Mendes        \\\\\n\\end{tabular}\n",
            "text/markdown": "\nA data.table: 26 × 2\n\n| Film &lt;chr&gt; | Director &lt;chr&gt; |\n|---|---|\n| Dr. No                          | Terence Young      |\n| From Russia with Love           | Terence Young      |\n| Goldfinger                      | Guy Hamilton       |\n| Thunderball                     | Terence Young      |\n| Casino Royale                   | Ken Hughes         |\n| You Only Live Twice             | Lewis Gilbert      |\n| On Her Majesty's Secret Service | Peter R. Hunt      |\n| Diamonds Are Forever            | Guy Hamilton       |\n| Live and Let Die                | Guy Hamilton       |\n| The Man with the Golden Gun     | Guy Hamilton       |\n| The Spy Who Loved Me            | Lewis Gilbert      |\n| Moonraker                       | Lewis Gilbert      |\n| For Your Eyes Only              | John Glen          |\n| Never Say Never Again           | Irvin Kershner     |\n| Octopussy                       | John Glen          |\n| A View to a Kill                | John Glen          |\n| The Living Daylights            | John Glen          |\n| Licence to Kill                 | John Glen          |\n| GoldenEye                       | Martin Campbell    |\n| Tomorrow Never Dies             | Roger Spottiswoode |\n| The World Is Not Enough         | Michael Apted      |\n| Die Another Day                 | Lee Tamahori       |\n| Casino Royale                   | Martin Campbell    |\n| Quantum of Solace               | Marc Forster       |\n| Skyfall                         | Sam Mendes         |\n| Spectre                         | Sam Mendes         |\n\n",
            "text/html": [
              "<table>\n",
              "<caption>A data.table: 26 × 2</caption>\n",
              "<thead>\n",
              "\t<tr><th scope=col>Film</th><th scope=col>Director</th></tr>\n",
              "\t<tr><th scope=col>&lt;chr&gt;</th><th scope=col>&lt;chr&gt;</th></tr>\n",
              "</thead>\n",
              "<tbody>\n",
              "\t<tr><td>Dr. No                         </td><td>Terence Young     </td></tr>\n",
              "\t<tr><td>From Russia with Love          </td><td>Terence Young     </td></tr>\n",
              "\t<tr><td>Goldfinger                     </td><td>Guy Hamilton      </td></tr>\n",
              "\t<tr><td>Thunderball                    </td><td>Terence Young     </td></tr>\n",
              "\t<tr><td>Casino Royale                  </td><td>Ken Hughes        </td></tr>\n",
              "\t<tr><td>You Only Live Twice            </td><td>Lewis Gilbert     </td></tr>\n",
              "\t<tr><td>On Her Majesty's Secret Service</td><td>Peter R. Hunt     </td></tr>\n",
              "\t<tr><td>Diamonds Are Forever           </td><td>Guy Hamilton      </td></tr>\n",
              "\t<tr><td>Live and Let Die               </td><td>Guy Hamilton      </td></tr>\n",
              "\t<tr><td>The Man with the Golden Gun    </td><td>Guy Hamilton      </td></tr>\n",
              "\t<tr><td>The Spy Who Loved Me           </td><td>Lewis Gilbert     </td></tr>\n",
              "\t<tr><td>Moonraker                      </td><td>Lewis Gilbert     </td></tr>\n",
              "\t<tr><td>For Your Eyes Only             </td><td>John Glen         </td></tr>\n",
              "\t<tr><td>Never Say Never Again          </td><td>Irvin Kershner    </td></tr>\n",
              "\t<tr><td>Octopussy                      </td><td>John Glen         </td></tr>\n",
              "\t<tr><td>A View to a Kill               </td><td>John Glen         </td></tr>\n",
              "\t<tr><td>The Living Daylights           </td><td>John Glen         </td></tr>\n",
              "\t<tr><td>Licence to Kill                </td><td>John Glen         </td></tr>\n",
              "\t<tr><td>GoldenEye                      </td><td>Martin Campbell   </td></tr>\n",
              "\t<tr><td>Tomorrow Never Dies            </td><td>Roger Spottiswoode</td></tr>\n",
              "\t<tr><td>The World Is Not Enough        </td><td>Michael Apted     </td></tr>\n",
              "\t<tr><td>Die Another Day                </td><td>Lee Tamahori      </td></tr>\n",
              "\t<tr><td>Casino Royale                  </td><td>Martin Campbell   </td></tr>\n",
              "\t<tr><td>Quantum of Solace              </td><td>Marc Forster      </td></tr>\n",
              "\t<tr><td>Skyfall                        </td><td>Sam Mendes        </td></tr>\n",
              "\t<tr><td>Spectre                        </td><td>Sam Mendes        </td></tr>\n",
              "</tbody>\n",
              "</table>\n"
            ]
          },
          "metadata": {
            "tags": []
          }
        }
      ]
    },
    {
      "cell_type": "code",
      "metadata": {
        "colab": {
          "base_uri": "https://localhost:8080/",
          "height": 624
        },
        "id": "N7Wxe_4DSdj8",
        "outputId": "a188e9a5-3e2f-41cb-a098-818d63826433"
      },
      "source": [
        "# Adicionalmente, al seleccionar columnas podremos (de forma opcional) renombrar las variables\n",
        "df_james_bond %>% select(\n",
        "  james_bond_film = Film                    # seleccionamos una primer columna y la renombramos\n",
        "  ,film_director = Director                 # seleccionamos una segunda columna y la renombramos\n",
        "  ,film_budget = Budget                     # seleccionamos una tercer columna y la renombramos\n",
        "  ,bond_actor_salary = `Bond Actor Salary`  # en este caso, al renombrar la variable sin espacios, nos libraremos de las comillas\n",
        ")"
      ],
      "execution_count": null,
      "outputs": [
        {
          "output_type": "display_data",
          "data": {
            "text/plain": [
              "   james_bond_film                 film_director      film_budget\n",
              "1  Dr. No                          Terence Young        7.0      \n",
              "2  From Russia with Love           Terence Young       12.6      \n",
              "3  Goldfinger                      Guy Hamilton        18.6      \n",
              "4  Thunderball                     Terence Young       41.9      \n",
              "5  Casino Royale                   Ken Hughes          85.0      \n",
              "6  You Only Live Twice             Lewis Gilbert       59.9      \n",
              "7  On Her Majesty's Secret Service Peter R. Hunt       37.3      \n",
              "8  Diamonds Are Forever            Guy Hamilton        34.7      \n",
              "9  Live and Let Die                Guy Hamilton        30.8      \n",
              "10 The Man with the Golden Gun     Guy Hamilton        27.7      \n",
              "11 The Spy Who Loved Me            Lewis Gilbert       45.1      \n",
              "12 Moonraker                       Lewis Gilbert       91.5      \n",
              "13 For Your Eyes Only              John Glen           60.2      \n",
              "14 Never Say Never Again           Irvin Kershner      86.0      \n",
              "15 Octopussy                       John Glen           53.9      \n",
              "16 A View to a Kill                John Glen           54.5      \n",
              "17 The Living Daylights            John Glen           68.8      \n",
              "18 Licence to Kill                 John Glen           56.7      \n",
              "19 GoldenEye                       Martin Campbell     76.9      \n",
              "20 Tomorrow Never Dies             Roger Spottiswoode 133.9      \n",
              "21 The World Is Not Enough         Michael Apted      158.3      \n",
              "22 Die Another Day                 Lee Tamahori       154.2      \n",
              "23 Casino Royale                   Martin Campbell    145.3      \n",
              "24 Quantum of Solace               Marc Forster       181.4      \n",
              "25 Skyfall                         Sam Mendes         170.2      \n",
              "26 Spectre                         Sam Mendes         206.3      \n",
              "   bond_actor_salary\n",
              "1   0.6             \n",
              "2   1.6             \n",
              "3   3.2             \n",
              "4   4.7             \n",
              "5    NA             \n",
              "6   4.4             \n",
              "7   0.6             \n",
              "8   5.8             \n",
              "9    NA             \n",
              "10   NA             \n",
              "11   NA             \n",
              "12   NA             \n",
              "13   NA             \n",
              "14   NA             \n",
              "15  7.8             \n",
              "16  9.1             \n",
              "17  5.2             \n",
              "18  7.9             \n",
              "19  5.1             \n",
              "20 10.0             \n",
              "21 13.5             \n",
              "22 17.9             \n",
              "23  3.3             \n",
              "24  8.1             \n",
              "25 14.5             \n",
              "26   NA             "
            ],
            "text/latex": "A data.table: 26 × 4\n\\begin{tabular}{llll}\n james\\_bond\\_film & film\\_director & film\\_budget & bond\\_actor\\_salary\\\\\n <chr> & <chr> & <dbl> & <dbl>\\\\\n\\hline\n\t Dr. No                          & Terence Young      &   7.0 &  0.6\\\\\n\t From Russia with Love           & Terence Young      &  12.6 &  1.6\\\\\n\t Goldfinger                      & Guy Hamilton       &  18.6 &  3.2\\\\\n\t Thunderball                     & Terence Young      &  41.9 &  4.7\\\\\n\t Casino Royale                   & Ken Hughes         &  85.0 &   NA\\\\\n\t You Only Live Twice             & Lewis Gilbert      &  59.9 &  4.4\\\\\n\t On Her Majesty's Secret Service & Peter R. Hunt      &  37.3 &  0.6\\\\\n\t Diamonds Are Forever            & Guy Hamilton       &  34.7 &  5.8\\\\\n\t Live and Let Die                & Guy Hamilton       &  30.8 &   NA\\\\\n\t The Man with the Golden Gun     & Guy Hamilton       &  27.7 &   NA\\\\\n\t The Spy Who Loved Me            & Lewis Gilbert      &  45.1 &   NA\\\\\n\t Moonraker                       & Lewis Gilbert      &  91.5 &   NA\\\\\n\t For Your Eyes Only              & John Glen          &  60.2 &   NA\\\\\n\t Never Say Never Again           & Irvin Kershner     &  86.0 &   NA\\\\\n\t Octopussy                       & John Glen          &  53.9 &  7.8\\\\\n\t A View to a Kill                & John Glen          &  54.5 &  9.1\\\\\n\t The Living Daylights            & John Glen          &  68.8 &  5.2\\\\\n\t Licence to Kill                 & John Glen          &  56.7 &  7.9\\\\\n\t GoldenEye                       & Martin Campbell    &  76.9 &  5.1\\\\\n\t Tomorrow Never Dies             & Roger Spottiswoode & 133.9 & 10.0\\\\\n\t The World Is Not Enough         & Michael Apted      & 158.3 & 13.5\\\\\n\t Die Another Day                 & Lee Tamahori       & 154.2 & 17.9\\\\\n\t Casino Royale                   & Martin Campbell    & 145.3 &  3.3\\\\\n\t Quantum of Solace               & Marc Forster       & 181.4 &  8.1\\\\\n\t Skyfall                         & Sam Mendes         & 170.2 & 14.5\\\\\n\t Spectre                         & Sam Mendes         & 206.3 &   NA\\\\\n\\end{tabular}\n",
            "text/markdown": "\nA data.table: 26 × 4\n\n| james_bond_film &lt;chr&gt; | film_director &lt;chr&gt; | film_budget &lt;dbl&gt; | bond_actor_salary &lt;dbl&gt; |\n|---|---|---|---|\n| Dr. No                          | Terence Young      |   7.0 |  0.6 |\n| From Russia with Love           | Terence Young      |  12.6 |  1.6 |\n| Goldfinger                      | Guy Hamilton       |  18.6 |  3.2 |\n| Thunderball                     | Terence Young      |  41.9 |  4.7 |\n| Casino Royale                   | Ken Hughes         |  85.0 |   NA |\n| You Only Live Twice             | Lewis Gilbert      |  59.9 |  4.4 |\n| On Her Majesty's Secret Service | Peter R. Hunt      |  37.3 |  0.6 |\n| Diamonds Are Forever            | Guy Hamilton       |  34.7 |  5.8 |\n| Live and Let Die                | Guy Hamilton       |  30.8 |   NA |\n| The Man with the Golden Gun     | Guy Hamilton       |  27.7 |   NA |\n| The Spy Who Loved Me            | Lewis Gilbert      |  45.1 |   NA |\n| Moonraker                       | Lewis Gilbert      |  91.5 |   NA |\n| For Your Eyes Only              | John Glen          |  60.2 |   NA |\n| Never Say Never Again           | Irvin Kershner     |  86.0 |   NA |\n| Octopussy                       | John Glen          |  53.9 |  7.8 |\n| A View to a Kill                | John Glen          |  54.5 |  9.1 |\n| The Living Daylights            | John Glen          |  68.8 |  5.2 |\n| Licence to Kill                 | John Glen          |  56.7 |  7.9 |\n| GoldenEye                       | Martin Campbell    |  76.9 |  5.1 |\n| Tomorrow Never Dies             | Roger Spottiswoode | 133.9 | 10.0 |\n| The World Is Not Enough         | Michael Apted      | 158.3 | 13.5 |\n| Die Another Day                 | Lee Tamahori       | 154.2 | 17.9 |\n| Casino Royale                   | Martin Campbell    | 145.3 |  3.3 |\n| Quantum of Solace               | Marc Forster       | 181.4 |  8.1 |\n| Skyfall                         | Sam Mendes         | 170.2 | 14.5 |\n| Spectre                         | Sam Mendes         | 206.3 |   NA |\n\n",
            "text/html": [
              "<table>\n",
              "<caption>A data.table: 26 × 4</caption>\n",
              "<thead>\n",
              "\t<tr><th scope=col>james_bond_film</th><th scope=col>film_director</th><th scope=col>film_budget</th><th scope=col>bond_actor_salary</th></tr>\n",
              "\t<tr><th scope=col>&lt;chr&gt;</th><th scope=col>&lt;chr&gt;</th><th scope=col>&lt;dbl&gt;</th><th scope=col>&lt;dbl&gt;</th></tr>\n",
              "</thead>\n",
              "<tbody>\n",
              "\t<tr><td>Dr. No                         </td><td>Terence Young     </td><td>  7.0</td><td> 0.6</td></tr>\n",
              "\t<tr><td>From Russia with Love          </td><td>Terence Young     </td><td> 12.6</td><td> 1.6</td></tr>\n",
              "\t<tr><td>Goldfinger                     </td><td>Guy Hamilton      </td><td> 18.6</td><td> 3.2</td></tr>\n",
              "\t<tr><td>Thunderball                    </td><td>Terence Young     </td><td> 41.9</td><td> 4.7</td></tr>\n",
              "\t<tr><td>Casino Royale                  </td><td>Ken Hughes        </td><td> 85.0</td><td>  NA</td></tr>\n",
              "\t<tr><td>You Only Live Twice            </td><td>Lewis Gilbert     </td><td> 59.9</td><td> 4.4</td></tr>\n",
              "\t<tr><td>On Her Majesty's Secret Service</td><td>Peter R. Hunt     </td><td> 37.3</td><td> 0.6</td></tr>\n",
              "\t<tr><td>Diamonds Are Forever           </td><td>Guy Hamilton      </td><td> 34.7</td><td> 5.8</td></tr>\n",
              "\t<tr><td>Live and Let Die               </td><td>Guy Hamilton      </td><td> 30.8</td><td>  NA</td></tr>\n",
              "\t<tr><td>The Man with the Golden Gun    </td><td>Guy Hamilton      </td><td> 27.7</td><td>  NA</td></tr>\n",
              "\t<tr><td>The Spy Who Loved Me           </td><td>Lewis Gilbert     </td><td> 45.1</td><td>  NA</td></tr>\n",
              "\t<tr><td>Moonraker                      </td><td>Lewis Gilbert     </td><td> 91.5</td><td>  NA</td></tr>\n",
              "\t<tr><td>For Your Eyes Only             </td><td>John Glen         </td><td> 60.2</td><td>  NA</td></tr>\n",
              "\t<tr><td>Never Say Never Again          </td><td>Irvin Kershner    </td><td> 86.0</td><td>  NA</td></tr>\n",
              "\t<tr><td>Octopussy                      </td><td>John Glen         </td><td> 53.9</td><td> 7.8</td></tr>\n",
              "\t<tr><td>A View to a Kill               </td><td>John Glen         </td><td> 54.5</td><td> 9.1</td></tr>\n",
              "\t<tr><td>The Living Daylights           </td><td>John Glen         </td><td> 68.8</td><td> 5.2</td></tr>\n",
              "\t<tr><td>Licence to Kill                </td><td>John Glen         </td><td> 56.7</td><td> 7.9</td></tr>\n",
              "\t<tr><td>GoldenEye                      </td><td>Martin Campbell   </td><td> 76.9</td><td> 5.1</td></tr>\n",
              "\t<tr><td>Tomorrow Never Dies            </td><td>Roger Spottiswoode</td><td>133.9</td><td>10.0</td></tr>\n",
              "\t<tr><td>The World Is Not Enough        </td><td>Michael Apted     </td><td>158.3</td><td>13.5</td></tr>\n",
              "\t<tr><td>Die Another Day                </td><td>Lee Tamahori      </td><td>154.2</td><td>17.9</td></tr>\n",
              "\t<tr><td>Casino Royale                  </td><td>Martin Campbell   </td><td>145.3</td><td> 3.3</td></tr>\n",
              "\t<tr><td>Quantum of Solace              </td><td>Marc Forster      </td><td>181.4</td><td> 8.1</td></tr>\n",
              "\t<tr><td>Skyfall                        </td><td>Sam Mendes        </td><td>170.2</td><td>14.5</td></tr>\n",
              "\t<tr><td>Spectre                        </td><td>Sam Mendes        </td><td>206.3</td><td>  NA</td></tr>\n",
              "</tbody>\n",
              "</table>\n"
            ]
          },
          "metadata": {
            "tags": []
          }
        }
      ]
    },
    {
      "cell_type": "code",
      "metadata": {
        "colab": {
          "base_uri": "https://localhost:8080/",
          "height": 624
        },
        "id": "nTCdefI7WldZ",
        "outputId": "f0a04b97-4017-423c-f679-c7192025294b"
      },
      "source": [
        "# Podemos negar (-) columnas para evitarlas\n",
        "df_james_bond %>% select(\n",
        "  -Director\n",
        "  ,-Budget\n",
        ")\n",
        "# En este caso, hemos seleccionado TODAS las variables disponibles en el data frame, salvo dos específicas que hemos negativizado"
      ],
      "execution_count": null,
      "outputs": [
        {
          "output_type": "display_data",
          "data": {
            "text/plain": [
              "   Film                            Year Actor          Box Office\n",
              "1  Dr. No                          1962 Sean Connery   448.8     \n",
              "2  From Russia with Love           1963 Sean Connery   543.8     \n",
              "3  Goldfinger                      1964 Sean Connery   820.4     \n",
              "4  Thunderball                     1965 Sean Connery   848.1     \n",
              "5  Casino Royale                   1967 David Niven    315.0     \n",
              "6  You Only Live Twice             1967 Sean Connery   514.2     \n",
              "7  On Her Majesty's Secret Service 1969 George Lazenby 291.5     \n",
              "8  Diamonds Are Forever            1971 Sean Connery   442.5     \n",
              "9  Live and Let Die                1973 Roger Moore    460.3     \n",
              "10 The Man with the Golden Gun     1974 Roger Moore    334.0     \n",
              "11 The Spy Who Loved Me            1977 Roger Moore    533.0     \n",
              "12 Moonraker                       1979 Roger Moore    535.0     \n",
              "13 For Your Eyes Only              1981 Roger Moore    449.4     \n",
              "14 Never Say Never Again           1983 Sean Connery   380.0     \n",
              "15 Octopussy                       1983 Roger Moore    373.8     \n",
              "16 A View to a Kill                1985 Roger Moore    275.2     \n",
              "17 The Living Daylights            1987 Timothy Dalton 313.5     \n",
              "18 Licence to Kill                 1989 Timothy Dalton 250.9     \n",
              "19 GoldenEye                       1995 Pierce Brosnan 518.5     \n",
              "20 Tomorrow Never Dies             1997 Pierce Brosnan 463.2     \n",
              "21 The World Is Not Enough         1999 Pierce Brosnan 439.5     \n",
              "22 Die Another Day                 2002 Pierce Brosnan 465.4     \n",
              "23 Casino Royale                   2006 Daniel Craig   581.5     \n",
              "24 Quantum of Solace               2008 Daniel Craig   514.2     \n",
              "25 Skyfall                         2012 Daniel Craig   943.5     \n",
              "26 Spectre                         2015 Daniel Craig   726.7     \n",
              "   Bond Actor Salary\n",
              "1   0.6             \n",
              "2   1.6             \n",
              "3   3.2             \n",
              "4   4.7             \n",
              "5    NA             \n",
              "6   4.4             \n",
              "7   0.6             \n",
              "8   5.8             \n",
              "9    NA             \n",
              "10   NA             \n",
              "11   NA             \n",
              "12   NA             \n",
              "13   NA             \n",
              "14   NA             \n",
              "15  7.8             \n",
              "16  9.1             \n",
              "17  5.2             \n",
              "18  7.9             \n",
              "19  5.1             \n",
              "20 10.0             \n",
              "21 13.5             \n",
              "22 17.9             \n",
              "23  3.3             \n",
              "24  8.1             \n",
              "25 14.5             \n",
              "26   NA             "
            ],
            "text/latex": "A data.table: 26 × 5\n\\begin{tabular}{lllll}\n Film & Year & Actor & Box Office & Bond Actor Salary\\\\\n <chr> & <int> & <chr> & <dbl> & <dbl>\\\\\n\\hline\n\t Dr. No                          & 1962 & Sean Connery   & 448.8 &  0.6\\\\\n\t From Russia with Love           & 1963 & Sean Connery   & 543.8 &  1.6\\\\\n\t Goldfinger                      & 1964 & Sean Connery   & 820.4 &  3.2\\\\\n\t Thunderball                     & 1965 & Sean Connery   & 848.1 &  4.7\\\\\n\t Casino Royale                   & 1967 & David Niven    & 315.0 &   NA\\\\\n\t You Only Live Twice             & 1967 & Sean Connery   & 514.2 &  4.4\\\\\n\t On Her Majesty's Secret Service & 1969 & George Lazenby & 291.5 &  0.6\\\\\n\t Diamonds Are Forever            & 1971 & Sean Connery   & 442.5 &  5.8\\\\\n\t Live and Let Die                & 1973 & Roger Moore    & 460.3 &   NA\\\\\n\t The Man with the Golden Gun     & 1974 & Roger Moore    & 334.0 &   NA\\\\\n\t The Spy Who Loved Me            & 1977 & Roger Moore    & 533.0 &   NA\\\\\n\t Moonraker                       & 1979 & Roger Moore    & 535.0 &   NA\\\\\n\t For Your Eyes Only              & 1981 & Roger Moore    & 449.4 &   NA\\\\\n\t Never Say Never Again           & 1983 & Sean Connery   & 380.0 &   NA\\\\\n\t Octopussy                       & 1983 & Roger Moore    & 373.8 &  7.8\\\\\n\t A View to a Kill                & 1985 & Roger Moore    & 275.2 &  9.1\\\\\n\t The Living Daylights            & 1987 & Timothy Dalton & 313.5 &  5.2\\\\\n\t Licence to Kill                 & 1989 & Timothy Dalton & 250.9 &  7.9\\\\\n\t GoldenEye                       & 1995 & Pierce Brosnan & 518.5 &  5.1\\\\\n\t Tomorrow Never Dies             & 1997 & Pierce Brosnan & 463.2 & 10.0\\\\\n\t The World Is Not Enough         & 1999 & Pierce Brosnan & 439.5 & 13.5\\\\\n\t Die Another Day                 & 2002 & Pierce Brosnan & 465.4 & 17.9\\\\\n\t Casino Royale                   & 2006 & Daniel Craig   & 581.5 &  3.3\\\\\n\t Quantum of Solace               & 2008 & Daniel Craig   & 514.2 &  8.1\\\\\n\t Skyfall                         & 2012 & Daniel Craig   & 943.5 & 14.5\\\\\n\t Spectre                         & 2015 & Daniel Craig   & 726.7 &   NA\\\\\n\\end{tabular}\n",
            "text/markdown": "\nA data.table: 26 × 5\n\n| Film &lt;chr&gt; | Year &lt;int&gt; | Actor &lt;chr&gt; | Box Office &lt;dbl&gt; | Bond Actor Salary &lt;dbl&gt; |\n|---|---|---|---|---|\n| Dr. No                          | 1962 | Sean Connery   | 448.8 |  0.6 |\n| From Russia with Love           | 1963 | Sean Connery   | 543.8 |  1.6 |\n| Goldfinger                      | 1964 | Sean Connery   | 820.4 |  3.2 |\n| Thunderball                     | 1965 | Sean Connery   | 848.1 |  4.7 |\n| Casino Royale                   | 1967 | David Niven    | 315.0 |   NA |\n| You Only Live Twice             | 1967 | Sean Connery   | 514.2 |  4.4 |\n| On Her Majesty's Secret Service | 1969 | George Lazenby | 291.5 |  0.6 |\n| Diamonds Are Forever            | 1971 | Sean Connery   | 442.5 |  5.8 |\n| Live and Let Die                | 1973 | Roger Moore    | 460.3 |   NA |\n| The Man with the Golden Gun     | 1974 | Roger Moore    | 334.0 |   NA |\n| The Spy Who Loved Me            | 1977 | Roger Moore    | 533.0 |   NA |\n| Moonraker                       | 1979 | Roger Moore    | 535.0 |   NA |\n| For Your Eyes Only              | 1981 | Roger Moore    | 449.4 |   NA |\n| Never Say Never Again           | 1983 | Sean Connery   | 380.0 |   NA |\n| Octopussy                       | 1983 | Roger Moore    | 373.8 |  7.8 |\n| A View to a Kill                | 1985 | Roger Moore    | 275.2 |  9.1 |\n| The Living Daylights            | 1987 | Timothy Dalton | 313.5 |  5.2 |\n| Licence to Kill                 | 1989 | Timothy Dalton | 250.9 |  7.9 |\n| GoldenEye                       | 1995 | Pierce Brosnan | 518.5 |  5.1 |\n| Tomorrow Never Dies             | 1997 | Pierce Brosnan | 463.2 | 10.0 |\n| The World Is Not Enough         | 1999 | Pierce Brosnan | 439.5 | 13.5 |\n| Die Another Day                 | 2002 | Pierce Brosnan | 465.4 | 17.9 |\n| Casino Royale                   | 2006 | Daniel Craig   | 581.5 |  3.3 |\n| Quantum of Solace               | 2008 | Daniel Craig   | 514.2 |  8.1 |\n| Skyfall                         | 2012 | Daniel Craig   | 943.5 | 14.5 |\n| Spectre                         | 2015 | Daniel Craig   | 726.7 |   NA |\n\n",
            "text/html": [
              "<table>\n",
              "<caption>A data.table: 26 × 5</caption>\n",
              "<thead>\n",
              "\t<tr><th scope=col>Film</th><th scope=col>Year</th><th scope=col>Actor</th><th scope=col>Box Office</th><th scope=col>Bond Actor Salary</th></tr>\n",
              "\t<tr><th scope=col>&lt;chr&gt;</th><th scope=col>&lt;int&gt;</th><th scope=col>&lt;chr&gt;</th><th scope=col>&lt;dbl&gt;</th><th scope=col>&lt;dbl&gt;</th></tr>\n",
              "</thead>\n",
              "<tbody>\n",
              "\t<tr><td>Dr. No                         </td><td>1962</td><td>Sean Connery  </td><td>448.8</td><td> 0.6</td></tr>\n",
              "\t<tr><td>From Russia with Love          </td><td>1963</td><td>Sean Connery  </td><td>543.8</td><td> 1.6</td></tr>\n",
              "\t<tr><td>Goldfinger                     </td><td>1964</td><td>Sean Connery  </td><td>820.4</td><td> 3.2</td></tr>\n",
              "\t<tr><td>Thunderball                    </td><td>1965</td><td>Sean Connery  </td><td>848.1</td><td> 4.7</td></tr>\n",
              "\t<tr><td>Casino Royale                  </td><td>1967</td><td>David Niven   </td><td>315.0</td><td>  NA</td></tr>\n",
              "\t<tr><td>You Only Live Twice            </td><td>1967</td><td>Sean Connery  </td><td>514.2</td><td> 4.4</td></tr>\n",
              "\t<tr><td>On Her Majesty's Secret Service</td><td>1969</td><td>George Lazenby</td><td>291.5</td><td> 0.6</td></tr>\n",
              "\t<tr><td>Diamonds Are Forever           </td><td>1971</td><td>Sean Connery  </td><td>442.5</td><td> 5.8</td></tr>\n",
              "\t<tr><td>Live and Let Die               </td><td>1973</td><td>Roger Moore   </td><td>460.3</td><td>  NA</td></tr>\n",
              "\t<tr><td>The Man with the Golden Gun    </td><td>1974</td><td>Roger Moore   </td><td>334.0</td><td>  NA</td></tr>\n",
              "\t<tr><td>The Spy Who Loved Me           </td><td>1977</td><td>Roger Moore   </td><td>533.0</td><td>  NA</td></tr>\n",
              "\t<tr><td>Moonraker                      </td><td>1979</td><td>Roger Moore   </td><td>535.0</td><td>  NA</td></tr>\n",
              "\t<tr><td>For Your Eyes Only             </td><td>1981</td><td>Roger Moore   </td><td>449.4</td><td>  NA</td></tr>\n",
              "\t<tr><td>Never Say Never Again          </td><td>1983</td><td>Sean Connery  </td><td>380.0</td><td>  NA</td></tr>\n",
              "\t<tr><td>Octopussy                      </td><td>1983</td><td>Roger Moore   </td><td>373.8</td><td> 7.8</td></tr>\n",
              "\t<tr><td>A View to a Kill               </td><td>1985</td><td>Roger Moore   </td><td>275.2</td><td> 9.1</td></tr>\n",
              "\t<tr><td>The Living Daylights           </td><td>1987</td><td>Timothy Dalton</td><td>313.5</td><td> 5.2</td></tr>\n",
              "\t<tr><td>Licence to Kill                </td><td>1989</td><td>Timothy Dalton</td><td>250.9</td><td> 7.9</td></tr>\n",
              "\t<tr><td>GoldenEye                      </td><td>1995</td><td>Pierce Brosnan</td><td>518.5</td><td> 5.1</td></tr>\n",
              "\t<tr><td>Tomorrow Never Dies            </td><td>1997</td><td>Pierce Brosnan</td><td>463.2</td><td>10.0</td></tr>\n",
              "\t<tr><td>The World Is Not Enough        </td><td>1999</td><td>Pierce Brosnan</td><td>439.5</td><td>13.5</td></tr>\n",
              "\t<tr><td>Die Another Day                </td><td>2002</td><td>Pierce Brosnan</td><td>465.4</td><td>17.9</td></tr>\n",
              "\t<tr><td>Casino Royale                  </td><td>2006</td><td>Daniel Craig  </td><td>581.5</td><td> 3.3</td></tr>\n",
              "\t<tr><td>Quantum of Solace              </td><td>2008</td><td>Daniel Craig  </td><td>514.2</td><td> 8.1</td></tr>\n",
              "\t<tr><td>Skyfall                        </td><td>2012</td><td>Daniel Craig  </td><td>943.5</td><td>14.5</td></tr>\n",
              "\t<tr><td>Spectre                        </td><td>2015</td><td>Daniel Craig  </td><td>726.7</td><td>  NA</td></tr>\n",
              "</tbody>\n",
              "</table>\n"
            ]
          },
          "metadata": {
            "tags": []
          }
        }
      ]
    },
    {
      "cell_type": "code",
      "metadata": {
        "colab": {
          "base_uri": "https://localhost:8080/",
          "height": 351
        },
        "id": "FWMuLAyAg9Kc",
        "outputId": "95ee777e-119c-48ae-b816-5469e7b48e5e"
      },
      "source": [
        "# Al seleccionar una o más variables, podemos forzar combinaciones únicas utilizando la función unique()\n",
        "df_james_bond %>% select(\n",
        "  Director                      # seleccionamos variable Director\n",
        ") %>% unique()                  # forzamos valores únicos"
      ],
      "execution_count": null,
      "outputs": [
        {
          "output_type": "display_data",
          "data": {
            "text/plain": [
              "   Director          \n",
              "1  Terence Young     \n",
              "2  Guy Hamilton      \n",
              "3  Ken Hughes        \n",
              "4  Lewis Gilbert     \n",
              "5  Peter R. Hunt     \n",
              "6  John Glen         \n",
              "7  Irvin Kershner    \n",
              "8  Martin Campbell   \n",
              "9  Roger Spottiswoode\n",
              "10 Michael Apted     \n",
              "11 Lee Tamahori      \n",
              "12 Marc Forster      \n",
              "13 Sam Mendes        "
            ],
            "text/latex": "A data.table: 13 × 1\n\\begin{tabular}{l}\n Director\\\\\n <chr>\\\\\n\\hline\n\t Terence Young     \\\\\n\t Guy Hamilton      \\\\\n\t Ken Hughes        \\\\\n\t Lewis Gilbert     \\\\\n\t Peter R. Hunt     \\\\\n\t John Glen         \\\\\n\t Irvin Kershner    \\\\\n\t Martin Campbell   \\\\\n\t Roger Spottiswoode\\\\\n\t Michael Apted     \\\\\n\t Lee Tamahori      \\\\\n\t Marc Forster      \\\\\n\t Sam Mendes        \\\\\n\\end{tabular}\n",
            "text/markdown": "\nA data.table: 13 × 1\n\n| Director &lt;chr&gt; |\n|---|\n| Terence Young      |\n| Guy Hamilton       |\n| Ken Hughes         |\n| Lewis Gilbert      |\n| Peter R. Hunt      |\n| John Glen          |\n| Irvin Kershner     |\n| Martin Campbell    |\n| Roger Spottiswoode |\n| Michael Apted      |\n| Lee Tamahori       |\n| Marc Forster       |\n| Sam Mendes         |\n\n",
            "text/html": [
              "<table>\n",
              "<caption>A data.table: 13 × 1</caption>\n",
              "<thead>\n",
              "\t<tr><th scope=col>Director</th></tr>\n",
              "\t<tr><th scope=col>&lt;chr&gt;</th></tr>\n",
              "</thead>\n",
              "<tbody>\n",
              "\t<tr><td>Terence Young     </td></tr>\n",
              "\t<tr><td>Guy Hamilton      </td></tr>\n",
              "\t<tr><td>Ken Hughes        </td></tr>\n",
              "\t<tr><td>Lewis Gilbert     </td></tr>\n",
              "\t<tr><td>Peter R. Hunt     </td></tr>\n",
              "\t<tr><td>John Glen         </td></tr>\n",
              "\t<tr><td>Irvin Kershner    </td></tr>\n",
              "\t<tr><td>Martin Campbell   </td></tr>\n",
              "\t<tr><td>Roger Spottiswoode</td></tr>\n",
              "\t<tr><td>Michael Apted     </td></tr>\n",
              "\t<tr><td>Lee Tamahori      </td></tr>\n",
              "\t<tr><td>Marc Forster      </td></tr>\n",
              "\t<tr><td>Sam Mendes        </td></tr>\n",
              "</tbody>\n",
              "</table>\n"
            ]
          },
          "metadata": {
            "tags": []
          }
        }
      ]
    },
    {
      "cell_type": "markdown",
      "metadata": {
        "id": "3CXJFSZnTa0c"
      },
      "source": [
        "### Filtrando filas\n",
        "---\n",
        "A continuación, aprenderemos una forma sencilla de filtrar observaciones en función de criterios lógicos utilizando la función *filter()*\n",
        "\n",
        "\n",
        "```\n",
        "dplyr::filter(object, criteria ...)\n",
        "```\n",
        "\n"
      ]
    },
    {
      "cell_type": "code",
      "metadata": {
        "colab": {
          "base_uri": "https://localhost:8080/",
          "height": 183
        },
        "id": "RKapZSIaTlev",
        "outputId": "8ebb2a63-008f-497a-b696-4f56a889e4fb"
      },
      "source": [
        "# Filtramos el df con películas de James Bond\n",
        "df_james_bond %>% filter(Year>2000) # únicamente películas lanzadas a partir del año 2000"
      ],
      "execution_count": null,
      "outputs": [
        {
          "output_type": "display_data",
          "data": {
            "text/plain": [
              "  Film              Year Actor          Director        Box Office Budget\n",
              "1 Die Another Day   2002 Pierce Brosnan Lee Tamahori    465.4      154.2 \n",
              "2 Casino Royale     2006 Daniel Craig   Martin Campbell 581.5      145.3 \n",
              "3 Quantum of Solace 2008 Daniel Craig   Marc Forster    514.2      181.4 \n",
              "4 Skyfall           2012 Daniel Craig   Sam Mendes      943.5      170.2 \n",
              "5 Spectre           2015 Daniel Craig   Sam Mendes      726.7      206.3 \n",
              "  Bond Actor Salary\n",
              "1 17.9             \n",
              "2  3.3             \n",
              "3  8.1             \n",
              "4 14.5             \n",
              "5   NA             "
            ],
            "text/latex": "A data.table: 5 × 7\n\\begin{tabular}{lllllll}\n Film & Year & Actor & Director & Box Office & Budget & Bond Actor Salary\\\\\n <chr> & <int> & <chr> & <chr> & <dbl> & <dbl> & <dbl>\\\\\n\\hline\n\t Die Another Day   & 2002 & Pierce Brosnan & Lee Tamahori    & 465.4 & 154.2 & 17.9\\\\\n\t Casino Royale     & 2006 & Daniel Craig   & Martin Campbell & 581.5 & 145.3 &  3.3\\\\\n\t Quantum of Solace & 2008 & Daniel Craig   & Marc Forster    & 514.2 & 181.4 &  8.1\\\\\n\t Skyfall           & 2012 & Daniel Craig   & Sam Mendes      & 943.5 & 170.2 & 14.5\\\\\n\t Spectre           & 2015 & Daniel Craig   & Sam Mendes      & 726.7 & 206.3 &   NA\\\\\n\\end{tabular}\n",
            "text/markdown": "\nA data.table: 5 × 7\n\n| Film &lt;chr&gt; | Year &lt;int&gt; | Actor &lt;chr&gt; | Director &lt;chr&gt; | Box Office &lt;dbl&gt; | Budget &lt;dbl&gt; | Bond Actor Salary &lt;dbl&gt; |\n|---|---|---|---|---|---|---|\n| Die Another Day   | 2002 | Pierce Brosnan | Lee Tamahori    | 465.4 | 154.2 | 17.9 |\n| Casino Royale     | 2006 | Daniel Craig   | Martin Campbell | 581.5 | 145.3 |  3.3 |\n| Quantum of Solace | 2008 | Daniel Craig   | Marc Forster    | 514.2 | 181.4 |  8.1 |\n| Skyfall           | 2012 | Daniel Craig   | Sam Mendes      | 943.5 | 170.2 | 14.5 |\n| Spectre           | 2015 | Daniel Craig   | Sam Mendes      | 726.7 | 206.3 |   NA |\n\n",
            "text/html": [
              "<table>\n",
              "<caption>A data.table: 5 × 7</caption>\n",
              "<thead>\n",
              "\t<tr><th scope=col>Film</th><th scope=col>Year</th><th scope=col>Actor</th><th scope=col>Director</th><th scope=col>Box Office</th><th scope=col>Budget</th><th scope=col>Bond Actor Salary</th></tr>\n",
              "\t<tr><th scope=col>&lt;chr&gt;</th><th scope=col>&lt;int&gt;</th><th scope=col>&lt;chr&gt;</th><th scope=col>&lt;chr&gt;</th><th scope=col>&lt;dbl&gt;</th><th scope=col>&lt;dbl&gt;</th><th scope=col>&lt;dbl&gt;</th></tr>\n",
              "</thead>\n",
              "<tbody>\n",
              "\t<tr><td>Die Another Day  </td><td>2002</td><td>Pierce Brosnan</td><td>Lee Tamahori   </td><td>465.4</td><td>154.2</td><td>17.9</td></tr>\n",
              "\t<tr><td>Casino Royale    </td><td>2006</td><td>Daniel Craig  </td><td>Martin Campbell</td><td>581.5</td><td>145.3</td><td> 3.3</td></tr>\n",
              "\t<tr><td>Quantum of Solace</td><td>2008</td><td>Daniel Craig  </td><td>Marc Forster   </td><td>514.2</td><td>181.4</td><td> 8.1</td></tr>\n",
              "\t<tr><td>Skyfall          </td><td>2012</td><td>Daniel Craig  </td><td>Sam Mendes     </td><td>943.5</td><td>170.2</td><td>14.5</td></tr>\n",
              "\t<tr><td>Spectre          </td><td>2015</td><td>Daniel Craig  </td><td>Sam Mendes     </td><td>726.7</td><td>206.3</td><td>  NA</td></tr>\n",
              "</tbody>\n",
              "</table>\n"
            ]
          },
          "metadata": {
            "tags": []
          }
        }
      ]
    },
    {
      "cell_type": "code",
      "metadata": {
        "colab": {
          "base_uri": "https://localhost:8080/",
          "height": 183
        },
        "id": "cOzG9FP6TlqE",
        "outputId": "788a3d07-aad2-41af-982c-7f857442b88c"
      },
      "source": [
        "# Podemos combinar múltiples funciones de manipulación utilizando el \"pipe operator\"\n",
        "## el orden de las funciones es fundamental, ya que estamos haciendo operaciones de a pasos y transmitiendo el resultado a la siguiente función\n",
        "df_james_bond %>% select(Film,Year) %>% filter(Year>2000) # si hubiéramos omitido seleccionar la columna \"year\", no podríamos luego filtrar por ese campo"
      ],
      "execution_count": null,
      "outputs": [
        {
          "output_type": "display_data",
          "data": {
            "text/plain": [
              "  Film              Year\n",
              "1 Die Another Day   2002\n",
              "2 Casino Royale     2006\n",
              "3 Quantum of Solace 2008\n",
              "4 Skyfall           2012\n",
              "5 Spectre           2015"
            ],
            "text/latex": "A data.table: 5 × 2\n\\begin{tabular}{ll}\n Film & Year\\\\\n <chr> & <int>\\\\\n\\hline\n\t Die Another Day   & 2002\\\\\n\t Casino Royale     & 2006\\\\\n\t Quantum of Solace & 2008\\\\\n\t Skyfall           & 2012\\\\\n\t Spectre           & 2015\\\\\n\\end{tabular}\n",
            "text/markdown": "\nA data.table: 5 × 2\n\n| Film &lt;chr&gt; | Year &lt;int&gt; |\n|---|---|\n| Die Another Day   | 2002 |\n| Casino Royale     | 2006 |\n| Quantum of Solace | 2008 |\n| Skyfall           | 2012 |\n| Spectre           | 2015 |\n\n",
            "text/html": [
              "<table>\n",
              "<caption>A data.table: 5 × 2</caption>\n",
              "<thead>\n",
              "\t<tr><th scope=col>Film</th><th scope=col>Year</th></tr>\n",
              "\t<tr><th scope=col>&lt;chr&gt;</th><th scope=col>&lt;int&gt;</th></tr>\n",
              "</thead>\n",
              "<tbody>\n",
              "\t<tr><td>Die Another Day  </td><td>2002</td></tr>\n",
              "\t<tr><td>Casino Royale    </td><td>2006</td></tr>\n",
              "\t<tr><td>Quantum of Solace</td><td>2008</td></tr>\n",
              "\t<tr><td>Skyfall          </td><td>2012</td></tr>\n",
              "\t<tr><td>Spectre          </td><td>2015</td></tr>\n",
              "</tbody>\n",
              "</table>\n"
            ]
          },
          "metadata": {
            "tags": []
          }
        }
      ]
    },
    {
      "cell_type": "code",
      "metadata": {
        "id": "lNcvEQC_UGaE"
      },
      "source": [
        "# El siguiente ejericio generá eror al ejecutarlo\n",
        "## intentaremos filtrar por año, pero no hemos seleccionado año en el paso anterior al reducir el data frame\n",
        "df_james_bond %>% select(Film,Actor) %>% filter(Year>2000) # esto generará error, ya que no podemos filtrar por un campo que no existe"
      ],
      "execution_count": null,
      "outputs": []
    },
    {
      "cell_type": "code",
      "metadata": {
        "colab": {
          "base_uri": "https://localhost:8080/",
          "height": 162
        },
        "id": "CRv1ZJxtUy2i",
        "outputId": "483709e8-8f86-410e-ed2d-2627a1e1b05c"
      },
      "source": [
        "# En el siguiente ejercicio, filtramos utilizando dos coindicines\n",
        "## agregar una nueva condición como parámetro, es exactamente lo mismo que agregarla utilizando el operador \"&\" (AND)\n",
        "df_james_bond %>% filter(\n",
        "  Year>2000\n",
        "  ,Actor == 'Daniel Craig'\n",
        ")"
      ],
      "execution_count": null,
      "outputs": [
        {
          "output_type": "display_data",
          "data": {
            "text/plain": [
              "  Film              Year Actor        Director        Box Office Budget\n",
              "1 Casino Royale     2006 Daniel Craig Martin Campbell 581.5      145.3 \n",
              "2 Quantum of Solace 2008 Daniel Craig Marc Forster    514.2      181.4 \n",
              "3 Skyfall           2012 Daniel Craig Sam Mendes      943.5      170.2 \n",
              "4 Spectre           2015 Daniel Craig Sam Mendes      726.7      206.3 \n",
              "  Bond Actor Salary\n",
              "1  3.3             \n",
              "2  8.1             \n",
              "3 14.5             \n",
              "4   NA             "
            ],
            "text/latex": "A data.table: 4 × 7\n\\begin{tabular}{lllllll}\n Film & Year & Actor & Director & Box Office & Budget & Bond Actor Salary\\\\\n <chr> & <int> & <chr> & <chr> & <dbl> & <dbl> & <dbl>\\\\\n\\hline\n\t Casino Royale     & 2006 & Daniel Craig & Martin Campbell & 581.5 & 145.3 &  3.3\\\\\n\t Quantum of Solace & 2008 & Daniel Craig & Marc Forster    & 514.2 & 181.4 &  8.1\\\\\n\t Skyfall           & 2012 & Daniel Craig & Sam Mendes      & 943.5 & 170.2 & 14.5\\\\\n\t Spectre           & 2015 & Daniel Craig & Sam Mendes      & 726.7 & 206.3 &   NA\\\\\n\\end{tabular}\n",
            "text/markdown": "\nA data.table: 4 × 7\n\n| Film &lt;chr&gt; | Year &lt;int&gt; | Actor &lt;chr&gt; | Director &lt;chr&gt; | Box Office &lt;dbl&gt; | Budget &lt;dbl&gt; | Bond Actor Salary &lt;dbl&gt; |\n|---|---|---|---|---|---|---|\n| Casino Royale     | 2006 | Daniel Craig | Martin Campbell | 581.5 | 145.3 |  3.3 |\n| Quantum of Solace | 2008 | Daniel Craig | Marc Forster    | 514.2 | 181.4 |  8.1 |\n| Skyfall           | 2012 | Daniel Craig | Sam Mendes      | 943.5 | 170.2 | 14.5 |\n| Spectre           | 2015 | Daniel Craig | Sam Mendes      | 726.7 | 206.3 |   NA |\n\n",
            "text/html": [
              "<table>\n",
              "<caption>A data.table: 4 × 7</caption>\n",
              "<thead>\n",
              "\t<tr><th scope=col>Film</th><th scope=col>Year</th><th scope=col>Actor</th><th scope=col>Director</th><th scope=col>Box Office</th><th scope=col>Budget</th><th scope=col>Bond Actor Salary</th></tr>\n",
              "\t<tr><th scope=col>&lt;chr&gt;</th><th scope=col>&lt;int&gt;</th><th scope=col>&lt;chr&gt;</th><th scope=col>&lt;chr&gt;</th><th scope=col>&lt;dbl&gt;</th><th scope=col>&lt;dbl&gt;</th><th scope=col>&lt;dbl&gt;</th></tr>\n",
              "</thead>\n",
              "<tbody>\n",
              "\t<tr><td>Casino Royale    </td><td>2006</td><td>Daniel Craig</td><td>Martin Campbell</td><td>581.5</td><td>145.3</td><td> 3.3</td></tr>\n",
              "\t<tr><td>Quantum of Solace</td><td>2008</td><td>Daniel Craig</td><td>Marc Forster   </td><td>514.2</td><td>181.4</td><td> 8.1</td></tr>\n",
              "\t<tr><td>Skyfall          </td><td>2012</td><td>Daniel Craig</td><td>Sam Mendes     </td><td>943.5</td><td>170.2</td><td>14.5</td></tr>\n",
              "\t<tr><td>Spectre          </td><td>2015</td><td>Daniel Craig</td><td>Sam Mendes     </td><td>726.7</td><td>206.3</td><td>  NA</td></tr>\n",
              "</tbody>\n",
              "</table>\n"
            ]
          },
          "metadata": {
            "tags": []
          }
        }
      ]
    },
    {
      "cell_type": "code",
      "metadata": {
        "colab": {
          "base_uri": "https://localhost:8080/",
          "height": 162
        },
        "id": "xdgh_FjjU7O8",
        "outputId": "c51e1b0c-758d-4f44-f443-b97b72d9493c"
      },
      "source": [
        "# Comprobamos que obtenemos el resultado utilizando una única condición compuesta por dos elementos\n",
        "df_james_bond %>% filter(\n",
        "  Year>2000 & Actor == 'Daniel Craig' # filtramos por películas que hayan sido lanzadas a partir de 2000 y cuyo actor sea Daniel Craig\n",
        ")"
      ],
      "execution_count": null,
      "outputs": [
        {
          "output_type": "display_data",
          "data": {
            "text/plain": [
              "  Film              Year Actor        Director        Box Office Budget\n",
              "1 Casino Royale     2006 Daniel Craig Martin Campbell 581.5      145.3 \n",
              "2 Quantum of Solace 2008 Daniel Craig Marc Forster    514.2      181.4 \n",
              "3 Skyfall           2012 Daniel Craig Sam Mendes      943.5      170.2 \n",
              "4 Spectre           2015 Daniel Craig Sam Mendes      726.7      206.3 \n",
              "  Bond Actor Salary\n",
              "1  3.3             \n",
              "2  8.1             \n",
              "3 14.5             \n",
              "4   NA             "
            ],
            "text/latex": "A data.table: 4 × 7\n\\begin{tabular}{lllllll}\n Film & Year & Actor & Director & Box Office & Budget & Bond Actor Salary\\\\\n <chr> & <int> & <chr> & <chr> & <dbl> & <dbl> & <dbl>\\\\\n\\hline\n\t Casino Royale     & 2006 & Daniel Craig & Martin Campbell & 581.5 & 145.3 &  3.3\\\\\n\t Quantum of Solace & 2008 & Daniel Craig & Marc Forster    & 514.2 & 181.4 &  8.1\\\\\n\t Skyfall           & 2012 & Daniel Craig & Sam Mendes      & 943.5 & 170.2 & 14.5\\\\\n\t Spectre           & 2015 & Daniel Craig & Sam Mendes      & 726.7 & 206.3 &   NA\\\\\n\\end{tabular}\n",
            "text/markdown": "\nA data.table: 4 × 7\n\n| Film &lt;chr&gt; | Year &lt;int&gt; | Actor &lt;chr&gt; | Director &lt;chr&gt; | Box Office &lt;dbl&gt; | Budget &lt;dbl&gt; | Bond Actor Salary &lt;dbl&gt; |\n|---|---|---|---|---|---|---|\n| Casino Royale     | 2006 | Daniel Craig | Martin Campbell | 581.5 | 145.3 |  3.3 |\n| Quantum of Solace | 2008 | Daniel Craig | Marc Forster    | 514.2 | 181.4 |  8.1 |\n| Skyfall           | 2012 | Daniel Craig | Sam Mendes      | 943.5 | 170.2 | 14.5 |\n| Spectre           | 2015 | Daniel Craig | Sam Mendes      | 726.7 | 206.3 |   NA |\n\n",
            "text/html": [
              "<table>\n",
              "<caption>A data.table: 4 × 7</caption>\n",
              "<thead>\n",
              "\t<tr><th scope=col>Film</th><th scope=col>Year</th><th scope=col>Actor</th><th scope=col>Director</th><th scope=col>Box Office</th><th scope=col>Budget</th><th scope=col>Bond Actor Salary</th></tr>\n",
              "\t<tr><th scope=col>&lt;chr&gt;</th><th scope=col>&lt;int&gt;</th><th scope=col>&lt;chr&gt;</th><th scope=col>&lt;chr&gt;</th><th scope=col>&lt;dbl&gt;</th><th scope=col>&lt;dbl&gt;</th><th scope=col>&lt;dbl&gt;</th></tr>\n",
              "</thead>\n",
              "<tbody>\n",
              "\t<tr><td>Casino Royale    </td><td>2006</td><td>Daniel Craig</td><td>Martin Campbell</td><td>581.5</td><td>145.3</td><td> 3.3</td></tr>\n",
              "\t<tr><td>Quantum of Solace</td><td>2008</td><td>Daniel Craig</td><td>Marc Forster   </td><td>514.2</td><td>181.4</td><td> 8.1</td></tr>\n",
              "\t<tr><td>Skyfall          </td><td>2012</td><td>Daniel Craig</td><td>Sam Mendes     </td><td>943.5</td><td>170.2</td><td>14.5</td></tr>\n",
              "\t<tr><td>Spectre          </td><td>2015</td><td>Daniel Craig</td><td>Sam Mendes     </td><td>726.7</td><td>206.3</td><td>  NA</td></tr>\n",
              "</tbody>\n",
              "</table>\n"
            ]
          },
          "metadata": {
            "tags": []
          }
        }
      ]
    },
    {
      "cell_type": "code",
      "metadata": {
        "colab": {
          "base_uri": "https://localhost:8080/",
          "height": 183
        },
        "id": "RPeR7syAU_FR",
        "outputId": "460775d0-453e-4c5e-97b1-fca656d86ecd"
      },
      "source": [
        "# Distinto sería si ambos elementos en la condición fueran de tipo OR (\"|\")\n",
        "df_james_bond %>% filter(\n",
        "  Year>2000 | Actor == 'Daniel Craig' # filtramos por películas que hayan sido lanzadas a partir de 2000 o cuyo actor sea Daniel Craig\n",
        ")"
      ],
      "execution_count": null,
      "outputs": [
        {
          "output_type": "display_data",
          "data": {
            "text/plain": [
              "  Film              Year Actor          Director        Box Office Budget\n",
              "1 Die Another Day   2002 Pierce Brosnan Lee Tamahori    465.4      154.2 \n",
              "2 Casino Royale     2006 Daniel Craig   Martin Campbell 581.5      145.3 \n",
              "3 Quantum of Solace 2008 Daniel Craig   Marc Forster    514.2      181.4 \n",
              "4 Skyfall           2012 Daniel Craig   Sam Mendes      943.5      170.2 \n",
              "5 Spectre           2015 Daniel Craig   Sam Mendes      726.7      206.3 \n",
              "  Bond Actor Salary\n",
              "1 17.9             \n",
              "2  3.3             \n",
              "3  8.1             \n",
              "4 14.5             \n",
              "5   NA             "
            ],
            "text/latex": "A data.table: 5 × 7\n\\begin{tabular}{lllllll}\n Film & Year & Actor & Director & Box Office & Budget & Bond Actor Salary\\\\\n <chr> & <int> & <chr> & <chr> & <dbl> & <dbl> & <dbl>\\\\\n\\hline\n\t Die Another Day   & 2002 & Pierce Brosnan & Lee Tamahori    & 465.4 & 154.2 & 17.9\\\\\n\t Casino Royale     & 2006 & Daniel Craig   & Martin Campbell & 581.5 & 145.3 &  3.3\\\\\n\t Quantum of Solace & 2008 & Daniel Craig   & Marc Forster    & 514.2 & 181.4 &  8.1\\\\\n\t Skyfall           & 2012 & Daniel Craig   & Sam Mendes      & 943.5 & 170.2 & 14.5\\\\\n\t Spectre           & 2015 & Daniel Craig   & Sam Mendes      & 726.7 & 206.3 &   NA\\\\\n\\end{tabular}\n",
            "text/markdown": "\nA data.table: 5 × 7\n\n| Film &lt;chr&gt; | Year &lt;int&gt; | Actor &lt;chr&gt; | Director &lt;chr&gt; | Box Office &lt;dbl&gt; | Budget &lt;dbl&gt; | Bond Actor Salary &lt;dbl&gt; |\n|---|---|---|---|---|---|---|\n| Die Another Day   | 2002 | Pierce Brosnan | Lee Tamahori    | 465.4 | 154.2 | 17.9 |\n| Casino Royale     | 2006 | Daniel Craig   | Martin Campbell | 581.5 | 145.3 |  3.3 |\n| Quantum of Solace | 2008 | Daniel Craig   | Marc Forster    | 514.2 | 181.4 |  8.1 |\n| Skyfall           | 2012 | Daniel Craig   | Sam Mendes      | 943.5 | 170.2 | 14.5 |\n| Spectre           | 2015 | Daniel Craig   | Sam Mendes      | 726.7 | 206.3 |   NA |\n\n",
            "text/html": [
              "<table>\n",
              "<caption>A data.table: 5 × 7</caption>\n",
              "<thead>\n",
              "\t<tr><th scope=col>Film</th><th scope=col>Year</th><th scope=col>Actor</th><th scope=col>Director</th><th scope=col>Box Office</th><th scope=col>Budget</th><th scope=col>Bond Actor Salary</th></tr>\n",
              "\t<tr><th scope=col>&lt;chr&gt;</th><th scope=col>&lt;int&gt;</th><th scope=col>&lt;chr&gt;</th><th scope=col>&lt;chr&gt;</th><th scope=col>&lt;dbl&gt;</th><th scope=col>&lt;dbl&gt;</th><th scope=col>&lt;dbl&gt;</th></tr>\n",
              "</thead>\n",
              "<tbody>\n",
              "\t<tr><td>Die Another Day  </td><td>2002</td><td>Pierce Brosnan</td><td>Lee Tamahori   </td><td>465.4</td><td>154.2</td><td>17.9</td></tr>\n",
              "\t<tr><td>Casino Royale    </td><td>2006</td><td>Daniel Craig  </td><td>Martin Campbell</td><td>581.5</td><td>145.3</td><td> 3.3</td></tr>\n",
              "\t<tr><td>Quantum of Solace</td><td>2008</td><td>Daniel Craig  </td><td>Marc Forster   </td><td>514.2</td><td>181.4</td><td> 8.1</td></tr>\n",
              "\t<tr><td>Skyfall          </td><td>2012</td><td>Daniel Craig  </td><td>Sam Mendes     </td><td>943.5</td><td>170.2</td><td>14.5</td></tr>\n",
              "\t<tr><td>Spectre          </td><td>2015</td><td>Daniel Craig  </td><td>Sam Mendes     </td><td>726.7</td><td>206.3</td><td>  NA</td></tr>\n",
              "</tbody>\n",
              "</table>\n"
            ]
          },
          "metadata": {
            "tags": []
          }
        }
      ]
    },
    {
      "cell_type": "code",
      "metadata": {
        "colab": {
          "base_uri": "https://localhost:8080/",
          "height": 393
        },
        "id": "Nfbb7820VGys",
        "outputId": "debb199a-c1bf-4ede-e1c5-dc3a3740a02e"
      },
      "source": [
        "# Una forma cómoda de filtrar una variable categórica por múltiples valores es utilizando un vector\n",
        "## de esta forma, evitamos tener que crear una condición OR que puede llegar a ser muy larga\n",
        "## para esto, utilizamos el operador \"%in%\" + un vector que definimos\n",
        "df_james_bond %>% filter(\n",
        "  Actor %in% c('Daniel Craig','Pierce Brosnan','Sean Connery') # filtramos por películas cuyos actores sean alguno de los especificados\n",
        ")"
      ],
      "execution_count": null,
      "outputs": [
        {
          "output_type": "display_data",
          "data": {
            "text/plain": [
              "   Film                    Year Actor          Director           Box Office\n",
              "1  Dr. No                  1962 Sean Connery   Terence Young      448.8     \n",
              "2  From Russia with Love   1963 Sean Connery   Terence Young      543.8     \n",
              "3  Goldfinger              1964 Sean Connery   Guy Hamilton       820.4     \n",
              "4  Thunderball             1965 Sean Connery   Terence Young      848.1     \n",
              "5  You Only Live Twice     1967 Sean Connery   Lewis Gilbert      514.2     \n",
              "6  Diamonds Are Forever    1971 Sean Connery   Guy Hamilton       442.5     \n",
              "7  Never Say Never Again   1983 Sean Connery   Irvin Kershner     380.0     \n",
              "8  GoldenEye               1995 Pierce Brosnan Martin Campbell    518.5     \n",
              "9  Tomorrow Never Dies     1997 Pierce Brosnan Roger Spottiswoode 463.2     \n",
              "10 The World Is Not Enough 1999 Pierce Brosnan Michael Apted      439.5     \n",
              "11 Die Another Day         2002 Pierce Brosnan Lee Tamahori       465.4     \n",
              "12 Casino Royale           2006 Daniel Craig   Martin Campbell    581.5     \n",
              "13 Quantum of Solace       2008 Daniel Craig   Marc Forster       514.2     \n",
              "14 Skyfall                 2012 Daniel Craig   Sam Mendes         943.5     \n",
              "15 Spectre                 2015 Daniel Craig   Sam Mendes         726.7     \n",
              "   Budget Bond Actor Salary\n",
              "1    7.0   0.6             \n",
              "2   12.6   1.6             \n",
              "3   18.6   3.2             \n",
              "4   41.9   4.7             \n",
              "5   59.9   4.4             \n",
              "6   34.7   5.8             \n",
              "7   86.0    NA             \n",
              "8   76.9   5.1             \n",
              "9  133.9  10.0             \n",
              "10 158.3  13.5             \n",
              "11 154.2  17.9             \n",
              "12 145.3   3.3             \n",
              "13 181.4   8.1             \n",
              "14 170.2  14.5             \n",
              "15 206.3    NA             "
            ],
            "text/latex": "A data.table: 15 × 7\n\\begin{tabular}{lllllll}\n Film & Year & Actor & Director & Box Office & Budget & Bond Actor Salary\\\\\n <chr> & <int> & <chr> & <chr> & <dbl> & <dbl> & <dbl>\\\\\n\\hline\n\t Dr. No                  & 1962 & Sean Connery   & Terence Young      & 448.8 &   7.0 &  0.6\\\\\n\t From Russia with Love   & 1963 & Sean Connery   & Terence Young      & 543.8 &  12.6 &  1.6\\\\\n\t Goldfinger              & 1964 & Sean Connery   & Guy Hamilton       & 820.4 &  18.6 &  3.2\\\\\n\t Thunderball             & 1965 & Sean Connery   & Terence Young      & 848.1 &  41.9 &  4.7\\\\\n\t You Only Live Twice     & 1967 & Sean Connery   & Lewis Gilbert      & 514.2 &  59.9 &  4.4\\\\\n\t Diamonds Are Forever    & 1971 & Sean Connery   & Guy Hamilton       & 442.5 &  34.7 &  5.8\\\\\n\t Never Say Never Again   & 1983 & Sean Connery   & Irvin Kershner     & 380.0 &  86.0 &   NA\\\\\n\t GoldenEye               & 1995 & Pierce Brosnan & Martin Campbell    & 518.5 &  76.9 &  5.1\\\\\n\t Tomorrow Never Dies     & 1997 & Pierce Brosnan & Roger Spottiswoode & 463.2 & 133.9 & 10.0\\\\\n\t The World Is Not Enough & 1999 & Pierce Brosnan & Michael Apted      & 439.5 & 158.3 & 13.5\\\\\n\t Die Another Day         & 2002 & Pierce Brosnan & Lee Tamahori       & 465.4 & 154.2 & 17.9\\\\\n\t Casino Royale           & 2006 & Daniel Craig   & Martin Campbell    & 581.5 & 145.3 &  3.3\\\\\n\t Quantum of Solace       & 2008 & Daniel Craig   & Marc Forster       & 514.2 & 181.4 &  8.1\\\\\n\t Skyfall                 & 2012 & Daniel Craig   & Sam Mendes         & 943.5 & 170.2 & 14.5\\\\\n\t Spectre                 & 2015 & Daniel Craig   & Sam Mendes         & 726.7 & 206.3 &   NA\\\\\n\\end{tabular}\n",
            "text/markdown": "\nA data.table: 15 × 7\n\n| Film &lt;chr&gt; | Year &lt;int&gt; | Actor &lt;chr&gt; | Director &lt;chr&gt; | Box Office &lt;dbl&gt; | Budget &lt;dbl&gt; | Bond Actor Salary &lt;dbl&gt; |\n|---|---|---|---|---|---|---|\n| Dr. No                  | 1962 | Sean Connery   | Terence Young      | 448.8 |   7.0 |  0.6 |\n| From Russia with Love   | 1963 | Sean Connery   | Terence Young      | 543.8 |  12.6 |  1.6 |\n| Goldfinger              | 1964 | Sean Connery   | Guy Hamilton       | 820.4 |  18.6 |  3.2 |\n| Thunderball             | 1965 | Sean Connery   | Terence Young      | 848.1 |  41.9 |  4.7 |\n| You Only Live Twice     | 1967 | Sean Connery   | Lewis Gilbert      | 514.2 |  59.9 |  4.4 |\n| Diamonds Are Forever    | 1971 | Sean Connery   | Guy Hamilton       | 442.5 |  34.7 |  5.8 |\n| Never Say Never Again   | 1983 | Sean Connery   | Irvin Kershner     | 380.0 |  86.0 |   NA |\n| GoldenEye               | 1995 | Pierce Brosnan | Martin Campbell    | 518.5 |  76.9 |  5.1 |\n| Tomorrow Never Dies     | 1997 | Pierce Brosnan | Roger Spottiswoode | 463.2 | 133.9 | 10.0 |\n| The World Is Not Enough | 1999 | Pierce Brosnan | Michael Apted      | 439.5 | 158.3 | 13.5 |\n| Die Another Day         | 2002 | Pierce Brosnan | Lee Tamahori       | 465.4 | 154.2 | 17.9 |\n| Casino Royale           | 2006 | Daniel Craig   | Martin Campbell    | 581.5 | 145.3 |  3.3 |\n| Quantum of Solace       | 2008 | Daniel Craig   | Marc Forster       | 514.2 | 181.4 |  8.1 |\n| Skyfall                 | 2012 | Daniel Craig   | Sam Mendes         | 943.5 | 170.2 | 14.5 |\n| Spectre                 | 2015 | Daniel Craig   | Sam Mendes         | 726.7 | 206.3 |   NA |\n\n",
            "text/html": [
              "<table>\n",
              "<caption>A data.table: 15 × 7</caption>\n",
              "<thead>\n",
              "\t<tr><th scope=col>Film</th><th scope=col>Year</th><th scope=col>Actor</th><th scope=col>Director</th><th scope=col>Box Office</th><th scope=col>Budget</th><th scope=col>Bond Actor Salary</th></tr>\n",
              "\t<tr><th scope=col>&lt;chr&gt;</th><th scope=col>&lt;int&gt;</th><th scope=col>&lt;chr&gt;</th><th scope=col>&lt;chr&gt;</th><th scope=col>&lt;dbl&gt;</th><th scope=col>&lt;dbl&gt;</th><th scope=col>&lt;dbl&gt;</th></tr>\n",
              "</thead>\n",
              "<tbody>\n",
              "\t<tr><td>Dr. No                 </td><td>1962</td><td>Sean Connery  </td><td>Terence Young     </td><td>448.8</td><td>  7.0</td><td> 0.6</td></tr>\n",
              "\t<tr><td>From Russia with Love  </td><td>1963</td><td>Sean Connery  </td><td>Terence Young     </td><td>543.8</td><td> 12.6</td><td> 1.6</td></tr>\n",
              "\t<tr><td>Goldfinger             </td><td>1964</td><td>Sean Connery  </td><td>Guy Hamilton      </td><td>820.4</td><td> 18.6</td><td> 3.2</td></tr>\n",
              "\t<tr><td>Thunderball            </td><td>1965</td><td>Sean Connery  </td><td>Terence Young     </td><td>848.1</td><td> 41.9</td><td> 4.7</td></tr>\n",
              "\t<tr><td>You Only Live Twice    </td><td>1967</td><td>Sean Connery  </td><td>Lewis Gilbert     </td><td>514.2</td><td> 59.9</td><td> 4.4</td></tr>\n",
              "\t<tr><td>Diamonds Are Forever   </td><td>1971</td><td>Sean Connery  </td><td>Guy Hamilton      </td><td>442.5</td><td> 34.7</td><td> 5.8</td></tr>\n",
              "\t<tr><td>Never Say Never Again  </td><td>1983</td><td>Sean Connery  </td><td>Irvin Kershner    </td><td>380.0</td><td> 86.0</td><td>  NA</td></tr>\n",
              "\t<tr><td>GoldenEye              </td><td>1995</td><td>Pierce Brosnan</td><td>Martin Campbell   </td><td>518.5</td><td> 76.9</td><td> 5.1</td></tr>\n",
              "\t<tr><td>Tomorrow Never Dies    </td><td>1997</td><td>Pierce Brosnan</td><td>Roger Spottiswoode</td><td>463.2</td><td>133.9</td><td>10.0</td></tr>\n",
              "\t<tr><td>The World Is Not Enough</td><td>1999</td><td>Pierce Brosnan</td><td>Michael Apted     </td><td>439.5</td><td>158.3</td><td>13.5</td></tr>\n",
              "\t<tr><td>Die Another Day        </td><td>2002</td><td>Pierce Brosnan</td><td>Lee Tamahori      </td><td>465.4</td><td>154.2</td><td>17.9</td></tr>\n",
              "\t<tr><td>Casino Royale          </td><td>2006</td><td>Daniel Craig  </td><td>Martin Campbell   </td><td>581.5</td><td>145.3</td><td> 3.3</td></tr>\n",
              "\t<tr><td>Quantum of Solace      </td><td>2008</td><td>Daniel Craig  </td><td>Marc Forster      </td><td>514.2</td><td>181.4</td><td> 8.1</td></tr>\n",
              "\t<tr><td>Skyfall                </td><td>2012</td><td>Daniel Craig  </td><td>Sam Mendes        </td><td>943.5</td><td>170.2</td><td>14.5</td></tr>\n",
              "\t<tr><td>Spectre                </td><td>2015</td><td>Daniel Craig  </td><td>Sam Mendes        </td><td>726.7</td><td>206.3</td><td>  NA</td></tr>\n",
              "</tbody>\n",
              "</table>\n"
            ]
          },
          "metadata": {
            "tags": []
          }
        }
      ]
    },
    {
      "cell_type": "code",
      "metadata": {
        "colab": {
          "base_uri": "https://localhost:8080/",
          "height": 309
        },
        "id": "SwW3A_8qVSxZ",
        "outputId": "84084ac4-6bfd-425a-ae69-02a6844f3b01"
      },
      "source": [
        "# Podemos negar condiciones utilizando el operador \"!\"\" (negación)\n",
        "df_james_bond %>% filter(\n",
        "  !Actor %in% c('Daniel Craig','Pierce Brosnan','Sean Connery') # filtramos por películas cuyos actores NO sean los especificados\n",
        ")"
      ],
      "execution_count": null,
      "outputs": [
        {
          "output_type": "display_data",
          "data": {
            "text/plain": [
              "   Film                            Year Actor          Director      Box Office\n",
              "1  Casino Royale                   1967 David Niven    Ken Hughes    315.0     \n",
              "2  On Her Majesty's Secret Service 1969 George Lazenby Peter R. Hunt 291.5     \n",
              "3  Live and Let Die                1973 Roger Moore    Guy Hamilton  460.3     \n",
              "4  The Man with the Golden Gun     1974 Roger Moore    Guy Hamilton  334.0     \n",
              "5  The Spy Who Loved Me            1977 Roger Moore    Lewis Gilbert 533.0     \n",
              "6  Moonraker                       1979 Roger Moore    Lewis Gilbert 535.0     \n",
              "7  For Your Eyes Only              1981 Roger Moore    John Glen     449.4     \n",
              "8  Octopussy                       1983 Roger Moore    John Glen     373.8     \n",
              "9  A View to a Kill                1985 Roger Moore    John Glen     275.2     \n",
              "10 The Living Daylights            1987 Timothy Dalton John Glen     313.5     \n",
              "11 Licence to Kill                 1989 Timothy Dalton John Glen     250.9     \n",
              "   Budget Bond Actor Salary\n",
              "1  85.0    NA              \n",
              "2  37.3   0.6              \n",
              "3  30.8    NA              \n",
              "4  27.7    NA              \n",
              "5  45.1    NA              \n",
              "6  91.5    NA              \n",
              "7  60.2    NA              \n",
              "8  53.9   7.8              \n",
              "9  54.5   9.1              \n",
              "10 68.8   5.2              \n",
              "11 56.7   7.9              "
            ],
            "text/latex": "A data.table: 11 × 7\n\\begin{tabular}{lllllll}\n Film & Year & Actor & Director & Box Office & Budget & Bond Actor Salary\\\\\n <chr> & <int> & <chr> & <chr> & <dbl> & <dbl> & <dbl>\\\\\n\\hline\n\t Casino Royale                   & 1967 & David Niven    & Ken Hughes    & 315.0 & 85.0 &  NA\\\\\n\t On Her Majesty's Secret Service & 1969 & George Lazenby & Peter R. Hunt & 291.5 & 37.3 & 0.6\\\\\n\t Live and Let Die                & 1973 & Roger Moore    & Guy Hamilton  & 460.3 & 30.8 &  NA\\\\\n\t The Man with the Golden Gun     & 1974 & Roger Moore    & Guy Hamilton  & 334.0 & 27.7 &  NA\\\\\n\t The Spy Who Loved Me            & 1977 & Roger Moore    & Lewis Gilbert & 533.0 & 45.1 &  NA\\\\\n\t Moonraker                       & 1979 & Roger Moore    & Lewis Gilbert & 535.0 & 91.5 &  NA\\\\\n\t For Your Eyes Only              & 1981 & Roger Moore    & John Glen     & 449.4 & 60.2 &  NA\\\\\n\t Octopussy                       & 1983 & Roger Moore    & John Glen     & 373.8 & 53.9 & 7.8\\\\\n\t A View to a Kill                & 1985 & Roger Moore    & John Glen     & 275.2 & 54.5 & 9.1\\\\\n\t The Living Daylights            & 1987 & Timothy Dalton & John Glen     & 313.5 & 68.8 & 5.2\\\\\n\t Licence to Kill                 & 1989 & Timothy Dalton & John Glen     & 250.9 & 56.7 & 7.9\\\\\n\\end{tabular}\n",
            "text/markdown": "\nA data.table: 11 × 7\n\n| Film &lt;chr&gt; | Year &lt;int&gt; | Actor &lt;chr&gt; | Director &lt;chr&gt; | Box Office &lt;dbl&gt; | Budget &lt;dbl&gt; | Bond Actor Salary &lt;dbl&gt; |\n|---|---|---|---|---|---|---|\n| Casino Royale                   | 1967 | David Niven    | Ken Hughes    | 315.0 | 85.0 |  NA |\n| On Her Majesty's Secret Service | 1969 | George Lazenby | Peter R. Hunt | 291.5 | 37.3 | 0.6 |\n| Live and Let Die                | 1973 | Roger Moore    | Guy Hamilton  | 460.3 | 30.8 |  NA |\n| The Man with the Golden Gun     | 1974 | Roger Moore    | Guy Hamilton  | 334.0 | 27.7 |  NA |\n| The Spy Who Loved Me            | 1977 | Roger Moore    | Lewis Gilbert | 533.0 | 45.1 |  NA |\n| Moonraker                       | 1979 | Roger Moore    | Lewis Gilbert | 535.0 | 91.5 |  NA |\n| For Your Eyes Only              | 1981 | Roger Moore    | John Glen     | 449.4 | 60.2 |  NA |\n| Octopussy                       | 1983 | Roger Moore    | John Glen     | 373.8 | 53.9 | 7.8 |\n| A View to a Kill                | 1985 | Roger Moore    | John Glen     | 275.2 | 54.5 | 9.1 |\n| The Living Daylights            | 1987 | Timothy Dalton | John Glen     | 313.5 | 68.8 | 5.2 |\n| Licence to Kill                 | 1989 | Timothy Dalton | John Glen     | 250.9 | 56.7 | 7.9 |\n\n",
            "text/html": [
              "<table>\n",
              "<caption>A data.table: 11 × 7</caption>\n",
              "<thead>\n",
              "\t<tr><th scope=col>Film</th><th scope=col>Year</th><th scope=col>Actor</th><th scope=col>Director</th><th scope=col>Box Office</th><th scope=col>Budget</th><th scope=col>Bond Actor Salary</th></tr>\n",
              "\t<tr><th scope=col>&lt;chr&gt;</th><th scope=col>&lt;int&gt;</th><th scope=col>&lt;chr&gt;</th><th scope=col>&lt;chr&gt;</th><th scope=col>&lt;dbl&gt;</th><th scope=col>&lt;dbl&gt;</th><th scope=col>&lt;dbl&gt;</th></tr>\n",
              "</thead>\n",
              "<tbody>\n",
              "\t<tr><td>Casino Royale                  </td><td>1967</td><td>David Niven   </td><td>Ken Hughes   </td><td>315.0</td><td>85.0</td><td> NA</td></tr>\n",
              "\t<tr><td>On Her Majesty's Secret Service</td><td>1969</td><td>George Lazenby</td><td>Peter R. Hunt</td><td>291.5</td><td>37.3</td><td>0.6</td></tr>\n",
              "\t<tr><td>Live and Let Die               </td><td>1973</td><td>Roger Moore   </td><td>Guy Hamilton </td><td>460.3</td><td>30.8</td><td> NA</td></tr>\n",
              "\t<tr><td>The Man with the Golden Gun    </td><td>1974</td><td>Roger Moore   </td><td>Guy Hamilton </td><td>334.0</td><td>27.7</td><td> NA</td></tr>\n",
              "\t<tr><td>The Spy Who Loved Me           </td><td>1977</td><td>Roger Moore   </td><td>Lewis Gilbert</td><td>533.0</td><td>45.1</td><td> NA</td></tr>\n",
              "\t<tr><td>Moonraker                      </td><td>1979</td><td>Roger Moore   </td><td>Lewis Gilbert</td><td>535.0</td><td>91.5</td><td> NA</td></tr>\n",
              "\t<tr><td>For Your Eyes Only             </td><td>1981</td><td>Roger Moore   </td><td>John Glen    </td><td>449.4</td><td>60.2</td><td> NA</td></tr>\n",
              "\t<tr><td>Octopussy                      </td><td>1983</td><td>Roger Moore   </td><td>John Glen    </td><td>373.8</td><td>53.9</td><td>7.8</td></tr>\n",
              "\t<tr><td>A View to a Kill               </td><td>1985</td><td>Roger Moore   </td><td>John Glen    </td><td>275.2</td><td>54.5</td><td>9.1</td></tr>\n",
              "\t<tr><td>The Living Daylights           </td><td>1987</td><td>Timothy Dalton</td><td>John Glen    </td><td>313.5</td><td>68.8</td><td>5.2</td></tr>\n",
              "\t<tr><td>Licence to Kill                </td><td>1989</td><td>Timothy Dalton</td><td>John Glen    </td><td>250.9</td><td>56.7</td><td>7.9</td></tr>\n",
              "</tbody>\n",
              "</table>\n"
            ]
          },
          "metadata": {
            "tags": []
          }
        }
      ]
    },
    {
      "cell_type": "markdown",
      "metadata": {
        "id": "igG5l-8vIzPH"
      },
      "source": [
        "# ORDENAR FILAS Y CREAR NUEVAS COLUMNAS"
      ]
    },
    {
      "cell_type": "code",
      "metadata": {
        "id": "aE7H5kte88j1",
        "colab": {
          "base_uri": "https://localhost:8080/"
        },
        "outputId": "08c8b528-bb77-4c27-9d76-c541d91cbddc"
      },
      "source": [
        "df_james_bond = data.table::fread(\"https://data-wizards.s3.amazonaws.com/datasets/jamesbond.csv\")\n",
        "glimpse(df_james_bond)"
      ],
      "execution_count": null,
      "outputs": [
        {
          "output_type": "stream",
          "text": [
            "Rows: 26\n",
            "Columns: 7\n",
            "$ Film                \u001b[3m\u001b[90m<chr>\u001b[39m\u001b[23m \"Dr. No\", \"From Russia with Love\", \"Goldfinger\", …\n",
            "$ Year                \u001b[3m\u001b[90m<int>\u001b[39m\u001b[23m 1962, 1963, 1964, 1965, 1967, 1967, 1969, 1971, 1…\n",
            "$ Actor               \u001b[3m\u001b[90m<chr>\u001b[39m\u001b[23m \"Sean Connery\", \"Sean Connery\", \"Sean Connery\", \"…\n",
            "$ Director            \u001b[3m\u001b[90m<chr>\u001b[39m\u001b[23m \"Terence Young\", \"Terence Young\", \"Guy Hamilton\",…\n",
            "$ `Box Office`        \u001b[3m\u001b[90m<dbl>\u001b[39m\u001b[23m 448.8, 543.8, 820.4, 848.1, 315.0, 514.2, 291.5, …\n",
            "$ Budget              \u001b[3m\u001b[90m<dbl>\u001b[39m\u001b[23m 7.0, 12.6, 18.6, 41.9, 85.0, 59.9, 37.3, 34.7, 30…\n",
            "$ `Bond Actor Salary` \u001b[3m\u001b[90m<dbl>\u001b[39m\u001b[23m 0.6, 1.6, 3.2, 4.7, NA, 4.4, 0.6, 5.8, NA, NA, NA…\n"
          ],
          "name": "stdout"
        }
      ]
    },
    {
      "cell_type": "markdown",
      "metadata": {
        "id": "YvDEtrMcx4sd"
      },
      "source": [
        "### ORDENAR FILAS\n",
        "---\n",
        "La función *arrange()* nos permite ordenar un *data frame* en función de una o más variables\n",
        "\n",
        "```\n",
        "dplyr::arrange(object, columns ...)\n",
        "```\n",
        "\n"
      ]
    },
    {
      "cell_type": "code",
      "metadata": {
        "colab": {
          "base_uri": "https://localhost:8080/",
          "height": 624
        },
        "id": "nOCDRbm1yF_d",
        "outputId": "acc86222-7377-461a-e363-ce61a3b12ecd"
      },
      "source": [
        "# Ordenamos el data frame según variable alfanumérica (texto)\n",
        "df_james_bond %>% arrange(Actor) # por defecto, el criterio es ascendente. En caso de ser variable texto, será en orden del abecedario"
      ],
      "execution_count": null,
      "outputs": [
        {
          "output_type": "display_data",
          "data": {
            "text/plain": [
              "   Film                            Year Actor          Director          \n",
              "1  Casino Royale                   2006 Daniel Craig   Martin Campbell   \n",
              "2  Quantum of Solace               2008 Daniel Craig   Marc Forster      \n",
              "3  Skyfall                         2012 Daniel Craig   Sam Mendes        \n",
              "4  Spectre                         2015 Daniel Craig   Sam Mendes        \n",
              "5  Casino Royale                   1967 David Niven    Ken Hughes        \n",
              "6  On Her Majesty's Secret Service 1969 George Lazenby Peter R. Hunt     \n",
              "7  GoldenEye                       1995 Pierce Brosnan Martin Campbell   \n",
              "8  Tomorrow Never Dies             1997 Pierce Brosnan Roger Spottiswoode\n",
              "9  The World Is Not Enough         1999 Pierce Brosnan Michael Apted     \n",
              "10 Die Another Day                 2002 Pierce Brosnan Lee Tamahori      \n",
              "11 Live and Let Die                1973 Roger Moore    Guy Hamilton      \n",
              "12 The Man with the Golden Gun     1974 Roger Moore    Guy Hamilton      \n",
              "13 The Spy Who Loved Me            1977 Roger Moore    Lewis Gilbert     \n",
              "14 Moonraker                       1979 Roger Moore    Lewis Gilbert     \n",
              "15 For Your Eyes Only              1981 Roger Moore    John Glen         \n",
              "16 Octopussy                       1983 Roger Moore    John Glen         \n",
              "17 A View to a Kill                1985 Roger Moore    John Glen         \n",
              "18 Dr. No                          1962 Sean Connery   Terence Young     \n",
              "19 From Russia with Love           1963 Sean Connery   Terence Young     \n",
              "20 Goldfinger                      1964 Sean Connery   Guy Hamilton      \n",
              "21 Thunderball                     1965 Sean Connery   Terence Young     \n",
              "22 You Only Live Twice             1967 Sean Connery   Lewis Gilbert     \n",
              "23 Diamonds Are Forever            1971 Sean Connery   Guy Hamilton      \n",
              "24 Never Say Never Again           1983 Sean Connery   Irvin Kershner    \n",
              "25 The Living Daylights            1987 Timothy Dalton John Glen         \n",
              "26 Licence to Kill                 1989 Timothy Dalton John Glen         \n",
              "   Box Office Budget Bond Actor Salary\n",
              "1  581.5      145.3   3.3             \n",
              "2  514.2      181.4   8.1             \n",
              "3  943.5      170.2  14.5             \n",
              "4  726.7      206.3    NA             \n",
              "5  315.0       85.0    NA             \n",
              "6  291.5       37.3   0.6             \n",
              "7  518.5       76.9   5.1             \n",
              "8  463.2      133.9  10.0             \n",
              "9  439.5      158.3  13.5             \n",
              "10 465.4      154.2  17.9             \n",
              "11 460.3       30.8    NA             \n",
              "12 334.0       27.7    NA             \n",
              "13 533.0       45.1    NA             \n",
              "14 535.0       91.5    NA             \n",
              "15 449.4       60.2    NA             \n",
              "16 373.8       53.9   7.8             \n",
              "17 275.2       54.5   9.1             \n",
              "18 448.8        7.0   0.6             \n",
              "19 543.8       12.6   1.6             \n",
              "20 820.4       18.6   3.2             \n",
              "21 848.1       41.9   4.7             \n",
              "22 514.2       59.9   4.4             \n",
              "23 442.5       34.7   5.8             \n",
              "24 380.0       86.0    NA             \n",
              "25 313.5       68.8   5.2             \n",
              "26 250.9       56.7   7.9             "
            ],
            "text/latex": "A data.table: 26 × 7\n\\begin{tabular}{lllllll}\n Film & Year & Actor & Director & Box Office & Budget & Bond Actor Salary\\\\\n <chr> & <int> & <chr> & <chr> & <dbl> & <dbl> & <dbl>\\\\\n\\hline\n\t Casino Royale                   & 2006 & Daniel Craig   & Martin Campbell    & 581.5 & 145.3 &  3.3\\\\\n\t Quantum of Solace               & 2008 & Daniel Craig   & Marc Forster       & 514.2 & 181.4 &  8.1\\\\\n\t Skyfall                         & 2012 & Daniel Craig   & Sam Mendes         & 943.5 & 170.2 & 14.5\\\\\n\t Spectre                         & 2015 & Daniel Craig   & Sam Mendes         & 726.7 & 206.3 &   NA\\\\\n\t Casino Royale                   & 1967 & David Niven    & Ken Hughes         & 315.0 &  85.0 &   NA\\\\\n\t On Her Majesty's Secret Service & 1969 & George Lazenby & Peter R. Hunt      & 291.5 &  37.3 &  0.6\\\\\n\t GoldenEye                       & 1995 & Pierce Brosnan & Martin Campbell    & 518.5 &  76.9 &  5.1\\\\\n\t Tomorrow Never Dies             & 1997 & Pierce Brosnan & Roger Spottiswoode & 463.2 & 133.9 & 10.0\\\\\n\t The World Is Not Enough         & 1999 & Pierce Brosnan & Michael Apted      & 439.5 & 158.3 & 13.5\\\\\n\t Die Another Day                 & 2002 & Pierce Brosnan & Lee Tamahori       & 465.4 & 154.2 & 17.9\\\\\n\t Live and Let Die                & 1973 & Roger Moore    & Guy Hamilton       & 460.3 &  30.8 &   NA\\\\\n\t The Man with the Golden Gun     & 1974 & Roger Moore    & Guy Hamilton       & 334.0 &  27.7 &   NA\\\\\n\t The Spy Who Loved Me            & 1977 & Roger Moore    & Lewis Gilbert      & 533.0 &  45.1 &   NA\\\\\n\t Moonraker                       & 1979 & Roger Moore    & Lewis Gilbert      & 535.0 &  91.5 &   NA\\\\\n\t For Your Eyes Only              & 1981 & Roger Moore    & John Glen          & 449.4 &  60.2 &   NA\\\\\n\t Octopussy                       & 1983 & Roger Moore    & John Glen          & 373.8 &  53.9 &  7.8\\\\\n\t A View to a Kill                & 1985 & Roger Moore    & John Glen          & 275.2 &  54.5 &  9.1\\\\\n\t Dr. No                          & 1962 & Sean Connery   & Terence Young      & 448.8 &   7.0 &  0.6\\\\\n\t From Russia with Love           & 1963 & Sean Connery   & Terence Young      & 543.8 &  12.6 &  1.6\\\\\n\t Goldfinger                      & 1964 & Sean Connery   & Guy Hamilton       & 820.4 &  18.6 &  3.2\\\\\n\t Thunderball                     & 1965 & Sean Connery   & Terence Young      & 848.1 &  41.9 &  4.7\\\\\n\t You Only Live Twice             & 1967 & Sean Connery   & Lewis Gilbert      & 514.2 &  59.9 &  4.4\\\\\n\t Diamonds Are Forever            & 1971 & Sean Connery   & Guy Hamilton       & 442.5 &  34.7 &  5.8\\\\\n\t Never Say Never Again           & 1983 & Sean Connery   & Irvin Kershner     & 380.0 &  86.0 &   NA\\\\\n\t The Living Daylights            & 1987 & Timothy Dalton & John Glen          & 313.5 &  68.8 &  5.2\\\\\n\t Licence to Kill                 & 1989 & Timothy Dalton & John Glen          & 250.9 &  56.7 &  7.9\\\\\n\\end{tabular}\n",
            "text/markdown": "\nA data.table: 26 × 7\n\n| Film &lt;chr&gt; | Year &lt;int&gt; | Actor &lt;chr&gt; | Director &lt;chr&gt; | Box Office &lt;dbl&gt; | Budget &lt;dbl&gt; | Bond Actor Salary &lt;dbl&gt; |\n|---|---|---|---|---|---|---|\n| Casino Royale                   | 2006 | Daniel Craig   | Martin Campbell    | 581.5 | 145.3 |  3.3 |\n| Quantum of Solace               | 2008 | Daniel Craig   | Marc Forster       | 514.2 | 181.4 |  8.1 |\n| Skyfall                         | 2012 | Daniel Craig   | Sam Mendes         | 943.5 | 170.2 | 14.5 |\n| Spectre                         | 2015 | Daniel Craig   | Sam Mendes         | 726.7 | 206.3 |   NA |\n| Casino Royale                   | 1967 | David Niven    | Ken Hughes         | 315.0 |  85.0 |   NA |\n| On Her Majesty's Secret Service | 1969 | George Lazenby | Peter R. Hunt      | 291.5 |  37.3 |  0.6 |\n| GoldenEye                       | 1995 | Pierce Brosnan | Martin Campbell    | 518.5 |  76.9 |  5.1 |\n| Tomorrow Never Dies             | 1997 | Pierce Brosnan | Roger Spottiswoode | 463.2 | 133.9 | 10.0 |\n| The World Is Not Enough         | 1999 | Pierce Brosnan | Michael Apted      | 439.5 | 158.3 | 13.5 |\n| Die Another Day                 | 2002 | Pierce Brosnan | Lee Tamahori       | 465.4 | 154.2 | 17.9 |\n| Live and Let Die                | 1973 | Roger Moore    | Guy Hamilton       | 460.3 |  30.8 |   NA |\n| The Man with the Golden Gun     | 1974 | Roger Moore    | Guy Hamilton       | 334.0 |  27.7 |   NA |\n| The Spy Who Loved Me            | 1977 | Roger Moore    | Lewis Gilbert      | 533.0 |  45.1 |   NA |\n| Moonraker                       | 1979 | Roger Moore    | Lewis Gilbert      | 535.0 |  91.5 |   NA |\n| For Your Eyes Only              | 1981 | Roger Moore    | John Glen          | 449.4 |  60.2 |   NA |\n| Octopussy                       | 1983 | Roger Moore    | John Glen          | 373.8 |  53.9 |  7.8 |\n| A View to a Kill                | 1985 | Roger Moore    | John Glen          | 275.2 |  54.5 |  9.1 |\n| Dr. No                          | 1962 | Sean Connery   | Terence Young      | 448.8 |   7.0 |  0.6 |\n| From Russia with Love           | 1963 | Sean Connery   | Terence Young      | 543.8 |  12.6 |  1.6 |\n| Goldfinger                      | 1964 | Sean Connery   | Guy Hamilton       | 820.4 |  18.6 |  3.2 |\n| Thunderball                     | 1965 | Sean Connery   | Terence Young      | 848.1 |  41.9 |  4.7 |\n| You Only Live Twice             | 1967 | Sean Connery   | Lewis Gilbert      | 514.2 |  59.9 |  4.4 |\n| Diamonds Are Forever            | 1971 | Sean Connery   | Guy Hamilton       | 442.5 |  34.7 |  5.8 |\n| Never Say Never Again           | 1983 | Sean Connery   | Irvin Kershner     | 380.0 |  86.0 |   NA |\n| The Living Daylights            | 1987 | Timothy Dalton | John Glen          | 313.5 |  68.8 |  5.2 |\n| Licence to Kill                 | 1989 | Timothy Dalton | John Glen          | 250.9 |  56.7 |  7.9 |\n\n",
            "text/html": [
              "<table>\n",
              "<caption>A data.table: 26 × 7</caption>\n",
              "<thead>\n",
              "\t<tr><th scope=col>Film</th><th scope=col>Year</th><th scope=col>Actor</th><th scope=col>Director</th><th scope=col>Box Office</th><th scope=col>Budget</th><th scope=col>Bond Actor Salary</th></tr>\n",
              "\t<tr><th scope=col>&lt;chr&gt;</th><th scope=col>&lt;int&gt;</th><th scope=col>&lt;chr&gt;</th><th scope=col>&lt;chr&gt;</th><th scope=col>&lt;dbl&gt;</th><th scope=col>&lt;dbl&gt;</th><th scope=col>&lt;dbl&gt;</th></tr>\n",
              "</thead>\n",
              "<tbody>\n",
              "\t<tr><td>Casino Royale                  </td><td>2006</td><td>Daniel Craig  </td><td>Martin Campbell   </td><td>581.5</td><td>145.3</td><td> 3.3</td></tr>\n",
              "\t<tr><td>Quantum of Solace              </td><td>2008</td><td>Daniel Craig  </td><td>Marc Forster      </td><td>514.2</td><td>181.4</td><td> 8.1</td></tr>\n",
              "\t<tr><td>Skyfall                        </td><td>2012</td><td>Daniel Craig  </td><td>Sam Mendes        </td><td>943.5</td><td>170.2</td><td>14.5</td></tr>\n",
              "\t<tr><td>Spectre                        </td><td>2015</td><td>Daniel Craig  </td><td>Sam Mendes        </td><td>726.7</td><td>206.3</td><td>  NA</td></tr>\n",
              "\t<tr><td>Casino Royale                  </td><td>1967</td><td>David Niven   </td><td>Ken Hughes        </td><td>315.0</td><td> 85.0</td><td>  NA</td></tr>\n",
              "\t<tr><td>On Her Majesty's Secret Service</td><td>1969</td><td>George Lazenby</td><td>Peter R. Hunt     </td><td>291.5</td><td> 37.3</td><td> 0.6</td></tr>\n",
              "\t<tr><td>GoldenEye                      </td><td>1995</td><td>Pierce Brosnan</td><td>Martin Campbell   </td><td>518.5</td><td> 76.9</td><td> 5.1</td></tr>\n",
              "\t<tr><td>Tomorrow Never Dies            </td><td>1997</td><td>Pierce Brosnan</td><td>Roger Spottiswoode</td><td>463.2</td><td>133.9</td><td>10.0</td></tr>\n",
              "\t<tr><td>The World Is Not Enough        </td><td>1999</td><td>Pierce Brosnan</td><td>Michael Apted     </td><td>439.5</td><td>158.3</td><td>13.5</td></tr>\n",
              "\t<tr><td>Die Another Day                </td><td>2002</td><td>Pierce Brosnan</td><td>Lee Tamahori      </td><td>465.4</td><td>154.2</td><td>17.9</td></tr>\n",
              "\t<tr><td>Live and Let Die               </td><td>1973</td><td>Roger Moore   </td><td>Guy Hamilton      </td><td>460.3</td><td> 30.8</td><td>  NA</td></tr>\n",
              "\t<tr><td>The Man with the Golden Gun    </td><td>1974</td><td>Roger Moore   </td><td>Guy Hamilton      </td><td>334.0</td><td> 27.7</td><td>  NA</td></tr>\n",
              "\t<tr><td>The Spy Who Loved Me           </td><td>1977</td><td>Roger Moore   </td><td>Lewis Gilbert     </td><td>533.0</td><td> 45.1</td><td>  NA</td></tr>\n",
              "\t<tr><td>Moonraker                      </td><td>1979</td><td>Roger Moore   </td><td>Lewis Gilbert     </td><td>535.0</td><td> 91.5</td><td>  NA</td></tr>\n",
              "\t<tr><td>For Your Eyes Only             </td><td>1981</td><td>Roger Moore   </td><td>John Glen         </td><td>449.4</td><td> 60.2</td><td>  NA</td></tr>\n",
              "\t<tr><td>Octopussy                      </td><td>1983</td><td>Roger Moore   </td><td>John Glen         </td><td>373.8</td><td> 53.9</td><td> 7.8</td></tr>\n",
              "\t<tr><td>A View to a Kill               </td><td>1985</td><td>Roger Moore   </td><td>John Glen         </td><td>275.2</td><td> 54.5</td><td> 9.1</td></tr>\n",
              "\t<tr><td>Dr. No                         </td><td>1962</td><td>Sean Connery  </td><td>Terence Young     </td><td>448.8</td><td>  7.0</td><td> 0.6</td></tr>\n",
              "\t<tr><td>From Russia with Love          </td><td>1963</td><td>Sean Connery  </td><td>Terence Young     </td><td>543.8</td><td> 12.6</td><td> 1.6</td></tr>\n",
              "\t<tr><td>Goldfinger                     </td><td>1964</td><td>Sean Connery  </td><td>Guy Hamilton      </td><td>820.4</td><td> 18.6</td><td> 3.2</td></tr>\n",
              "\t<tr><td>Thunderball                    </td><td>1965</td><td>Sean Connery  </td><td>Terence Young     </td><td>848.1</td><td> 41.9</td><td> 4.7</td></tr>\n",
              "\t<tr><td>You Only Live Twice            </td><td>1967</td><td>Sean Connery  </td><td>Lewis Gilbert     </td><td>514.2</td><td> 59.9</td><td> 4.4</td></tr>\n",
              "\t<tr><td>Diamonds Are Forever           </td><td>1971</td><td>Sean Connery  </td><td>Guy Hamilton      </td><td>442.5</td><td> 34.7</td><td> 5.8</td></tr>\n",
              "\t<tr><td>Never Say Never Again          </td><td>1983</td><td>Sean Connery  </td><td>Irvin Kershner    </td><td>380.0</td><td> 86.0</td><td>  NA</td></tr>\n",
              "\t<tr><td>The Living Daylights           </td><td>1987</td><td>Timothy Dalton</td><td>John Glen         </td><td>313.5</td><td> 68.8</td><td> 5.2</td></tr>\n",
              "\t<tr><td>Licence to Kill                </td><td>1989</td><td>Timothy Dalton</td><td>John Glen         </td><td>250.9</td><td> 56.7</td><td> 7.9</td></tr>\n",
              "</tbody>\n",
              "</table>\n"
            ]
          },
          "metadata": {
            "tags": []
          }
        }
      ]
    },
    {
      "cell_type": "code",
      "metadata": {
        "colab": {
          "base_uri": "https://localhost:8080/",
          "height": 624
        },
        "id": "S77rhywEyGCq",
        "outputId": "c9f29ba5-2001-4cbf-ef29-a18716474812"
      },
      "source": [
        "# Ordenamos por dos variables numéricas, siempre en criterio ascendente\n",
        "df_james_bond %>% arrange(Year,Budget)"
      ],
      "execution_count": null,
      "outputs": [
        {
          "output_type": "display_data",
          "data": {
            "text/plain": [
              "   Film                            Year Actor          Director          \n",
              "1  Dr. No                          1962 Sean Connery   Terence Young     \n",
              "2  From Russia with Love           1963 Sean Connery   Terence Young     \n",
              "3  Goldfinger                      1964 Sean Connery   Guy Hamilton      \n",
              "4  Thunderball                     1965 Sean Connery   Terence Young     \n",
              "5  You Only Live Twice             1967 Sean Connery   Lewis Gilbert     \n",
              "6  Casino Royale                   1967 David Niven    Ken Hughes        \n",
              "7  On Her Majesty's Secret Service 1969 George Lazenby Peter R. Hunt     \n",
              "8  Diamonds Are Forever            1971 Sean Connery   Guy Hamilton      \n",
              "9  Live and Let Die                1973 Roger Moore    Guy Hamilton      \n",
              "10 The Man with the Golden Gun     1974 Roger Moore    Guy Hamilton      \n",
              "11 The Spy Who Loved Me            1977 Roger Moore    Lewis Gilbert     \n",
              "12 Moonraker                       1979 Roger Moore    Lewis Gilbert     \n",
              "13 For Your Eyes Only              1981 Roger Moore    John Glen         \n",
              "14 Octopussy                       1983 Roger Moore    John Glen         \n",
              "15 Never Say Never Again           1983 Sean Connery   Irvin Kershner    \n",
              "16 A View to a Kill                1985 Roger Moore    John Glen         \n",
              "17 The Living Daylights            1987 Timothy Dalton John Glen         \n",
              "18 Licence to Kill                 1989 Timothy Dalton John Glen         \n",
              "19 GoldenEye                       1995 Pierce Brosnan Martin Campbell   \n",
              "20 Tomorrow Never Dies             1997 Pierce Brosnan Roger Spottiswoode\n",
              "21 The World Is Not Enough         1999 Pierce Brosnan Michael Apted     \n",
              "22 Die Another Day                 2002 Pierce Brosnan Lee Tamahori      \n",
              "23 Casino Royale                   2006 Daniel Craig   Martin Campbell   \n",
              "24 Quantum of Solace               2008 Daniel Craig   Marc Forster      \n",
              "25 Skyfall                         2012 Daniel Craig   Sam Mendes        \n",
              "26 Spectre                         2015 Daniel Craig   Sam Mendes        \n",
              "   Box Office Budget Bond Actor Salary\n",
              "1  448.8        7.0   0.6             \n",
              "2  543.8       12.6   1.6             \n",
              "3  820.4       18.6   3.2             \n",
              "4  848.1       41.9   4.7             \n",
              "5  514.2       59.9   4.4             \n",
              "6  315.0       85.0    NA             \n",
              "7  291.5       37.3   0.6             \n",
              "8  442.5       34.7   5.8             \n",
              "9  460.3       30.8    NA             \n",
              "10 334.0       27.7    NA             \n",
              "11 533.0       45.1    NA             \n",
              "12 535.0       91.5    NA             \n",
              "13 449.4       60.2    NA             \n",
              "14 373.8       53.9   7.8             \n",
              "15 380.0       86.0    NA             \n",
              "16 275.2       54.5   9.1             \n",
              "17 313.5       68.8   5.2             \n",
              "18 250.9       56.7   7.9             \n",
              "19 518.5       76.9   5.1             \n",
              "20 463.2      133.9  10.0             \n",
              "21 439.5      158.3  13.5             \n",
              "22 465.4      154.2  17.9             \n",
              "23 581.5      145.3   3.3             \n",
              "24 514.2      181.4   8.1             \n",
              "25 943.5      170.2  14.5             \n",
              "26 726.7      206.3    NA             "
            ],
            "text/latex": "A data.table: 26 × 7\n\\begin{tabular}{lllllll}\n Film & Year & Actor & Director & Box Office & Budget & Bond Actor Salary\\\\\n <chr> & <int> & <chr> & <chr> & <dbl> & <dbl> & <dbl>\\\\\n\\hline\n\t Dr. No                          & 1962 & Sean Connery   & Terence Young      & 448.8 &   7.0 &  0.6\\\\\n\t From Russia with Love           & 1963 & Sean Connery   & Terence Young      & 543.8 &  12.6 &  1.6\\\\\n\t Goldfinger                      & 1964 & Sean Connery   & Guy Hamilton       & 820.4 &  18.6 &  3.2\\\\\n\t Thunderball                     & 1965 & Sean Connery   & Terence Young      & 848.1 &  41.9 &  4.7\\\\\n\t You Only Live Twice             & 1967 & Sean Connery   & Lewis Gilbert      & 514.2 &  59.9 &  4.4\\\\\n\t Casino Royale                   & 1967 & David Niven    & Ken Hughes         & 315.0 &  85.0 &   NA\\\\\n\t On Her Majesty's Secret Service & 1969 & George Lazenby & Peter R. Hunt      & 291.5 &  37.3 &  0.6\\\\\n\t Diamonds Are Forever            & 1971 & Sean Connery   & Guy Hamilton       & 442.5 &  34.7 &  5.8\\\\\n\t Live and Let Die                & 1973 & Roger Moore    & Guy Hamilton       & 460.3 &  30.8 &   NA\\\\\n\t The Man with the Golden Gun     & 1974 & Roger Moore    & Guy Hamilton       & 334.0 &  27.7 &   NA\\\\\n\t The Spy Who Loved Me            & 1977 & Roger Moore    & Lewis Gilbert      & 533.0 &  45.1 &   NA\\\\\n\t Moonraker                       & 1979 & Roger Moore    & Lewis Gilbert      & 535.0 &  91.5 &   NA\\\\\n\t For Your Eyes Only              & 1981 & Roger Moore    & John Glen          & 449.4 &  60.2 &   NA\\\\\n\t Octopussy                       & 1983 & Roger Moore    & John Glen          & 373.8 &  53.9 &  7.8\\\\\n\t Never Say Never Again           & 1983 & Sean Connery   & Irvin Kershner     & 380.0 &  86.0 &   NA\\\\\n\t A View to a Kill                & 1985 & Roger Moore    & John Glen          & 275.2 &  54.5 &  9.1\\\\\n\t The Living Daylights            & 1987 & Timothy Dalton & John Glen          & 313.5 &  68.8 &  5.2\\\\\n\t Licence to Kill                 & 1989 & Timothy Dalton & John Glen          & 250.9 &  56.7 &  7.9\\\\\n\t GoldenEye                       & 1995 & Pierce Brosnan & Martin Campbell    & 518.5 &  76.9 &  5.1\\\\\n\t Tomorrow Never Dies             & 1997 & Pierce Brosnan & Roger Spottiswoode & 463.2 & 133.9 & 10.0\\\\\n\t The World Is Not Enough         & 1999 & Pierce Brosnan & Michael Apted      & 439.5 & 158.3 & 13.5\\\\\n\t Die Another Day                 & 2002 & Pierce Brosnan & Lee Tamahori       & 465.4 & 154.2 & 17.9\\\\\n\t Casino Royale                   & 2006 & Daniel Craig   & Martin Campbell    & 581.5 & 145.3 &  3.3\\\\\n\t Quantum of Solace               & 2008 & Daniel Craig   & Marc Forster       & 514.2 & 181.4 &  8.1\\\\\n\t Skyfall                         & 2012 & Daniel Craig   & Sam Mendes         & 943.5 & 170.2 & 14.5\\\\\n\t Spectre                         & 2015 & Daniel Craig   & Sam Mendes         & 726.7 & 206.3 &   NA\\\\\n\\end{tabular}\n",
            "text/markdown": "\nA data.table: 26 × 7\n\n| Film &lt;chr&gt; | Year &lt;int&gt; | Actor &lt;chr&gt; | Director &lt;chr&gt; | Box Office &lt;dbl&gt; | Budget &lt;dbl&gt; | Bond Actor Salary &lt;dbl&gt; |\n|---|---|---|---|---|---|---|\n| Dr. No                          | 1962 | Sean Connery   | Terence Young      | 448.8 |   7.0 |  0.6 |\n| From Russia with Love           | 1963 | Sean Connery   | Terence Young      | 543.8 |  12.6 |  1.6 |\n| Goldfinger                      | 1964 | Sean Connery   | Guy Hamilton       | 820.4 |  18.6 |  3.2 |\n| Thunderball                     | 1965 | Sean Connery   | Terence Young      | 848.1 |  41.9 |  4.7 |\n| You Only Live Twice             | 1967 | Sean Connery   | Lewis Gilbert      | 514.2 |  59.9 |  4.4 |\n| Casino Royale                   | 1967 | David Niven    | Ken Hughes         | 315.0 |  85.0 |   NA |\n| On Her Majesty's Secret Service | 1969 | George Lazenby | Peter R. Hunt      | 291.5 |  37.3 |  0.6 |\n| Diamonds Are Forever            | 1971 | Sean Connery   | Guy Hamilton       | 442.5 |  34.7 |  5.8 |\n| Live and Let Die                | 1973 | Roger Moore    | Guy Hamilton       | 460.3 |  30.8 |   NA |\n| The Man with the Golden Gun     | 1974 | Roger Moore    | Guy Hamilton       | 334.0 |  27.7 |   NA |\n| The Spy Who Loved Me            | 1977 | Roger Moore    | Lewis Gilbert      | 533.0 |  45.1 |   NA |\n| Moonraker                       | 1979 | Roger Moore    | Lewis Gilbert      | 535.0 |  91.5 |   NA |\n| For Your Eyes Only              | 1981 | Roger Moore    | John Glen          | 449.4 |  60.2 |   NA |\n| Octopussy                       | 1983 | Roger Moore    | John Glen          | 373.8 |  53.9 |  7.8 |\n| Never Say Never Again           | 1983 | Sean Connery   | Irvin Kershner     | 380.0 |  86.0 |   NA |\n| A View to a Kill                | 1985 | Roger Moore    | John Glen          | 275.2 |  54.5 |  9.1 |\n| The Living Daylights            | 1987 | Timothy Dalton | John Glen          | 313.5 |  68.8 |  5.2 |\n| Licence to Kill                 | 1989 | Timothy Dalton | John Glen          | 250.9 |  56.7 |  7.9 |\n| GoldenEye                       | 1995 | Pierce Brosnan | Martin Campbell    | 518.5 |  76.9 |  5.1 |\n| Tomorrow Never Dies             | 1997 | Pierce Brosnan | Roger Spottiswoode | 463.2 | 133.9 | 10.0 |\n| The World Is Not Enough         | 1999 | Pierce Brosnan | Michael Apted      | 439.5 | 158.3 | 13.5 |\n| Die Another Day                 | 2002 | Pierce Brosnan | Lee Tamahori       | 465.4 | 154.2 | 17.9 |\n| Casino Royale                   | 2006 | Daniel Craig   | Martin Campbell    | 581.5 | 145.3 |  3.3 |\n| Quantum of Solace               | 2008 | Daniel Craig   | Marc Forster       | 514.2 | 181.4 |  8.1 |\n| Skyfall                         | 2012 | Daniel Craig   | Sam Mendes         | 943.5 | 170.2 | 14.5 |\n| Spectre                         | 2015 | Daniel Craig   | Sam Mendes         | 726.7 | 206.3 |   NA |\n\n",
            "text/html": [
              "<table>\n",
              "<caption>A data.table: 26 × 7</caption>\n",
              "<thead>\n",
              "\t<tr><th scope=col>Film</th><th scope=col>Year</th><th scope=col>Actor</th><th scope=col>Director</th><th scope=col>Box Office</th><th scope=col>Budget</th><th scope=col>Bond Actor Salary</th></tr>\n",
              "\t<tr><th scope=col>&lt;chr&gt;</th><th scope=col>&lt;int&gt;</th><th scope=col>&lt;chr&gt;</th><th scope=col>&lt;chr&gt;</th><th scope=col>&lt;dbl&gt;</th><th scope=col>&lt;dbl&gt;</th><th scope=col>&lt;dbl&gt;</th></tr>\n",
              "</thead>\n",
              "<tbody>\n",
              "\t<tr><td>Dr. No                         </td><td>1962</td><td>Sean Connery  </td><td>Terence Young     </td><td>448.8</td><td>  7.0</td><td> 0.6</td></tr>\n",
              "\t<tr><td>From Russia with Love          </td><td>1963</td><td>Sean Connery  </td><td>Terence Young     </td><td>543.8</td><td> 12.6</td><td> 1.6</td></tr>\n",
              "\t<tr><td>Goldfinger                     </td><td>1964</td><td>Sean Connery  </td><td>Guy Hamilton      </td><td>820.4</td><td> 18.6</td><td> 3.2</td></tr>\n",
              "\t<tr><td>Thunderball                    </td><td>1965</td><td>Sean Connery  </td><td>Terence Young     </td><td>848.1</td><td> 41.9</td><td> 4.7</td></tr>\n",
              "\t<tr><td>You Only Live Twice            </td><td>1967</td><td>Sean Connery  </td><td>Lewis Gilbert     </td><td>514.2</td><td> 59.9</td><td> 4.4</td></tr>\n",
              "\t<tr><td>Casino Royale                  </td><td>1967</td><td>David Niven   </td><td>Ken Hughes        </td><td>315.0</td><td> 85.0</td><td>  NA</td></tr>\n",
              "\t<tr><td>On Her Majesty's Secret Service</td><td>1969</td><td>George Lazenby</td><td>Peter R. Hunt     </td><td>291.5</td><td> 37.3</td><td> 0.6</td></tr>\n",
              "\t<tr><td>Diamonds Are Forever           </td><td>1971</td><td>Sean Connery  </td><td>Guy Hamilton      </td><td>442.5</td><td> 34.7</td><td> 5.8</td></tr>\n",
              "\t<tr><td>Live and Let Die               </td><td>1973</td><td>Roger Moore   </td><td>Guy Hamilton      </td><td>460.3</td><td> 30.8</td><td>  NA</td></tr>\n",
              "\t<tr><td>The Man with the Golden Gun    </td><td>1974</td><td>Roger Moore   </td><td>Guy Hamilton      </td><td>334.0</td><td> 27.7</td><td>  NA</td></tr>\n",
              "\t<tr><td>The Spy Who Loved Me           </td><td>1977</td><td>Roger Moore   </td><td>Lewis Gilbert     </td><td>533.0</td><td> 45.1</td><td>  NA</td></tr>\n",
              "\t<tr><td>Moonraker                      </td><td>1979</td><td>Roger Moore   </td><td>Lewis Gilbert     </td><td>535.0</td><td> 91.5</td><td>  NA</td></tr>\n",
              "\t<tr><td>For Your Eyes Only             </td><td>1981</td><td>Roger Moore   </td><td>John Glen         </td><td>449.4</td><td> 60.2</td><td>  NA</td></tr>\n",
              "\t<tr><td>Octopussy                      </td><td>1983</td><td>Roger Moore   </td><td>John Glen         </td><td>373.8</td><td> 53.9</td><td> 7.8</td></tr>\n",
              "\t<tr><td>Never Say Never Again          </td><td>1983</td><td>Sean Connery  </td><td>Irvin Kershner    </td><td>380.0</td><td> 86.0</td><td>  NA</td></tr>\n",
              "\t<tr><td>A View to a Kill               </td><td>1985</td><td>Roger Moore   </td><td>John Glen         </td><td>275.2</td><td> 54.5</td><td> 9.1</td></tr>\n",
              "\t<tr><td>The Living Daylights           </td><td>1987</td><td>Timothy Dalton</td><td>John Glen         </td><td>313.5</td><td> 68.8</td><td> 5.2</td></tr>\n",
              "\t<tr><td>Licence to Kill                </td><td>1989</td><td>Timothy Dalton</td><td>John Glen         </td><td>250.9</td><td> 56.7</td><td> 7.9</td></tr>\n",
              "\t<tr><td>GoldenEye                      </td><td>1995</td><td>Pierce Brosnan</td><td>Martin Campbell   </td><td>518.5</td><td> 76.9</td><td> 5.1</td></tr>\n",
              "\t<tr><td>Tomorrow Never Dies            </td><td>1997</td><td>Pierce Brosnan</td><td>Roger Spottiswoode</td><td>463.2</td><td>133.9</td><td>10.0</td></tr>\n",
              "\t<tr><td>The World Is Not Enough        </td><td>1999</td><td>Pierce Brosnan</td><td>Michael Apted     </td><td>439.5</td><td>158.3</td><td>13.5</td></tr>\n",
              "\t<tr><td>Die Another Day                </td><td>2002</td><td>Pierce Brosnan</td><td>Lee Tamahori      </td><td>465.4</td><td>154.2</td><td>17.9</td></tr>\n",
              "\t<tr><td>Casino Royale                  </td><td>2006</td><td>Daniel Craig  </td><td>Martin Campbell   </td><td>581.5</td><td>145.3</td><td> 3.3</td></tr>\n",
              "\t<tr><td>Quantum of Solace              </td><td>2008</td><td>Daniel Craig  </td><td>Marc Forster      </td><td>514.2</td><td>181.4</td><td> 8.1</td></tr>\n",
              "\t<tr><td>Skyfall                        </td><td>2012</td><td>Daniel Craig  </td><td>Sam Mendes        </td><td>943.5</td><td>170.2</td><td>14.5</td></tr>\n",
              "\t<tr><td>Spectre                        </td><td>2015</td><td>Daniel Craig  </td><td>Sam Mendes        </td><td>726.7</td><td>206.3</td><td>  NA</td></tr>\n",
              "</tbody>\n",
              "</table>\n"
            ]
          },
          "metadata": {
            "tags": []
          }
        }
      ]
    },
    {
      "cell_type": "code",
      "metadata": {
        "colab": {
          "base_uri": "https://localhost:8080/",
          "height": 624
        },
        "id": "NKE39G1byGFK",
        "outputId": "3e416e54-add7-418e-ec92-0e7aa1903f94"
      },
      "source": [
        "# Para cambiar el criterio de orden a descendente, debemos utilizar la función desc() en el parámetro de la función arrange()\n",
        "df_james_bond %>% arrange(desc(`Bond Actor Salary`))"
      ],
      "execution_count": null,
      "outputs": [
        {
          "output_type": "display_data",
          "data": {
            "text/plain": [
              "   Film                            Year Actor          Director          \n",
              "1  Die Another Day                 2002 Pierce Brosnan Lee Tamahori      \n",
              "2  Skyfall                         2012 Daniel Craig   Sam Mendes        \n",
              "3  The World Is Not Enough         1999 Pierce Brosnan Michael Apted     \n",
              "4  Tomorrow Never Dies             1997 Pierce Brosnan Roger Spottiswoode\n",
              "5  A View to a Kill                1985 Roger Moore    John Glen         \n",
              "6  Quantum of Solace               2008 Daniel Craig   Marc Forster      \n",
              "7  Licence to Kill                 1989 Timothy Dalton John Glen         \n",
              "8  Octopussy                       1983 Roger Moore    John Glen         \n",
              "9  Diamonds Are Forever            1971 Sean Connery   Guy Hamilton      \n",
              "10 The Living Daylights            1987 Timothy Dalton John Glen         \n",
              "11 GoldenEye                       1995 Pierce Brosnan Martin Campbell   \n",
              "12 Thunderball                     1965 Sean Connery   Terence Young     \n",
              "13 You Only Live Twice             1967 Sean Connery   Lewis Gilbert     \n",
              "14 Casino Royale                   2006 Daniel Craig   Martin Campbell   \n",
              "15 Goldfinger                      1964 Sean Connery   Guy Hamilton      \n",
              "16 From Russia with Love           1963 Sean Connery   Terence Young     \n",
              "17 Dr. No                          1962 Sean Connery   Terence Young     \n",
              "18 On Her Majesty's Secret Service 1969 George Lazenby Peter R. Hunt     \n",
              "19 Casino Royale                   1967 David Niven    Ken Hughes        \n",
              "20 Live and Let Die                1973 Roger Moore    Guy Hamilton      \n",
              "21 The Man with the Golden Gun     1974 Roger Moore    Guy Hamilton      \n",
              "22 The Spy Who Loved Me            1977 Roger Moore    Lewis Gilbert     \n",
              "23 Moonraker                       1979 Roger Moore    Lewis Gilbert     \n",
              "24 For Your Eyes Only              1981 Roger Moore    John Glen         \n",
              "25 Never Say Never Again           1983 Sean Connery   Irvin Kershner    \n",
              "26 Spectre                         2015 Daniel Craig   Sam Mendes        \n",
              "   Box Office Budget Bond Actor Salary\n",
              "1  465.4      154.2  17.9             \n",
              "2  943.5      170.2  14.5             \n",
              "3  439.5      158.3  13.5             \n",
              "4  463.2      133.9  10.0             \n",
              "5  275.2       54.5   9.1             \n",
              "6  514.2      181.4   8.1             \n",
              "7  250.9       56.7   7.9             \n",
              "8  373.8       53.9   7.8             \n",
              "9  442.5       34.7   5.8             \n",
              "10 313.5       68.8   5.2             \n",
              "11 518.5       76.9   5.1             \n",
              "12 848.1       41.9   4.7             \n",
              "13 514.2       59.9   4.4             \n",
              "14 581.5      145.3   3.3             \n",
              "15 820.4       18.6   3.2             \n",
              "16 543.8       12.6   1.6             \n",
              "17 448.8        7.0   0.6             \n",
              "18 291.5       37.3   0.6             \n",
              "19 315.0       85.0    NA             \n",
              "20 460.3       30.8    NA             \n",
              "21 334.0       27.7    NA             \n",
              "22 533.0       45.1    NA             \n",
              "23 535.0       91.5    NA             \n",
              "24 449.4       60.2    NA             \n",
              "25 380.0       86.0    NA             \n",
              "26 726.7      206.3    NA             "
            ],
            "text/latex": "A data.table: 26 × 7\n\\begin{tabular}{lllllll}\n Film & Year & Actor & Director & Box Office & Budget & Bond Actor Salary\\\\\n <chr> & <int> & <chr> & <chr> & <dbl> & <dbl> & <dbl>\\\\\n\\hline\n\t Die Another Day                 & 2002 & Pierce Brosnan & Lee Tamahori       & 465.4 & 154.2 & 17.9\\\\\n\t Skyfall                         & 2012 & Daniel Craig   & Sam Mendes         & 943.5 & 170.2 & 14.5\\\\\n\t The World Is Not Enough         & 1999 & Pierce Brosnan & Michael Apted      & 439.5 & 158.3 & 13.5\\\\\n\t Tomorrow Never Dies             & 1997 & Pierce Brosnan & Roger Spottiswoode & 463.2 & 133.9 & 10.0\\\\\n\t A View to a Kill                & 1985 & Roger Moore    & John Glen          & 275.2 &  54.5 &  9.1\\\\\n\t Quantum of Solace               & 2008 & Daniel Craig   & Marc Forster       & 514.2 & 181.4 &  8.1\\\\\n\t Licence to Kill                 & 1989 & Timothy Dalton & John Glen          & 250.9 &  56.7 &  7.9\\\\\n\t Octopussy                       & 1983 & Roger Moore    & John Glen          & 373.8 &  53.9 &  7.8\\\\\n\t Diamonds Are Forever            & 1971 & Sean Connery   & Guy Hamilton       & 442.5 &  34.7 &  5.8\\\\\n\t The Living Daylights            & 1987 & Timothy Dalton & John Glen          & 313.5 &  68.8 &  5.2\\\\\n\t GoldenEye                       & 1995 & Pierce Brosnan & Martin Campbell    & 518.5 &  76.9 &  5.1\\\\\n\t Thunderball                     & 1965 & Sean Connery   & Terence Young      & 848.1 &  41.9 &  4.7\\\\\n\t You Only Live Twice             & 1967 & Sean Connery   & Lewis Gilbert      & 514.2 &  59.9 &  4.4\\\\\n\t Casino Royale                   & 2006 & Daniel Craig   & Martin Campbell    & 581.5 & 145.3 &  3.3\\\\\n\t Goldfinger                      & 1964 & Sean Connery   & Guy Hamilton       & 820.4 &  18.6 &  3.2\\\\\n\t From Russia with Love           & 1963 & Sean Connery   & Terence Young      & 543.8 &  12.6 &  1.6\\\\\n\t Dr. No                          & 1962 & Sean Connery   & Terence Young      & 448.8 &   7.0 &  0.6\\\\\n\t On Her Majesty's Secret Service & 1969 & George Lazenby & Peter R. Hunt      & 291.5 &  37.3 &  0.6\\\\\n\t Casino Royale                   & 1967 & David Niven    & Ken Hughes         & 315.0 &  85.0 &   NA\\\\\n\t Live and Let Die                & 1973 & Roger Moore    & Guy Hamilton       & 460.3 &  30.8 &   NA\\\\\n\t The Man with the Golden Gun     & 1974 & Roger Moore    & Guy Hamilton       & 334.0 &  27.7 &   NA\\\\\n\t The Spy Who Loved Me            & 1977 & Roger Moore    & Lewis Gilbert      & 533.0 &  45.1 &   NA\\\\\n\t Moonraker                       & 1979 & Roger Moore    & Lewis Gilbert      & 535.0 &  91.5 &   NA\\\\\n\t For Your Eyes Only              & 1981 & Roger Moore    & John Glen          & 449.4 &  60.2 &   NA\\\\\n\t Never Say Never Again           & 1983 & Sean Connery   & Irvin Kershner     & 380.0 &  86.0 &   NA\\\\\n\t Spectre                         & 2015 & Daniel Craig   & Sam Mendes         & 726.7 & 206.3 &   NA\\\\\n\\end{tabular}\n",
            "text/markdown": "\nA data.table: 26 × 7\n\n| Film &lt;chr&gt; | Year &lt;int&gt; | Actor &lt;chr&gt; | Director &lt;chr&gt; | Box Office &lt;dbl&gt; | Budget &lt;dbl&gt; | Bond Actor Salary &lt;dbl&gt; |\n|---|---|---|---|---|---|---|\n| Die Another Day                 | 2002 | Pierce Brosnan | Lee Tamahori       | 465.4 | 154.2 | 17.9 |\n| Skyfall                         | 2012 | Daniel Craig   | Sam Mendes         | 943.5 | 170.2 | 14.5 |\n| The World Is Not Enough         | 1999 | Pierce Brosnan | Michael Apted      | 439.5 | 158.3 | 13.5 |\n| Tomorrow Never Dies             | 1997 | Pierce Brosnan | Roger Spottiswoode | 463.2 | 133.9 | 10.0 |\n| A View to a Kill                | 1985 | Roger Moore    | John Glen          | 275.2 |  54.5 |  9.1 |\n| Quantum of Solace               | 2008 | Daniel Craig   | Marc Forster       | 514.2 | 181.4 |  8.1 |\n| Licence to Kill                 | 1989 | Timothy Dalton | John Glen          | 250.9 |  56.7 |  7.9 |\n| Octopussy                       | 1983 | Roger Moore    | John Glen          | 373.8 |  53.9 |  7.8 |\n| Diamonds Are Forever            | 1971 | Sean Connery   | Guy Hamilton       | 442.5 |  34.7 |  5.8 |\n| The Living Daylights            | 1987 | Timothy Dalton | John Glen          | 313.5 |  68.8 |  5.2 |\n| GoldenEye                       | 1995 | Pierce Brosnan | Martin Campbell    | 518.5 |  76.9 |  5.1 |\n| Thunderball                     | 1965 | Sean Connery   | Terence Young      | 848.1 |  41.9 |  4.7 |\n| You Only Live Twice             | 1967 | Sean Connery   | Lewis Gilbert      | 514.2 |  59.9 |  4.4 |\n| Casino Royale                   | 2006 | Daniel Craig   | Martin Campbell    | 581.5 | 145.3 |  3.3 |\n| Goldfinger                      | 1964 | Sean Connery   | Guy Hamilton       | 820.4 |  18.6 |  3.2 |\n| From Russia with Love           | 1963 | Sean Connery   | Terence Young      | 543.8 |  12.6 |  1.6 |\n| Dr. No                          | 1962 | Sean Connery   | Terence Young      | 448.8 |   7.0 |  0.6 |\n| On Her Majesty's Secret Service | 1969 | George Lazenby | Peter R. Hunt      | 291.5 |  37.3 |  0.6 |\n| Casino Royale                   | 1967 | David Niven    | Ken Hughes         | 315.0 |  85.0 |   NA |\n| Live and Let Die                | 1973 | Roger Moore    | Guy Hamilton       | 460.3 |  30.8 |   NA |\n| The Man with the Golden Gun     | 1974 | Roger Moore    | Guy Hamilton       | 334.0 |  27.7 |   NA |\n| The Spy Who Loved Me            | 1977 | Roger Moore    | Lewis Gilbert      | 533.0 |  45.1 |   NA |\n| Moonraker                       | 1979 | Roger Moore    | Lewis Gilbert      | 535.0 |  91.5 |   NA |\n| For Your Eyes Only              | 1981 | Roger Moore    | John Glen          | 449.4 |  60.2 |   NA |\n| Never Say Never Again           | 1983 | Sean Connery   | Irvin Kershner     | 380.0 |  86.0 |   NA |\n| Spectre                         | 2015 | Daniel Craig   | Sam Mendes         | 726.7 | 206.3 |   NA |\n\n",
            "text/html": [
              "<table>\n",
              "<caption>A data.table: 26 × 7</caption>\n",
              "<thead>\n",
              "\t<tr><th scope=col>Film</th><th scope=col>Year</th><th scope=col>Actor</th><th scope=col>Director</th><th scope=col>Box Office</th><th scope=col>Budget</th><th scope=col>Bond Actor Salary</th></tr>\n",
              "\t<tr><th scope=col>&lt;chr&gt;</th><th scope=col>&lt;int&gt;</th><th scope=col>&lt;chr&gt;</th><th scope=col>&lt;chr&gt;</th><th scope=col>&lt;dbl&gt;</th><th scope=col>&lt;dbl&gt;</th><th scope=col>&lt;dbl&gt;</th></tr>\n",
              "</thead>\n",
              "<tbody>\n",
              "\t<tr><td>Die Another Day                </td><td>2002</td><td>Pierce Brosnan</td><td>Lee Tamahori      </td><td>465.4</td><td>154.2</td><td>17.9</td></tr>\n",
              "\t<tr><td>Skyfall                        </td><td>2012</td><td>Daniel Craig  </td><td>Sam Mendes        </td><td>943.5</td><td>170.2</td><td>14.5</td></tr>\n",
              "\t<tr><td>The World Is Not Enough        </td><td>1999</td><td>Pierce Brosnan</td><td>Michael Apted     </td><td>439.5</td><td>158.3</td><td>13.5</td></tr>\n",
              "\t<tr><td>Tomorrow Never Dies            </td><td>1997</td><td>Pierce Brosnan</td><td>Roger Spottiswoode</td><td>463.2</td><td>133.9</td><td>10.0</td></tr>\n",
              "\t<tr><td>A View to a Kill               </td><td>1985</td><td>Roger Moore   </td><td>John Glen         </td><td>275.2</td><td> 54.5</td><td> 9.1</td></tr>\n",
              "\t<tr><td>Quantum of Solace              </td><td>2008</td><td>Daniel Craig  </td><td>Marc Forster      </td><td>514.2</td><td>181.4</td><td> 8.1</td></tr>\n",
              "\t<tr><td>Licence to Kill                </td><td>1989</td><td>Timothy Dalton</td><td>John Glen         </td><td>250.9</td><td> 56.7</td><td> 7.9</td></tr>\n",
              "\t<tr><td>Octopussy                      </td><td>1983</td><td>Roger Moore   </td><td>John Glen         </td><td>373.8</td><td> 53.9</td><td> 7.8</td></tr>\n",
              "\t<tr><td>Diamonds Are Forever           </td><td>1971</td><td>Sean Connery  </td><td>Guy Hamilton      </td><td>442.5</td><td> 34.7</td><td> 5.8</td></tr>\n",
              "\t<tr><td>The Living Daylights           </td><td>1987</td><td>Timothy Dalton</td><td>John Glen         </td><td>313.5</td><td> 68.8</td><td> 5.2</td></tr>\n",
              "\t<tr><td>GoldenEye                      </td><td>1995</td><td>Pierce Brosnan</td><td>Martin Campbell   </td><td>518.5</td><td> 76.9</td><td> 5.1</td></tr>\n",
              "\t<tr><td>Thunderball                    </td><td>1965</td><td>Sean Connery  </td><td>Terence Young     </td><td>848.1</td><td> 41.9</td><td> 4.7</td></tr>\n",
              "\t<tr><td>You Only Live Twice            </td><td>1967</td><td>Sean Connery  </td><td>Lewis Gilbert     </td><td>514.2</td><td> 59.9</td><td> 4.4</td></tr>\n",
              "\t<tr><td>Casino Royale                  </td><td>2006</td><td>Daniel Craig  </td><td>Martin Campbell   </td><td>581.5</td><td>145.3</td><td> 3.3</td></tr>\n",
              "\t<tr><td>Goldfinger                     </td><td>1964</td><td>Sean Connery  </td><td>Guy Hamilton      </td><td>820.4</td><td> 18.6</td><td> 3.2</td></tr>\n",
              "\t<tr><td>From Russia with Love          </td><td>1963</td><td>Sean Connery  </td><td>Terence Young     </td><td>543.8</td><td> 12.6</td><td> 1.6</td></tr>\n",
              "\t<tr><td>Dr. No                         </td><td>1962</td><td>Sean Connery  </td><td>Terence Young     </td><td>448.8</td><td>  7.0</td><td> 0.6</td></tr>\n",
              "\t<tr><td>On Her Majesty's Secret Service</td><td>1969</td><td>George Lazenby</td><td>Peter R. Hunt     </td><td>291.5</td><td> 37.3</td><td> 0.6</td></tr>\n",
              "\t<tr><td>Casino Royale                  </td><td>1967</td><td>David Niven   </td><td>Ken Hughes        </td><td>315.0</td><td> 85.0</td><td>  NA</td></tr>\n",
              "\t<tr><td>Live and Let Die               </td><td>1973</td><td>Roger Moore   </td><td>Guy Hamilton      </td><td>460.3</td><td> 30.8</td><td>  NA</td></tr>\n",
              "\t<tr><td>The Man with the Golden Gun    </td><td>1974</td><td>Roger Moore   </td><td>Guy Hamilton      </td><td>334.0</td><td> 27.7</td><td>  NA</td></tr>\n",
              "\t<tr><td>The Spy Who Loved Me           </td><td>1977</td><td>Roger Moore   </td><td>Lewis Gilbert     </td><td>533.0</td><td> 45.1</td><td>  NA</td></tr>\n",
              "\t<tr><td>Moonraker                      </td><td>1979</td><td>Roger Moore   </td><td>Lewis Gilbert     </td><td>535.0</td><td> 91.5</td><td>  NA</td></tr>\n",
              "\t<tr><td>For Your Eyes Only             </td><td>1981</td><td>Roger Moore   </td><td>John Glen         </td><td>449.4</td><td> 60.2</td><td>  NA</td></tr>\n",
              "\t<tr><td>Never Say Never Again          </td><td>1983</td><td>Sean Connery  </td><td>Irvin Kershner    </td><td>380.0</td><td> 86.0</td><td>  NA</td></tr>\n",
              "\t<tr><td>Spectre                        </td><td>2015</td><td>Daniel Craig  </td><td>Sam Mendes        </td><td>726.7</td><td>206.3</td><td>  NA</td></tr>\n",
              "</tbody>\n",
              "</table>\n"
            ]
          },
          "metadata": {
            "tags": []
          }
        }
      ]
    },
    {
      "cell_type": "markdown",
      "metadata": {
        "id": "AomsqrymyHlh"
      },
      "source": [
        "### CREAR NUEVAS COLUMNAS\n",
        "---\n",
        "La función *mutate()* permite crear columnas nuevas en un *data frame* de forma sencilla\n",
        "\n",
        "```\n",
        "dplyr::mutate(object, new columns...)\n",
        "```\n",
        "\n"
      ]
    },
    {
      "cell_type": "code",
      "metadata": {
        "id": "0XanZLdP9gdk",
        "colab": {
          "base_uri": "https://localhost:8080/",
          "height": 624
        },
        "outputId": "50c78a3e-6a90-4de6-a91e-a21b6b6e7854"
      },
      "source": [
        "# Creamos una nueva columna como cosciente entre dos variables existentes\n",
        "df_james_bond %>% mutate(\n",
        "  profit = `Box Office`/Budget    # nombramos nuestra nueva columna \"profit\"\n",
        ") %>% arrange(desc(profit))       # ordenamos el resultado, según la nueva columna definida\n"
      ],
      "execution_count": null,
      "outputs": [
        {
          "output_type": "display_data",
          "data": {
            "text/plain": [
              "   Film                            Year Actor          Director          \n",
              "1  Dr. No                          1962 Sean Connery   Terence Young     \n",
              "2  Goldfinger                      1964 Sean Connery   Guy Hamilton      \n",
              "3  From Russia with Love           1963 Sean Connery   Terence Young     \n",
              "4  Thunderball                     1965 Sean Connery   Terence Young     \n",
              "5  Live and Let Die                1973 Roger Moore    Guy Hamilton      \n",
              "6  Diamonds Are Forever            1971 Sean Connery   Guy Hamilton      \n",
              "7  The Man with the Golden Gun     1974 Roger Moore    Guy Hamilton      \n",
              "8  The Spy Who Loved Me            1977 Roger Moore    Lewis Gilbert     \n",
              "9  You Only Live Twice             1967 Sean Connery   Lewis Gilbert     \n",
              "10 On Her Majesty's Secret Service 1969 George Lazenby Peter R. Hunt     \n",
              "11 For Your Eyes Only              1981 Roger Moore    John Glen         \n",
              "12 Octopussy                       1983 Roger Moore    John Glen         \n",
              "13 GoldenEye                       1995 Pierce Brosnan Martin Campbell   \n",
              "14 Moonraker                       1979 Roger Moore    Lewis Gilbert     \n",
              "15 Skyfall                         2012 Daniel Craig   Sam Mendes        \n",
              "16 A View to a Kill                1985 Roger Moore    John Glen         \n",
              "17 The Living Daylights            1987 Timothy Dalton John Glen         \n",
              "18 Licence to Kill                 1989 Timothy Dalton John Glen         \n",
              "19 Never Say Never Again           1983 Sean Connery   Irvin Kershner    \n",
              "20 Casino Royale                   2006 Daniel Craig   Martin Campbell   \n",
              "21 Casino Royale                   1967 David Niven    Ken Hughes        \n",
              "22 Spectre                         2015 Daniel Craig   Sam Mendes        \n",
              "23 Tomorrow Never Dies             1997 Pierce Brosnan Roger Spottiswoode\n",
              "24 Die Another Day                 2002 Pierce Brosnan Lee Tamahori      \n",
              "25 Quantum of Solace               2008 Daniel Craig   Marc Forster      \n",
              "26 The World Is Not Enough         1999 Pierce Brosnan Michael Apted     \n",
              "   Box Office Budget Bond Actor Salary profit   \n",
              "1  448.8        7.0   0.6              64.114286\n",
              "2  820.4       18.6   3.2              44.107527\n",
              "3  543.8       12.6   1.6              43.158730\n",
              "4  848.1       41.9   4.7              20.241050\n",
              "5  460.3       30.8    NA              14.944805\n",
              "6  442.5       34.7   5.8              12.752161\n",
              "7  334.0       27.7    NA              12.057762\n",
              "8  533.0       45.1    NA              11.818182\n",
              "9  514.2       59.9   4.4               8.584307\n",
              "10 291.5       37.3   0.6               7.815013\n",
              "11 449.4       60.2    NA               7.465116\n",
              "12 373.8       53.9   7.8               6.935065\n",
              "13 518.5       76.9   5.1               6.742523\n",
              "14 535.0       91.5    NA               5.846995\n",
              "15 943.5      170.2  14.5               5.543478\n",
              "16 275.2       54.5   9.1               5.049541\n",
              "17 313.5       68.8   5.2               4.556686\n",
              "18 250.9       56.7   7.9               4.425044\n",
              "19 380.0       86.0    NA               4.418605\n",
              "20 581.5      145.3   3.3               4.002065\n",
              "21 315.0       85.0    NA               3.705882\n",
              "22 726.7      206.3    NA               3.522540\n",
              "23 463.2      133.9  10.0               3.459298\n",
              "24 465.4      154.2  17.9               3.018158\n",
              "25 514.2      181.4   8.1               2.834620\n",
              "26 439.5      158.3  13.5               2.776374"
            ],
            "text/latex": "A data.table: 26 × 8\n\\begin{tabular}{llllllll}\n Film & Year & Actor & Director & Box Office & Budget & Bond Actor Salary & profit\\\\\n <chr> & <int> & <chr> & <chr> & <dbl> & <dbl> & <dbl> & <dbl>\\\\\n\\hline\n\t Dr. No                          & 1962 & Sean Connery   & Terence Young      & 448.8 &   7.0 &  0.6 & 64.114286\\\\\n\t Goldfinger                      & 1964 & Sean Connery   & Guy Hamilton       & 820.4 &  18.6 &  3.2 & 44.107527\\\\\n\t From Russia with Love           & 1963 & Sean Connery   & Terence Young      & 543.8 &  12.6 &  1.6 & 43.158730\\\\\n\t Thunderball                     & 1965 & Sean Connery   & Terence Young      & 848.1 &  41.9 &  4.7 & 20.241050\\\\\n\t Live and Let Die                & 1973 & Roger Moore    & Guy Hamilton       & 460.3 &  30.8 &   NA & 14.944805\\\\\n\t Diamonds Are Forever            & 1971 & Sean Connery   & Guy Hamilton       & 442.5 &  34.7 &  5.8 & 12.752161\\\\\n\t The Man with the Golden Gun     & 1974 & Roger Moore    & Guy Hamilton       & 334.0 &  27.7 &   NA & 12.057762\\\\\n\t The Spy Who Loved Me            & 1977 & Roger Moore    & Lewis Gilbert      & 533.0 &  45.1 &   NA & 11.818182\\\\\n\t You Only Live Twice             & 1967 & Sean Connery   & Lewis Gilbert      & 514.2 &  59.9 &  4.4 &  8.584307\\\\\n\t On Her Majesty's Secret Service & 1969 & George Lazenby & Peter R. Hunt      & 291.5 &  37.3 &  0.6 &  7.815013\\\\\n\t For Your Eyes Only              & 1981 & Roger Moore    & John Glen          & 449.4 &  60.2 &   NA &  7.465116\\\\\n\t Octopussy                       & 1983 & Roger Moore    & John Glen          & 373.8 &  53.9 &  7.8 &  6.935065\\\\\n\t GoldenEye                       & 1995 & Pierce Brosnan & Martin Campbell    & 518.5 &  76.9 &  5.1 &  6.742523\\\\\n\t Moonraker                       & 1979 & Roger Moore    & Lewis Gilbert      & 535.0 &  91.5 &   NA &  5.846995\\\\\n\t Skyfall                         & 2012 & Daniel Craig   & Sam Mendes         & 943.5 & 170.2 & 14.5 &  5.543478\\\\\n\t A View to a Kill                & 1985 & Roger Moore    & John Glen          & 275.2 &  54.5 &  9.1 &  5.049541\\\\\n\t The Living Daylights            & 1987 & Timothy Dalton & John Glen          & 313.5 &  68.8 &  5.2 &  4.556686\\\\\n\t Licence to Kill                 & 1989 & Timothy Dalton & John Glen          & 250.9 &  56.7 &  7.9 &  4.425044\\\\\n\t Never Say Never Again           & 1983 & Sean Connery   & Irvin Kershner     & 380.0 &  86.0 &   NA &  4.418605\\\\\n\t Casino Royale                   & 2006 & Daniel Craig   & Martin Campbell    & 581.5 & 145.3 &  3.3 &  4.002065\\\\\n\t Casino Royale                   & 1967 & David Niven    & Ken Hughes         & 315.0 &  85.0 &   NA &  3.705882\\\\\n\t Spectre                         & 2015 & Daniel Craig   & Sam Mendes         & 726.7 & 206.3 &   NA &  3.522540\\\\\n\t Tomorrow Never Dies             & 1997 & Pierce Brosnan & Roger Spottiswoode & 463.2 & 133.9 & 10.0 &  3.459298\\\\\n\t Die Another Day                 & 2002 & Pierce Brosnan & Lee Tamahori       & 465.4 & 154.2 & 17.9 &  3.018158\\\\\n\t Quantum of Solace               & 2008 & Daniel Craig   & Marc Forster       & 514.2 & 181.4 &  8.1 &  2.834620\\\\\n\t The World Is Not Enough         & 1999 & Pierce Brosnan & Michael Apted      & 439.5 & 158.3 & 13.5 &  2.776374\\\\\n\\end{tabular}\n",
            "text/markdown": "\nA data.table: 26 × 8\n\n| Film &lt;chr&gt; | Year &lt;int&gt; | Actor &lt;chr&gt; | Director &lt;chr&gt; | Box Office &lt;dbl&gt; | Budget &lt;dbl&gt; | Bond Actor Salary &lt;dbl&gt; | profit &lt;dbl&gt; |\n|---|---|---|---|---|---|---|---|\n| Dr. No                          | 1962 | Sean Connery   | Terence Young      | 448.8 |   7.0 |  0.6 | 64.114286 |\n| Goldfinger                      | 1964 | Sean Connery   | Guy Hamilton       | 820.4 |  18.6 |  3.2 | 44.107527 |\n| From Russia with Love           | 1963 | Sean Connery   | Terence Young      | 543.8 |  12.6 |  1.6 | 43.158730 |\n| Thunderball                     | 1965 | Sean Connery   | Terence Young      | 848.1 |  41.9 |  4.7 | 20.241050 |\n| Live and Let Die                | 1973 | Roger Moore    | Guy Hamilton       | 460.3 |  30.8 |   NA | 14.944805 |\n| Diamonds Are Forever            | 1971 | Sean Connery   | Guy Hamilton       | 442.5 |  34.7 |  5.8 | 12.752161 |\n| The Man with the Golden Gun     | 1974 | Roger Moore    | Guy Hamilton       | 334.0 |  27.7 |   NA | 12.057762 |\n| The Spy Who Loved Me            | 1977 | Roger Moore    | Lewis Gilbert      | 533.0 |  45.1 |   NA | 11.818182 |\n| You Only Live Twice             | 1967 | Sean Connery   | Lewis Gilbert      | 514.2 |  59.9 |  4.4 |  8.584307 |\n| On Her Majesty's Secret Service | 1969 | George Lazenby | Peter R. Hunt      | 291.5 |  37.3 |  0.6 |  7.815013 |\n| For Your Eyes Only              | 1981 | Roger Moore    | John Glen          | 449.4 |  60.2 |   NA |  7.465116 |\n| Octopussy                       | 1983 | Roger Moore    | John Glen          | 373.8 |  53.9 |  7.8 |  6.935065 |\n| GoldenEye                       | 1995 | Pierce Brosnan | Martin Campbell    | 518.5 |  76.9 |  5.1 |  6.742523 |\n| Moonraker                       | 1979 | Roger Moore    | Lewis Gilbert      | 535.0 |  91.5 |   NA |  5.846995 |\n| Skyfall                         | 2012 | Daniel Craig   | Sam Mendes         | 943.5 | 170.2 | 14.5 |  5.543478 |\n| A View to a Kill                | 1985 | Roger Moore    | John Glen          | 275.2 |  54.5 |  9.1 |  5.049541 |\n| The Living Daylights            | 1987 | Timothy Dalton | John Glen          | 313.5 |  68.8 |  5.2 |  4.556686 |\n| Licence to Kill                 | 1989 | Timothy Dalton | John Glen          | 250.9 |  56.7 |  7.9 |  4.425044 |\n| Never Say Never Again           | 1983 | Sean Connery   | Irvin Kershner     | 380.0 |  86.0 |   NA |  4.418605 |\n| Casino Royale                   | 2006 | Daniel Craig   | Martin Campbell    | 581.5 | 145.3 |  3.3 |  4.002065 |\n| Casino Royale                   | 1967 | David Niven    | Ken Hughes         | 315.0 |  85.0 |   NA |  3.705882 |\n| Spectre                         | 2015 | Daniel Craig   | Sam Mendes         | 726.7 | 206.3 |   NA |  3.522540 |\n| Tomorrow Never Dies             | 1997 | Pierce Brosnan | Roger Spottiswoode | 463.2 | 133.9 | 10.0 |  3.459298 |\n| Die Another Day                 | 2002 | Pierce Brosnan | Lee Tamahori       | 465.4 | 154.2 | 17.9 |  3.018158 |\n| Quantum of Solace               | 2008 | Daniel Craig   | Marc Forster       | 514.2 | 181.4 |  8.1 |  2.834620 |\n| The World Is Not Enough         | 1999 | Pierce Brosnan | Michael Apted      | 439.5 | 158.3 | 13.5 |  2.776374 |\n\n",
            "text/html": [
              "<table>\n",
              "<caption>A data.table: 26 × 8</caption>\n",
              "<thead>\n",
              "\t<tr><th scope=col>Film</th><th scope=col>Year</th><th scope=col>Actor</th><th scope=col>Director</th><th scope=col>Box Office</th><th scope=col>Budget</th><th scope=col>Bond Actor Salary</th><th scope=col>profit</th></tr>\n",
              "\t<tr><th scope=col>&lt;chr&gt;</th><th scope=col>&lt;int&gt;</th><th scope=col>&lt;chr&gt;</th><th scope=col>&lt;chr&gt;</th><th scope=col>&lt;dbl&gt;</th><th scope=col>&lt;dbl&gt;</th><th scope=col>&lt;dbl&gt;</th><th scope=col>&lt;dbl&gt;</th></tr>\n",
              "</thead>\n",
              "<tbody>\n",
              "\t<tr><td>Dr. No                         </td><td>1962</td><td>Sean Connery  </td><td>Terence Young     </td><td>448.8</td><td>  7.0</td><td> 0.6</td><td>64.114286</td></tr>\n",
              "\t<tr><td>Goldfinger                     </td><td>1964</td><td>Sean Connery  </td><td>Guy Hamilton      </td><td>820.4</td><td> 18.6</td><td> 3.2</td><td>44.107527</td></tr>\n",
              "\t<tr><td>From Russia with Love          </td><td>1963</td><td>Sean Connery  </td><td>Terence Young     </td><td>543.8</td><td> 12.6</td><td> 1.6</td><td>43.158730</td></tr>\n",
              "\t<tr><td>Thunderball                    </td><td>1965</td><td>Sean Connery  </td><td>Terence Young     </td><td>848.1</td><td> 41.9</td><td> 4.7</td><td>20.241050</td></tr>\n",
              "\t<tr><td>Live and Let Die               </td><td>1973</td><td>Roger Moore   </td><td>Guy Hamilton      </td><td>460.3</td><td> 30.8</td><td>  NA</td><td>14.944805</td></tr>\n",
              "\t<tr><td>Diamonds Are Forever           </td><td>1971</td><td>Sean Connery  </td><td>Guy Hamilton      </td><td>442.5</td><td> 34.7</td><td> 5.8</td><td>12.752161</td></tr>\n",
              "\t<tr><td>The Man with the Golden Gun    </td><td>1974</td><td>Roger Moore   </td><td>Guy Hamilton      </td><td>334.0</td><td> 27.7</td><td>  NA</td><td>12.057762</td></tr>\n",
              "\t<tr><td>The Spy Who Loved Me           </td><td>1977</td><td>Roger Moore   </td><td>Lewis Gilbert     </td><td>533.0</td><td> 45.1</td><td>  NA</td><td>11.818182</td></tr>\n",
              "\t<tr><td>You Only Live Twice            </td><td>1967</td><td>Sean Connery  </td><td>Lewis Gilbert     </td><td>514.2</td><td> 59.9</td><td> 4.4</td><td> 8.584307</td></tr>\n",
              "\t<tr><td>On Her Majesty's Secret Service</td><td>1969</td><td>George Lazenby</td><td>Peter R. Hunt     </td><td>291.5</td><td> 37.3</td><td> 0.6</td><td> 7.815013</td></tr>\n",
              "\t<tr><td>For Your Eyes Only             </td><td>1981</td><td>Roger Moore   </td><td>John Glen         </td><td>449.4</td><td> 60.2</td><td>  NA</td><td> 7.465116</td></tr>\n",
              "\t<tr><td>Octopussy                      </td><td>1983</td><td>Roger Moore   </td><td>John Glen         </td><td>373.8</td><td> 53.9</td><td> 7.8</td><td> 6.935065</td></tr>\n",
              "\t<tr><td>GoldenEye                      </td><td>1995</td><td>Pierce Brosnan</td><td>Martin Campbell   </td><td>518.5</td><td> 76.9</td><td> 5.1</td><td> 6.742523</td></tr>\n",
              "\t<tr><td>Moonraker                      </td><td>1979</td><td>Roger Moore   </td><td>Lewis Gilbert     </td><td>535.0</td><td> 91.5</td><td>  NA</td><td> 5.846995</td></tr>\n",
              "\t<tr><td>Skyfall                        </td><td>2012</td><td>Daniel Craig  </td><td>Sam Mendes        </td><td>943.5</td><td>170.2</td><td>14.5</td><td> 5.543478</td></tr>\n",
              "\t<tr><td>A View to a Kill               </td><td>1985</td><td>Roger Moore   </td><td>John Glen         </td><td>275.2</td><td> 54.5</td><td> 9.1</td><td> 5.049541</td></tr>\n",
              "\t<tr><td>The Living Daylights           </td><td>1987</td><td>Timothy Dalton</td><td>John Glen         </td><td>313.5</td><td> 68.8</td><td> 5.2</td><td> 4.556686</td></tr>\n",
              "\t<tr><td>Licence to Kill                </td><td>1989</td><td>Timothy Dalton</td><td>John Glen         </td><td>250.9</td><td> 56.7</td><td> 7.9</td><td> 4.425044</td></tr>\n",
              "\t<tr><td>Never Say Never Again          </td><td>1983</td><td>Sean Connery  </td><td>Irvin Kershner    </td><td>380.0</td><td> 86.0</td><td>  NA</td><td> 4.418605</td></tr>\n",
              "\t<tr><td>Casino Royale                  </td><td>2006</td><td>Daniel Craig  </td><td>Martin Campbell   </td><td>581.5</td><td>145.3</td><td> 3.3</td><td> 4.002065</td></tr>\n",
              "\t<tr><td>Casino Royale                  </td><td>1967</td><td>David Niven   </td><td>Ken Hughes        </td><td>315.0</td><td> 85.0</td><td>  NA</td><td> 3.705882</td></tr>\n",
              "\t<tr><td>Spectre                        </td><td>2015</td><td>Daniel Craig  </td><td>Sam Mendes        </td><td>726.7</td><td>206.3</td><td>  NA</td><td> 3.522540</td></tr>\n",
              "\t<tr><td>Tomorrow Never Dies            </td><td>1997</td><td>Pierce Brosnan</td><td>Roger Spottiswoode</td><td>463.2</td><td>133.9</td><td>10.0</td><td> 3.459298</td></tr>\n",
              "\t<tr><td>Die Another Day                </td><td>2002</td><td>Pierce Brosnan</td><td>Lee Tamahori      </td><td>465.4</td><td>154.2</td><td>17.9</td><td> 3.018158</td></tr>\n",
              "\t<tr><td>Quantum of Solace              </td><td>2008</td><td>Daniel Craig  </td><td>Marc Forster      </td><td>514.2</td><td>181.4</td><td> 8.1</td><td> 2.834620</td></tr>\n",
              "\t<tr><td>The World Is Not Enough        </td><td>1999</td><td>Pierce Brosnan</td><td>Michael Apted     </td><td>439.5</td><td>158.3</td><td>13.5</td><td> 2.776374</td></tr>\n",
              "</tbody>\n",
              "</table>\n"
            ]
          },
          "metadata": {
            "tags": []
          }
        }
      ]
    },
    {
      "cell_type": "code",
      "metadata": {
        "colab": {
          "base_uri": "https://localhost:8080/",
          "height": 624
        },
        "id": "K6UOMJm30pW6",
        "outputId": "ba049483-e549-4f04-c678-dd61d12dc331"
      },
      "source": [
        "# Repetimos el ejercicio anterior, en este caso utilizamos la función round() para redondear el resultado y forzar decimales\n",
        "df_james_bond %>% mutate(\n",
        "  profit = round(`Box Office`/Budget,2)   # el segundo parámetro de la función round() establece el número de decimales\n",
        "  ,profit_EUR = round(profit / 1.2)       # por defecto, round() fuerza a números enteros\n",
        ") %>% arrange(desc(profit_EUR))\n"
      ],
      "execution_count": null,
      "outputs": [
        {
          "output_type": "display_data",
          "data": {
            "text/plain": [
              "   Film                            Year Actor          Director          \n",
              "1  Dr. No                          1962 Sean Connery   Terence Young     \n",
              "2  Goldfinger                      1964 Sean Connery   Guy Hamilton      \n",
              "3  From Russia with Love           1963 Sean Connery   Terence Young     \n",
              "4  Thunderball                     1965 Sean Connery   Terence Young     \n",
              "5  Live and Let Die                1973 Roger Moore    Guy Hamilton      \n",
              "6  Diamonds Are Forever            1971 Sean Connery   Guy Hamilton      \n",
              "7  The Man with the Golden Gun     1974 Roger Moore    Guy Hamilton      \n",
              "8  The Spy Who Loved Me            1977 Roger Moore    Lewis Gilbert     \n",
              "9  You Only Live Twice             1967 Sean Connery   Lewis Gilbert     \n",
              "10 On Her Majesty's Secret Service 1969 George Lazenby Peter R. Hunt     \n",
              "11 For Your Eyes Only              1981 Roger Moore    John Glen         \n",
              "12 Octopussy                       1983 Roger Moore    John Glen         \n",
              "13 GoldenEye                       1995 Pierce Brosnan Martin Campbell   \n",
              "14 Moonraker                       1979 Roger Moore    Lewis Gilbert     \n",
              "15 Skyfall                         2012 Daniel Craig   Sam Mendes        \n",
              "16 Never Say Never Again           1983 Sean Connery   Irvin Kershner    \n",
              "17 A View to a Kill                1985 Roger Moore    John Glen         \n",
              "18 The Living Daylights            1987 Timothy Dalton John Glen         \n",
              "19 Licence to Kill                 1989 Timothy Dalton John Glen         \n",
              "20 Casino Royale                   1967 David Niven    Ken Hughes        \n",
              "21 Tomorrow Never Dies             1997 Pierce Brosnan Roger Spottiswoode\n",
              "22 Die Another Day                 2002 Pierce Brosnan Lee Tamahori      \n",
              "23 Casino Royale                   2006 Daniel Craig   Martin Campbell   \n",
              "24 Spectre                         2015 Daniel Craig   Sam Mendes        \n",
              "25 The World Is Not Enough         1999 Pierce Brosnan Michael Apted     \n",
              "26 Quantum of Solace               2008 Daniel Craig   Marc Forster      \n",
              "   Box Office Budget Bond Actor Salary profit profit_EUR\n",
              "1  448.8        7.0   0.6              64.11  53        \n",
              "2  820.4       18.6   3.2              44.11  37        \n",
              "3  543.8       12.6   1.6              43.16  36        \n",
              "4  848.1       41.9   4.7              20.24  17        \n",
              "5  460.3       30.8    NA              14.94  12        \n",
              "6  442.5       34.7   5.8              12.75  11        \n",
              "7  334.0       27.7    NA              12.06  10        \n",
              "8  533.0       45.1    NA              11.82  10        \n",
              "9  514.2       59.9   4.4               8.58   7        \n",
              "10 291.5       37.3   0.6               7.82   7        \n",
              "11 449.4       60.2    NA               7.47   6        \n",
              "12 373.8       53.9   7.8               6.94   6        \n",
              "13 518.5       76.9   5.1               6.74   6        \n",
              "14 535.0       91.5    NA               5.85   5        \n",
              "15 943.5      170.2  14.5               5.54   5        \n",
              "16 380.0       86.0    NA               4.42   4        \n",
              "17 275.2       54.5   9.1               5.05   4        \n",
              "18 313.5       68.8   5.2               4.56   4        \n",
              "19 250.9       56.7   7.9               4.43   4        \n",
              "20 315.0       85.0    NA               3.71   3        \n",
              "21 463.2      133.9  10.0               3.46   3        \n",
              "22 465.4      154.2  17.9               3.02   3        \n",
              "23 581.5      145.3   3.3               4.00   3        \n",
              "24 726.7      206.3    NA               3.52   3        \n",
              "25 439.5      158.3  13.5               2.78   2        \n",
              "26 514.2      181.4   8.1               2.83   2        "
            ],
            "text/latex": "A data.table: 26 × 9\n\\begin{tabular}{lllllllll}\n Film & Year & Actor & Director & Box Office & Budget & Bond Actor Salary & profit & profit\\_EUR\\\\\n <chr> & <int> & <chr> & <chr> & <dbl> & <dbl> & <dbl> & <dbl> & <dbl>\\\\\n\\hline\n\t Dr. No                          & 1962 & Sean Connery   & Terence Young      & 448.8 &   7.0 &  0.6 & 64.11 & 53\\\\\n\t Goldfinger                      & 1964 & Sean Connery   & Guy Hamilton       & 820.4 &  18.6 &  3.2 & 44.11 & 37\\\\\n\t From Russia with Love           & 1963 & Sean Connery   & Terence Young      & 543.8 &  12.6 &  1.6 & 43.16 & 36\\\\\n\t Thunderball                     & 1965 & Sean Connery   & Terence Young      & 848.1 &  41.9 &  4.7 & 20.24 & 17\\\\\n\t Live and Let Die                & 1973 & Roger Moore    & Guy Hamilton       & 460.3 &  30.8 &   NA & 14.94 & 12\\\\\n\t Diamonds Are Forever            & 1971 & Sean Connery   & Guy Hamilton       & 442.5 &  34.7 &  5.8 & 12.75 & 11\\\\\n\t The Man with the Golden Gun     & 1974 & Roger Moore    & Guy Hamilton       & 334.0 &  27.7 &   NA & 12.06 & 10\\\\\n\t The Spy Who Loved Me            & 1977 & Roger Moore    & Lewis Gilbert      & 533.0 &  45.1 &   NA & 11.82 & 10\\\\\n\t You Only Live Twice             & 1967 & Sean Connery   & Lewis Gilbert      & 514.2 &  59.9 &  4.4 &  8.58 &  7\\\\\n\t On Her Majesty's Secret Service & 1969 & George Lazenby & Peter R. Hunt      & 291.5 &  37.3 &  0.6 &  7.82 &  7\\\\\n\t For Your Eyes Only              & 1981 & Roger Moore    & John Glen          & 449.4 &  60.2 &   NA &  7.47 &  6\\\\\n\t Octopussy                       & 1983 & Roger Moore    & John Glen          & 373.8 &  53.9 &  7.8 &  6.94 &  6\\\\\n\t GoldenEye                       & 1995 & Pierce Brosnan & Martin Campbell    & 518.5 &  76.9 &  5.1 &  6.74 &  6\\\\\n\t Moonraker                       & 1979 & Roger Moore    & Lewis Gilbert      & 535.0 &  91.5 &   NA &  5.85 &  5\\\\\n\t Skyfall                         & 2012 & Daniel Craig   & Sam Mendes         & 943.5 & 170.2 & 14.5 &  5.54 &  5\\\\\n\t Never Say Never Again           & 1983 & Sean Connery   & Irvin Kershner     & 380.0 &  86.0 &   NA &  4.42 &  4\\\\\n\t A View to a Kill                & 1985 & Roger Moore    & John Glen          & 275.2 &  54.5 &  9.1 &  5.05 &  4\\\\\n\t The Living Daylights            & 1987 & Timothy Dalton & John Glen          & 313.5 &  68.8 &  5.2 &  4.56 &  4\\\\\n\t Licence to Kill                 & 1989 & Timothy Dalton & John Glen          & 250.9 &  56.7 &  7.9 &  4.43 &  4\\\\\n\t Casino Royale                   & 1967 & David Niven    & Ken Hughes         & 315.0 &  85.0 &   NA &  3.71 &  3\\\\\n\t Tomorrow Never Dies             & 1997 & Pierce Brosnan & Roger Spottiswoode & 463.2 & 133.9 & 10.0 &  3.46 &  3\\\\\n\t Die Another Day                 & 2002 & Pierce Brosnan & Lee Tamahori       & 465.4 & 154.2 & 17.9 &  3.02 &  3\\\\\n\t Casino Royale                   & 2006 & Daniel Craig   & Martin Campbell    & 581.5 & 145.3 &  3.3 &  4.00 &  3\\\\\n\t Spectre                         & 2015 & Daniel Craig   & Sam Mendes         & 726.7 & 206.3 &   NA &  3.52 &  3\\\\\n\t The World Is Not Enough         & 1999 & Pierce Brosnan & Michael Apted      & 439.5 & 158.3 & 13.5 &  2.78 &  2\\\\\n\t Quantum of Solace               & 2008 & Daniel Craig   & Marc Forster       & 514.2 & 181.4 &  8.1 &  2.83 &  2\\\\\n\\end{tabular}\n",
            "text/markdown": "\nA data.table: 26 × 9\n\n| Film &lt;chr&gt; | Year &lt;int&gt; | Actor &lt;chr&gt; | Director &lt;chr&gt; | Box Office &lt;dbl&gt; | Budget &lt;dbl&gt; | Bond Actor Salary &lt;dbl&gt; | profit &lt;dbl&gt; | profit_EUR &lt;dbl&gt; |\n|---|---|---|---|---|---|---|---|---|\n| Dr. No                          | 1962 | Sean Connery   | Terence Young      | 448.8 |   7.0 |  0.6 | 64.11 | 53 |\n| Goldfinger                      | 1964 | Sean Connery   | Guy Hamilton       | 820.4 |  18.6 |  3.2 | 44.11 | 37 |\n| From Russia with Love           | 1963 | Sean Connery   | Terence Young      | 543.8 |  12.6 |  1.6 | 43.16 | 36 |\n| Thunderball                     | 1965 | Sean Connery   | Terence Young      | 848.1 |  41.9 |  4.7 | 20.24 | 17 |\n| Live and Let Die                | 1973 | Roger Moore    | Guy Hamilton       | 460.3 |  30.8 |   NA | 14.94 | 12 |\n| Diamonds Are Forever            | 1971 | Sean Connery   | Guy Hamilton       | 442.5 |  34.7 |  5.8 | 12.75 | 11 |\n| The Man with the Golden Gun     | 1974 | Roger Moore    | Guy Hamilton       | 334.0 |  27.7 |   NA | 12.06 | 10 |\n| The Spy Who Loved Me            | 1977 | Roger Moore    | Lewis Gilbert      | 533.0 |  45.1 |   NA | 11.82 | 10 |\n| You Only Live Twice             | 1967 | Sean Connery   | Lewis Gilbert      | 514.2 |  59.9 |  4.4 |  8.58 |  7 |\n| On Her Majesty's Secret Service | 1969 | George Lazenby | Peter R. Hunt      | 291.5 |  37.3 |  0.6 |  7.82 |  7 |\n| For Your Eyes Only              | 1981 | Roger Moore    | John Glen          | 449.4 |  60.2 |   NA |  7.47 |  6 |\n| Octopussy                       | 1983 | Roger Moore    | John Glen          | 373.8 |  53.9 |  7.8 |  6.94 |  6 |\n| GoldenEye                       | 1995 | Pierce Brosnan | Martin Campbell    | 518.5 |  76.9 |  5.1 |  6.74 |  6 |\n| Moonraker                       | 1979 | Roger Moore    | Lewis Gilbert      | 535.0 |  91.5 |   NA |  5.85 |  5 |\n| Skyfall                         | 2012 | Daniel Craig   | Sam Mendes         | 943.5 | 170.2 | 14.5 |  5.54 |  5 |\n| Never Say Never Again           | 1983 | Sean Connery   | Irvin Kershner     | 380.0 |  86.0 |   NA |  4.42 |  4 |\n| A View to a Kill                | 1985 | Roger Moore    | John Glen          | 275.2 |  54.5 |  9.1 |  5.05 |  4 |\n| The Living Daylights            | 1987 | Timothy Dalton | John Glen          | 313.5 |  68.8 |  5.2 |  4.56 |  4 |\n| Licence to Kill                 | 1989 | Timothy Dalton | John Glen          | 250.9 |  56.7 |  7.9 |  4.43 |  4 |\n| Casino Royale                   | 1967 | David Niven    | Ken Hughes         | 315.0 |  85.0 |   NA |  3.71 |  3 |\n| Tomorrow Never Dies             | 1997 | Pierce Brosnan | Roger Spottiswoode | 463.2 | 133.9 | 10.0 |  3.46 |  3 |\n| Die Another Day                 | 2002 | Pierce Brosnan | Lee Tamahori       | 465.4 | 154.2 | 17.9 |  3.02 |  3 |\n| Casino Royale                   | 2006 | Daniel Craig   | Martin Campbell    | 581.5 | 145.3 |  3.3 |  4.00 |  3 |\n| Spectre                         | 2015 | Daniel Craig   | Sam Mendes         | 726.7 | 206.3 |   NA |  3.52 |  3 |\n| The World Is Not Enough         | 1999 | Pierce Brosnan | Michael Apted      | 439.5 | 158.3 | 13.5 |  2.78 |  2 |\n| Quantum of Solace               | 2008 | Daniel Craig   | Marc Forster       | 514.2 | 181.4 |  8.1 |  2.83 |  2 |\n\n",
            "text/html": [
              "<table>\n",
              "<caption>A data.table: 26 × 9</caption>\n",
              "<thead>\n",
              "\t<tr><th scope=col>Film</th><th scope=col>Year</th><th scope=col>Actor</th><th scope=col>Director</th><th scope=col>Box Office</th><th scope=col>Budget</th><th scope=col>Bond Actor Salary</th><th scope=col>profit</th><th scope=col>profit_EUR</th></tr>\n",
              "\t<tr><th scope=col>&lt;chr&gt;</th><th scope=col>&lt;int&gt;</th><th scope=col>&lt;chr&gt;</th><th scope=col>&lt;chr&gt;</th><th scope=col>&lt;dbl&gt;</th><th scope=col>&lt;dbl&gt;</th><th scope=col>&lt;dbl&gt;</th><th scope=col>&lt;dbl&gt;</th><th scope=col>&lt;dbl&gt;</th></tr>\n",
              "</thead>\n",
              "<tbody>\n",
              "\t<tr><td>Dr. No                         </td><td>1962</td><td>Sean Connery  </td><td>Terence Young     </td><td>448.8</td><td>  7.0</td><td> 0.6</td><td>64.11</td><td>53</td></tr>\n",
              "\t<tr><td>Goldfinger                     </td><td>1964</td><td>Sean Connery  </td><td>Guy Hamilton      </td><td>820.4</td><td> 18.6</td><td> 3.2</td><td>44.11</td><td>37</td></tr>\n",
              "\t<tr><td>From Russia with Love          </td><td>1963</td><td>Sean Connery  </td><td>Terence Young     </td><td>543.8</td><td> 12.6</td><td> 1.6</td><td>43.16</td><td>36</td></tr>\n",
              "\t<tr><td>Thunderball                    </td><td>1965</td><td>Sean Connery  </td><td>Terence Young     </td><td>848.1</td><td> 41.9</td><td> 4.7</td><td>20.24</td><td>17</td></tr>\n",
              "\t<tr><td>Live and Let Die               </td><td>1973</td><td>Roger Moore   </td><td>Guy Hamilton      </td><td>460.3</td><td> 30.8</td><td>  NA</td><td>14.94</td><td>12</td></tr>\n",
              "\t<tr><td>Diamonds Are Forever           </td><td>1971</td><td>Sean Connery  </td><td>Guy Hamilton      </td><td>442.5</td><td> 34.7</td><td> 5.8</td><td>12.75</td><td>11</td></tr>\n",
              "\t<tr><td>The Man with the Golden Gun    </td><td>1974</td><td>Roger Moore   </td><td>Guy Hamilton      </td><td>334.0</td><td> 27.7</td><td>  NA</td><td>12.06</td><td>10</td></tr>\n",
              "\t<tr><td>The Spy Who Loved Me           </td><td>1977</td><td>Roger Moore   </td><td>Lewis Gilbert     </td><td>533.0</td><td> 45.1</td><td>  NA</td><td>11.82</td><td>10</td></tr>\n",
              "\t<tr><td>You Only Live Twice            </td><td>1967</td><td>Sean Connery  </td><td>Lewis Gilbert     </td><td>514.2</td><td> 59.9</td><td> 4.4</td><td> 8.58</td><td> 7</td></tr>\n",
              "\t<tr><td>On Her Majesty's Secret Service</td><td>1969</td><td>George Lazenby</td><td>Peter R. Hunt     </td><td>291.5</td><td> 37.3</td><td> 0.6</td><td> 7.82</td><td> 7</td></tr>\n",
              "\t<tr><td>For Your Eyes Only             </td><td>1981</td><td>Roger Moore   </td><td>John Glen         </td><td>449.4</td><td> 60.2</td><td>  NA</td><td> 7.47</td><td> 6</td></tr>\n",
              "\t<tr><td>Octopussy                      </td><td>1983</td><td>Roger Moore   </td><td>John Glen         </td><td>373.8</td><td> 53.9</td><td> 7.8</td><td> 6.94</td><td> 6</td></tr>\n",
              "\t<tr><td>GoldenEye                      </td><td>1995</td><td>Pierce Brosnan</td><td>Martin Campbell   </td><td>518.5</td><td> 76.9</td><td> 5.1</td><td> 6.74</td><td> 6</td></tr>\n",
              "\t<tr><td>Moonraker                      </td><td>1979</td><td>Roger Moore   </td><td>Lewis Gilbert     </td><td>535.0</td><td> 91.5</td><td>  NA</td><td> 5.85</td><td> 5</td></tr>\n",
              "\t<tr><td>Skyfall                        </td><td>2012</td><td>Daniel Craig  </td><td>Sam Mendes        </td><td>943.5</td><td>170.2</td><td>14.5</td><td> 5.54</td><td> 5</td></tr>\n",
              "\t<tr><td>Never Say Never Again          </td><td>1983</td><td>Sean Connery  </td><td>Irvin Kershner    </td><td>380.0</td><td> 86.0</td><td>  NA</td><td> 4.42</td><td> 4</td></tr>\n",
              "\t<tr><td>A View to a Kill               </td><td>1985</td><td>Roger Moore   </td><td>John Glen         </td><td>275.2</td><td> 54.5</td><td> 9.1</td><td> 5.05</td><td> 4</td></tr>\n",
              "\t<tr><td>The Living Daylights           </td><td>1987</td><td>Timothy Dalton</td><td>John Glen         </td><td>313.5</td><td> 68.8</td><td> 5.2</td><td> 4.56</td><td> 4</td></tr>\n",
              "\t<tr><td>Licence to Kill                </td><td>1989</td><td>Timothy Dalton</td><td>John Glen         </td><td>250.9</td><td> 56.7</td><td> 7.9</td><td> 4.43</td><td> 4</td></tr>\n",
              "\t<tr><td>Casino Royale                  </td><td>1967</td><td>David Niven   </td><td>Ken Hughes        </td><td>315.0</td><td> 85.0</td><td>  NA</td><td> 3.71</td><td> 3</td></tr>\n",
              "\t<tr><td>Tomorrow Never Dies            </td><td>1997</td><td>Pierce Brosnan</td><td>Roger Spottiswoode</td><td>463.2</td><td>133.9</td><td>10.0</td><td> 3.46</td><td> 3</td></tr>\n",
              "\t<tr><td>Die Another Day                </td><td>2002</td><td>Pierce Brosnan</td><td>Lee Tamahori      </td><td>465.4</td><td>154.2</td><td>17.9</td><td> 3.02</td><td> 3</td></tr>\n",
              "\t<tr><td>Casino Royale                  </td><td>2006</td><td>Daniel Craig  </td><td>Martin Campbell   </td><td>581.5</td><td>145.3</td><td> 3.3</td><td> 4.00</td><td> 3</td></tr>\n",
              "\t<tr><td>Spectre                        </td><td>2015</td><td>Daniel Craig  </td><td>Sam Mendes        </td><td>726.7</td><td>206.3</td><td>  NA</td><td> 3.52</td><td> 3</td></tr>\n",
              "\t<tr><td>The World Is Not Enough        </td><td>1999</td><td>Pierce Brosnan</td><td>Michael Apted     </td><td>439.5</td><td>158.3</td><td>13.5</td><td> 2.78</td><td> 2</td></tr>\n",
              "\t<tr><td>Quantum of Solace              </td><td>2008</td><td>Daniel Craig  </td><td>Marc Forster      </td><td>514.2</td><td>181.4</td><td> 8.1</td><td> 2.83</td><td> 2</td></tr>\n",
              "</tbody>\n",
              "</table>\n"
            ]
          },
          "metadata": {
            "tags": []
          }
        }
      ]
    },
    {
      "cell_type": "markdown",
      "metadata": {
        "id": "wPPwmloWLPXH"
      },
      "source": [
        "#### Nuevas variables a partir de pruebas lógicas\n",
        "\n",
        "Con frecuencia, al trabajar con datos, buscamos crear nuevas variables asignando valores por fila partiendo de pruebas lógicas. En estos casos, nos apartamos de asignar valores simplemente utilizando operaciones matemáticas entre otras variables existentes. \n",
        "\n",
        "Existen dos métodos en R particularmente populares para esta tarea:\n",
        "\n",
        "*   `if_else()`\n",
        "*   `case_when()`\n",
        "\n",
        "\n",
        "```\n",
        "if_else(prueba lógica, valor si verdadero, valor si falso)\n",
        "```\n",
        "\n",
        "```\n",
        "case_when(\n",
        "   prueba 1 ~ valor si se cumple\n",
        "  ,prueba 2 ~ valor si se cumple\n",
        "  ,prueba 3 ~ valor si se cumple\n",
        "  ...\n",
        ")\n",
        "```\n"
      ]
    },
    {
      "cell_type": "code",
      "metadata": {
        "id": "d6qZ2EgP_Sm1",
        "colab": {
          "base_uri": "https://localhost:8080/",
          "height": 624
        },
        "outputId": "c7dc1176-82ce-4dc7-ef10-8870070e97d5"
      },
      "source": [
        "# Al definir una variable nueva utilizando función mutate(), combinaremos con función if_else() para crear una prueba lógica\n",
        "## creamos una nueva variable con una clasificación de películas TOP MOVIE vs. NOT IN THE TOP\n",
        "df_james_bond %>% mutate(\n",
        "  film_segment = if_else(\n",
        "    Actor == 'Sean Connery' | Budget> 100,'TOP MOVIE','NOT IN THE TOP'\n",
        "  )\n",
        ")"
      ],
      "execution_count": null,
      "outputs": [
        {
          "output_type": "display_data",
          "data": {
            "text/plain": [
              "   Film                            Year Actor          Director          \n",
              "1  Dr. No                          1962 Sean Connery   Terence Young     \n",
              "2  From Russia with Love           1963 Sean Connery   Terence Young     \n",
              "3  Goldfinger                      1964 Sean Connery   Guy Hamilton      \n",
              "4  Thunderball                     1965 Sean Connery   Terence Young     \n",
              "5  Casino Royale                   1967 David Niven    Ken Hughes        \n",
              "6  You Only Live Twice             1967 Sean Connery   Lewis Gilbert     \n",
              "7  On Her Majesty's Secret Service 1969 George Lazenby Peter R. Hunt     \n",
              "8  Diamonds Are Forever            1971 Sean Connery   Guy Hamilton      \n",
              "9  Live and Let Die                1973 Roger Moore    Guy Hamilton      \n",
              "10 The Man with the Golden Gun     1974 Roger Moore    Guy Hamilton      \n",
              "11 The Spy Who Loved Me            1977 Roger Moore    Lewis Gilbert     \n",
              "12 Moonraker                       1979 Roger Moore    Lewis Gilbert     \n",
              "13 For Your Eyes Only              1981 Roger Moore    John Glen         \n",
              "14 Never Say Never Again           1983 Sean Connery   Irvin Kershner    \n",
              "15 Octopussy                       1983 Roger Moore    John Glen         \n",
              "16 A View to a Kill                1985 Roger Moore    John Glen         \n",
              "17 The Living Daylights            1987 Timothy Dalton John Glen         \n",
              "18 Licence to Kill                 1989 Timothy Dalton John Glen         \n",
              "19 GoldenEye                       1995 Pierce Brosnan Martin Campbell   \n",
              "20 Tomorrow Never Dies             1997 Pierce Brosnan Roger Spottiswoode\n",
              "21 The World Is Not Enough         1999 Pierce Brosnan Michael Apted     \n",
              "22 Die Another Day                 2002 Pierce Brosnan Lee Tamahori      \n",
              "23 Casino Royale                   2006 Daniel Craig   Martin Campbell   \n",
              "24 Quantum of Solace               2008 Daniel Craig   Marc Forster      \n",
              "25 Skyfall                         2012 Daniel Craig   Sam Mendes        \n",
              "26 Spectre                         2015 Daniel Craig   Sam Mendes        \n",
              "   Box Office Budget Bond Actor Salary film_segment  \n",
              "1  448.8        7.0   0.6              TOP MOVIE     \n",
              "2  543.8       12.6   1.6              TOP MOVIE     \n",
              "3  820.4       18.6   3.2              TOP MOVIE     \n",
              "4  848.1       41.9   4.7              TOP MOVIE     \n",
              "5  315.0       85.0    NA              NOT IN THE TOP\n",
              "6  514.2       59.9   4.4              TOP MOVIE     \n",
              "7  291.5       37.3   0.6              NOT IN THE TOP\n",
              "8  442.5       34.7   5.8              TOP MOVIE     \n",
              "9  460.3       30.8    NA              NOT IN THE TOP\n",
              "10 334.0       27.7    NA              NOT IN THE TOP\n",
              "11 533.0       45.1    NA              NOT IN THE TOP\n",
              "12 535.0       91.5    NA              NOT IN THE TOP\n",
              "13 449.4       60.2    NA              NOT IN THE TOP\n",
              "14 380.0       86.0    NA              TOP MOVIE     \n",
              "15 373.8       53.9   7.8              NOT IN THE TOP\n",
              "16 275.2       54.5   9.1              NOT IN THE TOP\n",
              "17 313.5       68.8   5.2              NOT IN THE TOP\n",
              "18 250.9       56.7   7.9              NOT IN THE TOP\n",
              "19 518.5       76.9   5.1              NOT IN THE TOP\n",
              "20 463.2      133.9  10.0              TOP MOVIE     \n",
              "21 439.5      158.3  13.5              TOP MOVIE     \n",
              "22 465.4      154.2  17.9              TOP MOVIE     \n",
              "23 581.5      145.3   3.3              TOP MOVIE     \n",
              "24 514.2      181.4   8.1              TOP MOVIE     \n",
              "25 943.5      170.2  14.5              TOP MOVIE     \n",
              "26 726.7      206.3    NA              TOP MOVIE     "
            ],
            "text/latex": "A data.table: 26 × 8\n\\begin{tabular}{llllllll}\n Film & Year & Actor & Director & Box Office & Budget & Bond Actor Salary & film\\_segment\\\\\n <chr> & <int> & <chr> & <chr> & <dbl> & <dbl> & <dbl> & <chr>\\\\\n\\hline\n\t Dr. No                          & 1962 & Sean Connery   & Terence Young      & 448.8 &   7.0 &  0.6 & TOP MOVIE     \\\\\n\t From Russia with Love           & 1963 & Sean Connery   & Terence Young      & 543.8 &  12.6 &  1.6 & TOP MOVIE     \\\\\n\t Goldfinger                      & 1964 & Sean Connery   & Guy Hamilton       & 820.4 &  18.6 &  3.2 & TOP MOVIE     \\\\\n\t Thunderball                     & 1965 & Sean Connery   & Terence Young      & 848.1 &  41.9 &  4.7 & TOP MOVIE     \\\\\n\t Casino Royale                   & 1967 & David Niven    & Ken Hughes         & 315.0 &  85.0 &   NA & NOT IN THE TOP\\\\\n\t You Only Live Twice             & 1967 & Sean Connery   & Lewis Gilbert      & 514.2 &  59.9 &  4.4 & TOP MOVIE     \\\\\n\t On Her Majesty's Secret Service & 1969 & George Lazenby & Peter R. Hunt      & 291.5 &  37.3 &  0.6 & NOT IN THE TOP\\\\\n\t Diamonds Are Forever            & 1971 & Sean Connery   & Guy Hamilton       & 442.5 &  34.7 &  5.8 & TOP MOVIE     \\\\\n\t Live and Let Die                & 1973 & Roger Moore    & Guy Hamilton       & 460.3 &  30.8 &   NA & NOT IN THE TOP\\\\\n\t The Man with the Golden Gun     & 1974 & Roger Moore    & Guy Hamilton       & 334.0 &  27.7 &   NA & NOT IN THE TOP\\\\\n\t The Spy Who Loved Me            & 1977 & Roger Moore    & Lewis Gilbert      & 533.0 &  45.1 &   NA & NOT IN THE TOP\\\\\n\t Moonraker                       & 1979 & Roger Moore    & Lewis Gilbert      & 535.0 &  91.5 &   NA & NOT IN THE TOP\\\\\n\t For Your Eyes Only              & 1981 & Roger Moore    & John Glen          & 449.4 &  60.2 &   NA & NOT IN THE TOP\\\\\n\t Never Say Never Again           & 1983 & Sean Connery   & Irvin Kershner     & 380.0 &  86.0 &   NA & TOP MOVIE     \\\\\n\t Octopussy                       & 1983 & Roger Moore    & John Glen          & 373.8 &  53.9 &  7.8 & NOT IN THE TOP\\\\\n\t A View to a Kill                & 1985 & Roger Moore    & John Glen          & 275.2 &  54.5 &  9.1 & NOT IN THE TOP\\\\\n\t The Living Daylights            & 1987 & Timothy Dalton & John Glen          & 313.5 &  68.8 &  5.2 & NOT IN THE TOP\\\\\n\t Licence to Kill                 & 1989 & Timothy Dalton & John Glen          & 250.9 &  56.7 &  7.9 & NOT IN THE TOP\\\\\n\t GoldenEye                       & 1995 & Pierce Brosnan & Martin Campbell    & 518.5 &  76.9 &  5.1 & NOT IN THE TOP\\\\\n\t Tomorrow Never Dies             & 1997 & Pierce Brosnan & Roger Spottiswoode & 463.2 & 133.9 & 10.0 & TOP MOVIE     \\\\\n\t The World Is Not Enough         & 1999 & Pierce Brosnan & Michael Apted      & 439.5 & 158.3 & 13.5 & TOP MOVIE     \\\\\n\t Die Another Day                 & 2002 & Pierce Brosnan & Lee Tamahori       & 465.4 & 154.2 & 17.9 & TOP MOVIE     \\\\\n\t Casino Royale                   & 2006 & Daniel Craig   & Martin Campbell    & 581.5 & 145.3 &  3.3 & TOP MOVIE     \\\\\n\t Quantum of Solace               & 2008 & Daniel Craig   & Marc Forster       & 514.2 & 181.4 &  8.1 & TOP MOVIE     \\\\\n\t Skyfall                         & 2012 & Daniel Craig   & Sam Mendes         & 943.5 & 170.2 & 14.5 & TOP MOVIE     \\\\\n\t Spectre                         & 2015 & Daniel Craig   & Sam Mendes         & 726.7 & 206.3 &   NA & TOP MOVIE     \\\\\n\\end{tabular}\n",
            "text/markdown": "\nA data.table: 26 × 8\n\n| Film &lt;chr&gt; | Year &lt;int&gt; | Actor &lt;chr&gt; | Director &lt;chr&gt; | Box Office &lt;dbl&gt; | Budget &lt;dbl&gt; | Bond Actor Salary &lt;dbl&gt; | film_segment &lt;chr&gt; |\n|---|---|---|---|---|---|---|---|\n| Dr. No                          | 1962 | Sean Connery   | Terence Young      | 448.8 |   7.0 |  0.6 | TOP MOVIE      |\n| From Russia with Love           | 1963 | Sean Connery   | Terence Young      | 543.8 |  12.6 |  1.6 | TOP MOVIE      |\n| Goldfinger                      | 1964 | Sean Connery   | Guy Hamilton       | 820.4 |  18.6 |  3.2 | TOP MOVIE      |\n| Thunderball                     | 1965 | Sean Connery   | Terence Young      | 848.1 |  41.9 |  4.7 | TOP MOVIE      |\n| Casino Royale                   | 1967 | David Niven    | Ken Hughes         | 315.0 |  85.0 |   NA | NOT IN THE TOP |\n| You Only Live Twice             | 1967 | Sean Connery   | Lewis Gilbert      | 514.2 |  59.9 |  4.4 | TOP MOVIE      |\n| On Her Majesty's Secret Service | 1969 | George Lazenby | Peter R. Hunt      | 291.5 |  37.3 |  0.6 | NOT IN THE TOP |\n| Diamonds Are Forever            | 1971 | Sean Connery   | Guy Hamilton       | 442.5 |  34.7 |  5.8 | TOP MOVIE      |\n| Live and Let Die                | 1973 | Roger Moore    | Guy Hamilton       | 460.3 |  30.8 |   NA | NOT IN THE TOP |\n| The Man with the Golden Gun     | 1974 | Roger Moore    | Guy Hamilton       | 334.0 |  27.7 |   NA | NOT IN THE TOP |\n| The Spy Who Loved Me            | 1977 | Roger Moore    | Lewis Gilbert      | 533.0 |  45.1 |   NA | NOT IN THE TOP |\n| Moonraker                       | 1979 | Roger Moore    | Lewis Gilbert      | 535.0 |  91.5 |   NA | NOT IN THE TOP |\n| For Your Eyes Only              | 1981 | Roger Moore    | John Glen          | 449.4 |  60.2 |   NA | NOT IN THE TOP |\n| Never Say Never Again           | 1983 | Sean Connery   | Irvin Kershner     | 380.0 |  86.0 |   NA | TOP MOVIE      |\n| Octopussy                       | 1983 | Roger Moore    | John Glen          | 373.8 |  53.9 |  7.8 | NOT IN THE TOP |\n| A View to a Kill                | 1985 | Roger Moore    | John Glen          | 275.2 |  54.5 |  9.1 | NOT IN THE TOP |\n| The Living Daylights            | 1987 | Timothy Dalton | John Glen          | 313.5 |  68.8 |  5.2 | NOT IN THE TOP |\n| Licence to Kill                 | 1989 | Timothy Dalton | John Glen          | 250.9 |  56.7 |  7.9 | NOT IN THE TOP |\n| GoldenEye                       | 1995 | Pierce Brosnan | Martin Campbell    | 518.5 |  76.9 |  5.1 | NOT IN THE TOP |\n| Tomorrow Never Dies             | 1997 | Pierce Brosnan | Roger Spottiswoode | 463.2 | 133.9 | 10.0 | TOP MOVIE      |\n| The World Is Not Enough         | 1999 | Pierce Brosnan | Michael Apted      | 439.5 | 158.3 | 13.5 | TOP MOVIE      |\n| Die Another Day                 | 2002 | Pierce Brosnan | Lee Tamahori       | 465.4 | 154.2 | 17.9 | TOP MOVIE      |\n| Casino Royale                   | 2006 | Daniel Craig   | Martin Campbell    | 581.5 | 145.3 |  3.3 | TOP MOVIE      |\n| Quantum of Solace               | 2008 | Daniel Craig   | Marc Forster       | 514.2 | 181.4 |  8.1 | TOP MOVIE      |\n| Skyfall                         | 2012 | Daniel Craig   | Sam Mendes         | 943.5 | 170.2 | 14.5 | TOP MOVIE      |\n| Spectre                         | 2015 | Daniel Craig   | Sam Mendes         | 726.7 | 206.3 |   NA | TOP MOVIE      |\n\n",
            "text/html": [
              "<table>\n",
              "<caption>A data.table: 26 × 8</caption>\n",
              "<thead>\n",
              "\t<tr><th scope=col>Film</th><th scope=col>Year</th><th scope=col>Actor</th><th scope=col>Director</th><th scope=col>Box Office</th><th scope=col>Budget</th><th scope=col>Bond Actor Salary</th><th scope=col>film_segment</th></tr>\n",
              "\t<tr><th scope=col>&lt;chr&gt;</th><th scope=col>&lt;int&gt;</th><th scope=col>&lt;chr&gt;</th><th scope=col>&lt;chr&gt;</th><th scope=col>&lt;dbl&gt;</th><th scope=col>&lt;dbl&gt;</th><th scope=col>&lt;dbl&gt;</th><th scope=col>&lt;chr&gt;</th></tr>\n",
              "</thead>\n",
              "<tbody>\n",
              "\t<tr><td>Dr. No                         </td><td>1962</td><td>Sean Connery  </td><td>Terence Young     </td><td>448.8</td><td>  7.0</td><td> 0.6</td><td>TOP MOVIE     </td></tr>\n",
              "\t<tr><td>From Russia with Love          </td><td>1963</td><td>Sean Connery  </td><td>Terence Young     </td><td>543.8</td><td> 12.6</td><td> 1.6</td><td>TOP MOVIE     </td></tr>\n",
              "\t<tr><td>Goldfinger                     </td><td>1964</td><td>Sean Connery  </td><td>Guy Hamilton      </td><td>820.4</td><td> 18.6</td><td> 3.2</td><td>TOP MOVIE     </td></tr>\n",
              "\t<tr><td>Thunderball                    </td><td>1965</td><td>Sean Connery  </td><td>Terence Young     </td><td>848.1</td><td> 41.9</td><td> 4.7</td><td>TOP MOVIE     </td></tr>\n",
              "\t<tr><td>Casino Royale                  </td><td>1967</td><td>David Niven   </td><td>Ken Hughes        </td><td>315.0</td><td> 85.0</td><td>  NA</td><td>NOT IN THE TOP</td></tr>\n",
              "\t<tr><td>You Only Live Twice            </td><td>1967</td><td>Sean Connery  </td><td>Lewis Gilbert     </td><td>514.2</td><td> 59.9</td><td> 4.4</td><td>TOP MOVIE     </td></tr>\n",
              "\t<tr><td>On Her Majesty's Secret Service</td><td>1969</td><td>George Lazenby</td><td>Peter R. Hunt     </td><td>291.5</td><td> 37.3</td><td> 0.6</td><td>NOT IN THE TOP</td></tr>\n",
              "\t<tr><td>Diamonds Are Forever           </td><td>1971</td><td>Sean Connery  </td><td>Guy Hamilton      </td><td>442.5</td><td> 34.7</td><td> 5.8</td><td>TOP MOVIE     </td></tr>\n",
              "\t<tr><td>Live and Let Die               </td><td>1973</td><td>Roger Moore   </td><td>Guy Hamilton      </td><td>460.3</td><td> 30.8</td><td>  NA</td><td>NOT IN THE TOP</td></tr>\n",
              "\t<tr><td>The Man with the Golden Gun    </td><td>1974</td><td>Roger Moore   </td><td>Guy Hamilton      </td><td>334.0</td><td> 27.7</td><td>  NA</td><td>NOT IN THE TOP</td></tr>\n",
              "\t<tr><td>The Spy Who Loved Me           </td><td>1977</td><td>Roger Moore   </td><td>Lewis Gilbert     </td><td>533.0</td><td> 45.1</td><td>  NA</td><td>NOT IN THE TOP</td></tr>\n",
              "\t<tr><td>Moonraker                      </td><td>1979</td><td>Roger Moore   </td><td>Lewis Gilbert     </td><td>535.0</td><td> 91.5</td><td>  NA</td><td>NOT IN THE TOP</td></tr>\n",
              "\t<tr><td>For Your Eyes Only             </td><td>1981</td><td>Roger Moore   </td><td>John Glen         </td><td>449.4</td><td> 60.2</td><td>  NA</td><td>NOT IN THE TOP</td></tr>\n",
              "\t<tr><td>Never Say Never Again          </td><td>1983</td><td>Sean Connery  </td><td>Irvin Kershner    </td><td>380.0</td><td> 86.0</td><td>  NA</td><td>TOP MOVIE     </td></tr>\n",
              "\t<tr><td>Octopussy                      </td><td>1983</td><td>Roger Moore   </td><td>John Glen         </td><td>373.8</td><td> 53.9</td><td> 7.8</td><td>NOT IN THE TOP</td></tr>\n",
              "\t<tr><td>A View to a Kill               </td><td>1985</td><td>Roger Moore   </td><td>John Glen         </td><td>275.2</td><td> 54.5</td><td> 9.1</td><td>NOT IN THE TOP</td></tr>\n",
              "\t<tr><td>The Living Daylights           </td><td>1987</td><td>Timothy Dalton</td><td>John Glen         </td><td>313.5</td><td> 68.8</td><td> 5.2</td><td>NOT IN THE TOP</td></tr>\n",
              "\t<tr><td>Licence to Kill                </td><td>1989</td><td>Timothy Dalton</td><td>John Glen         </td><td>250.9</td><td> 56.7</td><td> 7.9</td><td>NOT IN THE TOP</td></tr>\n",
              "\t<tr><td>GoldenEye                      </td><td>1995</td><td>Pierce Brosnan</td><td>Martin Campbell   </td><td>518.5</td><td> 76.9</td><td> 5.1</td><td>NOT IN THE TOP</td></tr>\n",
              "\t<tr><td>Tomorrow Never Dies            </td><td>1997</td><td>Pierce Brosnan</td><td>Roger Spottiswoode</td><td>463.2</td><td>133.9</td><td>10.0</td><td>TOP MOVIE     </td></tr>\n",
              "\t<tr><td>The World Is Not Enough        </td><td>1999</td><td>Pierce Brosnan</td><td>Michael Apted     </td><td>439.5</td><td>158.3</td><td>13.5</td><td>TOP MOVIE     </td></tr>\n",
              "\t<tr><td>Die Another Day                </td><td>2002</td><td>Pierce Brosnan</td><td>Lee Tamahori      </td><td>465.4</td><td>154.2</td><td>17.9</td><td>TOP MOVIE     </td></tr>\n",
              "\t<tr><td>Casino Royale                  </td><td>2006</td><td>Daniel Craig  </td><td>Martin Campbell   </td><td>581.5</td><td>145.3</td><td> 3.3</td><td>TOP MOVIE     </td></tr>\n",
              "\t<tr><td>Quantum of Solace              </td><td>2008</td><td>Daniel Craig  </td><td>Marc Forster      </td><td>514.2</td><td>181.4</td><td> 8.1</td><td>TOP MOVIE     </td></tr>\n",
              "\t<tr><td>Skyfall                        </td><td>2012</td><td>Daniel Craig  </td><td>Sam Mendes        </td><td>943.5</td><td>170.2</td><td>14.5</td><td>TOP MOVIE     </td></tr>\n",
              "\t<tr><td>Spectre                        </td><td>2015</td><td>Daniel Craig  </td><td>Sam Mendes        </td><td>726.7</td><td>206.3</td><td>  NA</td><td>TOP MOVIE     </td></tr>\n",
              "</tbody>\n",
              "</table>\n"
            ]
          },
          "metadata": {
            "tags": []
          }
        }
      ]
    },
    {
      "cell_type": "code",
      "metadata": {
        "colab": {
          "base_uri": "https://localhost:8080/",
          "height": 624
        },
        "id": "nYJhUQk-w0OG",
        "outputId": "53a89541-e608-4233-a290-3d3d0c821d99"
      },
      "source": [
        "# Como era de esperar, podemos anidar condiciones if_else() para crear pruebas complejas\n",
        "## no obstante, en caso de necesitar prubas complejas, es aconsejable utilizar case_when()\n",
        "\n",
        "df_james_bond %>% mutate(\n",
        "  film_segment = if_else(\n",
        "    Actor == 'Sean Connery' | Budget> 100\n",
        "    ,'1st CLASS MOVIE'\n",
        "    ,if_else(\n",
        "      Actor == 'Roger Moore' | Budget> 100\n",
        "      ,'2nd CLASS MOVIE'\n",
        "      ,'NOT IN THE TOP'\n",
        "    )\n",
        "  )\n",
        ")"
      ],
      "execution_count": null,
      "outputs": [
        {
          "output_type": "display_data",
          "data": {
            "text/plain": [
              "   Film                            Year Actor          Director          \n",
              "1  Dr. No                          1962 Sean Connery   Terence Young     \n",
              "2  From Russia with Love           1963 Sean Connery   Terence Young     \n",
              "3  Goldfinger                      1964 Sean Connery   Guy Hamilton      \n",
              "4  Thunderball                     1965 Sean Connery   Terence Young     \n",
              "5  Casino Royale                   1967 David Niven    Ken Hughes        \n",
              "6  You Only Live Twice             1967 Sean Connery   Lewis Gilbert     \n",
              "7  On Her Majesty's Secret Service 1969 George Lazenby Peter R. Hunt     \n",
              "8  Diamonds Are Forever            1971 Sean Connery   Guy Hamilton      \n",
              "9  Live and Let Die                1973 Roger Moore    Guy Hamilton      \n",
              "10 The Man with the Golden Gun     1974 Roger Moore    Guy Hamilton      \n",
              "11 The Spy Who Loved Me            1977 Roger Moore    Lewis Gilbert     \n",
              "12 Moonraker                       1979 Roger Moore    Lewis Gilbert     \n",
              "13 For Your Eyes Only              1981 Roger Moore    John Glen         \n",
              "14 Never Say Never Again           1983 Sean Connery   Irvin Kershner    \n",
              "15 Octopussy                       1983 Roger Moore    John Glen         \n",
              "16 A View to a Kill                1985 Roger Moore    John Glen         \n",
              "17 The Living Daylights            1987 Timothy Dalton John Glen         \n",
              "18 Licence to Kill                 1989 Timothy Dalton John Glen         \n",
              "19 GoldenEye                       1995 Pierce Brosnan Martin Campbell   \n",
              "20 Tomorrow Never Dies             1997 Pierce Brosnan Roger Spottiswoode\n",
              "21 The World Is Not Enough         1999 Pierce Brosnan Michael Apted     \n",
              "22 Die Another Day                 2002 Pierce Brosnan Lee Tamahori      \n",
              "23 Casino Royale                   2006 Daniel Craig   Martin Campbell   \n",
              "24 Quantum of Solace               2008 Daniel Craig   Marc Forster      \n",
              "25 Skyfall                         2012 Daniel Craig   Sam Mendes        \n",
              "26 Spectre                         2015 Daniel Craig   Sam Mendes        \n",
              "   Box Office Budget Bond Actor Salary film_segment   \n",
              "1  448.8        7.0   0.6              1st CLASS MOVIE\n",
              "2  543.8       12.6   1.6              1st CLASS MOVIE\n",
              "3  820.4       18.6   3.2              1st CLASS MOVIE\n",
              "4  848.1       41.9   4.7              1st CLASS MOVIE\n",
              "5  315.0       85.0    NA              NOT IN THE TOP \n",
              "6  514.2       59.9   4.4              1st CLASS MOVIE\n",
              "7  291.5       37.3   0.6              NOT IN THE TOP \n",
              "8  442.5       34.7   5.8              1st CLASS MOVIE\n",
              "9  460.3       30.8    NA              2nd CLASS MOVIE\n",
              "10 334.0       27.7    NA              2nd CLASS MOVIE\n",
              "11 533.0       45.1    NA              2nd CLASS MOVIE\n",
              "12 535.0       91.5    NA              2nd CLASS MOVIE\n",
              "13 449.4       60.2    NA              2nd CLASS MOVIE\n",
              "14 380.0       86.0    NA              1st CLASS MOVIE\n",
              "15 373.8       53.9   7.8              2nd CLASS MOVIE\n",
              "16 275.2       54.5   9.1              2nd CLASS MOVIE\n",
              "17 313.5       68.8   5.2              NOT IN THE TOP \n",
              "18 250.9       56.7   7.9              NOT IN THE TOP \n",
              "19 518.5       76.9   5.1              NOT IN THE TOP \n",
              "20 463.2      133.9  10.0              1st CLASS MOVIE\n",
              "21 439.5      158.3  13.5              1st CLASS MOVIE\n",
              "22 465.4      154.2  17.9              1st CLASS MOVIE\n",
              "23 581.5      145.3   3.3              1st CLASS MOVIE\n",
              "24 514.2      181.4   8.1              1st CLASS MOVIE\n",
              "25 943.5      170.2  14.5              1st CLASS MOVIE\n",
              "26 726.7      206.3    NA              1st CLASS MOVIE"
            ],
            "text/latex": "A data.table: 26 × 8\n\\begin{tabular}{llllllll}\n Film & Year & Actor & Director & Box Office & Budget & Bond Actor Salary & film\\_segment\\\\\n <chr> & <int> & <chr> & <chr> & <dbl> & <dbl> & <dbl> & <chr>\\\\\n\\hline\n\t Dr. No                          & 1962 & Sean Connery   & Terence Young      & 448.8 &   7.0 &  0.6 & 1st CLASS MOVIE\\\\\n\t From Russia with Love           & 1963 & Sean Connery   & Terence Young      & 543.8 &  12.6 &  1.6 & 1st CLASS MOVIE\\\\\n\t Goldfinger                      & 1964 & Sean Connery   & Guy Hamilton       & 820.4 &  18.6 &  3.2 & 1st CLASS MOVIE\\\\\n\t Thunderball                     & 1965 & Sean Connery   & Terence Young      & 848.1 &  41.9 &  4.7 & 1st CLASS MOVIE\\\\\n\t Casino Royale                   & 1967 & David Niven    & Ken Hughes         & 315.0 &  85.0 &   NA & NOT IN THE TOP \\\\\n\t You Only Live Twice             & 1967 & Sean Connery   & Lewis Gilbert      & 514.2 &  59.9 &  4.4 & 1st CLASS MOVIE\\\\\n\t On Her Majesty's Secret Service & 1969 & George Lazenby & Peter R. Hunt      & 291.5 &  37.3 &  0.6 & NOT IN THE TOP \\\\\n\t Diamonds Are Forever            & 1971 & Sean Connery   & Guy Hamilton       & 442.5 &  34.7 &  5.8 & 1st CLASS MOVIE\\\\\n\t Live and Let Die                & 1973 & Roger Moore    & Guy Hamilton       & 460.3 &  30.8 &   NA & 2nd CLASS MOVIE\\\\\n\t The Man with the Golden Gun     & 1974 & Roger Moore    & Guy Hamilton       & 334.0 &  27.7 &   NA & 2nd CLASS MOVIE\\\\\n\t The Spy Who Loved Me            & 1977 & Roger Moore    & Lewis Gilbert      & 533.0 &  45.1 &   NA & 2nd CLASS MOVIE\\\\\n\t Moonraker                       & 1979 & Roger Moore    & Lewis Gilbert      & 535.0 &  91.5 &   NA & 2nd CLASS MOVIE\\\\\n\t For Your Eyes Only              & 1981 & Roger Moore    & John Glen          & 449.4 &  60.2 &   NA & 2nd CLASS MOVIE\\\\\n\t Never Say Never Again           & 1983 & Sean Connery   & Irvin Kershner     & 380.0 &  86.0 &   NA & 1st CLASS MOVIE\\\\\n\t Octopussy                       & 1983 & Roger Moore    & John Glen          & 373.8 &  53.9 &  7.8 & 2nd CLASS MOVIE\\\\\n\t A View to a Kill                & 1985 & Roger Moore    & John Glen          & 275.2 &  54.5 &  9.1 & 2nd CLASS MOVIE\\\\\n\t The Living Daylights            & 1987 & Timothy Dalton & John Glen          & 313.5 &  68.8 &  5.2 & NOT IN THE TOP \\\\\n\t Licence to Kill                 & 1989 & Timothy Dalton & John Glen          & 250.9 &  56.7 &  7.9 & NOT IN THE TOP \\\\\n\t GoldenEye                       & 1995 & Pierce Brosnan & Martin Campbell    & 518.5 &  76.9 &  5.1 & NOT IN THE TOP \\\\\n\t Tomorrow Never Dies             & 1997 & Pierce Brosnan & Roger Spottiswoode & 463.2 & 133.9 & 10.0 & 1st CLASS MOVIE\\\\\n\t The World Is Not Enough         & 1999 & Pierce Brosnan & Michael Apted      & 439.5 & 158.3 & 13.5 & 1st CLASS MOVIE\\\\\n\t Die Another Day                 & 2002 & Pierce Brosnan & Lee Tamahori       & 465.4 & 154.2 & 17.9 & 1st CLASS MOVIE\\\\\n\t Casino Royale                   & 2006 & Daniel Craig   & Martin Campbell    & 581.5 & 145.3 &  3.3 & 1st CLASS MOVIE\\\\\n\t Quantum of Solace               & 2008 & Daniel Craig   & Marc Forster       & 514.2 & 181.4 &  8.1 & 1st CLASS MOVIE\\\\\n\t Skyfall                         & 2012 & Daniel Craig   & Sam Mendes         & 943.5 & 170.2 & 14.5 & 1st CLASS MOVIE\\\\\n\t Spectre                         & 2015 & Daniel Craig   & Sam Mendes         & 726.7 & 206.3 &   NA & 1st CLASS MOVIE\\\\\n\\end{tabular}\n",
            "text/markdown": "\nA data.table: 26 × 8\n\n| Film &lt;chr&gt; | Year &lt;int&gt; | Actor &lt;chr&gt; | Director &lt;chr&gt; | Box Office &lt;dbl&gt; | Budget &lt;dbl&gt; | Bond Actor Salary &lt;dbl&gt; | film_segment &lt;chr&gt; |\n|---|---|---|---|---|---|---|---|\n| Dr. No                          | 1962 | Sean Connery   | Terence Young      | 448.8 |   7.0 |  0.6 | 1st CLASS MOVIE |\n| From Russia with Love           | 1963 | Sean Connery   | Terence Young      | 543.8 |  12.6 |  1.6 | 1st CLASS MOVIE |\n| Goldfinger                      | 1964 | Sean Connery   | Guy Hamilton       | 820.4 |  18.6 |  3.2 | 1st CLASS MOVIE |\n| Thunderball                     | 1965 | Sean Connery   | Terence Young      | 848.1 |  41.9 |  4.7 | 1st CLASS MOVIE |\n| Casino Royale                   | 1967 | David Niven    | Ken Hughes         | 315.0 |  85.0 |   NA | NOT IN THE TOP  |\n| You Only Live Twice             | 1967 | Sean Connery   | Lewis Gilbert      | 514.2 |  59.9 |  4.4 | 1st CLASS MOVIE |\n| On Her Majesty's Secret Service | 1969 | George Lazenby | Peter R. Hunt      | 291.5 |  37.3 |  0.6 | NOT IN THE TOP  |\n| Diamonds Are Forever            | 1971 | Sean Connery   | Guy Hamilton       | 442.5 |  34.7 |  5.8 | 1st CLASS MOVIE |\n| Live and Let Die                | 1973 | Roger Moore    | Guy Hamilton       | 460.3 |  30.8 |   NA | 2nd CLASS MOVIE |\n| The Man with the Golden Gun     | 1974 | Roger Moore    | Guy Hamilton       | 334.0 |  27.7 |   NA | 2nd CLASS MOVIE |\n| The Spy Who Loved Me            | 1977 | Roger Moore    | Lewis Gilbert      | 533.0 |  45.1 |   NA | 2nd CLASS MOVIE |\n| Moonraker                       | 1979 | Roger Moore    | Lewis Gilbert      | 535.0 |  91.5 |   NA | 2nd CLASS MOVIE |\n| For Your Eyes Only              | 1981 | Roger Moore    | John Glen          | 449.4 |  60.2 |   NA | 2nd CLASS MOVIE |\n| Never Say Never Again           | 1983 | Sean Connery   | Irvin Kershner     | 380.0 |  86.0 |   NA | 1st CLASS MOVIE |\n| Octopussy                       | 1983 | Roger Moore    | John Glen          | 373.8 |  53.9 |  7.8 | 2nd CLASS MOVIE |\n| A View to a Kill                | 1985 | Roger Moore    | John Glen          | 275.2 |  54.5 |  9.1 | 2nd CLASS MOVIE |\n| The Living Daylights            | 1987 | Timothy Dalton | John Glen          | 313.5 |  68.8 |  5.2 | NOT IN THE TOP  |\n| Licence to Kill                 | 1989 | Timothy Dalton | John Glen          | 250.9 |  56.7 |  7.9 | NOT IN THE TOP  |\n| GoldenEye                       | 1995 | Pierce Brosnan | Martin Campbell    | 518.5 |  76.9 |  5.1 | NOT IN THE TOP  |\n| Tomorrow Never Dies             | 1997 | Pierce Brosnan | Roger Spottiswoode | 463.2 | 133.9 | 10.0 | 1st CLASS MOVIE |\n| The World Is Not Enough         | 1999 | Pierce Brosnan | Michael Apted      | 439.5 | 158.3 | 13.5 | 1st CLASS MOVIE |\n| Die Another Day                 | 2002 | Pierce Brosnan | Lee Tamahori       | 465.4 | 154.2 | 17.9 | 1st CLASS MOVIE |\n| Casino Royale                   | 2006 | Daniel Craig   | Martin Campbell    | 581.5 | 145.3 |  3.3 | 1st CLASS MOVIE |\n| Quantum of Solace               | 2008 | Daniel Craig   | Marc Forster       | 514.2 | 181.4 |  8.1 | 1st CLASS MOVIE |\n| Skyfall                         | 2012 | Daniel Craig   | Sam Mendes         | 943.5 | 170.2 | 14.5 | 1st CLASS MOVIE |\n| Spectre                         | 2015 | Daniel Craig   | Sam Mendes         | 726.7 | 206.3 |   NA | 1st CLASS MOVIE |\n\n",
            "text/html": [
              "<table>\n",
              "<caption>A data.table: 26 × 8</caption>\n",
              "<thead>\n",
              "\t<tr><th scope=col>Film</th><th scope=col>Year</th><th scope=col>Actor</th><th scope=col>Director</th><th scope=col>Box Office</th><th scope=col>Budget</th><th scope=col>Bond Actor Salary</th><th scope=col>film_segment</th></tr>\n",
              "\t<tr><th scope=col>&lt;chr&gt;</th><th scope=col>&lt;int&gt;</th><th scope=col>&lt;chr&gt;</th><th scope=col>&lt;chr&gt;</th><th scope=col>&lt;dbl&gt;</th><th scope=col>&lt;dbl&gt;</th><th scope=col>&lt;dbl&gt;</th><th scope=col>&lt;chr&gt;</th></tr>\n",
              "</thead>\n",
              "<tbody>\n",
              "\t<tr><td>Dr. No                         </td><td>1962</td><td>Sean Connery  </td><td>Terence Young     </td><td>448.8</td><td>  7.0</td><td> 0.6</td><td>1st CLASS MOVIE</td></tr>\n",
              "\t<tr><td>From Russia with Love          </td><td>1963</td><td>Sean Connery  </td><td>Terence Young     </td><td>543.8</td><td> 12.6</td><td> 1.6</td><td>1st CLASS MOVIE</td></tr>\n",
              "\t<tr><td>Goldfinger                     </td><td>1964</td><td>Sean Connery  </td><td>Guy Hamilton      </td><td>820.4</td><td> 18.6</td><td> 3.2</td><td>1st CLASS MOVIE</td></tr>\n",
              "\t<tr><td>Thunderball                    </td><td>1965</td><td>Sean Connery  </td><td>Terence Young     </td><td>848.1</td><td> 41.9</td><td> 4.7</td><td>1st CLASS MOVIE</td></tr>\n",
              "\t<tr><td>Casino Royale                  </td><td>1967</td><td>David Niven   </td><td>Ken Hughes        </td><td>315.0</td><td> 85.0</td><td>  NA</td><td>NOT IN THE TOP </td></tr>\n",
              "\t<tr><td>You Only Live Twice            </td><td>1967</td><td>Sean Connery  </td><td>Lewis Gilbert     </td><td>514.2</td><td> 59.9</td><td> 4.4</td><td>1st CLASS MOVIE</td></tr>\n",
              "\t<tr><td>On Her Majesty's Secret Service</td><td>1969</td><td>George Lazenby</td><td>Peter R. Hunt     </td><td>291.5</td><td> 37.3</td><td> 0.6</td><td>NOT IN THE TOP </td></tr>\n",
              "\t<tr><td>Diamonds Are Forever           </td><td>1971</td><td>Sean Connery  </td><td>Guy Hamilton      </td><td>442.5</td><td> 34.7</td><td> 5.8</td><td>1st CLASS MOVIE</td></tr>\n",
              "\t<tr><td>Live and Let Die               </td><td>1973</td><td>Roger Moore   </td><td>Guy Hamilton      </td><td>460.3</td><td> 30.8</td><td>  NA</td><td>2nd CLASS MOVIE</td></tr>\n",
              "\t<tr><td>The Man with the Golden Gun    </td><td>1974</td><td>Roger Moore   </td><td>Guy Hamilton      </td><td>334.0</td><td> 27.7</td><td>  NA</td><td>2nd CLASS MOVIE</td></tr>\n",
              "\t<tr><td>The Spy Who Loved Me           </td><td>1977</td><td>Roger Moore   </td><td>Lewis Gilbert     </td><td>533.0</td><td> 45.1</td><td>  NA</td><td>2nd CLASS MOVIE</td></tr>\n",
              "\t<tr><td>Moonraker                      </td><td>1979</td><td>Roger Moore   </td><td>Lewis Gilbert     </td><td>535.0</td><td> 91.5</td><td>  NA</td><td>2nd CLASS MOVIE</td></tr>\n",
              "\t<tr><td>For Your Eyes Only             </td><td>1981</td><td>Roger Moore   </td><td>John Glen         </td><td>449.4</td><td> 60.2</td><td>  NA</td><td>2nd CLASS MOVIE</td></tr>\n",
              "\t<tr><td>Never Say Never Again          </td><td>1983</td><td>Sean Connery  </td><td>Irvin Kershner    </td><td>380.0</td><td> 86.0</td><td>  NA</td><td>1st CLASS MOVIE</td></tr>\n",
              "\t<tr><td>Octopussy                      </td><td>1983</td><td>Roger Moore   </td><td>John Glen         </td><td>373.8</td><td> 53.9</td><td> 7.8</td><td>2nd CLASS MOVIE</td></tr>\n",
              "\t<tr><td>A View to a Kill               </td><td>1985</td><td>Roger Moore   </td><td>John Glen         </td><td>275.2</td><td> 54.5</td><td> 9.1</td><td>2nd CLASS MOVIE</td></tr>\n",
              "\t<tr><td>The Living Daylights           </td><td>1987</td><td>Timothy Dalton</td><td>John Glen         </td><td>313.5</td><td> 68.8</td><td> 5.2</td><td>NOT IN THE TOP </td></tr>\n",
              "\t<tr><td>Licence to Kill                </td><td>1989</td><td>Timothy Dalton</td><td>John Glen         </td><td>250.9</td><td> 56.7</td><td> 7.9</td><td>NOT IN THE TOP </td></tr>\n",
              "\t<tr><td>GoldenEye                      </td><td>1995</td><td>Pierce Brosnan</td><td>Martin Campbell   </td><td>518.5</td><td> 76.9</td><td> 5.1</td><td>NOT IN THE TOP </td></tr>\n",
              "\t<tr><td>Tomorrow Never Dies            </td><td>1997</td><td>Pierce Brosnan</td><td>Roger Spottiswoode</td><td>463.2</td><td>133.9</td><td>10.0</td><td>1st CLASS MOVIE</td></tr>\n",
              "\t<tr><td>The World Is Not Enough        </td><td>1999</td><td>Pierce Brosnan</td><td>Michael Apted     </td><td>439.5</td><td>158.3</td><td>13.5</td><td>1st CLASS MOVIE</td></tr>\n",
              "\t<tr><td>Die Another Day                </td><td>2002</td><td>Pierce Brosnan</td><td>Lee Tamahori      </td><td>465.4</td><td>154.2</td><td>17.9</td><td>1st CLASS MOVIE</td></tr>\n",
              "\t<tr><td>Casino Royale                  </td><td>2006</td><td>Daniel Craig  </td><td>Martin Campbell   </td><td>581.5</td><td>145.3</td><td> 3.3</td><td>1st CLASS MOVIE</td></tr>\n",
              "\t<tr><td>Quantum of Solace              </td><td>2008</td><td>Daniel Craig  </td><td>Marc Forster      </td><td>514.2</td><td>181.4</td><td> 8.1</td><td>1st CLASS MOVIE</td></tr>\n",
              "\t<tr><td>Skyfall                        </td><td>2012</td><td>Daniel Craig  </td><td>Sam Mendes        </td><td>943.5</td><td>170.2</td><td>14.5</td><td>1st CLASS MOVIE</td></tr>\n",
              "\t<tr><td>Spectre                        </td><td>2015</td><td>Daniel Craig  </td><td>Sam Mendes        </td><td>726.7</td><td>206.3</td><td>  NA</td><td>1st CLASS MOVIE</td></tr>\n",
              "</tbody>\n",
              "</table>\n"
            ]
          },
          "metadata": {
            "tags": []
          }
        }
      ]
    },
    {
      "cell_type": "code",
      "metadata": {
        "colab": {
          "base_uri": "https://localhost:8080/",
          "height": 624
        },
        "id": "PBCFzpXBxMzk",
        "outputId": "df11d22d-0166-4518-fd0b-7647ea921725"
      },
      "source": [
        "# La función case_when(), imitando mismo operador en lenguaje SQL, permite una sintaxis más límpia para crear condiciones complejas\n",
        "## observar que las condiciones tienen un orden jerárquico y no necesitan ser mutuamente excluyentes\n",
        "## en caso de que se cumpla una condición, el sistema no seguirá evaluando condiciones posteriores  \n",
        "\n",
        "df_james_bond %>% mutate(\n",
        "  film_segment = case_when(\n",
        "    Actor == 'Sean Connery' | Budget> 100 ~ '1st CLASS MOVIE'     # condición 1\n",
        "    ,Actor == 'Roger Moore' | Budget> 100 ~ '2st CLASS MOVIE'     # condición 2\n",
        "    ,Actor == 'Daniel Craig' | Budget> 100 ~ '3rd CLASS MOVIE'    # condición 3\n",
        "    ,TRUE == TRUE ~ 'NOT IN THE TOP'                              # (opcional) esta condición se cumple siempre (TRUE = TRUE), por tanto nos sirve como \"en caso de que ninguna otra se cumpla\"\n",
        "  )\n",
        ")"
      ],
      "execution_count": null,
      "outputs": [
        {
          "output_type": "display_data",
          "data": {
            "text/plain": [
              "   Film                            Year Actor          Director          \n",
              "1  Dr. No                          1962 Sean Connery   Terence Young     \n",
              "2  From Russia with Love           1963 Sean Connery   Terence Young     \n",
              "3  Goldfinger                      1964 Sean Connery   Guy Hamilton      \n",
              "4  Thunderball                     1965 Sean Connery   Terence Young     \n",
              "5  Casino Royale                   1967 David Niven    Ken Hughes        \n",
              "6  You Only Live Twice             1967 Sean Connery   Lewis Gilbert     \n",
              "7  On Her Majesty's Secret Service 1969 George Lazenby Peter R. Hunt     \n",
              "8  Diamonds Are Forever            1971 Sean Connery   Guy Hamilton      \n",
              "9  Live and Let Die                1973 Roger Moore    Guy Hamilton      \n",
              "10 The Man with the Golden Gun     1974 Roger Moore    Guy Hamilton      \n",
              "11 The Spy Who Loved Me            1977 Roger Moore    Lewis Gilbert     \n",
              "12 Moonraker                       1979 Roger Moore    Lewis Gilbert     \n",
              "13 For Your Eyes Only              1981 Roger Moore    John Glen         \n",
              "14 Never Say Never Again           1983 Sean Connery   Irvin Kershner    \n",
              "15 Octopussy                       1983 Roger Moore    John Glen         \n",
              "16 A View to a Kill                1985 Roger Moore    John Glen         \n",
              "17 The Living Daylights            1987 Timothy Dalton John Glen         \n",
              "18 Licence to Kill                 1989 Timothy Dalton John Glen         \n",
              "19 GoldenEye                       1995 Pierce Brosnan Martin Campbell   \n",
              "20 Tomorrow Never Dies             1997 Pierce Brosnan Roger Spottiswoode\n",
              "21 The World Is Not Enough         1999 Pierce Brosnan Michael Apted     \n",
              "22 Die Another Day                 2002 Pierce Brosnan Lee Tamahori      \n",
              "23 Casino Royale                   2006 Daniel Craig   Martin Campbell   \n",
              "24 Quantum of Solace               2008 Daniel Craig   Marc Forster      \n",
              "25 Skyfall                         2012 Daniel Craig   Sam Mendes        \n",
              "26 Spectre                         2015 Daniel Craig   Sam Mendes        \n",
              "   Box Office Budget Bond Actor Salary film_segment   \n",
              "1  448.8        7.0   0.6              1st CLASS MOVIE\n",
              "2  543.8       12.6   1.6              1st CLASS MOVIE\n",
              "3  820.4       18.6   3.2              1st CLASS MOVIE\n",
              "4  848.1       41.9   4.7              1st CLASS MOVIE\n",
              "5  315.0       85.0    NA              NOT IN THE TOP \n",
              "6  514.2       59.9   4.4              1st CLASS MOVIE\n",
              "7  291.5       37.3   0.6              NOT IN THE TOP \n",
              "8  442.5       34.7   5.8              1st CLASS MOVIE\n",
              "9  460.3       30.8    NA              2st CLASS MOVIE\n",
              "10 334.0       27.7    NA              2st CLASS MOVIE\n",
              "11 533.0       45.1    NA              2st CLASS MOVIE\n",
              "12 535.0       91.5    NA              2st CLASS MOVIE\n",
              "13 449.4       60.2    NA              2st CLASS MOVIE\n",
              "14 380.0       86.0    NA              1st CLASS MOVIE\n",
              "15 373.8       53.9   7.8              2st CLASS MOVIE\n",
              "16 275.2       54.5   9.1              2st CLASS MOVIE\n",
              "17 313.5       68.8   5.2              NOT IN THE TOP \n",
              "18 250.9       56.7   7.9              NOT IN THE TOP \n",
              "19 518.5       76.9   5.1              NOT IN THE TOP \n",
              "20 463.2      133.9  10.0              1st CLASS MOVIE\n",
              "21 439.5      158.3  13.5              1st CLASS MOVIE\n",
              "22 465.4      154.2  17.9              1st CLASS MOVIE\n",
              "23 581.5      145.3   3.3              1st CLASS MOVIE\n",
              "24 514.2      181.4   8.1              1st CLASS MOVIE\n",
              "25 943.5      170.2  14.5              1st CLASS MOVIE\n",
              "26 726.7      206.3    NA              1st CLASS MOVIE"
            ],
            "text/latex": "A data.table: 26 × 8\n\\begin{tabular}{llllllll}\n Film & Year & Actor & Director & Box Office & Budget & Bond Actor Salary & film\\_segment\\\\\n <chr> & <int> & <chr> & <chr> & <dbl> & <dbl> & <dbl> & <chr>\\\\\n\\hline\n\t Dr. No                          & 1962 & Sean Connery   & Terence Young      & 448.8 &   7.0 &  0.6 & 1st CLASS MOVIE\\\\\n\t From Russia with Love           & 1963 & Sean Connery   & Terence Young      & 543.8 &  12.6 &  1.6 & 1st CLASS MOVIE\\\\\n\t Goldfinger                      & 1964 & Sean Connery   & Guy Hamilton       & 820.4 &  18.6 &  3.2 & 1st CLASS MOVIE\\\\\n\t Thunderball                     & 1965 & Sean Connery   & Terence Young      & 848.1 &  41.9 &  4.7 & 1st CLASS MOVIE\\\\\n\t Casino Royale                   & 1967 & David Niven    & Ken Hughes         & 315.0 &  85.0 &   NA & NOT IN THE TOP \\\\\n\t You Only Live Twice             & 1967 & Sean Connery   & Lewis Gilbert      & 514.2 &  59.9 &  4.4 & 1st CLASS MOVIE\\\\\n\t On Her Majesty's Secret Service & 1969 & George Lazenby & Peter R. Hunt      & 291.5 &  37.3 &  0.6 & NOT IN THE TOP \\\\\n\t Diamonds Are Forever            & 1971 & Sean Connery   & Guy Hamilton       & 442.5 &  34.7 &  5.8 & 1st CLASS MOVIE\\\\\n\t Live and Let Die                & 1973 & Roger Moore    & Guy Hamilton       & 460.3 &  30.8 &   NA & 2st CLASS MOVIE\\\\\n\t The Man with the Golden Gun     & 1974 & Roger Moore    & Guy Hamilton       & 334.0 &  27.7 &   NA & 2st CLASS MOVIE\\\\\n\t The Spy Who Loved Me            & 1977 & Roger Moore    & Lewis Gilbert      & 533.0 &  45.1 &   NA & 2st CLASS MOVIE\\\\\n\t Moonraker                       & 1979 & Roger Moore    & Lewis Gilbert      & 535.0 &  91.5 &   NA & 2st CLASS MOVIE\\\\\n\t For Your Eyes Only              & 1981 & Roger Moore    & John Glen          & 449.4 &  60.2 &   NA & 2st CLASS MOVIE\\\\\n\t Never Say Never Again           & 1983 & Sean Connery   & Irvin Kershner     & 380.0 &  86.0 &   NA & 1st CLASS MOVIE\\\\\n\t Octopussy                       & 1983 & Roger Moore    & John Glen          & 373.8 &  53.9 &  7.8 & 2st CLASS MOVIE\\\\\n\t A View to a Kill                & 1985 & Roger Moore    & John Glen          & 275.2 &  54.5 &  9.1 & 2st CLASS MOVIE\\\\\n\t The Living Daylights            & 1987 & Timothy Dalton & John Glen          & 313.5 &  68.8 &  5.2 & NOT IN THE TOP \\\\\n\t Licence to Kill                 & 1989 & Timothy Dalton & John Glen          & 250.9 &  56.7 &  7.9 & NOT IN THE TOP \\\\\n\t GoldenEye                       & 1995 & Pierce Brosnan & Martin Campbell    & 518.5 &  76.9 &  5.1 & NOT IN THE TOP \\\\\n\t Tomorrow Never Dies             & 1997 & Pierce Brosnan & Roger Spottiswoode & 463.2 & 133.9 & 10.0 & 1st CLASS MOVIE\\\\\n\t The World Is Not Enough         & 1999 & Pierce Brosnan & Michael Apted      & 439.5 & 158.3 & 13.5 & 1st CLASS MOVIE\\\\\n\t Die Another Day                 & 2002 & Pierce Brosnan & Lee Tamahori       & 465.4 & 154.2 & 17.9 & 1st CLASS MOVIE\\\\\n\t Casino Royale                   & 2006 & Daniel Craig   & Martin Campbell    & 581.5 & 145.3 &  3.3 & 1st CLASS MOVIE\\\\\n\t Quantum of Solace               & 2008 & Daniel Craig   & Marc Forster       & 514.2 & 181.4 &  8.1 & 1st CLASS MOVIE\\\\\n\t Skyfall                         & 2012 & Daniel Craig   & Sam Mendes         & 943.5 & 170.2 & 14.5 & 1st CLASS MOVIE\\\\\n\t Spectre                         & 2015 & Daniel Craig   & Sam Mendes         & 726.7 & 206.3 &   NA & 1st CLASS MOVIE\\\\\n\\end{tabular}\n",
            "text/markdown": "\nA data.table: 26 × 8\n\n| Film &lt;chr&gt; | Year &lt;int&gt; | Actor &lt;chr&gt; | Director &lt;chr&gt; | Box Office &lt;dbl&gt; | Budget &lt;dbl&gt; | Bond Actor Salary &lt;dbl&gt; | film_segment &lt;chr&gt; |\n|---|---|---|---|---|---|---|---|\n| Dr. No                          | 1962 | Sean Connery   | Terence Young      | 448.8 |   7.0 |  0.6 | 1st CLASS MOVIE |\n| From Russia with Love           | 1963 | Sean Connery   | Terence Young      | 543.8 |  12.6 |  1.6 | 1st CLASS MOVIE |\n| Goldfinger                      | 1964 | Sean Connery   | Guy Hamilton       | 820.4 |  18.6 |  3.2 | 1st CLASS MOVIE |\n| Thunderball                     | 1965 | Sean Connery   | Terence Young      | 848.1 |  41.9 |  4.7 | 1st CLASS MOVIE |\n| Casino Royale                   | 1967 | David Niven    | Ken Hughes         | 315.0 |  85.0 |   NA | NOT IN THE TOP  |\n| You Only Live Twice             | 1967 | Sean Connery   | Lewis Gilbert      | 514.2 |  59.9 |  4.4 | 1st CLASS MOVIE |\n| On Her Majesty's Secret Service | 1969 | George Lazenby | Peter R. Hunt      | 291.5 |  37.3 |  0.6 | NOT IN THE TOP  |\n| Diamonds Are Forever            | 1971 | Sean Connery   | Guy Hamilton       | 442.5 |  34.7 |  5.8 | 1st CLASS MOVIE |\n| Live and Let Die                | 1973 | Roger Moore    | Guy Hamilton       | 460.3 |  30.8 |   NA | 2st CLASS MOVIE |\n| The Man with the Golden Gun     | 1974 | Roger Moore    | Guy Hamilton       | 334.0 |  27.7 |   NA | 2st CLASS MOVIE |\n| The Spy Who Loved Me            | 1977 | Roger Moore    | Lewis Gilbert      | 533.0 |  45.1 |   NA | 2st CLASS MOVIE |\n| Moonraker                       | 1979 | Roger Moore    | Lewis Gilbert      | 535.0 |  91.5 |   NA | 2st CLASS MOVIE |\n| For Your Eyes Only              | 1981 | Roger Moore    | John Glen          | 449.4 |  60.2 |   NA | 2st CLASS MOVIE |\n| Never Say Never Again           | 1983 | Sean Connery   | Irvin Kershner     | 380.0 |  86.0 |   NA | 1st CLASS MOVIE |\n| Octopussy                       | 1983 | Roger Moore    | John Glen          | 373.8 |  53.9 |  7.8 | 2st CLASS MOVIE |\n| A View to a Kill                | 1985 | Roger Moore    | John Glen          | 275.2 |  54.5 |  9.1 | 2st CLASS MOVIE |\n| The Living Daylights            | 1987 | Timothy Dalton | John Glen          | 313.5 |  68.8 |  5.2 | NOT IN THE TOP  |\n| Licence to Kill                 | 1989 | Timothy Dalton | John Glen          | 250.9 |  56.7 |  7.9 | NOT IN THE TOP  |\n| GoldenEye                       | 1995 | Pierce Brosnan | Martin Campbell    | 518.5 |  76.9 |  5.1 | NOT IN THE TOP  |\n| Tomorrow Never Dies             | 1997 | Pierce Brosnan | Roger Spottiswoode | 463.2 | 133.9 | 10.0 | 1st CLASS MOVIE |\n| The World Is Not Enough         | 1999 | Pierce Brosnan | Michael Apted      | 439.5 | 158.3 | 13.5 | 1st CLASS MOVIE |\n| Die Another Day                 | 2002 | Pierce Brosnan | Lee Tamahori       | 465.4 | 154.2 | 17.9 | 1st CLASS MOVIE |\n| Casino Royale                   | 2006 | Daniel Craig   | Martin Campbell    | 581.5 | 145.3 |  3.3 | 1st CLASS MOVIE |\n| Quantum of Solace               | 2008 | Daniel Craig   | Marc Forster       | 514.2 | 181.4 |  8.1 | 1st CLASS MOVIE |\n| Skyfall                         | 2012 | Daniel Craig   | Sam Mendes         | 943.5 | 170.2 | 14.5 | 1st CLASS MOVIE |\n| Spectre                         | 2015 | Daniel Craig   | Sam Mendes         | 726.7 | 206.3 |   NA | 1st CLASS MOVIE |\n\n",
            "text/html": [
              "<table>\n",
              "<caption>A data.table: 26 × 8</caption>\n",
              "<thead>\n",
              "\t<tr><th scope=col>Film</th><th scope=col>Year</th><th scope=col>Actor</th><th scope=col>Director</th><th scope=col>Box Office</th><th scope=col>Budget</th><th scope=col>Bond Actor Salary</th><th scope=col>film_segment</th></tr>\n",
              "\t<tr><th scope=col>&lt;chr&gt;</th><th scope=col>&lt;int&gt;</th><th scope=col>&lt;chr&gt;</th><th scope=col>&lt;chr&gt;</th><th scope=col>&lt;dbl&gt;</th><th scope=col>&lt;dbl&gt;</th><th scope=col>&lt;dbl&gt;</th><th scope=col>&lt;chr&gt;</th></tr>\n",
              "</thead>\n",
              "<tbody>\n",
              "\t<tr><td>Dr. No                         </td><td>1962</td><td>Sean Connery  </td><td>Terence Young     </td><td>448.8</td><td>  7.0</td><td> 0.6</td><td>1st CLASS MOVIE</td></tr>\n",
              "\t<tr><td>From Russia with Love          </td><td>1963</td><td>Sean Connery  </td><td>Terence Young     </td><td>543.8</td><td> 12.6</td><td> 1.6</td><td>1st CLASS MOVIE</td></tr>\n",
              "\t<tr><td>Goldfinger                     </td><td>1964</td><td>Sean Connery  </td><td>Guy Hamilton      </td><td>820.4</td><td> 18.6</td><td> 3.2</td><td>1st CLASS MOVIE</td></tr>\n",
              "\t<tr><td>Thunderball                    </td><td>1965</td><td>Sean Connery  </td><td>Terence Young     </td><td>848.1</td><td> 41.9</td><td> 4.7</td><td>1st CLASS MOVIE</td></tr>\n",
              "\t<tr><td>Casino Royale                  </td><td>1967</td><td>David Niven   </td><td>Ken Hughes        </td><td>315.0</td><td> 85.0</td><td>  NA</td><td>NOT IN THE TOP </td></tr>\n",
              "\t<tr><td>You Only Live Twice            </td><td>1967</td><td>Sean Connery  </td><td>Lewis Gilbert     </td><td>514.2</td><td> 59.9</td><td> 4.4</td><td>1st CLASS MOVIE</td></tr>\n",
              "\t<tr><td>On Her Majesty's Secret Service</td><td>1969</td><td>George Lazenby</td><td>Peter R. Hunt     </td><td>291.5</td><td> 37.3</td><td> 0.6</td><td>NOT IN THE TOP </td></tr>\n",
              "\t<tr><td>Diamonds Are Forever           </td><td>1971</td><td>Sean Connery  </td><td>Guy Hamilton      </td><td>442.5</td><td> 34.7</td><td> 5.8</td><td>1st CLASS MOVIE</td></tr>\n",
              "\t<tr><td>Live and Let Die               </td><td>1973</td><td>Roger Moore   </td><td>Guy Hamilton      </td><td>460.3</td><td> 30.8</td><td>  NA</td><td>2st CLASS MOVIE</td></tr>\n",
              "\t<tr><td>The Man with the Golden Gun    </td><td>1974</td><td>Roger Moore   </td><td>Guy Hamilton      </td><td>334.0</td><td> 27.7</td><td>  NA</td><td>2st CLASS MOVIE</td></tr>\n",
              "\t<tr><td>The Spy Who Loved Me           </td><td>1977</td><td>Roger Moore   </td><td>Lewis Gilbert     </td><td>533.0</td><td> 45.1</td><td>  NA</td><td>2st CLASS MOVIE</td></tr>\n",
              "\t<tr><td>Moonraker                      </td><td>1979</td><td>Roger Moore   </td><td>Lewis Gilbert     </td><td>535.0</td><td> 91.5</td><td>  NA</td><td>2st CLASS MOVIE</td></tr>\n",
              "\t<tr><td>For Your Eyes Only             </td><td>1981</td><td>Roger Moore   </td><td>John Glen         </td><td>449.4</td><td> 60.2</td><td>  NA</td><td>2st CLASS MOVIE</td></tr>\n",
              "\t<tr><td>Never Say Never Again          </td><td>1983</td><td>Sean Connery  </td><td>Irvin Kershner    </td><td>380.0</td><td> 86.0</td><td>  NA</td><td>1st CLASS MOVIE</td></tr>\n",
              "\t<tr><td>Octopussy                      </td><td>1983</td><td>Roger Moore   </td><td>John Glen         </td><td>373.8</td><td> 53.9</td><td> 7.8</td><td>2st CLASS MOVIE</td></tr>\n",
              "\t<tr><td>A View to a Kill               </td><td>1985</td><td>Roger Moore   </td><td>John Glen         </td><td>275.2</td><td> 54.5</td><td> 9.1</td><td>2st CLASS MOVIE</td></tr>\n",
              "\t<tr><td>The Living Daylights           </td><td>1987</td><td>Timothy Dalton</td><td>John Glen         </td><td>313.5</td><td> 68.8</td><td> 5.2</td><td>NOT IN THE TOP </td></tr>\n",
              "\t<tr><td>Licence to Kill                </td><td>1989</td><td>Timothy Dalton</td><td>John Glen         </td><td>250.9</td><td> 56.7</td><td> 7.9</td><td>NOT IN THE TOP </td></tr>\n",
              "\t<tr><td>GoldenEye                      </td><td>1995</td><td>Pierce Brosnan</td><td>Martin Campbell   </td><td>518.5</td><td> 76.9</td><td> 5.1</td><td>NOT IN THE TOP </td></tr>\n",
              "\t<tr><td>Tomorrow Never Dies            </td><td>1997</td><td>Pierce Brosnan</td><td>Roger Spottiswoode</td><td>463.2</td><td>133.9</td><td>10.0</td><td>1st CLASS MOVIE</td></tr>\n",
              "\t<tr><td>The World Is Not Enough        </td><td>1999</td><td>Pierce Brosnan</td><td>Michael Apted     </td><td>439.5</td><td>158.3</td><td>13.5</td><td>1st CLASS MOVIE</td></tr>\n",
              "\t<tr><td>Die Another Day                </td><td>2002</td><td>Pierce Brosnan</td><td>Lee Tamahori      </td><td>465.4</td><td>154.2</td><td>17.9</td><td>1st CLASS MOVIE</td></tr>\n",
              "\t<tr><td>Casino Royale                  </td><td>2006</td><td>Daniel Craig  </td><td>Martin Campbell   </td><td>581.5</td><td>145.3</td><td> 3.3</td><td>1st CLASS MOVIE</td></tr>\n",
              "\t<tr><td>Quantum of Solace              </td><td>2008</td><td>Daniel Craig  </td><td>Marc Forster      </td><td>514.2</td><td>181.4</td><td> 8.1</td><td>1st CLASS MOVIE</td></tr>\n",
              "\t<tr><td>Skyfall                        </td><td>2012</td><td>Daniel Craig  </td><td>Sam Mendes        </td><td>943.5</td><td>170.2</td><td>14.5</td><td>1st CLASS MOVIE</td></tr>\n",
              "\t<tr><td>Spectre                        </td><td>2015</td><td>Daniel Craig  </td><td>Sam Mendes        </td><td>726.7</td><td>206.3</td><td>  NA</td><td>1st CLASS MOVIE</td></tr>\n",
              "</tbody>\n",
              "</table>\n"
            ]
          },
          "metadata": {
            "tags": []
          }
        }
      ]
    },
    {
      "cell_type": "markdown",
      "metadata": {
        "id": "bzl7-Z11RqpN"
      },
      "source": [
        "# AGREGACIONES\n",
        "Una agregación es una compilación de datos en un *data frame*, donde alteramos la unidad de observación original y llevando la información a un nivel superior de abstracción. Al realizar una agregación, siempre utilizaremos una función de agregación específica para determinar el tipo de operación.\n",
        "\n",
        "#### Funciones básicas de agregación\n",
        "\n",
        "| Function \t| Description        \t|\n",
        "|----------\t|--------------------\t|\n",
        "| sum()    \t| Sum                \t|\n",
        "| mean()   \t| Mean               \t|\n",
        "| median() \t| Median             \t|\n",
        "| sd()     \t| Standard Deviation \t|\n",
        "| min()    \t| Minimum            \t|\n",
        "| max()    \t| Maximum            \t|\n",
        "| n()      \t| Count              \t|\n"
      ]
    },
    {
      "cell_type": "code",
      "metadata": {
        "id": "lWWgm-dbSCYZ",
        "colab": {
          "base_uri": "https://localhost:8080/"
        },
        "outputId": "e1dea942-959d-4fd4-e612-d120363a74a3"
      },
      "source": [
        "# Importamos un df\n",
        "df_james_bond = data.table::fread(\"https://data-wizards.s3.amazonaws.com/datasets/jamesbond.csv\")\n",
        "glimpse(df_james_bond)"
      ],
      "execution_count": null,
      "outputs": [
        {
          "output_type": "stream",
          "text": [
            "Rows: 26\n",
            "Columns: 7\n",
            "$ Film                \u001b[3m\u001b[90m<chr>\u001b[39m\u001b[23m \"Dr. No\", \"From Russia with Love\", \"Goldfinger\", …\n",
            "$ Year                \u001b[3m\u001b[90m<int>\u001b[39m\u001b[23m 1962, 1963, 1964, 1965, 1967, 1967, 1969, 1971, 1…\n",
            "$ Actor               \u001b[3m\u001b[90m<chr>\u001b[39m\u001b[23m \"Sean Connery\", \"Sean Connery\", \"Sean Connery\", \"…\n",
            "$ Director            \u001b[3m\u001b[90m<chr>\u001b[39m\u001b[23m \"Terence Young\", \"Terence Young\", \"Guy Hamilton\",…\n",
            "$ `Box Office`        \u001b[3m\u001b[90m<dbl>\u001b[39m\u001b[23m 448.8, 543.8, 820.4, 848.1, 315.0, 514.2, 291.5, …\n",
            "$ Budget              \u001b[3m\u001b[90m<dbl>\u001b[39m\u001b[23m 7.0, 12.6, 18.6, 41.9, 85.0, 59.9, 37.3, 34.7, 30…\n",
            "$ `Bond Actor Salary` \u001b[3m\u001b[90m<dbl>\u001b[39m\u001b[23m 0.6, 1.6, 3.2, 4.7, NA, 4.4, 0.6, 5.8, NA, NA, NA…\n"
          ],
          "name": "stdout"
        }
      ]
    },
    {
      "cell_type": "markdown",
      "metadata": {
        "id": "fsn7-lFg1bra"
      },
      "source": [
        "### AGREGACIONES GLOBALES\n",
        "---\n",
        "La primera acción que emprenderemos será la de conseguir métricas que resuman el total de las observaciones disponibles en el *data frame*\n",
        "\n",
        "```\n",
        "dplyr::sumarise(object, aggregations...)\n",
        "```\n",
        "\n"
      ]
    },
    {
      "cell_type": "code",
      "metadata": {
        "id": "diUErTkcSCc6",
        "colab": {
          "base_uri": "https://localhost:8080/",
          "height": 116
        },
        "outputId": "ed8b255c-ee97-4825-907f-85df45f8a6ba"
      },
      "source": [
        "# Creamos una primer agregación, donde obtendremos la suma total de la variable \"box office\"\n",
        "## esto podría interpretarse como el total de ingresos generados por todas las películas de James Bond \n",
        "df_james_bond %>% summarise(\n",
        "  total_box_office = sum(`Box Office`)    # definimos el nombre de la variable y utilizamos una función de agregación para establecer un criterio\n",
        ")"
      ],
      "execution_count": null,
      "outputs": [
        {
          "output_type": "display_data",
          "data": {
            "text/plain": [
              "  total_box_office\n",
              "1 12781.9         "
            ],
            "text/latex": "A data.frame: 1 × 1\n\\begin{tabular}{l}\n total\\_box\\_office\\\\\n <dbl>\\\\\n\\hline\n\t 12781.9\\\\\n\\end{tabular}\n",
            "text/markdown": "\nA data.frame: 1 × 1\n\n| total_box_office &lt;dbl&gt; |\n|---|\n| 12781.9 |\n\n",
            "text/html": [
              "<table>\n",
              "<caption>A data.frame: 1 × 1</caption>\n",
              "<thead>\n",
              "\t<tr><th scope=col>total_box_office</th></tr>\n",
              "\t<tr><th scope=col>&lt;dbl&gt;</th></tr>\n",
              "</thead>\n",
              "<tbody>\n",
              "\t<tr><td>12781.9</td></tr>\n",
              "</tbody>\n",
              "</table>\n"
            ]
          },
          "metadata": {
            "tags": []
          }
        }
      ]
    },
    {
      "cell_type": "code",
      "metadata": {
        "colab": {
          "base_uri": "https://localhost:8080/",
          "height": 99
        },
        "id": "yhuvXQ6ezhgx",
        "outputId": "f858b78e-5cb9-42c4-d665-16c2e6913a02"
      },
      "source": [
        "# Los valores nulos (NA) pueden causarnos problemas\n",
        "## utilizaremos un parámetro adicional en la función de agregación, para especificar que no tome en cuanta las observaciones con valores NA\n",
        "## en el ejemplo a continuación, sumaremos los salarios de los actores en todas las películas\n",
        "df_james_bond %>% summarise(\n",
        "  total_bond_salary_v1 = sum(`Bond Actor Salary`)                \n",
        "  ,total_bond_salary_v2 = sum(`Bond Actor Salary`,na.rm=TRUE)    # el segunda parámetro \"na.rm = TRUE\" (NA remove) evita aquellas observaciones NA al realizar el cálculo\n",
        ")\n",
        "## la primer variable tendrá valor NA, ya que al menos una observación es NA"
      ],
      "execution_count": null,
      "outputs": [
        {
          "output_type": "display_data",
          "data": {
            "text/plain": [
              "  total_box_office_v1 total_box_office_v2\n",
              "1 NA                  123.3              "
            ],
            "text/latex": "A data.frame: 1 × 2\n\\begin{tabular}{ll}\n total\\_box\\_office\\_v1 & total\\_box\\_office\\_v2\\\\\n <dbl> & <dbl>\\\\\n\\hline\n\t NA & 123.3\\\\\n\\end{tabular}\n",
            "text/markdown": "\nA data.frame: 1 × 2\n\n| total_box_office_v1 &lt;dbl&gt; | total_box_office_v2 &lt;dbl&gt; |\n|---|---|\n| NA | 123.3 |\n\n",
            "text/html": [
              "<table>\n",
              "<caption>A data.frame: 1 × 2</caption>\n",
              "<thead>\n",
              "\t<tr><th scope=col>total_box_office_v1</th><th scope=col>total_box_office_v2</th></tr>\n",
              "\t<tr><th scope=col>&lt;dbl&gt;</th><th scope=col>&lt;dbl&gt;</th></tr>\n",
              "</thead>\n",
              "<tbody>\n",
              "\t<tr><td>NA</td><td>123.3</td></tr>\n",
              "</tbody>\n",
              "</table>\n"
            ]
          },
          "metadata": {
            "tags": []
          }
        }
      ]
    },
    {
      "cell_type": "code",
      "metadata": {
        "id": "F_0tD5EsSChQ",
        "colab": {
          "base_uri": "https://localhost:8080/",
          "height": 99
        },
        "outputId": "2584ce38-4590-48a5-a063-9315e51ed8f1"
      },
      "source": [
        "# A continuación, utilizaremos distintas funciones de agregación para jugar con los datos disponibles en el dataset\n",
        "df_james_bond %>% summarise(\n",
        "  avg_box_office = mean(`Box Office`)\n",
        "  ,avg_budget = mean(Budget)\n",
        "  ,avg_bond_actor_salary = mean(`Bond Actor Salary`,na.rm = TRUE)\n",
        ")"
      ],
      "execution_count": null,
      "outputs": [
        {
          "output_type": "display_data",
          "data": {
            "text/plain": [
              "  avg_box_office avg_budget avg_bond_actor_salary\n",
              "1 491.6115       80.71923   6.85                 "
            ],
            "text/latex": "A data.frame: 1 × 3\n\\begin{tabular}{lll}\n avg\\_box\\_office & avg\\_budget & avg\\_bond\\_actor\\_salary\\\\\n <dbl> & <dbl> & <dbl>\\\\\n\\hline\n\t 491.6115 & 80.71923 & 6.85\\\\\n\\end{tabular}\n",
            "text/markdown": "\nA data.frame: 1 × 3\n\n| avg_box_office &lt;dbl&gt; | avg_budget &lt;dbl&gt; | avg_bond_actor_salary &lt;dbl&gt; |\n|---|---|---|\n| 491.6115 | 80.71923 | 6.85 |\n\n",
            "text/html": [
              "<table>\n",
              "<caption>A data.frame: 1 × 3</caption>\n",
              "<thead>\n",
              "\t<tr><th scope=col>avg_box_office</th><th scope=col>avg_budget</th><th scope=col>avg_bond_actor_salary</th></tr>\n",
              "\t<tr><th scope=col>&lt;dbl&gt;</th><th scope=col>&lt;dbl&gt;</th><th scope=col>&lt;dbl&gt;</th></tr>\n",
              "</thead>\n",
              "<tbody>\n",
              "\t<tr><td>491.6115</td><td>80.71923</td><td>6.85</td></tr>\n",
              "</tbody>\n",
              "</table>\n"
            ]
          },
          "metadata": {
            "tags": []
          }
        }
      ]
    },
    {
      "cell_type": "markdown",
      "metadata": {
        "id": "zrfYSZq51tYY"
      },
      "source": [
        "### AGREGACIONES AGRUPADAS\n",
        "---\n",
        "Al realizar agregaciones, muchas veces no buscamos datos globales (al total del data frame), sino que buscamos métricas específicas para observaciones agrupadas según variables categóricas. Para ello, necesitaremos especificar un criterio de agrupación utilizando la función *group_by()*\n",
        "\n",
        "```\n",
        "group_by(object, columns...)\n",
        "```\n",
        "\n",
        "\n",
        "\n"
      ]
    },
    {
      "cell_type": "code",
      "metadata": {
        "colab": {
          "base_uri": "https://localhost:8080/",
          "height": 385
        },
        "id": "RYA6Is0EviDW",
        "outputId": "f79d5259-27df-44dd-c45f-fe0149ab4072"
      },
      "source": [
        "# En el ejercicio a continuación, buscaremos obtener métricas según Director de la película\n",
        "## nota: la unidad de observación original en el data frame es \"película\" (tenemos una película por fila)\n",
        "## ahora lo queremos abstreaer a un nivel superior: director (existen varias películas por director)\n",
        "\n",
        "df_james_bond %>% group_by(\n",
        "  Director\n",
        ") %>% summarise(\n",
        "  avg_box_office = mean(`Box Office`)\n",
        "  ,median_budget = median(Budget)\n",
        "  ,avg_bond_actor_salary = mean(`Bond Actor Salary`,na.rm = TRUE)\n",
        ") %>% arrange(desc(avg_bond_actor_salary))"
      ],
      "execution_count": null,
      "outputs": [
        {
          "output_type": "stream",
          "text": [
            "`summarise()` ungrouping output (override with `.groups` argument)\n",
            "\n"
          ],
          "name": "stderr"
        },
        {
          "output_type": "display_data",
          "data": {
            "text/plain": [
              "   Director           avg_box_office median_budget avg_bond_actor_salary\n",
              "1  Lee Tamahori       465.4000       154.20        17.9                 \n",
              "2  Sam Mendes         835.1000       188.25        14.5                 \n",
              "3  Michael Apted      439.5000       158.30        13.5                 \n",
              "4  Roger Spottiswoode 463.2000       133.90        10.0                 \n",
              "5  Marc Forster       514.2000       181.40         8.1                 \n",
              "6  John Glen          332.5600        56.70         7.5                 \n",
              "7  Guy Hamilton       514.3000        29.25         4.5                 \n",
              "8  Lewis Gilbert      527.4000        59.90         4.4                 \n",
              "9  Martin Campbell    550.0000       111.10         4.2                 \n",
              "10 Terence Young      613.5667        12.60         2.3                 \n",
              "11 Peter R. Hunt      291.5000        37.30         0.6                 \n",
              "12 Irvin Kershner     380.0000        86.00         NaN                 \n",
              "13 Ken Hughes         315.0000        85.00         NaN                 "
            ],
            "text/latex": "A tibble: 13 × 4\n\\begin{tabular}{llll}\n Director & avg\\_box\\_office & median\\_budget & avg\\_bond\\_actor\\_salary\\\\\n <chr> & <dbl> & <dbl> & <dbl>\\\\\n\\hline\n\t Lee Tamahori       & 465.4000 & 154.20 & 17.9\\\\\n\t Sam Mendes         & 835.1000 & 188.25 & 14.5\\\\\n\t Michael Apted      & 439.5000 & 158.30 & 13.5\\\\\n\t Roger Spottiswoode & 463.2000 & 133.90 & 10.0\\\\\n\t Marc Forster       & 514.2000 & 181.40 &  8.1\\\\\n\t John Glen          & 332.5600 &  56.70 &  7.5\\\\\n\t Guy Hamilton       & 514.3000 &  29.25 &  4.5\\\\\n\t Lewis Gilbert      & 527.4000 &  59.90 &  4.4\\\\\n\t Martin Campbell    & 550.0000 & 111.10 &  4.2\\\\\n\t Terence Young      & 613.5667 &  12.60 &  2.3\\\\\n\t Peter R. Hunt      & 291.5000 &  37.30 &  0.6\\\\\n\t Irvin Kershner     & 380.0000 &  86.00 &  NaN\\\\\n\t Ken Hughes         & 315.0000 &  85.00 &  NaN\\\\\n\\end{tabular}\n",
            "text/markdown": "\nA tibble: 13 × 4\n\n| Director &lt;chr&gt; | avg_box_office &lt;dbl&gt; | median_budget &lt;dbl&gt; | avg_bond_actor_salary &lt;dbl&gt; |\n|---|---|---|---|\n| Lee Tamahori       | 465.4000 | 154.20 | 17.9 |\n| Sam Mendes         | 835.1000 | 188.25 | 14.5 |\n| Michael Apted      | 439.5000 | 158.30 | 13.5 |\n| Roger Spottiswoode | 463.2000 | 133.90 | 10.0 |\n| Marc Forster       | 514.2000 | 181.40 |  8.1 |\n| John Glen          | 332.5600 |  56.70 |  7.5 |\n| Guy Hamilton       | 514.3000 |  29.25 |  4.5 |\n| Lewis Gilbert      | 527.4000 |  59.90 |  4.4 |\n| Martin Campbell    | 550.0000 | 111.10 |  4.2 |\n| Terence Young      | 613.5667 |  12.60 |  2.3 |\n| Peter R. Hunt      | 291.5000 |  37.30 |  0.6 |\n| Irvin Kershner     | 380.0000 |  86.00 |  NaN |\n| Ken Hughes         | 315.0000 |  85.00 |  NaN |\n\n",
            "text/html": [
              "<table>\n",
              "<caption>A tibble: 13 × 4</caption>\n",
              "<thead>\n",
              "\t<tr><th scope=col>Director</th><th scope=col>avg_box_office</th><th scope=col>median_budget</th><th scope=col>avg_bond_actor_salary</th></tr>\n",
              "\t<tr><th scope=col>&lt;chr&gt;</th><th scope=col>&lt;dbl&gt;</th><th scope=col>&lt;dbl&gt;</th><th scope=col>&lt;dbl&gt;</th></tr>\n",
              "</thead>\n",
              "<tbody>\n",
              "\t<tr><td>Lee Tamahori      </td><td>465.4000</td><td>154.20</td><td>17.9</td></tr>\n",
              "\t<tr><td>Sam Mendes        </td><td>835.1000</td><td>188.25</td><td>14.5</td></tr>\n",
              "\t<tr><td>Michael Apted     </td><td>439.5000</td><td>158.30</td><td>13.5</td></tr>\n",
              "\t<tr><td>Roger Spottiswoode</td><td>463.2000</td><td>133.90</td><td>10.0</td></tr>\n",
              "\t<tr><td>Marc Forster      </td><td>514.2000</td><td>181.40</td><td> 8.1</td></tr>\n",
              "\t<tr><td>John Glen         </td><td>332.5600</td><td> 56.70</td><td> 7.5</td></tr>\n",
              "\t<tr><td>Guy Hamilton      </td><td>514.3000</td><td> 29.25</td><td> 4.5</td></tr>\n",
              "\t<tr><td>Lewis Gilbert     </td><td>527.4000</td><td> 59.90</td><td> 4.4</td></tr>\n",
              "\t<tr><td>Martin Campbell   </td><td>550.0000</td><td>111.10</td><td> 4.2</td></tr>\n",
              "\t<tr><td>Terence Young     </td><td>613.5667</td><td> 12.60</td><td> 2.3</td></tr>\n",
              "\t<tr><td>Peter R. Hunt     </td><td>291.5000</td><td> 37.30</td><td> 0.6</td></tr>\n",
              "\t<tr><td>Irvin Kershner    </td><td>380.0000</td><td> 86.00</td><td> NaN</td></tr>\n",
              "\t<tr><td>Ken Hughes        </td><td>315.0000</td><td> 85.00</td><td> NaN</td></tr>\n",
              "</tbody>\n",
              "</table>\n"
            ]
          },
          "metadata": {
            "tags": []
          }
        }
      ]
    },
    {
      "cell_type": "code",
      "metadata": {
        "colab": {
          "base_uri": "https://localhost:8080/",
          "height": 293
        },
        "id": "ypARbIqotEKW",
        "outputId": "1be2f988-803c-47b5-d520-eca0b5ba9f51"
      },
      "source": [
        "# Realizamos un ejercicio similar al anterior, agregando datos a nivel actor\n",
        "df_james_bond %>% group_by(Actor) %>% summarise(\n",
        "  total_salary = sum(`Bond Actor Salary`,na.rm = TRUE)\n",
        "  ,max_salary_in_movie = max(`Bond Actor Salary`,na.rm = TRUE)  # función max() aplicada a salario de actor en película (sueldo mayor en película)\n",
        "  ,count_movies = n()                                           # n() cuenta observaciones (cantidad de películas)\n",
        ") %>% arrange(desc(total_salary))"
      ],
      "execution_count": null,
      "outputs": [
        {
          "output_type": "stream",
          "text": [
            "Warning message in max(`Bond Actor Salary`, na.rm = TRUE):\n",
            "“no non-missing arguments to max; returning -Inf”\n",
            "`summarise()` ungrouping output (override with `.groups` argument)\n",
            "\n"
          ],
          "name": "stderr"
        },
        {
          "output_type": "display_data",
          "data": {
            "text/plain": [
              "  Actor          total_salary max_salary_in_movie count_movies\n",
              "1 Pierce Brosnan 46.5         17.9                4           \n",
              "2 Daniel Craig   25.9         14.5                4           \n",
              "3 Sean Connery   20.3          5.8                7           \n",
              "4 Roger Moore    16.9          9.1                7           \n",
              "5 Timothy Dalton 13.1          7.9                2           \n",
              "6 George Lazenby  0.6          0.6                1           \n",
              "7 David Niven     0.0         -Inf                1           "
            ],
            "text/latex": "A tibble: 7 × 4\n\\begin{tabular}{llll}\n Actor & total\\_salary & max\\_salary\\_in\\_movie & count\\_movies\\\\\n <chr> & <dbl> & <dbl> & <int>\\\\\n\\hline\n\t Pierce Brosnan & 46.5 & 17.9 & 4\\\\\n\t Daniel Craig   & 25.9 & 14.5 & 4\\\\\n\t Sean Connery   & 20.3 &  5.8 & 7\\\\\n\t Roger Moore    & 16.9 &  9.1 & 7\\\\\n\t Timothy Dalton & 13.1 &  7.9 & 2\\\\\n\t George Lazenby &  0.6 &  0.6 & 1\\\\\n\t David Niven    &  0.0 & -Inf & 1\\\\\n\\end{tabular}\n",
            "text/markdown": "\nA tibble: 7 × 4\n\n| Actor &lt;chr&gt; | total_salary &lt;dbl&gt; | max_salary_in_movie &lt;dbl&gt; | count_movies &lt;int&gt; |\n|---|---|---|---|\n| Pierce Brosnan | 46.5 | 17.9 | 4 |\n| Daniel Craig   | 25.9 | 14.5 | 4 |\n| Sean Connery   | 20.3 |  5.8 | 7 |\n| Roger Moore    | 16.9 |  9.1 | 7 |\n| Timothy Dalton | 13.1 |  7.9 | 2 |\n| George Lazenby |  0.6 |  0.6 | 1 |\n| David Niven    |  0.0 | -Inf | 1 |\n\n",
            "text/html": [
              "<table>\n",
              "<caption>A tibble: 7 × 4</caption>\n",
              "<thead>\n",
              "\t<tr><th scope=col>Actor</th><th scope=col>total_salary</th><th scope=col>max_salary_in_movie</th><th scope=col>count_movies</th></tr>\n",
              "\t<tr><th scope=col>&lt;chr&gt;</th><th scope=col>&lt;dbl&gt;</th><th scope=col>&lt;dbl&gt;</th><th scope=col>&lt;int&gt;</th></tr>\n",
              "</thead>\n",
              "<tbody>\n",
              "\t<tr><td>Pierce Brosnan</td><td>46.5</td><td>17.9</td><td>4</td></tr>\n",
              "\t<tr><td>Daniel Craig  </td><td>25.9</td><td>14.5</td><td>4</td></tr>\n",
              "\t<tr><td>Sean Connery  </td><td>20.3</td><td> 5.8</td><td>7</td></tr>\n",
              "\t<tr><td>Roger Moore   </td><td>16.9</td><td> 9.1</td><td>7</td></tr>\n",
              "\t<tr><td>Timothy Dalton</td><td>13.1</td><td> 7.9</td><td>2</td></tr>\n",
              "\t<tr><td>George Lazenby</td><td> 0.6</td><td> 0.6</td><td>1</td></tr>\n",
              "\t<tr><td>David Niven   </td><td> 0.0</td><td>-Inf</td><td>1</td></tr>\n",
              "</tbody>\n",
              "</table>\n"
            ]
          },
          "metadata": {
            "tags": []
          }
        }
      ]
    },
    {
      "cell_type": "markdown",
      "metadata": {
        "id": "R9kcQyMl0YTY"
      },
      "source": [
        "### AGREGACIONES CONDICIONADAS\n",
        "---\n",
        "En ocasiones, nos interesa definir un subconjunto específico de observaciones (filas) para cada variable agregada. En otras palabras, podemos definir condiciones específicas para cada variable al configurar una función de agregación.  \n"
      ]
    },
    {
      "cell_type": "code",
      "metadata": {
        "id": "QBgrInUm0d-c",
        "colab": {
          "base_uri": "https://localhost:8080/",
          "height": 99
        },
        "outputId": "324d37d8-6f83-4767-c066-d85d8fdf340a"
      },
      "source": [
        "# En el ejemplo a continuación, realizaremos una agregación global (sin agrupar), pero definiendo condiciones en las variables agregadas\n",
        "df_james_bond %>% summarise(\n",
        "  sum_salary_Roger_Moore = sum(`Bond Actor Salary`[Actor == 'Roger Moore'],na.rm = TRUE)    # únicamente suma de salarios cuando el actor es Rooger Moore\n",
        "  ,sum_salary_Daniel_Craig = sum(`Bond Actor Salary`[Actor == 'Daniel Craig'],na.rm = TRUE) # únicamente suma de salarios cuando el actor es Daniel Craig\n",
        ")"
      ],
      "execution_count": null,
      "outputs": [
        {
          "output_type": "display_data",
          "data": {
            "text/plain": [
              "  sum_salary_Roger_Moore sum_salary_Daniel_Craig\n",
              "1 16.9                   25.9                   "
            ],
            "text/latex": "A data.frame: 1 × 2\n\\begin{tabular}{ll}\n sum\\_salary\\_Roger\\_Moore & sum\\_salary\\_Daniel\\_Craig\\\\\n <dbl> & <dbl>\\\\\n\\hline\n\t 16.9 & 25.9\\\\\n\\end{tabular}\n",
            "text/markdown": "\nA data.frame: 1 × 2\n\n| sum_salary_Roger_Moore &lt;dbl&gt; | sum_salary_Daniel_Craig &lt;dbl&gt; |\n|---|---|\n| 16.9 | 25.9 |\n\n",
            "text/html": [
              "<table>\n",
              "<caption>A data.frame: 1 × 2</caption>\n",
              "<thead>\n",
              "\t<tr><th scope=col>sum_salary_Roger_Moore</th><th scope=col>sum_salary_Daniel_Craig</th></tr>\n",
              "\t<tr><th scope=col>&lt;dbl&gt;</th><th scope=col>&lt;dbl&gt;</th></tr>\n",
              "</thead>\n",
              "<tbody>\n",
              "\t<tr><td>16.9</td><td>25.9</td></tr>\n",
              "</tbody>\n",
              "</table>\n"
            ]
          },
          "metadata": {
            "tags": []
          }
        }
      ]
    },
    {
      "cell_type": "code",
      "metadata": {
        "colab": {
          "base_uri": "https://localhost:8080/",
          "height": 154
        },
        "id": "m7MYYGn46Bjz",
        "outputId": "10f836c2-dccd-4b4d-f77d-1e673cae7e2c"
      },
      "source": [
        "# Las agregaciones condicionadas pueden utilizarse para \"pivotear\" (o \"transponer\") una tabla (es decir, cambiar filas por columnas)\n",
        "## en el ejercicio debajo no utilizamos agregación condicionada y obtenemos la misma información, reportada de otra forma\n",
        "\n",
        "df_james_bond %>% filter(\n",
        "  Actor %in% c('Roger Moore','Daniel Craig')            # filtramos por dos actores      \n",
        ") %>% group_by(\n",
        "  Actor                                                 # agrupamos por actor (quiero agrupar la variable agregada según actor)\n",
        ") %>% summarise(\n",
        "  sum_salary = sum(`Bond Actor Salary`,na.rm = TRUE)    # suma de salarios en películas\n",
        ")"
      ],
      "execution_count": null,
      "outputs": [
        {
          "output_type": "stream",
          "text": [
            "`summarise()` ungrouping output (override with `.groups` argument)\n",
            "\n"
          ],
          "name": "stderr"
        },
        {
          "output_type": "display_data",
          "data": {
            "text/plain": [
              "  Actor        sum_salary\n",
              "1 Daniel Craig 25.9      \n",
              "2 Roger Moore  16.9      "
            ],
            "text/latex": "A tibble: 2 × 2\n\\begin{tabular}{ll}\n Actor & sum\\_salary\\\\\n <chr> & <dbl>\\\\\n\\hline\n\t Daniel Craig & 25.9\\\\\n\t Roger Moore  & 16.9\\\\\n\\end{tabular}\n",
            "text/markdown": "\nA tibble: 2 × 2\n\n| Actor &lt;chr&gt; | sum_salary &lt;dbl&gt; |\n|---|---|\n| Daniel Craig | 25.9 |\n| Roger Moore  | 16.9 |\n\n",
            "text/html": [
              "<table>\n",
              "<caption>A tibble: 2 × 2</caption>\n",
              "<thead>\n",
              "\t<tr><th scope=col>Actor</th><th scope=col>sum_salary</th></tr>\n",
              "\t<tr><th scope=col>&lt;chr&gt;</th><th scope=col>&lt;dbl&gt;</th></tr>\n",
              "</thead>\n",
              "<tbody>\n",
              "\t<tr><td>Daniel Craig</td><td>25.9</td></tr>\n",
              "\t<tr><td>Roger Moore </td><td>16.9</td></tr>\n",
              "</tbody>\n",
              "</table>\n"
            ]
          },
          "metadata": {
            "tags": []
          }
        }
      ]
    },
    {
      "cell_type": "code",
      "metadata": {
        "colab": {
          "base_uri": "https://localhost:8080/",
          "height": 385
        },
        "id": "_obOWfQqWEmE",
        "outputId": "423db7c3-96f0-433b-98c6-a1101d848f0a"
      },
      "source": [
        "# Realizamos otro ejercicio de agregaciones condicionadas\n",
        "## en este caso, agrupamos las métricas agregadas según Director (observar que siempre agrupamos según variables categóricas)\n",
        "\n",
        "df_james_bond %>% group_by(Director) %>% summarise(\n",
        "  total_actor_salary = sum(`Bond Actor Salary`,na.rm = TRUE)                                # esta variable agregada no es condicionada, no estamos limitando las observaciones a ser agragadas\n",
        "  ,sum_salary_Roger_Moore = sum(`Bond Actor Salary`[Actor == 'Roger Moore'],na.rm = TRUE)   # agregamos salarios para actor Roger Moore\n",
        "  ,sum_salary_Daniel_Craig = sum(`Bond Actor Salary`[Actor == 'Daniel Craig'],na.rm = TRUE) # agregamos salarios para actor Daniel Craig\n",
        ") %>% arrange(desc(total_actor_salary))\n",
        "\n",
        "## como resultado, obtenemos (i) la suma total salarios de actores según Director y (ii) la suma de salarios específica para dos actores\n",
        "## aparentemente, el actor Roger Moore únicamente ha hecho películas de James Bond con el director John Glen, por tanto el resto de directores tienen 0 a la variable agregada (condicionada a actor Roger Moore)"
      ],
      "execution_count": null,
      "outputs": [
        {
          "output_type": "stream",
          "text": [
            "`summarise()` ungrouping output (override with `.groups` argument)\n",
            "\n"
          ],
          "name": "stderr"
        },
        {
          "output_type": "display_data",
          "data": {
            "text/plain": [
              "   Director           total_actor_salary sum_salary_Roger_Moore\n",
              "1  John Glen          30.0               16.9                  \n",
              "2  Lee Tamahori       17.9                0.0                  \n",
              "3  Sam Mendes         14.5                0.0                  \n",
              "4  Michael Apted      13.5                0.0                  \n",
              "5  Roger Spottiswoode 10.0                0.0                  \n",
              "6  Guy Hamilton        9.0                0.0                  \n",
              "7  Martin Campbell     8.4                0.0                  \n",
              "8  Marc Forster        8.1                0.0                  \n",
              "9  Terence Young       6.9                0.0                  \n",
              "10 Lewis Gilbert       4.4                0.0                  \n",
              "11 Peter R. Hunt       0.6                0.0                  \n",
              "12 Irvin Kershner      0.0                0.0                  \n",
              "13 Ken Hughes          0.0                0.0                  \n",
              "   sum_salary_Daniel_Craig\n",
              "1   0.0                   \n",
              "2   0.0                   \n",
              "3  14.5                   \n",
              "4   0.0                   \n",
              "5   0.0                   \n",
              "6   0.0                   \n",
              "7   3.3                   \n",
              "8   8.1                   \n",
              "9   0.0                   \n",
              "10  0.0                   \n",
              "11  0.0                   \n",
              "12  0.0                   \n",
              "13  0.0                   "
            ],
            "text/latex": "A tibble: 13 × 4\n\\begin{tabular}{llll}\n Director & total\\_actor\\_salary & sum\\_salary\\_Roger\\_Moore & sum\\_salary\\_Daniel\\_Craig\\\\\n <chr> & <dbl> & <dbl> & <dbl>\\\\\n\\hline\n\t John Glen          & 30.0 & 16.9 &  0.0\\\\\n\t Lee Tamahori       & 17.9 &  0.0 &  0.0\\\\\n\t Sam Mendes         & 14.5 &  0.0 & 14.5\\\\\n\t Michael Apted      & 13.5 &  0.0 &  0.0\\\\\n\t Roger Spottiswoode & 10.0 &  0.0 &  0.0\\\\\n\t Guy Hamilton       &  9.0 &  0.0 &  0.0\\\\\n\t Martin Campbell    &  8.4 &  0.0 &  3.3\\\\\n\t Marc Forster       &  8.1 &  0.0 &  8.1\\\\\n\t Terence Young      &  6.9 &  0.0 &  0.0\\\\\n\t Lewis Gilbert      &  4.4 &  0.0 &  0.0\\\\\n\t Peter R. Hunt      &  0.6 &  0.0 &  0.0\\\\\n\t Irvin Kershner     &  0.0 &  0.0 &  0.0\\\\\n\t Ken Hughes         &  0.0 &  0.0 &  0.0\\\\\n\\end{tabular}\n",
            "text/markdown": "\nA tibble: 13 × 4\n\n| Director &lt;chr&gt; | total_actor_salary &lt;dbl&gt; | sum_salary_Roger_Moore &lt;dbl&gt; | sum_salary_Daniel_Craig &lt;dbl&gt; |\n|---|---|---|---|\n| John Glen          | 30.0 | 16.9 |  0.0 |\n| Lee Tamahori       | 17.9 |  0.0 |  0.0 |\n| Sam Mendes         | 14.5 |  0.0 | 14.5 |\n| Michael Apted      | 13.5 |  0.0 |  0.0 |\n| Roger Spottiswoode | 10.0 |  0.0 |  0.0 |\n| Guy Hamilton       |  9.0 |  0.0 |  0.0 |\n| Martin Campbell    |  8.4 |  0.0 |  3.3 |\n| Marc Forster       |  8.1 |  0.0 |  8.1 |\n| Terence Young      |  6.9 |  0.0 |  0.0 |\n| Lewis Gilbert      |  4.4 |  0.0 |  0.0 |\n| Peter R. Hunt      |  0.6 |  0.0 |  0.0 |\n| Irvin Kershner     |  0.0 |  0.0 |  0.0 |\n| Ken Hughes         |  0.0 |  0.0 |  0.0 |\n\n",
            "text/html": [
              "<table>\n",
              "<caption>A tibble: 13 × 4</caption>\n",
              "<thead>\n",
              "\t<tr><th scope=col>Director</th><th scope=col>total_actor_salary</th><th scope=col>sum_salary_Roger_Moore</th><th scope=col>sum_salary_Daniel_Craig</th></tr>\n",
              "\t<tr><th scope=col>&lt;chr&gt;</th><th scope=col>&lt;dbl&gt;</th><th scope=col>&lt;dbl&gt;</th><th scope=col>&lt;dbl&gt;</th></tr>\n",
              "</thead>\n",
              "<tbody>\n",
              "\t<tr><td>John Glen         </td><td>30.0</td><td>16.9</td><td> 0.0</td></tr>\n",
              "\t<tr><td>Lee Tamahori      </td><td>17.9</td><td> 0.0</td><td> 0.0</td></tr>\n",
              "\t<tr><td>Sam Mendes        </td><td>14.5</td><td> 0.0</td><td>14.5</td></tr>\n",
              "\t<tr><td>Michael Apted     </td><td>13.5</td><td> 0.0</td><td> 0.0</td></tr>\n",
              "\t<tr><td>Roger Spottiswoode</td><td>10.0</td><td> 0.0</td><td> 0.0</td></tr>\n",
              "\t<tr><td>Guy Hamilton      </td><td> 9.0</td><td> 0.0</td><td> 0.0</td></tr>\n",
              "\t<tr><td>Martin Campbell   </td><td> 8.4</td><td> 0.0</td><td> 3.3</td></tr>\n",
              "\t<tr><td>Marc Forster      </td><td> 8.1</td><td> 0.0</td><td> 8.1</td></tr>\n",
              "\t<tr><td>Terence Young     </td><td> 6.9</td><td> 0.0</td><td> 0.0</td></tr>\n",
              "\t<tr><td>Lewis Gilbert     </td><td> 4.4</td><td> 0.0</td><td> 0.0</td></tr>\n",
              "\t<tr><td>Peter R. Hunt     </td><td> 0.6</td><td> 0.0</td><td> 0.0</td></tr>\n",
              "\t<tr><td>Irvin Kershner    </td><td> 0.0</td><td> 0.0</td><td> 0.0</td></tr>\n",
              "\t<tr><td>Ken Hughes        </td><td> 0.0</td><td> 0.0</td><td> 0.0</td></tr>\n",
              "</tbody>\n",
              "</table>\n"
            ]
          },
          "metadata": {
            "tags": []
          }
        }
      ]
    },
    {
      "cell_type": "markdown",
      "metadata": {
        "id": "uzQ397bPJKx8"
      },
      "source": [
        "# EJERCICIOS\n",
        "---\n",
        "\n",
        "\n"
      ]
    },
    {
      "cell_type": "markdown",
      "source": [
        "## SELECCIONANDO COLUMNAS Y FILTRANDO FILAS"
      ],
      "metadata": {
        "id": "h_US7tkXF66F"
      }
    },
    {
      "cell_type": "markdown",
      "metadata": {
        "id": "zVZ6ejzbA9RS"
      },
      "source": [
        "#### EX.1.A\n",
        "Partiendo del dataset de personajes de Star Wars, filtrar por aquellos que sean originarios de \"Tatooine\", \"Naboo\" o \"Kashyyyk\". Seleccionar únicamente columnas name, homeworld y species\n",
        "\n"
      ]
    },
    {
      "cell_type": "code",
      "metadata": {
        "id": "zZEC53WNEXGF",
        "colab": {
          "base_uri": "https://localhost:8080/"
        },
        "outputId": "a05a0919-00aa-44bd-efc8-4b26c5281a5c"
      },
      "source": [
        "df_star_wars = fread(\"https://data-wizards.s3.amazonaws.com/datasets/dataset_star_wars.csv\")\n",
        "glimpse(df_star_wars)"
      ],
      "execution_count": null,
      "outputs": [
        {
          "output_type": "stream",
          "text": [
            "Rows: 87\n",
            "Columns: 10\n",
            "$ name       \u001b[3m\u001b[90m<chr>\u001b[39m\u001b[23m \"Mon Mothma\", \"Yoda\", \"Tion Medon\", \"Ratts Tyerell\", \"Luke…\n",
            "$ height     \u001b[3m\u001b[90m<int>\u001b[39m\u001b[23m 150, 66, 206, 79, 172, 96, 165, 228, 188, 188, 184, 150, 1…\n",
            "$ mass       \u001b[3m\u001b[90m<dbl>\u001b[39m\u001b[23m NA, 17.0, 80.0, 15.0, 77.0, 32.0, 75.0, 112.0, 79.0, 84.0,…\n",
            "$ hair_color \u001b[3m\u001b[90m<chr>\u001b[39m\u001b[23m \"auburn\", \"white\", \"none\", \"none\", \"blond\", \"\", \"brown\", \"…\n",
            "$ skin_color \u001b[3m\u001b[90m<chr>\u001b[39m\u001b[23m \"fair\", \"green\", \"grey\", \"grey & blue\", \"fair\", \"white & b…\n",
            "$ eye_color  \u001b[3m\u001b[90m<chr>\u001b[39m\u001b[23m \"blue\", \"brown\", \"black\", \"unknown\", \"blue\", \"red\", \"blue\"…\n",
            "$ birth_year \u001b[3m\u001b[90m<dbl>\u001b[39m\u001b[23m 48.0, 896.0, NA, NA, 19.0, 33.0, 47.0, 200.0, NA, 72.0, NA…\n",
            "$ gender     \u001b[3m\u001b[90m<chr>\u001b[39m\u001b[23m \"female\", \"male\", \"male\", \"male\", \"male\", \"\", \"female\", \"m…\n",
            "$ homeworld  \u001b[3m\u001b[90m<chr>\u001b[39m\u001b[23m \"Chandrila\", \"\", \"Utapau\", \"Aleen Minor\", \"Tatooine\", \"Nab…\n",
            "$ species    \u001b[3m\u001b[90m<chr>\u001b[39m\u001b[23m \"Human\", \"Yoda's species\", \"Pau'an\", \"Aleena\", \"Human\", \"D…\n"
          ],
          "name": "stdout"
        }
      ]
    },
    {
      "cell_type": "code",
      "metadata": {
        "id": "aQXl1bDMCPUs",
        "colab": {
          "base_uri": "https://localhost:8080/",
          "height": 498
        },
        "outputId": "b191dc02-bdb2-4307-93b9-cf3c818c9231"
      },
      "source": [
        "df_star_wars %>% filter(\n",
        "  homeworld %in% c('Tatooine','Naboo','Kashyyyk')\n",
        "  ,species != 'Droid'\n",
        ") %>% select(\n",
        "  name\n",
        "  ,homeworld\n",
        "  ,species\n",
        ")"
      ],
      "execution_count": null,
      "outputs": [
        {
          "output_type": "display_data",
          "data": {
            "text/plain": [
              "   name               homeworld species\n",
              "1  Luke Skywalker     Tatooine  Human  \n",
              "2  Beru Whitesun lars Tatooine  Human  \n",
              "3  Chewbacca          Kashyyyk  Wookiee\n",
              "4  Rugor Nass         Naboo     Gungan \n",
              "5  Tarfful            Kashyyyk  Wookiee\n",
              "6  Palpatine          Naboo     Human  \n",
              "7  Biggs Darklighter  Tatooine  Human  \n",
              "8  Shmi Skywalker     Tatooine  Human  \n",
              "9  Cordé              Naboo     Human  \n",
              "10 Gregar Typho       Naboo     Human  \n",
              "11 Dormé              Naboo     Human  \n",
              "12 Quarsh Panaka      Naboo            \n",
              "13 Darth Vader        Tatooine  Human  \n",
              "14 Roos Tarpals       Naboo     Gungan \n",
              "15 Owen Lars          Tatooine  Human  \n",
              "16 Cliegg Lars        Tatooine  Human  \n",
              "17 Anakin Skywalker   Tatooine  Human  \n",
              "18 Padmé Amidala      Naboo     Human  \n",
              "19 Ric Olié           Naboo            \n",
              "20 Jar Jar Binks      Naboo     Gungan "
            ],
            "text/latex": "A data.table: 20 × 3\n\\begin{tabular}{lll}\n name & homeworld & species\\\\\n <chr> & <chr> & <chr>\\\\\n\\hline\n\t Luke Skywalker     & Tatooine & Human  \\\\\n\t Beru Whitesun lars & Tatooine & Human  \\\\\n\t Chewbacca          & Kashyyyk & Wookiee\\\\\n\t Rugor Nass         & Naboo    & Gungan \\\\\n\t Tarfful            & Kashyyyk & Wookiee\\\\\n\t Palpatine          & Naboo    & Human  \\\\\n\t Biggs Darklighter  & Tatooine & Human  \\\\\n\t Shmi Skywalker     & Tatooine & Human  \\\\\n\t Cordé              & Naboo    & Human  \\\\\n\t Gregar Typho       & Naboo    & Human  \\\\\n\t Dormé              & Naboo    & Human  \\\\\n\t Quarsh Panaka      & Naboo    &        \\\\\n\t Darth Vader        & Tatooine & Human  \\\\\n\t Roos Tarpals       & Naboo    & Gungan \\\\\n\t Owen Lars          & Tatooine & Human  \\\\\n\t Cliegg Lars        & Tatooine & Human  \\\\\n\t Anakin Skywalker   & Tatooine & Human  \\\\\n\t Padmé Amidala      & Naboo    & Human  \\\\\n\t Ric Olié           & Naboo    &        \\\\\n\t Jar Jar Binks      & Naboo    & Gungan \\\\\n\\end{tabular}\n",
            "text/markdown": "\nA data.table: 20 × 3\n\n| name &lt;chr&gt; | homeworld &lt;chr&gt; | species &lt;chr&gt; |\n|---|---|---|\n| Luke Skywalker     | Tatooine | Human   |\n| Beru Whitesun lars | Tatooine | Human   |\n| Chewbacca          | Kashyyyk | Wookiee |\n| Rugor Nass         | Naboo    | Gungan  |\n| Tarfful            | Kashyyyk | Wookiee |\n| Palpatine          | Naboo    | Human   |\n| Biggs Darklighter  | Tatooine | Human   |\n| Shmi Skywalker     | Tatooine | Human   |\n| Cordé              | Naboo    | Human   |\n| Gregar Typho       | Naboo    | Human   |\n| Dormé              | Naboo    | Human   |\n| Quarsh Panaka      | Naboo    | <!----> |\n| Darth Vader        | Tatooine | Human   |\n| Roos Tarpals       | Naboo    | Gungan  |\n| Owen Lars          | Tatooine | Human   |\n| Cliegg Lars        | Tatooine | Human   |\n| Anakin Skywalker   | Tatooine | Human   |\n| Padmé Amidala      | Naboo    | Human   |\n| Ric Olié           | Naboo    | <!----> |\n| Jar Jar Binks      | Naboo    | Gungan  |\n\n",
            "text/html": [
              "<table>\n",
              "<caption>A data.table: 20 × 3</caption>\n",
              "<thead>\n",
              "\t<tr><th scope=col>name</th><th scope=col>homeworld</th><th scope=col>species</th></tr>\n",
              "\t<tr><th scope=col>&lt;chr&gt;</th><th scope=col>&lt;chr&gt;</th><th scope=col>&lt;chr&gt;</th></tr>\n",
              "</thead>\n",
              "<tbody>\n",
              "\t<tr><td>Luke Skywalker    </td><td>Tatooine</td><td>Human  </td></tr>\n",
              "\t<tr><td>Beru Whitesun lars</td><td>Tatooine</td><td>Human  </td></tr>\n",
              "\t<tr><td>Chewbacca         </td><td>Kashyyyk</td><td>Wookiee</td></tr>\n",
              "\t<tr><td>Rugor Nass        </td><td>Naboo   </td><td>Gungan </td></tr>\n",
              "\t<tr><td>Tarfful           </td><td>Kashyyyk</td><td>Wookiee</td></tr>\n",
              "\t<tr><td>Palpatine         </td><td>Naboo   </td><td>Human  </td></tr>\n",
              "\t<tr><td>Biggs Darklighter </td><td>Tatooine</td><td>Human  </td></tr>\n",
              "\t<tr><td>Shmi Skywalker    </td><td>Tatooine</td><td>Human  </td></tr>\n",
              "\t<tr><td>Cordé             </td><td>Naboo   </td><td>Human  </td></tr>\n",
              "\t<tr><td>Gregar Typho      </td><td>Naboo   </td><td>Human  </td></tr>\n",
              "\t<tr><td>Dormé             </td><td>Naboo   </td><td>Human  </td></tr>\n",
              "\t<tr><td>Quarsh Panaka     </td><td>Naboo   </td><td>       </td></tr>\n",
              "\t<tr><td>Darth Vader       </td><td>Tatooine</td><td>Human  </td></tr>\n",
              "\t<tr><td>Roos Tarpals      </td><td>Naboo   </td><td>Gungan </td></tr>\n",
              "\t<tr><td>Owen Lars         </td><td>Tatooine</td><td>Human  </td></tr>\n",
              "\t<tr><td>Cliegg Lars       </td><td>Tatooine</td><td>Human  </td></tr>\n",
              "\t<tr><td>Anakin Skywalker  </td><td>Tatooine</td><td>Human  </td></tr>\n",
              "\t<tr><td>Padmé Amidala     </td><td>Naboo   </td><td>Human  </td></tr>\n",
              "\t<tr><td>Ric Olié          </td><td>Naboo   </td><td>       </td></tr>\n",
              "\t<tr><td>Jar Jar Binks     </td><td>Naboo   </td><td>Gungan </td></tr>\n",
              "</tbody>\n",
              "</table>\n"
            ]
          },
          "metadata": {
            "tags": []
          }
        }
      ]
    },
    {
      "cell_type": "markdown",
      "metadata": {
        "id": "p4VdllEpCRjk"
      },
      "source": [
        "#### EX.1.B\n",
        "Importa el dataset de valoraciones de películas de IMDB, filtrar por películas (i) cuyo actor principal sea Johnny Depp y su valoración (*imdb score*) mayor a 7 o (ii) cuyo director sea James Cameron y su valoración mayor a 8. Seleccionar únicamente variables *actor_1_name*, *director_name*, *imdb_score*"
      ]
    },
    {
      "cell_type": "code",
      "metadata": {
        "id": "bj8IsadUCUqV",
        "colab": {
          "base_uri": "https://localhost:8080/"
        },
        "outputId": "dcefc485-7f42-463b-cbe4-ef27bb91e01f"
      },
      "source": [
        "# Importar el dataset\n",
        "df_movies = fread(\"https://data-wizards.s3.amazonaws.com/datasets/movies.csv\")\n",
        "glimpse(df_movies)"
      ],
      "execution_count": null,
      "outputs": [
        {
          "output_type": "stream",
          "text": [
            "Rows: 4,916\n",
            "Columns: 28\n",
            "$ color                     \u001b[3m\u001b[90m<chr>\u001b[39m\u001b[23m \"Color\", \"Color\", \"Color\", \"Color\", \"\", \"Co…\n",
            "$ director_name             \u001b[3m\u001b[90m<chr>\u001b[39m\u001b[23m \"James Cameron\", \"Gore Verbinski\", \"Sam Men…\n",
            "$ num_critic_for_reviews    \u001b[3m\u001b[90m<int>\u001b[39m\u001b[23m 723, 302, 602, 813, NA, 462, 392, 324, 635,…\n",
            "$ duration                  \u001b[3m\u001b[90m<int>\u001b[39m\u001b[23m 178, 169, 148, 164, NA, 132, 156, 100, 141,…\n",
            "$ director_facebook_likes   \u001b[3m\u001b[90m<int>\u001b[39m\u001b[23m 0, 563, 0, 22000, 131, 475, 0, 15, 0, 282, …\n",
            "$ actor_3_facebook_likes    \u001b[3m\u001b[90m<int>\u001b[39m\u001b[23m 855, 1000, 161, 23000, NA, 530, 4000, 284, …\n",
            "$ actor_2_name              \u001b[3m\u001b[90m<chr>\u001b[39m\u001b[23m \"Joel David Moore\", \"Orlando Bloom\", \"Rory …\n",
            "$ actor_1_facebook_likes    \u001b[3m\u001b[90m<int>\u001b[39m\u001b[23m 1000, 40000, 11000, 27000, 131, 640, 24000,…\n",
            "$ gross                     \u001b[3m\u001b[90m<dbl>\u001b[39m\u001b[23m 760505847, 309404152, 200074175, 448130642,…\n",
            "$ genres                    \u001b[3m\u001b[90m<chr>\u001b[39m\u001b[23m \"Action|Adventure|Fantasy|Sci-Fi\", \"Action|…\n",
            "$ actor_1_name              \u001b[3m\u001b[90m<chr>\u001b[39m\u001b[23m \"CCH Pounder\", \"Johnny Depp\", \"Christoph Wa…\n",
            "$ movie_title               \u001b[3m\u001b[90m<chr>\u001b[39m\u001b[23m \"Avatar\", \"Pirates of the Caribbean: At Wor…\n",
            "$ num_voted_users           \u001b[3m\u001b[90m<int>\u001b[39m\u001b[23m 886204, 471220, 275868, 1144337, 8, 212204,…\n",
            "$ cast_total_facebook_likes \u001b[3m\u001b[90m<int>\u001b[39m\u001b[23m 4834, 48350, 11700, 106759, 143, 1873, 4605…\n",
            "$ actor_3_name              \u001b[3m\u001b[90m<chr>\u001b[39m\u001b[23m \"Wes Studi\", \"Jack Davenport\", \"Stephanie S…\n",
            "$ facenumber_in_poster      \u001b[3m\u001b[90m<int>\u001b[39m\u001b[23m 0, 0, 1, 0, 0, 1, 0, 1, 4, 3, 0, 0, 1, 2, 1…\n",
            "$ plot_keywords             \u001b[3m\u001b[90m<chr>\u001b[39m\u001b[23m \"avatar|future|marine|native|paraplegic\", \"…\n",
            "$ movie_imdb_link           \u001b[3m\u001b[90m<chr>\u001b[39m\u001b[23m \"http://www.imdb.com/title/tt0499549/?ref_=…\n",
            "$ num_user_for_reviews      \u001b[3m\u001b[90m<int>\u001b[39m\u001b[23m 3054, 1238, 994, 2701, NA, 738, 1902, 387, …\n",
            "$ language                  \u001b[3m\u001b[90m<chr>\u001b[39m\u001b[23m \"English\", \"English\", \"English\", \"English\",…\n",
            "$ country                   \u001b[3m\u001b[90m<chr>\u001b[39m\u001b[23m \"USA\", \"USA\", \"UK\", \"USA\", \"\", \"USA\", \"USA\"…\n",
            "$ content_rating            \u001b[3m\u001b[90m<chr>\u001b[39m\u001b[23m \"PG-13\", \"PG-13\", \"PG-13\", \"PG-13\", \"\", \"PG…\n",
            "$ budget                    \u001b[3m\u001b[90m<dbl>\u001b[39m\u001b[23m 237000000, 300000000, 245000000, 250000000,…\n",
            "$ title_year                \u001b[3m\u001b[90m<int>\u001b[39m\u001b[23m 2009, 2007, 2015, 2012, NA, 2012, 2007, 201…\n",
            "$ actor_2_facebook_likes    \u001b[3m\u001b[90m<int>\u001b[39m\u001b[23m 936, 5000, 393, 23000, 12, 632, 11000, 553,…\n",
            "$ imdb_score                \u001b[3m\u001b[90m<dbl>\u001b[39m\u001b[23m 7.9, 7.1, 6.8, 8.5, 7.1, 6.6, 6.2, 7.8, 7.5…\n",
            "$ aspect_ratio              \u001b[3m\u001b[90m<dbl>\u001b[39m\u001b[23m 1.78, 2.35, 2.35, 2.35, NA, 2.35, 2.35, 1.8…\n",
            "$ movie_facebook_likes      \u001b[3m\u001b[90m<int>\u001b[39m\u001b[23m 33000, 0, 85000, 164000, 0, 24000, 0, 29000…\n"
          ],
          "name": "stdout"
        }
      ]
    },
    {
      "cell_type": "code",
      "metadata": {
        "id": "mR_R-PepFw9x",
        "colab": {
          "base_uri": "https://localhost:8080/",
          "height": 435
        },
        "outputId": "7d46e5f2-940b-4a6d-e29d-cd5003be6c15"
      },
      "source": [
        "df_movies %>% filter(\n",
        "  (actor_1_name == 'Johnny Depp' & imdb_score>7) | (director_name == 'James Cameron' & imdb_score>8)\n",
        ") %>% select(\n",
        "  actor_1_name\n",
        "  ,director_name\n",
        "  ,imdb_score\n",
        ")"
      ],
      "execution_count": null,
      "outputs": [
        {
          "output_type": "display_data",
          "data": {
            "text/plain": [
              "   actor_1_name  director_name   imdb_score\n",
              "1  Johnny Depp   Gore Verbinski  7.1       \n",
              "2  Johnny Depp   Gore Verbinski  7.3       \n",
              "3  Johnny Depp   Gore Verbinski  7.2       \n",
              "4  Johnny Depp   Gore Verbinski  8.1       \n",
              "5  Joe Morton    James Cameron   8.5       \n",
              "6  Johnny Depp   Wes Craven      7.5       \n",
              "7  Johnny Depp   Mike Newell     7.8       \n",
              "8  Johnny Depp   Ted Demme       7.6       \n",
              "9  Johnny Depp   Tim Burton      7.4       \n",
              "10 Johnny Depp   Marc Forster    7.8       \n",
              "11 Johnny Depp   Tim Burton      7.9       \n",
              "12 Johnny Depp   Terry Gilliam   7.7       \n",
              "13 Johnny Depp   Tim Burton      7.9       \n",
              "14 Michael Biehn James Cameron   8.4       \n",
              "15 Johnny Depp   Lasse Hallström 7.8       \n",
              "16 Michael Biehn James Cameron   8.1       \n",
              "17 Johnny Depp   Oliver Stone    8.1       "
            ],
            "text/latex": "A data.table: 17 × 3\n\\begin{tabular}{lll}\n actor\\_1\\_name & director\\_name & imdb\\_score\\\\\n <chr> & <chr> & <dbl>\\\\\n\\hline\n\t Johnny Depp   & Gore Verbinski  & 7.1\\\\\n\t Johnny Depp   & Gore Verbinski  & 7.3\\\\\n\t Johnny Depp   & Gore Verbinski  & 7.2\\\\\n\t Johnny Depp   & Gore Verbinski  & 8.1\\\\\n\t Joe Morton    & James Cameron   & 8.5\\\\\n\t Johnny Depp   & Wes Craven      & 7.5\\\\\n\t Johnny Depp   & Mike Newell     & 7.8\\\\\n\t Johnny Depp   & Ted Demme       & 7.6\\\\\n\t Johnny Depp   & Tim Burton      & 7.4\\\\\n\t Johnny Depp   & Marc Forster    & 7.8\\\\\n\t Johnny Depp   & Tim Burton      & 7.9\\\\\n\t Johnny Depp   & Terry Gilliam   & 7.7\\\\\n\t Johnny Depp   & Tim Burton      & 7.9\\\\\n\t Michael Biehn & James Cameron   & 8.4\\\\\n\t Johnny Depp   & Lasse Hallström & 7.8\\\\\n\t Michael Biehn & James Cameron   & 8.1\\\\\n\t Johnny Depp   & Oliver Stone    & 8.1\\\\\n\\end{tabular}\n",
            "text/markdown": "\nA data.table: 17 × 3\n\n| actor_1_name &lt;chr&gt; | director_name &lt;chr&gt; | imdb_score &lt;dbl&gt; |\n|---|---|---|\n| Johnny Depp   | Gore Verbinski  | 7.1 |\n| Johnny Depp   | Gore Verbinski  | 7.3 |\n| Johnny Depp   | Gore Verbinski  | 7.2 |\n| Johnny Depp   | Gore Verbinski  | 8.1 |\n| Joe Morton    | James Cameron   | 8.5 |\n| Johnny Depp   | Wes Craven      | 7.5 |\n| Johnny Depp   | Mike Newell     | 7.8 |\n| Johnny Depp   | Ted Demme       | 7.6 |\n| Johnny Depp   | Tim Burton      | 7.4 |\n| Johnny Depp   | Marc Forster    | 7.8 |\n| Johnny Depp   | Tim Burton      | 7.9 |\n| Johnny Depp   | Terry Gilliam   | 7.7 |\n| Johnny Depp   | Tim Burton      | 7.9 |\n| Michael Biehn | James Cameron   | 8.4 |\n| Johnny Depp   | Lasse Hallström | 7.8 |\n| Michael Biehn | James Cameron   | 8.1 |\n| Johnny Depp   | Oliver Stone    | 8.1 |\n\n",
            "text/html": [
              "<table>\n",
              "<caption>A data.table: 17 × 3</caption>\n",
              "<thead>\n",
              "\t<tr><th scope=col>actor_1_name</th><th scope=col>director_name</th><th scope=col>imdb_score</th></tr>\n",
              "\t<tr><th scope=col>&lt;chr&gt;</th><th scope=col>&lt;chr&gt;</th><th scope=col>&lt;dbl&gt;</th></tr>\n",
              "</thead>\n",
              "<tbody>\n",
              "\t<tr><td>Johnny Depp  </td><td>Gore Verbinski </td><td>7.1</td></tr>\n",
              "\t<tr><td>Johnny Depp  </td><td>Gore Verbinski </td><td>7.3</td></tr>\n",
              "\t<tr><td>Johnny Depp  </td><td>Gore Verbinski </td><td>7.2</td></tr>\n",
              "\t<tr><td>Johnny Depp  </td><td>Gore Verbinski </td><td>8.1</td></tr>\n",
              "\t<tr><td>Joe Morton   </td><td>James Cameron  </td><td>8.5</td></tr>\n",
              "\t<tr><td>Johnny Depp  </td><td>Wes Craven     </td><td>7.5</td></tr>\n",
              "\t<tr><td>Johnny Depp  </td><td>Mike Newell    </td><td>7.8</td></tr>\n",
              "\t<tr><td>Johnny Depp  </td><td>Ted Demme      </td><td>7.6</td></tr>\n",
              "\t<tr><td>Johnny Depp  </td><td>Tim Burton     </td><td>7.4</td></tr>\n",
              "\t<tr><td>Johnny Depp  </td><td>Marc Forster   </td><td>7.8</td></tr>\n",
              "\t<tr><td>Johnny Depp  </td><td>Tim Burton     </td><td>7.9</td></tr>\n",
              "\t<tr><td>Johnny Depp  </td><td>Terry Gilliam  </td><td>7.7</td></tr>\n",
              "\t<tr><td>Johnny Depp  </td><td>Tim Burton     </td><td>7.9</td></tr>\n",
              "\t<tr><td>Michael Biehn</td><td>James Cameron  </td><td>8.4</td></tr>\n",
              "\t<tr><td>Johnny Depp  </td><td>Lasse Hallström</td><td>7.8</td></tr>\n",
              "\t<tr><td>Michael Biehn</td><td>James Cameron  </td><td>8.1</td></tr>\n",
              "\t<tr><td>Johnny Depp  </td><td>Oliver Stone   </td><td>8.1</td></tr>\n",
              "</tbody>\n",
              "</table>\n"
            ]
          },
          "metadata": {
            "tags": []
          }
        }
      ]
    },
    {
      "cell_type": "markdown",
      "source": [
        "## ORDERNAR FILAS Y CREAR NUEVAS COLUMNAS"
      ],
      "metadata": {
        "id": "aXRwNUFZF-Tf"
      }
    },
    {
      "cell_type": "markdown",
      "metadata": {
        "id": "uwhCPucp_svi"
      },
      "source": [
        "#### EX.2.A\n",
        "Importa el dataset con datos del WHO (World Health Organization) y crea una nueva variable que identifique si un país está por debajo de la mediana de PIB per cápita (a nivel mundial). Filtra por países europeos que estén por debajo de la mediana mundial de PIB per cápita y selecciona únicamente las variables relevantes\n",
        "\n",
        "\n",
        "\n",
        "\n",
        "\n",
        "\n"
      ]
    },
    {
      "cell_type": "code",
      "metadata": {
        "colab": {
          "base_uri": "https://localhost:8080/"
        },
        "id": "0FL0Go3Av8l0",
        "outputId": "d4a98478-f33a-4995-af1b-58d938ef9b0e"
      },
      "source": [
        "df_who = fread(\"https://data-wizards.s3.amazonaws.com/datasets/dataset_na_who.csv\")\n",
        "glimpse(df_who)"
      ],
      "execution_count": null,
      "outputs": [
        {
          "output_type": "stream",
          "text": [
            "Rows: 196\n",
            "Columns: 13\n",
            "$ Country                                                  \u001b[3m\u001b[90m<chr>\u001b[39m\u001b[23m \"Afghanistan…\n",
            "$ CountryID                                                \u001b[3m\u001b[90m<int>\u001b[39m\u001b[23m 1, 2, 3, 4, …\n",
            "$ ContinentID                                              \u001b[3m\u001b[90m<int>\u001b[39m\u001b[23m 1, 2, 3, 2, …\n",
            "$ `Adolescent fertility rate (%)`                          \u001b[3m\u001b[90m<int>\u001b[39m\u001b[23m 151, 27, 6, …\n",
            "$ `Adult literacy rate (%)`                                \u001b[3m\u001b[90m<dbl>\u001b[39m\u001b[23m 28.0, 98.7, …\n",
            "$ `Gross national income per capita (PPP international $)` \u001b[3m\u001b[90m<int>\u001b[39m\u001b[23m NA, 6000, 59…\n",
            "$ `Net primary school enrolment ratio female (%)`          \u001b[3m\u001b[90m<int>\u001b[39m\u001b[23m NA, 93, 94, …\n",
            "$ `Net primary school enrolment ratio male (%)`            \u001b[3m\u001b[90m<int>\u001b[39m\u001b[23m NA, 94, 96, …\n",
            "$ `Population (in thousands) total`                        \u001b[3m\u001b[90m<int>\u001b[39m\u001b[23m 26088, 3172,…\n",
            "$ `Population annual growth rate (%)`                      \u001b[3m\u001b[90m<dbl>\u001b[39m\u001b[23m 4.0, 0.6, 1.…\n",
            "$ `Population in urban areas (%)`                          \u001b[3m\u001b[90m<int>\u001b[39m\u001b[23m 23, 46, 64, …\n",
            "$ `Population living below the poverty line`               \u001b[3m\u001b[90m<dbl>\u001b[39m\u001b[23m NA, 2.0, NA,…\n",
            "$ Continent                                                \u001b[3m\u001b[90m<chr>\u001b[39m\u001b[23m \"Middle East…\n"
          ],
          "name": "stdout"
        }
      ]
    },
    {
      "cell_type": "code",
      "metadata": {
        "colab": {
          "base_uri": "https://localhost:8080/",
          "height": 288
        },
        "id": "eD_c82t5v8uL",
        "outputId": "3559e81e-d8fa-4fce-fde9-4ce9e0cb1203"
      },
      "source": [
        "df_who %>% mutate(\n",
        "  is_below_median_GDP = if_else(\n",
        "    `Gross national income per capita (PPP international $)`< median(df_who$`Gross national income per capita (PPP international $)`,na.rm = TRUE)\n",
        "    ,1\n",
        "    ,0\n",
        "    )\n",
        ") %>% filter(\n",
        "  Continent == 'Europe'\n",
        "  ,is_below_median_GDP==1\n",
        ") %>% select(\n",
        "  Country\n",
        "  ,Continent\n",
        "  ,`Gross national income per capita (PPP international $)`\n",
        "  ,is_below_median_GDP\n",
        ") %>% arrange(\n",
        "  desc(`Gross national income per capita (PPP international $)`)\n",
        ")"
      ],
      "execution_count": null,
      "outputs": [
        {
          "output_type": "display_data",
          "data": {
            "text/plain": [
              "   Country      Continent\n",
              "1  Ukraine      Europe   \n",
              "2  Albania      Europe   \n",
              "3  Azerbaijan   Europe   \n",
              "4  Armenia      Europe   \n",
              "5  Turkmenistan Europe   \n",
              "6  Georgia      Europe   \n",
              "7  Moldova      Europe   \n",
              "8  Uzbekistan   Europe   \n",
              "9  Kyrgyzstan   Europe   \n",
              "10 Tajikistan   Europe   \n",
              "   Gross national income per capita (PPP international $) is_below_median_GDP\n",
              "1  6110                                                   1                  \n",
              "2  6000                                                   1                  \n",
              "3  5430                                                   1                  \n",
              "4  4950                                                   1                  \n",
              "5  3990                                                   1                  \n",
              "6  3880                                                   1                  \n",
              "7  2660                                                   1                  \n",
              "8  2190                                                   1                  \n",
              "9  1790                                                   1                  \n",
              "10 1560                                                   1                  "
            ],
            "text/latex": "A data.table: 10 × 4\n\\begin{tabular}{llll}\n Country & Continent & Gross national income per capita (PPP international \\$) & is\\_below\\_median\\_GDP\\\\\n <chr> & <chr> & <int> & <dbl>\\\\\n\\hline\n\t Ukraine      & Europe & 6110 & 1\\\\\n\t Albania      & Europe & 6000 & 1\\\\\n\t Azerbaijan   & Europe & 5430 & 1\\\\\n\t Armenia      & Europe & 4950 & 1\\\\\n\t Turkmenistan & Europe & 3990 & 1\\\\\n\t Georgia      & Europe & 3880 & 1\\\\\n\t Moldova      & Europe & 2660 & 1\\\\\n\t Uzbekistan   & Europe & 2190 & 1\\\\\n\t Kyrgyzstan   & Europe & 1790 & 1\\\\\n\t Tajikistan   & Europe & 1560 & 1\\\\\n\\end{tabular}\n",
            "text/markdown": "\nA data.table: 10 × 4\n\n| Country &lt;chr&gt; | Continent &lt;chr&gt; | Gross national income per capita (PPP international $) &lt;int&gt; | is_below_median_GDP &lt;dbl&gt; |\n|---|---|---|---|\n| Ukraine      | Europe | 6110 | 1 |\n| Albania      | Europe | 6000 | 1 |\n| Azerbaijan   | Europe | 5430 | 1 |\n| Armenia      | Europe | 4950 | 1 |\n| Turkmenistan | Europe | 3990 | 1 |\n| Georgia      | Europe | 3880 | 1 |\n| Moldova      | Europe | 2660 | 1 |\n| Uzbekistan   | Europe | 2190 | 1 |\n| Kyrgyzstan   | Europe | 1790 | 1 |\n| Tajikistan   | Europe | 1560 | 1 |\n\n",
            "text/html": [
              "<table>\n",
              "<caption>A data.table: 10 × 4</caption>\n",
              "<thead>\n",
              "\t<tr><th scope=col>Country</th><th scope=col>Continent</th><th scope=col>Gross national income per capita (PPP international $)</th><th scope=col>is_below_median_GDP</th></tr>\n",
              "\t<tr><th scope=col>&lt;chr&gt;</th><th scope=col>&lt;chr&gt;</th><th scope=col>&lt;int&gt;</th><th scope=col>&lt;dbl&gt;</th></tr>\n",
              "</thead>\n",
              "<tbody>\n",
              "\t<tr><td>Ukraine     </td><td>Europe</td><td>6110</td><td>1</td></tr>\n",
              "\t<tr><td>Albania     </td><td>Europe</td><td>6000</td><td>1</td></tr>\n",
              "\t<tr><td>Azerbaijan  </td><td>Europe</td><td>5430</td><td>1</td></tr>\n",
              "\t<tr><td>Armenia     </td><td>Europe</td><td>4950</td><td>1</td></tr>\n",
              "\t<tr><td>Turkmenistan</td><td>Europe</td><td>3990</td><td>1</td></tr>\n",
              "\t<tr><td>Georgia     </td><td>Europe</td><td>3880</td><td>1</td></tr>\n",
              "\t<tr><td>Moldova     </td><td>Europe</td><td>2660</td><td>1</td></tr>\n",
              "\t<tr><td>Uzbekistan  </td><td>Europe</td><td>2190</td><td>1</td></tr>\n",
              "\t<tr><td>Kyrgyzstan  </td><td>Europe</td><td>1790</td><td>1</td></tr>\n",
              "\t<tr><td>Tajikistan  </td><td>Europe</td><td>1560</td><td>1</td></tr>\n",
              "</tbody>\n",
              "</table>\n"
            ]
          },
          "metadata": {
            "tags": []
          }
        }
      ]
    },
    {
      "cell_type": "markdown",
      "metadata": {
        "id": "UxEAmZcP_pUS"
      },
      "source": [
        "#### EX.2.B\n",
        "Partiendo del dataset con empresas del ranking de fortune, filtrar por empresas del sector tecnológico que tengan beneficios positivos. Para estas empresas, crear una nueva variable con una clasificación de empresas del sector tecnológico según el cuartil de beneficios. Ordenar según beneficio (descendente) y seleccionar únicamente las variables relevantes en este ejercicio\n"
      ]
    },
    {
      "cell_type": "code",
      "metadata": {
        "id": "bNL_i2kp_nwl",
        "colab": {
          "base_uri": "https://localhost:8080/"
        },
        "outputId": "9ee71b5e-076c-4d61-8df5-4cc4212d8f04"
      },
      "source": [
        "# Importamos dataset\n",
        "df_fortune1000 = fread(\"https://data-wizards.s3.amazonaws.com/datasets/fortune1000.csv\")\n",
        "glimpse(df_fortune1000)"
      ],
      "execution_count": null,
      "outputs": [
        {
          "output_type": "stream",
          "text": [
            "Rows: 1,000\n",
            "Columns: 8\n",
            "$ Rank      \u001b[3m\u001b[90m<int>\u001b[39m\u001b[23m 1, 2, 3, 4, 5, 6, 7, 8, 9, 10, 11, 12, 13, 14, 15, 16, 17, …\n",
            "$ Company   \u001b[3m\u001b[90m<chr>\u001b[39m\u001b[23m \"Walmart\", \"Exxon Mobil\", \"Apple\", \"Berkshire Hathaway\", \"M…\n",
            "$ Sector    \u001b[3m\u001b[90m<chr>\u001b[39m\u001b[23m \"Retailing\", \"Energy\", \"Technology\", \"Financials\", \"Health …\n",
            "$ Industry  \u001b[3m\u001b[90m<chr>\u001b[39m\u001b[23m \"General Merchandisers\", \"Petroleum Refining\", \"Computers, …\n",
            "$ Location  \u001b[3m\u001b[90m<chr>\u001b[39m\u001b[23m \"Bentonville, AR\", \"Irving, TX\", \"Cupertino, CA\", \"Omaha, N…\n",
            "$ Revenue   \u001b[3m\u001b[90m<int>\u001b[39m\u001b[23m 482130, 246204, 233715, 210821, 181241, 157107, 153290, 152…\n",
            "$ Profits   \u001b[3m\u001b[90m<int>\u001b[39m\u001b[23m 14694, 16150, 53394, 24083, 1476, 5813, 5237, 9687, 7373, 1…\n",
            "$ Employees \u001b[3m\u001b[90m<int>\u001b[39m\u001b[23m 2300000, 75600, 110000, 331000, 70400, 200000, 199000, 2150…\n"
          ],
          "name": "stdout"
        }
      ]
    },
    {
      "cell_type": "code",
      "metadata": {
        "colab": {
          "base_uri": "https://localhost:8080/",
          "height": 1000
        },
        "id": "CZrbQjh6mEWX",
        "outputId": "7ef7e7aa-5d75-4df5-f462-21f592220f79"
      },
      "source": [
        "df_fortune1000 %>% filter(\n",
        "  Sector == 'Technology'\n",
        "  ,Profits>0\n",
        ") %>% mutate(\n",
        "  Segment = case_when(\n",
        "    Profits > quantile(df_fortune1000$Profits[df_fortune1000$Sector=='Technology' & df_fortune1000$Profits>0])[4] ~ 'top quantile'\n",
        "    ,Profits > quantile(df_fortune1000$Profits[df_fortune1000$Sector=='Technology' & df_fortune1000$Profits>0])[3] ~ 'mid-top quantile'\n",
        "    ,Profits > quantile(df_fortune1000$Profits[df_fortune1000$Sector=='Technology' & df_fortune1000$Profits>0])[2] ~ 'mid-low quantile'\n",
        "    ,Profits > quantile(df_fortune1000$Profits[df_fortune1000$Sector=='Technology' & df_fortune1000$Profits>0])[1] ~ 'low quantile'\n",
        "  )\n",
        ") %>% arrange(\n",
        "  desc(Profits)\n",
        ") %>% select(\n",
        "  Company\n",
        "  ,Sector\n",
        "  ,Profits\n",
        "  ,Segment\n",
        ")"
      ],
      "execution_count": null,
      "outputs": [
        {
          "output_type": "display_data",
          "data": {
            "text/plain": [
              "   Company                            Sector     Profits Segment         \n",
              "1  Apple                              Technology 53394   top quantile    \n",
              "2  Alphabet                           Technology 16348   top quantile    \n",
              "3  IBM                                Technology 13190   top quantile    \n",
              "4  Microsoft                          Technology 12193   top quantile    \n",
              "5  Intel                              Technology 11420   top quantile    \n",
              "6  Oracle                             Technology  9938   top quantile    \n",
              "7  Cisco Systems                      Technology  8981   top quantile    \n",
              "8  Qualcomm                           Technology  5271   top quantile    \n",
              "9  HP                                 Technology  4554   top quantile    \n",
              "10 Facebook                           Technology  3688   top quantile    \n",
              "11 Danaher                            Technology  3357   top quantile    \n",
              "12 Texas Instruments                  Technology  2986   top quantile    \n",
              "13 Micron Technology                  Technology  2899   top quantile    \n",
              "14 Priceline Group                    Technology  2551   top quantile    \n",
              "15 EMC                                Technology  1990   top quantile    \n",
              "16 Thermo Fisher Scientific           Technology  1975   top quantile    \n",
              "17 eBay                               Technology  1725   top quantile    \n",
              "18 Cognizant Technology Solutions     Technology  1624   top quantile    \n",
              "19 Western Digital                    Technology  1465   top quantile    \n",
              "20 Applied Materials                  Technology  1377   top quantile    \n",
              "21 Corning                            Technology  1339   top quantile    \n",
              "22 Broadcom                           Technology   978   mid-top quantile\n",
              "23 Activision Blizzard                Technology   892   mid-top quantile\n",
              "24 Symantec                           Technology   878   mid-top quantile\n",
              "25 Electronic Arts                    Technology   875   mid-top quantile\n",
              "26 Liberty Interactive                Technology   869   mid-top quantile\n",
              "27 CA                                 Technology   846   mid-top quantile\n",
              "28 Skyworks Solutions                 Technology   798   mid-top quantile\n",
              "29 Expedia                            Technology   765   mid-top quantile\n",
              "30 Amphenol                           Technology   764   mid-top quantile\n",
              "⋮  ⋮                                  ⋮          ⋮       ⋮               \n",
              "55 F5 Networks                        Technology 365     mid-low quantile\n",
              "56 Mettler-Toledo International       Technology 353     mid-low quantile\n",
              "57 Brocade Communications Systems     Technology 340     mid-low quantile\n",
              "58 Harris                             Technology 334     mid-low quantile\n",
              "59 Akamai Technologies                Technology 321     mid-low quantile\n",
              "60 Citrix Systems                     Technology 319     mid-low quantile\n",
              "61 Jabil Circuit                      Technology 284     mid-low quantile\n",
              "62 Leidos Holdings                    Technology 254     mid-low quantile\n",
              "63 Booz Allen Hamilton Holding        Technology 233     mid-low quantile\n",
              "64 Synopsys                           Technology 226     low quantile    \n",
              "65 PerkinElmer                        Technology 212     low quantile    \n",
              "66 ON Semiconductor                   Technology 206     low quantile    \n",
              "67 Maxim Integrated Products          Technology 206     low quantile    \n",
              "68 Teledyne Technologies              Technology 196     low quantile    \n",
              "69 Gartner                            Technology 176     low quantile    \n",
              "70 Maximus                            Technology 158     low quantile    \n",
              "71 EchoStar                           Technology 153     low quantile    \n",
              "72 CACI International                 Technology 126     low quantile    \n",
              "73 Rackspace Hosting                  Technology 126     low quantile    \n",
              "74 Trimble Navigation                 Technology 121     low quantile    \n",
              "75 IAC/InterActiveCorp                Technology 120     low quantile    \n",
              "76 Science Applications International Technology 117     low quantile    \n",
              "77 Super Micro Computer               Technology 102     low quantile    \n",
              "78 Benchmark Electronics              Technology  95     low quantile    \n",
              "79 Plexus                             Technology  94     low quantile    \n",
              "80 VeriFone Systems                   Technology  79     low quantile    \n",
              "81 Diebold                            Technology  74     low quantile    \n",
              "82 Amkor Technology                   Technology  57     low quantile    \n",
              "83 Groupon                            Technology  21     low quantile    \n",
              "84 Ciena                              Technology  12     NA              "
            ],
            "text/latex": "A data.table: 84 × 4\n\\begin{tabular}{llll}\n Company & Sector & Profits & Segment\\\\\n <chr> & <chr> & <int> & <chr>\\\\\n\\hline\n\t Apple                          & Technology & 53394 & top quantile    \\\\\n\t Alphabet                       & Technology & 16348 & top quantile    \\\\\n\t IBM                            & Technology & 13190 & top quantile    \\\\\n\t Microsoft                      & Technology & 12193 & top quantile    \\\\\n\t Intel                          & Technology & 11420 & top quantile    \\\\\n\t Oracle                         & Technology &  9938 & top quantile    \\\\\n\t Cisco Systems                  & Technology &  8981 & top quantile    \\\\\n\t Qualcomm                       & Technology &  5271 & top quantile    \\\\\n\t HP                             & Technology &  4554 & top quantile    \\\\\n\t Facebook                       & Technology &  3688 & top quantile    \\\\\n\t Danaher                        & Technology &  3357 & top quantile    \\\\\n\t Texas Instruments              & Technology &  2986 & top quantile    \\\\\n\t Micron Technology              & Technology &  2899 & top quantile    \\\\\n\t Priceline Group                & Technology &  2551 & top quantile    \\\\\n\t EMC                            & Technology &  1990 & top quantile    \\\\\n\t Thermo Fisher Scientific       & Technology &  1975 & top quantile    \\\\\n\t eBay                           & Technology &  1725 & top quantile    \\\\\n\t Cognizant Technology Solutions & Technology &  1624 & top quantile    \\\\\n\t Western Digital                & Technology &  1465 & top quantile    \\\\\n\t Applied Materials              & Technology &  1377 & top quantile    \\\\\n\t Corning                        & Technology &  1339 & top quantile    \\\\\n\t Broadcom                       & Technology &   978 & mid-top quantile\\\\\n\t Activision Blizzard            & Technology &   892 & mid-top quantile\\\\\n\t Symantec                       & Technology &   878 & mid-top quantile\\\\\n\t Electronic Arts                & Technology &   875 & mid-top quantile\\\\\n\t Liberty Interactive            & Technology &   869 & mid-top quantile\\\\\n\t CA                             & Technology &   846 & mid-top quantile\\\\\n\t Skyworks Solutions             & Technology &   798 & mid-top quantile\\\\\n\t Expedia                        & Technology &   765 & mid-top quantile\\\\\n\t Amphenol                       & Technology &   764 & mid-top quantile\\\\\n\t ⋮ & ⋮ & ⋮ & ⋮\\\\\n\t F5 Networks                        & Technology & 365 & mid-low quantile\\\\\n\t Mettler-Toledo International       & Technology & 353 & mid-low quantile\\\\\n\t Brocade Communications Systems     & Technology & 340 & mid-low quantile\\\\\n\t Harris                             & Technology & 334 & mid-low quantile\\\\\n\t Akamai Technologies                & Technology & 321 & mid-low quantile\\\\\n\t Citrix Systems                     & Technology & 319 & mid-low quantile\\\\\n\t Jabil Circuit                      & Technology & 284 & mid-low quantile\\\\\n\t Leidos Holdings                    & Technology & 254 & mid-low quantile\\\\\n\t Booz Allen Hamilton Holding        & Technology & 233 & mid-low quantile\\\\\n\t Synopsys                           & Technology & 226 & low quantile    \\\\\n\t PerkinElmer                        & Technology & 212 & low quantile    \\\\\n\t ON Semiconductor                   & Technology & 206 & low quantile    \\\\\n\t Maxim Integrated Products          & Technology & 206 & low quantile    \\\\\n\t Teledyne Technologies              & Technology & 196 & low quantile    \\\\\n\t Gartner                            & Technology & 176 & low quantile    \\\\\n\t Maximus                            & Technology & 158 & low quantile    \\\\\n\t EchoStar                           & Technology & 153 & low quantile    \\\\\n\t CACI International                 & Technology & 126 & low quantile    \\\\\n\t Rackspace Hosting                  & Technology & 126 & low quantile    \\\\\n\t Trimble Navigation                 & Technology & 121 & low quantile    \\\\\n\t IAC/InterActiveCorp                & Technology & 120 & low quantile    \\\\\n\t Science Applications International & Technology & 117 & low quantile    \\\\\n\t Super Micro Computer               & Technology & 102 & low quantile    \\\\\n\t Benchmark Electronics              & Technology &  95 & low quantile    \\\\\n\t Plexus                             & Technology &  94 & low quantile    \\\\\n\t VeriFone Systems                   & Technology &  79 & low quantile    \\\\\n\t Diebold                            & Technology &  74 & low quantile    \\\\\n\t Amkor Technology                   & Technology &  57 & low quantile    \\\\\n\t Groupon                            & Technology &  21 & low quantile    \\\\\n\t Ciena                              & Technology &  12 & NA              \\\\\n\\end{tabular}\n",
            "text/markdown": "\nA data.table: 84 × 4\n\n| Company &lt;chr&gt; | Sector &lt;chr&gt; | Profits &lt;int&gt; | Segment &lt;chr&gt; |\n|---|---|---|---|\n| Apple                          | Technology | 53394 | top quantile     |\n| Alphabet                       | Technology | 16348 | top quantile     |\n| IBM                            | Technology | 13190 | top quantile     |\n| Microsoft                      | Technology | 12193 | top quantile     |\n| Intel                          | Technology | 11420 | top quantile     |\n| Oracle                         | Technology |  9938 | top quantile     |\n| Cisco Systems                  | Technology |  8981 | top quantile     |\n| Qualcomm                       | Technology |  5271 | top quantile     |\n| HP                             | Technology |  4554 | top quantile     |\n| Facebook                       | Technology |  3688 | top quantile     |\n| Danaher                        | Technology |  3357 | top quantile     |\n| Texas Instruments              | Technology |  2986 | top quantile     |\n| Micron Technology              | Technology |  2899 | top quantile     |\n| Priceline Group                | Technology |  2551 | top quantile     |\n| EMC                            | Technology |  1990 | top quantile     |\n| Thermo Fisher Scientific       | Technology |  1975 | top quantile     |\n| eBay                           | Technology |  1725 | top quantile     |\n| Cognizant Technology Solutions | Technology |  1624 | top quantile     |\n| Western Digital                | Technology |  1465 | top quantile     |\n| Applied Materials              | Technology |  1377 | top quantile     |\n| Corning                        | Technology |  1339 | top quantile     |\n| Broadcom                       | Technology |   978 | mid-top quantile |\n| Activision Blizzard            | Technology |   892 | mid-top quantile |\n| Symantec                       | Technology |   878 | mid-top quantile |\n| Electronic Arts                | Technology |   875 | mid-top quantile |\n| Liberty Interactive            | Technology |   869 | mid-top quantile |\n| CA                             | Technology |   846 | mid-top quantile |\n| Skyworks Solutions             | Technology |   798 | mid-top quantile |\n| Expedia                        | Technology |   765 | mid-top quantile |\n| Amphenol                       | Technology |   764 | mid-top quantile |\n| ⋮ | ⋮ | ⋮ | ⋮ |\n| F5 Networks                        | Technology | 365 | mid-low quantile |\n| Mettler-Toledo International       | Technology | 353 | mid-low quantile |\n| Brocade Communications Systems     | Technology | 340 | mid-low quantile |\n| Harris                             | Technology | 334 | mid-low quantile |\n| Akamai Technologies                | Technology | 321 | mid-low quantile |\n| Citrix Systems                     | Technology | 319 | mid-low quantile |\n| Jabil Circuit                      | Technology | 284 | mid-low quantile |\n| Leidos Holdings                    | Technology | 254 | mid-low quantile |\n| Booz Allen Hamilton Holding        | Technology | 233 | mid-low quantile |\n| Synopsys                           | Technology | 226 | low quantile     |\n| PerkinElmer                        | Technology | 212 | low quantile     |\n| ON Semiconductor                   | Technology | 206 | low quantile     |\n| Maxim Integrated Products          | Technology | 206 | low quantile     |\n| Teledyne Technologies              | Technology | 196 | low quantile     |\n| Gartner                            | Technology | 176 | low quantile     |\n| Maximus                            | Technology | 158 | low quantile     |\n| EchoStar                           | Technology | 153 | low quantile     |\n| CACI International                 | Technology | 126 | low quantile     |\n| Rackspace Hosting                  | Technology | 126 | low quantile     |\n| Trimble Navigation                 | Technology | 121 | low quantile     |\n| IAC/InterActiveCorp                | Technology | 120 | low quantile     |\n| Science Applications International | Technology | 117 | low quantile     |\n| Super Micro Computer               | Technology | 102 | low quantile     |\n| Benchmark Electronics              | Technology |  95 | low quantile     |\n| Plexus                             | Technology |  94 | low quantile     |\n| VeriFone Systems                   | Technology |  79 | low quantile     |\n| Diebold                            | Technology |  74 | low quantile     |\n| Amkor Technology                   | Technology |  57 | low quantile     |\n| Groupon                            | Technology |  21 | low quantile     |\n| Ciena                              | Technology |  12 | NA               |\n\n",
            "text/html": [
              "<table>\n",
              "<caption>A data.table: 84 × 4</caption>\n",
              "<thead>\n",
              "\t<tr><th scope=col>Company</th><th scope=col>Sector</th><th scope=col>Profits</th><th scope=col>Segment</th></tr>\n",
              "\t<tr><th scope=col>&lt;chr&gt;</th><th scope=col>&lt;chr&gt;</th><th scope=col>&lt;int&gt;</th><th scope=col>&lt;chr&gt;</th></tr>\n",
              "</thead>\n",
              "<tbody>\n",
              "\t<tr><td>Apple                         </td><td>Technology</td><td>53394</td><td>top quantile    </td></tr>\n",
              "\t<tr><td>Alphabet                      </td><td>Technology</td><td>16348</td><td>top quantile    </td></tr>\n",
              "\t<tr><td>IBM                           </td><td>Technology</td><td>13190</td><td>top quantile    </td></tr>\n",
              "\t<tr><td>Microsoft                     </td><td>Technology</td><td>12193</td><td>top quantile    </td></tr>\n",
              "\t<tr><td>Intel                         </td><td>Technology</td><td>11420</td><td>top quantile    </td></tr>\n",
              "\t<tr><td>Oracle                        </td><td>Technology</td><td> 9938</td><td>top quantile    </td></tr>\n",
              "\t<tr><td>Cisco Systems                 </td><td>Technology</td><td> 8981</td><td>top quantile    </td></tr>\n",
              "\t<tr><td>Qualcomm                      </td><td>Technology</td><td> 5271</td><td>top quantile    </td></tr>\n",
              "\t<tr><td>HP                            </td><td>Technology</td><td> 4554</td><td>top quantile    </td></tr>\n",
              "\t<tr><td>Facebook                      </td><td>Technology</td><td> 3688</td><td>top quantile    </td></tr>\n",
              "\t<tr><td>Danaher                       </td><td>Technology</td><td> 3357</td><td>top quantile    </td></tr>\n",
              "\t<tr><td>Texas Instruments             </td><td>Technology</td><td> 2986</td><td>top quantile    </td></tr>\n",
              "\t<tr><td>Micron Technology             </td><td>Technology</td><td> 2899</td><td>top quantile    </td></tr>\n",
              "\t<tr><td>Priceline Group               </td><td>Technology</td><td> 2551</td><td>top quantile    </td></tr>\n",
              "\t<tr><td>EMC                           </td><td>Technology</td><td> 1990</td><td>top quantile    </td></tr>\n",
              "\t<tr><td>Thermo Fisher Scientific      </td><td>Technology</td><td> 1975</td><td>top quantile    </td></tr>\n",
              "\t<tr><td>eBay                          </td><td>Technology</td><td> 1725</td><td>top quantile    </td></tr>\n",
              "\t<tr><td>Cognizant Technology Solutions</td><td>Technology</td><td> 1624</td><td>top quantile    </td></tr>\n",
              "\t<tr><td>Western Digital               </td><td>Technology</td><td> 1465</td><td>top quantile    </td></tr>\n",
              "\t<tr><td>Applied Materials             </td><td>Technology</td><td> 1377</td><td>top quantile    </td></tr>\n",
              "\t<tr><td>Corning                       </td><td>Technology</td><td> 1339</td><td>top quantile    </td></tr>\n",
              "\t<tr><td>Broadcom                      </td><td>Technology</td><td>  978</td><td>mid-top quantile</td></tr>\n",
              "\t<tr><td>Activision Blizzard           </td><td>Technology</td><td>  892</td><td>mid-top quantile</td></tr>\n",
              "\t<tr><td>Symantec                      </td><td>Technology</td><td>  878</td><td>mid-top quantile</td></tr>\n",
              "\t<tr><td>Electronic Arts               </td><td>Technology</td><td>  875</td><td>mid-top quantile</td></tr>\n",
              "\t<tr><td>Liberty Interactive           </td><td>Technology</td><td>  869</td><td>mid-top quantile</td></tr>\n",
              "\t<tr><td>CA                            </td><td>Technology</td><td>  846</td><td>mid-top quantile</td></tr>\n",
              "\t<tr><td>Skyworks Solutions            </td><td>Technology</td><td>  798</td><td>mid-top quantile</td></tr>\n",
              "\t<tr><td>Expedia                       </td><td>Technology</td><td>  765</td><td>mid-top quantile</td></tr>\n",
              "\t<tr><td>Amphenol                      </td><td>Technology</td><td>  764</td><td>mid-top quantile</td></tr>\n",
              "\t<tr><td>⋮</td><td>⋮</td><td>⋮</td><td>⋮</td></tr>\n",
              "\t<tr><td>F5 Networks                       </td><td>Technology</td><td>365</td><td>mid-low quantile</td></tr>\n",
              "\t<tr><td>Mettler-Toledo International      </td><td>Technology</td><td>353</td><td>mid-low quantile</td></tr>\n",
              "\t<tr><td>Brocade Communications Systems    </td><td>Technology</td><td>340</td><td>mid-low quantile</td></tr>\n",
              "\t<tr><td>Harris                            </td><td>Technology</td><td>334</td><td>mid-low quantile</td></tr>\n",
              "\t<tr><td>Akamai Technologies               </td><td>Technology</td><td>321</td><td>mid-low quantile</td></tr>\n",
              "\t<tr><td>Citrix Systems                    </td><td>Technology</td><td>319</td><td>mid-low quantile</td></tr>\n",
              "\t<tr><td>Jabil Circuit                     </td><td>Technology</td><td>284</td><td>mid-low quantile</td></tr>\n",
              "\t<tr><td>Leidos Holdings                   </td><td>Technology</td><td>254</td><td>mid-low quantile</td></tr>\n",
              "\t<tr><td>Booz Allen Hamilton Holding       </td><td>Technology</td><td>233</td><td>mid-low quantile</td></tr>\n",
              "\t<tr><td>Synopsys                          </td><td>Technology</td><td>226</td><td>low quantile    </td></tr>\n",
              "\t<tr><td>PerkinElmer                       </td><td>Technology</td><td>212</td><td>low quantile    </td></tr>\n",
              "\t<tr><td>ON Semiconductor                  </td><td>Technology</td><td>206</td><td>low quantile    </td></tr>\n",
              "\t<tr><td>Maxim Integrated Products         </td><td>Technology</td><td>206</td><td>low quantile    </td></tr>\n",
              "\t<tr><td>Teledyne Technologies             </td><td>Technology</td><td>196</td><td>low quantile    </td></tr>\n",
              "\t<tr><td>Gartner                           </td><td>Technology</td><td>176</td><td>low quantile    </td></tr>\n",
              "\t<tr><td>Maximus                           </td><td>Technology</td><td>158</td><td>low quantile    </td></tr>\n",
              "\t<tr><td>EchoStar                          </td><td>Technology</td><td>153</td><td>low quantile    </td></tr>\n",
              "\t<tr><td>CACI International                </td><td>Technology</td><td>126</td><td>low quantile    </td></tr>\n",
              "\t<tr><td>Rackspace Hosting                 </td><td>Technology</td><td>126</td><td>low quantile    </td></tr>\n",
              "\t<tr><td>Trimble Navigation                </td><td>Technology</td><td>121</td><td>low quantile    </td></tr>\n",
              "\t<tr><td>IAC/InterActiveCorp               </td><td>Technology</td><td>120</td><td>low quantile    </td></tr>\n",
              "\t<tr><td>Science Applications International</td><td>Technology</td><td>117</td><td>low quantile    </td></tr>\n",
              "\t<tr><td>Super Micro Computer              </td><td>Technology</td><td>102</td><td>low quantile    </td></tr>\n",
              "\t<tr><td>Benchmark Electronics             </td><td>Technology</td><td> 95</td><td>low quantile    </td></tr>\n",
              "\t<tr><td>Plexus                            </td><td>Technology</td><td> 94</td><td>low quantile    </td></tr>\n",
              "\t<tr><td>VeriFone Systems                  </td><td>Technology</td><td> 79</td><td>low quantile    </td></tr>\n",
              "\t<tr><td>Diebold                           </td><td>Technology</td><td> 74</td><td>low quantile    </td></tr>\n",
              "\t<tr><td>Amkor Technology                  </td><td>Technology</td><td> 57</td><td>low quantile    </td></tr>\n",
              "\t<tr><td>Groupon                           </td><td>Technology</td><td> 21</td><td>low quantile    </td></tr>\n",
              "\t<tr><td>Ciena                             </td><td>Technology</td><td> 12</td><td>NA              </td></tr>\n",
              "</tbody>\n",
              "</table>\n"
            ]
          },
          "metadata": {
            "tags": []
          }
        }
      ]
    },
    {
      "cell_type": "markdown",
      "source": [
        "## AGREGACIONES"
      ],
      "metadata": {
        "id": "H2p9WH3pGC1A"
      }
    },
    {
      "cell_type": "markdown",
      "metadata": {
        "id": "cndfqZw4ZSwG"
      },
      "source": [
        "#### EX.3.A \n",
        "Agregar *revenue* total, segín sector productivo. Ordenar de forma descendente por *revenue*. Para las empresas incluidas en el ranking, ¿cuáles son los sectores que generan más facturación?"
      ]
    },
    {
      "cell_type": "code",
      "metadata": {
        "id": "BnpYaOzZ_jtx"
      },
      "source": [
        "df_fortune1000 = fread(\"https://data-wizards.s3.amazonaws.com/datasets/fortune1000.csv\")\n",
        "glimpse(df_fortune1000)"
      ],
      "execution_count": null,
      "outputs": []
    },
    {
      "cell_type": "code",
      "metadata": {
        "colab": {
          "base_uri": "https://localhost:8080/",
          "height": 553
        },
        "id": "zRmzxEjl_kVF",
        "outputId": "1dc76b83-9603-43e8-818a-de6a807e7a33"
      },
      "source": [
        "df_fortune1000 %>% group_by(\n",
        "    Sector\n",
        "  ) %>% summarise(\n",
        "    total_revenue = sum(Revenue)\n",
        "  ) %>% arrange(\n",
        "    desc(total_revenue)\n",
        "  )"
      ],
      "execution_count": null,
      "outputs": [
        {
          "output_type": "stream",
          "text": [
            "`summarise()` ungrouping output (override with `.groups` argument)\n",
            "\n"
          ],
          "name": "stderr"
        },
        {
          "output_type": "display_data",
          "data": {
            "text/plain": [
              "   Sector                       total_revenue\n",
              "1  Financials                   2217159      \n",
              "2  Health Care                  1614707      \n",
              "3  Energy                       1517809      \n",
              "4  Retailing                    1465076      \n",
              "5  Technology                   1377600      \n",
              "6  Food, Beverages & Tobacco     555967      \n",
              "7  Industrials                   497581      \n",
              "8  Food and Drug Stores          483769      \n",
              "9  Motor Vehicles & Parts        482540      \n",
              "10 Telecommunications            461834      \n",
              "11 Wholesalers                   444800      \n",
              "12 Transportation                408508      \n",
              "13 Aerospace & Defense           357940      \n",
              "14 Business Services             272195      \n",
              "15 Materials                     259145      \n",
              "16 Chemicals                     243897      \n",
              "17 Household Products            234737      \n",
              "18 Media                         220764      \n",
              "19 Hotels, Resturants & Leisure  169546      \n",
              "20 Engineering & Construction    153983      \n",
              "21 Apparel                        95968      "
            ],
            "text/latex": "A tibble: 21 × 2\n\\begin{tabular}{ll}\n Sector & total\\_revenue\\\\\n <chr> & <int>\\\\\n\\hline\n\t Financials                   & 2217159\\\\\n\t Health Care                  & 1614707\\\\\n\t Energy                       & 1517809\\\\\n\t Retailing                    & 1465076\\\\\n\t Technology                   & 1377600\\\\\n\t Food, Beverages \\& Tobacco    &  555967\\\\\n\t Industrials                  &  497581\\\\\n\t Food and Drug Stores         &  483769\\\\\n\t Motor Vehicles \\& Parts       &  482540\\\\\n\t Telecommunications           &  461834\\\\\n\t Wholesalers                  &  444800\\\\\n\t Transportation               &  408508\\\\\n\t Aerospace \\& Defense          &  357940\\\\\n\t Business Services            &  272195\\\\\n\t Materials                    &  259145\\\\\n\t Chemicals                    &  243897\\\\\n\t Household Products           &  234737\\\\\n\t Media                        &  220764\\\\\n\t Hotels, Resturants \\& Leisure &  169546\\\\\n\t Engineering \\& Construction   &  153983\\\\\n\t Apparel                      &   95968\\\\\n\\end{tabular}\n",
            "text/markdown": "\nA tibble: 21 × 2\n\n| Sector &lt;chr&gt; | total_revenue &lt;int&gt; |\n|---|---|\n| Financials                   | 2217159 |\n| Health Care                  | 1614707 |\n| Energy                       | 1517809 |\n| Retailing                    | 1465076 |\n| Technology                   | 1377600 |\n| Food, Beverages &amp; Tobacco    |  555967 |\n| Industrials                  |  497581 |\n| Food and Drug Stores         |  483769 |\n| Motor Vehicles &amp; Parts       |  482540 |\n| Telecommunications           |  461834 |\n| Wholesalers                  |  444800 |\n| Transportation               |  408508 |\n| Aerospace &amp; Defense          |  357940 |\n| Business Services            |  272195 |\n| Materials                    |  259145 |\n| Chemicals                    |  243897 |\n| Household Products           |  234737 |\n| Media                        |  220764 |\n| Hotels, Resturants &amp; Leisure |  169546 |\n| Engineering &amp; Construction   |  153983 |\n| Apparel                      |   95968 |\n\n",
            "text/html": [
              "<table>\n",
              "<caption>A tibble: 21 × 2</caption>\n",
              "<thead>\n",
              "\t<tr><th scope=col>Sector</th><th scope=col>total_revenue</th></tr>\n",
              "\t<tr><th scope=col>&lt;chr&gt;</th><th scope=col>&lt;int&gt;</th></tr>\n",
              "</thead>\n",
              "<tbody>\n",
              "\t<tr><td>Financials                  </td><td>2217159</td></tr>\n",
              "\t<tr><td>Health Care                 </td><td>1614707</td></tr>\n",
              "\t<tr><td>Energy                      </td><td>1517809</td></tr>\n",
              "\t<tr><td>Retailing                   </td><td>1465076</td></tr>\n",
              "\t<tr><td>Technology                  </td><td>1377600</td></tr>\n",
              "\t<tr><td><span style=white-space:pre-wrap>Food, Beverages &amp; Tobacco   </span></td><td> 555967</td></tr>\n",
              "\t<tr><td>Industrials                 </td><td> 497581</td></tr>\n",
              "\t<tr><td>Food and Drug Stores        </td><td> 483769</td></tr>\n",
              "\t<tr><td><span style=white-space:pre-wrap>Motor Vehicles &amp; Parts      </span></td><td> 482540</td></tr>\n",
              "\t<tr><td>Telecommunications          </td><td> 461834</td></tr>\n",
              "\t<tr><td>Wholesalers                 </td><td> 444800</td></tr>\n",
              "\t<tr><td>Transportation              </td><td> 408508</td></tr>\n",
              "\t<tr><td><span style=white-space:pre-wrap>Aerospace &amp; Defense         </span></td><td> 357940</td></tr>\n",
              "\t<tr><td>Business Services           </td><td> 272195</td></tr>\n",
              "\t<tr><td>Materials                   </td><td> 259145</td></tr>\n",
              "\t<tr><td>Chemicals                   </td><td> 243897</td></tr>\n",
              "\t<tr><td>Household Products          </td><td> 234737</td></tr>\n",
              "\t<tr><td>Media                       </td><td> 220764</td></tr>\n",
              "\t<tr><td>Hotels, Resturants &amp; Leisure</td><td> 169546</td></tr>\n",
              "\t<tr><td><span style=white-space:pre-wrap>Engineering &amp; Construction  </span></td><td> 153983</td></tr>\n",
              "\t<tr><td>Apparel                     </td><td>  95968</td></tr>\n",
              "</tbody>\n",
              "</table>\n"
            ]
          },
          "metadata": {
            "tags": []
          }
        }
      ]
    },
    {
      "cell_type": "markdown",
      "metadata": {
        "id": "1VUN9G4lZbdt"
      },
      "source": [
        "#### EX.3.B\n",
        "Partiendo del dataset con datos de empleados estatales, agregar la mediana de salario base según departamento. Tener en cuenta únicamente empleados full time"
      ]
    },
    {
      "cell_type": "code",
      "metadata": {
        "colab": {
          "base_uri": "https://localhost:8080/"
        },
        "id": "VZAJ-pg_Q5Ur",
        "outputId": "f71a73e5-ef86-4b9a-c8fd-ad59677c45c3"
      },
      "source": [
        "df_employees = fread(\"https://data-wizards.s3.amazonaws.com/datasets/employees.csv\")\n",
        "glimpse(df_employees)"
      ],
      "execution_count": null,
      "outputs": [
        {
          "output_type": "stream",
          "text": [
            "Rows: 2,000\n",
            "Columns: 10\n",
            "$ UNIQUE_ID         \u001b[3m\u001b[90m<int>\u001b[39m\u001b[23m 0, 1, 2, 3, 4, 5, 6, 7, 8, 9, 10, 11, 12, 13, 14, 1…\n",
            "$ POSITION_TITLE    \u001b[3m\u001b[90m<chr>\u001b[39m\u001b[23m \"ASSISTANT DIRECTOR (EX LVL)\", \"LIBRARY ASSISTANT\",…\n",
            "$ DEPARTMENT        \u001b[3m\u001b[90m<chr>\u001b[39m\u001b[23m \"Municipal Courts Department\", \"Library\", \"Houston …\n",
            "$ BASE_SALARY       \u001b[3m\u001b[90m<dbl>\u001b[39m\u001b[23m 121862, 26125, 45279, 63166, 56347, 66614, 71680, 4…\n",
            "$ RACE              \u001b[3m\u001b[90m<chr>\u001b[39m\u001b[23m \"Hispanic/Latino\", \"Hispanic/Latino\", \"White\", \"Whi…\n",
            "$ EMPLOYMENT_TYPE   \u001b[3m\u001b[90m<chr>\u001b[39m\u001b[23m \"Full Time\", \"Full Time\", \"Full Time\", \"Full Time\",…\n",
            "$ GENDER            \u001b[3m\u001b[90m<chr>\u001b[39m\u001b[23m \"Female\", \"Female\", \"Male\", \"Male\", \"Male\", \"Male\",…\n",
            "$ EMPLOYMENT_STATUS \u001b[3m\u001b[90m<chr>\u001b[39m\u001b[23m \"Active\", \"Active\", \"Active\", \"Active\", \"Active\", \"…\n",
            "$ HIRE_DATE         \u001b[3m\u001b[90m<date>\u001b[39m\u001b[23m 2006-06-12, 2000-07-19, 2015-02-03, 1982-02-08, 19…\n",
            "$ JOB_DATE          \u001b[3m\u001b[90m<date>\u001b[39m\u001b[23m 2012-10-13, 2010-09-18, 2015-02-03, 1991-05-25, 19…\n"
          ],
          "name": "stdout"
        }
      ]
    },
    {
      "cell_type": "code",
      "metadata": {
        "colab": {
          "base_uri": "https://localhost:8080/",
          "height": 616
        },
        "id": "KNlruNluRAzI",
        "outputId": "e64568e5-bb75-4916-c2d0-6bdc75b7b4a0"
      },
      "source": [
        "df_employees %>% filter(\n",
        "  EMPLOYMENT_TYPE == 'Full Time'\n",
        ") %>% group_by(\n",
        "  DEPARTMENT\n",
        ") %>% summarise(\n",
        "  median_salary = median(BASE_SALARY,na.rm = TRUE)\n",
        ") %>% arrange(\n",
        "  desc(median_salary)\n",
        ")"
      ],
      "execution_count": null,
      "outputs": [
        {
          "output_type": "stream",
          "text": [
            "`summarise()` ungrouping output (override with `.groups` argument)\n",
            "\n"
          ],
          "name": "stderr"
        },
        {
          "output_type": "display_data",
          "data": {
            "text/plain": [
              "   DEPARTMENT                     median_salary\n",
              "1  Mayor's Office                 95783.0      \n",
              "2  Legal Department               92505.0      \n",
              "3  Finance                        80542.0      \n",
              "4  Houston Information Tech Svcs  74951.0      \n",
              "5  Houston Fire Department (HFD)  61921.0      \n",
              "6  Houston Police Department-HPD  61643.0      \n",
              "7  Housing and Community Devp.    57284.5      \n",
              "8  City Controller's Office       57054.0      \n",
              "9  City Council                   54000.0      \n",
              "10 Planning & Development         51418.0      \n",
              "11 Human Resources Dept.          51207.0      \n",
              "12 Health & Human Services        46717.0      \n",
              "13 Municipal Courts Department    45562.0      \n",
              "14 Fleet Management Department    44158.0      \n",
              "15 Public Works & Engineering-PWE 44096.0      \n",
              "16 Dept of Neighborhoods (DON)    43742.0      \n",
              "17 General Services Department    42473.5      \n",
              "18 Houston Airport System (HAS)   41953.5      \n",
              "19 Houston Emergency Center (HEC) 39104.0      \n",
              "20 Library                        38563.0      \n",
              "21 Convention and Entertainment   38397.0      \n",
              "22 Admn. & Regulatory Affairs     37710.0      \n",
              "23 Solid Waste Management         37045.0      \n",
              "24 Parks & Recreation             33634.0      "
            ],
            "text/latex": "A tibble: 24 × 2\n\\begin{tabular}{ll}\n DEPARTMENT & median\\_salary\\\\\n <chr> & <dbl>\\\\\n\\hline\n\t Mayor's Office                 & 95783.0\\\\\n\t Legal Department               & 92505.0\\\\\n\t Finance                        & 80542.0\\\\\n\t Houston Information Tech Svcs  & 74951.0\\\\\n\t Houston Fire Department (HFD)  & 61921.0\\\\\n\t Houston Police Department-HPD  & 61643.0\\\\\n\t Housing and Community Devp.    & 57284.5\\\\\n\t City Controller's Office       & 57054.0\\\\\n\t City Council                   & 54000.0\\\\\n\t Planning \\& Development         & 51418.0\\\\\n\t Human Resources Dept.          & 51207.0\\\\\n\t Health \\& Human Services        & 46717.0\\\\\n\t Municipal Courts Department    & 45562.0\\\\\n\t Fleet Management Department    & 44158.0\\\\\n\t Public Works \\& Engineering-PWE & 44096.0\\\\\n\t Dept of Neighborhoods (DON)    & 43742.0\\\\\n\t General Services Department    & 42473.5\\\\\n\t Houston Airport System (HAS)   & 41953.5\\\\\n\t Houston Emergency Center (HEC) & 39104.0\\\\\n\t Library                        & 38563.0\\\\\n\t Convention and Entertainment   & 38397.0\\\\\n\t Admn. \\& Regulatory Affairs     & 37710.0\\\\\n\t Solid Waste Management         & 37045.0\\\\\n\t Parks \\& Recreation             & 33634.0\\\\\n\\end{tabular}\n",
            "text/markdown": "\nA tibble: 24 × 2\n\n| DEPARTMENT &lt;chr&gt; | median_salary &lt;dbl&gt; |\n|---|---|\n| Mayor's Office                 | 95783.0 |\n| Legal Department               | 92505.0 |\n| Finance                        | 80542.0 |\n| Houston Information Tech Svcs  | 74951.0 |\n| Houston Fire Department (HFD)  | 61921.0 |\n| Houston Police Department-HPD  | 61643.0 |\n| Housing and Community Devp.    | 57284.5 |\n| City Controller's Office       | 57054.0 |\n| City Council                   | 54000.0 |\n| Planning &amp; Development         | 51418.0 |\n| Human Resources Dept.          | 51207.0 |\n| Health &amp; Human Services        | 46717.0 |\n| Municipal Courts Department    | 45562.0 |\n| Fleet Management Department    | 44158.0 |\n| Public Works &amp; Engineering-PWE | 44096.0 |\n| Dept of Neighborhoods (DON)    | 43742.0 |\n| General Services Department    | 42473.5 |\n| Houston Airport System (HAS)   | 41953.5 |\n| Houston Emergency Center (HEC) | 39104.0 |\n| Library                        | 38563.0 |\n| Convention and Entertainment   | 38397.0 |\n| Admn. &amp; Regulatory Affairs     | 37710.0 |\n| Solid Waste Management         | 37045.0 |\n| Parks &amp; Recreation             | 33634.0 |\n\n",
            "text/html": [
              "<table>\n",
              "<caption>A tibble: 24 × 2</caption>\n",
              "<thead>\n",
              "\t<tr><th scope=col>DEPARTMENT</th><th scope=col>median_salary</th></tr>\n",
              "\t<tr><th scope=col>&lt;chr&gt;</th><th scope=col>&lt;dbl&gt;</th></tr>\n",
              "</thead>\n",
              "<tbody>\n",
              "\t<tr><td>Mayor's Office                </td><td>95783.0</td></tr>\n",
              "\t<tr><td>Legal Department              </td><td>92505.0</td></tr>\n",
              "\t<tr><td>Finance                       </td><td>80542.0</td></tr>\n",
              "\t<tr><td>Houston Information Tech Svcs </td><td>74951.0</td></tr>\n",
              "\t<tr><td>Houston Fire Department (HFD) </td><td>61921.0</td></tr>\n",
              "\t<tr><td>Houston Police Department-HPD </td><td>61643.0</td></tr>\n",
              "\t<tr><td>Housing and Community Devp.   </td><td>57284.5</td></tr>\n",
              "\t<tr><td>City Controller's Office      </td><td>57054.0</td></tr>\n",
              "\t<tr><td>City Council                  </td><td>54000.0</td></tr>\n",
              "\t<tr><td><span style=white-space:pre-wrap>Planning &amp; Development        </span></td><td>51418.0</td></tr>\n",
              "\t<tr><td>Human Resources Dept.         </td><td>51207.0</td></tr>\n",
              "\t<tr><td><span style=white-space:pre-wrap>Health &amp; Human Services       </span></td><td>46717.0</td></tr>\n",
              "\t<tr><td>Municipal Courts Department   </td><td>45562.0</td></tr>\n",
              "\t<tr><td>Fleet Management Department   </td><td>44158.0</td></tr>\n",
              "\t<tr><td>Public Works &amp; Engineering-PWE</td><td>44096.0</td></tr>\n",
              "\t<tr><td>Dept of Neighborhoods (DON)   </td><td>43742.0</td></tr>\n",
              "\t<tr><td>General Services Department   </td><td>42473.5</td></tr>\n",
              "\t<tr><td>Houston Airport System (HAS)  </td><td>41953.5</td></tr>\n",
              "\t<tr><td>Houston Emergency Center (HEC)</td><td>39104.0</td></tr>\n",
              "\t<tr><td>Library                       </td><td>38563.0</td></tr>\n",
              "\t<tr><td>Convention and Entertainment  </td><td>38397.0</td></tr>\n",
              "\t<tr><td><span style=white-space:pre-wrap>Admn. &amp; Regulatory Affairs    </span></td><td>37710.0</td></tr>\n",
              "\t<tr><td>Solid Waste Management        </td><td>37045.0</td></tr>\n",
              "\t<tr><td><span style=white-space:pre-wrap>Parks &amp; Recreation            </span></td><td>33634.0</td></tr>\n",
              "</tbody>\n",
              "</table>\n"
            ]
          },
          "metadata": {
            "tags": []
          }
        }
      ]
    },
    {
      "cell_type": "markdown",
      "metadata": {
        "id": "CZaogctG2LXn"
      },
      "source": [
        "#### EX.3.C \n",
        "Partiendo del df con personajes de Star Wars, ¿cuál es la combinación entre *homeworld* y *species* con mayor número de personajes?\n",
        "##### Nota: algunos personajes no tienen información disponible en los campos *homeworld* y *species*. En este dataset, los campos vacíos no figuran como NA (formalmente vacíos), sino que tienen una entrada vacía de texto (por tanto el sistema no lo reconoce como NA)"
      ]
    },
    {
      "cell_type": "code",
      "metadata": {
        "id": "-VD4eBDNBCWZ"
      },
      "source": [
        "df_star_wars = fread(\"https://data-wizards.s3.amazonaws.com/datasets/dataset_star_wars.csv\")"
      ],
      "execution_count": null,
      "outputs": []
    },
    {
      "cell_type": "code",
      "metadata": {
        "colab": {
          "base_uri": "https://localhost:8080/",
          "height": 1000
        },
        "id": "2GrH_07vBDwu",
        "outputId": "7f6423c6-3989-4bf8-b517-0354e75f3267"
      },
      "source": [
        "df_star_wars %>% filter(\n",
        "  !homeworld == ''            # descartamos personajes con homeworld vacío. En este caso, negamos toda la condición \"es igual a\"\n",
        "  ,species != ''              # descartamos personaje con species vacío. En este caso, a modo de presentar una opción alternativa, utilizamos el operador \"es distinto\"\n",
        "  ) %>% group_by(             # agrupamos por dos variables categóricas\n",
        "    homeworld\n",
        "    ,species\n",
        "  ) %>% summarise(\n",
        "    total_count = n()         # definimos agregación y utilizamos función de agregación n() para contar observaciones\n",
        "  ) %>% arrange(\n",
        "    desc(total_count)         # ordenamos con criterio descendente\n",
        "  )"
      ],
      "execution_count": null,
      "outputs": [
        {
          "output_type": "stream",
          "text": [
            "`summarise()` regrouping output by 'homeworld' (override with `.groups` argument)\n",
            "\n"
          ],
          "name": "stderr"
        },
        {
          "output_type": "display_data",
          "data": {
            "text/plain": [
              "   homeworld      species      total_count\n",
              "1  Tatooine       Human        8          \n",
              "2  Naboo          Human        5          \n",
              "3  Alderaan       Human        3          \n",
              "4  Naboo          Gungan       3          \n",
              "5  Corellia       Human        2          \n",
              "6  Coruscant      Human        2          \n",
              "7  Kamino         Kaminoan     2          \n",
              "8  Kashyyyk       Wookiee      2          \n",
              "9  Mirial         Mirialan     2          \n",
              "10 Ryloth         Twi'lek      2          \n",
              "11 Tatooine       Droid        2          \n",
              "12 Aleen Minor    Aleena       1          \n",
              "13 Bespin         Human        1          \n",
              "14 Bestine IV     Human        1          \n",
              "15 Cato Neimoidia Neimodian    1          \n",
              "16 Cerea          Cerean       1          \n",
              "17 Champala       Chagrian     1          \n",
              "18 Chandrila      Human        1          \n",
              "19 Concord Dawn   Human        1          \n",
              "20 Coruscant      Tholothian   1          \n",
              "21 Dathomir       Zabrak       1          \n",
              "22 Dorin          Kel Dor      1          \n",
              "23 Endor          Ewok         1          \n",
              "24 Eriadu         Human        1          \n",
              "25 Geonosis       Geonosian    1          \n",
              "26 Glee Anselm    Nautolan     1          \n",
              "27 Haruun Kal     Human        1          \n",
              "28 Iktotch        Iktotchi     1          \n",
              "29 Iridonia       Zabrak       1          \n",
              "30 Kalee          Kaleesh      1          \n",
              "31 Kamino         Human        1          \n",
              "32 Malastare      Dug          1          \n",
              "33 Mon Cala       Mon Calamari 1          \n",
              "34 Muunilinst     Muun         1          \n",
              "35 Naboo          Droid        1          \n",
              "36 Nal Hutta      Hutt         1          \n",
              "37 Ojom           Besalisk     1          \n",
              "38 Quermia        Quermian     1          \n",
              "39 Rodia          Rodian       1          \n",
              "40 Serenno        Human        1          \n",
              "41 Shili          Togruta      1          \n",
              "42 Skako          Skakoan      1          \n",
              "43 Socorro        Human        1          \n",
              "44 Stewjon        Human        1          \n",
              "45 Sullust        Sullustan    1          \n",
              "46 Toydaria       Toydarian    1          \n",
              "47 Trandosha      Trandoshan   1          \n",
              "48 Troiken        Xexto        1          \n",
              "49 Tund           Toong        1          \n",
              "50 Utapau         Pau'an       1          \n",
              "51 Vulpter        Vulptereen   1          \n",
              "52 Zolan          Clawdite     1          "
            ],
            "text/latex": "A grouped\\_df: 52 × 3\n\\begin{tabular}{lll}\n homeworld & species & total\\_count\\\\\n <chr> & <chr> & <int>\\\\\n\\hline\n\t Tatooine       & Human        & 8\\\\\n\t Naboo          & Human        & 5\\\\\n\t Alderaan       & Human        & 3\\\\\n\t Naboo          & Gungan       & 3\\\\\n\t Corellia       & Human        & 2\\\\\n\t Coruscant      & Human        & 2\\\\\n\t Kamino         & Kaminoan     & 2\\\\\n\t Kashyyyk       & Wookiee      & 2\\\\\n\t Mirial         & Mirialan     & 2\\\\\n\t Ryloth         & Twi'lek      & 2\\\\\n\t Tatooine       & Droid        & 2\\\\\n\t Aleen Minor    & Aleena       & 1\\\\\n\t Bespin         & Human        & 1\\\\\n\t Bestine IV     & Human        & 1\\\\\n\t Cato Neimoidia & Neimodian    & 1\\\\\n\t Cerea          & Cerean       & 1\\\\\n\t Champala       & Chagrian     & 1\\\\\n\t Chandrila      & Human        & 1\\\\\n\t Concord Dawn   & Human        & 1\\\\\n\t Coruscant      & Tholothian   & 1\\\\\n\t Dathomir       & Zabrak       & 1\\\\\n\t Dorin          & Kel Dor      & 1\\\\\n\t Endor          & Ewok         & 1\\\\\n\t Eriadu         & Human        & 1\\\\\n\t Geonosis       & Geonosian    & 1\\\\\n\t Glee Anselm    & Nautolan     & 1\\\\\n\t Haruun Kal     & Human        & 1\\\\\n\t Iktotch        & Iktotchi     & 1\\\\\n\t Iridonia       & Zabrak       & 1\\\\\n\t Kalee          & Kaleesh      & 1\\\\\n\t Kamino         & Human        & 1\\\\\n\t Malastare      & Dug          & 1\\\\\n\t Mon Cala       & Mon Calamari & 1\\\\\n\t Muunilinst     & Muun         & 1\\\\\n\t Naboo          & Droid        & 1\\\\\n\t Nal Hutta      & Hutt         & 1\\\\\n\t Ojom           & Besalisk     & 1\\\\\n\t Quermia        & Quermian     & 1\\\\\n\t Rodia          & Rodian       & 1\\\\\n\t Serenno        & Human        & 1\\\\\n\t Shili          & Togruta      & 1\\\\\n\t Skako          & Skakoan      & 1\\\\\n\t Socorro        & Human        & 1\\\\\n\t Stewjon        & Human        & 1\\\\\n\t Sullust        & Sullustan    & 1\\\\\n\t Toydaria       & Toydarian    & 1\\\\\n\t Trandosha      & Trandoshan   & 1\\\\\n\t Troiken        & Xexto        & 1\\\\\n\t Tund           & Toong        & 1\\\\\n\t Utapau         & Pau'an       & 1\\\\\n\t Vulpter        & Vulptereen   & 1\\\\\n\t Zolan          & Clawdite     & 1\\\\\n\\end{tabular}\n",
            "text/markdown": "\nA grouped_df: 52 × 3\n\n| homeworld &lt;chr&gt; | species &lt;chr&gt; | total_count &lt;int&gt; |\n|---|---|---|\n| Tatooine       | Human        | 8 |\n| Naboo          | Human        | 5 |\n| Alderaan       | Human        | 3 |\n| Naboo          | Gungan       | 3 |\n| Corellia       | Human        | 2 |\n| Coruscant      | Human        | 2 |\n| Kamino         | Kaminoan     | 2 |\n| Kashyyyk       | Wookiee      | 2 |\n| Mirial         | Mirialan     | 2 |\n| Ryloth         | Twi'lek      | 2 |\n| Tatooine       | Droid        | 2 |\n| Aleen Minor    | Aleena       | 1 |\n| Bespin         | Human        | 1 |\n| Bestine IV     | Human        | 1 |\n| Cato Neimoidia | Neimodian    | 1 |\n| Cerea          | Cerean       | 1 |\n| Champala       | Chagrian     | 1 |\n| Chandrila      | Human        | 1 |\n| Concord Dawn   | Human        | 1 |\n| Coruscant      | Tholothian   | 1 |\n| Dathomir       | Zabrak       | 1 |\n| Dorin          | Kel Dor      | 1 |\n| Endor          | Ewok         | 1 |\n| Eriadu         | Human        | 1 |\n| Geonosis       | Geonosian    | 1 |\n| Glee Anselm    | Nautolan     | 1 |\n| Haruun Kal     | Human        | 1 |\n| Iktotch        | Iktotchi     | 1 |\n| Iridonia       | Zabrak       | 1 |\n| Kalee          | Kaleesh      | 1 |\n| Kamino         | Human        | 1 |\n| Malastare      | Dug          | 1 |\n| Mon Cala       | Mon Calamari | 1 |\n| Muunilinst     | Muun         | 1 |\n| Naboo          | Droid        | 1 |\n| Nal Hutta      | Hutt         | 1 |\n| Ojom           | Besalisk     | 1 |\n| Quermia        | Quermian     | 1 |\n| Rodia          | Rodian       | 1 |\n| Serenno        | Human        | 1 |\n| Shili          | Togruta      | 1 |\n| Skako          | Skakoan      | 1 |\n| Socorro        | Human        | 1 |\n| Stewjon        | Human        | 1 |\n| Sullust        | Sullustan    | 1 |\n| Toydaria       | Toydarian    | 1 |\n| Trandosha      | Trandoshan   | 1 |\n| Troiken        | Xexto        | 1 |\n| Tund           | Toong        | 1 |\n| Utapau         | Pau'an       | 1 |\n| Vulpter        | Vulptereen   | 1 |\n| Zolan          | Clawdite     | 1 |\n\n",
            "text/html": [
              "<table>\n",
              "<caption>A grouped_df: 52 × 3</caption>\n",
              "<thead>\n",
              "\t<tr><th scope=col>homeworld</th><th scope=col>species</th><th scope=col>total_count</th></tr>\n",
              "\t<tr><th scope=col>&lt;chr&gt;</th><th scope=col>&lt;chr&gt;</th><th scope=col>&lt;int&gt;</th></tr>\n",
              "</thead>\n",
              "<tbody>\n",
              "\t<tr><td>Tatooine      </td><td>Human       </td><td>8</td></tr>\n",
              "\t<tr><td>Naboo         </td><td>Human       </td><td>5</td></tr>\n",
              "\t<tr><td>Alderaan      </td><td>Human       </td><td>3</td></tr>\n",
              "\t<tr><td>Naboo         </td><td>Gungan      </td><td>3</td></tr>\n",
              "\t<tr><td>Corellia      </td><td>Human       </td><td>2</td></tr>\n",
              "\t<tr><td>Coruscant     </td><td>Human       </td><td>2</td></tr>\n",
              "\t<tr><td>Kamino        </td><td>Kaminoan    </td><td>2</td></tr>\n",
              "\t<tr><td>Kashyyyk      </td><td>Wookiee     </td><td>2</td></tr>\n",
              "\t<tr><td>Mirial        </td><td>Mirialan    </td><td>2</td></tr>\n",
              "\t<tr><td>Ryloth        </td><td>Twi'lek     </td><td>2</td></tr>\n",
              "\t<tr><td>Tatooine      </td><td>Droid       </td><td>2</td></tr>\n",
              "\t<tr><td>Aleen Minor   </td><td>Aleena      </td><td>1</td></tr>\n",
              "\t<tr><td>Bespin        </td><td>Human       </td><td>1</td></tr>\n",
              "\t<tr><td>Bestine IV    </td><td>Human       </td><td>1</td></tr>\n",
              "\t<tr><td>Cato Neimoidia</td><td>Neimodian   </td><td>1</td></tr>\n",
              "\t<tr><td>Cerea         </td><td>Cerean      </td><td>1</td></tr>\n",
              "\t<tr><td>Champala      </td><td>Chagrian    </td><td>1</td></tr>\n",
              "\t<tr><td>Chandrila     </td><td>Human       </td><td>1</td></tr>\n",
              "\t<tr><td>Concord Dawn  </td><td>Human       </td><td>1</td></tr>\n",
              "\t<tr><td>Coruscant     </td><td>Tholothian  </td><td>1</td></tr>\n",
              "\t<tr><td>Dathomir      </td><td>Zabrak      </td><td>1</td></tr>\n",
              "\t<tr><td>Dorin         </td><td>Kel Dor     </td><td>1</td></tr>\n",
              "\t<tr><td>Endor         </td><td>Ewok        </td><td>1</td></tr>\n",
              "\t<tr><td>Eriadu        </td><td>Human       </td><td>1</td></tr>\n",
              "\t<tr><td>Geonosis      </td><td>Geonosian   </td><td>1</td></tr>\n",
              "\t<tr><td>Glee Anselm   </td><td>Nautolan    </td><td>1</td></tr>\n",
              "\t<tr><td>Haruun Kal    </td><td>Human       </td><td>1</td></tr>\n",
              "\t<tr><td>Iktotch       </td><td>Iktotchi    </td><td>1</td></tr>\n",
              "\t<tr><td>Iridonia      </td><td>Zabrak      </td><td>1</td></tr>\n",
              "\t<tr><td>Kalee         </td><td>Kaleesh     </td><td>1</td></tr>\n",
              "\t<tr><td>Kamino        </td><td>Human       </td><td>1</td></tr>\n",
              "\t<tr><td>Malastare     </td><td>Dug         </td><td>1</td></tr>\n",
              "\t<tr><td>Mon Cala      </td><td>Mon Calamari</td><td>1</td></tr>\n",
              "\t<tr><td>Muunilinst    </td><td>Muun        </td><td>1</td></tr>\n",
              "\t<tr><td>Naboo         </td><td>Droid       </td><td>1</td></tr>\n",
              "\t<tr><td>Nal Hutta     </td><td>Hutt        </td><td>1</td></tr>\n",
              "\t<tr><td>Ojom          </td><td>Besalisk    </td><td>1</td></tr>\n",
              "\t<tr><td>Quermia       </td><td>Quermian    </td><td>1</td></tr>\n",
              "\t<tr><td>Rodia         </td><td>Rodian      </td><td>1</td></tr>\n",
              "\t<tr><td>Serenno       </td><td>Human       </td><td>1</td></tr>\n",
              "\t<tr><td>Shili         </td><td>Togruta     </td><td>1</td></tr>\n",
              "\t<tr><td>Skako         </td><td>Skakoan     </td><td>1</td></tr>\n",
              "\t<tr><td>Socorro       </td><td>Human       </td><td>1</td></tr>\n",
              "\t<tr><td>Stewjon       </td><td>Human       </td><td>1</td></tr>\n",
              "\t<tr><td>Sullust       </td><td>Sullustan   </td><td>1</td></tr>\n",
              "\t<tr><td>Toydaria      </td><td>Toydarian   </td><td>1</td></tr>\n",
              "\t<tr><td>Trandosha     </td><td>Trandoshan  </td><td>1</td></tr>\n",
              "\t<tr><td>Troiken       </td><td>Xexto       </td><td>1</td></tr>\n",
              "\t<tr><td>Tund          </td><td>Toong       </td><td>1</td></tr>\n",
              "\t<tr><td>Utapau        </td><td>Pau'an      </td><td>1</td></tr>\n",
              "\t<tr><td>Vulpter       </td><td>Vulptereen  </td><td>1</td></tr>\n",
              "\t<tr><td>Zolan         </td><td>Clawdite    </td><td>1</td></tr>\n",
              "</tbody>\n",
              "</table>\n"
            ]
          },
          "metadata": {
            "tags": []
          }
        }
      ]
    },
    {
      "cell_type": "markdown",
      "metadata": {
        "id": "CZBKDTT9ZaBU"
      },
      "source": [
        "#### EX.3.D\n",
        "El dataset del WHO (World Health Organization) contiene data de todos los países del mundo. Analizar la mediana y dispersión del PIB per cápita de los distintos continentes. ¿Qué podemos decir sobre la dispersión del PIB per capita en las distintas regiones? ¿en qué regiones los países tienen mayor nivel de disparidad en términos de PIB per capita?\n",
        "\n",
        "##### Se requiere calcular las siguiente variables agregadas según continente:\n",
        "\n",
        "\n",
        "*   Mediana de PIB per cápita\n",
        "*   Deviación estándar de PIB per cápita\n",
        "*   Coeficiente de variación de PIB pér cápita (sd/mediana)\n",
        "\n",
        "\n"
      ]
    },
    {
      "cell_type": "code",
      "metadata": {
        "colab": {
          "base_uri": "https://localhost:8080/"
        },
        "id": "fkTwMuTHFMbv",
        "outputId": "a0bfa3c5-d6bc-4540-ae9b-5a27ff67ce3d"
      },
      "source": [
        "df_who = fread(\"https://data-wizards.s3.amazonaws.com/datasets/dataset_na_who.csv\")\n",
        "glimpse(df_who)"
      ],
      "execution_count": null,
      "outputs": [
        {
          "output_type": "stream",
          "text": [
            "Rows: 196\n",
            "Columns: 13\n",
            "$ Country                                                  \u001b[3m\u001b[90m<chr>\u001b[39m\u001b[23m \"Afghanistan…\n",
            "$ CountryID                                                \u001b[3m\u001b[90m<int>\u001b[39m\u001b[23m 1, 2, 3, 4, …\n",
            "$ ContinentID                                              \u001b[3m\u001b[90m<int>\u001b[39m\u001b[23m 1, 2, 3, 2, …\n",
            "$ `Adolescent fertility rate (%)`                          \u001b[3m\u001b[90m<int>\u001b[39m\u001b[23m 151, 27, 6, …\n",
            "$ `Adult literacy rate (%)`                                \u001b[3m\u001b[90m<dbl>\u001b[39m\u001b[23m 28.0, 98.7, …\n",
            "$ `Gross national income per capita (PPP international $)` \u001b[3m\u001b[90m<int>\u001b[39m\u001b[23m NA, 6000, 59…\n",
            "$ `Net primary school enrolment ratio female (%)`          \u001b[3m\u001b[90m<int>\u001b[39m\u001b[23m NA, 93, 94, …\n",
            "$ `Net primary school enrolment ratio male (%)`            \u001b[3m\u001b[90m<int>\u001b[39m\u001b[23m NA, 94, 96, …\n",
            "$ `Population (in thousands) total`                        \u001b[3m\u001b[90m<int>\u001b[39m\u001b[23m 26088, 3172,…\n",
            "$ `Population annual growth rate (%)`                      \u001b[3m\u001b[90m<dbl>\u001b[39m\u001b[23m 4.0, 0.6, 1.…\n",
            "$ `Population in urban areas (%)`                          \u001b[3m\u001b[90m<int>\u001b[39m\u001b[23m 23, 46, 64, …\n",
            "$ `Population living below the poverty line`               \u001b[3m\u001b[90m<dbl>\u001b[39m\u001b[23m NA, 2.0, NA,…\n",
            "$ Continent                                                \u001b[3m\u001b[90m<chr>\u001b[39m\u001b[23m \"Middle East…\n"
          ],
          "name": "stdout"
        }
      ]
    },
    {
      "cell_type": "code",
      "metadata": {
        "colab": {
          "base_uri": "https://localhost:8080/",
          "height": 259
        },
        "id": "RGqkveNEFNq4",
        "outputId": "d73ba06e-a8e5-4dc6-be51-b6b2ce4e3658"
      },
      "source": [
        "df_who %>% group_by(\n",
        "    Continent                                                                                   # agrupamos por continente\n",
        "  ) %>% summarise(\n",
        "    median_GDP = median(`Gross national income per capita (PPP international $)`,na.rm=TRUE)    # agregamos mediana\n",
        "    ,std_GDP = sd(`Gross national income per capita (PPP international $)`,na.rm=TRUE)          # agregamos sd\n",
        "  ) %>% mutate(\n",
        "    coefficient_variation = std_GDP/median_GDP                                                  # partiendo de la data PREVIAMENTE AGREGADA, calculamos una nueva métrica\n",
        "  ) %>% arrange(\n",
        "    desc(coefficient_variation)                                                                 # ordenamos según nueva métrica agregada\n",
        "  ) "
      ],
      "execution_count": null,
      "outputs": [
        {
          "output_type": "stream",
          "text": [
            "`summarise()` ungrouping output (override with `.groups` argument)\n",
            "\n"
          ],
          "name": "stderr"
        },
        {
          "output_type": "display_data",
          "data": {
            "text/plain": [
              "  Continent     median_GDP std_GDP   coefficient_variation\n",
              "1 Africa         1205       4145.871 3.4405567            \n",
              "2 Oceania        5285      14252.514 2.6967861            \n",
              "3 Middle East    9800      13641.646 1.3920047            \n",
              "4 North America 15150      14607.104 0.9641653            \n",
              "5 Europe        15905      14278.685 0.8977482            \n",
              "6 Asia           2460       1457.250 0.5923781            \n",
              "7 South America  7065       3391.811 0.4800865            "
            ],
            "text/latex": "A tibble: 7 × 4\n\\begin{tabular}{llll}\n Continent & median\\_GDP & std\\_GDP & coefficient\\_variation\\\\\n <chr> & <dbl> & <dbl> & <dbl>\\\\\n\\hline\n\t Africa        &  1205 &  4145.871 & 3.4405567\\\\\n\t Oceania       &  5285 & 14252.514 & 2.6967861\\\\\n\t Middle East   &  9800 & 13641.646 & 1.3920047\\\\\n\t North America & 15150 & 14607.104 & 0.9641653\\\\\n\t Europe        & 15905 & 14278.685 & 0.8977482\\\\\n\t Asia          &  2460 &  1457.250 & 0.5923781\\\\\n\t South America &  7065 &  3391.811 & 0.4800865\\\\\n\\end{tabular}\n",
            "text/markdown": "\nA tibble: 7 × 4\n\n| Continent &lt;chr&gt; | median_GDP &lt;dbl&gt; | std_GDP &lt;dbl&gt; | coefficient_variation &lt;dbl&gt; |\n|---|---|---|---|\n| Africa        |  1205 |  4145.871 | 3.4405567 |\n| Oceania       |  5285 | 14252.514 | 2.6967861 |\n| Middle East   |  9800 | 13641.646 | 1.3920047 |\n| North America | 15150 | 14607.104 | 0.9641653 |\n| Europe        | 15905 | 14278.685 | 0.8977482 |\n| Asia          |  2460 |  1457.250 | 0.5923781 |\n| South America |  7065 |  3391.811 | 0.4800865 |\n\n",
            "text/html": [
              "<table>\n",
              "<caption>A tibble: 7 × 4</caption>\n",
              "<thead>\n",
              "\t<tr><th scope=col>Continent</th><th scope=col>median_GDP</th><th scope=col>std_GDP</th><th scope=col>coefficient_variation</th></tr>\n",
              "\t<tr><th scope=col>&lt;chr&gt;</th><th scope=col>&lt;dbl&gt;</th><th scope=col>&lt;dbl&gt;</th><th scope=col>&lt;dbl&gt;</th></tr>\n",
              "</thead>\n",
              "<tbody>\n",
              "\t<tr><td>Africa       </td><td> 1205</td><td> 4145.871</td><td>3.4405567</td></tr>\n",
              "\t<tr><td>Oceania      </td><td> 5285</td><td>14252.514</td><td>2.6967861</td></tr>\n",
              "\t<tr><td>Middle East  </td><td> 9800</td><td>13641.646</td><td>1.3920047</td></tr>\n",
              "\t<tr><td>North America</td><td>15150</td><td>14607.104</td><td>0.9641653</td></tr>\n",
              "\t<tr><td>Europe       </td><td>15905</td><td>14278.685</td><td>0.8977482</td></tr>\n",
              "\t<tr><td>Asia         </td><td> 2460</td><td> 1457.250</td><td>0.5923781</td></tr>\n",
              "\t<tr><td>South America</td><td> 7065</td><td> 3391.811</td><td>0.4800865</td></tr>\n",
              "</tbody>\n",
              "</table>\n"
            ]
          },
          "metadata": {
            "tags": []
          }
        }
      ]
    },
    {
      "cell_type": "markdown",
      "metadata": {
        "id": "7i949HvIYjXH"
      },
      "source": [
        "#### EX.3.E\n",
        "El dataset a continuación contiene un ranking con los videojuegos más vendido de la historia. Agregar ventas totales (todas las regiones) según *publisher* para los videojuegos de (únicamente) tres géneros: *sports*, *action* y *adventure*. Crear métricas específicas agregadas para cada uno de los tres géneros\n",
        "\n",
        "\n"
      ]
    },
    {
      "cell_type": "code",
      "metadata": {
        "colab": {
          "base_uri": "https://localhost:8080/"
        },
        "id": "RUw9PPOMvyhG",
        "outputId": "f36ac303-8393-404d-832b-b029b004fca0"
      },
      "source": [
        "df_videogames_games = fread(\"https://data-wizards.s3.amazonaws.com/datasets/dataset_videogames_games.csv\")\n",
        "glimpse(df_videogames_games)"
      ],
      "execution_count": null,
      "outputs": [
        {
          "output_type": "stream",
          "text": [
            "Rows: 15,947\n",
            "Columns: 10\n",
            "$ rank          \u001b[3m\u001b[90m<int>\u001b[39m\u001b[23m 1, 2, 3, 4, 5, 6, 7, 8, 9, 10, 11, 12, 13, 14, 15, 16, …\n",
            "$ name          \u001b[3m\u001b[90m<chr>\u001b[39m\u001b[23m \"Wii Sports\", \"Super Mario Bros.\", \"Mario Kart Wii\", \"W…\n",
            "$ platform_code \u001b[3m\u001b[90m<chr>\u001b[39m\u001b[23m \"Wii\", \"NES\", \"Wii\", \"Wii\", \"GB\", \"GB\", \"DS\", \"Wii\", \"W…\n",
            "$ year          \u001b[3m\u001b[90m<int>\u001b[39m\u001b[23m 2006, 1985, 2008, 2009, 1996, 1989, 2006, 2006, 2009, 1…\n",
            "$ genre         \u001b[3m\u001b[90m<chr>\u001b[39m\u001b[23m \"Sports\", \"Platform\", \"Racing\", \"Sports\", \"Role-Playing…\n",
            "$ publisher     \u001b[3m\u001b[90m<chr>\u001b[39m\u001b[23m \"Nintendo\", \"Nintendo\", \"Nintendo\", \"Nintendo\", \"Ninten…\n",
            "$ NA_sales      \u001b[3m\u001b[90m<dbl>\u001b[39m\u001b[23m 41.49, 29.08, 15.85, 15.75, 11.27, 23.20, 11.38, 14.03,…\n",
            "$ EU_sales      \u001b[3m\u001b[90m<dbl>\u001b[39m\u001b[23m 29.02, 3.58, 12.88, 11.01, 8.89, 2.26, 9.23, 9.20, 7.06…\n",
            "$ JP_sales      \u001b[3m\u001b[90m<dbl>\u001b[39m\u001b[23m 3.77, 6.81, 3.79, 3.28, 10.22, 4.22, 6.50, 2.93, 4.70, …\n",
            "$ Other_sales   \u001b[3m\u001b[90m<dbl>\u001b[39m\u001b[23m 8.46, 0.77, 3.31, 2.96, 1.00, 0.58, 2.90, 2.85, 2.26, 0…\n"
          ],
          "name": "stdout"
        }
      ]
    },
    {
      "cell_type": "code",
      "metadata": {
        "colab": {
          "base_uri": "https://localhost:8080/",
          "height": 1000
        },
        "id": "iFPFe9htv3dT",
        "outputId": "7c85ff13-31d9-4a9e-d1fe-fc507b1976d8"
      },
      "source": [
        "df_videogames_games %>% mutate(\n",
        "  total_sales = NA_sales + EU_sales + JP_sales + Other_sales\n",
        ") %>% group_by(\n",
        "  publisher\n",
        ") %>% summarise(\n",
        "  sales_sports = sum(total_sales[genre=='Sports'])\n",
        "  ,sales_action = sum(total_sales[genre=='Action'])\n",
        "  ,sales_adventure = sum(total_sales[genre=='Adventure'])\n",
        "  ,sales = sum(total_sales[genre %in% c('Sports','Action','Adventure')])\n",
        ") %>% arrange(\n",
        "  desc(sales)\n",
        ")"
      ],
      "execution_count": null,
      "outputs": [
        {
          "output_type": "stream",
          "text": [
            "`summarise()` ungrouping output (override with `.groups` argument)\n",
            "\n"
          ],
          "name": "stderr"
        },
        {
          "output_type": "display_data",
          "data": {
            "text/plain": [
              "    publisher                              sales_sports sales_action\n",
              "1   Electronic Arts                        457.33       115.35      \n",
              "2   Nintendo                               218.00       125.12      \n",
              "3   Take-Two Interactive                    74.77       211.11      \n",
              "4   Activision                              75.24       141.48      \n",
              "5   Ubisoft                                 23.35       139.19      \n",
              "6   Konami Digital Entertainment            96.96        69.58      \n",
              "7   Sony Computer Entertainment             59.43        93.28      \n",
              "8   THQ                                     13.02        88.93      \n",
              "9   Sega                                    71.67        30.09      \n",
              "10  Warner Bros. Interactive Entertainment   0.00       103.05      \n",
              "11  Capcom                                   0.47        84.55      \n",
              "12  Disney Interactive Studios               0.97        51.10      \n",
              "13  Eidos Interactive                        3.88        63.41      \n",
              "14  LucasArts                                0.00        59.60      \n",
              "15  Namco Bandai Games                      18.95        35.88      \n",
              "16  Atari                                   12.29        23.97      \n",
              "17  Tecmo Koei                               3.92        28.36      \n",
              "18  Square Enix                              0.00        28.11      \n",
              "19  Microsoft Game Studios                  14.63        11.83      \n",
              "20  Midway Games                            17.89         7.34      \n",
              "21  Virgin Interactive                       0.16        20.35      \n",
              "22  Acclaim Entertainment                   17.99         1.53      \n",
              "23  505 Games                               13.49         3.12      \n",
              "24  Deep Silver                              2.03        13.14      \n",
              "25  Vivendi Games                            0.11        11.74      \n",
              "26  Bethesda Softworks                       2.34         9.63      \n",
              "27  989 Studios                              8.97         2.63      \n",
              "28  D3Publisher                              0.75         9.75      \n",
              "29  GT Interactive                           0.77         8.87      \n",
              "30  Sony Computer Entertainment Europe       0.00         5.98      \n",
              "⋮   ⋮                                      ⋮            ⋮           \n",
              "536 System 3                               0            0           \n",
              "537 TalonSoft                              0            0           \n",
              "538 Team17 Software                        0            0           \n",
              "539 TechnoSoft                             0            0           \n",
              "540 Telegames                              0            0           \n",
              "541 Tetris Online                          0            0           \n",
              "542 The Learning Company                   0            0           \n",
              "543 Tivola                                 0            0           \n",
              "544 TOHO                                   0            0           \n",
              "545 TopWare Interactive                    0            0           \n",
              "546 Trion Worlds                           0            0           \n",
              "547 Tripwire Interactive                   0            0           \n",
              "548 Tryfirst                               0            0           \n",
              "549 TYO                                    0            0           \n",
              "550 Valve                                  0            0           \n",
              "551 Valve Software                         0            0           \n",
              "552 Vap                                    0            0           \n",
              "553 Vatical Entertainment                  0            0           \n",
              "554 Vic Tokai                              0            0           \n",
              "555 Visco                                  0            0           \n",
              "556 Warashi                                0            0           \n",
              "557 Wargaming.net                          0            0           \n",
              "558 Westwood Studios                       0            0           \n",
              "559 White Park Bay Software                0            0           \n",
              "560 Xing Entertainment                     0            0           \n",
              "561 Xplosiv                                0            0           \n",
              "562 Yacht Club Games                       0            0           \n",
              "563 Yamasa Entertainment                   0            0           \n",
              "564 Yuke's                                 0            0           \n",
              "565 Zenrin                                 0            0           \n",
              "    sales_adventure sales \n",
              "1    4.74           577.42\n",
              "2   35.67           378.79\n",
              "3    7.56           293.44\n",
              "4    5.42           222.14\n",
              "5   22.20           184.74\n",
              "6    7.20           173.74\n",
              "7   13.54           166.25\n",
              "8   19.97           121.92\n",
              "9    7.15           108.91\n",
              "10   0.58           103.63\n",
              "11   9.97            94.99\n",
              "12  17.75            69.82\n",
              "13   0.67            67.96\n",
              "14   2.03            61.63\n",
              "15   5.24            60.07\n",
              "16   2.26            38.52\n",
              "17   1.01            33.29\n",
              "18   2.32            30.43\n",
              "19   1.61            28.07\n",
              "20   0.35            25.58\n",
              "21   0.78            21.29\n",
              "22   1.23            20.75\n",
              "23   0.75            17.36\n",
              "24   1.65            16.82\n",
              "25   1.56            13.41\n",
              "26   0.00            11.97\n",
              "27   0.00            11.60\n",
              "28   0.72            11.22\n",
              "29   0.00             9.64\n",
              "30   2.63             8.61\n",
              "⋮   ⋮               ⋮     \n",
              "536 0               0     \n",
              "537 0               0     \n",
              "538 0               0     \n",
              "539 0               0     \n",
              "540 0               0     \n",
              "541 0               0     \n",
              "542 0               0     \n",
              "543 0               0     \n",
              "544 0               0     \n",
              "545 0               0     \n",
              "546 0               0     \n",
              "547 0               0     \n",
              "548 0               0     \n",
              "549 0               0     \n",
              "550 0               0     \n",
              "551 0               0     \n",
              "552 0               0     \n",
              "553 0               0     \n",
              "554 0               0     \n",
              "555 0               0     \n",
              "556 0               0     \n",
              "557 0               0     \n",
              "558 0               0     \n",
              "559 0               0     \n",
              "560 0               0     \n",
              "561 0               0     \n",
              "562 0               0     \n",
              "563 0               0     \n",
              "564 0               0     \n",
              "565 0               0     "
            ],
            "text/latex": "A tibble: 565 × 5\n\\begin{tabular}{lllll}\n publisher & sales\\_sports & sales\\_action & sales\\_adventure & sales\\\\\n <chr> & <dbl> & <dbl> & <dbl> & <dbl>\\\\\n\\hline\n\t Electronic Arts                        & 457.33 & 115.35 &  4.74 & 577.42\\\\\n\t Nintendo                               & 218.00 & 125.12 & 35.67 & 378.79\\\\\n\t Take-Two Interactive                   &  74.77 & 211.11 &  7.56 & 293.44\\\\\n\t Activision                             &  75.24 & 141.48 &  5.42 & 222.14\\\\\n\t Ubisoft                                &  23.35 & 139.19 & 22.20 & 184.74\\\\\n\t Konami Digital Entertainment           &  96.96 &  69.58 &  7.20 & 173.74\\\\\n\t Sony Computer Entertainment            &  59.43 &  93.28 & 13.54 & 166.25\\\\\n\t THQ                                    &  13.02 &  88.93 & 19.97 & 121.92\\\\\n\t Sega                                   &  71.67 &  30.09 &  7.15 & 108.91\\\\\n\t Warner Bros. Interactive Entertainment &   0.00 & 103.05 &  0.58 & 103.63\\\\\n\t Capcom                                 &   0.47 &  84.55 &  9.97 &  94.99\\\\\n\t Disney Interactive Studios             &   0.97 &  51.10 & 17.75 &  69.82\\\\\n\t Eidos Interactive                      &   3.88 &  63.41 &  0.67 &  67.96\\\\\n\t LucasArts                              &   0.00 &  59.60 &  2.03 &  61.63\\\\\n\t Namco Bandai Games                     &  18.95 &  35.88 &  5.24 &  60.07\\\\\n\t Atari                                  &  12.29 &  23.97 &  2.26 &  38.52\\\\\n\t Tecmo Koei                             &   3.92 &  28.36 &  1.01 &  33.29\\\\\n\t Square Enix                            &   0.00 &  28.11 &  2.32 &  30.43\\\\\n\t Microsoft Game Studios                 &  14.63 &  11.83 &  1.61 &  28.07\\\\\n\t Midway Games                           &  17.89 &   7.34 &  0.35 &  25.58\\\\\n\t Virgin Interactive                     &   0.16 &  20.35 &  0.78 &  21.29\\\\\n\t Acclaim Entertainment                  &  17.99 &   1.53 &  1.23 &  20.75\\\\\n\t 505 Games                              &  13.49 &   3.12 &  0.75 &  17.36\\\\\n\t Deep Silver                            &   2.03 &  13.14 &  1.65 &  16.82\\\\\n\t Vivendi Games                          &   0.11 &  11.74 &  1.56 &  13.41\\\\\n\t Bethesda Softworks                     &   2.34 &   9.63 &  0.00 &  11.97\\\\\n\t 989 Studios                            &   8.97 &   2.63 &  0.00 &  11.60\\\\\n\t D3Publisher                            &   0.75 &   9.75 &  0.72 &  11.22\\\\\n\t GT Interactive                         &   0.77 &   8.87 &  0.00 &   9.64\\\\\n\t Sony Computer Entertainment Europe     &   0.00 &   5.98 &  2.63 &   8.61\\\\\n\t ⋮ & ⋮ & ⋮ & ⋮ & ⋮\\\\\n\t System 3                & 0 & 0 & 0 & 0\\\\\n\t TalonSoft               & 0 & 0 & 0 & 0\\\\\n\t Team17 Software         & 0 & 0 & 0 & 0\\\\\n\t TechnoSoft              & 0 & 0 & 0 & 0\\\\\n\t Telegames               & 0 & 0 & 0 & 0\\\\\n\t Tetris Online           & 0 & 0 & 0 & 0\\\\\n\t The Learning Company    & 0 & 0 & 0 & 0\\\\\n\t Tivola                  & 0 & 0 & 0 & 0\\\\\n\t TOHO                    & 0 & 0 & 0 & 0\\\\\n\t TopWare Interactive     & 0 & 0 & 0 & 0\\\\\n\t Trion Worlds            & 0 & 0 & 0 & 0\\\\\n\t Tripwire Interactive    & 0 & 0 & 0 & 0\\\\\n\t Tryfirst                & 0 & 0 & 0 & 0\\\\\n\t TYO                     & 0 & 0 & 0 & 0\\\\\n\t Valve                   & 0 & 0 & 0 & 0\\\\\n\t Valve Software          & 0 & 0 & 0 & 0\\\\\n\t Vap                     & 0 & 0 & 0 & 0\\\\\n\t Vatical Entertainment   & 0 & 0 & 0 & 0\\\\\n\t Vic Tokai               & 0 & 0 & 0 & 0\\\\\n\t Visco                   & 0 & 0 & 0 & 0\\\\\n\t Warashi                 & 0 & 0 & 0 & 0\\\\\n\t Wargaming.net           & 0 & 0 & 0 & 0\\\\\n\t Westwood Studios        & 0 & 0 & 0 & 0\\\\\n\t White Park Bay Software & 0 & 0 & 0 & 0\\\\\n\t Xing Entertainment      & 0 & 0 & 0 & 0\\\\\n\t Xplosiv                 & 0 & 0 & 0 & 0\\\\\n\t Yacht Club Games        & 0 & 0 & 0 & 0\\\\\n\t Yamasa Entertainment    & 0 & 0 & 0 & 0\\\\\n\t Yuke's                  & 0 & 0 & 0 & 0\\\\\n\t Zenrin                  & 0 & 0 & 0 & 0\\\\\n\\end{tabular}\n",
            "text/markdown": "\nA tibble: 565 × 5\n\n| publisher &lt;chr&gt; | sales_sports &lt;dbl&gt; | sales_action &lt;dbl&gt; | sales_adventure &lt;dbl&gt; | sales &lt;dbl&gt; |\n|---|---|---|---|---|\n| Electronic Arts                        | 457.33 | 115.35 |  4.74 | 577.42 |\n| Nintendo                               | 218.00 | 125.12 | 35.67 | 378.79 |\n| Take-Two Interactive                   |  74.77 | 211.11 |  7.56 | 293.44 |\n| Activision                             |  75.24 | 141.48 |  5.42 | 222.14 |\n| Ubisoft                                |  23.35 | 139.19 | 22.20 | 184.74 |\n| Konami Digital Entertainment           |  96.96 |  69.58 |  7.20 | 173.74 |\n| Sony Computer Entertainment            |  59.43 |  93.28 | 13.54 | 166.25 |\n| THQ                                    |  13.02 |  88.93 | 19.97 | 121.92 |\n| Sega                                   |  71.67 |  30.09 |  7.15 | 108.91 |\n| Warner Bros. Interactive Entertainment |   0.00 | 103.05 |  0.58 | 103.63 |\n| Capcom                                 |   0.47 |  84.55 |  9.97 |  94.99 |\n| Disney Interactive Studios             |   0.97 |  51.10 | 17.75 |  69.82 |\n| Eidos Interactive                      |   3.88 |  63.41 |  0.67 |  67.96 |\n| LucasArts                              |   0.00 |  59.60 |  2.03 |  61.63 |\n| Namco Bandai Games                     |  18.95 |  35.88 |  5.24 |  60.07 |\n| Atari                                  |  12.29 |  23.97 |  2.26 |  38.52 |\n| Tecmo Koei                             |   3.92 |  28.36 |  1.01 |  33.29 |\n| Square Enix                            |   0.00 |  28.11 |  2.32 |  30.43 |\n| Microsoft Game Studios                 |  14.63 |  11.83 |  1.61 |  28.07 |\n| Midway Games                           |  17.89 |   7.34 |  0.35 |  25.58 |\n| Virgin Interactive                     |   0.16 |  20.35 |  0.78 |  21.29 |\n| Acclaim Entertainment                  |  17.99 |   1.53 |  1.23 |  20.75 |\n| 505 Games                              |  13.49 |   3.12 |  0.75 |  17.36 |\n| Deep Silver                            |   2.03 |  13.14 |  1.65 |  16.82 |\n| Vivendi Games                          |   0.11 |  11.74 |  1.56 |  13.41 |\n| Bethesda Softworks                     |   2.34 |   9.63 |  0.00 |  11.97 |\n| 989 Studios                            |   8.97 |   2.63 |  0.00 |  11.60 |\n| D3Publisher                            |   0.75 |   9.75 |  0.72 |  11.22 |\n| GT Interactive                         |   0.77 |   8.87 |  0.00 |   9.64 |\n| Sony Computer Entertainment Europe     |   0.00 |   5.98 |  2.63 |   8.61 |\n| ⋮ | ⋮ | ⋮ | ⋮ | ⋮ |\n| System 3                | 0 | 0 | 0 | 0 |\n| TalonSoft               | 0 | 0 | 0 | 0 |\n| Team17 Software         | 0 | 0 | 0 | 0 |\n| TechnoSoft              | 0 | 0 | 0 | 0 |\n| Telegames               | 0 | 0 | 0 | 0 |\n| Tetris Online           | 0 | 0 | 0 | 0 |\n| The Learning Company    | 0 | 0 | 0 | 0 |\n| Tivola                  | 0 | 0 | 0 | 0 |\n| TOHO                    | 0 | 0 | 0 | 0 |\n| TopWare Interactive     | 0 | 0 | 0 | 0 |\n| Trion Worlds            | 0 | 0 | 0 | 0 |\n| Tripwire Interactive    | 0 | 0 | 0 | 0 |\n| Tryfirst                | 0 | 0 | 0 | 0 |\n| TYO                     | 0 | 0 | 0 | 0 |\n| Valve                   | 0 | 0 | 0 | 0 |\n| Valve Software          | 0 | 0 | 0 | 0 |\n| Vap                     | 0 | 0 | 0 | 0 |\n| Vatical Entertainment   | 0 | 0 | 0 | 0 |\n| Vic Tokai               | 0 | 0 | 0 | 0 |\n| Visco                   | 0 | 0 | 0 | 0 |\n| Warashi                 | 0 | 0 | 0 | 0 |\n| Wargaming.net           | 0 | 0 | 0 | 0 |\n| Westwood Studios        | 0 | 0 | 0 | 0 |\n| White Park Bay Software | 0 | 0 | 0 | 0 |\n| Xing Entertainment      | 0 | 0 | 0 | 0 |\n| Xplosiv                 | 0 | 0 | 0 | 0 |\n| Yacht Club Games        | 0 | 0 | 0 | 0 |\n| Yamasa Entertainment    | 0 | 0 | 0 | 0 |\n| Yuke's                  | 0 | 0 | 0 | 0 |\n| Zenrin                  | 0 | 0 | 0 | 0 |\n\n",
            "text/html": [
              "<table>\n",
              "<caption>A tibble: 565 × 5</caption>\n",
              "<thead>\n",
              "\t<tr><th scope=col>publisher</th><th scope=col>sales_sports</th><th scope=col>sales_action</th><th scope=col>sales_adventure</th><th scope=col>sales</th></tr>\n",
              "\t<tr><th scope=col>&lt;chr&gt;</th><th scope=col>&lt;dbl&gt;</th><th scope=col>&lt;dbl&gt;</th><th scope=col>&lt;dbl&gt;</th><th scope=col>&lt;dbl&gt;</th></tr>\n",
              "</thead>\n",
              "<tbody>\n",
              "\t<tr><td>Electronic Arts                       </td><td>457.33</td><td>115.35</td><td> 4.74</td><td>577.42</td></tr>\n",
              "\t<tr><td>Nintendo                              </td><td>218.00</td><td>125.12</td><td>35.67</td><td>378.79</td></tr>\n",
              "\t<tr><td>Take-Two Interactive                  </td><td> 74.77</td><td>211.11</td><td> 7.56</td><td>293.44</td></tr>\n",
              "\t<tr><td>Activision                            </td><td> 75.24</td><td>141.48</td><td> 5.42</td><td>222.14</td></tr>\n",
              "\t<tr><td>Ubisoft                               </td><td> 23.35</td><td>139.19</td><td>22.20</td><td>184.74</td></tr>\n",
              "\t<tr><td>Konami Digital Entertainment          </td><td> 96.96</td><td> 69.58</td><td> 7.20</td><td>173.74</td></tr>\n",
              "\t<tr><td>Sony Computer Entertainment           </td><td> 59.43</td><td> 93.28</td><td>13.54</td><td>166.25</td></tr>\n",
              "\t<tr><td>THQ                                   </td><td> 13.02</td><td> 88.93</td><td>19.97</td><td>121.92</td></tr>\n",
              "\t<tr><td>Sega                                  </td><td> 71.67</td><td> 30.09</td><td> 7.15</td><td>108.91</td></tr>\n",
              "\t<tr><td>Warner Bros. Interactive Entertainment</td><td>  0.00</td><td>103.05</td><td> 0.58</td><td>103.63</td></tr>\n",
              "\t<tr><td>Capcom                                </td><td>  0.47</td><td> 84.55</td><td> 9.97</td><td> 94.99</td></tr>\n",
              "\t<tr><td>Disney Interactive Studios            </td><td>  0.97</td><td> 51.10</td><td>17.75</td><td> 69.82</td></tr>\n",
              "\t<tr><td>Eidos Interactive                     </td><td>  3.88</td><td> 63.41</td><td> 0.67</td><td> 67.96</td></tr>\n",
              "\t<tr><td>LucasArts                             </td><td>  0.00</td><td> 59.60</td><td> 2.03</td><td> 61.63</td></tr>\n",
              "\t<tr><td>Namco Bandai Games                    </td><td> 18.95</td><td> 35.88</td><td> 5.24</td><td> 60.07</td></tr>\n",
              "\t<tr><td>Atari                                 </td><td> 12.29</td><td> 23.97</td><td> 2.26</td><td> 38.52</td></tr>\n",
              "\t<tr><td>Tecmo Koei                            </td><td>  3.92</td><td> 28.36</td><td> 1.01</td><td> 33.29</td></tr>\n",
              "\t<tr><td>Square Enix                           </td><td>  0.00</td><td> 28.11</td><td> 2.32</td><td> 30.43</td></tr>\n",
              "\t<tr><td>Microsoft Game Studios                </td><td> 14.63</td><td> 11.83</td><td> 1.61</td><td> 28.07</td></tr>\n",
              "\t<tr><td>Midway Games                          </td><td> 17.89</td><td>  7.34</td><td> 0.35</td><td> 25.58</td></tr>\n",
              "\t<tr><td>Virgin Interactive                    </td><td>  0.16</td><td> 20.35</td><td> 0.78</td><td> 21.29</td></tr>\n",
              "\t<tr><td>Acclaim Entertainment                 </td><td> 17.99</td><td>  1.53</td><td> 1.23</td><td> 20.75</td></tr>\n",
              "\t<tr><td>505 Games                             </td><td> 13.49</td><td>  3.12</td><td> 0.75</td><td> 17.36</td></tr>\n",
              "\t<tr><td>Deep Silver                           </td><td>  2.03</td><td> 13.14</td><td> 1.65</td><td> 16.82</td></tr>\n",
              "\t<tr><td>Vivendi Games                         </td><td>  0.11</td><td> 11.74</td><td> 1.56</td><td> 13.41</td></tr>\n",
              "\t<tr><td>Bethesda Softworks                    </td><td>  2.34</td><td>  9.63</td><td> 0.00</td><td> 11.97</td></tr>\n",
              "\t<tr><td>989 Studios                           </td><td>  8.97</td><td>  2.63</td><td> 0.00</td><td> 11.60</td></tr>\n",
              "\t<tr><td>D3Publisher                           </td><td>  0.75</td><td>  9.75</td><td> 0.72</td><td> 11.22</td></tr>\n",
              "\t<tr><td>GT Interactive                        </td><td>  0.77</td><td>  8.87</td><td> 0.00</td><td>  9.64</td></tr>\n",
              "\t<tr><td>Sony Computer Entertainment Europe    </td><td>  0.00</td><td>  5.98</td><td> 2.63</td><td>  8.61</td></tr>\n",
              "\t<tr><td>⋮</td><td>⋮</td><td>⋮</td><td>⋮</td><td>⋮</td></tr>\n",
              "\t<tr><td>System 3               </td><td>0</td><td>0</td><td>0</td><td>0</td></tr>\n",
              "\t<tr><td>TalonSoft              </td><td>0</td><td>0</td><td>0</td><td>0</td></tr>\n",
              "\t<tr><td>Team17 Software        </td><td>0</td><td>0</td><td>0</td><td>0</td></tr>\n",
              "\t<tr><td>TechnoSoft             </td><td>0</td><td>0</td><td>0</td><td>0</td></tr>\n",
              "\t<tr><td>Telegames              </td><td>0</td><td>0</td><td>0</td><td>0</td></tr>\n",
              "\t<tr><td>Tetris Online          </td><td>0</td><td>0</td><td>0</td><td>0</td></tr>\n",
              "\t<tr><td>The Learning Company   </td><td>0</td><td>0</td><td>0</td><td>0</td></tr>\n",
              "\t<tr><td>Tivola                 </td><td>0</td><td>0</td><td>0</td><td>0</td></tr>\n",
              "\t<tr><td>TOHO                   </td><td>0</td><td>0</td><td>0</td><td>0</td></tr>\n",
              "\t<tr><td>TopWare Interactive    </td><td>0</td><td>0</td><td>0</td><td>0</td></tr>\n",
              "\t<tr><td>Trion Worlds           </td><td>0</td><td>0</td><td>0</td><td>0</td></tr>\n",
              "\t<tr><td>Tripwire Interactive   </td><td>0</td><td>0</td><td>0</td><td>0</td></tr>\n",
              "\t<tr><td>Tryfirst               </td><td>0</td><td>0</td><td>0</td><td>0</td></tr>\n",
              "\t<tr><td>TYO                    </td><td>0</td><td>0</td><td>0</td><td>0</td></tr>\n",
              "\t<tr><td>Valve                  </td><td>0</td><td>0</td><td>0</td><td>0</td></tr>\n",
              "\t<tr><td>Valve Software         </td><td>0</td><td>0</td><td>0</td><td>0</td></tr>\n",
              "\t<tr><td>Vap                    </td><td>0</td><td>0</td><td>0</td><td>0</td></tr>\n",
              "\t<tr><td>Vatical Entertainment  </td><td>0</td><td>0</td><td>0</td><td>0</td></tr>\n",
              "\t<tr><td>Vic Tokai              </td><td>0</td><td>0</td><td>0</td><td>0</td></tr>\n",
              "\t<tr><td>Visco                  </td><td>0</td><td>0</td><td>0</td><td>0</td></tr>\n",
              "\t<tr><td>Warashi                </td><td>0</td><td>0</td><td>0</td><td>0</td></tr>\n",
              "\t<tr><td>Wargaming.net          </td><td>0</td><td>0</td><td>0</td><td>0</td></tr>\n",
              "\t<tr><td>Westwood Studios       </td><td>0</td><td>0</td><td>0</td><td>0</td></tr>\n",
              "\t<tr><td>White Park Bay Software</td><td>0</td><td>0</td><td>0</td><td>0</td></tr>\n",
              "\t<tr><td>Xing Entertainment     </td><td>0</td><td>0</td><td>0</td><td>0</td></tr>\n",
              "\t<tr><td>Xplosiv                </td><td>0</td><td>0</td><td>0</td><td>0</td></tr>\n",
              "\t<tr><td>Yacht Club Games       </td><td>0</td><td>0</td><td>0</td><td>0</td></tr>\n",
              "\t<tr><td>Yamasa Entertainment   </td><td>0</td><td>0</td><td>0</td><td>0</td></tr>\n",
              "\t<tr><td>Yuke's                 </td><td>0</td><td>0</td><td>0</td><td>0</td></tr>\n",
              "\t<tr><td>Zenrin                 </td><td>0</td><td>0</td><td>0</td><td>0</td></tr>\n",
              "</tbody>\n",
              "</table>\n"
            ]
          },
          "metadata": {
            "tags": []
          }
        }
      ]
    },
    {
      "cell_type": "markdown",
      "metadata": {
        "id": "UTEWOu_6YjJv"
      },
      "source": [
        "#### EX.3.F\n",
        "El dataset a continuación contiene un ranking de los 100 mejores álbumes de heavy metal, según la revista \"Rolling Stones\". Agregar la valoración (*rating*) medio según subgénero del metal e incluir métricas agregadas específicamente para cada década de año de publicación."
      ]
    },
    {
      "cell_type": "code",
      "metadata": {
        "colab": {
          "base_uri": "https://localhost:8080/"
        },
        "id": "mCv57c9BpJXA",
        "outputId": "06734fb7-76cf-4644-b507-53a507c19822"
      },
      "source": [
        "df_rolling_stones_albums = fread(\"https://data-wizards.s3.amazonaws.com/datasets/rolling_stones_top_metal_albums.csv\")\n",
        "glimpse(df_rolling_stones_albums)"
      ],
      "execution_count": null,
      "outputs": [
        {
          "output_type": "stream",
          "text": [
            "Rows: 100\n",
            "Columns: 15\n",
            "$ AlbumID_Rank           \u001b[3m\u001b[90m<int>\u001b[39m\u001b[23m 1, 2, 3, 4, 5, 6, 7, 8, 9, 10, 11, 12, 13, 14,…\n",
            "$ Artist                 \u001b[3m\u001b[90m<chr>\u001b[39m\u001b[23m \"Black Sabbath\", \"Metallica\", \"Judas Priest\", …\n",
            "$ Album                  \u001b[3m\u001b[90m<chr>\u001b[39m\u001b[23m \"Paranoid\", \"Master of Puppets\", \"British Stee…\n",
            "$ `Release Year`         \u001b[3m\u001b[90m<int>\u001b[39m\u001b[23m 1970, 1986, 1980, 1982, 1970, 1986, 1984, 1986…\n",
            "$ Spotify_Album          \u001b[3m\u001b[90m<chr>\u001b[39m\u001b[23m \"6r7LZXAVueS5DqdrvXJJK7\", \"41bTjcSaiEe4G40RVVH…\n",
            "$ Description            \u001b[3m\u001b[90m<chr>\u001b[39m\u001b[23m \"http://www.rollingstone.com/music/lists/the-1…\n",
            "$ wiki                   \u001b[3m\u001b[90m<chr>\u001b[39m\u001b[23m \"https://en.wikipedia.org/wiki/Paranoid_(album…\n",
            "$ Duration               \u001b[3m\u001b[90m<chr>\u001b[39m\u001b[23m \"41:47:00\", \"54:50:00\", \"35:59:00\", \"37:40:00\"…\n",
            "$ Minutes                \u001b[3m\u001b[90m<int>\u001b[39m\u001b[23m 41, 54, 35, 37, 39, 28, 85, 36, 39, 52, 47, 38…\n",
            "$ Seconds                \u001b[3m\u001b[90m<int>\u001b[39m\u001b[23m 47, 50, 59, 40, 23, 59, 51, 15, 31, 53, 26, 42…\n",
            "$ `Total Seconds`        \u001b[3m\u001b[90m<int>\u001b[39m\u001b[23m 2507, 3290, 2159, 2260, 2363, 1739, 5151, 2175…\n",
            "$ Label                  \u001b[3m\u001b[90m<chr>\u001b[39m\u001b[23m \"Warner Bros\", \"Elektra\", \"Columbia\", \"Harvest…\n",
            "$ `Sub Metal Genre`      \u001b[3m\u001b[90m<chr>\u001b[39m\u001b[23m \"Heavy Metal\", \"Thrash Metal\", \"New Wave of Br…\n",
            "$ Rating                 \u001b[3m\u001b[90m<dbl>\u001b[39m\u001b[23m 5.0, 5.0, 4.5, 2.5, 5.0, 4.5, 5.0, 2.5, 4.0, 4…\n",
            "$ `Rolling Stone Rating` \u001b[3m\u001b[90m<chr>\u001b[39m\u001b[23m \"Rolling Stone\", \"Rolling Stone\", \"AllMusic\", …\n"
          ],
          "name": "stdout"
        }
      ]
    },
    {
      "cell_type": "code",
      "metadata": {
        "colab": {
          "base_uri": "https://localhost:8080/",
          "height": 574
        },
        "id": "wCpomwKuqU24",
        "outputId": "3048ed5d-d54b-430e-fbe5-1f334c7a1cae"
      },
      "source": [
        "df_rolling_stones_albums %>% mutate(\n",
        "  decade = case_when(\n",
        "    `Release Year` <1980 ~ '70s'\n",
        "    ,`Release Year` <1990 ~ '80s'\n",
        "    ,`Release Year` <2000 ~ '90s'\n",
        "    ,`Release Year` <2010 ~ '2000s'\n",
        "    ,`Release Year` <2020 ~ '2010s'\n",
        "    , TRUE == TRUE ~ 'other'\n",
        "  )\n",
        ") %>% group_by(\n",
        "  `Sub Metal Genre`\n",
        ") %>% summarise(\n",
        "  avg_rating_70s = mean(Rating[decade=='70s'],na.rm=TRUE)\n",
        "  ,avg_rating_80s = mean(Rating[decade=='80s'],na.rm=TRUE)\n",
        "  ,avg_rating_90s = mean(Rating[decade=='90s'],na.rm=TRUE)\n",
        "  ,avg_rating_2000s = mean(Rating[decade=='2000s'],na.rm=TRUE)\n",
        "  ,avg_rating_2010s = mean(Rating[decade=='2010s'],na.rm=TRUE)\n",
        "  ,avg_rating_all = mean(Rating,na.rm=TRUE)\n",
        ") %>% arrange(\n",
        "  desc(avg_rating_all)\n",
        ")"
      ],
      "execution_count": null,
      "outputs": [
        {
          "output_type": "stream",
          "text": [
            "`summarise()` ungrouping output (override with `.groups` argument)\n",
            "\n"
          ],
          "name": "stderr"
        },
        {
          "output_type": "display_data",
          "data": {
            "text/plain": [
              "   Sub Metal Genre                 avg_rating_70s avg_rating_80s avg_rating_90s\n",
              "1  Death Metal                          NaN            NaN       4.625000      \n",
              "2  Drone Metal                          NaN            NaN            NaN      \n",
              "3  Metalcore                            NaN            NaN            NaN      \n",
              "4  Prog Metal                           NaN       3.000000       4.500000      \n",
              "5  Black Metal                          NaN       4.375000       4.250000      \n",
              "6  Grindcore                            NaN       4.500000       4.000000      \n",
              "7  Post Metal                           NaN            NaN       5.000000      \n",
              "8  Industrial Metal                     NaN       4.500000       4.000000      \n",
              "9  New Wave of British Heavy Metal 4.500000       4.166667            NaN      \n",
              "10 Groove Metal                         NaN            NaN       4.000000      \n",
              "11 Nu Metal                             NaN            NaN       4.500000      \n",
              "12 Stoner Rock                          NaN            NaN       4.000000      \n",
              "13 Heavy Metal                     4.166667       3.666667            NaN      \n",
              "14 Thrash Metal                         NaN       3.954545       3.500000      \n",
              "15 Power Metal                          NaN       4.000000            NaN      \n",
              "16 Alternative Metal                    NaN       4.000000       3.583333      \n",
              "17 Sludge Metal                         NaN            NaN       4.000000      \n",
              "18 Hair Metal                           NaN       3.250000            NaN      \n",
              "19 Rap Metal                            NaN            NaN       3.000000      \n",
              "20 Speed Metal                          NaN       2.750000       3.500000      \n",
              "21 Hard Rock                            NaN       2.500000            NaN      \n",
              "22 Gothic Metal                         NaN            NaN       2.000000      \n",
              "   avg_rating_2000s avg_rating_2010s avg_rating_all\n",
              "1       NaN         NaN              4.625000      \n",
              "2  4.500000         NaN              4.500000      \n",
              "3  4.500000         NaN              4.500000      \n",
              "4  4.666667         NaN              4.388889      \n",
              "5       NaN         NaN              4.333333      \n",
              "6  4.500000         NaN              4.333333      \n",
              "7  5.000000         3.0              4.333333      \n",
              "8       NaN         NaN              4.250000      \n",
              "9       NaN         NaN              4.214286      \n",
              "10      NaN         NaN              4.000000      \n",
              "11 3.750000         NaN              4.000000      \n",
              "12      NaN         NaN              4.000000      \n",
              "13 3.000000         4.5              3.892857      \n",
              "14 3.000000         NaN              3.800000      \n",
              "15 3.500000         NaN              3.750000      \n",
              "16 3.000000         NaN              3.550000      \n",
              "17 3.250000         NaN              3.500000      \n",
              "18      NaN         NaN              3.250000      \n",
              "19      NaN         NaN              3.000000      \n",
              "20      NaN         NaN              3.000000      \n",
              "21      NaN         NaN              2.500000      \n",
              "22      NaN         NaN              2.000000      "
            ],
            "text/latex": "A tibble: 22 × 7\n\\begin{tabular}{lllllll}\n Sub Metal Genre & avg\\_rating\\_70s & avg\\_rating\\_80s & avg\\_rating\\_90s & avg\\_rating\\_2000s & avg\\_rating\\_2010s & avg\\_rating\\_all\\\\\n <chr> & <dbl> & <dbl> & <dbl> & <dbl> & <dbl> & <dbl>\\\\\n\\hline\n\t Death Metal                     &      NaN &      NaN & 4.625000 &      NaN & NaN & 4.625000\\\\\n\t Drone Metal                     &      NaN &      NaN &      NaN & 4.500000 & NaN & 4.500000\\\\\n\t Metalcore                       &      NaN &      NaN &      NaN & 4.500000 & NaN & 4.500000\\\\\n\t Prog Metal                      &      NaN & 3.000000 & 4.500000 & 4.666667 & NaN & 4.388889\\\\\n\t Black Metal                     &      NaN & 4.375000 & 4.250000 &      NaN & NaN & 4.333333\\\\\n\t Grindcore                       &      NaN & 4.500000 & 4.000000 & 4.500000 & NaN & 4.333333\\\\\n\t Post Metal                      &      NaN &      NaN & 5.000000 & 5.000000 & 3.0 & 4.333333\\\\\n\t Industrial Metal                &      NaN & 4.500000 & 4.000000 &      NaN & NaN & 4.250000\\\\\n\t New Wave of British Heavy Metal & 4.500000 & 4.166667 &      NaN &      NaN & NaN & 4.214286\\\\\n\t Groove Metal                    &      NaN &      NaN & 4.000000 &      NaN & NaN & 4.000000\\\\\n\t Nu Metal                        &      NaN &      NaN & 4.500000 & 3.750000 & NaN & 4.000000\\\\\n\t Stoner Rock                     &      NaN &      NaN & 4.000000 &      NaN & NaN & 4.000000\\\\\n\t Heavy Metal                     & 4.166667 & 3.666667 &      NaN & 3.000000 & 4.5 & 3.892857\\\\\n\t Thrash Metal                    &      NaN & 3.954545 & 3.500000 & 3.000000 & NaN & 3.800000\\\\\n\t Power Metal                     &      NaN & 4.000000 &      NaN & 3.500000 & NaN & 3.750000\\\\\n\t Alternative Metal               &      NaN & 4.000000 & 3.583333 & 3.000000 & NaN & 3.550000\\\\\n\t Sludge Metal                    &      NaN &      NaN & 4.000000 & 3.250000 & NaN & 3.500000\\\\\n\t Hair Metal                      &      NaN & 3.250000 &      NaN &      NaN & NaN & 3.250000\\\\\n\t Rap Metal                       &      NaN &      NaN & 3.000000 &      NaN & NaN & 3.000000\\\\\n\t Speed Metal                     &      NaN & 2.750000 & 3.500000 &      NaN & NaN & 3.000000\\\\\n\t Hard Rock                       &      NaN & 2.500000 &      NaN &      NaN & NaN & 2.500000\\\\\n\t Gothic Metal                    &      NaN &      NaN & 2.000000 &      NaN & NaN & 2.000000\\\\\n\\end{tabular}\n",
            "text/markdown": "\nA tibble: 22 × 7\n\n| Sub Metal Genre &lt;chr&gt; | avg_rating_70s &lt;dbl&gt; | avg_rating_80s &lt;dbl&gt; | avg_rating_90s &lt;dbl&gt; | avg_rating_2000s &lt;dbl&gt; | avg_rating_2010s &lt;dbl&gt; | avg_rating_all &lt;dbl&gt; |\n|---|---|---|---|---|---|---|\n| Death Metal                     |      NaN |      NaN | 4.625000 |      NaN | NaN | 4.625000 |\n| Drone Metal                     |      NaN |      NaN |      NaN | 4.500000 | NaN | 4.500000 |\n| Metalcore                       |      NaN |      NaN |      NaN | 4.500000 | NaN | 4.500000 |\n| Prog Metal                      |      NaN | 3.000000 | 4.500000 | 4.666667 | NaN | 4.388889 |\n| Black Metal                     |      NaN | 4.375000 | 4.250000 |      NaN | NaN | 4.333333 |\n| Grindcore                       |      NaN | 4.500000 | 4.000000 | 4.500000 | NaN | 4.333333 |\n| Post Metal                      |      NaN |      NaN | 5.000000 | 5.000000 | 3.0 | 4.333333 |\n| Industrial Metal                |      NaN | 4.500000 | 4.000000 |      NaN | NaN | 4.250000 |\n| New Wave of British Heavy Metal | 4.500000 | 4.166667 |      NaN |      NaN | NaN | 4.214286 |\n| Groove Metal                    |      NaN |      NaN | 4.000000 |      NaN | NaN | 4.000000 |\n| Nu Metal                        |      NaN |      NaN | 4.500000 | 3.750000 | NaN | 4.000000 |\n| Stoner Rock                     |      NaN |      NaN | 4.000000 |      NaN | NaN | 4.000000 |\n| Heavy Metal                     | 4.166667 | 3.666667 |      NaN | 3.000000 | 4.5 | 3.892857 |\n| Thrash Metal                    |      NaN | 3.954545 | 3.500000 | 3.000000 | NaN | 3.800000 |\n| Power Metal                     |      NaN | 4.000000 |      NaN | 3.500000 | NaN | 3.750000 |\n| Alternative Metal               |      NaN | 4.000000 | 3.583333 | 3.000000 | NaN | 3.550000 |\n| Sludge Metal                    |      NaN |      NaN | 4.000000 | 3.250000 | NaN | 3.500000 |\n| Hair Metal                      |      NaN | 3.250000 |      NaN |      NaN | NaN | 3.250000 |\n| Rap Metal                       |      NaN |      NaN | 3.000000 |      NaN | NaN | 3.000000 |\n| Speed Metal                     |      NaN | 2.750000 | 3.500000 |      NaN | NaN | 3.000000 |\n| Hard Rock                       |      NaN | 2.500000 |      NaN |      NaN | NaN | 2.500000 |\n| Gothic Metal                    |      NaN |      NaN | 2.000000 |      NaN | NaN | 2.000000 |\n\n",
            "text/html": [
              "<table>\n",
              "<caption>A tibble: 22 × 7</caption>\n",
              "<thead>\n",
              "\t<tr><th scope=col>Sub Metal Genre</th><th scope=col>avg_rating_70s</th><th scope=col>avg_rating_80s</th><th scope=col>avg_rating_90s</th><th scope=col>avg_rating_2000s</th><th scope=col>avg_rating_2010s</th><th scope=col>avg_rating_all</th></tr>\n",
              "\t<tr><th scope=col>&lt;chr&gt;</th><th scope=col>&lt;dbl&gt;</th><th scope=col>&lt;dbl&gt;</th><th scope=col>&lt;dbl&gt;</th><th scope=col>&lt;dbl&gt;</th><th scope=col>&lt;dbl&gt;</th><th scope=col>&lt;dbl&gt;</th></tr>\n",
              "</thead>\n",
              "<tbody>\n",
              "\t<tr><td>Death Metal                    </td><td>     NaN</td><td>     NaN</td><td>4.625000</td><td>     NaN</td><td>NaN</td><td>4.625000</td></tr>\n",
              "\t<tr><td>Drone Metal                    </td><td>     NaN</td><td>     NaN</td><td>     NaN</td><td>4.500000</td><td>NaN</td><td>4.500000</td></tr>\n",
              "\t<tr><td>Metalcore                      </td><td>     NaN</td><td>     NaN</td><td>     NaN</td><td>4.500000</td><td>NaN</td><td>4.500000</td></tr>\n",
              "\t<tr><td>Prog Metal                     </td><td>     NaN</td><td>3.000000</td><td>4.500000</td><td>4.666667</td><td>NaN</td><td>4.388889</td></tr>\n",
              "\t<tr><td>Black Metal                    </td><td>     NaN</td><td>4.375000</td><td>4.250000</td><td>     NaN</td><td>NaN</td><td>4.333333</td></tr>\n",
              "\t<tr><td>Grindcore                      </td><td>     NaN</td><td>4.500000</td><td>4.000000</td><td>4.500000</td><td>NaN</td><td>4.333333</td></tr>\n",
              "\t<tr><td>Post Metal                     </td><td>     NaN</td><td>     NaN</td><td>5.000000</td><td>5.000000</td><td>3.0</td><td>4.333333</td></tr>\n",
              "\t<tr><td>Industrial Metal               </td><td>     NaN</td><td>4.500000</td><td>4.000000</td><td>     NaN</td><td>NaN</td><td>4.250000</td></tr>\n",
              "\t<tr><td>New Wave of British Heavy Metal</td><td>4.500000</td><td>4.166667</td><td>     NaN</td><td>     NaN</td><td>NaN</td><td>4.214286</td></tr>\n",
              "\t<tr><td>Groove Metal                   </td><td>     NaN</td><td>     NaN</td><td>4.000000</td><td>     NaN</td><td>NaN</td><td>4.000000</td></tr>\n",
              "\t<tr><td>Nu Metal                       </td><td>     NaN</td><td>     NaN</td><td>4.500000</td><td>3.750000</td><td>NaN</td><td>4.000000</td></tr>\n",
              "\t<tr><td>Stoner Rock                    </td><td>     NaN</td><td>     NaN</td><td>4.000000</td><td>     NaN</td><td>NaN</td><td>4.000000</td></tr>\n",
              "\t<tr><td>Heavy Metal                    </td><td>4.166667</td><td>3.666667</td><td>     NaN</td><td>3.000000</td><td>4.5</td><td>3.892857</td></tr>\n",
              "\t<tr><td>Thrash Metal                   </td><td>     NaN</td><td>3.954545</td><td>3.500000</td><td>3.000000</td><td>NaN</td><td>3.800000</td></tr>\n",
              "\t<tr><td>Power Metal                    </td><td>     NaN</td><td>4.000000</td><td>     NaN</td><td>3.500000</td><td>NaN</td><td>3.750000</td></tr>\n",
              "\t<tr><td>Alternative Metal              </td><td>     NaN</td><td>4.000000</td><td>3.583333</td><td>3.000000</td><td>NaN</td><td>3.550000</td></tr>\n",
              "\t<tr><td>Sludge Metal                   </td><td>     NaN</td><td>     NaN</td><td>4.000000</td><td>3.250000</td><td>NaN</td><td>3.500000</td></tr>\n",
              "\t<tr><td>Hair Metal                     </td><td>     NaN</td><td>3.250000</td><td>     NaN</td><td>     NaN</td><td>NaN</td><td>3.250000</td></tr>\n",
              "\t<tr><td>Rap Metal                      </td><td>     NaN</td><td>     NaN</td><td>3.000000</td><td>     NaN</td><td>NaN</td><td>3.000000</td></tr>\n",
              "\t<tr><td>Speed Metal                    </td><td>     NaN</td><td>2.750000</td><td>3.500000</td><td>     NaN</td><td>NaN</td><td>3.000000</td></tr>\n",
              "\t<tr><td>Hard Rock                      </td><td>     NaN</td><td>2.500000</td><td>     NaN</td><td>     NaN</td><td>NaN</td><td>2.500000</td></tr>\n",
              "\t<tr><td>Gothic Metal                   </td><td>     NaN</td><td>     NaN</td><td>2.000000</td><td>     NaN</td><td>NaN</td><td>2.000000</td></tr>\n",
              "</tbody>\n",
              "</table>\n"
            ]
          },
          "metadata": {
            "tags": []
          }
        }
      ]
    }
  ]
}
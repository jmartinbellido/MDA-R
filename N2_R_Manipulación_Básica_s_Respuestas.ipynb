{
  "nbformat": 4,
  "nbformat_minor": 0,
  "metadata": {
    "colab": {
      "name": "N2_R_Manipulación_Básica_s/Respuestas.ipynb",
      "provenance": [],
      "collapsed_sections": [],
      "toc_visible": true
    },
    "kernelspec": {
      "name": "ir",
      "display_name": "R"
    }
  },
  "cells": [
    {
      "cell_type": "markdown",
      "metadata": {
        "id": "G0aIOusr4m2z"
      },
      "source": [
        "# ÍNDICE\n",
        "# **ISDI MDA**\n",
        "# [Guía] Introducción a R\n",
        "# N2: Manipulación Básica\n",
        "---\n",
        "\n",
        "### ÍNDICE DE CONTENIDO\n",
        "La presente sesión está destinada a aprender a realizar operaciones de manipulación básicas de datos de forma simplificada utilizando funcionalidades incluídas en la librería *dplyr*\n",
        "1. SELECCIONANDO COLUMNAS Y FILTRANDO FILAS \n",
        "2. CREANDO NUEVAS COLUMNAS\n",
        "3. AGRUPANDO Y AGREGANDO DATA\n",
        "\n",
        "### Profesor: Juan Martin Bellido (jmbelldo@isdi.education)\n",
        "\n"
      ]
    },
    {
      "cell_type": "markdown",
      "metadata": {
        "id": "3ra7iNdQ6GQ_"
      },
      "source": [
        "### Preparativos antes de comenzar"
      ]
    },
    {
      "cell_type": "code",
      "metadata": {
        "id": "wLlxs1m-tpjO",
        "colab": {
          "base_uri": "https://localhost:8080/"
        },
        "outputId": "76ec801b-37a9-4727-896f-cea3f4775f52"
      },
      "source": [
        "# Instalamos librería \"data.table\" porque Google colab no la incluye por defecto\n",
        "# Tendremos que repetir este paso en cada sesión, esto no ocurriría si estuvieramos trabajando en otro entorno (se instalaría una única vez)\n",
        "install.packages(\"data.table\") "
      ],
      "execution_count": null,
      "outputs": [
        {
          "output_type": "stream",
          "text": [
            "Installing package into ‘/usr/local/lib/R/site-library’\n",
            "(as ‘lib’ is unspecified)\n",
            "\n"
          ],
          "name": "stderr"
        }
      ]
    },
    {
      "cell_type": "code",
      "metadata": {
        "id": "TxEwN93qtcWt"
      },
      "source": [
        "# Cargamos todas las librerías que utilizaremos en la sesión\n",
        "require(dplyr)\n",
        "require(data.table)"
      ],
      "execution_count": null,
      "outputs": []
    },
    {
      "cell_type": "code",
      "metadata": {
        "id": "-w2HuB9hz5fM"
      },
      "source": [
        "# (Opcional) editamos las opciones globales para evitar que R utilice notación científica\n",
        "options(scipen=999)"
      ],
      "execution_count": null,
      "outputs": []
    },
    {
      "cell_type": "markdown",
      "metadata": {
        "id": "EadzEfEu9Xbf"
      },
      "source": [
        "# SELECCIONANDO COLUMNAS Y FILTRANDO FILAS\n",
        "\n",
        "Comenzamos aprendiendo a reducir un *data frame* en número de variables (columnas) y observaciones (filas)\n"
      ]
    },
    {
      "cell_type": "markdown",
      "metadata": {
        "id": "do-9MA7JS-aj"
      },
      "source": [
        "### Seleccionando columnas\n",
        "---\n",
        "Para seleccionar columnas específicas que querramos conservar de un *data frame* utilizaremos la función *select()*\n",
        "\n",
        "```\n",
        "dplyr::select(object, columns ...)\n",
        "```\n",
        "\n",
        "A modo de simplificar la operación, la función select() suele utilizarse con el *pipe operator (%>%)*. En tal caso omitiremos definir el objeto como parámetro de la función\n",
        "\n",
        "```\n",
        "object %>% select(columns ...) \n",
        "```\n",
        "\n"
      ]
    },
    {
      "cell_type": "code",
      "metadata": {
        "id": "8S8Uy45ZB3X9",
        "colab": {
          "base_uri": "https://localhost:8080/"
        },
        "outputId": "6894c36f-f31a-4157-a202-29a4ef432505"
      },
      "source": [
        "# Importamos un df\n",
        "df_james_bond = data.table::fread(\"https://data-wizards.s3.amazonaws.com/datasets/jamesbond.csv\")\n",
        "glimpse(df_james_bond)"
      ],
      "execution_count": null,
      "outputs": [
        {
          "output_type": "stream",
          "text": [
            "Rows: 26\n",
            "Columns: 7\n",
            "$ Film                \u001b[3m\u001b[90m<chr>\u001b[39m\u001b[23m \"Dr. No\", \"From Russia with Love\", \"Goldfinger\", …\n",
            "$ Year                \u001b[3m\u001b[90m<int>\u001b[39m\u001b[23m 1962, 1963, 1964, 1965, 1967, 1967, 1969, 1971, 1…\n",
            "$ Actor               \u001b[3m\u001b[90m<chr>\u001b[39m\u001b[23m \"Sean Connery\", \"Sean Connery\", \"Sean Connery\", \"…\n",
            "$ Director            \u001b[3m\u001b[90m<chr>\u001b[39m\u001b[23m \"Terence Young\", \"Terence Young\", \"Guy Hamilton\",…\n",
            "$ `Box Office`        \u001b[3m\u001b[90m<dbl>\u001b[39m\u001b[23m 448.8, 543.8, 820.4, 848.1, 315.0, 514.2, 291.5, …\n",
            "$ Budget              \u001b[3m\u001b[90m<dbl>\u001b[39m\u001b[23m 7.0, 12.6, 18.6, 41.9, 85.0, 59.9, 37.3, 34.7, 30…\n",
            "$ `Bond Actor Salary` \u001b[3m\u001b[90m<dbl>\u001b[39m\u001b[23m 0.6, 1.6, 3.2, 4.7, NA, 4.4, 0.6, 5.8, NA, NA, NA…\n"
          ],
          "name": "stdout"
        }
      ]
    },
    {
      "cell_type": "code",
      "metadata": {
        "colab": {
          "base_uri": "https://localhost:8080/",
          "height": 624
        },
        "id": "ZpsvEfx9SqUB",
        "outputId": "5246a7f5-0d28-4573-bd78-45e19562915e"
      },
      "source": [
        "# Comenzamos seleccionando dos columnas específicas utilizando la sintaxis básica \n",
        "dplyr::select(df_james_bond,Film,Director)"
      ],
      "execution_count": null,
      "outputs": [
        {
          "output_type": "display_data",
          "data": {
            "text/plain": [
              "   Film                            Director          \n",
              "1  Dr. No                          Terence Young     \n",
              "2  From Russia with Love           Terence Young     \n",
              "3  Goldfinger                      Guy Hamilton      \n",
              "4  Thunderball                     Terence Young     \n",
              "5  Casino Royale                   Ken Hughes        \n",
              "6  You Only Live Twice             Lewis Gilbert     \n",
              "7  On Her Majesty's Secret Service Peter R. Hunt     \n",
              "8  Diamonds Are Forever            Guy Hamilton      \n",
              "9  Live and Let Die                Guy Hamilton      \n",
              "10 The Man with the Golden Gun     Guy Hamilton      \n",
              "11 The Spy Who Loved Me            Lewis Gilbert     \n",
              "12 Moonraker                       Lewis Gilbert     \n",
              "13 For Your Eyes Only              John Glen         \n",
              "14 Never Say Never Again           Irvin Kershner    \n",
              "15 Octopussy                       John Glen         \n",
              "16 A View to a Kill                John Glen         \n",
              "17 The Living Daylights            John Glen         \n",
              "18 Licence to Kill                 John Glen         \n",
              "19 GoldenEye                       Martin Campbell   \n",
              "20 Tomorrow Never Dies             Roger Spottiswoode\n",
              "21 The World Is Not Enough         Michael Apted     \n",
              "22 Die Another Day                 Lee Tamahori      \n",
              "23 Casino Royale                   Martin Campbell   \n",
              "24 Quantum of Solace               Marc Forster      \n",
              "25 Skyfall                         Sam Mendes        \n",
              "26 Spectre                         Sam Mendes        "
            ],
            "text/latex": "A data.table: 26 × 2\n\\begin{tabular}{ll}\n Film & Director\\\\\n <chr> & <chr>\\\\\n\\hline\n\t Dr. No                          & Terence Young     \\\\\n\t From Russia with Love           & Terence Young     \\\\\n\t Goldfinger                      & Guy Hamilton      \\\\\n\t Thunderball                     & Terence Young     \\\\\n\t Casino Royale                   & Ken Hughes        \\\\\n\t You Only Live Twice             & Lewis Gilbert     \\\\\n\t On Her Majesty's Secret Service & Peter R. Hunt     \\\\\n\t Diamonds Are Forever            & Guy Hamilton      \\\\\n\t Live and Let Die                & Guy Hamilton      \\\\\n\t The Man with the Golden Gun     & Guy Hamilton      \\\\\n\t The Spy Who Loved Me            & Lewis Gilbert     \\\\\n\t Moonraker                       & Lewis Gilbert     \\\\\n\t For Your Eyes Only              & John Glen         \\\\\n\t Never Say Never Again           & Irvin Kershner    \\\\\n\t Octopussy                       & John Glen         \\\\\n\t A View to a Kill                & John Glen         \\\\\n\t The Living Daylights            & John Glen         \\\\\n\t Licence to Kill                 & John Glen         \\\\\n\t GoldenEye                       & Martin Campbell   \\\\\n\t Tomorrow Never Dies             & Roger Spottiswoode\\\\\n\t The World Is Not Enough         & Michael Apted     \\\\\n\t Die Another Day                 & Lee Tamahori      \\\\\n\t Casino Royale                   & Martin Campbell   \\\\\n\t Quantum of Solace               & Marc Forster      \\\\\n\t Skyfall                         & Sam Mendes        \\\\\n\t Spectre                         & Sam Mendes        \\\\\n\\end{tabular}\n",
            "text/markdown": "\nA data.table: 26 × 2\n\n| Film &lt;chr&gt; | Director &lt;chr&gt; |\n|---|---|\n| Dr. No                          | Terence Young      |\n| From Russia with Love           | Terence Young      |\n| Goldfinger                      | Guy Hamilton       |\n| Thunderball                     | Terence Young      |\n| Casino Royale                   | Ken Hughes         |\n| You Only Live Twice             | Lewis Gilbert      |\n| On Her Majesty's Secret Service | Peter R. Hunt      |\n| Diamonds Are Forever            | Guy Hamilton       |\n| Live and Let Die                | Guy Hamilton       |\n| The Man with the Golden Gun     | Guy Hamilton       |\n| The Spy Who Loved Me            | Lewis Gilbert      |\n| Moonraker                       | Lewis Gilbert      |\n| For Your Eyes Only              | John Glen          |\n| Never Say Never Again           | Irvin Kershner     |\n| Octopussy                       | John Glen          |\n| A View to a Kill                | John Glen          |\n| The Living Daylights            | John Glen          |\n| Licence to Kill                 | John Glen          |\n| GoldenEye                       | Martin Campbell    |\n| Tomorrow Never Dies             | Roger Spottiswoode |\n| The World Is Not Enough         | Michael Apted      |\n| Die Another Day                 | Lee Tamahori       |\n| Casino Royale                   | Martin Campbell    |\n| Quantum of Solace               | Marc Forster       |\n| Skyfall                         | Sam Mendes         |\n| Spectre                         | Sam Mendes         |\n\n",
            "text/html": [
              "<table>\n",
              "<caption>A data.table: 26 × 2</caption>\n",
              "<thead>\n",
              "\t<tr><th scope=col>Film</th><th scope=col>Director</th></tr>\n",
              "\t<tr><th scope=col>&lt;chr&gt;</th><th scope=col>&lt;chr&gt;</th></tr>\n",
              "</thead>\n",
              "<tbody>\n",
              "\t<tr><td>Dr. No                         </td><td>Terence Young     </td></tr>\n",
              "\t<tr><td>From Russia with Love          </td><td>Terence Young     </td></tr>\n",
              "\t<tr><td>Goldfinger                     </td><td>Guy Hamilton      </td></tr>\n",
              "\t<tr><td>Thunderball                    </td><td>Terence Young     </td></tr>\n",
              "\t<tr><td>Casino Royale                  </td><td>Ken Hughes        </td></tr>\n",
              "\t<tr><td>You Only Live Twice            </td><td>Lewis Gilbert     </td></tr>\n",
              "\t<tr><td>On Her Majesty's Secret Service</td><td>Peter R. Hunt     </td></tr>\n",
              "\t<tr><td>Diamonds Are Forever           </td><td>Guy Hamilton      </td></tr>\n",
              "\t<tr><td>Live and Let Die               </td><td>Guy Hamilton      </td></tr>\n",
              "\t<tr><td>The Man with the Golden Gun    </td><td>Guy Hamilton      </td></tr>\n",
              "\t<tr><td>The Spy Who Loved Me           </td><td>Lewis Gilbert     </td></tr>\n",
              "\t<tr><td>Moonraker                      </td><td>Lewis Gilbert     </td></tr>\n",
              "\t<tr><td>For Your Eyes Only             </td><td>John Glen         </td></tr>\n",
              "\t<tr><td>Never Say Never Again          </td><td>Irvin Kershner    </td></tr>\n",
              "\t<tr><td>Octopussy                      </td><td>John Glen         </td></tr>\n",
              "\t<tr><td>A View to a Kill               </td><td>John Glen         </td></tr>\n",
              "\t<tr><td>The Living Daylights           </td><td>John Glen         </td></tr>\n",
              "\t<tr><td>Licence to Kill                </td><td>John Glen         </td></tr>\n",
              "\t<tr><td>GoldenEye                      </td><td>Martin Campbell   </td></tr>\n",
              "\t<tr><td>Tomorrow Never Dies            </td><td>Roger Spottiswoode</td></tr>\n",
              "\t<tr><td>The World Is Not Enough        </td><td>Michael Apted     </td></tr>\n",
              "\t<tr><td>Die Another Day                </td><td>Lee Tamahori      </td></tr>\n",
              "\t<tr><td>Casino Royale                  </td><td>Martin Campbell   </td></tr>\n",
              "\t<tr><td>Quantum of Solace              </td><td>Marc Forster      </td></tr>\n",
              "\t<tr><td>Skyfall                        </td><td>Sam Mendes        </td></tr>\n",
              "\t<tr><td>Spectre                        </td><td>Sam Mendes        </td></tr>\n",
              "</tbody>\n",
              "</table>\n"
            ]
          },
          "metadata": {
            "tags": []
          }
        }
      ]
    },
    {
      "cell_type": "code",
      "metadata": {
        "id": "YVmhAdvr901g",
        "colab": {
          "base_uri": "https://localhost:8080/",
          "height": 624
        },
        "outputId": "510ec337-97bb-4ae0-d129-388e23ece40d"
      },
      "source": [
        "# Repetimos la tarea anterior, pero ejecutando el comando utilizando la sintaxis simplificada\n",
        "# Para simplificar la lectura e interpretación, dejo espacios y utilizo varias líneas. Esto es algo totalmente opcional\n",
        "\n",
        "df_james_bond %>% select(\n",
        "  Film        # columna 1 a ser seleccionada\n",
        "  ,Director   # columna 2 a ser seleccionada\n",
        ")"
      ],
      "execution_count": null,
      "outputs": [
        {
          "output_type": "display_data",
          "data": {
            "text/plain": [
              "   Film                            Director          \n",
              "1  Dr. No                          Terence Young     \n",
              "2  From Russia with Love           Terence Young     \n",
              "3  Goldfinger                      Guy Hamilton      \n",
              "4  Thunderball                     Terence Young     \n",
              "5  Casino Royale                   Ken Hughes        \n",
              "6  You Only Live Twice             Lewis Gilbert     \n",
              "7  On Her Majesty's Secret Service Peter R. Hunt     \n",
              "8  Diamonds Are Forever            Guy Hamilton      \n",
              "9  Live and Let Die                Guy Hamilton      \n",
              "10 The Man with the Golden Gun     Guy Hamilton      \n",
              "11 The Spy Who Loved Me            Lewis Gilbert     \n",
              "12 Moonraker                       Lewis Gilbert     \n",
              "13 For Your Eyes Only              John Glen         \n",
              "14 Never Say Never Again           Irvin Kershner    \n",
              "15 Octopussy                       John Glen         \n",
              "16 A View to a Kill                John Glen         \n",
              "17 The Living Daylights            John Glen         \n",
              "18 Licence to Kill                 John Glen         \n",
              "19 GoldenEye                       Martin Campbell   \n",
              "20 Tomorrow Never Dies             Roger Spottiswoode\n",
              "21 The World Is Not Enough         Michael Apted     \n",
              "22 Die Another Day                 Lee Tamahori      \n",
              "23 Casino Royale                   Martin Campbell   \n",
              "24 Quantum of Solace               Marc Forster      \n",
              "25 Skyfall                         Sam Mendes        \n",
              "26 Spectre                         Sam Mendes        "
            ],
            "text/latex": "A data.table: 26 × 2\n\\begin{tabular}{ll}\n Film & Director\\\\\n <chr> & <chr>\\\\\n\\hline\n\t Dr. No                          & Terence Young     \\\\\n\t From Russia with Love           & Terence Young     \\\\\n\t Goldfinger                      & Guy Hamilton      \\\\\n\t Thunderball                     & Terence Young     \\\\\n\t Casino Royale                   & Ken Hughes        \\\\\n\t You Only Live Twice             & Lewis Gilbert     \\\\\n\t On Her Majesty's Secret Service & Peter R. Hunt     \\\\\n\t Diamonds Are Forever            & Guy Hamilton      \\\\\n\t Live and Let Die                & Guy Hamilton      \\\\\n\t The Man with the Golden Gun     & Guy Hamilton      \\\\\n\t The Spy Who Loved Me            & Lewis Gilbert     \\\\\n\t Moonraker                       & Lewis Gilbert     \\\\\n\t For Your Eyes Only              & John Glen         \\\\\n\t Never Say Never Again           & Irvin Kershner    \\\\\n\t Octopussy                       & John Glen         \\\\\n\t A View to a Kill                & John Glen         \\\\\n\t The Living Daylights            & John Glen         \\\\\n\t Licence to Kill                 & John Glen         \\\\\n\t GoldenEye                       & Martin Campbell   \\\\\n\t Tomorrow Never Dies             & Roger Spottiswoode\\\\\n\t The World Is Not Enough         & Michael Apted     \\\\\n\t Die Another Day                 & Lee Tamahori      \\\\\n\t Casino Royale                   & Martin Campbell   \\\\\n\t Quantum of Solace               & Marc Forster      \\\\\n\t Skyfall                         & Sam Mendes        \\\\\n\t Spectre                         & Sam Mendes        \\\\\n\\end{tabular}\n",
            "text/markdown": "\nA data.table: 26 × 2\n\n| Film &lt;chr&gt; | Director &lt;chr&gt; |\n|---|---|\n| Dr. No                          | Terence Young      |\n| From Russia with Love           | Terence Young      |\n| Goldfinger                      | Guy Hamilton       |\n| Thunderball                     | Terence Young      |\n| Casino Royale                   | Ken Hughes         |\n| You Only Live Twice             | Lewis Gilbert      |\n| On Her Majesty's Secret Service | Peter R. Hunt      |\n| Diamonds Are Forever            | Guy Hamilton       |\n| Live and Let Die                | Guy Hamilton       |\n| The Man with the Golden Gun     | Guy Hamilton       |\n| The Spy Who Loved Me            | Lewis Gilbert      |\n| Moonraker                       | Lewis Gilbert      |\n| For Your Eyes Only              | John Glen          |\n| Never Say Never Again           | Irvin Kershner     |\n| Octopussy                       | John Glen          |\n| A View to a Kill                | John Glen          |\n| The Living Daylights            | John Glen          |\n| Licence to Kill                 | John Glen          |\n| GoldenEye                       | Martin Campbell    |\n| Tomorrow Never Dies             | Roger Spottiswoode |\n| The World Is Not Enough         | Michael Apted      |\n| Die Another Day                 | Lee Tamahori       |\n| Casino Royale                   | Martin Campbell    |\n| Quantum of Solace               | Marc Forster       |\n| Skyfall                         | Sam Mendes         |\n| Spectre                         | Sam Mendes         |\n\n",
            "text/html": [
              "<table>\n",
              "<caption>A data.table: 26 × 2</caption>\n",
              "<thead>\n",
              "\t<tr><th scope=col>Film</th><th scope=col>Director</th></tr>\n",
              "\t<tr><th scope=col>&lt;chr&gt;</th><th scope=col>&lt;chr&gt;</th></tr>\n",
              "</thead>\n",
              "<tbody>\n",
              "\t<tr><td>Dr. No                         </td><td>Terence Young     </td></tr>\n",
              "\t<tr><td>From Russia with Love          </td><td>Terence Young     </td></tr>\n",
              "\t<tr><td>Goldfinger                     </td><td>Guy Hamilton      </td></tr>\n",
              "\t<tr><td>Thunderball                    </td><td>Terence Young     </td></tr>\n",
              "\t<tr><td>Casino Royale                  </td><td>Ken Hughes        </td></tr>\n",
              "\t<tr><td>You Only Live Twice            </td><td>Lewis Gilbert     </td></tr>\n",
              "\t<tr><td>On Her Majesty's Secret Service</td><td>Peter R. Hunt     </td></tr>\n",
              "\t<tr><td>Diamonds Are Forever           </td><td>Guy Hamilton      </td></tr>\n",
              "\t<tr><td>Live and Let Die               </td><td>Guy Hamilton      </td></tr>\n",
              "\t<tr><td>The Man with the Golden Gun    </td><td>Guy Hamilton      </td></tr>\n",
              "\t<tr><td>The Spy Who Loved Me           </td><td>Lewis Gilbert     </td></tr>\n",
              "\t<tr><td>Moonraker                      </td><td>Lewis Gilbert     </td></tr>\n",
              "\t<tr><td>For Your Eyes Only             </td><td>John Glen         </td></tr>\n",
              "\t<tr><td>Never Say Never Again          </td><td>Irvin Kershner    </td></tr>\n",
              "\t<tr><td>Octopussy                      </td><td>John Glen         </td></tr>\n",
              "\t<tr><td>A View to a Kill               </td><td>John Glen         </td></tr>\n",
              "\t<tr><td>The Living Daylights           </td><td>John Glen         </td></tr>\n",
              "\t<tr><td>Licence to Kill                </td><td>John Glen         </td></tr>\n",
              "\t<tr><td>GoldenEye                      </td><td>Martin Campbell   </td></tr>\n",
              "\t<tr><td>Tomorrow Never Dies            </td><td>Roger Spottiswoode</td></tr>\n",
              "\t<tr><td>The World Is Not Enough        </td><td>Michael Apted     </td></tr>\n",
              "\t<tr><td>Die Another Day                </td><td>Lee Tamahori      </td></tr>\n",
              "\t<tr><td>Casino Royale                  </td><td>Martin Campbell   </td></tr>\n",
              "\t<tr><td>Quantum of Solace              </td><td>Marc Forster      </td></tr>\n",
              "\t<tr><td>Skyfall                        </td><td>Sam Mendes        </td></tr>\n",
              "\t<tr><td>Spectre                        </td><td>Sam Mendes        </td></tr>\n",
              "</tbody>\n",
              "</table>\n"
            ]
          },
          "metadata": {
            "tags": []
          }
        }
      ]
    },
    {
      "cell_type": "code",
      "metadata": {
        "colab": {
          "base_uri": "https://localhost:8080/",
          "height": 624
        },
        "id": "N7Wxe_4DSdj8",
        "outputId": "a188e9a5-3e2f-41cb-a098-818d63826433"
      },
      "source": [
        "# Adicionalmente, al seleccionar columnas podremos (de forma opcional) renombrar las variables\n",
        "df_james_bond %>% select(\n",
        "  james_bond_film = Film                    # seleccionamos una primer columna y la renombramos\n",
        "  ,film_director = Director                 # seleccionamos una segunda columna y la renombramos\n",
        "  ,film_budget = Budget                     # seleccionamos una tercer columna y la renombramos\n",
        "  ,bond_actor_salary = `Bond Actor Salary`  # en este caso, al renombrar la variable sin espacios, nos libraremos de las comillas\n",
        ")"
      ],
      "execution_count": null,
      "outputs": [
        {
          "output_type": "display_data",
          "data": {
            "text/plain": [
              "   james_bond_film                 film_director      film_budget\n",
              "1  Dr. No                          Terence Young        7.0      \n",
              "2  From Russia with Love           Terence Young       12.6      \n",
              "3  Goldfinger                      Guy Hamilton        18.6      \n",
              "4  Thunderball                     Terence Young       41.9      \n",
              "5  Casino Royale                   Ken Hughes          85.0      \n",
              "6  You Only Live Twice             Lewis Gilbert       59.9      \n",
              "7  On Her Majesty's Secret Service Peter R. Hunt       37.3      \n",
              "8  Diamonds Are Forever            Guy Hamilton        34.7      \n",
              "9  Live and Let Die                Guy Hamilton        30.8      \n",
              "10 The Man with the Golden Gun     Guy Hamilton        27.7      \n",
              "11 The Spy Who Loved Me            Lewis Gilbert       45.1      \n",
              "12 Moonraker                       Lewis Gilbert       91.5      \n",
              "13 For Your Eyes Only              John Glen           60.2      \n",
              "14 Never Say Never Again           Irvin Kershner      86.0      \n",
              "15 Octopussy                       John Glen           53.9      \n",
              "16 A View to a Kill                John Glen           54.5      \n",
              "17 The Living Daylights            John Glen           68.8      \n",
              "18 Licence to Kill                 John Glen           56.7      \n",
              "19 GoldenEye                       Martin Campbell     76.9      \n",
              "20 Tomorrow Never Dies             Roger Spottiswoode 133.9      \n",
              "21 The World Is Not Enough         Michael Apted      158.3      \n",
              "22 Die Another Day                 Lee Tamahori       154.2      \n",
              "23 Casino Royale                   Martin Campbell    145.3      \n",
              "24 Quantum of Solace               Marc Forster       181.4      \n",
              "25 Skyfall                         Sam Mendes         170.2      \n",
              "26 Spectre                         Sam Mendes         206.3      \n",
              "   bond_actor_salary\n",
              "1   0.6             \n",
              "2   1.6             \n",
              "3   3.2             \n",
              "4   4.7             \n",
              "5    NA             \n",
              "6   4.4             \n",
              "7   0.6             \n",
              "8   5.8             \n",
              "9    NA             \n",
              "10   NA             \n",
              "11   NA             \n",
              "12   NA             \n",
              "13   NA             \n",
              "14   NA             \n",
              "15  7.8             \n",
              "16  9.1             \n",
              "17  5.2             \n",
              "18  7.9             \n",
              "19  5.1             \n",
              "20 10.0             \n",
              "21 13.5             \n",
              "22 17.9             \n",
              "23  3.3             \n",
              "24  8.1             \n",
              "25 14.5             \n",
              "26   NA             "
            ],
            "text/latex": "A data.table: 26 × 4\n\\begin{tabular}{llll}\n james\\_bond\\_film & film\\_director & film\\_budget & bond\\_actor\\_salary\\\\\n <chr> & <chr> & <dbl> & <dbl>\\\\\n\\hline\n\t Dr. No                          & Terence Young      &   7.0 &  0.6\\\\\n\t From Russia with Love           & Terence Young      &  12.6 &  1.6\\\\\n\t Goldfinger                      & Guy Hamilton       &  18.6 &  3.2\\\\\n\t Thunderball                     & Terence Young      &  41.9 &  4.7\\\\\n\t Casino Royale                   & Ken Hughes         &  85.0 &   NA\\\\\n\t You Only Live Twice             & Lewis Gilbert      &  59.9 &  4.4\\\\\n\t On Her Majesty's Secret Service & Peter R. Hunt      &  37.3 &  0.6\\\\\n\t Diamonds Are Forever            & Guy Hamilton       &  34.7 &  5.8\\\\\n\t Live and Let Die                & Guy Hamilton       &  30.8 &   NA\\\\\n\t The Man with the Golden Gun     & Guy Hamilton       &  27.7 &   NA\\\\\n\t The Spy Who Loved Me            & Lewis Gilbert      &  45.1 &   NA\\\\\n\t Moonraker                       & Lewis Gilbert      &  91.5 &   NA\\\\\n\t For Your Eyes Only              & John Glen          &  60.2 &   NA\\\\\n\t Never Say Never Again           & Irvin Kershner     &  86.0 &   NA\\\\\n\t Octopussy                       & John Glen          &  53.9 &  7.8\\\\\n\t A View to a Kill                & John Glen          &  54.5 &  9.1\\\\\n\t The Living Daylights            & John Glen          &  68.8 &  5.2\\\\\n\t Licence to Kill                 & John Glen          &  56.7 &  7.9\\\\\n\t GoldenEye                       & Martin Campbell    &  76.9 &  5.1\\\\\n\t Tomorrow Never Dies             & Roger Spottiswoode & 133.9 & 10.0\\\\\n\t The World Is Not Enough         & Michael Apted      & 158.3 & 13.5\\\\\n\t Die Another Day                 & Lee Tamahori       & 154.2 & 17.9\\\\\n\t Casino Royale                   & Martin Campbell    & 145.3 &  3.3\\\\\n\t Quantum of Solace               & Marc Forster       & 181.4 &  8.1\\\\\n\t Skyfall                         & Sam Mendes         & 170.2 & 14.5\\\\\n\t Spectre                         & Sam Mendes         & 206.3 &   NA\\\\\n\\end{tabular}\n",
            "text/markdown": "\nA data.table: 26 × 4\n\n| james_bond_film &lt;chr&gt; | film_director &lt;chr&gt; | film_budget &lt;dbl&gt; | bond_actor_salary &lt;dbl&gt; |\n|---|---|---|---|\n| Dr. No                          | Terence Young      |   7.0 |  0.6 |\n| From Russia with Love           | Terence Young      |  12.6 |  1.6 |\n| Goldfinger                      | Guy Hamilton       |  18.6 |  3.2 |\n| Thunderball                     | Terence Young      |  41.9 |  4.7 |\n| Casino Royale                   | Ken Hughes         |  85.0 |   NA |\n| You Only Live Twice             | Lewis Gilbert      |  59.9 |  4.4 |\n| On Her Majesty's Secret Service | Peter R. Hunt      |  37.3 |  0.6 |\n| Diamonds Are Forever            | Guy Hamilton       |  34.7 |  5.8 |\n| Live and Let Die                | Guy Hamilton       |  30.8 |   NA |\n| The Man with the Golden Gun     | Guy Hamilton       |  27.7 |   NA |\n| The Spy Who Loved Me            | Lewis Gilbert      |  45.1 |   NA |\n| Moonraker                       | Lewis Gilbert      |  91.5 |   NA |\n| For Your Eyes Only              | John Glen          |  60.2 |   NA |\n| Never Say Never Again           | Irvin Kershner     |  86.0 |   NA |\n| Octopussy                       | John Glen          |  53.9 |  7.8 |\n| A View to a Kill                | John Glen          |  54.5 |  9.1 |\n| The Living Daylights            | John Glen          |  68.8 |  5.2 |\n| Licence to Kill                 | John Glen          |  56.7 |  7.9 |\n| GoldenEye                       | Martin Campbell    |  76.9 |  5.1 |\n| Tomorrow Never Dies             | Roger Spottiswoode | 133.9 | 10.0 |\n| The World Is Not Enough         | Michael Apted      | 158.3 | 13.5 |\n| Die Another Day                 | Lee Tamahori       | 154.2 | 17.9 |\n| Casino Royale                   | Martin Campbell    | 145.3 |  3.3 |\n| Quantum of Solace               | Marc Forster       | 181.4 |  8.1 |\n| Skyfall                         | Sam Mendes         | 170.2 | 14.5 |\n| Spectre                         | Sam Mendes         | 206.3 |   NA |\n\n",
            "text/html": [
              "<table>\n",
              "<caption>A data.table: 26 × 4</caption>\n",
              "<thead>\n",
              "\t<tr><th scope=col>james_bond_film</th><th scope=col>film_director</th><th scope=col>film_budget</th><th scope=col>bond_actor_salary</th></tr>\n",
              "\t<tr><th scope=col>&lt;chr&gt;</th><th scope=col>&lt;chr&gt;</th><th scope=col>&lt;dbl&gt;</th><th scope=col>&lt;dbl&gt;</th></tr>\n",
              "</thead>\n",
              "<tbody>\n",
              "\t<tr><td>Dr. No                         </td><td>Terence Young     </td><td>  7.0</td><td> 0.6</td></tr>\n",
              "\t<tr><td>From Russia with Love          </td><td>Terence Young     </td><td> 12.6</td><td> 1.6</td></tr>\n",
              "\t<tr><td>Goldfinger                     </td><td>Guy Hamilton      </td><td> 18.6</td><td> 3.2</td></tr>\n",
              "\t<tr><td>Thunderball                    </td><td>Terence Young     </td><td> 41.9</td><td> 4.7</td></tr>\n",
              "\t<tr><td>Casino Royale                  </td><td>Ken Hughes        </td><td> 85.0</td><td>  NA</td></tr>\n",
              "\t<tr><td>You Only Live Twice            </td><td>Lewis Gilbert     </td><td> 59.9</td><td> 4.4</td></tr>\n",
              "\t<tr><td>On Her Majesty's Secret Service</td><td>Peter R. Hunt     </td><td> 37.3</td><td> 0.6</td></tr>\n",
              "\t<tr><td>Diamonds Are Forever           </td><td>Guy Hamilton      </td><td> 34.7</td><td> 5.8</td></tr>\n",
              "\t<tr><td>Live and Let Die               </td><td>Guy Hamilton      </td><td> 30.8</td><td>  NA</td></tr>\n",
              "\t<tr><td>The Man with the Golden Gun    </td><td>Guy Hamilton      </td><td> 27.7</td><td>  NA</td></tr>\n",
              "\t<tr><td>The Spy Who Loved Me           </td><td>Lewis Gilbert     </td><td> 45.1</td><td>  NA</td></tr>\n",
              "\t<tr><td>Moonraker                      </td><td>Lewis Gilbert     </td><td> 91.5</td><td>  NA</td></tr>\n",
              "\t<tr><td>For Your Eyes Only             </td><td>John Glen         </td><td> 60.2</td><td>  NA</td></tr>\n",
              "\t<tr><td>Never Say Never Again          </td><td>Irvin Kershner    </td><td> 86.0</td><td>  NA</td></tr>\n",
              "\t<tr><td>Octopussy                      </td><td>John Glen         </td><td> 53.9</td><td> 7.8</td></tr>\n",
              "\t<tr><td>A View to a Kill               </td><td>John Glen         </td><td> 54.5</td><td> 9.1</td></tr>\n",
              "\t<tr><td>The Living Daylights           </td><td>John Glen         </td><td> 68.8</td><td> 5.2</td></tr>\n",
              "\t<tr><td>Licence to Kill                </td><td>John Glen         </td><td> 56.7</td><td> 7.9</td></tr>\n",
              "\t<tr><td>GoldenEye                      </td><td>Martin Campbell   </td><td> 76.9</td><td> 5.1</td></tr>\n",
              "\t<tr><td>Tomorrow Never Dies            </td><td>Roger Spottiswoode</td><td>133.9</td><td>10.0</td></tr>\n",
              "\t<tr><td>The World Is Not Enough        </td><td>Michael Apted     </td><td>158.3</td><td>13.5</td></tr>\n",
              "\t<tr><td>Die Another Day                </td><td>Lee Tamahori      </td><td>154.2</td><td>17.9</td></tr>\n",
              "\t<tr><td>Casino Royale                  </td><td>Martin Campbell   </td><td>145.3</td><td> 3.3</td></tr>\n",
              "\t<tr><td>Quantum of Solace              </td><td>Marc Forster      </td><td>181.4</td><td> 8.1</td></tr>\n",
              "\t<tr><td>Skyfall                        </td><td>Sam Mendes        </td><td>170.2</td><td>14.5</td></tr>\n",
              "\t<tr><td>Spectre                        </td><td>Sam Mendes        </td><td>206.3</td><td>  NA</td></tr>\n",
              "</tbody>\n",
              "</table>\n"
            ]
          },
          "metadata": {
            "tags": []
          }
        }
      ]
    },
    {
      "cell_type": "code",
      "metadata": {
        "colab": {
          "base_uri": "https://localhost:8080/",
          "height": 624
        },
        "id": "nTCdefI7WldZ",
        "outputId": "f0a04b97-4017-423c-f679-c7192025294b"
      },
      "source": [
        "# Podemos negar (-) columnas para evitarlas\n",
        "df_james_bond %>% select(\n",
        "  -Director\n",
        "  ,-Budget\n",
        ")\n",
        "# En este caso, hemos seleccionado TODAS las variables disponibles en el data frame, salvo dos específicas que hemos negativizado"
      ],
      "execution_count": null,
      "outputs": [
        {
          "output_type": "display_data",
          "data": {
            "text/plain": [
              "   Film                            Year Actor          Box Office\n",
              "1  Dr. No                          1962 Sean Connery   448.8     \n",
              "2  From Russia with Love           1963 Sean Connery   543.8     \n",
              "3  Goldfinger                      1964 Sean Connery   820.4     \n",
              "4  Thunderball                     1965 Sean Connery   848.1     \n",
              "5  Casino Royale                   1967 David Niven    315.0     \n",
              "6  You Only Live Twice             1967 Sean Connery   514.2     \n",
              "7  On Her Majesty's Secret Service 1969 George Lazenby 291.5     \n",
              "8  Diamonds Are Forever            1971 Sean Connery   442.5     \n",
              "9  Live and Let Die                1973 Roger Moore    460.3     \n",
              "10 The Man with the Golden Gun     1974 Roger Moore    334.0     \n",
              "11 The Spy Who Loved Me            1977 Roger Moore    533.0     \n",
              "12 Moonraker                       1979 Roger Moore    535.0     \n",
              "13 For Your Eyes Only              1981 Roger Moore    449.4     \n",
              "14 Never Say Never Again           1983 Sean Connery   380.0     \n",
              "15 Octopussy                       1983 Roger Moore    373.8     \n",
              "16 A View to a Kill                1985 Roger Moore    275.2     \n",
              "17 The Living Daylights            1987 Timothy Dalton 313.5     \n",
              "18 Licence to Kill                 1989 Timothy Dalton 250.9     \n",
              "19 GoldenEye                       1995 Pierce Brosnan 518.5     \n",
              "20 Tomorrow Never Dies             1997 Pierce Brosnan 463.2     \n",
              "21 The World Is Not Enough         1999 Pierce Brosnan 439.5     \n",
              "22 Die Another Day                 2002 Pierce Brosnan 465.4     \n",
              "23 Casino Royale                   2006 Daniel Craig   581.5     \n",
              "24 Quantum of Solace               2008 Daniel Craig   514.2     \n",
              "25 Skyfall                         2012 Daniel Craig   943.5     \n",
              "26 Spectre                         2015 Daniel Craig   726.7     \n",
              "   Bond Actor Salary\n",
              "1   0.6             \n",
              "2   1.6             \n",
              "3   3.2             \n",
              "4   4.7             \n",
              "5    NA             \n",
              "6   4.4             \n",
              "7   0.6             \n",
              "8   5.8             \n",
              "9    NA             \n",
              "10   NA             \n",
              "11   NA             \n",
              "12   NA             \n",
              "13   NA             \n",
              "14   NA             \n",
              "15  7.8             \n",
              "16  9.1             \n",
              "17  5.2             \n",
              "18  7.9             \n",
              "19  5.1             \n",
              "20 10.0             \n",
              "21 13.5             \n",
              "22 17.9             \n",
              "23  3.3             \n",
              "24  8.1             \n",
              "25 14.5             \n",
              "26   NA             "
            ],
            "text/latex": "A data.table: 26 × 5\n\\begin{tabular}{lllll}\n Film & Year & Actor & Box Office & Bond Actor Salary\\\\\n <chr> & <int> & <chr> & <dbl> & <dbl>\\\\\n\\hline\n\t Dr. No                          & 1962 & Sean Connery   & 448.8 &  0.6\\\\\n\t From Russia with Love           & 1963 & Sean Connery   & 543.8 &  1.6\\\\\n\t Goldfinger                      & 1964 & Sean Connery   & 820.4 &  3.2\\\\\n\t Thunderball                     & 1965 & Sean Connery   & 848.1 &  4.7\\\\\n\t Casino Royale                   & 1967 & David Niven    & 315.0 &   NA\\\\\n\t You Only Live Twice             & 1967 & Sean Connery   & 514.2 &  4.4\\\\\n\t On Her Majesty's Secret Service & 1969 & George Lazenby & 291.5 &  0.6\\\\\n\t Diamonds Are Forever            & 1971 & Sean Connery   & 442.5 &  5.8\\\\\n\t Live and Let Die                & 1973 & Roger Moore    & 460.3 &   NA\\\\\n\t The Man with the Golden Gun     & 1974 & Roger Moore    & 334.0 &   NA\\\\\n\t The Spy Who Loved Me            & 1977 & Roger Moore    & 533.0 &   NA\\\\\n\t Moonraker                       & 1979 & Roger Moore    & 535.0 &   NA\\\\\n\t For Your Eyes Only              & 1981 & Roger Moore    & 449.4 &   NA\\\\\n\t Never Say Never Again           & 1983 & Sean Connery   & 380.0 &   NA\\\\\n\t Octopussy                       & 1983 & Roger Moore    & 373.8 &  7.8\\\\\n\t A View to a Kill                & 1985 & Roger Moore    & 275.2 &  9.1\\\\\n\t The Living Daylights            & 1987 & Timothy Dalton & 313.5 &  5.2\\\\\n\t Licence to Kill                 & 1989 & Timothy Dalton & 250.9 &  7.9\\\\\n\t GoldenEye                       & 1995 & Pierce Brosnan & 518.5 &  5.1\\\\\n\t Tomorrow Never Dies             & 1997 & Pierce Brosnan & 463.2 & 10.0\\\\\n\t The World Is Not Enough         & 1999 & Pierce Brosnan & 439.5 & 13.5\\\\\n\t Die Another Day                 & 2002 & Pierce Brosnan & 465.4 & 17.9\\\\\n\t Casino Royale                   & 2006 & Daniel Craig   & 581.5 &  3.3\\\\\n\t Quantum of Solace               & 2008 & Daniel Craig   & 514.2 &  8.1\\\\\n\t Skyfall                         & 2012 & Daniel Craig   & 943.5 & 14.5\\\\\n\t Spectre                         & 2015 & Daniel Craig   & 726.7 &   NA\\\\\n\\end{tabular}\n",
            "text/markdown": "\nA data.table: 26 × 5\n\n| Film &lt;chr&gt; | Year &lt;int&gt; | Actor &lt;chr&gt; | Box Office &lt;dbl&gt; | Bond Actor Salary &lt;dbl&gt; |\n|---|---|---|---|---|\n| Dr. No                          | 1962 | Sean Connery   | 448.8 |  0.6 |\n| From Russia with Love           | 1963 | Sean Connery   | 543.8 |  1.6 |\n| Goldfinger                      | 1964 | Sean Connery   | 820.4 |  3.2 |\n| Thunderball                     | 1965 | Sean Connery   | 848.1 |  4.7 |\n| Casino Royale                   | 1967 | David Niven    | 315.0 |   NA |\n| You Only Live Twice             | 1967 | Sean Connery   | 514.2 |  4.4 |\n| On Her Majesty's Secret Service | 1969 | George Lazenby | 291.5 |  0.6 |\n| Diamonds Are Forever            | 1971 | Sean Connery   | 442.5 |  5.8 |\n| Live and Let Die                | 1973 | Roger Moore    | 460.3 |   NA |\n| The Man with the Golden Gun     | 1974 | Roger Moore    | 334.0 |   NA |\n| The Spy Who Loved Me            | 1977 | Roger Moore    | 533.0 |   NA |\n| Moonraker                       | 1979 | Roger Moore    | 535.0 |   NA |\n| For Your Eyes Only              | 1981 | Roger Moore    | 449.4 |   NA |\n| Never Say Never Again           | 1983 | Sean Connery   | 380.0 |   NA |\n| Octopussy                       | 1983 | Roger Moore    | 373.8 |  7.8 |\n| A View to a Kill                | 1985 | Roger Moore    | 275.2 |  9.1 |\n| The Living Daylights            | 1987 | Timothy Dalton | 313.5 |  5.2 |\n| Licence to Kill                 | 1989 | Timothy Dalton | 250.9 |  7.9 |\n| GoldenEye                       | 1995 | Pierce Brosnan | 518.5 |  5.1 |\n| Tomorrow Never Dies             | 1997 | Pierce Brosnan | 463.2 | 10.0 |\n| The World Is Not Enough         | 1999 | Pierce Brosnan | 439.5 | 13.5 |\n| Die Another Day                 | 2002 | Pierce Brosnan | 465.4 | 17.9 |\n| Casino Royale                   | 2006 | Daniel Craig   | 581.5 |  3.3 |\n| Quantum of Solace               | 2008 | Daniel Craig   | 514.2 |  8.1 |\n| Skyfall                         | 2012 | Daniel Craig   | 943.5 | 14.5 |\n| Spectre                         | 2015 | Daniel Craig   | 726.7 |   NA |\n\n",
            "text/html": [
              "<table>\n",
              "<caption>A data.table: 26 × 5</caption>\n",
              "<thead>\n",
              "\t<tr><th scope=col>Film</th><th scope=col>Year</th><th scope=col>Actor</th><th scope=col>Box Office</th><th scope=col>Bond Actor Salary</th></tr>\n",
              "\t<tr><th scope=col>&lt;chr&gt;</th><th scope=col>&lt;int&gt;</th><th scope=col>&lt;chr&gt;</th><th scope=col>&lt;dbl&gt;</th><th scope=col>&lt;dbl&gt;</th></tr>\n",
              "</thead>\n",
              "<tbody>\n",
              "\t<tr><td>Dr. No                         </td><td>1962</td><td>Sean Connery  </td><td>448.8</td><td> 0.6</td></tr>\n",
              "\t<tr><td>From Russia with Love          </td><td>1963</td><td>Sean Connery  </td><td>543.8</td><td> 1.6</td></tr>\n",
              "\t<tr><td>Goldfinger                     </td><td>1964</td><td>Sean Connery  </td><td>820.4</td><td> 3.2</td></tr>\n",
              "\t<tr><td>Thunderball                    </td><td>1965</td><td>Sean Connery  </td><td>848.1</td><td> 4.7</td></tr>\n",
              "\t<tr><td>Casino Royale                  </td><td>1967</td><td>David Niven   </td><td>315.0</td><td>  NA</td></tr>\n",
              "\t<tr><td>You Only Live Twice            </td><td>1967</td><td>Sean Connery  </td><td>514.2</td><td> 4.4</td></tr>\n",
              "\t<tr><td>On Her Majesty's Secret Service</td><td>1969</td><td>George Lazenby</td><td>291.5</td><td> 0.6</td></tr>\n",
              "\t<tr><td>Diamonds Are Forever           </td><td>1971</td><td>Sean Connery  </td><td>442.5</td><td> 5.8</td></tr>\n",
              "\t<tr><td>Live and Let Die               </td><td>1973</td><td>Roger Moore   </td><td>460.3</td><td>  NA</td></tr>\n",
              "\t<tr><td>The Man with the Golden Gun    </td><td>1974</td><td>Roger Moore   </td><td>334.0</td><td>  NA</td></tr>\n",
              "\t<tr><td>The Spy Who Loved Me           </td><td>1977</td><td>Roger Moore   </td><td>533.0</td><td>  NA</td></tr>\n",
              "\t<tr><td>Moonraker                      </td><td>1979</td><td>Roger Moore   </td><td>535.0</td><td>  NA</td></tr>\n",
              "\t<tr><td>For Your Eyes Only             </td><td>1981</td><td>Roger Moore   </td><td>449.4</td><td>  NA</td></tr>\n",
              "\t<tr><td>Never Say Never Again          </td><td>1983</td><td>Sean Connery  </td><td>380.0</td><td>  NA</td></tr>\n",
              "\t<tr><td>Octopussy                      </td><td>1983</td><td>Roger Moore   </td><td>373.8</td><td> 7.8</td></tr>\n",
              "\t<tr><td>A View to a Kill               </td><td>1985</td><td>Roger Moore   </td><td>275.2</td><td> 9.1</td></tr>\n",
              "\t<tr><td>The Living Daylights           </td><td>1987</td><td>Timothy Dalton</td><td>313.5</td><td> 5.2</td></tr>\n",
              "\t<tr><td>Licence to Kill                </td><td>1989</td><td>Timothy Dalton</td><td>250.9</td><td> 7.9</td></tr>\n",
              "\t<tr><td>GoldenEye                      </td><td>1995</td><td>Pierce Brosnan</td><td>518.5</td><td> 5.1</td></tr>\n",
              "\t<tr><td>Tomorrow Never Dies            </td><td>1997</td><td>Pierce Brosnan</td><td>463.2</td><td>10.0</td></tr>\n",
              "\t<tr><td>The World Is Not Enough        </td><td>1999</td><td>Pierce Brosnan</td><td>439.5</td><td>13.5</td></tr>\n",
              "\t<tr><td>Die Another Day                </td><td>2002</td><td>Pierce Brosnan</td><td>465.4</td><td>17.9</td></tr>\n",
              "\t<tr><td>Casino Royale                  </td><td>2006</td><td>Daniel Craig  </td><td>581.5</td><td> 3.3</td></tr>\n",
              "\t<tr><td>Quantum of Solace              </td><td>2008</td><td>Daniel Craig  </td><td>514.2</td><td> 8.1</td></tr>\n",
              "\t<tr><td>Skyfall                        </td><td>2012</td><td>Daniel Craig  </td><td>943.5</td><td>14.5</td></tr>\n",
              "\t<tr><td>Spectre                        </td><td>2015</td><td>Daniel Craig  </td><td>726.7</td><td>  NA</td></tr>\n",
              "</tbody>\n",
              "</table>\n"
            ]
          },
          "metadata": {
            "tags": []
          }
        }
      ]
    },
    {
      "cell_type": "code",
      "metadata": {
        "colab": {
          "base_uri": "https://localhost:8080/",
          "height": 351
        },
        "id": "FWMuLAyAg9Kc",
        "outputId": "95ee777e-119c-48ae-b816-5469e7b48e5e"
      },
      "source": [
        "# Al seleccionar una o más variables, podemos forzar combinaciones únicas utilizando la función unique()\n",
        "df_james_bond %>% select(\n",
        "  Director                      # seleccionamos variable Director\n",
        ") %>% unique()                  # forzamos valores únicos"
      ],
      "execution_count": null,
      "outputs": [
        {
          "output_type": "display_data",
          "data": {
            "text/plain": [
              "   Director          \n",
              "1  Terence Young     \n",
              "2  Guy Hamilton      \n",
              "3  Ken Hughes        \n",
              "4  Lewis Gilbert     \n",
              "5  Peter R. Hunt     \n",
              "6  John Glen         \n",
              "7  Irvin Kershner    \n",
              "8  Martin Campbell   \n",
              "9  Roger Spottiswoode\n",
              "10 Michael Apted     \n",
              "11 Lee Tamahori      \n",
              "12 Marc Forster      \n",
              "13 Sam Mendes        "
            ],
            "text/latex": "A data.table: 13 × 1\n\\begin{tabular}{l}\n Director\\\\\n <chr>\\\\\n\\hline\n\t Terence Young     \\\\\n\t Guy Hamilton      \\\\\n\t Ken Hughes        \\\\\n\t Lewis Gilbert     \\\\\n\t Peter R. Hunt     \\\\\n\t John Glen         \\\\\n\t Irvin Kershner    \\\\\n\t Martin Campbell   \\\\\n\t Roger Spottiswoode\\\\\n\t Michael Apted     \\\\\n\t Lee Tamahori      \\\\\n\t Marc Forster      \\\\\n\t Sam Mendes        \\\\\n\\end{tabular}\n",
            "text/markdown": "\nA data.table: 13 × 1\n\n| Director &lt;chr&gt; |\n|---|\n| Terence Young      |\n| Guy Hamilton       |\n| Ken Hughes         |\n| Lewis Gilbert      |\n| Peter R. Hunt      |\n| John Glen          |\n| Irvin Kershner     |\n| Martin Campbell    |\n| Roger Spottiswoode |\n| Michael Apted      |\n| Lee Tamahori       |\n| Marc Forster       |\n| Sam Mendes         |\n\n",
            "text/html": [
              "<table>\n",
              "<caption>A data.table: 13 × 1</caption>\n",
              "<thead>\n",
              "\t<tr><th scope=col>Director</th></tr>\n",
              "\t<tr><th scope=col>&lt;chr&gt;</th></tr>\n",
              "</thead>\n",
              "<tbody>\n",
              "\t<tr><td>Terence Young     </td></tr>\n",
              "\t<tr><td>Guy Hamilton      </td></tr>\n",
              "\t<tr><td>Ken Hughes        </td></tr>\n",
              "\t<tr><td>Lewis Gilbert     </td></tr>\n",
              "\t<tr><td>Peter R. Hunt     </td></tr>\n",
              "\t<tr><td>John Glen         </td></tr>\n",
              "\t<tr><td>Irvin Kershner    </td></tr>\n",
              "\t<tr><td>Martin Campbell   </td></tr>\n",
              "\t<tr><td>Roger Spottiswoode</td></tr>\n",
              "\t<tr><td>Michael Apted     </td></tr>\n",
              "\t<tr><td>Lee Tamahori      </td></tr>\n",
              "\t<tr><td>Marc Forster      </td></tr>\n",
              "\t<tr><td>Sam Mendes        </td></tr>\n",
              "</tbody>\n",
              "</table>\n"
            ]
          },
          "metadata": {
            "tags": []
          }
        }
      ]
    },
    {
      "cell_type": "markdown",
      "metadata": {
        "id": "3CXJFSZnTa0c"
      },
      "source": [
        "### Filtrando filas\n",
        "---\n",
        "A continuación, aprenderemos una forma sencilla de filtrar observaciones en función de criterios lógicos utilizando la función *filter()*\n",
        "\n",
        "\n",
        "```\n",
        "dplyr::filter(object, criteria ...)\n",
        "```\n",
        "\n"
      ]
    },
    {
      "cell_type": "code",
      "metadata": {
        "colab": {
          "base_uri": "https://localhost:8080/",
          "height": 183
        },
        "id": "RKapZSIaTlev",
        "outputId": "8ebb2a63-008f-497a-b696-4f56a889e4fb"
      },
      "source": [
        "# Filtramos el df con películas de James Bond\n",
        "df_james_bond %>% filter(Year>2000) # únicamente películas lanzadas a partir del año 2000"
      ],
      "execution_count": null,
      "outputs": [
        {
          "output_type": "display_data",
          "data": {
            "text/plain": [
              "  Film              Year Actor          Director        Box Office Budget\n",
              "1 Die Another Day   2002 Pierce Brosnan Lee Tamahori    465.4      154.2 \n",
              "2 Casino Royale     2006 Daniel Craig   Martin Campbell 581.5      145.3 \n",
              "3 Quantum of Solace 2008 Daniel Craig   Marc Forster    514.2      181.4 \n",
              "4 Skyfall           2012 Daniel Craig   Sam Mendes      943.5      170.2 \n",
              "5 Spectre           2015 Daniel Craig   Sam Mendes      726.7      206.3 \n",
              "  Bond Actor Salary\n",
              "1 17.9             \n",
              "2  3.3             \n",
              "3  8.1             \n",
              "4 14.5             \n",
              "5   NA             "
            ],
            "text/latex": "A data.table: 5 × 7\n\\begin{tabular}{lllllll}\n Film & Year & Actor & Director & Box Office & Budget & Bond Actor Salary\\\\\n <chr> & <int> & <chr> & <chr> & <dbl> & <dbl> & <dbl>\\\\\n\\hline\n\t Die Another Day   & 2002 & Pierce Brosnan & Lee Tamahori    & 465.4 & 154.2 & 17.9\\\\\n\t Casino Royale     & 2006 & Daniel Craig   & Martin Campbell & 581.5 & 145.3 &  3.3\\\\\n\t Quantum of Solace & 2008 & Daniel Craig   & Marc Forster    & 514.2 & 181.4 &  8.1\\\\\n\t Skyfall           & 2012 & Daniel Craig   & Sam Mendes      & 943.5 & 170.2 & 14.5\\\\\n\t Spectre           & 2015 & Daniel Craig   & Sam Mendes      & 726.7 & 206.3 &   NA\\\\\n\\end{tabular}\n",
            "text/markdown": "\nA data.table: 5 × 7\n\n| Film &lt;chr&gt; | Year &lt;int&gt; | Actor &lt;chr&gt; | Director &lt;chr&gt; | Box Office &lt;dbl&gt; | Budget &lt;dbl&gt; | Bond Actor Salary &lt;dbl&gt; |\n|---|---|---|---|---|---|---|\n| Die Another Day   | 2002 | Pierce Brosnan | Lee Tamahori    | 465.4 | 154.2 | 17.9 |\n| Casino Royale     | 2006 | Daniel Craig   | Martin Campbell | 581.5 | 145.3 |  3.3 |\n| Quantum of Solace | 2008 | Daniel Craig   | Marc Forster    | 514.2 | 181.4 |  8.1 |\n| Skyfall           | 2012 | Daniel Craig   | Sam Mendes      | 943.5 | 170.2 | 14.5 |\n| Spectre           | 2015 | Daniel Craig   | Sam Mendes      | 726.7 | 206.3 |   NA |\n\n",
            "text/html": [
              "<table>\n",
              "<caption>A data.table: 5 × 7</caption>\n",
              "<thead>\n",
              "\t<tr><th scope=col>Film</th><th scope=col>Year</th><th scope=col>Actor</th><th scope=col>Director</th><th scope=col>Box Office</th><th scope=col>Budget</th><th scope=col>Bond Actor Salary</th></tr>\n",
              "\t<tr><th scope=col>&lt;chr&gt;</th><th scope=col>&lt;int&gt;</th><th scope=col>&lt;chr&gt;</th><th scope=col>&lt;chr&gt;</th><th scope=col>&lt;dbl&gt;</th><th scope=col>&lt;dbl&gt;</th><th scope=col>&lt;dbl&gt;</th></tr>\n",
              "</thead>\n",
              "<tbody>\n",
              "\t<tr><td>Die Another Day  </td><td>2002</td><td>Pierce Brosnan</td><td>Lee Tamahori   </td><td>465.4</td><td>154.2</td><td>17.9</td></tr>\n",
              "\t<tr><td>Casino Royale    </td><td>2006</td><td>Daniel Craig  </td><td>Martin Campbell</td><td>581.5</td><td>145.3</td><td> 3.3</td></tr>\n",
              "\t<tr><td>Quantum of Solace</td><td>2008</td><td>Daniel Craig  </td><td>Marc Forster   </td><td>514.2</td><td>181.4</td><td> 8.1</td></tr>\n",
              "\t<tr><td>Skyfall          </td><td>2012</td><td>Daniel Craig  </td><td>Sam Mendes     </td><td>943.5</td><td>170.2</td><td>14.5</td></tr>\n",
              "\t<tr><td>Spectre          </td><td>2015</td><td>Daniel Craig  </td><td>Sam Mendes     </td><td>726.7</td><td>206.3</td><td>  NA</td></tr>\n",
              "</tbody>\n",
              "</table>\n"
            ]
          },
          "metadata": {
            "tags": []
          }
        }
      ]
    },
    {
      "cell_type": "code",
      "metadata": {
        "colab": {
          "base_uri": "https://localhost:8080/",
          "height": 183
        },
        "id": "cOzG9FP6TlqE",
        "outputId": "788a3d07-aad2-41af-982c-7f857442b88c"
      },
      "source": [
        "# Podemos combinar múltiples funciones de manipulación utilizando el \"pipe operator\"\n",
        "## el orden de las funciones es fundamental, ya que estamos haciendo operaciones de a pasos y transmitiendo el resultado a la siguiente función\n",
        "df_james_bond %>% select(Film,Year) %>% filter(Year>2000) # si hubiéramos omitido seleccionar la columna \"year\", no podríamos luego filtrar por ese campo"
      ],
      "execution_count": null,
      "outputs": [
        {
          "output_type": "display_data",
          "data": {
            "text/plain": [
              "  Film              Year\n",
              "1 Die Another Day   2002\n",
              "2 Casino Royale     2006\n",
              "3 Quantum of Solace 2008\n",
              "4 Skyfall           2012\n",
              "5 Spectre           2015"
            ],
            "text/latex": "A data.table: 5 × 2\n\\begin{tabular}{ll}\n Film & Year\\\\\n <chr> & <int>\\\\\n\\hline\n\t Die Another Day   & 2002\\\\\n\t Casino Royale     & 2006\\\\\n\t Quantum of Solace & 2008\\\\\n\t Skyfall           & 2012\\\\\n\t Spectre           & 2015\\\\\n\\end{tabular}\n",
            "text/markdown": "\nA data.table: 5 × 2\n\n| Film &lt;chr&gt; | Year &lt;int&gt; |\n|---|---|\n| Die Another Day   | 2002 |\n| Casino Royale     | 2006 |\n| Quantum of Solace | 2008 |\n| Skyfall           | 2012 |\n| Spectre           | 2015 |\n\n",
            "text/html": [
              "<table>\n",
              "<caption>A data.table: 5 × 2</caption>\n",
              "<thead>\n",
              "\t<tr><th scope=col>Film</th><th scope=col>Year</th></tr>\n",
              "\t<tr><th scope=col>&lt;chr&gt;</th><th scope=col>&lt;int&gt;</th></tr>\n",
              "</thead>\n",
              "<tbody>\n",
              "\t<tr><td>Die Another Day  </td><td>2002</td></tr>\n",
              "\t<tr><td>Casino Royale    </td><td>2006</td></tr>\n",
              "\t<tr><td>Quantum of Solace</td><td>2008</td></tr>\n",
              "\t<tr><td>Skyfall          </td><td>2012</td></tr>\n",
              "\t<tr><td>Spectre          </td><td>2015</td></tr>\n",
              "</tbody>\n",
              "</table>\n"
            ]
          },
          "metadata": {
            "tags": []
          }
        }
      ]
    },
    {
      "cell_type": "code",
      "metadata": {
        "id": "lNcvEQC_UGaE"
      },
      "source": [
        "# El siguiente ejericio generá eror al ejecutarlo\n",
        "## intentaremos filtrar por año, pero no hemos seleccionado año en el paso anterior al reducir el data frame\n",
        "df_james_bond %>% select(Film,Actor) %>% filter(Year>2000) # esto generará error, ya que no podemos filtrar por un campo que no existe"
      ],
      "execution_count": null,
      "outputs": []
    },
    {
      "cell_type": "code",
      "metadata": {
        "colab": {
          "base_uri": "https://localhost:8080/",
          "height": 162
        },
        "id": "CRv1ZJxtUy2i",
        "outputId": "483709e8-8f86-410e-ed2d-2627a1e1b05c"
      },
      "source": [
        "# En el siguiente ejercicio, filtramos utilizando dos coindicines\n",
        "## agregar una nueva condición como parámetro, es exactamente lo mismo que agregarla utilizando el operador \"&\" (AND)\n",
        "df_james_bond %>% filter(\n",
        "  Year>2000\n",
        "  ,Actor == 'Daniel Craig'\n",
        ")"
      ],
      "execution_count": null,
      "outputs": [
        {
          "output_type": "display_data",
          "data": {
            "text/plain": [
              "  Film              Year Actor        Director        Box Office Budget\n",
              "1 Casino Royale     2006 Daniel Craig Martin Campbell 581.5      145.3 \n",
              "2 Quantum of Solace 2008 Daniel Craig Marc Forster    514.2      181.4 \n",
              "3 Skyfall           2012 Daniel Craig Sam Mendes      943.5      170.2 \n",
              "4 Spectre           2015 Daniel Craig Sam Mendes      726.7      206.3 \n",
              "  Bond Actor Salary\n",
              "1  3.3             \n",
              "2  8.1             \n",
              "3 14.5             \n",
              "4   NA             "
            ],
            "text/latex": "A data.table: 4 × 7\n\\begin{tabular}{lllllll}\n Film & Year & Actor & Director & Box Office & Budget & Bond Actor Salary\\\\\n <chr> & <int> & <chr> & <chr> & <dbl> & <dbl> & <dbl>\\\\\n\\hline\n\t Casino Royale     & 2006 & Daniel Craig & Martin Campbell & 581.5 & 145.3 &  3.3\\\\\n\t Quantum of Solace & 2008 & Daniel Craig & Marc Forster    & 514.2 & 181.4 &  8.1\\\\\n\t Skyfall           & 2012 & Daniel Craig & Sam Mendes      & 943.5 & 170.2 & 14.5\\\\\n\t Spectre           & 2015 & Daniel Craig & Sam Mendes      & 726.7 & 206.3 &   NA\\\\\n\\end{tabular}\n",
            "text/markdown": "\nA data.table: 4 × 7\n\n| Film &lt;chr&gt; | Year &lt;int&gt; | Actor &lt;chr&gt; | Director &lt;chr&gt; | Box Office &lt;dbl&gt; | Budget &lt;dbl&gt; | Bond Actor Salary &lt;dbl&gt; |\n|---|---|---|---|---|---|---|\n| Casino Royale     | 2006 | Daniel Craig | Martin Campbell | 581.5 | 145.3 |  3.3 |\n| Quantum of Solace | 2008 | Daniel Craig | Marc Forster    | 514.2 | 181.4 |  8.1 |\n| Skyfall           | 2012 | Daniel Craig | Sam Mendes      | 943.5 | 170.2 | 14.5 |\n| Spectre           | 2015 | Daniel Craig | Sam Mendes      | 726.7 | 206.3 |   NA |\n\n",
            "text/html": [
              "<table>\n",
              "<caption>A data.table: 4 × 7</caption>\n",
              "<thead>\n",
              "\t<tr><th scope=col>Film</th><th scope=col>Year</th><th scope=col>Actor</th><th scope=col>Director</th><th scope=col>Box Office</th><th scope=col>Budget</th><th scope=col>Bond Actor Salary</th></tr>\n",
              "\t<tr><th scope=col>&lt;chr&gt;</th><th scope=col>&lt;int&gt;</th><th scope=col>&lt;chr&gt;</th><th scope=col>&lt;chr&gt;</th><th scope=col>&lt;dbl&gt;</th><th scope=col>&lt;dbl&gt;</th><th scope=col>&lt;dbl&gt;</th></tr>\n",
              "</thead>\n",
              "<tbody>\n",
              "\t<tr><td>Casino Royale    </td><td>2006</td><td>Daniel Craig</td><td>Martin Campbell</td><td>581.5</td><td>145.3</td><td> 3.3</td></tr>\n",
              "\t<tr><td>Quantum of Solace</td><td>2008</td><td>Daniel Craig</td><td>Marc Forster   </td><td>514.2</td><td>181.4</td><td> 8.1</td></tr>\n",
              "\t<tr><td>Skyfall          </td><td>2012</td><td>Daniel Craig</td><td>Sam Mendes     </td><td>943.5</td><td>170.2</td><td>14.5</td></tr>\n",
              "\t<tr><td>Spectre          </td><td>2015</td><td>Daniel Craig</td><td>Sam Mendes     </td><td>726.7</td><td>206.3</td><td>  NA</td></tr>\n",
              "</tbody>\n",
              "</table>\n"
            ]
          },
          "metadata": {
            "tags": []
          }
        }
      ]
    },
    {
      "cell_type": "code",
      "metadata": {
        "colab": {
          "base_uri": "https://localhost:8080/",
          "height": 162
        },
        "id": "xdgh_FjjU7O8",
        "outputId": "c51e1b0c-758d-4f44-f443-b97b72d9493c"
      },
      "source": [
        "# Comprobamos que obtenemos el resultado utilizando una única condición compuesta por dos elementos\n",
        "df_james_bond %>% filter(\n",
        "  Year>2000 & Actor == 'Daniel Craig' # filtramos por películas que hayan sido lanzadas a partir de 2000 y cuyo actor sea Daniel Craig\n",
        ")"
      ],
      "execution_count": null,
      "outputs": [
        {
          "output_type": "display_data",
          "data": {
            "text/plain": [
              "  Film              Year Actor        Director        Box Office Budget\n",
              "1 Casino Royale     2006 Daniel Craig Martin Campbell 581.5      145.3 \n",
              "2 Quantum of Solace 2008 Daniel Craig Marc Forster    514.2      181.4 \n",
              "3 Skyfall           2012 Daniel Craig Sam Mendes      943.5      170.2 \n",
              "4 Spectre           2015 Daniel Craig Sam Mendes      726.7      206.3 \n",
              "  Bond Actor Salary\n",
              "1  3.3             \n",
              "2  8.1             \n",
              "3 14.5             \n",
              "4   NA             "
            ],
            "text/latex": "A data.table: 4 × 7\n\\begin{tabular}{lllllll}\n Film & Year & Actor & Director & Box Office & Budget & Bond Actor Salary\\\\\n <chr> & <int> & <chr> & <chr> & <dbl> & <dbl> & <dbl>\\\\\n\\hline\n\t Casino Royale     & 2006 & Daniel Craig & Martin Campbell & 581.5 & 145.3 &  3.3\\\\\n\t Quantum of Solace & 2008 & Daniel Craig & Marc Forster    & 514.2 & 181.4 &  8.1\\\\\n\t Skyfall           & 2012 & Daniel Craig & Sam Mendes      & 943.5 & 170.2 & 14.5\\\\\n\t Spectre           & 2015 & Daniel Craig & Sam Mendes      & 726.7 & 206.3 &   NA\\\\\n\\end{tabular}\n",
            "text/markdown": "\nA data.table: 4 × 7\n\n| Film &lt;chr&gt; | Year &lt;int&gt; | Actor &lt;chr&gt; | Director &lt;chr&gt; | Box Office &lt;dbl&gt; | Budget &lt;dbl&gt; | Bond Actor Salary &lt;dbl&gt; |\n|---|---|---|---|---|---|---|\n| Casino Royale     | 2006 | Daniel Craig | Martin Campbell | 581.5 | 145.3 |  3.3 |\n| Quantum of Solace | 2008 | Daniel Craig | Marc Forster    | 514.2 | 181.4 |  8.1 |\n| Skyfall           | 2012 | Daniel Craig | Sam Mendes      | 943.5 | 170.2 | 14.5 |\n| Spectre           | 2015 | Daniel Craig | Sam Mendes      | 726.7 | 206.3 |   NA |\n\n",
            "text/html": [
              "<table>\n",
              "<caption>A data.table: 4 × 7</caption>\n",
              "<thead>\n",
              "\t<tr><th scope=col>Film</th><th scope=col>Year</th><th scope=col>Actor</th><th scope=col>Director</th><th scope=col>Box Office</th><th scope=col>Budget</th><th scope=col>Bond Actor Salary</th></tr>\n",
              "\t<tr><th scope=col>&lt;chr&gt;</th><th scope=col>&lt;int&gt;</th><th scope=col>&lt;chr&gt;</th><th scope=col>&lt;chr&gt;</th><th scope=col>&lt;dbl&gt;</th><th scope=col>&lt;dbl&gt;</th><th scope=col>&lt;dbl&gt;</th></tr>\n",
              "</thead>\n",
              "<tbody>\n",
              "\t<tr><td>Casino Royale    </td><td>2006</td><td>Daniel Craig</td><td>Martin Campbell</td><td>581.5</td><td>145.3</td><td> 3.3</td></tr>\n",
              "\t<tr><td>Quantum of Solace</td><td>2008</td><td>Daniel Craig</td><td>Marc Forster   </td><td>514.2</td><td>181.4</td><td> 8.1</td></tr>\n",
              "\t<tr><td>Skyfall          </td><td>2012</td><td>Daniel Craig</td><td>Sam Mendes     </td><td>943.5</td><td>170.2</td><td>14.5</td></tr>\n",
              "\t<tr><td>Spectre          </td><td>2015</td><td>Daniel Craig</td><td>Sam Mendes     </td><td>726.7</td><td>206.3</td><td>  NA</td></tr>\n",
              "</tbody>\n",
              "</table>\n"
            ]
          },
          "metadata": {
            "tags": []
          }
        }
      ]
    },
    {
      "cell_type": "code",
      "metadata": {
        "colab": {
          "base_uri": "https://localhost:8080/",
          "height": 183
        },
        "id": "RPeR7syAU_FR",
        "outputId": "460775d0-453e-4c5e-97b1-fca656d86ecd"
      },
      "source": [
        "# Distinto sería si ambos elementos en la condición fueran de tipo OR (\"|\")\n",
        "df_james_bond %>% filter(\n",
        "  Year>2000 | Actor == 'Daniel Craig' # filtramos por películas que hayan sido lanzadas a partir de 2000 o cuyo actor sea Daniel Craig\n",
        ")"
      ],
      "execution_count": null,
      "outputs": [
        {
          "output_type": "display_data",
          "data": {
            "text/plain": [
              "  Film              Year Actor          Director        Box Office Budget\n",
              "1 Die Another Day   2002 Pierce Brosnan Lee Tamahori    465.4      154.2 \n",
              "2 Casino Royale     2006 Daniel Craig   Martin Campbell 581.5      145.3 \n",
              "3 Quantum of Solace 2008 Daniel Craig   Marc Forster    514.2      181.4 \n",
              "4 Skyfall           2012 Daniel Craig   Sam Mendes      943.5      170.2 \n",
              "5 Spectre           2015 Daniel Craig   Sam Mendes      726.7      206.3 \n",
              "  Bond Actor Salary\n",
              "1 17.9             \n",
              "2  3.3             \n",
              "3  8.1             \n",
              "4 14.5             \n",
              "5   NA             "
            ],
            "text/latex": "A data.table: 5 × 7\n\\begin{tabular}{lllllll}\n Film & Year & Actor & Director & Box Office & Budget & Bond Actor Salary\\\\\n <chr> & <int> & <chr> & <chr> & <dbl> & <dbl> & <dbl>\\\\\n\\hline\n\t Die Another Day   & 2002 & Pierce Brosnan & Lee Tamahori    & 465.4 & 154.2 & 17.9\\\\\n\t Casino Royale     & 2006 & Daniel Craig   & Martin Campbell & 581.5 & 145.3 &  3.3\\\\\n\t Quantum of Solace & 2008 & Daniel Craig   & Marc Forster    & 514.2 & 181.4 &  8.1\\\\\n\t Skyfall           & 2012 & Daniel Craig   & Sam Mendes      & 943.5 & 170.2 & 14.5\\\\\n\t Spectre           & 2015 & Daniel Craig   & Sam Mendes      & 726.7 & 206.3 &   NA\\\\\n\\end{tabular}\n",
            "text/markdown": "\nA data.table: 5 × 7\n\n| Film &lt;chr&gt; | Year &lt;int&gt; | Actor &lt;chr&gt; | Director &lt;chr&gt; | Box Office &lt;dbl&gt; | Budget &lt;dbl&gt; | Bond Actor Salary &lt;dbl&gt; |\n|---|---|---|---|---|---|---|\n| Die Another Day   | 2002 | Pierce Brosnan | Lee Tamahori    | 465.4 | 154.2 | 17.9 |\n| Casino Royale     | 2006 | Daniel Craig   | Martin Campbell | 581.5 | 145.3 |  3.3 |\n| Quantum of Solace | 2008 | Daniel Craig   | Marc Forster    | 514.2 | 181.4 |  8.1 |\n| Skyfall           | 2012 | Daniel Craig   | Sam Mendes      | 943.5 | 170.2 | 14.5 |\n| Spectre           | 2015 | Daniel Craig   | Sam Mendes      | 726.7 | 206.3 |   NA |\n\n",
            "text/html": [
              "<table>\n",
              "<caption>A data.table: 5 × 7</caption>\n",
              "<thead>\n",
              "\t<tr><th scope=col>Film</th><th scope=col>Year</th><th scope=col>Actor</th><th scope=col>Director</th><th scope=col>Box Office</th><th scope=col>Budget</th><th scope=col>Bond Actor Salary</th></tr>\n",
              "\t<tr><th scope=col>&lt;chr&gt;</th><th scope=col>&lt;int&gt;</th><th scope=col>&lt;chr&gt;</th><th scope=col>&lt;chr&gt;</th><th scope=col>&lt;dbl&gt;</th><th scope=col>&lt;dbl&gt;</th><th scope=col>&lt;dbl&gt;</th></tr>\n",
              "</thead>\n",
              "<tbody>\n",
              "\t<tr><td>Die Another Day  </td><td>2002</td><td>Pierce Brosnan</td><td>Lee Tamahori   </td><td>465.4</td><td>154.2</td><td>17.9</td></tr>\n",
              "\t<tr><td>Casino Royale    </td><td>2006</td><td>Daniel Craig  </td><td>Martin Campbell</td><td>581.5</td><td>145.3</td><td> 3.3</td></tr>\n",
              "\t<tr><td>Quantum of Solace</td><td>2008</td><td>Daniel Craig  </td><td>Marc Forster   </td><td>514.2</td><td>181.4</td><td> 8.1</td></tr>\n",
              "\t<tr><td>Skyfall          </td><td>2012</td><td>Daniel Craig  </td><td>Sam Mendes     </td><td>943.5</td><td>170.2</td><td>14.5</td></tr>\n",
              "\t<tr><td>Spectre          </td><td>2015</td><td>Daniel Craig  </td><td>Sam Mendes     </td><td>726.7</td><td>206.3</td><td>  NA</td></tr>\n",
              "</tbody>\n",
              "</table>\n"
            ]
          },
          "metadata": {
            "tags": []
          }
        }
      ]
    },
    {
      "cell_type": "code",
      "metadata": {
        "colab": {
          "base_uri": "https://localhost:8080/",
          "height": 393
        },
        "id": "Nfbb7820VGys",
        "outputId": "debb199a-c1bf-4ede-e1c5-dc3a3740a02e"
      },
      "source": [
        "# Una forma cómoda de filtrar una variable categórica por múltiples valores es utilizando un vector\n",
        "## de esta forma, evitamos tener que crear una condición OR que puede llegar a ser muy larga\n",
        "## para esto, utilizamos el operador \"%in%\" + un vector que definimos\n",
        "df_james_bond %>% filter(\n",
        "  Actor %in% c('Daniel Craig','Pierce Brosnan','Sean Connery') # filtramos por películas cuyos actores sean alguno de los especificados\n",
        ")"
      ],
      "execution_count": null,
      "outputs": [
        {
          "output_type": "display_data",
          "data": {
            "text/plain": [
              "   Film                    Year Actor          Director           Box Office\n",
              "1  Dr. No                  1962 Sean Connery   Terence Young      448.8     \n",
              "2  From Russia with Love   1963 Sean Connery   Terence Young      543.8     \n",
              "3  Goldfinger              1964 Sean Connery   Guy Hamilton       820.4     \n",
              "4  Thunderball             1965 Sean Connery   Terence Young      848.1     \n",
              "5  You Only Live Twice     1967 Sean Connery   Lewis Gilbert      514.2     \n",
              "6  Diamonds Are Forever    1971 Sean Connery   Guy Hamilton       442.5     \n",
              "7  Never Say Never Again   1983 Sean Connery   Irvin Kershner     380.0     \n",
              "8  GoldenEye               1995 Pierce Brosnan Martin Campbell    518.5     \n",
              "9  Tomorrow Never Dies     1997 Pierce Brosnan Roger Spottiswoode 463.2     \n",
              "10 The World Is Not Enough 1999 Pierce Brosnan Michael Apted      439.5     \n",
              "11 Die Another Day         2002 Pierce Brosnan Lee Tamahori       465.4     \n",
              "12 Casino Royale           2006 Daniel Craig   Martin Campbell    581.5     \n",
              "13 Quantum of Solace       2008 Daniel Craig   Marc Forster       514.2     \n",
              "14 Skyfall                 2012 Daniel Craig   Sam Mendes         943.5     \n",
              "15 Spectre                 2015 Daniel Craig   Sam Mendes         726.7     \n",
              "   Budget Bond Actor Salary\n",
              "1    7.0   0.6             \n",
              "2   12.6   1.6             \n",
              "3   18.6   3.2             \n",
              "4   41.9   4.7             \n",
              "5   59.9   4.4             \n",
              "6   34.7   5.8             \n",
              "7   86.0    NA             \n",
              "8   76.9   5.1             \n",
              "9  133.9  10.0             \n",
              "10 158.3  13.5             \n",
              "11 154.2  17.9             \n",
              "12 145.3   3.3             \n",
              "13 181.4   8.1             \n",
              "14 170.2  14.5             \n",
              "15 206.3    NA             "
            ],
            "text/latex": "A data.table: 15 × 7\n\\begin{tabular}{lllllll}\n Film & Year & Actor & Director & Box Office & Budget & Bond Actor Salary\\\\\n <chr> & <int> & <chr> & <chr> & <dbl> & <dbl> & <dbl>\\\\\n\\hline\n\t Dr. No                  & 1962 & Sean Connery   & Terence Young      & 448.8 &   7.0 &  0.6\\\\\n\t From Russia with Love   & 1963 & Sean Connery   & Terence Young      & 543.8 &  12.6 &  1.6\\\\\n\t Goldfinger              & 1964 & Sean Connery   & Guy Hamilton       & 820.4 &  18.6 &  3.2\\\\\n\t Thunderball             & 1965 & Sean Connery   & Terence Young      & 848.1 &  41.9 &  4.7\\\\\n\t You Only Live Twice     & 1967 & Sean Connery   & Lewis Gilbert      & 514.2 &  59.9 &  4.4\\\\\n\t Diamonds Are Forever    & 1971 & Sean Connery   & Guy Hamilton       & 442.5 &  34.7 &  5.8\\\\\n\t Never Say Never Again   & 1983 & Sean Connery   & Irvin Kershner     & 380.0 &  86.0 &   NA\\\\\n\t GoldenEye               & 1995 & Pierce Brosnan & Martin Campbell    & 518.5 &  76.9 &  5.1\\\\\n\t Tomorrow Never Dies     & 1997 & Pierce Brosnan & Roger Spottiswoode & 463.2 & 133.9 & 10.0\\\\\n\t The World Is Not Enough & 1999 & Pierce Brosnan & Michael Apted      & 439.5 & 158.3 & 13.5\\\\\n\t Die Another Day         & 2002 & Pierce Brosnan & Lee Tamahori       & 465.4 & 154.2 & 17.9\\\\\n\t Casino Royale           & 2006 & Daniel Craig   & Martin Campbell    & 581.5 & 145.3 &  3.3\\\\\n\t Quantum of Solace       & 2008 & Daniel Craig   & Marc Forster       & 514.2 & 181.4 &  8.1\\\\\n\t Skyfall                 & 2012 & Daniel Craig   & Sam Mendes         & 943.5 & 170.2 & 14.5\\\\\n\t Spectre                 & 2015 & Daniel Craig   & Sam Mendes         & 726.7 & 206.3 &   NA\\\\\n\\end{tabular}\n",
            "text/markdown": "\nA data.table: 15 × 7\n\n| Film &lt;chr&gt; | Year &lt;int&gt; | Actor &lt;chr&gt; | Director &lt;chr&gt; | Box Office &lt;dbl&gt; | Budget &lt;dbl&gt; | Bond Actor Salary &lt;dbl&gt; |\n|---|---|---|---|---|---|---|\n| Dr. No                  | 1962 | Sean Connery   | Terence Young      | 448.8 |   7.0 |  0.6 |\n| From Russia with Love   | 1963 | Sean Connery   | Terence Young      | 543.8 |  12.6 |  1.6 |\n| Goldfinger              | 1964 | Sean Connery   | Guy Hamilton       | 820.4 |  18.6 |  3.2 |\n| Thunderball             | 1965 | Sean Connery   | Terence Young      | 848.1 |  41.9 |  4.7 |\n| You Only Live Twice     | 1967 | Sean Connery   | Lewis Gilbert      | 514.2 |  59.9 |  4.4 |\n| Diamonds Are Forever    | 1971 | Sean Connery   | Guy Hamilton       | 442.5 |  34.7 |  5.8 |\n| Never Say Never Again   | 1983 | Sean Connery   | Irvin Kershner     | 380.0 |  86.0 |   NA |\n| GoldenEye               | 1995 | Pierce Brosnan | Martin Campbell    | 518.5 |  76.9 |  5.1 |\n| Tomorrow Never Dies     | 1997 | Pierce Brosnan | Roger Spottiswoode | 463.2 | 133.9 | 10.0 |\n| The World Is Not Enough | 1999 | Pierce Brosnan | Michael Apted      | 439.5 | 158.3 | 13.5 |\n| Die Another Day         | 2002 | Pierce Brosnan | Lee Tamahori       | 465.4 | 154.2 | 17.9 |\n| Casino Royale           | 2006 | Daniel Craig   | Martin Campbell    | 581.5 | 145.3 |  3.3 |\n| Quantum of Solace       | 2008 | Daniel Craig   | Marc Forster       | 514.2 | 181.4 |  8.1 |\n| Skyfall                 | 2012 | Daniel Craig   | Sam Mendes         | 943.5 | 170.2 | 14.5 |\n| Spectre                 | 2015 | Daniel Craig   | Sam Mendes         | 726.7 | 206.3 |   NA |\n\n",
            "text/html": [
              "<table>\n",
              "<caption>A data.table: 15 × 7</caption>\n",
              "<thead>\n",
              "\t<tr><th scope=col>Film</th><th scope=col>Year</th><th scope=col>Actor</th><th scope=col>Director</th><th scope=col>Box Office</th><th scope=col>Budget</th><th scope=col>Bond Actor Salary</th></tr>\n",
              "\t<tr><th scope=col>&lt;chr&gt;</th><th scope=col>&lt;int&gt;</th><th scope=col>&lt;chr&gt;</th><th scope=col>&lt;chr&gt;</th><th scope=col>&lt;dbl&gt;</th><th scope=col>&lt;dbl&gt;</th><th scope=col>&lt;dbl&gt;</th></tr>\n",
              "</thead>\n",
              "<tbody>\n",
              "\t<tr><td>Dr. No                 </td><td>1962</td><td>Sean Connery  </td><td>Terence Young     </td><td>448.8</td><td>  7.0</td><td> 0.6</td></tr>\n",
              "\t<tr><td>From Russia with Love  </td><td>1963</td><td>Sean Connery  </td><td>Terence Young     </td><td>543.8</td><td> 12.6</td><td> 1.6</td></tr>\n",
              "\t<tr><td>Goldfinger             </td><td>1964</td><td>Sean Connery  </td><td>Guy Hamilton      </td><td>820.4</td><td> 18.6</td><td> 3.2</td></tr>\n",
              "\t<tr><td>Thunderball            </td><td>1965</td><td>Sean Connery  </td><td>Terence Young     </td><td>848.1</td><td> 41.9</td><td> 4.7</td></tr>\n",
              "\t<tr><td>You Only Live Twice    </td><td>1967</td><td>Sean Connery  </td><td>Lewis Gilbert     </td><td>514.2</td><td> 59.9</td><td> 4.4</td></tr>\n",
              "\t<tr><td>Diamonds Are Forever   </td><td>1971</td><td>Sean Connery  </td><td>Guy Hamilton      </td><td>442.5</td><td> 34.7</td><td> 5.8</td></tr>\n",
              "\t<tr><td>Never Say Never Again  </td><td>1983</td><td>Sean Connery  </td><td>Irvin Kershner    </td><td>380.0</td><td> 86.0</td><td>  NA</td></tr>\n",
              "\t<tr><td>GoldenEye              </td><td>1995</td><td>Pierce Brosnan</td><td>Martin Campbell   </td><td>518.5</td><td> 76.9</td><td> 5.1</td></tr>\n",
              "\t<tr><td>Tomorrow Never Dies    </td><td>1997</td><td>Pierce Brosnan</td><td>Roger Spottiswoode</td><td>463.2</td><td>133.9</td><td>10.0</td></tr>\n",
              "\t<tr><td>The World Is Not Enough</td><td>1999</td><td>Pierce Brosnan</td><td>Michael Apted     </td><td>439.5</td><td>158.3</td><td>13.5</td></tr>\n",
              "\t<tr><td>Die Another Day        </td><td>2002</td><td>Pierce Brosnan</td><td>Lee Tamahori      </td><td>465.4</td><td>154.2</td><td>17.9</td></tr>\n",
              "\t<tr><td>Casino Royale          </td><td>2006</td><td>Daniel Craig  </td><td>Martin Campbell   </td><td>581.5</td><td>145.3</td><td> 3.3</td></tr>\n",
              "\t<tr><td>Quantum of Solace      </td><td>2008</td><td>Daniel Craig  </td><td>Marc Forster      </td><td>514.2</td><td>181.4</td><td> 8.1</td></tr>\n",
              "\t<tr><td>Skyfall                </td><td>2012</td><td>Daniel Craig  </td><td>Sam Mendes        </td><td>943.5</td><td>170.2</td><td>14.5</td></tr>\n",
              "\t<tr><td>Spectre                </td><td>2015</td><td>Daniel Craig  </td><td>Sam Mendes        </td><td>726.7</td><td>206.3</td><td>  NA</td></tr>\n",
              "</tbody>\n",
              "</table>\n"
            ]
          },
          "metadata": {
            "tags": []
          }
        }
      ]
    },
    {
      "cell_type": "code",
      "metadata": {
        "colab": {
          "base_uri": "https://localhost:8080/",
          "height": 309
        },
        "id": "SwW3A_8qVSxZ",
        "outputId": "84084ac4-6bfd-425a-ae69-02a6844f3b01"
      },
      "source": [
        "# Podemos negar condiciones utilizando el operador \"!\"\" (negación)\n",
        "df_james_bond %>% filter(\n",
        "  !Actor %in% c('Daniel Craig','Pierce Brosnan','Sean Connery') # filtramos por películas cuyos actores NO sean los especificados\n",
        ")"
      ],
      "execution_count": null,
      "outputs": [
        {
          "output_type": "display_data",
          "data": {
            "text/plain": [
              "   Film                            Year Actor          Director      Box Office\n",
              "1  Casino Royale                   1967 David Niven    Ken Hughes    315.0     \n",
              "2  On Her Majesty's Secret Service 1969 George Lazenby Peter R. Hunt 291.5     \n",
              "3  Live and Let Die                1973 Roger Moore    Guy Hamilton  460.3     \n",
              "4  The Man with the Golden Gun     1974 Roger Moore    Guy Hamilton  334.0     \n",
              "5  The Spy Who Loved Me            1977 Roger Moore    Lewis Gilbert 533.0     \n",
              "6  Moonraker                       1979 Roger Moore    Lewis Gilbert 535.0     \n",
              "7  For Your Eyes Only              1981 Roger Moore    John Glen     449.4     \n",
              "8  Octopussy                       1983 Roger Moore    John Glen     373.8     \n",
              "9  A View to a Kill                1985 Roger Moore    John Glen     275.2     \n",
              "10 The Living Daylights            1987 Timothy Dalton John Glen     313.5     \n",
              "11 Licence to Kill                 1989 Timothy Dalton John Glen     250.9     \n",
              "   Budget Bond Actor Salary\n",
              "1  85.0    NA              \n",
              "2  37.3   0.6              \n",
              "3  30.8    NA              \n",
              "4  27.7    NA              \n",
              "5  45.1    NA              \n",
              "6  91.5    NA              \n",
              "7  60.2    NA              \n",
              "8  53.9   7.8              \n",
              "9  54.5   9.1              \n",
              "10 68.8   5.2              \n",
              "11 56.7   7.9              "
            ],
            "text/latex": "A data.table: 11 × 7\n\\begin{tabular}{lllllll}\n Film & Year & Actor & Director & Box Office & Budget & Bond Actor Salary\\\\\n <chr> & <int> & <chr> & <chr> & <dbl> & <dbl> & <dbl>\\\\\n\\hline\n\t Casino Royale                   & 1967 & David Niven    & Ken Hughes    & 315.0 & 85.0 &  NA\\\\\n\t On Her Majesty's Secret Service & 1969 & George Lazenby & Peter R. Hunt & 291.5 & 37.3 & 0.6\\\\\n\t Live and Let Die                & 1973 & Roger Moore    & Guy Hamilton  & 460.3 & 30.8 &  NA\\\\\n\t The Man with the Golden Gun     & 1974 & Roger Moore    & Guy Hamilton  & 334.0 & 27.7 &  NA\\\\\n\t The Spy Who Loved Me            & 1977 & Roger Moore    & Lewis Gilbert & 533.0 & 45.1 &  NA\\\\\n\t Moonraker                       & 1979 & Roger Moore    & Lewis Gilbert & 535.0 & 91.5 &  NA\\\\\n\t For Your Eyes Only              & 1981 & Roger Moore    & John Glen     & 449.4 & 60.2 &  NA\\\\\n\t Octopussy                       & 1983 & Roger Moore    & John Glen     & 373.8 & 53.9 & 7.8\\\\\n\t A View to a Kill                & 1985 & Roger Moore    & John Glen     & 275.2 & 54.5 & 9.1\\\\\n\t The Living Daylights            & 1987 & Timothy Dalton & John Glen     & 313.5 & 68.8 & 5.2\\\\\n\t Licence to Kill                 & 1989 & Timothy Dalton & John Glen     & 250.9 & 56.7 & 7.9\\\\\n\\end{tabular}\n",
            "text/markdown": "\nA data.table: 11 × 7\n\n| Film &lt;chr&gt; | Year &lt;int&gt; | Actor &lt;chr&gt; | Director &lt;chr&gt; | Box Office &lt;dbl&gt; | Budget &lt;dbl&gt; | Bond Actor Salary &lt;dbl&gt; |\n|---|---|---|---|---|---|---|\n| Casino Royale                   | 1967 | David Niven    | Ken Hughes    | 315.0 | 85.0 |  NA |\n| On Her Majesty's Secret Service | 1969 | George Lazenby | Peter R. Hunt | 291.5 | 37.3 | 0.6 |\n| Live and Let Die                | 1973 | Roger Moore    | Guy Hamilton  | 460.3 | 30.8 |  NA |\n| The Man with the Golden Gun     | 1974 | Roger Moore    | Guy Hamilton  | 334.0 | 27.7 |  NA |\n| The Spy Who Loved Me            | 1977 | Roger Moore    | Lewis Gilbert | 533.0 | 45.1 |  NA |\n| Moonraker                       | 1979 | Roger Moore    | Lewis Gilbert | 535.0 | 91.5 |  NA |\n| For Your Eyes Only              | 1981 | Roger Moore    | John Glen     | 449.4 | 60.2 |  NA |\n| Octopussy                       | 1983 | Roger Moore    | John Glen     | 373.8 | 53.9 | 7.8 |\n| A View to a Kill                | 1985 | Roger Moore    | John Glen     | 275.2 | 54.5 | 9.1 |\n| The Living Daylights            | 1987 | Timothy Dalton | John Glen     | 313.5 | 68.8 | 5.2 |\n| Licence to Kill                 | 1989 | Timothy Dalton | John Glen     | 250.9 | 56.7 | 7.9 |\n\n",
            "text/html": [
              "<table>\n",
              "<caption>A data.table: 11 × 7</caption>\n",
              "<thead>\n",
              "\t<tr><th scope=col>Film</th><th scope=col>Year</th><th scope=col>Actor</th><th scope=col>Director</th><th scope=col>Box Office</th><th scope=col>Budget</th><th scope=col>Bond Actor Salary</th></tr>\n",
              "\t<tr><th scope=col>&lt;chr&gt;</th><th scope=col>&lt;int&gt;</th><th scope=col>&lt;chr&gt;</th><th scope=col>&lt;chr&gt;</th><th scope=col>&lt;dbl&gt;</th><th scope=col>&lt;dbl&gt;</th><th scope=col>&lt;dbl&gt;</th></tr>\n",
              "</thead>\n",
              "<tbody>\n",
              "\t<tr><td>Casino Royale                  </td><td>1967</td><td>David Niven   </td><td>Ken Hughes   </td><td>315.0</td><td>85.0</td><td> NA</td></tr>\n",
              "\t<tr><td>On Her Majesty's Secret Service</td><td>1969</td><td>George Lazenby</td><td>Peter R. Hunt</td><td>291.5</td><td>37.3</td><td>0.6</td></tr>\n",
              "\t<tr><td>Live and Let Die               </td><td>1973</td><td>Roger Moore   </td><td>Guy Hamilton </td><td>460.3</td><td>30.8</td><td> NA</td></tr>\n",
              "\t<tr><td>The Man with the Golden Gun    </td><td>1974</td><td>Roger Moore   </td><td>Guy Hamilton </td><td>334.0</td><td>27.7</td><td> NA</td></tr>\n",
              "\t<tr><td>The Spy Who Loved Me           </td><td>1977</td><td>Roger Moore   </td><td>Lewis Gilbert</td><td>533.0</td><td>45.1</td><td> NA</td></tr>\n",
              "\t<tr><td>Moonraker                      </td><td>1979</td><td>Roger Moore   </td><td>Lewis Gilbert</td><td>535.0</td><td>91.5</td><td> NA</td></tr>\n",
              "\t<tr><td>For Your Eyes Only             </td><td>1981</td><td>Roger Moore   </td><td>John Glen    </td><td>449.4</td><td>60.2</td><td> NA</td></tr>\n",
              "\t<tr><td>Octopussy                      </td><td>1983</td><td>Roger Moore   </td><td>John Glen    </td><td>373.8</td><td>53.9</td><td>7.8</td></tr>\n",
              "\t<tr><td>A View to a Kill               </td><td>1985</td><td>Roger Moore   </td><td>John Glen    </td><td>275.2</td><td>54.5</td><td>9.1</td></tr>\n",
              "\t<tr><td>The Living Daylights           </td><td>1987</td><td>Timothy Dalton</td><td>John Glen    </td><td>313.5</td><td>68.8</td><td>5.2</td></tr>\n",
              "\t<tr><td>Licence to Kill                </td><td>1989</td><td>Timothy Dalton</td><td>John Glen    </td><td>250.9</td><td>56.7</td><td>7.9</td></tr>\n",
              "</tbody>\n",
              "</table>\n"
            ]
          },
          "metadata": {
            "tags": []
          }
        }
      ]
    },
    {
      "cell_type": "markdown",
      "metadata": {
        "id": "igG5l-8vIzPH"
      },
      "source": [
        "# ORDENAR FILAS Y CREAR NUEVAS COLUMNAS"
      ]
    },
    {
      "cell_type": "code",
      "metadata": {
        "id": "aE7H5kte88j1",
        "colab": {
          "base_uri": "https://localhost:8080/"
        },
        "outputId": "08c8b528-bb77-4c27-9d76-c541d91cbddc"
      },
      "source": [
        "df_james_bond = data.table::fread(\"https://data-wizards.s3.amazonaws.com/datasets/jamesbond.csv\")\n",
        "glimpse(df_james_bond)"
      ],
      "execution_count": null,
      "outputs": [
        {
          "output_type": "stream",
          "text": [
            "Rows: 26\n",
            "Columns: 7\n",
            "$ Film                \u001b[3m\u001b[90m<chr>\u001b[39m\u001b[23m \"Dr. No\", \"From Russia with Love\", \"Goldfinger\", …\n",
            "$ Year                \u001b[3m\u001b[90m<int>\u001b[39m\u001b[23m 1962, 1963, 1964, 1965, 1967, 1967, 1969, 1971, 1…\n",
            "$ Actor               \u001b[3m\u001b[90m<chr>\u001b[39m\u001b[23m \"Sean Connery\", \"Sean Connery\", \"Sean Connery\", \"…\n",
            "$ Director            \u001b[3m\u001b[90m<chr>\u001b[39m\u001b[23m \"Terence Young\", \"Terence Young\", \"Guy Hamilton\",…\n",
            "$ `Box Office`        \u001b[3m\u001b[90m<dbl>\u001b[39m\u001b[23m 448.8, 543.8, 820.4, 848.1, 315.0, 514.2, 291.5, …\n",
            "$ Budget              \u001b[3m\u001b[90m<dbl>\u001b[39m\u001b[23m 7.0, 12.6, 18.6, 41.9, 85.0, 59.9, 37.3, 34.7, 30…\n",
            "$ `Bond Actor Salary` \u001b[3m\u001b[90m<dbl>\u001b[39m\u001b[23m 0.6, 1.6, 3.2, 4.7, NA, 4.4, 0.6, 5.8, NA, NA, NA…\n"
          ],
          "name": "stdout"
        }
      ]
    },
    {
      "cell_type": "markdown",
      "metadata": {
        "id": "YvDEtrMcx4sd"
      },
      "source": [
        "### ORDENAR FILAS\n",
        "---\n",
        "La función *arrange()* nos permite ordenar un *data frame* en función de una o más variables\n",
        "\n",
        "```\n",
        "dplyr::arrange(object, columns ...)\n",
        "```\n",
        "\n"
      ]
    },
    {
      "cell_type": "code",
      "metadata": {
        "colab": {
          "base_uri": "https://localhost:8080/",
          "height": 624
        },
        "id": "nOCDRbm1yF_d",
        "outputId": "acc86222-7377-461a-e363-ce61a3b12ecd"
      },
      "source": [
        "# Ordenamos el data frame según variable alfanumérica (texto)\n",
        "df_james_bond %>% arrange(Actor) # por defecto, el criterio es ascendente. En caso de ser variable texto, será en orden del abecedario"
      ],
      "execution_count": null,
      "outputs": [
        {
          "output_type": "display_data",
          "data": {
            "text/plain": [
              "   Film                            Year Actor          Director          \n",
              "1  Casino Royale                   2006 Daniel Craig   Martin Campbell   \n",
              "2  Quantum of Solace               2008 Daniel Craig   Marc Forster      \n",
              "3  Skyfall                         2012 Daniel Craig   Sam Mendes        \n",
              "4  Spectre                         2015 Daniel Craig   Sam Mendes        \n",
              "5  Casino Royale                   1967 David Niven    Ken Hughes        \n",
              "6  On Her Majesty's Secret Service 1969 George Lazenby Peter R. Hunt     \n",
              "7  GoldenEye                       1995 Pierce Brosnan Martin Campbell   \n",
              "8  Tomorrow Never Dies             1997 Pierce Brosnan Roger Spottiswoode\n",
              "9  The World Is Not Enough         1999 Pierce Brosnan Michael Apted     \n",
              "10 Die Another Day                 2002 Pierce Brosnan Lee Tamahori      \n",
              "11 Live and Let Die                1973 Roger Moore    Guy Hamilton      \n",
              "12 The Man with the Golden Gun     1974 Roger Moore    Guy Hamilton      \n",
              "13 The Spy Who Loved Me            1977 Roger Moore    Lewis Gilbert     \n",
              "14 Moonraker                       1979 Roger Moore    Lewis Gilbert     \n",
              "15 For Your Eyes Only              1981 Roger Moore    John Glen         \n",
              "16 Octopussy                       1983 Roger Moore    John Glen         \n",
              "17 A View to a Kill                1985 Roger Moore    John Glen         \n",
              "18 Dr. No                          1962 Sean Connery   Terence Young     \n",
              "19 From Russia with Love           1963 Sean Connery   Terence Young     \n",
              "20 Goldfinger                      1964 Sean Connery   Guy Hamilton      \n",
              "21 Thunderball                     1965 Sean Connery   Terence Young     \n",
              "22 You Only Live Twice             1967 Sean Connery   Lewis Gilbert     \n",
              "23 Diamonds Are Forever            1971 Sean Connery   Guy Hamilton      \n",
              "24 Never Say Never Again           1983 Sean Connery   Irvin Kershner    \n",
              "25 The Living Daylights            1987 Timothy Dalton John Glen         \n",
              "26 Licence to Kill                 1989 Timothy Dalton John Glen         \n",
              "   Box Office Budget Bond Actor Salary\n",
              "1  581.5      145.3   3.3             \n",
              "2  514.2      181.4   8.1             \n",
              "3  943.5      170.2  14.5             \n",
              "4  726.7      206.3    NA             \n",
              "5  315.0       85.0    NA             \n",
              "6  291.5       37.3   0.6             \n",
              "7  518.5       76.9   5.1             \n",
              "8  463.2      133.9  10.0             \n",
              "9  439.5      158.3  13.5             \n",
              "10 465.4      154.2  17.9             \n",
              "11 460.3       30.8    NA             \n",
              "12 334.0       27.7    NA             \n",
              "13 533.0       45.1    NA             \n",
              "14 535.0       91.5    NA             \n",
              "15 449.4       60.2    NA             \n",
              "16 373.8       53.9   7.8             \n",
              "17 275.2       54.5   9.1             \n",
              "18 448.8        7.0   0.6             \n",
              "19 543.8       12.6   1.6             \n",
              "20 820.4       18.6   3.2             \n",
              "21 848.1       41.9   4.7             \n",
              "22 514.2       59.9   4.4             \n",
              "23 442.5       34.7   5.8             \n",
              "24 380.0       86.0    NA             \n",
              "25 313.5       68.8   5.2             \n",
              "26 250.9       56.7   7.9             "
            ],
            "text/latex": "A data.table: 26 × 7\n\\begin{tabular}{lllllll}\n Film & Year & Actor & Director & Box Office & Budget & Bond Actor Salary\\\\\n <chr> & <int> & <chr> & <chr> & <dbl> & <dbl> & <dbl>\\\\\n\\hline\n\t Casino Royale                   & 2006 & Daniel Craig   & Martin Campbell    & 581.5 & 145.3 &  3.3\\\\\n\t Quantum of Solace               & 2008 & Daniel Craig   & Marc Forster       & 514.2 & 181.4 &  8.1\\\\\n\t Skyfall                         & 2012 & Daniel Craig   & Sam Mendes         & 943.5 & 170.2 & 14.5\\\\\n\t Spectre                         & 2015 & Daniel Craig   & Sam Mendes         & 726.7 & 206.3 &   NA\\\\\n\t Casino Royale                   & 1967 & David Niven    & Ken Hughes         & 315.0 &  85.0 &   NA\\\\\n\t On Her Majesty's Secret Service & 1969 & George Lazenby & Peter R. Hunt      & 291.5 &  37.3 &  0.6\\\\\n\t GoldenEye                       & 1995 & Pierce Brosnan & Martin Campbell    & 518.5 &  76.9 &  5.1\\\\\n\t Tomorrow Never Dies             & 1997 & Pierce Brosnan & Roger Spottiswoode & 463.2 & 133.9 & 10.0\\\\\n\t The World Is Not Enough         & 1999 & Pierce Brosnan & Michael Apted      & 439.5 & 158.3 & 13.5\\\\\n\t Die Another Day                 & 2002 & Pierce Brosnan & Lee Tamahori       & 465.4 & 154.2 & 17.9\\\\\n\t Live and Let Die                & 1973 & Roger Moore    & Guy Hamilton       & 460.3 &  30.8 &   NA\\\\\n\t The Man with the Golden Gun     & 1974 & Roger Moore    & Guy Hamilton       & 334.0 &  27.7 &   NA\\\\\n\t The Spy Who Loved Me            & 1977 & Roger Moore    & Lewis Gilbert      & 533.0 &  45.1 &   NA\\\\\n\t Moonraker                       & 1979 & Roger Moore    & Lewis Gilbert      & 535.0 &  91.5 &   NA\\\\\n\t For Your Eyes Only              & 1981 & Roger Moore    & John Glen          & 449.4 &  60.2 &   NA\\\\\n\t Octopussy                       & 1983 & Roger Moore    & John Glen          & 373.8 &  53.9 &  7.8\\\\\n\t A View to a Kill                & 1985 & Roger Moore    & John Glen          & 275.2 &  54.5 &  9.1\\\\\n\t Dr. No                          & 1962 & Sean Connery   & Terence Young      & 448.8 &   7.0 &  0.6\\\\\n\t From Russia with Love           & 1963 & Sean Connery   & Terence Young      & 543.8 &  12.6 &  1.6\\\\\n\t Goldfinger                      & 1964 & Sean Connery   & Guy Hamilton       & 820.4 &  18.6 &  3.2\\\\\n\t Thunderball                     & 1965 & Sean Connery   & Terence Young      & 848.1 &  41.9 &  4.7\\\\\n\t You Only Live Twice             & 1967 & Sean Connery   & Lewis Gilbert      & 514.2 &  59.9 &  4.4\\\\\n\t Diamonds Are Forever            & 1971 & Sean Connery   & Guy Hamilton       & 442.5 &  34.7 &  5.8\\\\\n\t Never Say Never Again           & 1983 & Sean Connery   & Irvin Kershner     & 380.0 &  86.0 &   NA\\\\\n\t The Living Daylights            & 1987 & Timothy Dalton & John Glen          & 313.5 &  68.8 &  5.2\\\\\n\t Licence to Kill                 & 1989 & Timothy Dalton & John Glen          & 250.9 &  56.7 &  7.9\\\\\n\\end{tabular}\n",
            "text/markdown": "\nA data.table: 26 × 7\n\n| Film &lt;chr&gt; | Year &lt;int&gt; | Actor &lt;chr&gt; | Director &lt;chr&gt; | Box Office &lt;dbl&gt; | Budget &lt;dbl&gt; | Bond Actor Salary &lt;dbl&gt; |\n|---|---|---|---|---|---|---|\n| Casino Royale                   | 2006 | Daniel Craig   | Martin Campbell    | 581.5 | 145.3 |  3.3 |\n| Quantum of Solace               | 2008 | Daniel Craig   | Marc Forster       | 514.2 | 181.4 |  8.1 |\n| Skyfall                         | 2012 | Daniel Craig   | Sam Mendes         | 943.5 | 170.2 | 14.5 |\n| Spectre                         | 2015 | Daniel Craig   | Sam Mendes         | 726.7 | 206.3 |   NA |\n| Casino Royale                   | 1967 | David Niven    | Ken Hughes         | 315.0 |  85.0 |   NA |\n| On Her Majesty's Secret Service | 1969 | George Lazenby | Peter R. Hunt      | 291.5 |  37.3 |  0.6 |\n| GoldenEye                       | 1995 | Pierce Brosnan | Martin Campbell    | 518.5 |  76.9 |  5.1 |\n| Tomorrow Never Dies             | 1997 | Pierce Brosnan | Roger Spottiswoode | 463.2 | 133.9 | 10.0 |\n| The World Is Not Enough         | 1999 | Pierce Brosnan | Michael Apted      | 439.5 | 158.3 | 13.5 |\n| Die Another Day                 | 2002 | Pierce Brosnan | Lee Tamahori       | 465.4 | 154.2 | 17.9 |\n| Live and Let Die                | 1973 | Roger Moore    | Guy Hamilton       | 460.3 |  30.8 |   NA |\n| The Man with the Golden Gun     | 1974 | Roger Moore    | Guy Hamilton       | 334.0 |  27.7 |   NA |\n| The Spy Who Loved Me            | 1977 | Roger Moore    | Lewis Gilbert      | 533.0 |  45.1 |   NA |\n| Moonraker                       | 1979 | Roger Moore    | Lewis Gilbert      | 535.0 |  91.5 |   NA |\n| For Your Eyes Only              | 1981 | Roger Moore    | John Glen          | 449.4 |  60.2 |   NA |\n| Octopussy                       | 1983 | Roger Moore    | John Glen          | 373.8 |  53.9 |  7.8 |\n| A View to a Kill                | 1985 | Roger Moore    | John Glen          | 275.2 |  54.5 |  9.1 |\n| Dr. No                          | 1962 | Sean Connery   | Terence Young      | 448.8 |   7.0 |  0.6 |\n| From Russia with Love           | 1963 | Sean Connery   | Terence Young      | 543.8 |  12.6 |  1.6 |\n| Goldfinger                      | 1964 | Sean Connery   | Guy Hamilton       | 820.4 |  18.6 |  3.2 |\n| Thunderball                     | 1965 | Sean Connery   | Terence Young      | 848.1 |  41.9 |  4.7 |\n| You Only Live Twice             | 1967 | Sean Connery   | Lewis Gilbert      | 514.2 |  59.9 |  4.4 |\n| Diamonds Are Forever            | 1971 | Sean Connery   | Guy Hamilton       | 442.5 |  34.7 |  5.8 |\n| Never Say Never Again           | 1983 | Sean Connery   | Irvin Kershner     | 380.0 |  86.0 |   NA |\n| The Living Daylights            | 1987 | Timothy Dalton | John Glen          | 313.5 |  68.8 |  5.2 |\n| Licence to Kill                 | 1989 | Timothy Dalton | John Glen          | 250.9 |  56.7 |  7.9 |\n\n",
            "text/html": [
              "<table>\n",
              "<caption>A data.table: 26 × 7</caption>\n",
              "<thead>\n",
              "\t<tr><th scope=col>Film</th><th scope=col>Year</th><th scope=col>Actor</th><th scope=col>Director</th><th scope=col>Box Office</th><th scope=col>Budget</th><th scope=col>Bond Actor Salary</th></tr>\n",
              "\t<tr><th scope=col>&lt;chr&gt;</th><th scope=col>&lt;int&gt;</th><th scope=col>&lt;chr&gt;</th><th scope=col>&lt;chr&gt;</th><th scope=col>&lt;dbl&gt;</th><th scope=col>&lt;dbl&gt;</th><th scope=col>&lt;dbl&gt;</th></tr>\n",
              "</thead>\n",
              "<tbody>\n",
              "\t<tr><td>Casino Royale                  </td><td>2006</td><td>Daniel Craig  </td><td>Martin Campbell   </td><td>581.5</td><td>145.3</td><td> 3.3</td></tr>\n",
              "\t<tr><td>Quantum of Solace              </td><td>2008</td><td>Daniel Craig  </td><td>Marc Forster      </td><td>514.2</td><td>181.4</td><td> 8.1</td></tr>\n",
              "\t<tr><td>Skyfall                        </td><td>2012</td><td>Daniel Craig  </td><td>Sam Mendes        </td><td>943.5</td><td>170.2</td><td>14.5</td></tr>\n",
              "\t<tr><td>Spectre                        </td><td>2015</td><td>Daniel Craig  </td><td>Sam Mendes        </td><td>726.7</td><td>206.3</td><td>  NA</td></tr>\n",
              "\t<tr><td>Casino Royale                  </td><td>1967</td><td>David Niven   </td><td>Ken Hughes        </td><td>315.0</td><td> 85.0</td><td>  NA</td></tr>\n",
              "\t<tr><td>On Her Majesty's Secret Service</td><td>1969</td><td>George Lazenby</td><td>Peter R. Hunt     </td><td>291.5</td><td> 37.3</td><td> 0.6</td></tr>\n",
              "\t<tr><td>GoldenEye                      </td><td>1995</td><td>Pierce Brosnan</td><td>Martin Campbell   </td><td>518.5</td><td> 76.9</td><td> 5.1</td></tr>\n",
              "\t<tr><td>Tomorrow Never Dies            </td><td>1997</td><td>Pierce Brosnan</td><td>Roger Spottiswoode</td><td>463.2</td><td>133.9</td><td>10.0</td></tr>\n",
              "\t<tr><td>The World Is Not Enough        </td><td>1999</td><td>Pierce Brosnan</td><td>Michael Apted     </td><td>439.5</td><td>158.3</td><td>13.5</td></tr>\n",
              "\t<tr><td>Die Another Day                </td><td>2002</td><td>Pierce Brosnan</td><td>Lee Tamahori      </td><td>465.4</td><td>154.2</td><td>17.9</td></tr>\n",
              "\t<tr><td>Live and Let Die               </td><td>1973</td><td>Roger Moore   </td><td>Guy Hamilton      </td><td>460.3</td><td> 30.8</td><td>  NA</td></tr>\n",
              "\t<tr><td>The Man with the Golden Gun    </td><td>1974</td><td>Roger Moore   </td><td>Guy Hamilton      </td><td>334.0</td><td> 27.7</td><td>  NA</td></tr>\n",
              "\t<tr><td>The Spy Who Loved Me           </td><td>1977</td><td>Roger Moore   </td><td>Lewis Gilbert     </td><td>533.0</td><td> 45.1</td><td>  NA</td></tr>\n",
              "\t<tr><td>Moonraker                      </td><td>1979</td><td>Roger Moore   </td><td>Lewis Gilbert     </td><td>535.0</td><td> 91.5</td><td>  NA</td></tr>\n",
              "\t<tr><td>For Your Eyes Only             </td><td>1981</td><td>Roger Moore   </td><td>John Glen         </td><td>449.4</td><td> 60.2</td><td>  NA</td></tr>\n",
              "\t<tr><td>Octopussy                      </td><td>1983</td><td>Roger Moore   </td><td>John Glen         </td><td>373.8</td><td> 53.9</td><td> 7.8</td></tr>\n",
              "\t<tr><td>A View to a Kill               </td><td>1985</td><td>Roger Moore   </td><td>John Glen         </td><td>275.2</td><td> 54.5</td><td> 9.1</td></tr>\n",
              "\t<tr><td>Dr. No                         </td><td>1962</td><td>Sean Connery  </td><td>Terence Young     </td><td>448.8</td><td>  7.0</td><td> 0.6</td></tr>\n",
              "\t<tr><td>From Russia with Love          </td><td>1963</td><td>Sean Connery  </td><td>Terence Young     </td><td>543.8</td><td> 12.6</td><td> 1.6</td></tr>\n",
              "\t<tr><td>Goldfinger                     </td><td>1964</td><td>Sean Connery  </td><td>Guy Hamilton      </td><td>820.4</td><td> 18.6</td><td> 3.2</td></tr>\n",
              "\t<tr><td>Thunderball                    </td><td>1965</td><td>Sean Connery  </td><td>Terence Young     </td><td>848.1</td><td> 41.9</td><td> 4.7</td></tr>\n",
              "\t<tr><td>You Only Live Twice            </td><td>1967</td><td>Sean Connery  </td><td>Lewis Gilbert     </td><td>514.2</td><td> 59.9</td><td> 4.4</td></tr>\n",
              "\t<tr><td>Diamonds Are Forever           </td><td>1971</td><td>Sean Connery  </td><td>Guy Hamilton      </td><td>442.5</td><td> 34.7</td><td> 5.8</td></tr>\n",
              "\t<tr><td>Never Say Never Again          </td><td>1983</td><td>Sean Connery  </td><td>Irvin Kershner    </td><td>380.0</td><td> 86.0</td><td>  NA</td></tr>\n",
              "\t<tr><td>The Living Daylights           </td><td>1987</td><td>Timothy Dalton</td><td>John Glen         </td><td>313.5</td><td> 68.8</td><td> 5.2</td></tr>\n",
              "\t<tr><td>Licence to Kill                </td><td>1989</td><td>Timothy Dalton</td><td>John Glen         </td><td>250.9</td><td> 56.7</td><td> 7.9</td></tr>\n",
              "</tbody>\n",
              "</table>\n"
            ]
          },
          "metadata": {
            "tags": []
          }
        }
      ]
    },
    {
      "cell_type": "code",
      "metadata": {
        "colab": {
          "base_uri": "https://localhost:8080/",
          "height": 624
        },
        "id": "S77rhywEyGCq",
        "outputId": "c9f29ba5-2001-4cbf-ef29-a18716474812"
      },
      "source": [
        "# Ordenamos por dos variables numéricas, siempre en criterio ascendente\n",
        "df_james_bond %>% arrange(Year,Budget)"
      ],
      "execution_count": null,
      "outputs": [
        {
          "output_type": "display_data",
          "data": {
            "text/plain": [
              "   Film                            Year Actor          Director          \n",
              "1  Dr. No                          1962 Sean Connery   Terence Young     \n",
              "2  From Russia with Love           1963 Sean Connery   Terence Young     \n",
              "3  Goldfinger                      1964 Sean Connery   Guy Hamilton      \n",
              "4  Thunderball                     1965 Sean Connery   Terence Young     \n",
              "5  You Only Live Twice             1967 Sean Connery   Lewis Gilbert     \n",
              "6  Casino Royale                   1967 David Niven    Ken Hughes        \n",
              "7  On Her Majesty's Secret Service 1969 George Lazenby Peter R. Hunt     \n",
              "8  Diamonds Are Forever            1971 Sean Connery   Guy Hamilton      \n",
              "9  Live and Let Die                1973 Roger Moore    Guy Hamilton      \n",
              "10 The Man with the Golden Gun     1974 Roger Moore    Guy Hamilton      \n",
              "11 The Spy Who Loved Me            1977 Roger Moore    Lewis Gilbert     \n",
              "12 Moonraker                       1979 Roger Moore    Lewis Gilbert     \n",
              "13 For Your Eyes Only              1981 Roger Moore    John Glen         \n",
              "14 Octopussy                       1983 Roger Moore    John Glen         \n",
              "15 Never Say Never Again           1983 Sean Connery   Irvin Kershner    \n",
              "16 A View to a Kill                1985 Roger Moore    John Glen         \n",
              "17 The Living Daylights            1987 Timothy Dalton John Glen         \n",
              "18 Licence to Kill                 1989 Timothy Dalton John Glen         \n",
              "19 GoldenEye                       1995 Pierce Brosnan Martin Campbell   \n",
              "20 Tomorrow Never Dies             1997 Pierce Brosnan Roger Spottiswoode\n",
              "21 The World Is Not Enough         1999 Pierce Brosnan Michael Apted     \n",
              "22 Die Another Day                 2002 Pierce Brosnan Lee Tamahori      \n",
              "23 Casino Royale                   2006 Daniel Craig   Martin Campbell   \n",
              "24 Quantum of Solace               2008 Daniel Craig   Marc Forster      \n",
              "25 Skyfall                         2012 Daniel Craig   Sam Mendes        \n",
              "26 Spectre                         2015 Daniel Craig   Sam Mendes        \n",
              "   Box Office Budget Bond Actor Salary\n",
              "1  448.8        7.0   0.6             \n",
              "2  543.8       12.6   1.6             \n",
              "3  820.4       18.6   3.2             \n",
              "4  848.1       41.9   4.7             \n",
              "5  514.2       59.9   4.4             \n",
              "6  315.0       85.0    NA             \n",
              "7  291.5       37.3   0.6             \n",
              "8  442.5       34.7   5.8             \n",
              "9  460.3       30.8    NA             \n",
              "10 334.0       27.7    NA             \n",
              "11 533.0       45.1    NA             \n",
              "12 535.0       91.5    NA             \n",
              "13 449.4       60.2    NA             \n",
              "14 373.8       53.9   7.8             \n",
              "15 380.0       86.0    NA             \n",
              "16 275.2       54.5   9.1             \n",
              "17 313.5       68.8   5.2             \n",
              "18 250.9       56.7   7.9             \n",
              "19 518.5       76.9   5.1             \n",
              "20 463.2      133.9  10.0             \n",
              "21 439.5      158.3  13.5             \n",
              "22 465.4      154.2  17.9             \n",
              "23 581.5      145.3   3.3             \n",
              "24 514.2      181.4   8.1             \n",
              "25 943.5      170.2  14.5             \n",
              "26 726.7      206.3    NA             "
            ],
            "text/latex": "A data.table: 26 × 7\n\\begin{tabular}{lllllll}\n Film & Year & Actor & Director & Box Office & Budget & Bond Actor Salary\\\\\n <chr> & <int> & <chr> & <chr> & <dbl> & <dbl> & <dbl>\\\\\n\\hline\n\t Dr. No                          & 1962 & Sean Connery   & Terence Young      & 448.8 &   7.0 &  0.6\\\\\n\t From Russia with Love           & 1963 & Sean Connery   & Terence Young      & 543.8 &  12.6 &  1.6\\\\\n\t Goldfinger                      & 1964 & Sean Connery   & Guy Hamilton       & 820.4 &  18.6 &  3.2\\\\\n\t Thunderball                     & 1965 & Sean Connery   & Terence Young      & 848.1 &  41.9 &  4.7\\\\\n\t You Only Live Twice             & 1967 & Sean Connery   & Lewis Gilbert      & 514.2 &  59.9 &  4.4\\\\\n\t Casino Royale                   & 1967 & David Niven    & Ken Hughes         & 315.0 &  85.0 &   NA\\\\\n\t On Her Majesty's Secret Service & 1969 & George Lazenby & Peter R. Hunt      & 291.5 &  37.3 &  0.6\\\\\n\t Diamonds Are Forever            & 1971 & Sean Connery   & Guy Hamilton       & 442.5 &  34.7 &  5.8\\\\\n\t Live and Let Die                & 1973 & Roger Moore    & Guy Hamilton       & 460.3 &  30.8 &   NA\\\\\n\t The Man with the Golden Gun     & 1974 & Roger Moore    & Guy Hamilton       & 334.0 &  27.7 &   NA\\\\\n\t The Spy Who Loved Me            & 1977 & Roger Moore    & Lewis Gilbert      & 533.0 &  45.1 &   NA\\\\\n\t Moonraker                       & 1979 & Roger Moore    & Lewis Gilbert      & 535.0 &  91.5 &   NA\\\\\n\t For Your Eyes Only              & 1981 & Roger Moore    & John Glen          & 449.4 &  60.2 &   NA\\\\\n\t Octopussy                       & 1983 & Roger Moore    & John Glen          & 373.8 &  53.9 &  7.8\\\\\n\t Never Say Never Again           & 1983 & Sean Connery   & Irvin Kershner     & 380.0 &  86.0 &   NA\\\\\n\t A View to a Kill                & 1985 & Roger Moore    & John Glen          & 275.2 &  54.5 &  9.1\\\\\n\t The Living Daylights            & 1987 & Timothy Dalton & John Glen          & 313.5 &  68.8 &  5.2\\\\\n\t Licence to Kill                 & 1989 & Timothy Dalton & John Glen          & 250.9 &  56.7 &  7.9\\\\\n\t GoldenEye                       & 1995 & Pierce Brosnan & Martin Campbell    & 518.5 &  76.9 &  5.1\\\\\n\t Tomorrow Never Dies             & 1997 & Pierce Brosnan & Roger Spottiswoode & 463.2 & 133.9 & 10.0\\\\\n\t The World Is Not Enough         & 1999 & Pierce Brosnan & Michael Apted      & 439.5 & 158.3 & 13.5\\\\\n\t Die Another Day                 & 2002 & Pierce Brosnan & Lee Tamahori       & 465.4 & 154.2 & 17.9\\\\\n\t Casino Royale                   & 2006 & Daniel Craig   & Martin Campbell    & 581.5 & 145.3 &  3.3\\\\\n\t Quantum of Solace               & 2008 & Daniel Craig   & Marc Forster       & 514.2 & 181.4 &  8.1\\\\\n\t Skyfall                         & 2012 & Daniel Craig   & Sam Mendes         & 943.5 & 170.2 & 14.5\\\\\n\t Spectre                         & 2015 & Daniel Craig   & Sam Mendes         & 726.7 & 206.3 &   NA\\\\\n\\end{tabular}\n",
            "text/markdown": "\nA data.table: 26 × 7\n\n| Film &lt;chr&gt; | Year &lt;int&gt; | Actor &lt;chr&gt; | Director &lt;chr&gt; | Box Office &lt;dbl&gt; | Budget &lt;dbl&gt; | Bond Actor Salary &lt;dbl&gt; |\n|---|---|---|---|---|---|---|\n| Dr. No                          | 1962 | Sean Connery   | Terence Young      | 448.8 |   7.0 |  0.6 |\n| From Russia with Love           | 1963 | Sean Connery   | Terence Young      | 543.8 |  12.6 |  1.6 |\n| Goldfinger                      | 1964 | Sean Connery   | Guy Hamilton       | 820.4 |  18.6 |  3.2 |\n| Thunderball                     | 1965 | Sean Connery   | Terence Young      | 848.1 |  41.9 |  4.7 |\n| You Only Live Twice             | 1967 | Sean Connery   | Lewis Gilbert      | 514.2 |  59.9 |  4.4 |\n| Casino Royale                   | 1967 | David Niven    | Ken Hughes         | 315.0 |  85.0 |   NA |\n| On Her Majesty's Secret Service | 1969 | George Lazenby | Peter R. Hunt      | 291.5 |  37.3 |  0.6 |\n| Diamonds Are Forever            | 1971 | Sean Connery   | Guy Hamilton       | 442.5 |  34.7 |  5.8 |\n| Live and Let Die                | 1973 | Roger Moore    | Guy Hamilton       | 460.3 |  30.8 |   NA |\n| The Man with the Golden Gun     | 1974 | Roger Moore    | Guy Hamilton       | 334.0 |  27.7 |   NA |\n| The Spy Who Loved Me            | 1977 | Roger Moore    | Lewis Gilbert      | 533.0 |  45.1 |   NA |\n| Moonraker                       | 1979 | Roger Moore    | Lewis Gilbert      | 535.0 |  91.5 |   NA |\n| For Your Eyes Only              | 1981 | Roger Moore    | John Glen          | 449.4 |  60.2 |   NA |\n| Octopussy                       | 1983 | Roger Moore    | John Glen          | 373.8 |  53.9 |  7.8 |\n| Never Say Never Again           | 1983 | Sean Connery   | Irvin Kershner     | 380.0 |  86.0 |   NA |\n| A View to a Kill                | 1985 | Roger Moore    | John Glen          | 275.2 |  54.5 |  9.1 |\n| The Living Daylights            | 1987 | Timothy Dalton | John Glen          | 313.5 |  68.8 |  5.2 |\n| Licence to Kill                 | 1989 | Timothy Dalton | John Glen          | 250.9 |  56.7 |  7.9 |\n| GoldenEye                       | 1995 | Pierce Brosnan | Martin Campbell    | 518.5 |  76.9 |  5.1 |\n| Tomorrow Never Dies             | 1997 | Pierce Brosnan | Roger Spottiswoode | 463.2 | 133.9 | 10.0 |\n| The World Is Not Enough         | 1999 | Pierce Brosnan | Michael Apted      | 439.5 | 158.3 | 13.5 |\n| Die Another Day                 | 2002 | Pierce Brosnan | Lee Tamahori       | 465.4 | 154.2 | 17.9 |\n| Casino Royale                   | 2006 | Daniel Craig   | Martin Campbell    | 581.5 | 145.3 |  3.3 |\n| Quantum of Solace               | 2008 | Daniel Craig   | Marc Forster       | 514.2 | 181.4 |  8.1 |\n| Skyfall                         | 2012 | Daniel Craig   | Sam Mendes         | 943.5 | 170.2 | 14.5 |\n| Spectre                         | 2015 | Daniel Craig   | Sam Mendes         | 726.7 | 206.3 |   NA |\n\n",
            "text/html": [
              "<table>\n",
              "<caption>A data.table: 26 × 7</caption>\n",
              "<thead>\n",
              "\t<tr><th scope=col>Film</th><th scope=col>Year</th><th scope=col>Actor</th><th scope=col>Director</th><th scope=col>Box Office</th><th scope=col>Budget</th><th scope=col>Bond Actor Salary</th></tr>\n",
              "\t<tr><th scope=col>&lt;chr&gt;</th><th scope=col>&lt;int&gt;</th><th scope=col>&lt;chr&gt;</th><th scope=col>&lt;chr&gt;</th><th scope=col>&lt;dbl&gt;</th><th scope=col>&lt;dbl&gt;</th><th scope=col>&lt;dbl&gt;</th></tr>\n",
              "</thead>\n",
              "<tbody>\n",
              "\t<tr><td>Dr. No                         </td><td>1962</td><td>Sean Connery  </td><td>Terence Young     </td><td>448.8</td><td>  7.0</td><td> 0.6</td></tr>\n",
              "\t<tr><td>From Russia with Love          </td><td>1963</td><td>Sean Connery  </td><td>Terence Young     </td><td>543.8</td><td> 12.6</td><td> 1.6</td></tr>\n",
              "\t<tr><td>Goldfinger                     </td><td>1964</td><td>Sean Connery  </td><td>Guy Hamilton      </td><td>820.4</td><td> 18.6</td><td> 3.2</td></tr>\n",
              "\t<tr><td>Thunderball                    </td><td>1965</td><td>Sean Connery  </td><td>Terence Young     </td><td>848.1</td><td> 41.9</td><td> 4.7</td></tr>\n",
              "\t<tr><td>You Only Live Twice            </td><td>1967</td><td>Sean Connery  </td><td>Lewis Gilbert     </td><td>514.2</td><td> 59.9</td><td> 4.4</td></tr>\n",
              "\t<tr><td>Casino Royale                  </td><td>1967</td><td>David Niven   </td><td>Ken Hughes        </td><td>315.0</td><td> 85.0</td><td>  NA</td></tr>\n",
              "\t<tr><td>On Her Majesty's Secret Service</td><td>1969</td><td>George Lazenby</td><td>Peter R. Hunt     </td><td>291.5</td><td> 37.3</td><td> 0.6</td></tr>\n",
              "\t<tr><td>Diamonds Are Forever           </td><td>1971</td><td>Sean Connery  </td><td>Guy Hamilton      </td><td>442.5</td><td> 34.7</td><td> 5.8</td></tr>\n",
              "\t<tr><td>Live and Let Die               </td><td>1973</td><td>Roger Moore   </td><td>Guy Hamilton      </td><td>460.3</td><td> 30.8</td><td>  NA</td></tr>\n",
              "\t<tr><td>The Man with the Golden Gun    </td><td>1974</td><td>Roger Moore   </td><td>Guy Hamilton      </td><td>334.0</td><td> 27.7</td><td>  NA</td></tr>\n",
              "\t<tr><td>The Spy Who Loved Me           </td><td>1977</td><td>Roger Moore   </td><td>Lewis Gilbert     </td><td>533.0</td><td> 45.1</td><td>  NA</td></tr>\n",
              "\t<tr><td>Moonraker                      </td><td>1979</td><td>Roger Moore   </td><td>Lewis Gilbert     </td><td>535.0</td><td> 91.5</td><td>  NA</td></tr>\n",
              "\t<tr><td>For Your Eyes Only             </td><td>1981</td><td>Roger Moore   </td><td>John Glen         </td><td>449.4</td><td> 60.2</td><td>  NA</td></tr>\n",
              "\t<tr><td>Octopussy                      </td><td>1983</td><td>Roger Moore   </td><td>John Glen         </td><td>373.8</td><td> 53.9</td><td> 7.8</td></tr>\n",
              "\t<tr><td>Never Say Never Again          </td><td>1983</td><td>Sean Connery  </td><td>Irvin Kershner    </td><td>380.0</td><td> 86.0</td><td>  NA</td></tr>\n",
              "\t<tr><td>A View to a Kill               </td><td>1985</td><td>Roger Moore   </td><td>John Glen         </td><td>275.2</td><td> 54.5</td><td> 9.1</td></tr>\n",
              "\t<tr><td>The Living Daylights           </td><td>1987</td><td>Timothy Dalton</td><td>John Glen         </td><td>313.5</td><td> 68.8</td><td> 5.2</td></tr>\n",
              "\t<tr><td>Licence to Kill                </td><td>1989</td><td>Timothy Dalton</td><td>John Glen         </td><td>250.9</td><td> 56.7</td><td> 7.9</td></tr>\n",
              "\t<tr><td>GoldenEye                      </td><td>1995</td><td>Pierce Brosnan</td><td>Martin Campbell   </td><td>518.5</td><td> 76.9</td><td> 5.1</td></tr>\n",
              "\t<tr><td>Tomorrow Never Dies            </td><td>1997</td><td>Pierce Brosnan</td><td>Roger Spottiswoode</td><td>463.2</td><td>133.9</td><td>10.0</td></tr>\n",
              "\t<tr><td>The World Is Not Enough        </td><td>1999</td><td>Pierce Brosnan</td><td>Michael Apted     </td><td>439.5</td><td>158.3</td><td>13.5</td></tr>\n",
              "\t<tr><td>Die Another Day                </td><td>2002</td><td>Pierce Brosnan</td><td>Lee Tamahori      </td><td>465.4</td><td>154.2</td><td>17.9</td></tr>\n",
              "\t<tr><td>Casino Royale                  </td><td>2006</td><td>Daniel Craig  </td><td>Martin Campbell   </td><td>581.5</td><td>145.3</td><td> 3.3</td></tr>\n",
              "\t<tr><td>Quantum of Solace              </td><td>2008</td><td>Daniel Craig  </td><td>Marc Forster      </td><td>514.2</td><td>181.4</td><td> 8.1</td></tr>\n",
              "\t<tr><td>Skyfall                        </td><td>2012</td><td>Daniel Craig  </td><td>Sam Mendes        </td><td>943.5</td><td>170.2</td><td>14.5</td></tr>\n",
              "\t<tr><td>Spectre                        </td><td>2015</td><td>Daniel Craig  </td><td>Sam Mendes        </td><td>726.7</td><td>206.3</td><td>  NA</td></tr>\n",
              "</tbody>\n",
              "</table>\n"
            ]
          },
          "metadata": {
            "tags": []
          }
        }
      ]
    },
    {
      "cell_type": "code",
      "metadata": {
        "colab": {
          "base_uri": "https://localhost:8080/",
          "height": 624
        },
        "id": "NKE39G1byGFK",
        "outputId": "3e416e54-add7-418e-ec92-0e7aa1903f94"
      },
      "source": [
        "# Para cambiar el criterio de orden a descendente, debemos utilizar la función desc() en el parámetro de la función arrange()\n",
        "df_james_bond %>% arrange(desc(`Bond Actor Salary`))"
      ],
      "execution_count": null,
      "outputs": [
        {
          "output_type": "display_data",
          "data": {
            "text/plain": [
              "   Film                            Year Actor          Director          \n",
              "1  Die Another Day                 2002 Pierce Brosnan Lee Tamahori      \n",
              "2  Skyfall                         2012 Daniel Craig   Sam Mendes        \n",
              "3  The World Is Not Enough         1999 Pierce Brosnan Michael Apted     \n",
              "4  Tomorrow Never Dies             1997 Pierce Brosnan Roger Spottiswoode\n",
              "5  A View to a Kill                1985 Roger Moore    John Glen         \n",
              "6  Quantum of Solace               2008 Daniel Craig   Marc Forster      \n",
              "7  Licence to Kill                 1989 Timothy Dalton John Glen         \n",
              "8  Octopussy                       1983 Roger Moore    John Glen         \n",
              "9  Diamonds Are Forever            1971 Sean Connery   Guy Hamilton      \n",
              "10 The Living Daylights            1987 Timothy Dalton John Glen         \n",
              "11 GoldenEye                       1995 Pierce Brosnan Martin Campbell   \n",
              "12 Thunderball                     1965 Sean Connery   Terence Young     \n",
              "13 You Only Live Twice             1967 Sean Connery   Lewis Gilbert     \n",
              "14 Casino Royale                   2006 Daniel Craig   Martin Campbell   \n",
              "15 Goldfinger                      1964 Sean Connery   Guy Hamilton      \n",
              "16 From Russia with Love           1963 Sean Connery   Terence Young     \n",
              "17 Dr. No                          1962 Sean Connery   Terence Young     \n",
              "18 On Her Majesty's Secret Service 1969 George Lazenby Peter R. Hunt     \n",
              "19 Casino Royale                   1967 David Niven    Ken Hughes        \n",
              "20 Live and Let Die                1973 Roger Moore    Guy Hamilton      \n",
              "21 The Man with the Golden Gun     1974 Roger Moore    Guy Hamilton      \n",
              "22 The Spy Who Loved Me            1977 Roger Moore    Lewis Gilbert     \n",
              "23 Moonraker                       1979 Roger Moore    Lewis Gilbert     \n",
              "24 For Your Eyes Only              1981 Roger Moore    John Glen         \n",
              "25 Never Say Never Again           1983 Sean Connery   Irvin Kershner    \n",
              "26 Spectre                         2015 Daniel Craig   Sam Mendes        \n",
              "   Box Office Budget Bond Actor Salary\n",
              "1  465.4      154.2  17.9             \n",
              "2  943.5      170.2  14.5             \n",
              "3  439.5      158.3  13.5             \n",
              "4  463.2      133.9  10.0             \n",
              "5  275.2       54.5   9.1             \n",
              "6  514.2      181.4   8.1             \n",
              "7  250.9       56.7   7.9             \n",
              "8  373.8       53.9   7.8             \n",
              "9  442.5       34.7   5.8             \n",
              "10 313.5       68.8   5.2             \n",
              "11 518.5       76.9   5.1             \n",
              "12 848.1       41.9   4.7             \n",
              "13 514.2       59.9   4.4             \n",
              "14 581.5      145.3   3.3             \n",
              "15 820.4       18.6   3.2             \n",
              "16 543.8       12.6   1.6             \n",
              "17 448.8        7.0   0.6             \n",
              "18 291.5       37.3   0.6             \n",
              "19 315.0       85.0    NA             \n",
              "20 460.3       30.8    NA             \n",
              "21 334.0       27.7    NA             \n",
              "22 533.0       45.1    NA             \n",
              "23 535.0       91.5    NA             \n",
              "24 449.4       60.2    NA             \n",
              "25 380.0       86.0    NA             \n",
              "26 726.7      206.3    NA             "
            ],
            "text/latex": "A data.table: 26 × 7\n\\begin{tabular}{lllllll}\n Film & Year & Actor & Director & Box Office & Budget & Bond Actor Salary\\\\\n <chr> & <int> & <chr> & <chr> & <dbl> & <dbl> & <dbl>\\\\\n\\hline\n\t Die Another Day                 & 2002 & Pierce Brosnan & Lee Tamahori       & 465.4 & 154.2 & 17.9\\\\\n\t Skyfall                         & 2012 & Daniel Craig   & Sam Mendes         & 943.5 & 170.2 & 14.5\\\\\n\t The World Is Not Enough         & 1999 & Pierce Brosnan & Michael Apted      & 439.5 & 158.3 & 13.5\\\\\n\t Tomorrow Never Dies             & 1997 & Pierce Brosnan & Roger Spottiswoode & 463.2 & 133.9 & 10.0\\\\\n\t A View to a Kill                & 1985 & Roger Moore    & John Glen          & 275.2 &  54.5 &  9.1\\\\\n\t Quantum of Solace               & 2008 & Daniel Craig   & Marc Forster       & 514.2 & 181.4 &  8.1\\\\\n\t Licence to Kill                 & 1989 & Timothy Dalton & John Glen          & 250.9 &  56.7 &  7.9\\\\\n\t Octopussy                       & 1983 & Roger Moore    & John Glen          & 373.8 &  53.9 &  7.8\\\\\n\t Diamonds Are Forever            & 1971 & Sean Connery   & Guy Hamilton       & 442.5 &  34.7 &  5.8\\\\\n\t The Living Daylights            & 1987 & Timothy Dalton & John Glen          & 313.5 &  68.8 &  5.2\\\\\n\t GoldenEye                       & 1995 & Pierce Brosnan & Martin Campbell    & 518.5 &  76.9 &  5.1\\\\\n\t Thunderball                     & 1965 & Sean Connery   & Terence Young      & 848.1 &  41.9 &  4.7\\\\\n\t You Only Live Twice             & 1967 & Sean Connery   & Lewis Gilbert      & 514.2 &  59.9 &  4.4\\\\\n\t Casino Royale                   & 2006 & Daniel Craig   & Martin Campbell    & 581.5 & 145.3 &  3.3\\\\\n\t Goldfinger                      & 1964 & Sean Connery   & Guy Hamilton       & 820.4 &  18.6 &  3.2\\\\\n\t From Russia with Love           & 1963 & Sean Connery   & Terence Young      & 543.8 &  12.6 &  1.6\\\\\n\t Dr. No                          & 1962 & Sean Connery   & Terence Young      & 448.8 &   7.0 &  0.6\\\\\n\t On Her Majesty's Secret Service & 1969 & George Lazenby & Peter R. Hunt      & 291.5 &  37.3 &  0.6\\\\\n\t Casino Royale                   & 1967 & David Niven    & Ken Hughes         & 315.0 &  85.0 &   NA\\\\\n\t Live and Let Die                & 1973 & Roger Moore    & Guy Hamilton       & 460.3 &  30.8 &   NA\\\\\n\t The Man with the Golden Gun     & 1974 & Roger Moore    & Guy Hamilton       & 334.0 &  27.7 &   NA\\\\\n\t The Spy Who Loved Me            & 1977 & Roger Moore    & Lewis Gilbert      & 533.0 &  45.1 &   NA\\\\\n\t Moonraker                       & 1979 & Roger Moore    & Lewis Gilbert      & 535.0 &  91.5 &   NA\\\\\n\t For Your Eyes Only              & 1981 & Roger Moore    & John Glen          & 449.4 &  60.2 &   NA\\\\\n\t Never Say Never Again           & 1983 & Sean Connery   & Irvin Kershner     & 380.0 &  86.0 &   NA\\\\\n\t Spectre                         & 2015 & Daniel Craig   & Sam Mendes         & 726.7 & 206.3 &   NA\\\\\n\\end{tabular}\n",
            "text/markdown": "\nA data.table: 26 × 7\n\n| Film &lt;chr&gt; | Year &lt;int&gt; | Actor &lt;chr&gt; | Director &lt;chr&gt; | Box Office &lt;dbl&gt; | Budget &lt;dbl&gt; | Bond Actor Salary &lt;dbl&gt; |\n|---|---|---|---|---|---|---|\n| Die Another Day                 | 2002 | Pierce Brosnan | Lee Tamahori       | 465.4 | 154.2 | 17.9 |\n| Skyfall                         | 2012 | Daniel Craig   | Sam Mendes         | 943.5 | 170.2 | 14.5 |\n| The World Is Not Enough         | 1999 | Pierce Brosnan | Michael Apted      | 439.5 | 158.3 | 13.5 |\n| Tomorrow Never Dies             | 1997 | Pierce Brosnan | Roger Spottiswoode | 463.2 | 133.9 | 10.0 |\n| A View to a Kill                | 1985 | Roger Moore    | John Glen          | 275.2 |  54.5 |  9.1 |\n| Quantum of Solace               | 2008 | Daniel Craig   | Marc Forster       | 514.2 | 181.4 |  8.1 |\n| Licence to Kill                 | 1989 | Timothy Dalton | John Glen          | 250.9 |  56.7 |  7.9 |\n| Octopussy                       | 1983 | Roger Moore    | John Glen          | 373.8 |  53.9 |  7.8 |\n| Diamonds Are Forever            | 1971 | Sean Connery   | Guy Hamilton       | 442.5 |  34.7 |  5.8 |\n| The Living Daylights            | 1987 | Timothy Dalton | John Glen          | 313.5 |  68.8 |  5.2 |\n| GoldenEye                       | 1995 | Pierce Brosnan | Martin Campbell    | 518.5 |  76.9 |  5.1 |\n| Thunderball                     | 1965 | Sean Connery   | Terence Young      | 848.1 |  41.9 |  4.7 |\n| You Only Live Twice             | 1967 | Sean Connery   | Lewis Gilbert      | 514.2 |  59.9 |  4.4 |\n| Casino Royale                   | 2006 | Daniel Craig   | Martin Campbell    | 581.5 | 145.3 |  3.3 |\n| Goldfinger                      | 1964 | Sean Connery   | Guy Hamilton       | 820.4 |  18.6 |  3.2 |\n| From Russia with Love           | 1963 | Sean Connery   | Terence Young      | 543.8 |  12.6 |  1.6 |\n| Dr. No                          | 1962 | Sean Connery   | Terence Young      | 448.8 |   7.0 |  0.6 |\n| On Her Majesty's Secret Service | 1969 | George Lazenby | Peter R. Hunt      | 291.5 |  37.3 |  0.6 |\n| Casino Royale                   | 1967 | David Niven    | Ken Hughes         | 315.0 |  85.0 |   NA |\n| Live and Let Die                | 1973 | Roger Moore    | Guy Hamilton       | 460.3 |  30.8 |   NA |\n| The Man with the Golden Gun     | 1974 | Roger Moore    | Guy Hamilton       | 334.0 |  27.7 |   NA |\n| The Spy Who Loved Me            | 1977 | Roger Moore    | Lewis Gilbert      | 533.0 |  45.1 |   NA |\n| Moonraker                       | 1979 | Roger Moore    | Lewis Gilbert      | 535.0 |  91.5 |   NA |\n| For Your Eyes Only              | 1981 | Roger Moore    | John Glen          | 449.4 |  60.2 |   NA |\n| Never Say Never Again           | 1983 | Sean Connery   | Irvin Kershner     | 380.0 |  86.0 |   NA |\n| Spectre                         | 2015 | Daniel Craig   | Sam Mendes         | 726.7 | 206.3 |   NA |\n\n",
            "text/html": [
              "<table>\n",
              "<caption>A data.table: 26 × 7</caption>\n",
              "<thead>\n",
              "\t<tr><th scope=col>Film</th><th scope=col>Year</th><th scope=col>Actor</th><th scope=col>Director</th><th scope=col>Box Office</th><th scope=col>Budget</th><th scope=col>Bond Actor Salary</th></tr>\n",
              "\t<tr><th scope=col>&lt;chr&gt;</th><th scope=col>&lt;int&gt;</th><th scope=col>&lt;chr&gt;</th><th scope=col>&lt;chr&gt;</th><th scope=col>&lt;dbl&gt;</th><th scope=col>&lt;dbl&gt;</th><th scope=col>&lt;dbl&gt;</th></tr>\n",
              "</thead>\n",
              "<tbody>\n",
              "\t<tr><td>Die Another Day                </td><td>2002</td><td>Pierce Brosnan</td><td>Lee Tamahori      </td><td>465.4</td><td>154.2</td><td>17.9</td></tr>\n",
              "\t<tr><td>Skyfall                        </td><td>2012</td><td>Daniel Craig  </td><td>Sam Mendes        </td><td>943.5</td><td>170.2</td><td>14.5</td></tr>\n",
              "\t<tr><td>The World Is Not Enough        </td><td>1999</td><td>Pierce Brosnan</td><td>Michael Apted     </td><td>439.5</td><td>158.3</td><td>13.5</td></tr>\n",
              "\t<tr><td>Tomorrow Never Dies            </td><td>1997</td><td>Pierce Brosnan</td><td>Roger Spottiswoode</td><td>463.2</td><td>133.9</td><td>10.0</td></tr>\n",
              "\t<tr><td>A View to a Kill               </td><td>1985</td><td>Roger Moore   </td><td>John Glen         </td><td>275.2</td><td> 54.5</td><td> 9.1</td></tr>\n",
              "\t<tr><td>Quantum of Solace              </td><td>2008</td><td>Daniel Craig  </td><td>Marc Forster      </td><td>514.2</td><td>181.4</td><td> 8.1</td></tr>\n",
              "\t<tr><td>Licence to Kill                </td><td>1989</td><td>Timothy Dalton</td><td>John Glen         </td><td>250.9</td><td> 56.7</td><td> 7.9</td></tr>\n",
              "\t<tr><td>Octopussy                      </td><td>1983</td><td>Roger Moore   </td><td>John Glen         </td><td>373.8</td><td> 53.9</td><td> 7.8</td></tr>\n",
              "\t<tr><td>Diamonds Are Forever           </td><td>1971</td><td>Sean Connery  </td><td>Guy Hamilton      </td><td>442.5</td><td> 34.7</td><td> 5.8</td></tr>\n",
              "\t<tr><td>The Living Daylights           </td><td>1987</td><td>Timothy Dalton</td><td>John Glen         </td><td>313.5</td><td> 68.8</td><td> 5.2</td></tr>\n",
              "\t<tr><td>GoldenEye                      </td><td>1995</td><td>Pierce Brosnan</td><td>Martin Campbell   </td><td>518.5</td><td> 76.9</td><td> 5.1</td></tr>\n",
              "\t<tr><td>Thunderball                    </td><td>1965</td><td>Sean Connery  </td><td>Terence Young     </td><td>848.1</td><td> 41.9</td><td> 4.7</td></tr>\n",
              "\t<tr><td>You Only Live Twice            </td><td>1967</td><td>Sean Connery  </td><td>Lewis Gilbert     </td><td>514.2</td><td> 59.9</td><td> 4.4</td></tr>\n",
              "\t<tr><td>Casino Royale                  </td><td>2006</td><td>Daniel Craig  </td><td>Martin Campbell   </td><td>581.5</td><td>145.3</td><td> 3.3</td></tr>\n",
              "\t<tr><td>Goldfinger                     </td><td>1964</td><td>Sean Connery  </td><td>Guy Hamilton      </td><td>820.4</td><td> 18.6</td><td> 3.2</td></tr>\n",
              "\t<tr><td>From Russia with Love          </td><td>1963</td><td>Sean Connery  </td><td>Terence Young     </td><td>543.8</td><td> 12.6</td><td> 1.6</td></tr>\n",
              "\t<tr><td>Dr. No                         </td><td>1962</td><td>Sean Connery  </td><td>Terence Young     </td><td>448.8</td><td>  7.0</td><td> 0.6</td></tr>\n",
              "\t<tr><td>On Her Majesty's Secret Service</td><td>1969</td><td>George Lazenby</td><td>Peter R. Hunt     </td><td>291.5</td><td> 37.3</td><td> 0.6</td></tr>\n",
              "\t<tr><td>Casino Royale                  </td><td>1967</td><td>David Niven   </td><td>Ken Hughes        </td><td>315.0</td><td> 85.0</td><td>  NA</td></tr>\n",
              "\t<tr><td>Live and Let Die               </td><td>1973</td><td>Roger Moore   </td><td>Guy Hamilton      </td><td>460.3</td><td> 30.8</td><td>  NA</td></tr>\n",
              "\t<tr><td>The Man with the Golden Gun    </td><td>1974</td><td>Roger Moore   </td><td>Guy Hamilton      </td><td>334.0</td><td> 27.7</td><td>  NA</td></tr>\n",
              "\t<tr><td>The Spy Who Loved Me           </td><td>1977</td><td>Roger Moore   </td><td>Lewis Gilbert     </td><td>533.0</td><td> 45.1</td><td>  NA</td></tr>\n",
              "\t<tr><td>Moonraker                      </td><td>1979</td><td>Roger Moore   </td><td>Lewis Gilbert     </td><td>535.0</td><td> 91.5</td><td>  NA</td></tr>\n",
              "\t<tr><td>For Your Eyes Only             </td><td>1981</td><td>Roger Moore   </td><td>John Glen         </td><td>449.4</td><td> 60.2</td><td>  NA</td></tr>\n",
              "\t<tr><td>Never Say Never Again          </td><td>1983</td><td>Sean Connery  </td><td>Irvin Kershner    </td><td>380.0</td><td> 86.0</td><td>  NA</td></tr>\n",
              "\t<tr><td>Spectre                        </td><td>2015</td><td>Daniel Craig  </td><td>Sam Mendes        </td><td>726.7</td><td>206.3</td><td>  NA</td></tr>\n",
              "</tbody>\n",
              "</table>\n"
            ]
          },
          "metadata": {
            "tags": []
          }
        }
      ]
    },
    {
      "cell_type": "markdown",
      "metadata": {
        "id": "AomsqrymyHlh"
      },
      "source": [
        "### CREAR NUEVAS COLUMNAS\n",
        "---\n",
        "La función *mutate()* permite crear columnas nuevas en un *data frame* de forma sencilla\n",
        "\n",
        "```\n",
        "dplyr::mutate(object, new columns...)\n",
        "```\n",
        "\n"
      ]
    },
    {
      "cell_type": "code",
      "metadata": {
        "id": "0XanZLdP9gdk",
        "colab": {
          "base_uri": "https://localhost:8080/",
          "height": 624
        },
        "outputId": "50c78a3e-6a90-4de6-a91e-a21b6b6e7854"
      },
      "source": [
        "# Creamos una nueva columna como cosciente entre dos variables existentes\n",
        "df_james_bond %>% mutate(\n",
        "  profit = `Box Office`/Budget    # nombramos nuestra nueva columna \"profit\"\n",
        ") %>% arrange(desc(profit))       # ordenamos el resultado, según la nueva columna definida\n"
      ],
      "execution_count": null,
      "outputs": [
        {
          "output_type": "display_data",
          "data": {
            "text/plain": [
              "   Film                            Year Actor          Director          \n",
              "1  Dr. No                          1962 Sean Connery   Terence Young     \n",
              "2  Goldfinger                      1964 Sean Connery   Guy Hamilton      \n",
              "3  From Russia with Love           1963 Sean Connery   Terence Young     \n",
              "4  Thunderball                     1965 Sean Connery   Terence Young     \n",
              "5  Live and Let Die                1973 Roger Moore    Guy Hamilton      \n",
              "6  Diamonds Are Forever            1971 Sean Connery   Guy Hamilton      \n",
              "7  The Man with the Golden Gun     1974 Roger Moore    Guy Hamilton      \n",
              "8  The Spy Who Loved Me            1977 Roger Moore    Lewis Gilbert     \n",
              "9  You Only Live Twice             1967 Sean Connery   Lewis Gilbert     \n",
              "10 On Her Majesty's Secret Service 1969 George Lazenby Peter R. Hunt     \n",
              "11 For Your Eyes Only              1981 Roger Moore    John Glen         \n",
              "12 Octopussy                       1983 Roger Moore    John Glen         \n",
              "13 GoldenEye                       1995 Pierce Brosnan Martin Campbell   \n",
              "14 Moonraker                       1979 Roger Moore    Lewis Gilbert     \n",
              "15 Skyfall                         2012 Daniel Craig   Sam Mendes        \n",
              "16 A View to a Kill                1985 Roger Moore    John Glen         \n",
              "17 The Living Daylights            1987 Timothy Dalton John Glen         \n",
              "18 Licence to Kill                 1989 Timothy Dalton John Glen         \n",
              "19 Never Say Never Again           1983 Sean Connery   Irvin Kershner    \n",
              "20 Casino Royale                   2006 Daniel Craig   Martin Campbell   \n",
              "21 Casino Royale                   1967 David Niven    Ken Hughes        \n",
              "22 Spectre                         2015 Daniel Craig   Sam Mendes        \n",
              "23 Tomorrow Never Dies             1997 Pierce Brosnan Roger Spottiswoode\n",
              "24 Die Another Day                 2002 Pierce Brosnan Lee Tamahori      \n",
              "25 Quantum of Solace               2008 Daniel Craig   Marc Forster      \n",
              "26 The World Is Not Enough         1999 Pierce Brosnan Michael Apted     \n",
              "   Box Office Budget Bond Actor Salary profit   \n",
              "1  448.8        7.0   0.6              64.114286\n",
              "2  820.4       18.6   3.2              44.107527\n",
              "3  543.8       12.6   1.6              43.158730\n",
              "4  848.1       41.9   4.7              20.241050\n",
              "5  460.3       30.8    NA              14.944805\n",
              "6  442.5       34.7   5.8              12.752161\n",
              "7  334.0       27.7    NA              12.057762\n",
              "8  533.0       45.1    NA              11.818182\n",
              "9  514.2       59.9   4.4               8.584307\n",
              "10 291.5       37.3   0.6               7.815013\n",
              "11 449.4       60.2    NA               7.465116\n",
              "12 373.8       53.9   7.8               6.935065\n",
              "13 518.5       76.9   5.1               6.742523\n",
              "14 535.0       91.5    NA               5.846995\n",
              "15 943.5      170.2  14.5               5.543478\n",
              "16 275.2       54.5   9.1               5.049541\n",
              "17 313.5       68.8   5.2               4.556686\n",
              "18 250.9       56.7   7.9               4.425044\n",
              "19 380.0       86.0    NA               4.418605\n",
              "20 581.5      145.3   3.3               4.002065\n",
              "21 315.0       85.0    NA               3.705882\n",
              "22 726.7      206.3    NA               3.522540\n",
              "23 463.2      133.9  10.0               3.459298\n",
              "24 465.4      154.2  17.9               3.018158\n",
              "25 514.2      181.4   8.1               2.834620\n",
              "26 439.5      158.3  13.5               2.776374"
            ],
            "text/latex": "A data.table: 26 × 8\n\\begin{tabular}{llllllll}\n Film & Year & Actor & Director & Box Office & Budget & Bond Actor Salary & profit\\\\\n <chr> & <int> & <chr> & <chr> & <dbl> & <dbl> & <dbl> & <dbl>\\\\\n\\hline\n\t Dr. No                          & 1962 & Sean Connery   & Terence Young      & 448.8 &   7.0 &  0.6 & 64.114286\\\\\n\t Goldfinger                      & 1964 & Sean Connery   & Guy Hamilton       & 820.4 &  18.6 &  3.2 & 44.107527\\\\\n\t From Russia with Love           & 1963 & Sean Connery   & Terence Young      & 543.8 &  12.6 &  1.6 & 43.158730\\\\\n\t Thunderball                     & 1965 & Sean Connery   & Terence Young      & 848.1 &  41.9 &  4.7 & 20.241050\\\\\n\t Live and Let Die                & 1973 & Roger Moore    & Guy Hamilton       & 460.3 &  30.8 &   NA & 14.944805\\\\\n\t Diamonds Are Forever            & 1971 & Sean Connery   & Guy Hamilton       & 442.5 &  34.7 &  5.8 & 12.752161\\\\\n\t The Man with the Golden Gun     & 1974 & Roger Moore    & Guy Hamilton       & 334.0 &  27.7 &   NA & 12.057762\\\\\n\t The Spy Who Loved Me            & 1977 & Roger Moore    & Lewis Gilbert      & 533.0 &  45.1 &   NA & 11.818182\\\\\n\t You Only Live Twice             & 1967 & Sean Connery   & Lewis Gilbert      & 514.2 &  59.9 &  4.4 &  8.584307\\\\\n\t On Her Majesty's Secret Service & 1969 & George Lazenby & Peter R. Hunt      & 291.5 &  37.3 &  0.6 &  7.815013\\\\\n\t For Your Eyes Only              & 1981 & Roger Moore    & John Glen          & 449.4 &  60.2 &   NA &  7.465116\\\\\n\t Octopussy                       & 1983 & Roger Moore    & John Glen          & 373.8 &  53.9 &  7.8 &  6.935065\\\\\n\t GoldenEye                       & 1995 & Pierce Brosnan & Martin Campbell    & 518.5 &  76.9 &  5.1 &  6.742523\\\\\n\t Moonraker                       & 1979 & Roger Moore    & Lewis Gilbert      & 535.0 &  91.5 &   NA &  5.846995\\\\\n\t Skyfall                         & 2012 & Daniel Craig   & Sam Mendes         & 943.5 & 170.2 & 14.5 &  5.543478\\\\\n\t A View to a Kill                & 1985 & Roger Moore    & John Glen          & 275.2 &  54.5 &  9.1 &  5.049541\\\\\n\t The Living Daylights            & 1987 & Timothy Dalton & John Glen          & 313.5 &  68.8 &  5.2 &  4.556686\\\\\n\t Licence to Kill                 & 1989 & Timothy Dalton & John Glen          & 250.9 &  56.7 &  7.9 &  4.425044\\\\\n\t Never Say Never Again           & 1983 & Sean Connery   & Irvin Kershner     & 380.0 &  86.0 &   NA &  4.418605\\\\\n\t Casino Royale                   & 2006 & Daniel Craig   & Martin Campbell    & 581.5 & 145.3 &  3.3 &  4.002065\\\\\n\t Casino Royale                   & 1967 & David Niven    & Ken Hughes         & 315.0 &  85.0 &   NA &  3.705882\\\\\n\t Spectre                         & 2015 & Daniel Craig   & Sam Mendes         & 726.7 & 206.3 &   NA &  3.522540\\\\\n\t Tomorrow Never Dies             & 1997 & Pierce Brosnan & Roger Spottiswoode & 463.2 & 133.9 & 10.0 &  3.459298\\\\\n\t Die Another Day                 & 2002 & Pierce Brosnan & Lee Tamahori       & 465.4 & 154.2 & 17.9 &  3.018158\\\\\n\t Quantum of Solace               & 2008 & Daniel Craig   & Marc Forster       & 514.2 & 181.4 &  8.1 &  2.834620\\\\\n\t The World Is Not Enough         & 1999 & Pierce Brosnan & Michael Apted      & 439.5 & 158.3 & 13.5 &  2.776374\\\\\n\\end{tabular}\n",
            "text/markdown": "\nA data.table: 26 × 8\n\n| Film &lt;chr&gt; | Year &lt;int&gt; | Actor &lt;chr&gt; | Director &lt;chr&gt; | Box Office &lt;dbl&gt; | Budget &lt;dbl&gt; | Bond Actor Salary &lt;dbl&gt; | profit &lt;dbl&gt; |\n|---|---|---|---|---|---|---|---|\n| Dr. No                          | 1962 | Sean Connery   | Terence Young      | 448.8 |   7.0 |  0.6 | 64.114286 |\n| Goldfinger                      | 1964 | Sean Connery   | Guy Hamilton       | 820.4 |  18.6 |  3.2 | 44.107527 |\n| From Russia with Love           | 1963 | Sean Connery   | Terence Young      | 543.8 |  12.6 |  1.6 | 43.158730 |\n| Thunderball                     | 1965 | Sean Connery   | Terence Young      | 848.1 |  41.9 |  4.7 | 20.241050 |\n| Live and Let Die                | 1973 | Roger Moore    | Guy Hamilton       | 460.3 |  30.8 |   NA | 14.944805 |\n| Diamonds Are Forever            | 1971 | Sean Connery   | Guy Hamilton       | 442.5 |  34.7 |  5.8 | 12.752161 |\n| The Man with the Golden Gun     | 1974 | Roger Moore    | Guy Hamilton       | 334.0 |  27.7 |   NA | 12.057762 |\n| The Spy Who Loved Me            | 1977 | Roger Moore    | Lewis Gilbert      | 533.0 |  45.1 |   NA | 11.818182 |\n| You Only Live Twice             | 1967 | Sean Connery   | Lewis Gilbert      | 514.2 |  59.9 |  4.4 |  8.584307 |\n| On Her Majesty's Secret Service | 1969 | George Lazenby | Peter R. Hunt      | 291.5 |  37.3 |  0.6 |  7.815013 |\n| For Your Eyes Only              | 1981 | Roger Moore    | John Glen          | 449.4 |  60.2 |   NA |  7.465116 |\n| Octopussy                       | 1983 | Roger Moore    | John Glen          | 373.8 |  53.9 |  7.8 |  6.935065 |\n| GoldenEye                       | 1995 | Pierce Brosnan | Martin Campbell    | 518.5 |  76.9 |  5.1 |  6.742523 |\n| Moonraker                       | 1979 | Roger Moore    | Lewis Gilbert      | 535.0 |  91.5 |   NA |  5.846995 |\n| Skyfall                         | 2012 | Daniel Craig   | Sam Mendes         | 943.5 | 170.2 | 14.5 |  5.543478 |\n| A View to a Kill                | 1985 | Roger Moore    | John Glen          | 275.2 |  54.5 |  9.1 |  5.049541 |\n| The Living Daylights            | 1987 | Timothy Dalton | John Glen          | 313.5 |  68.8 |  5.2 |  4.556686 |\n| Licence to Kill                 | 1989 | Timothy Dalton | John Glen          | 250.9 |  56.7 |  7.9 |  4.425044 |\n| Never Say Never Again           | 1983 | Sean Connery   | Irvin Kershner     | 380.0 |  86.0 |   NA |  4.418605 |\n| Casino Royale                   | 2006 | Daniel Craig   | Martin Campbell    | 581.5 | 145.3 |  3.3 |  4.002065 |\n| Casino Royale                   | 1967 | David Niven    | Ken Hughes         | 315.0 |  85.0 |   NA |  3.705882 |\n| Spectre                         | 2015 | Daniel Craig   | Sam Mendes         | 726.7 | 206.3 |   NA |  3.522540 |\n| Tomorrow Never Dies             | 1997 | Pierce Brosnan | Roger Spottiswoode | 463.2 | 133.9 | 10.0 |  3.459298 |\n| Die Another Day                 | 2002 | Pierce Brosnan | Lee Tamahori       | 465.4 | 154.2 | 17.9 |  3.018158 |\n| Quantum of Solace               | 2008 | Daniel Craig   | Marc Forster       | 514.2 | 181.4 |  8.1 |  2.834620 |\n| The World Is Not Enough         | 1999 | Pierce Brosnan | Michael Apted      | 439.5 | 158.3 | 13.5 |  2.776374 |\n\n",
            "text/html": [
              "<table>\n",
              "<caption>A data.table: 26 × 8</caption>\n",
              "<thead>\n",
              "\t<tr><th scope=col>Film</th><th scope=col>Year</th><th scope=col>Actor</th><th scope=col>Director</th><th scope=col>Box Office</th><th scope=col>Budget</th><th scope=col>Bond Actor Salary</th><th scope=col>profit</th></tr>\n",
              "\t<tr><th scope=col>&lt;chr&gt;</th><th scope=col>&lt;int&gt;</th><th scope=col>&lt;chr&gt;</th><th scope=col>&lt;chr&gt;</th><th scope=col>&lt;dbl&gt;</th><th scope=col>&lt;dbl&gt;</th><th scope=col>&lt;dbl&gt;</th><th scope=col>&lt;dbl&gt;</th></tr>\n",
              "</thead>\n",
              "<tbody>\n",
              "\t<tr><td>Dr. No                         </td><td>1962</td><td>Sean Connery  </td><td>Terence Young     </td><td>448.8</td><td>  7.0</td><td> 0.6</td><td>64.114286</td></tr>\n",
              "\t<tr><td>Goldfinger                     </td><td>1964</td><td>Sean Connery  </td><td>Guy Hamilton      </td><td>820.4</td><td> 18.6</td><td> 3.2</td><td>44.107527</td></tr>\n",
              "\t<tr><td>From Russia with Love          </td><td>1963</td><td>Sean Connery  </td><td>Terence Young     </td><td>543.8</td><td> 12.6</td><td> 1.6</td><td>43.158730</td></tr>\n",
              "\t<tr><td>Thunderball                    </td><td>1965</td><td>Sean Connery  </td><td>Terence Young     </td><td>848.1</td><td> 41.9</td><td> 4.7</td><td>20.241050</td></tr>\n",
              "\t<tr><td>Live and Let Die               </td><td>1973</td><td>Roger Moore   </td><td>Guy Hamilton      </td><td>460.3</td><td> 30.8</td><td>  NA</td><td>14.944805</td></tr>\n",
              "\t<tr><td>Diamonds Are Forever           </td><td>1971</td><td>Sean Connery  </td><td>Guy Hamilton      </td><td>442.5</td><td> 34.7</td><td> 5.8</td><td>12.752161</td></tr>\n",
              "\t<tr><td>The Man with the Golden Gun    </td><td>1974</td><td>Roger Moore   </td><td>Guy Hamilton      </td><td>334.0</td><td> 27.7</td><td>  NA</td><td>12.057762</td></tr>\n",
              "\t<tr><td>The Spy Who Loved Me           </td><td>1977</td><td>Roger Moore   </td><td>Lewis Gilbert     </td><td>533.0</td><td> 45.1</td><td>  NA</td><td>11.818182</td></tr>\n",
              "\t<tr><td>You Only Live Twice            </td><td>1967</td><td>Sean Connery  </td><td>Lewis Gilbert     </td><td>514.2</td><td> 59.9</td><td> 4.4</td><td> 8.584307</td></tr>\n",
              "\t<tr><td>On Her Majesty's Secret Service</td><td>1969</td><td>George Lazenby</td><td>Peter R. Hunt     </td><td>291.5</td><td> 37.3</td><td> 0.6</td><td> 7.815013</td></tr>\n",
              "\t<tr><td>For Your Eyes Only             </td><td>1981</td><td>Roger Moore   </td><td>John Glen         </td><td>449.4</td><td> 60.2</td><td>  NA</td><td> 7.465116</td></tr>\n",
              "\t<tr><td>Octopussy                      </td><td>1983</td><td>Roger Moore   </td><td>John Glen         </td><td>373.8</td><td> 53.9</td><td> 7.8</td><td> 6.935065</td></tr>\n",
              "\t<tr><td>GoldenEye                      </td><td>1995</td><td>Pierce Brosnan</td><td>Martin Campbell   </td><td>518.5</td><td> 76.9</td><td> 5.1</td><td> 6.742523</td></tr>\n",
              "\t<tr><td>Moonraker                      </td><td>1979</td><td>Roger Moore   </td><td>Lewis Gilbert     </td><td>535.0</td><td> 91.5</td><td>  NA</td><td> 5.846995</td></tr>\n",
              "\t<tr><td>Skyfall                        </td><td>2012</td><td>Daniel Craig  </td><td>Sam Mendes        </td><td>943.5</td><td>170.2</td><td>14.5</td><td> 5.543478</td></tr>\n",
              "\t<tr><td>A View to a Kill               </td><td>1985</td><td>Roger Moore   </td><td>John Glen         </td><td>275.2</td><td> 54.5</td><td> 9.1</td><td> 5.049541</td></tr>\n",
              "\t<tr><td>The Living Daylights           </td><td>1987</td><td>Timothy Dalton</td><td>John Glen         </td><td>313.5</td><td> 68.8</td><td> 5.2</td><td> 4.556686</td></tr>\n",
              "\t<tr><td>Licence to Kill                </td><td>1989</td><td>Timothy Dalton</td><td>John Glen         </td><td>250.9</td><td> 56.7</td><td> 7.9</td><td> 4.425044</td></tr>\n",
              "\t<tr><td>Never Say Never Again          </td><td>1983</td><td>Sean Connery  </td><td>Irvin Kershner    </td><td>380.0</td><td> 86.0</td><td>  NA</td><td> 4.418605</td></tr>\n",
              "\t<tr><td>Casino Royale                  </td><td>2006</td><td>Daniel Craig  </td><td>Martin Campbell   </td><td>581.5</td><td>145.3</td><td> 3.3</td><td> 4.002065</td></tr>\n",
              "\t<tr><td>Casino Royale                  </td><td>1967</td><td>David Niven   </td><td>Ken Hughes        </td><td>315.0</td><td> 85.0</td><td>  NA</td><td> 3.705882</td></tr>\n",
              "\t<tr><td>Spectre                        </td><td>2015</td><td>Daniel Craig  </td><td>Sam Mendes        </td><td>726.7</td><td>206.3</td><td>  NA</td><td> 3.522540</td></tr>\n",
              "\t<tr><td>Tomorrow Never Dies            </td><td>1997</td><td>Pierce Brosnan</td><td>Roger Spottiswoode</td><td>463.2</td><td>133.9</td><td>10.0</td><td> 3.459298</td></tr>\n",
              "\t<tr><td>Die Another Day                </td><td>2002</td><td>Pierce Brosnan</td><td>Lee Tamahori      </td><td>465.4</td><td>154.2</td><td>17.9</td><td> 3.018158</td></tr>\n",
              "\t<tr><td>Quantum of Solace              </td><td>2008</td><td>Daniel Craig  </td><td>Marc Forster      </td><td>514.2</td><td>181.4</td><td> 8.1</td><td> 2.834620</td></tr>\n",
              "\t<tr><td>The World Is Not Enough        </td><td>1999</td><td>Pierce Brosnan</td><td>Michael Apted     </td><td>439.5</td><td>158.3</td><td>13.5</td><td> 2.776374</td></tr>\n",
              "</tbody>\n",
              "</table>\n"
            ]
          },
          "metadata": {
            "tags": []
          }
        }
      ]
    },
    {
      "cell_type": "code",
      "metadata": {
        "colab": {
          "base_uri": "https://localhost:8080/",
          "height": 624
        },
        "id": "K6UOMJm30pW6",
        "outputId": "ba049483-e549-4f04-c678-dd61d12dc331"
      },
      "source": [
        "# Repetimos el ejercicio anterior, en este caso utilizamos la función round() para redondear el resultado y forzar decimales\n",
        "df_james_bond %>% mutate(\n",
        "  profit = round(`Box Office`/Budget,2)   # el segundo parámetro de la función round() establece el número de decimales\n",
        "  ,profit_EUR = round(profit / 1.2)       # por defecto, round() fuerza a números enteros\n",
        ") %>% arrange(desc(profit_EUR))\n"
      ],
      "execution_count": null,
      "outputs": [
        {
          "output_type": "display_data",
          "data": {
            "text/plain": [
              "   Film                            Year Actor          Director          \n",
              "1  Dr. No                          1962 Sean Connery   Terence Young     \n",
              "2  Goldfinger                      1964 Sean Connery   Guy Hamilton      \n",
              "3  From Russia with Love           1963 Sean Connery   Terence Young     \n",
              "4  Thunderball                     1965 Sean Connery   Terence Young     \n",
              "5  Live and Let Die                1973 Roger Moore    Guy Hamilton      \n",
              "6  Diamonds Are Forever            1971 Sean Connery   Guy Hamilton      \n",
              "7  The Man with the Golden Gun     1974 Roger Moore    Guy Hamilton      \n",
              "8  The Spy Who Loved Me            1977 Roger Moore    Lewis Gilbert     \n",
              "9  You Only Live Twice             1967 Sean Connery   Lewis Gilbert     \n",
              "10 On Her Majesty's Secret Service 1969 George Lazenby Peter R. Hunt     \n",
              "11 For Your Eyes Only              1981 Roger Moore    John Glen         \n",
              "12 Octopussy                       1983 Roger Moore    John Glen         \n",
              "13 GoldenEye                       1995 Pierce Brosnan Martin Campbell   \n",
              "14 Moonraker                       1979 Roger Moore    Lewis Gilbert     \n",
              "15 Skyfall                         2012 Daniel Craig   Sam Mendes        \n",
              "16 Never Say Never Again           1983 Sean Connery   Irvin Kershner    \n",
              "17 A View to a Kill                1985 Roger Moore    John Glen         \n",
              "18 The Living Daylights            1987 Timothy Dalton John Glen         \n",
              "19 Licence to Kill                 1989 Timothy Dalton John Glen         \n",
              "20 Casino Royale                   1967 David Niven    Ken Hughes        \n",
              "21 Tomorrow Never Dies             1997 Pierce Brosnan Roger Spottiswoode\n",
              "22 Die Another Day                 2002 Pierce Brosnan Lee Tamahori      \n",
              "23 Casino Royale                   2006 Daniel Craig   Martin Campbell   \n",
              "24 Spectre                         2015 Daniel Craig   Sam Mendes        \n",
              "25 The World Is Not Enough         1999 Pierce Brosnan Michael Apted     \n",
              "26 Quantum of Solace               2008 Daniel Craig   Marc Forster      \n",
              "   Box Office Budget Bond Actor Salary profit profit_EUR\n",
              "1  448.8        7.0   0.6              64.11  53        \n",
              "2  820.4       18.6   3.2              44.11  37        \n",
              "3  543.8       12.6   1.6              43.16  36        \n",
              "4  848.1       41.9   4.7              20.24  17        \n",
              "5  460.3       30.8    NA              14.94  12        \n",
              "6  442.5       34.7   5.8              12.75  11        \n",
              "7  334.0       27.7    NA              12.06  10        \n",
              "8  533.0       45.1    NA              11.82  10        \n",
              "9  514.2       59.9   4.4               8.58   7        \n",
              "10 291.5       37.3   0.6               7.82   7        \n",
              "11 449.4       60.2    NA               7.47   6        \n",
              "12 373.8       53.9   7.8               6.94   6        \n",
              "13 518.5       76.9   5.1               6.74   6        \n",
              "14 535.0       91.5    NA               5.85   5        \n",
              "15 943.5      170.2  14.5               5.54   5        \n",
              "16 380.0       86.0    NA               4.42   4        \n",
              "17 275.2       54.5   9.1               5.05   4        \n",
              "18 313.5       68.8   5.2               4.56   4        \n",
              "19 250.9       56.7   7.9               4.43   4        \n",
              "20 315.0       85.0    NA               3.71   3        \n",
              "21 463.2      133.9  10.0               3.46   3        \n",
              "22 465.4      154.2  17.9               3.02   3        \n",
              "23 581.5      145.3   3.3               4.00   3        \n",
              "24 726.7      206.3    NA               3.52   3        \n",
              "25 439.5      158.3  13.5               2.78   2        \n",
              "26 514.2      181.4   8.1               2.83   2        "
            ],
            "text/latex": "A data.table: 26 × 9\n\\begin{tabular}{lllllllll}\n Film & Year & Actor & Director & Box Office & Budget & Bond Actor Salary & profit & profit\\_EUR\\\\\n <chr> & <int> & <chr> & <chr> & <dbl> & <dbl> & <dbl> & <dbl> & <dbl>\\\\\n\\hline\n\t Dr. No                          & 1962 & Sean Connery   & Terence Young      & 448.8 &   7.0 &  0.6 & 64.11 & 53\\\\\n\t Goldfinger                      & 1964 & Sean Connery   & Guy Hamilton       & 820.4 &  18.6 &  3.2 & 44.11 & 37\\\\\n\t From Russia with Love           & 1963 & Sean Connery   & Terence Young      & 543.8 &  12.6 &  1.6 & 43.16 & 36\\\\\n\t Thunderball                     & 1965 & Sean Connery   & Terence Young      & 848.1 &  41.9 &  4.7 & 20.24 & 17\\\\\n\t Live and Let Die                & 1973 & Roger Moore    & Guy Hamilton       & 460.3 &  30.8 &   NA & 14.94 & 12\\\\\n\t Diamonds Are Forever            & 1971 & Sean Connery   & Guy Hamilton       & 442.5 &  34.7 &  5.8 & 12.75 & 11\\\\\n\t The Man with the Golden Gun     & 1974 & Roger Moore    & Guy Hamilton       & 334.0 &  27.7 &   NA & 12.06 & 10\\\\\n\t The Spy Who Loved Me            & 1977 & Roger Moore    & Lewis Gilbert      & 533.0 &  45.1 &   NA & 11.82 & 10\\\\\n\t You Only Live Twice             & 1967 & Sean Connery   & Lewis Gilbert      & 514.2 &  59.9 &  4.4 &  8.58 &  7\\\\\n\t On Her Majesty's Secret Service & 1969 & George Lazenby & Peter R. Hunt      & 291.5 &  37.3 &  0.6 &  7.82 &  7\\\\\n\t For Your Eyes Only              & 1981 & Roger Moore    & John Glen          & 449.4 &  60.2 &   NA &  7.47 &  6\\\\\n\t Octopussy                       & 1983 & Roger Moore    & John Glen          & 373.8 &  53.9 &  7.8 &  6.94 &  6\\\\\n\t GoldenEye                       & 1995 & Pierce Brosnan & Martin Campbell    & 518.5 &  76.9 &  5.1 &  6.74 &  6\\\\\n\t Moonraker                       & 1979 & Roger Moore    & Lewis Gilbert      & 535.0 &  91.5 &   NA &  5.85 &  5\\\\\n\t Skyfall                         & 2012 & Daniel Craig   & Sam Mendes         & 943.5 & 170.2 & 14.5 &  5.54 &  5\\\\\n\t Never Say Never Again           & 1983 & Sean Connery   & Irvin Kershner     & 380.0 &  86.0 &   NA &  4.42 &  4\\\\\n\t A View to a Kill                & 1985 & Roger Moore    & John Glen          & 275.2 &  54.5 &  9.1 &  5.05 &  4\\\\\n\t The Living Daylights            & 1987 & Timothy Dalton & John Glen          & 313.5 &  68.8 &  5.2 &  4.56 &  4\\\\\n\t Licence to Kill                 & 1989 & Timothy Dalton & John Glen          & 250.9 &  56.7 &  7.9 &  4.43 &  4\\\\\n\t Casino Royale                   & 1967 & David Niven    & Ken Hughes         & 315.0 &  85.0 &   NA &  3.71 &  3\\\\\n\t Tomorrow Never Dies             & 1997 & Pierce Brosnan & Roger Spottiswoode & 463.2 & 133.9 & 10.0 &  3.46 &  3\\\\\n\t Die Another Day                 & 2002 & Pierce Brosnan & Lee Tamahori       & 465.4 & 154.2 & 17.9 &  3.02 &  3\\\\\n\t Casino Royale                   & 2006 & Daniel Craig   & Martin Campbell    & 581.5 & 145.3 &  3.3 &  4.00 &  3\\\\\n\t Spectre                         & 2015 & Daniel Craig   & Sam Mendes         & 726.7 & 206.3 &   NA &  3.52 &  3\\\\\n\t The World Is Not Enough         & 1999 & Pierce Brosnan & Michael Apted      & 439.5 & 158.3 & 13.5 &  2.78 &  2\\\\\n\t Quantum of Solace               & 2008 & Daniel Craig   & Marc Forster       & 514.2 & 181.4 &  8.1 &  2.83 &  2\\\\\n\\end{tabular}\n",
            "text/markdown": "\nA data.table: 26 × 9\n\n| Film &lt;chr&gt; | Year &lt;int&gt; | Actor &lt;chr&gt; | Director &lt;chr&gt; | Box Office &lt;dbl&gt; | Budget &lt;dbl&gt; | Bond Actor Salary &lt;dbl&gt; | profit &lt;dbl&gt; | profit_EUR &lt;dbl&gt; |\n|---|---|---|---|---|---|---|---|---|\n| Dr. No                          | 1962 | Sean Connery   | Terence Young      | 448.8 |   7.0 |  0.6 | 64.11 | 53 |\n| Goldfinger                      | 1964 | Sean Connery   | Guy Hamilton       | 820.4 |  18.6 |  3.2 | 44.11 | 37 |\n| From Russia with Love           | 1963 | Sean Connery   | Terence Young      | 543.8 |  12.6 |  1.6 | 43.16 | 36 |\n| Thunderball                     | 1965 | Sean Connery   | Terence Young      | 848.1 |  41.9 |  4.7 | 20.24 | 17 |\n| Live and Let Die                | 1973 | Roger Moore    | Guy Hamilton       | 460.3 |  30.8 |   NA | 14.94 | 12 |\n| Diamonds Are Forever            | 1971 | Sean Connery   | Guy Hamilton       | 442.5 |  34.7 |  5.8 | 12.75 | 11 |\n| The Man with the Golden Gun     | 1974 | Roger Moore    | Guy Hamilton       | 334.0 |  27.7 |   NA | 12.06 | 10 |\n| The Spy Who Loved Me            | 1977 | Roger Moore    | Lewis Gilbert      | 533.0 |  45.1 |   NA | 11.82 | 10 |\n| You Only Live Twice             | 1967 | Sean Connery   | Lewis Gilbert      | 514.2 |  59.9 |  4.4 |  8.58 |  7 |\n| On Her Majesty's Secret Service | 1969 | George Lazenby | Peter R. Hunt      | 291.5 |  37.3 |  0.6 |  7.82 |  7 |\n| For Your Eyes Only              | 1981 | Roger Moore    | John Glen          | 449.4 |  60.2 |   NA |  7.47 |  6 |\n| Octopussy                       | 1983 | Roger Moore    | John Glen          | 373.8 |  53.9 |  7.8 |  6.94 |  6 |\n| GoldenEye                       | 1995 | Pierce Brosnan | Martin Campbell    | 518.5 |  76.9 |  5.1 |  6.74 |  6 |\n| Moonraker                       | 1979 | Roger Moore    | Lewis Gilbert      | 535.0 |  91.5 |   NA |  5.85 |  5 |\n| Skyfall                         | 2012 | Daniel Craig   | Sam Mendes         | 943.5 | 170.2 | 14.5 |  5.54 |  5 |\n| Never Say Never Again           | 1983 | Sean Connery   | Irvin Kershner     | 380.0 |  86.0 |   NA |  4.42 |  4 |\n| A View to a Kill                | 1985 | Roger Moore    | John Glen          | 275.2 |  54.5 |  9.1 |  5.05 |  4 |\n| The Living Daylights            | 1987 | Timothy Dalton | John Glen          | 313.5 |  68.8 |  5.2 |  4.56 |  4 |\n| Licence to Kill                 | 1989 | Timothy Dalton | John Glen          | 250.9 |  56.7 |  7.9 |  4.43 |  4 |\n| Casino Royale                   | 1967 | David Niven    | Ken Hughes         | 315.0 |  85.0 |   NA |  3.71 |  3 |\n| Tomorrow Never Dies             | 1997 | Pierce Brosnan | Roger Spottiswoode | 463.2 | 133.9 | 10.0 |  3.46 |  3 |\n| Die Another Day                 | 2002 | Pierce Brosnan | Lee Tamahori       | 465.4 | 154.2 | 17.9 |  3.02 |  3 |\n| Casino Royale                   | 2006 | Daniel Craig   | Martin Campbell    | 581.5 | 145.3 |  3.3 |  4.00 |  3 |\n| Spectre                         | 2015 | Daniel Craig   | Sam Mendes         | 726.7 | 206.3 |   NA |  3.52 |  3 |\n| The World Is Not Enough         | 1999 | Pierce Brosnan | Michael Apted      | 439.5 | 158.3 | 13.5 |  2.78 |  2 |\n| Quantum of Solace               | 2008 | Daniel Craig   | Marc Forster       | 514.2 | 181.4 |  8.1 |  2.83 |  2 |\n\n",
            "text/html": [
              "<table>\n",
              "<caption>A data.table: 26 × 9</caption>\n",
              "<thead>\n",
              "\t<tr><th scope=col>Film</th><th scope=col>Year</th><th scope=col>Actor</th><th scope=col>Director</th><th scope=col>Box Office</th><th scope=col>Budget</th><th scope=col>Bond Actor Salary</th><th scope=col>profit</th><th scope=col>profit_EUR</th></tr>\n",
              "\t<tr><th scope=col>&lt;chr&gt;</th><th scope=col>&lt;int&gt;</th><th scope=col>&lt;chr&gt;</th><th scope=col>&lt;chr&gt;</th><th scope=col>&lt;dbl&gt;</th><th scope=col>&lt;dbl&gt;</th><th scope=col>&lt;dbl&gt;</th><th scope=col>&lt;dbl&gt;</th><th scope=col>&lt;dbl&gt;</th></tr>\n",
              "</thead>\n",
              "<tbody>\n",
              "\t<tr><td>Dr. No                         </td><td>1962</td><td>Sean Connery  </td><td>Terence Young     </td><td>448.8</td><td>  7.0</td><td> 0.6</td><td>64.11</td><td>53</td></tr>\n",
              "\t<tr><td>Goldfinger                     </td><td>1964</td><td>Sean Connery  </td><td>Guy Hamilton      </td><td>820.4</td><td> 18.6</td><td> 3.2</td><td>44.11</td><td>37</td></tr>\n",
              "\t<tr><td>From Russia with Love          </td><td>1963</td><td>Sean Connery  </td><td>Terence Young     </td><td>543.8</td><td> 12.6</td><td> 1.6</td><td>43.16</td><td>36</td></tr>\n",
              "\t<tr><td>Thunderball                    </td><td>1965</td><td>Sean Connery  </td><td>Terence Young     </td><td>848.1</td><td> 41.9</td><td> 4.7</td><td>20.24</td><td>17</td></tr>\n",
              "\t<tr><td>Live and Let Die               </td><td>1973</td><td>Roger Moore   </td><td>Guy Hamilton      </td><td>460.3</td><td> 30.8</td><td>  NA</td><td>14.94</td><td>12</td></tr>\n",
              "\t<tr><td>Diamonds Are Forever           </td><td>1971</td><td>Sean Connery  </td><td>Guy Hamilton      </td><td>442.5</td><td> 34.7</td><td> 5.8</td><td>12.75</td><td>11</td></tr>\n",
              "\t<tr><td>The Man with the Golden Gun    </td><td>1974</td><td>Roger Moore   </td><td>Guy Hamilton      </td><td>334.0</td><td> 27.7</td><td>  NA</td><td>12.06</td><td>10</td></tr>\n",
              "\t<tr><td>The Spy Who Loved Me           </td><td>1977</td><td>Roger Moore   </td><td>Lewis Gilbert     </td><td>533.0</td><td> 45.1</td><td>  NA</td><td>11.82</td><td>10</td></tr>\n",
              "\t<tr><td>You Only Live Twice            </td><td>1967</td><td>Sean Connery  </td><td>Lewis Gilbert     </td><td>514.2</td><td> 59.9</td><td> 4.4</td><td> 8.58</td><td> 7</td></tr>\n",
              "\t<tr><td>On Her Majesty's Secret Service</td><td>1969</td><td>George Lazenby</td><td>Peter R. Hunt     </td><td>291.5</td><td> 37.3</td><td> 0.6</td><td> 7.82</td><td> 7</td></tr>\n",
              "\t<tr><td>For Your Eyes Only             </td><td>1981</td><td>Roger Moore   </td><td>John Glen         </td><td>449.4</td><td> 60.2</td><td>  NA</td><td> 7.47</td><td> 6</td></tr>\n",
              "\t<tr><td>Octopussy                      </td><td>1983</td><td>Roger Moore   </td><td>John Glen         </td><td>373.8</td><td> 53.9</td><td> 7.8</td><td> 6.94</td><td> 6</td></tr>\n",
              "\t<tr><td>GoldenEye                      </td><td>1995</td><td>Pierce Brosnan</td><td>Martin Campbell   </td><td>518.5</td><td> 76.9</td><td> 5.1</td><td> 6.74</td><td> 6</td></tr>\n",
              "\t<tr><td>Moonraker                      </td><td>1979</td><td>Roger Moore   </td><td>Lewis Gilbert     </td><td>535.0</td><td> 91.5</td><td>  NA</td><td> 5.85</td><td> 5</td></tr>\n",
              "\t<tr><td>Skyfall                        </td><td>2012</td><td>Daniel Craig  </td><td>Sam Mendes        </td><td>943.5</td><td>170.2</td><td>14.5</td><td> 5.54</td><td> 5</td></tr>\n",
              "\t<tr><td>Never Say Never Again          </td><td>1983</td><td>Sean Connery  </td><td>Irvin Kershner    </td><td>380.0</td><td> 86.0</td><td>  NA</td><td> 4.42</td><td> 4</td></tr>\n",
              "\t<tr><td>A View to a Kill               </td><td>1985</td><td>Roger Moore   </td><td>John Glen         </td><td>275.2</td><td> 54.5</td><td> 9.1</td><td> 5.05</td><td> 4</td></tr>\n",
              "\t<tr><td>The Living Daylights           </td><td>1987</td><td>Timothy Dalton</td><td>John Glen         </td><td>313.5</td><td> 68.8</td><td> 5.2</td><td> 4.56</td><td> 4</td></tr>\n",
              "\t<tr><td>Licence to Kill                </td><td>1989</td><td>Timothy Dalton</td><td>John Glen         </td><td>250.9</td><td> 56.7</td><td> 7.9</td><td> 4.43</td><td> 4</td></tr>\n",
              "\t<tr><td>Casino Royale                  </td><td>1967</td><td>David Niven   </td><td>Ken Hughes        </td><td>315.0</td><td> 85.0</td><td>  NA</td><td> 3.71</td><td> 3</td></tr>\n",
              "\t<tr><td>Tomorrow Never Dies            </td><td>1997</td><td>Pierce Brosnan</td><td>Roger Spottiswoode</td><td>463.2</td><td>133.9</td><td>10.0</td><td> 3.46</td><td> 3</td></tr>\n",
              "\t<tr><td>Die Another Day                </td><td>2002</td><td>Pierce Brosnan</td><td>Lee Tamahori      </td><td>465.4</td><td>154.2</td><td>17.9</td><td> 3.02</td><td> 3</td></tr>\n",
              "\t<tr><td>Casino Royale                  </td><td>2006</td><td>Daniel Craig  </td><td>Martin Campbell   </td><td>581.5</td><td>145.3</td><td> 3.3</td><td> 4.00</td><td> 3</td></tr>\n",
              "\t<tr><td>Spectre                        </td><td>2015</td><td>Daniel Craig  </td><td>Sam Mendes        </td><td>726.7</td><td>206.3</td><td>  NA</td><td> 3.52</td><td> 3</td></tr>\n",
              "\t<tr><td>The World Is Not Enough        </td><td>1999</td><td>Pierce Brosnan</td><td>Michael Apted     </td><td>439.5</td><td>158.3</td><td>13.5</td><td> 2.78</td><td> 2</td></tr>\n",
              "\t<tr><td>Quantum of Solace              </td><td>2008</td><td>Daniel Craig  </td><td>Marc Forster      </td><td>514.2</td><td>181.4</td><td> 8.1</td><td> 2.83</td><td> 2</td></tr>\n",
              "</tbody>\n",
              "</table>\n"
            ]
          },
          "metadata": {
            "tags": []
          }
        }
      ]
    },
    {
      "cell_type": "markdown",
      "metadata": {
        "id": "wPPwmloWLPXH"
      },
      "source": [
        "#### Nuevas variables a partir de pruebas lógicas\n",
        "\n",
        "Con frecuencia, al trabajar con datos, buscamos crear nuevas variables asignando valores por fila partiendo de pruebas lógicas. En estos casos, nos apartamos de asignar valores simplemente utilizando operaciones matemáticas entre otras variables existentes. \n",
        "\n",
        "Existen dos métodos en R particularmente populares para esta tarea:\n",
        "\n",
        "*   `if_else()`\n",
        "*   `case_when()`\n",
        "\n",
        "\n",
        "```\n",
        "if_else(prueba lógica, valor si verdadero, valor si falso)\n",
        "```\n",
        "\n",
        "```\n",
        "case_when(\n",
        "   prueba 1 ~ valor si se cumple\n",
        "  ,prueba 2 ~ valor si se cumple\n",
        "  ,prueba 3 ~ valor si se cumple\n",
        "  ...\n",
        ")\n",
        "```\n"
      ]
    },
    {
      "cell_type": "code",
      "metadata": {
        "id": "d6qZ2EgP_Sm1",
        "colab": {
          "base_uri": "https://localhost:8080/",
          "height": 624
        },
        "outputId": "c7dc1176-82ce-4dc7-ef10-8870070e97d5"
      },
      "source": [
        "# Al definir una variable nueva utilizando función mutate(), combinaremos con función if_else() para crear una prueba lógica\n",
        "## creamos una nueva variable con una clasificación de películas TOP MOVIE vs. NOT IN THE TOP\n",
        "df_james_bond %>% mutate(\n",
        "  film_segment = if_else(\n",
        "    Actor == 'Sean Connery' | Budget> 100,'TOP MOVIE','NOT IN THE TOP'\n",
        "  )\n",
        ")"
      ],
      "execution_count": null,
      "outputs": [
        {
          "output_type": "display_data",
          "data": {
            "text/plain": [
              "   Film                            Year Actor          Director          \n",
              "1  Dr. No                          1962 Sean Connery   Terence Young     \n",
              "2  From Russia with Love           1963 Sean Connery   Terence Young     \n",
              "3  Goldfinger                      1964 Sean Connery   Guy Hamilton      \n",
              "4  Thunderball                     1965 Sean Connery   Terence Young     \n",
              "5  Casino Royale                   1967 David Niven    Ken Hughes        \n",
              "6  You Only Live Twice             1967 Sean Connery   Lewis Gilbert     \n",
              "7  On Her Majesty's Secret Service 1969 George Lazenby Peter R. Hunt     \n",
              "8  Diamonds Are Forever            1971 Sean Connery   Guy Hamilton      \n",
              "9  Live and Let Die                1973 Roger Moore    Guy Hamilton      \n",
              "10 The Man with the Golden Gun     1974 Roger Moore    Guy Hamilton      \n",
              "11 The Spy Who Loved Me            1977 Roger Moore    Lewis Gilbert     \n",
              "12 Moonraker                       1979 Roger Moore    Lewis Gilbert     \n",
              "13 For Your Eyes Only              1981 Roger Moore    John Glen         \n",
              "14 Never Say Never Again           1983 Sean Connery   Irvin Kershner    \n",
              "15 Octopussy                       1983 Roger Moore    John Glen         \n",
              "16 A View to a Kill                1985 Roger Moore    John Glen         \n",
              "17 The Living Daylights            1987 Timothy Dalton John Glen         \n",
              "18 Licence to Kill                 1989 Timothy Dalton John Glen         \n",
              "19 GoldenEye                       1995 Pierce Brosnan Martin Campbell   \n",
              "20 Tomorrow Never Dies             1997 Pierce Brosnan Roger Spottiswoode\n",
              "21 The World Is Not Enough         1999 Pierce Brosnan Michael Apted     \n",
              "22 Die Another Day                 2002 Pierce Brosnan Lee Tamahori      \n",
              "23 Casino Royale                   2006 Daniel Craig   Martin Campbell   \n",
              "24 Quantum of Solace               2008 Daniel Craig   Marc Forster      \n",
              "25 Skyfall                         2012 Daniel Craig   Sam Mendes        \n",
              "26 Spectre                         2015 Daniel Craig   Sam Mendes        \n",
              "   Box Office Budget Bond Actor Salary film_segment  \n",
              "1  448.8        7.0   0.6              TOP MOVIE     \n",
              "2  543.8       12.6   1.6              TOP MOVIE     \n",
              "3  820.4       18.6   3.2              TOP MOVIE     \n",
              "4  848.1       41.9   4.7              TOP MOVIE     \n",
              "5  315.0       85.0    NA              NOT IN THE TOP\n",
              "6  514.2       59.9   4.4              TOP MOVIE     \n",
              "7  291.5       37.3   0.6              NOT IN THE TOP\n",
              "8  442.5       34.7   5.8              TOP MOVIE     \n",
              "9  460.3       30.8    NA              NOT IN THE TOP\n",
              "10 334.0       27.7    NA              NOT IN THE TOP\n",
              "11 533.0       45.1    NA              NOT IN THE TOP\n",
              "12 535.0       91.5    NA              NOT IN THE TOP\n",
              "13 449.4       60.2    NA              NOT IN THE TOP\n",
              "14 380.0       86.0    NA              TOP MOVIE     \n",
              "15 373.8       53.9   7.8              NOT IN THE TOP\n",
              "16 275.2       54.5   9.1              NOT IN THE TOP\n",
              "17 313.5       68.8   5.2              NOT IN THE TOP\n",
              "18 250.9       56.7   7.9              NOT IN THE TOP\n",
              "19 518.5       76.9   5.1              NOT IN THE TOP\n",
              "20 463.2      133.9  10.0              TOP MOVIE     \n",
              "21 439.5      158.3  13.5              TOP MOVIE     \n",
              "22 465.4      154.2  17.9              TOP MOVIE     \n",
              "23 581.5      145.3   3.3              TOP MOVIE     \n",
              "24 514.2      181.4   8.1              TOP MOVIE     \n",
              "25 943.5      170.2  14.5              TOP MOVIE     \n",
              "26 726.7      206.3    NA              TOP MOVIE     "
            ],
            "text/latex": "A data.table: 26 × 8\n\\begin{tabular}{llllllll}\n Film & Year & Actor & Director & Box Office & Budget & Bond Actor Salary & film\\_segment\\\\\n <chr> & <int> & <chr> & <chr> & <dbl> & <dbl> & <dbl> & <chr>\\\\\n\\hline\n\t Dr. No                          & 1962 & Sean Connery   & Terence Young      & 448.8 &   7.0 &  0.6 & TOP MOVIE     \\\\\n\t From Russia with Love           & 1963 & Sean Connery   & Terence Young      & 543.8 &  12.6 &  1.6 & TOP MOVIE     \\\\\n\t Goldfinger                      & 1964 & Sean Connery   & Guy Hamilton       & 820.4 &  18.6 &  3.2 & TOP MOVIE     \\\\\n\t Thunderball                     & 1965 & Sean Connery   & Terence Young      & 848.1 &  41.9 &  4.7 & TOP MOVIE     \\\\\n\t Casino Royale                   & 1967 & David Niven    & Ken Hughes         & 315.0 &  85.0 &   NA & NOT IN THE TOP\\\\\n\t You Only Live Twice             & 1967 & Sean Connery   & Lewis Gilbert      & 514.2 &  59.9 &  4.4 & TOP MOVIE     \\\\\n\t On Her Majesty's Secret Service & 1969 & George Lazenby & Peter R. Hunt      & 291.5 &  37.3 &  0.6 & NOT IN THE TOP\\\\\n\t Diamonds Are Forever            & 1971 & Sean Connery   & Guy Hamilton       & 442.5 &  34.7 &  5.8 & TOP MOVIE     \\\\\n\t Live and Let Die                & 1973 & Roger Moore    & Guy Hamilton       & 460.3 &  30.8 &   NA & NOT IN THE TOP\\\\\n\t The Man with the Golden Gun     & 1974 & Roger Moore    & Guy Hamilton       & 334.0 &  27.7 &   NA & NOT IN THE TOP\\\\\n\t The Spy Who Loved Me            & 1977 & Roger Moore    & Lewis Gilbert      & 533.0 &  45.1 &   NA & NOT IN THE TOP\\\\\n\t Moonraker                       & 1979 & Roger Moore    & Lewis Gilbert      & 535.0 &  91.5 &   NA & NOT IN THE TOP\\\\\n\t For Your Eyes Only              & 1981 & Roger Moore    & John Glen          & 449.4 &  60.2 &   NA & NOT IN THE TOP\\\\\n\t Never Say Never Again           & 1983 & Sean Connery   & Irvin Kershner     & 380.0 &  86.0 &   NA & TOP MOVIE     \\\\\n\t Octopussy                       & 1983 & Roger Moore    & John Glen          & 373.8 &  53.9 &  7.8 & NOT IN THE TOP\\\\\n\t A View to a Kill                & 1985 & Roger Moore    & John Glen          & 275.2 &  54.5 &  9.1 & NOT IN THE TOP\\\\\n\t The Living Daylights            & 1987 & Timothy Dalton & John Glen          & 313.5 &  68.8 &  5.2 & NOT IN THE TOP\\\\\n\t Licence to Kill                 & 1989 & Timothy Dalton & John Glen          & 250.9 &  56.7 &  7.9 & NOT IN THE TOP\\\\\n\t GoldenEye                       & 1995 & Pierce Brosnan & Martin Campbell    & 518.5 &  76.9 &  5.1 & NOT IN THE TOP\\\\\n\t Tomorrow Never Dies             & 1997 & Pierce Brosnan & Roger Spottiswoode & 463.2 & 133.9 & 10.0 & TOP MOVIE     \\\\\n\t The World Is Not Enough         & 1999 & Pierce Brosnan & Michael Apted      & 439.5 & 158.3 & 13.5 & TOP MOVIE     \\\\\n\t Die Another Day                 & 2002 & Pierce Brosnan & Lee Tamahori       & 465.4 & 154.2 & 17.9 & TOP MOVIE     \\\\\n\t Casino Royale                   & 2006 & Daniel Craig   & Martin Campbell    & 581.5 & 145.3 &  3.3 & TOP MOVIE     \\\\\n\t Quantum of Solace               & 2008 & Daniel Craig   & Marc Forster       & 514.2 & 181.4 &  8.1 & TOP MOVIE     \\\\\n\t Skyfall                         & 2012 & Daniel Craig   & Sam Mendes         & 943.5 & 170.2 & 14.5 & TOP MOVIE     \\\\\n\t Spectre                         & 2015 & Daniel Craig   & Sam Mendes         & 726.7 & 206.3 &   NA & TOP MOVIE     \\\\\n\\end{tabular}\n",
            "text/markdown": "\nA data.table: 26 × 8\n\n| Film &lt;chr&gt; | Year &lt;int&gt; | Actor &lt;chr&gt; | Director &lt;chr&gt; | Box Office &lt;dbl&gt; | Budget &lt;dbl&gt; | Bond Actor Salary &lt;dbl&gt; | film_segment &lt;chr&gt; |\n|---|---|---|---|---|---|---|---|\n| Dr. No                          | 1962 | Sean Connery   | Terence Young      | 448.8 |   7.0 |  0.6 | TOP MOVIE      |\n| From Russia with Love           | 1963 | Sean Connery   | Terence Young      | 543.8 |  12.6 |  1.6 | TOP MOVIE      |\n| Goldfinger                      | 1964 | Sean Connery   | Guy Hamilton       | 820.4 |  18.6 |  3.2 | TOP MOVIE      |\n| Thunderball                     | 1965 | Sean Connery   | Terence Young      | 848.1 |  41.9 |  4.7 | TOP MOVIE      |\n| Casino Royale                   | 1967 | David Niven    | Ken Hughes         | 315.0 |  85.0 |   NA | NOT IN THE TOP |\n| You Only Live Twice             | 1967 | Sean Connery   | Lewis Gilbert      | 514.2 |  59.9 |  4.4 | TOP MOVIE      |\n| On Her Majesty's Secret Service | 1969 | George Lazenby | Peter R. Hunt      | 291.5 |  37.3 |  0.6 | NOT IN THE TOP |\n| Diamonds Are Forever            | 1971 | Sean Connery   | Guy Hamilton       | 442.5 |  34.7 |  5.8 | TOP MOVIE      |\n| Live and Let Die                | 1973 | Roger Moore    | Guy Hamilton       | 460.3 |  30.8 |   NA | NOT IN THE TOP |\n| The Man with the Golden Gun     | 1974 | Roger Moore    | Guy Hamilton       | 334.0 |  27.7 |   NA | NOT IN THE TOP |\n| The Spy Who Loved Me            | 1977 | Roger Moore    | Lewis Gilbert      | 533.0 |  45.1 |   NA | NOT IN THE TOP |\n| Moonraker                       | 1979 | Roger Moore    | Lewis Gilbert      | 535.0 |  91.5 |   NA | NOT IN THE TOP |\n| For Your Eyes Only              | 1981 | Roger Moore    | John Glen          | 449.4 |  60.2 |   NA | NOT IN THE TOP |\n| Never Say Never Again           | 1983 | Sean Connery   | Irvin Kershner     | 380.0 |  86.0 |   NA | TOP MOVIE      |\n| Octopussy                       | 1983 | Roger Moore    | John Glen          | 373.8 |  53.9 |  7.8 | NOT IN THE TOP |\n| A View to a Kill                | 1985 | Roger Moore    | John Glen          | 275.2 |  54.5 |  9.1 | NOT IN THE TOP |\n| The Living Daylights            | 1987 | Timothy Dalton | John Glen          | 313.5 |  68.8 |  5.2 | NOT IN THE TOP |\n| Licence to Kill                 | 1989 | Timothy Dalton | John Glen          | 250.9 |  56.7 |  7.9 | NOT IN THE TOP |\n| GoldenEye                       | 1995 | Pierce Brosnan | Martin Campbell    | 518.5 |  76.9 |  5.1 | NOT IN THE TOP |\n| Tomorrow Never Dies             | 1997 | Pierce Brosnan | Roger Spottiswoode | 463.2 | 133.9 | 10.0 | TOP MOVIE      |\n| The World Is Not Enough         | 1999 | Pierce Brosnan | Michael Apted      | 439.5 | 158.3 | 13.5 | TOP MOVIE      |\n| Die Another Day                 | 2002 | Pierce Brosnan | Lee Tamahori       | 465.4 | 154.2 | 17.9 | TOP MOVIE      |\n| Casino Royale                   | 2006 | Daniel Craig   | Martin Campbell    | 581.5 | 145.3 |  3.3 | TOP MOVIE      |\n| Quantum of Solace               | 2008 | Daniel Craig   | Marc Forster       | 514.2 | 181.4 |  8.1 | TOP MOVIE      |\n| Skyfall                         | 2012 | Daniel Craig   | Sam Mendes         | 943.5 | 170.2 | 14.5 | TOP MOVIE      |\n| Spectre                         | 2015 | Daniel Craig   | Sam Mendes         | 726.7 | 206.3 |   NA | TOP MOVIE      |\n\n",
            "text/html": [
              "<table>\n",
              "<caption>A data.table: 26 × 8</caption>\n",
              "<thead>\n",
              "\t<tr><th scope=col>Film</th><th scope=col>Year</th><th scope=col>Actor</th><th scope=col>Director</th><th scope=col>Box Office</th><th scope=col>Budget</th><th scope=col>Bond Actor Salary</th><th scope=col>film_segment</th></tr>\n",
              "\t<tr><th scope=col>&lt;chr&gt;</th><th scope=col>&lt;int&gt;</th><th scope=col>&lt;chr&gt;</th><th scope=col>&lt;chr&gt;</th><th scope=col>&lt;dbl&gt;</th><th scope=col>&lt;dbl&gt;</th><th scope=col>&lt;dbl&gt;</th><th scope=col>&lt;chr&gt;</th></tr>\n",
              "</thead>\n",
              "<tbody>\n",
              "\t<tr><td>Dr. No                         </td><td>1962</td><td>Sean Connery  </td><td>Terence Young     </td><td>448.8</td><td>  7.0</td><td> 0.6</td><td>TOP MOVIE     </td></tr>\n",
              "\t<tr><td>From Russia with Love          </td><td>1963</td><td>Sean Connery  </td><td>Terence Young     </td><td>543.8</td><td> 12.6</td><td> 1.6</td><td>TOP MOVIE     </td></tr>\n",
              "\t<tr><td>Goldfinger                     </td><td>1964</td><td>Sean Connery  </td><td>Guy Hamilton      </td><td>820.4</td><td> 18.6</td><td> 3.2</td><td>TOP MOVIE     </td></tr>\n",
              "\t<tr><td>Thunderball                    </td><td>1965</td><td>Sean Connery  </td><td>Terence Young     </td><td>848.1</td><td> 41.9</td><td> 4.7</td><td>TOP MOVIE     </td></tr>\n",
              "\t<tr><td>Casino Royale                  </td><td>1967</td><td>David Niven   </td><td>Ken Hughes        </td><td>315.0</td><td> 85.0</td><td>  NA</td><td>NOT IN THE TOP</td></tr>\n",
              "\t<tr><td>You Only Live Twice            </td><td>1967</td><td>Sean Connery  </td><td>Lewis Gilbert     </td><td>514.2</td><td> 59.9</td><td> 4.4</td><td>TOP MOVIE     </td></tr>\n",
              "\t<tr><td>On Her Majesty's Secret Service</td><td>1969</td><td>George Lazenby</td><td>Peter R. Hunt     </td><td>291.5</td><td> 37.3</td><td> 0.6</td><td>NOT IN THE TOP</td></tr>\n",
              "\t<tr><td>Diamonds Are Forever           </td><td>1971</td><td>Sean Connery  </td><td>Guy Hamilton      </td><td>442.5</td><td> 34.7</td><td> 5.8</td><td>TOP MOVIE     </td></tr>\n",
              "\t<tr><td>Live and Let Die               </td><td>1973</td><td>Roger Moore   </td><td>Guy Hamilton      </td><td>460.3</td><td> 30.8</td><td>  NA</td><td>NOT IN THE TOP</td></tr>\n",
              "\t<tr><td>The Man with the Golden Gun    </td><td>1974</td><td>Roger Moore   </td><td>Guy Hamilton      </td><td>334.0</td><td> 27.7</td><td>  NA</td><td>NOT IN THE TOP</td></tr>\n",
              "\t<tr><td>The Spy Who Loved Me           </td><td>1977</td><td>Roger Moore   </td><td>Lewis Gilbert     </td><td>533.0</td><td> 45.1</td><td>  NA</td><td>NOT IN THE TOP</td></tr>\n",
              "\t<tr><td>Moonraker                      </td><td>1979</td><td>Roger Moore   </td><td>Lewis Gilbert     </td><td>535.0</td><td> 91.5</td><td>  NA</td><td>NOT IN THE TOP</td></tr>\n",
              "\t<tr><td>For Your Eyes Only             </td><td>1981</td><td>Roger Moore   </td><td>John Glen         </td><td>449.4</td><td> 60.2</td><td>  NA</td><td>NOT IN THE TOP</td></tr>\n",
              "\t<tr><td>Never Say Never Again          </td><td>1983</td><td>Sean Connery  </td><td>Irvin Kershner    </td><td>380.0</td><td> 86.0</td><td>  NA</td><td>TOP MOVIE     </td></tr>\n",
              "\t<tr><td>Octopussy                      </td><td>1983</td><td>Roger Moore   </td><td>John Glen         </td><td>373.8</td><td> 53.9</td><td> 7.8</td><td>NOT IN THE TOP</td></tr>\n",
              "\t<tr><td>A View to a Kill               </td><td>1985</td><td>Roger Moore   </td><td>John Glen         </td><td>275.2</td><td> 54.5</td><td> 9.1</td><td>NOT IN THE TOP</td></tr>\n",
              "\t<tr><td>The Living Daylights           </td><td>1987</td><td>Timothy Dalton</td><td>John Glen         </td><td>313.5</td><td> 68.8</td><td> 5.2</td><td>NOT IN THE TOP</td></tr>\n",
              "\t<tr><td>Licence to Kill                </td><td>1989</td><td>Timothy Dalton</td><td>John Glen         </td><td>250.9</td><td> 56.7</td><td> 7.9</td><td>NOT IN THE TOP</td></tr>\n",
              "\t<tr><td>GoldenEye                      </td><td>1995</td><td>Pierce Brosnan</td><td>Martin Campbell   </td><td>518.5</td><td> 76.9</td><td> 5.1</td><td>NOT IN THE TOP</td></tr>\n",
              "\t<tr><td>Tomorrow Never Dies            </td><td>1997</td><td>Pierce Brosnan</td><td>Roger Spottiswoode</td><td>463.2</td><td>133.9</td><td>10.0</td><td>TOP MOVIE     </td></tr>\n",
              "\t<tr><td>The World Is Not Enough        </td><td>1999</td><td>Pierce Brosnan</td><td>Michael Apted     </td><td>439.5</td><td>158.3</td><td>13.5</td><td>TOP MOVIE     </td></tr>\n",
              "\t<tr><td>Die Another Day                </td><td>2002</td><td>Pierce Brosnan</td><td>Lee Tamahori      </td><td>465.4</td><td>154.2</td><td>17.9</td><td>TOP MOVIE     </td></tr>\n",
              "\t<tr><td>Casino Royale                  </td><td>2006</td><td>Daniel Craig  </td><td>Martin Campbell   </td><td>581.5</td><td>145.3</td><td> 3.3</td><td>TOP MOVIE     </td></tr>\n",
              "\t<tr><td>Quantum of Solace              </td><td>2008</td><td>Daniel Craig  </td><td>Marc Forster      </td><td>514.2</td><td>181.4</td><td> 8.1</td><td>TOP MOVIE     </td></tr>\n",
              "\t<tr><td>Skyfall                        </td><td>2012</td><td>Daniel Craig  </td><td>Sam Mendes        </td><td>943.5</td><td>170.2</td><td>14.5</td><td>TOP MOVIE     </td></tr>\n",
              "\t<tr><td>Spectre                        </td><td>2015</td><td>Daniel Craig  </td><td>Sam Mendes        </td><td>726.7</td><td>206.3</td><td>  NA</td><td>TOP MOVIE     </td></tr>\n",
              "</tbody>\n",
              "</table>\n"
            ]
          },
          "metadata": {
            "tags": []
          }
        }
      ]
    },
    {
      "cell_type": "code",
      "metadata": {
        "colab": {
          "base_uri": "https://localhost:8080/",
          "height": 624
        },
        "id": "nYJhUQk-w0OG",
        "outputId": "53a89541-e608-4233-a290-3d3d0c821d99"
      },
      "source": [
        "# Como era de esperar, podemos anidar condiciones if_else() para crear pruebas complejas\n",
        "## no obstante, en caso de necesitar prubas complejas, es aconsejable utilizar case_when()\n",
        "\n",
        "df_james_bond %>% mutate(\n",
        "  film_segment = if_else(\n",
        "    Actor == 'Sean Connery' | Budget> 100\n",
        "    ,'1st CLASS MOVIE'\n",
        "    ,if_else(\n",
        "      Actor == 'Roger Moore' | Budget> 100\n",
        "      ,'2nd CLASS MOVIE'\n",
        "      ,'NOT IN THE TOP'\n",
        "    )\n",
        "  )\n",
        ")"
      ],
      "execution_count": null,
      "outputs": [
        {
          "output_type": "display_data",
          "data": {
            "text/plain": [
              "   Film                            Year Actor          Director          \n",
              "1  Dr. No                          1962 Sean Connery   Terence Young     \n",
              "2  From Russia with Love           1963 Sean Connery   Terence Young     \n",
              "3  Goldfinger                      1964 Sean Connery   Guy Hamilton      \n",
              "4  Thunderball                     1965 Sean Connery   Terence Young     \n",
              "5  Casino Royale                   1967 David Niven    Ken Hughes        \n",
              "6  You Only Live Twice             1967 Sean Connery   Lewis Gilbert     \n",
              "7  On Her Majesty's Secret Service 1969 George Lazenby Peter R. Hunt     \n",
              "8  Diamonds Are Forever            1971 Sean Connery   Guy Hamilton      \n",
              "9  Live and Let Die                1973 Roger Moore    Guy Hamilton      \n",
              "10 The Man with the Golden Gun     1974 Roger Moore    Guy Hamilton      \n",
              "11 The Spy Who Loved Me            1977 Roger Moore    Lewis Gilbert     \n",
              "12 Moonraker                       1979 Roger Moore    Lewis Gilbert     \n",
              "13 For Your Eyes Only              1981 Roger Moore    John Glen         \n",
              "14 Never Say Never Again           1983 Sean Connery   Irvin Kershner    \n",
              "15 Octopussy                       1983 Roger Moore    John Glen         \n",
              "16 A View to a Kill                1985 Roger Moore    John Glen         \n",
              "17 The Living Daylights            1987 Timothy Dalton John Glen         \n",
              "18 Licence to Kill                 1989 Timothy Dalton John Glen         \n",
              "19 GoldenEye                       1995 Pierce Brosnan Martin Campbell   \n",
              "20 Tomorrow Never Dies             1997 Pierce Brosnan Roger Spottiswoode\n",
              "21 The World Is Not Enough         1999 Pierce Brosnan Michael Apted     \n",
              "22 Die Another Day                 2002 Pierce Brosnan Lee Tamahori      \n",
              "23 Casino Royale                   2006 Daniel Craig   Martin Campbell   \n",
              "24 Quantum of Solace               2008 Daniel Craig   Marc Forster      \n",
              "25 Skyfall                         2012 Daniel Craig   Sam Mendes        \n",
              "26 Spectre                         2015 Daniel Craig   Sam Mendes        \n",
              "   Box Office Budget Bond Actor Salary film_segment   \n",
              "1  448.8        7.0   0.6              1st CLASS MOVIE\n",
              "2  543.8       12.6   1.6              1st CLASS MOVIE\n",
              "3  820.4       18.6   3.2              1st CLASS MOVIE\n",
              "4  848.1       41.9   4.7              1st CLASS MOVIE\n",
              "5  315.0       85.0    NA              NOT IN THE TOP \n",
              "6  514.2       59.9   4.4              1st CLASS MOVIE\n",
              "7  291.5       37.3   0.6              NOT IN THE TOP \n",
              "8  442.5       34.7   5.8              1st CLASS MOVIE\n",
              "9  460.3       30.8    NA              2nd CLASS MOVIE\n",
              "10 334.0       27.7    NA              2nd CLASS MOVIE\n",
              "11 533.0       45.1    NA              2nd CLASS MOVIE\n",
              "12 535.0       91.5    NA              2nd CLASS MOVIE\n",
              "13 449.4       60.2    NA              2nd CLASS MOVIE\n",
              "14 380.0       86.0    NA              1st CLASS MOVIE\n",
              "15 373.8       53.9   7.8              2nd CLASS MOVIE\n",
              "16 275.2       54.5   9.1              2nd CLASS MOVIE\n",
              "17 313.5       68.8   5.2              NOT IN THE TOP \n",
              "18 250.9       56.7   7.9              NOT IN THE TOP \n",
              "19 518.5       76.9   5.1              NOT IN THE TOP \n",
              "20 463.2      133.9  10.0              1st CLASS MOVIE\n",
              "21 439.5      158.3  13.5              1st CLASS MOVIE\n",
              "22 465.4      154.2  17.9              1st CLASS MOVIE\n",
              "23 581.5      145.3   3.3              1st CLASS MOVIE\n",
              "24 514.2      181.4   8.1              1st CLASS MOVIE\n",
              "25 943.5      170.2  14.5              1st CLASS MOVIE\n",
              "26 726.7      206.3    NA              1st CLASS MOVIE"
            ],
            "text/latex": "A data.table: 26 × 8\n\\begin{tabular}{llllllll}\n Film & Year & Actor & Director & Box Office & Budget & Bond Actor Salary & film\\_segment\\\\\n <chr> & <int> & <chr> & <chr> & <dbl> & <dbl> & <dbl> & <chr>\\\\\n\\hline\n\t Dr. No                          & 1962 & Sean Connery   & Terence Young      & 448.8 &   7.0 &  0.6 & 1st CLASS MOVIE\\\\\n\t From Russia with Love           & 1963 & Sean Connery   & Terence Young      & 543.8 &  12.6 &  1.6 & 1st CLASS MOVIE\\\\\n\t Goldfinger                      & 1964 & Sean Connery   & Guy Hamilton       & 820.4 &  18.6 &  3.2 & 1st CLASS MOVIE\\\\\n\t Thunderball                     & 1965 & Sean Connery   & Terence Young      & 848.1 &  41.9 &  4.7 & 1st CLASS MOVIE\\\\\n\t Casino Royale                   & 1967 & David Niven    & Ken Hughes         & 315.0 &  85.0 &   NA & NOT IN THE TOP \\\\\n\t You Only Live Twice             & 1967 & Sean Connery   & Lewis Gilbert      & 514.2 &  59.9 &  4.4 & 1st CLASS MOVIE\\\\\n\t On Her Majesty's Secret Service & 1969 & George Lazenby & Peter R. Hunt      & 291.5 &  37.3 &  0.6 & NOT IN THE TOP \\\\\n\t Diamonds Are Forever            & 1971 & Sean Connery   & Guy Hamilton       & 442.5 &  34.7 &  5.8 & 1st CLASS MOVIE\\\\\n\t Live and Let Die                & 1973 & Roger Moore    & Guy Hamilton       & 460.3 &  30.8 &   NA & 2nd CLASS MOVIE\\\\\n\t The Man with the Golden Gun     & 1974 & Roger Moore    & Guy Hamilton       & 334.0 &  27.7 &   NA & 2nd CLASS MOVIE\\\\\n\t The Spy Who Loved Me            & 1977 & Roger Moore    & Lewis Gilbert      & 533.0 &  45.1 &   NA & 2nd CLASS MOVIE\\\\\n\t Moonraker                       & 1979 & Roger Moore    & Lewis Gilbert      & 535.0 &  91.5 &   NA & 2nd CLASS MOVIE\\\\\n\t For Your Eyes Only              & 1981 & Roger Moore    & John Glen          & 449.4 &  60.2 &   NA & 2nd CLASS MOVIE\\\\\n\t Never Say Never Again           & 1983 & Sean Connery   & Irvin Kershner     & 380.0 &  86.0 &   NA & 1st CLASS MOVIE\\\\\n\t Octopussy                       & 1983 & Roger Moore    & John Glen          & 373.8 &  53.9 &  7.8 & 2nd CLASS MOVIE\\\\\n\t A View to a Kill                & 1985 & Roger Moore    & John Glen          & 275.2 &  54.5 &  9.1 & 2nd CLASS MOVIE\\\\\n\t The Living Daylights            & 1987 & Timothy Dalton & John Glen          & 313.5 &  68.8 &  5.2 & NOT IN THE TOP \\\\\n\t Licence to Kill                 & 1989 & Timothy Dalton & John Glen          & 250.9 &  56.7 &  7.9 & NOT IN THE TOP \\\\\n\t GoldenEye                       & 1995 & Pierce Brosnan & Martin Campbell    & 518.5 &  76.9 &  5.1 & NOT IN THE TOP \\\\\n\t Tomorrow Never Dies             & 1997 & Pierce Brosnan & Roger Spottiswoode & 463.2 & 133.9 & 10.0 & 1st CLASS MOVIE\\\\\n\t The World Is Not Enough         & 1999 & Pierce Brosnan & Michael Apted      & 439.5 & 158.3 & 13.5 & 1st CLASS MOVIE\\\\\n\t Die Another Day                 & 2002 & Pierce Brosnan & Lee Tamahori       & 465.4 & 154.2 & 17.9 & 1st CLASS MOVIE\\\\\n\t Casino Royale                   & 2006 & Daniel Craig   & Martin Campbell    & 581.5 & 145.3 &  3.3 & 1st CLASS MOVIE\\\\\n\t Quantum of Solace               & 2008 & Daniel Craig   & Marc Forster       & 514.2 & 181.4 &  8.1 & 1st CLASS MOVIE\\\\\n\t Skyfall                         & 2012 & Daniel Craig   & Sam Mendes         & 943.5 & 170.2 & 14.5 & 1st CLASS MOVIE\\\\\n\t Spectre                         & 2015 & Daniel Craig   & Sam Mendes         & 726.7 & 206.3 &   NA & 1st CLASS MOVIE\\\\\n\\end{tabular}\n",
            "text/markdown": "\nA data.table: 26 × 8\n\n| Film &lt;chr&gt; | Year &lt;int&gt; | Actor &lt;chr&gt; | Director &lt;chr&gt; | Box Office &lt;dbl&gt; | Budget &lt;dbl&gt; | Bond Actor Salary &lt;dbl&gt; | film_segment &lt;chr&gt; |\n|---|---|---|---|---|---|---|---|\n| Dr. No                          | 1962 | Sean Connery   | Terence Young      | 448.8 |   7.0 |  0.6 | 1st CLASS MOVIE |\n| From Russia with Love           | 1963 | Sean Connery   | Terence Young      | 543.8 |  12.6 |  1.6 | 1st CLASS MOVIE |\n| Goldfinger                      | 1964 | Sean Connery   | Guy Hamilton       | 820.4 |  18.6 |  3.2 | 1st CLASS MOVIE |\n| Thunderball                     | 1965 | Sean Connery   | Terence Young      | 848.1 |  41.9 |  4.7 | 1st CLASS MOVIE |\n| Casino Royale                   | 1967 | David Niven    | Ken Hughes         | 315.0 |  85.0 |   NA | NOT IN THE TOP  |\n| You Only Live Twice             | 1967 | Sean Connery   | Lewis Gilbert      | 514.2 |  59.9 |  4.4 | 1st CLASS MOVIE |\n| On Her Majesty's Secret Service | 1969 | George Lazenby | Peter R. Hunt      | 291.5 |  37.3 |  0.6 | NOT IN THE TOP  |\n| Diamonds Are Forever            | 1971 | Sean Connery   | Guy Hamilton       | 442.5 |  34.7 |  5.8 | 1st CLASS MOVIE |\n| Live and Let Die                | 1973 | Roger Moore    | Guy Hamilton       | 460.3 |  30.8 |   NA | 2nd CLASS MOVIE |\n| The Man with the Golden Gun     | 1974 | Roger Moore    | Guy Hamilton       | 334.0 |  27.7 |   NA | 2nd CLASS MOVIE |\n| The Spy Who Loved Me            | 1977 | Roger Moore    | Lewis Gilbert      | 533.0 |  45.1 |   NA | 2nd CLASS MOVIE |\n| Moonraker                       | 1979 | Roger Moore    | Lewis Gilbert      | 535.0 |  91.5 |   NA | 2nd CLASS MOVIE |\n| For Your Eyes Only              | 1981 | Roger Moore    | John Glen          | 449.4 |  60.2 |   NA | 2nd CLASS MOVIE |\n| Never Say Never Again           | 1983 | Sean Connery   | Irvin Kershner     | 380.0 |  86.0 |   NA | 1st CLASS MOVIE |\n| Octopussy                       | 1983 | Roger Moore    | John Glen          | 373.8 |  53.9 |  7.8 | 2nd CLASS MOVIE |\n| A View to a Kill                | 1985 | Roger Moore    | John Glen          | 275.2 |  54.5 |  9.1 | 2nd CLASS MOVIE |\n| The Living Daylights            | 1987 | Timothy Dalton | John Glen          | 313.5 |  68.8 |  5.2 | NOT IN THE TOP  |\n| Licence to Kill                 | 1989 | Timothy Dalton | John Glen          | 250.9 |  56.7 |  7.9 | NOT IN THE TOP  |\n| GoldenEye                       | 1995 | Pierce Brosnan | Martin Campbell    | 518.5 |  76.9 |  5.1 | NOT IN THE TOP  |\n| Tomorrow Never Dies             | 1997 | Pierce Brosnan | Roger Spottiswoode | 463.2 | 133.9 | 10.0 | 1st CLASS MOVIE |\n| The World Is Not Enough         | 1999 | Pierce Brosnan | Michael Apted      | 439.5 | 158.3 | 13.5 | 1st CLASS MOVIE |\n| Die Another Day                 | 2002 | Pierce Brosnan | Lee Tamahori       | 465.4 | 154.2 | 17.9 | 1st CLASS MOVIE |\n| Casino Royale                   | 2006 | Daniel Craig   | Martin Campbell    | 581.5 | 145.3 |  3.3 | 1st CLASS MOVIE |\n| Quantum of Solace               | 2008 | Daniel Craig   | Marc Forster       | 514.2 | 181.4 |  8.1 | 1st CLASS MOVIE |\n| Skyfall                         | 2012 | Daniel Craig   | Sam Mendes         | 943.5 | 170.2 | 14.5 | 1st CLASS MOVIE |\n| Spectre                         | 2015 | Daniel Craig   | Sam Mendes         | 726.7 | 206.3 |   NA | 1st CLASS MOVIE |\n\n",
            "text/html": [
              "<table>\n",
              "<caption>A data.table: 26 × 8</caption>\n",
              "<thead>\n",
              "\t<tr><th scope=col>Film</th><th scope=col>Year</th><th scope=col>Actor</th><th scope=col>Director</th><th scope=col>Box Office</th><th scope=col>Budget</th><th scope=col>Bond Actor Salary</th><th scope=col>film_segment</th></tr>\n",
              "\t<tr><th scope=col>&lt;chr&gt;</th><th scope=col>&lt;int&gt;</th><th scope=col>&lt;chr&gt;</th><th scope=col>&lt;chr&gt;</th><th scope=col>&lt;dbl&gt;</th><th scope=col>&lt;dbl&gt;</th><th scope=col>&lt;dbl&gt;</th><th scope=col>&lt;chr&gt;</th></tr>\n",
              "</thead>\n",
              "<tbody>\n",
              "\t<tr><td>Dr. No                         </td><td>1962</td><td>Sean Connery  </td><td>Terence Young     </td><td>448.8</td><td>  7.0</td><td> 0.6</td><td>1st CLASS MOVIE</td></tr>\n",
              "\t<tr><td>From Russia with Love          </td><td>1963</td><td>Sean Connery  </td><td>Terence Young     </td><td>543.8</td><td> 12.6</td><td> 1.6</td><td>1st CLASS MOVIE</td></tr>\n",
              "\t<tr><td>Goldfinger                     </td><td>1964</td><td>Sean Connery  </td><td>Guy Hamilton      </td><td>820.4</td><td> 18.6</td><td> 3.2</td><td>1st CLASS MOVIE</td></tr>\n",
              "\t<tr><td>Thunderball                    </td><td>1965</td><td>Sean Connery  </td><td>Terence Young     </td><td>848.1</td><td> 41.9</td><td> 4.7</td><td>1st CLASS MOVIE</td></tr>\n",
              "\t<tr><td>Casino Royale                  </td><td>1967</td><td>David Niven   </td><td>Ken Hughes        </td><td>315.0</td><td> 85.0</td><td>  NA</td><td>NOT IN THE TOP </td></tr>\n",
              "\t<tr><td>You Only Live Twice            </td><td>1967</td><td>Sean Connery  </td><td>Lewis Gilbert     </td><td>514.2</td><td> 59.9</td><td> 4.4</td><td>1st CLASS MOVIE</td></tr>\n",
              "\t<tr><td>On Her Majesty's Secret Service</td><td>1969</td><td>George Lazenby</td><td>Peter R. Hunt     </td><td>291.5</td><td> 37.3</td><td> 0.6</td><td>NOT IN THE TOP </td></tr>\n",
              "\t<tr><td>Diamonds Are Forever           </td><td>1971</td><td>Sean Connery  </td><td>Guy Hamilton      </td><td>442.5</td><td> 34.7</td><td> 5.8</td><td>1st CLASS MOVIE</td></tr>\n",
              "\t<tr><td>Live and Let Die               </td><td>1973</td><td>Roger Moore   </td><td>Guy Hamilton      </td><td>460.3</td><td> 30.8</td><td>  NA</td><td>2nd CLASS MOVIE</td></tr>\n",
              "\t<tr><td>The Man with the Golden Gun    </td><td>1974</td><td>Roger Moore   </td><td>Guy Hamilton      </td><td>334.0</td><td> 27.7</td><td>  NA</td><td>2nd CLASS MOVIE</td></tr>\n",
              "\t<tr><td>The Spy Who Loved Me           </td><td>1977</td><td>Roger Moore   </td><td>Lewis Gilbert     </td><td>533.0</td><td> 45.1</td><td>  NA</td><td>2nd CLASS MOVIE</td></tr>\n",
              "\t<tr><td>Moonraker                      </td><td>1979</td><td>Roger Moore   </td><td>Lewis Gilbert     </td><td>535.0</td><td> 91.5</td><td>  NA</td><td>2nd CLASS MOVIE</td></tr>\n",
              "\t<tr><td>For Your Eyes Only             </td><td>1981</td><td>Roger Moore   </td><td>John Glen         </td><td>449.4</td><td> 60.2</td><td>  NA</td><td>2nd CLASS MOVIE</td></tr>\n",
              "\t<tr><td>Never Say Never Again          </td><td>1983</td><td>Sean Connery  </td><td>Irvin Kershner    </td><td>380.0</td><td> 86.0</td><td>  NA</td><td>1st CLASS MOVIE</td></tr>\n",
              "\t<tr><td>Octopussy                      </td><td>1983</td><td>Roger Moore   </td><td>John Glen         </td><td>373.8</td><td> 53.9</td><td> 7.8</td><td>2nd CLASS MOVIE</td></tr>\n",
              "\t<tr><td>A View to a Kill               </td><td>1985</td><td>Roger Moore   </td><td>John Glen         </td><td>275.2</td><td> 54.5</td><td> 9.1</td><td>2nd CLASS MOVIE</td></tr>\n",
              "\t<tr><td>The Living Daylights           </td><td>1987</td><td>Timothy Dalton</td><td>John Glen         </td><td>313.5</td><td> 68.8</td><td> 5.2</td><td>NOT IN THE TOP </td></tr>\n",
              "\t<tr><td>Licence to Kill                </td><td>1989</td><td>Timothy Dalton</td><td>John Glen         </td><td>250.9</td><td> 56.7</td><td> 7.9</td><td>NOT IN THE TOP </td></tr>\n",
              "\t<tr><td>GoldenEye                      </td><td>1995</td><td>Pierce Brosnan</td><td>Martin Campbell   </td><td>518.5</td><td> 76.9</td><td> 5.1</td><td>NOT IN THE TOP </td></tr>\n",
              "\t<tr><td>Tomorrow Never Dies            </td><td>1997</td><td>Pierce Brosnan</td><td>Roger Spottiswoode</td><td>463.2</td><td>133.9</td><td>10.0</td><td>1st CLASS MOVIE</td></tr>\n",
              "\t<tr><td>The World Is Not Enough        </td><td>1999</td><td>Pierce Brosnan</td><td>Michael Apted     </td><td>439.5</td><td>158.3</td><td>13.5</td><td>1st CLASS MOVIE</td></tr>\n",
              "\t<tr><td>Die Another Day                </td><td>2002</td><td>Pierce Brosnan</td><td>Lee Tamahori      </td><td>465.4</td><td>154.2</td><td>17.9</td><td>1st CLASS MOVIE</td></tr>\n",
              "\t<tr><td>Casino Royale                  </td><td>2006</td><td>Daniel Craig  </td><td>Martin Campbell   </td><td>581.5</td><td>145.3</td><td> 3.3</td><td>1st CLASS MOVIE</td></tr>\n",
              "\t<tr><td>Quantum of Solace              </td><td>2008</td><td>Daniel Craig  </td><td>Marc Forster      </td><td>514.2</td><td>181.4</td><td> 8.1</td><td>1st CLASS MOVIE</td></tr>\n",
              "\t<tr><td>Skyfall                        </td><td>2012</td><td>Daniel Craig  </td><td>Sam Mendes        </td><td>943.5</td><td>170.2</td><td>14.5</td><td>1st CLASS MOVIE</td></tr>\n",
              "\t<tr><td>Spectre                        </td><td>2015</td><td>Daniel Craig  </td><td>Sam Mendes        </td><td>726.7</td><td>206.3</td><td>  NA</td><td>1st CLASS MOVIE</td></tr>\n",
              "</tbody>\n",
              "</table>\n"
            ]
          },
          "metadata": {
            "tags": []
          }
        }
      ]
    },
    {
      "cell_type": "code",
      "metadata": {
        "colab": {
          "base_uri": "https://localhost:8080/",
          "height": 624
        },
        "id": "PBCFzpXBxMzk",
        "outputId": "df11d22d-0166-4518-fd0b-7647ea921725"
      },
      "source": [
        "# La función case_when(), imitando mismo operador en lenguaje SQL, permite una sintaxis más límpia para crear condiciones complejas\n",
        "## observar que las condiciones tienen un orden jerárquico y no necesitan ser mutuamente excluyentes\n",
        "## en caso de que se cumpla una condición, el sistema no seguirá evaluando condiciones posteriores  \n",
        "\n",
        "df_james_bond %>% mutate(\n",
        "  film_segment = case_when(\n",
        "    Actor == 'Sean Connery' | Budget> 100 ~ '1st CLASS MOVIE'     # condición 1\n",
        "    ,Actor == 'Roger Moore' | Budget> 100 ~ '2st CLASS MOVIE'     # condición 2\n",
        "    ,Actor == 'Daniel Craig' | Budget> 100 ~ '3rd CLASS MOVIE'    # condición 3\n",
        "    ,TRUE == TRUE ~ 'NOT IN THE TOP'                              # (opcional) esta condición se cumple siempre (TRUE = TRUE), por tanto nos sirve como \"en caso de que ninguna otra se cumpla\"\n",
        "  )\n",
        ")"
      ],
      "execution_count": null,
      "outputs": [
        {
          "output_type": "display_data",
          "data": {
            "text/plain": [
              "   Film                            Year Actor          Director          \n",
              "1  Dr. No                          1962 Sean Connery   Terence Young     \n",
              "2  From Russia with Love           1963 Sean Connery   Terence Young     \n",
              "3  Goldfinger                      1964 Sean Connery   Guy Hamilton      \n",
              "4  Thunderball                     1965 Sean Connery   Terence Young     \n",
              "5  Casino Royale                   1967 David Niven    Ken Hughes        \n",
              "6  You Only Live Twice             1967 Sean Connery   Lewis Gilbert     \n",
              "7  On Her Majesty's Secret Service 1969 George Lazenby Peter R. Hunt     \n",
              "8  Diamonds Are Forever            1971 Sean Connery   Guy Hamilton      \n",
              "9  Live and Let Die                1973 Roger Moore    Guy Hamilton      \n",
              "10 The Man with the Golden Gun     1974 Roger Moore    Guy Hamilton      \n",
              "11 The Spy Who Loved Me            1977 Roger Moore    Lewis Gilbert     \n",
              "12 Moonraker                       1979 Roger Moore    Lewis Gilbert     \n",
              "13 For Your Eyes Only              1981 Roger Moore    John Glen         \n",
              "14 Never Say Never Again           1983 Sean Connery   Irvin Kershner    \n",
              "15 Octopussy                       1983 Roger Moore    John Glen         \n",
              "16 A View to a Kill                1985 Roger Moore    John Glen         \n",
              "17 The Living Daylights            1987 Timothy Dalton John Glen         \n",
              "18 Licence to Kill                 1989 Timothy Dalton John Glen         \n",
              "19 GoldenEye                       1995 Pierce Brosnan Martin Campbell   \n",
              "20 Tomorrow Never Dies             1997 Pierce Brosnan Roger Spottiswoode\n",
              "21 The World Is Not Enough         1999 Pierce Brosnan Michael Apted     \n",
              "22 Die Another Day                 2002 Pierce Brosnan Lee Tamahori      \n",
              "23 Casino Royale                   2006 Daniel Craig   Martin Campbell   \n",
              "24 Quantum of Solace               2008 Daniel Craig   Marc Forster      \n",
              "25 Skyfall                         2012 Daniel Craig   Sam Mendes        \n",
              "26 Spectre                         2015 Daniel Craig   Sam Mendes        \n",
              "   Box Office Budget Bond Actor Salary film_segment   \n",
              "1  448.8        7.0   0.6              1st CLASS MOVIE\n",
              "2  543.8       12.6   1.6              1st CLASS MOVIE\n",
              "3  820.4       18.6   3.2              1st CLASS MOVIE\n",
              "4  848.1       41.9   4.7              1st CLASS MOVIE\n",
              "5  315.0       85.0    NA              NOT IN THE TOP \n",
              "6  514.2       59.9   4.4              1st CLASS MOVIE\n",
              "7  291.5       37.3   0.6              NOT IN THE TOP \n",
              "8  442.5       34.7   5.8              1st CLASS MOVIE\n",
              "9  460.3       30.8    NA              2st CLASS MOVIE\n",
              "10 334.0       27.7    NA              2st CLASS MOVIE\n",
              "11 533.0       45.1    NA              2st CLASS MOVIE\n",
              "12 535.0       91.5    NA              2st CLASS MOVIE\n",
              "13 449.4       60.2    NA              2st CLASS MOVIE\n",
              "14 380.0       86.0    NA              1st CLASS MOVIE\n",
              "15 373.8       53.9   7.8              2st CLASS MOVIE\n",
              "16 275.2       54.5   9.1              2st CLASS MOVIE\n",
              "17 313.5       68.8   5.2              NOT IN THE TOP \n",
              "18 250.9       56.7   7.9              NOT IN THE TOP \n",
              "19 518.5       76.9   5.1              NOT IN THE TOP \n",
              "20 463.2      133.9  10.0              1st CLASS MOVIE\n",
              "21 439.5      158.3  13.5              1st CLASS MOVIE\n",
              "22 465.4      154.2  17.9              1st CLASS MOVIE\n",
              "23 581.5      145.3   3.3              1st CLASS MOVIE\n",
              "24 514.2      181.4   8.1              1st CLASS MOVIE\n",
              "25 943.5      170.2  14.5              1st CLASS MOVIE\n",
              "26 726.7      206.3    NA              1st CLASS MOVIE"
            ],
            "text/latex": "A data.table: 26 × 8\n\\begin{tabular}{llllllll}\n Film & Year & Actor & Director & Box Office & Budget & Bond Actor Salary & film\\_segment\\\\\n <chr> & <int> & <chr> & <chr> & <dbl> & <dbl> & <dbl> & <chr>\\\\\n\\hline\n\t Dr. No                          & 1962 & Sean Connery   & Terence Young      & 448.8 &   7.0 &  0.6 & 1st CLASS MOVIE\\\\\n\t From Russia with Love           & 1963 & Sean Connery   & Terence Young      & 543.8 &  12.6 &  1.6 & 1st CLASS MOVIE\\\\\n\t Goldfinger                      & 1964 & Sean Connery   & Guy Hamilton       & 820.4 &  18.6 &  3.2 & 1st CLASS MOVIE\\\\\n\t Thunderball                     & 1965 & Sean Connery   & Terence Young      & 848.1 &  41.9 &  4.7 & 1st CLASS MOVIE\\\\\n\t Casino Royale                   & 1967 & David Niven    & Ken Hughes         & 315.0 &  85.0 &   NA & NOT IN THE TOP \\\\\n\t You Only Live Twice             & 1967 & Sean Connery   & Lewis Gilbert      & 514.2 &  59.9 &  4.4 & 1st CLASS MOVIE\\\\\n\t On Her Majesty's Secret Service & 1969 & George Lazenby & Peter R. Hunt      & 291.5 &  37.3 &  0.6 & NOT IN THE TOP \\\\\n\t Diamonds Are Forever            & 1971 & Sean Connery   & Guy Hamilton       & 442.5 &  34.7 &  5.8 & 1st CLASS MOVIE\\\\\n\t Live and Let Die                & 1973 & Roger Moore    & Guy Hamilton       & 460.3 &  30.8 &   NA & 2st CLASS MOVIE\\\\\n\t The Man with the Golden Gun     & 1974 & Roger Moore    & Guy Hamilton       & 334.0 &  27.7 &   NA & 2st CLASS MOVIE\\\\\n\t The Spy Who Loved Me            & 1977 & Roger Moore    & Lewis Gilbert      & 533.0 &  45.1 &   NA & 2st CLASS MOVIE\\\\\n\t Moonraker                       & 1979 & Roger Moore    & Lewis Gilbert      & 535.0 &  91.5 &   NA & 2st CLASS MOVIE\\\\\n\t For Your Eyes Only              & 1981 & Roger Moore    & John Glen          & 449.4 &  60.2 &   NA & 2st CLASS MOVIE\\\\\n\t Never Say Never Again           & 1983 & Sean Connery   & Irvin Kershner     & 380.0 &  86.0 &   NA & 1st CLASS MOVIE\\\\\n\t Octopussy                       & 1983 & Roger Moore    & John Glen          & 373.8 &  53.9 &  7.8 & 2st CLASS MOVIE\\\\\n\t A View to a Kill                & 1985 & Roger Moore    & John Glen          & 275.2 &  54.5 &  9.1 & 2st CLASS MOVIE\\\\\n\t The Living Daylights            & 1987 & Timothy Dalton & John Glen          & 313.5 &  68.8 &  5.2 & NOT IN THE TOP \\\\\n\t Licence to Kill                 & 1989 & Timothy Dalton & John Glen          & 250.9 &  56.7 &  7.9 & NOT IN THE TOP \\\\\n\t GoldenEye                       & 1995 & Pierce Brosnan & Martin Campbell    & 518.5 &  76.9 &  5.1 & NOT IN THE TOP \\\\\n\t Tomorrow Never Dies             & 1997 & Pierce Brosnan & Roger Spottiswoode & 463.2 & 133.9 & 10.0 & 1st CLASS MOVIE\\\\\n\t The World Is Not Enough         & 1999 & Pierce Brosnan & Michael Apted      & 439.5 & 158.3 & 13.5 & 1st CLASS MOVIE\\\\\n\t Die Another Day                 & 2002 & Pierce Brosnan & Lee Tamahori       & 465.4 & 154.2 & 17.9 & 1st CLASS MOVIE\\\\\n\t Casino Royale                   & 2006 & Daniel Craig   & Martin Campbell    & 581.5 & 145.3 &  3.3 & 1st CLASS MOVIE\\\\\n\t Quantum of Solace               & 2008 & Daniel Craig   & Marc Forster       & 514.2 & 181.4 &  8.1 & 1st CLASS MOVIE\\\\\n\t Skyfall                         & 2012 & Daniel Craig   & Sam Mendes         & 943.5 & 170.2 & 14.5 & 1st CLASS MOVIE\\\\\n\t Spectre                         & 2015 & Daniel Craig   & Sam Mendes         & 726.7 & 206.3 &   NA & 1st CLASS MOVIE\\\\\n\\end{tabular}\n",
            "text/markdown": "\nA data.table: 26 × 8\n\n| Film &lt;chr&gt; | Year &lt;int&gt; | Actor &lt;chr&gt; | Director &lt;chr&gt; | Box Office &lt;dbl&gt; | Budget &lt;dbl&gt; | Bond Actor Salary &lt;dbl&gt; | film_segment &lt;chr&gt; |\n|---|---|---|---|---|---|---|---|\n| Dr. No                          | 1962 | Sean Connery   | Terence Young      | 448.8 |   7.0 |  0.6 | 1st CLASS MOVIE |\n| From Russia with Love           | 1963 | Sean Connery   | Terence Young      | 543.8 |  12.6 |  1.6 | 1st CLASS MOVIE |\n| Goldfinger                      | 1964 | Sean Connery   | Guy Hamilton       | 820.4 |  18.6 |  3.2 | 1st CLASS MOVIE |\n| Thunderball                     | 1965 | Sean Connery   | Terence Young      | 848.1 |  41.9 |  4.7 | 1st CLASS MOVIE |\n| Casino Royale                   | 1967 | David Niven    | Ken Hughes         | 315.0 |  85.0 |   NA | NOT IN THE TOP  |\n| You Only Live Twice             | 1967 | Sean Connery   | Lewis Gilbert      | 514.2 |  59.9 |  4.4 | 1st CLASS MOVIE |\n| On Her Majesty's Secret Service | 1969 | George Lazenby | Peter R. Hunt      | 291.5 |  37.3 |  0.6 | NOT IN THE TOP  |\n| Diamonds Are Forever            | 1971 | Sean Connery   | Guy Hamilton       | 442.5 |  34.7 |  5.8 | 1st CLASS MOVIE |\n| Live and Let Die                | 1973 | Roger Moore    | Guy Hamilton       | 460.3 |  30.8 |   NA | 2st CLASS MOVIE |\n| The Man with the Golden Gun     | 1974 | Roger Moore    | Guy Hamilton       | 334.0 |  27.7 |   NA | 2st CLASS MOVIE |\n| The Spy Who Loved Me            | 1977 | Roger Moore    | Lewis Gilbert      | 533.0 |  45.1 |   NA | 2st CLASS MOVIE |\n| Moonraker                       | 1979 | Roger Moore    | Lewis Gilbert      | 535.0 |  91.5 |   NA | 2st CLASS MOVIE |\n| For Your Eyes Only              | 1981 | Roger Moore    | John Glen          | 449.4 |  60.2 |   NA | 2st CLASS MOVIE |\n| Never Say Never Again           | 1983 | Sean Connery   | Irvin Kershner     | 380.0 |  86.0 |   NA | 1st CLASS MOVIE |\n| Octopussy                       | 1983 | Roger Moore    | John Glen          | 373.8 |  53.9 |  7.8 | 2st CLASS MOVIE |\n| A View to a Kill                | 1985 | Roger Moore    | John Glen          | 275.2 |  54.5 |  9.1 | 2st CLASS MOVIE |\n| The Living Daylights            | 1987 | Timothy Dalton | John Glen          | 313.5 |  68.8 |  5.2 | NOT IN THE TOP  |\n| Licence to Kill                 | 1989 | Timothy Dalton | John Glen          | 250.9 |  56.7 |  7.9 | NOT IN THE TOP  |\n| GoldenEye                       | 1995 | Pierce Brosnan | Martin Campbell    | 518.5 |  76.9 |  5.1 | NOT IN THE TOP  |\n| Tomorrow Never Dies             | 1997 | Pierce Brosnan | Roger Spottiswoode | 463.2 | 133.9 | 10.0 | 1st CLASS MOVIE |\n| The World Is Not Enough         | 1999 | Pierce Brosnan | Michael Apted      | 439.5 | 158.3 | 13.5 | 1st CLASS MOVIE |\n| Die Another Day                 | 2002 | Pierce Brosnan | Lee Tamahori       | 465.4 | 154.2 | 17.9 | 1st CLASS MOVIE |\n| Casino Royale                   | 2006 | Daniel Craig   | Martin Campbell    | 581.5 | 145.3 |  3.3 | 1st CLASS MOVIE |\n| Quantum of Solace               | 2008 | Daniel Craig   | Marc Forster       | 514.2 | 181.4 |  8.1 | 1st CLASS MOVIE |\n| Skyfall                         | 2012 | Daniel Craig   | Sam Mendes         | 943.5 | 170.2 | 14.5 | 1st CLASS MOVIE |\n| Spectre                         | 2015 | Daniel Craig   | Sam Mendes         | 726.7 | 206.3 |   NA | 1st CLASS MOVIE |\n\n",
            "text/html": [
              "<table>\n",
              "<caption>A data.table: 26 × 8</caption>\n",
              "<thead>\n",
              "\t<tr><th scope=col>Film</th><th scope=col>Year</th><th scope=col>Actor</th><th scope=col>Director</th><th scope=col>Box Office</th><th scope=col>Budget</th><th scope=col>Bond Actor Salary</th><th scope=col>film_segment</th></tr>\n",
              "\t<tr><th scope=col>&lt;chr&gt;</th><th scope=col>&lt;int&gt;</th><th scope=col>&lt;chr&gt;</th><th scope=col>&lt;chr&gt;</th><th scope=col>&lt;dbl&gt;</th><th scope=col>&lt;dbl&gt;</th><th scope=col>&lt;dbl&gt;</th><th scope=col>&lt;chr&gt;</th></tr>\n",
              "</thead>\n",
              "<tbody>\n",
              "\t<tr><td>Dr. No                         </td><td>1962</td><td>Sean Connery  </td><td>Terence Young     </td><td>448.8</td><td>  7.0</td><td> 0.6</td><td>1st CLASS MOVIE</td></tr>\n",
              "\t<tr><td>From Russia with Love          </td><td>1963</td><td>Sean Connery  </td><td>Terence Young     </td><td>543.8</td><td> 12.6</td><td> 1.6</td><td>1st CLASS MOVIE</td></tr>\n",
              "\t<tr><td>Goldfinger                     </td><td>1964</td><td>Sean Connery  </td><td>Guy Hamilton      </td><td>820.4</td><td> 18.6</td><td> 3.2</td><td>1st CLASS MOVIE</td></tr>\n",
              "\t<tr><td>Thunderball                    </td><td>1965</td><td>Sean Connery  </td><td>Terence Young     </td><td>848.1</td><td> 41.9</td><td> 4.7</td><td>1st CLASS MOVIE</td></tr>\n",
              "\t<tr><td>Casino Royale                  </td><td>1967</td><td>David Niven   </td><td>Ken Hughes        </td><td>315.0</td><td> 85.0</td><td>  NA</td><td>NOT IN THE TOP </td></tr>\n",
              "\t<tr><td>You Only Live Twice            </td><td>1967</td><td>Sean Connery  </td><td>Lewis Gilbert     </td><td>514.2</td><td> 59.9</td><td> 4.4</td><td>1st CLASS MOVIE</td></tr>\n",
              "\t<tr><td>On Her Majesty's Secret Service</td><td>1969</td><td>George Lazenby</td><td>Peter R. Hunt     </td><td>291.5</td><td> 37.3</td><td> 0.6</td><td>NOT IN THE TOP </td></tr>\n",
              "\t<tr><td>Diamonds Are Forever           </td><td>1971</td><td>Sean Connery  </td><td>Guy Hamilton      </td><td>442.5</td><td> 34.7</td><td> 5.8</td><td>1st CLASS MOVIE</td></tr>\n",
              "\t<tr><td>Live and Let Die               </td><td>1973</td><td>Roger Moore   </td><td>Guy Hamilton      </td><td>460.3</td><td> 30.8</td><td>  NA</td><td>2st CLASS MOVIE</td></tr>\n",
              "\t<tr><td>The Man with the Golden Gun    </td><td>1974</td><td>Roger Moore   </td><td>Guy Hamilton      </td><td>334.0</td><td> 27.7</td><td>  NA</td><td>2st CLASS MOVIE</td></tr>\n",
              "\t<tr><td>The Spy Who Loved Me           </td><td>1977</td><td>Roger Moore   </td><td>Lewis Gilbert     </td><td>533.0</td><td> 45.1</td><td>  NA</td><td>2st CLASS MOVIE</td></tr>\n",
              "\t<tr><td>Moonraker                      </td><td>1979</td><td>Roger Moore   </td><td>Lewis Gilbert     </td><td>535.0</td><td> 91.5</td><td>  NA</td><td>2st CLASS MOVIE</td></tr>\n",
              "\t<tr><td>For Your Eyes Only             </td><td>1981</td><td>Roger Moore   </td><td>John Glen         </td><td>449.4</td><td> 60.2</td><td>  NA</td><td>2st CLASS MOVIE</td></tr>\n",
              "\t<tr><td>Never Say Never Again          </td><td>1983</td><td>Sean Connery  </td><td>Irvin Kershner    </td><td>380.0</td><td> 86.0</td><td>  NA</td><td>1st CLASS MOVIE</td></tr>\n",
              "\t<tr><td>Octopussy                      </td><td>1983</td><td>Roger Moore   </td><td>John Glen         </td><td>373.8</td><td> 53.9</td><td> 7.8</td><td>2st CLASS MOVIE</td></tr>\n",
              "\t<tr><td>A View to a Kill               </td><td>1985</td><td>Roger Moore   </td><td>John Glen         </td><td>275.2</td><td> 54.5</td><td> 9.1</td><td>2st CLASS MOVIE</td></tr>\n",
              "\t<tr><td>The Living Daylights           </td><td>1987</td><td>Timothy Dalton</td><td>John Glen         </td><td>313.5</td><td> 68.8</td><td> 5.2</td><td>NOT IN THE TOP </td></tr>\n",
              "\t<tr><td>Licence to Kill                </td><td>1989</td><td>Timothy Dalton</td><td>John Glen         </td><td>250.9</td><td> 56.7</td><td> 7.9</td><td>NOT IN THE TOP </td></tr>\n",
              "\t<tr><td>GoldenEye                      </td><td>1995</td><td>Pierce Brosnan</td><td>Martin Campbell   </td><td>518.5</td><td> 76.9</td><td> 5.1</td><td>NOT IN THE TOP </td></tr>\n",
              "\t<tr><td>Tomorrow Never Dies            </td><td>1997</td><td>Pierce Brosnan</td><td>Roger Spottiswoode</td><td>463.2</td><td>133.9</td><td>10.0</td><td>1st CLASS MOVIE</td></tr>\n",
              "\t<tr><td>The World Is Not Enough        </td><td>1999</td><td>Pierce Brosnan</td><td>Michael Apted     </td><td>439.5</td><td>158.3</td><td>13.5</td><td>1st CLASS MOVIE</td></tr>\n",
              "\t<tr><td>Die Another Day                </td><td>2002</td><td>Pierce Brosnan</td><td>Lee Tamahori      </td><td>465.4</td><td>154.2</td><td>17.9</td><td>1st CLASS MOVIE</td></tr>\n",
              "\t<tr><td>Casino Royale                  </td><td>2006</td><td>Daniel Craig  </td><td>Martin Campbell   </td><td>581.5</td><td>145.3</td><td> 3.3</td><td>1st CLASS MOVIE</td></tr>\n",
              "\t<tr><td>Quantum of Solace              </td><td>2008</td><td>Daniel Craig  </td><td>Marc Forster      </td><td>514.2</td><td>181.4</td><td> 8.1</td><td>1st CLASS MOVIE</td></tr>\n",
              "\t<tr><td>Skyfall                        </td><td>2012</td><td>Daniel Craig  </td><td>Sam Mendes        </td><td>943.5</td><td>170.2</td><td>14.5</td><td>1st CLASS MOVIE</td></tr>\n",
              "\t<tr><td>Spectre                        </td><td>2015</td><td>Daniel Craig  </td><td>Sam Mendes        </td><td>726.7</td><td>206.3</td><td>  NA</td><td>1st CLASS MOVIE</td></tr>\n",
              "</tbody>\n",
              "</table>\n"
            ]
          },
          "metadata": {
            "tags": []
          }
        }
      ]
    },
    {
      "cell_type": "markdown",
      "metadata": {
        "id": "bzl7-Z11RqpN"
      },
      "source": [
        "# AGREGACIONES\n",
        "Una agregación es una compilación de datos en un *data frame*, donde alteramos la unidad de observación original y llevando la información a un nivel superior de abstracción. Al realizar una agregación, siempre utilizaremos una función de agregación específica para determinar el tipo de operación.\n",
        "\n",
        "#### Funciones básicas de agregación\n",
        "\n",
        "| Function \t| Description        \t|\n",
        "|----------\t|--------------------\t|\n",
        "| sum()    \t| Sum                \t|\n",
        "| mean()   \t| Mean               \t|\n",
        "| median() \t| Median             \t|\n",
        "| sd()     \t| Standard Deviation \t|\n",
        "| min()    \t| Minimum            \t|\n",
        "| max()    \t| Maximum            \t|\n",
        "| n()      \t| Count              \t|\n"
      ]
    },
    {
      "cell_type": "code",
      "metadata": {
        "id": "lWWgm-dbSCYZ",
        "colab": {
          "base_uri": "https://localhost:8080/"
        },
        "outputId": "e1dea942-959d-4fd4-e612-d120363a74a3"
      },
      "source": [
        "# Importamos un df\n",
        "df_james_bond = data.table::fread(\"https://data-wizards.s3.amazonaws.com/datasets/jamesbond.csv\")\n",
        "glimpse(df_james_bond)"
      ],
      "execution_count": null,
      "outputs": [
        {
          "output_type": "stream",
          "text": [
            "Rows: 26\n",
            "Columns: 7\n",
            "$ Film                \u001b[3m\u001b[90m<chr>\u001b[39m\u001b[23m \"Dr. No\", \"From Russia with Love\", \"Goldfinger\", …\n",
            "$ Year                \u001b[3m\u001b[90m<int>\u001b[39m\u001b[23m 1962, 1963, 1964, 1965, 1967, 1967, 1969, 1971, 1…\n",
            "$ Actor               \u001b[3m\u001b[90m<chr>\u001b[39m\u001b[23m \"Sean Connery\", \"Sean Connery\", \"Sean Connery\", \"…\n",
            "$ Director            \u001b[3m\u001b[90m<chr>\u001b[39m\u001b[23m \"Terence Young\", \"Terence Young\", \"Guy Hamilton\",…\n",
            "$ `Box Office`        \u001b[3m\u001b[90m<dbl>\u001b[39m\u001b[23m 448.8, 543.8, 820.4, 848.1, 315.0, 514.2, 291.5, …\n",
            "$ Budget              \u001b[3m\u001b[90m<dbl>\u001b[39m\u001b[23m 7.0, 12.6, 18.6, 41.9, 85.0, 59.9, 37.3, 34.7, 30…\n",
            "$ `Bond Actor Salary` \u001b[3m\u001b[90m<dbl>\u001b[39m\u001b[23m 0.6, 1.6, 3.2, 4.7, NA, 4.4, 0.6, 5.8, NA, NA, NA…\n"
          ],
          "name": "stdout"
        }
      ]
    },
    {
      "cell_type": "markdown",
      "metadata": {
        "id": "fsn7-lFg1bra"
      },
      "source": [
        "### AGREGACIONES GLOBALES\n",
        "---\n",
        "La primera acción que emprenderemos será la de conseguir métricas que resuman el total de las observaciones disponibles en el *data frame*\n",
        "\n",
        "```\n",
        "dplyr::sumarise(object, aggregations...)\n",
        "```\n",
        "\n"
      ]
    },
    {
      "cell_type": "code",
      "metadata": {
        "id": "diUErTkcSCc6",
        "colab": {
          "base_uri": "https://localhost:8080/",
          "height": 116
        },
        "outputId": "ed8b255c-ee97-4825-907f-85df45f8a6ba"
      },
      "source": [
        "# Creamos una primer agregación, donde obtendremos la suma total de la variable \"box office\"\n",
        "## esto podría interpretarse como el total de ingresos generados por todas las películas de James Bond \n",
        "df_james_bond %>% summarise(\n",
        "  total_box_office = sum(`Box Office`)    # definimos el nombre de la variable y utilizamos una función de agregación para establecer un criterio\n",
        ")"
      ],
      "execution_count": null,
      "outputs": [
        {
          "output_type": "display_data",
          "data": {
            "text/plain": [
              "  total_box_office\n",
              "1 12781.9         "
            ],
            "text/latex": "A data.frame: 1 × 1\n\\begin{tabular}{l}\n total\\_box\\_office\\\\\n <dbl>\\\\\n\\hline\n\t 12781.9\\\\\n\\end{tabular}\n",
            "text/markdown": "\nA data.frame: 1 × 1\n\n| total_box_office &lt;dbl&gt; |\n|---|\n| 12781.9 |\n\n",
            "text/html": [
              "<table>\n",
              "<caption>A data.frame: 1 × 1</caption>\n",
              "<thead>\n",
              "\t<tr><th scope=col>total_box_office</th></tr>\n",
              "\t<tr><th scope=col>&lt;dbl&gt;</th></tr>\n",
              "</thead>\n",
              "<tbody>\n",
              "\t<tr><td>12781.9</td></tr>\n",
              "</tbody>\n",
              "</table>\n"
            ]
          },
          "metadata": {
            "tags": []
          }
        }
      ]
    },
    {
      "cell_type": "code",
      "metadata": {
        "colab": {
          "base_uri": "https://localhost:8080/",
          "height": 99
        },
        "id": "yhuvXQ6ezhgx",
        "outputId": "f858b78e-5cb9-42c4-d665-16c2e6913a02"
      },
      "source": [
        "# Los valores nulos (NA) pueden causarnos problemas\n",
        "## utilizaremos un parámetro adicional en la función de agregación, para especificar que no tome en cuanta las observaciones con valores NA\n",
        "## en el ejemplo a continuación, sumaremos los salarios de los actores en todas las películas\n",
        "df_james_bond %>% summarise(\n",
        "  total_bond_salary_v1 = sum(`Bond Actor Salary`)                \n",
        "  ,total_bond_salary_v2 = sum(`Bond Actor Salary`,na.rm=TRUE)    # el segunda parámetro \"na.rm = TRUE\" (NA remove) evita aquellas observaciones NA al realizar el cálculo\n",
        ")\n",
        "## la primer variable tendrá valor NA, ya que al menos una observación es NA"
      ],
      "execution_count": null,
      "outputs": [
        {
          "output_type": "display_data",
          "data": {
            "text/plain": [
              "  total_box_office_v1 total_box_office_v2\n",
              "1 NA                  123.3              "
            ],
            "text/latex": "A data.frame: 1 × 2\n\\begin{tabular}{ll}\n total\\_box\\_office\\_v1 & total\\_box\\_office\\_v2\\\\\n <dbl> & <dbl>\\\\\n\\hline\n\t NA & 123.3\\\\\n\\end{tabular}\n",
            "text/markdown": "\nA data.frame: 1 × 2\n\n| total_box_office_v1 &lt;dbl&gt; | total_box_office_v2 &lt;dbl&gt; |\n|---|---|\n| NA | 123.3 |\n\n",
            "text/html": [
              "<table>\n",
              "<caption>A data.frame: 1 × 2</caption>\n",
              "<thead>\n",
              "\t<tr><th scope=col>total_box_office_v1</th><th scope=col>total_box_office_v2</th></tr>\n",
              "\t<tr><th scope=col>&lt;dbl&gt;</th><th scope=col>&lt;dbl&gt;</th></tr>\n",
              "</thead>\n",
              "<tbody>\n",
              "\t<tr><td>NA</td><td>123.3</td></tr>\n",
              "</tbody>\n",
              "</table>\n"
            ]
          },
          "metadata": {
            "tags": []
          }
        }
      ]
    },
    {
      "cell_type": "code",
      "metadata": {
        "id": "F_0tD5EsSChQ",
        "colab": {
          "base_uri": "https://localhost:8080/",
          "height": 99
        },
        "outputId": "2584ce38-4590-48a5-a063-9315e51ed8f1"
      },
      "source": [
        "# A continuación, utilizaremos distintas funciones de agregación para jugar con los datos disponibles en el dataset\n",
        "df_james_bond %>% summarise(\n",
        "  avg_box_office = mean(`Box Office`)\n",
        "  ,avg_budget = mean(Budget)\n",
        "  ,avg_bond_actor_salary = mean(`Bond Actor Salary`,na.rm = TRUE)\n",
        ")"
      ],
      "execution_count": null,
      "outputs": [
        {
          "output_type": "display_data",
          "data": {
            "text/plain": [
              "  avg_box_office avg_budget avg_bond_actor_salary\n",
              "1 491.6115       80.71923   6.85                 "
            ],
            "text/latex": "A data.frame: 1 × 3\n\\begin{tabular}{lll}\n avg\\_box\\_office & avg\\_budget & avg\\_bond\\_actor\\_salary\\\\\n <dbl> & <dbl> & <dbl>\\\\\n\\hline\n\t 491.6115 & 80.71923 & 6.85\\\\\n\\end{tabular}\n",
            "text/markdown": "\nA data.frame: 1 × 3\n\n| avg_box_office &lt;dbl&gt; | avg_budget &lt;dbl&gt; | avg_bond_actor_salary &lt;dbl&gt; |\n|---|---|---|\n| 491.6115 | 80.71923 | 6.85 |\n\n",
            "text/html": [
              "<table>\n",
              "<caption>A data.frame: 1 × 3</caption>\n",
              "<thead>\n",
              "\t<tr><th scope=col>avg_box_office</th><th scope=col>avg_budget</th><th scope=col>avg_bond_actor_salary</th></tr>\n",
              "\t<tr><th scope=col>&lt;dbl&gt;</th><th scope=col>&lt;dbl&gt;</th><th scope=col>&lt;dbl&gt;</th></tr>\n",
              "</thead>\n",
              "<tbody>\n",
              "\t<tr><td>491.6115</td><td>80.71923</td><td>6.85</td></tr>\n",
              "</tbody>\n",
              "</table>\n"
            ]
          },
          "metadata": {
            "tags": []
          }
        }
      ]
    },
    {
      "cell_type": "markdown",
      "metadata": {
        "id": "zrfYSZq51tYY"
      },
      "source": [
        "### AGREGACIONES AGRUPADAS\n",
        "---\n",
        "Al realizar agregaciones, muchas veces no buscamos datos globales (al total del data frame), sino que buscamos métricas específicas para observaciones agrupadas según variables categóricas. Para ello, necesitaremos especificar un criterio de agrupación utilizando la función *group_by()*\n",
        "\n",
        "```\n",
        "group_by(object, columns...)\n",
        "```\n",
        "\n",
        "\n",
        "\n"
      ]
    },
    {
      "cell_type": "code",
      "metadata": {
        "colab": {
          "base_uri": "https://localhost:8080/",
          "height": 385
        },
        "id": "RYA6Is0EviDW",
        "outputId": "f79d5259-27df-44dd-c45f-fe0149ab4072"
      },
      "source": [
        "# En el ejercicio a continuación, buscaremos obtener métricas según Director de la película\n",
        "## nota: la unidad de observación original en el data frame es \"película\" (tenemos una película por fila)\n",
        "## ahora lo queremos abstreaer a un nivel superior: director (existen varias películas por director)\n",
        "\n",
        "df_james_bond %>% group_by(\n",
        "  Director\n",
        ") %>% summarise(\n",
        "  avg_box_office = mean(`Box Office`)\n",
        "  ,median_budget = median(Budget)\n",
        "  ,avg_bond_actor_salary = mean(`Bond Actor Salary`,na.rm = TRUE)\n",
        ") %>% arrange(desc(avg_bond_actor_salary))"
      ],
      "execution_count": null,
      "outputs": [
        {
          "output_type": "stream",
          "text": [
            "`summarise()` ungrouping output (override with `.groups` argument)\n",
            "\n"
          ],
          "name": "stderr"
        },
        {
          "output_type": "display_data",
          "data": {
            "text/plain": [
              "   Director           avg_box_office median_budget avg_bond_actor_salary\n",
              "1  Lee Tamahori       465.4000       154.20        17.9                 \n",
              "2  Sam Mendes         835.1000       188.25        14.5                 \n",
              "3  Michael Apted      439.5000       158.30        13.5                 \n",
              "4  Roger Spottiswoode 463.2000       133.90        10.0                 \n",
              "5  Marc Forster       514.2000       181.40         8.1                 \n",
              "6  John Glen          332.5600        56.70         7.5                 \n",
              "7  Guy Hamilton       514.3000        29.25         4.5                 \n",
              "8  Lewis Gilbert      527.4000        59.90         4.4                 \n",
              "9  Martin Campbell    550.0000       111.10         4.2                 \n",
              "10 Terence Young      613.5667        12.60         2.3                 \n",
              "11 Peter R. Hunt      291.5000        37.30         0.6                 \n",
              "12 Irvin Kershner     380.0000        86.00         NaN                 \n",
              "13 Ken Hughes         315.0000        85.00         NaN                 "
            ],
            "text/latex": "A tibble: 13 × 4\n\\begin{tabular}{llll}\n Director & avg\\_box\\_office & median\\_budget & avg\\_bond\\_actor\\_salary\\\\\n <chr> & <dbl> & <dbl> & <dbl>\\\\\n\\hline\n\t Lee Tamahori       & 465.4000 & 154.20 & 17.9\\\\\n\t Sam Mendes         & 835.1000 & 188.25 & 14.5\\\\\n\t Michael Apted      & 439.5000 & 158.30 & 13.5\\\\\n\t Roger Spottiswoode & 463.2000 & 133.90 & 10.0\\\\\n\t Marc Forster       & 514.2000 & 181.40 &  8.1\\\\\n\t John Glen          & 332.5600 &  56.70 &  7.5\\\\\n\t Guy Hamilton       & 514.3000 &  29.25 &  4.5\\\\\n\t Lewis Gilbert      & 527.4000 &  59.90 &  4.4\\\\\n\t Martin Campbell    & 550.0000 & 111.10 &  4.2\\\\\n\t Terence Young      & 613.5667 &  12.60 &  2.3\\\\\n\t Peter R. Hunt      & 291.5000 &  37.30 &  0.6\\\\\n\t Irvin Kershner     & 380.0000 &  86.00 &  NaN\\\\\n\t Ken Hughes         & 315.0000 &  85.00 &  NaN\\\\\n\\end{tabular}\n",
            "text/markdown": "\nA tibble: 13 × 4\n\n| Director &lt;chr&gt; | avg_box_office &lt;dbl&gt; | median_budget &lt;dbl&gt; | avg_bond_actor_salary &lt;dbl&gt; |\n|---|---|---|---|\n| Lee Tamahori       | 465.4000 | 154.20 | 17.9 |\n| Sam Mendes         | 835.1000 | 188.25 | 14.5 |\n| Michael Apted      | 439.5000 | 158.30 | 13.5 |\n| Roger Spottiswoode | 463.2000 | 133.90 | 10.0 |\n| Marc Forster       | 514.2000 | 181.40 |  8.1 |\n| John Glen          | 332.5600 |  56.70 |  7.5 |\n| Guy Hamilton       | 514.3000 |  29.25 |  4.5 |\n| Lewis Gilbert      | 527.4000 |  59.90 |  4.4 |\n| Martin Campbell    | 550.0000 | 111.10 |  4.2 |\n| Terence Young      | 613.5667 |  12.60 |  2.3 |\n| Peter R. Hunt      | 291.5000 |  37.30 |  0.6 |\n| Irvin Kershner     | 380.0000 |  86.00 |  NaN |\n| Ken Hughes         | 315.0000 |  85.00 |  NaN |\n\n",
            "text/html": [
              "<table>\n",
              "<caption>A tibble: 13 × 4</caption>\n",
              "<thead>\n",
              "\t<tr><th scope=col>Director</th><th scope=col>avg_box_office</th><th scope=col>median_budget</th><th scope=col>avg_bond_actor_salary</th></tr>\n",
              "\t<tr><th scope=col>&lt;chr&gt;</th><th scope=col>&lt;dbl&gt;</th><th scope=col>&lt;dbl&gt;</th><th scope=col>&lt;dbl&gt;</th></tr>\n",
              "</thead>\n",
              "<tbody>\n",
              "\t<tr><td>Lee Tamahori      </td><td>465.4000</td><td>154.20</td><td>17.9</td></tr>\n",
              "\t<tr><td>Sam Mendes        </td><td>835.1000</td><td>188.25</td><td>14.5</td></tr>\n",
              "\t<tr><td>Michael Apted     </td><td>439.5000</td><td>158.30</td><td>13.5</td></tr>\n",
              "\t<tr><td>Roger Spottiswoode</td><td>463.2000</td><td>133.90</td><td>10.0</td></tr>\n",
              "\t<tr><td>Marc Forster      </td><td>514.2000</td><td>181.40</td><td> 8.1</td></tr>\n",
              "\t<tr><td>John Glen         </td><td>332.5600</td><td> 56.70</td><td> 7.5</td></tr>\n",
              "\t<tr><td>Guy Hamilton      </td><td>514.3000</td><td> 29.25</td><td> 4.5</td></tr>\n",
              "\t<tr><td>Lewis Gilbert     </td><td>527.4000</td><td> 59.90</td><td> 4.4</td></tr>\n",
              "\t<tr><td>Martin Campbell   </td><td>550.0000</td><td>111.10</td><td> 4.2</td></tr>\n",
              "\t<tr><td>Terence Young     </td><td>613.5667</td><td> 12.60</td><td> 2.3</td></tr>\n",
              "\t<tr><td>Peter R. Hunt     </td><td>291.5000</td><td> 37.30</td><td> 0.6</td></tr>\n",
              "\t<tr><td>Irvin Kershner    </td><td>380.0000</td><td> 86.00</td><td> NaN</td></tr>\n",
              "\t<tr><td>Ken Hughes        </td><td>315.0000</td><td> 85.00</td><td> NaN</td></tr>\n",
              "</tbody>\n",
              "</table>\n"
            ]
          },
          "metadata": {
            "tags": []
          }
        }
      ]
    },
    {
      "cell_type": "code",
      "metadata": {
        "colab": {
          "base_uri": "https://localhost:8080/",
          "height": 293
        },
        "id": "ypARbIqotEKW",
        "outputId": "1be2f988-803c-47b5-d520-eca0b5ba9f51"
      },
      "source": [
        "# Realizamos un ejercicio similar al anterior, agregando datos a nivel actor\n",
        "df_james_bond %>% group_by(Actor) %>% summarise(\n",
        "  total_salary = sum(`Bond Actor Salary`,na.rm = TRUE)\n",
        "  ,max_salary_in_movie = max(`Bond Actor Salary`,na.rm = TRUE)  # función max() aplicada a salario de actor en película (sueldo mayor en película)\n",
        "  ,count_movies = n()                                           # n() cuenta observaciones (cantidad de películas)\n",
        ") %>% arrange(desc(total_salary))"
      ],
      "execution_count": null,
      "outputs": [
        {
          "output_type": "stream",
          "text": [
            "Warning message in max(`Bond Actor Salary`, na.rm = TRUE):\n",
            "“no non-missing arguments to max; returning -Inf”\n",
            "`summarise()` ungrouping output (override with `.groups` argument)\n",
            "\n"
          ],
          "name": "stderr"
        },
        {
          "output_type": "display_data",
          "data": {
            "text/plain": [
              "  Actor          total_salary max_salary_in_movie count_movies\n",
              "1 Pierce Brosnan 46.5         17.9                4           \n",
              "2 Daniel Craig   25.9         14.5                4           \n",
              "3 Sean Connery   20.3          5.8                7           \n",
              "4 Roger Moore    16.9          9.1                7           \n",
              "5 Timothy Dalton 13.1          7.9                2           \n",
              "6 George Lazenby  0.6          0.6                1           \n",
              "7 David Niven     0.0         -Inf                1           "
            ],
            "text/latex": "A tibble: 7 × 4\n\\begin{tabular}{llll}\n Actor & total\\_salary & max\\_salary\\_in\\_movie & count\\_movies\\\\\n <chr> & <dbl> & <dbl> & <int>\\\\\n\\hline\n\t Pierce Brosnan & 46.5 & 17.9 & 4\\\\\n\t Daniel Craig   & 25.9 & 14.5 & 4\\\\\n\t Sean Connery   & 20.3 &  5.8 & 7\\\\\n\t Roger Moore    & 16.9 &  9.1 & 7\\\\\n\t Timothy Dalton & 13.1 &  7.9 & 2\\\\\n\t George Lazenby &  0.6 &  0.6 & 1\\\\\n\t David Niven    &  0.0 & -Inf & 1\\\\\n\\end{tabular}\n",
            "text/markdown": "\nA tibble: 7 × 4\n\n| Actor &lt;chr&gt; | total_salary &lt;dbl&gt; | max_salary_in_movie &lt;dbl&gt; | count_movies &lt;int&gt; |\n|---|---|---|---|\n| Pierce Brosnan | 46.5 | 17.9 | 4 |\n| Daniel Craig   | 25.9 | 14.5 | 4 |\n| Sean Connery   | 20.3 |  5.8 | 7 |\n| Roger Moore    | 16.9 |  9.1 | 7 |\n| Timothy Dalton | 13.1 |  7.9 | 2 |\n| George Lazenby |  0.6 |  0.6 | 1 |\n| David Niven    |  0.0 | -Inf | 1 |\n\n",
            "text/html": [
              "<table>\n",
              "<caption>A tibble: 7 × 4</caption>\n",
              "<thead>\n",
              "\t<tr><th scope=col>Actor</th><th scope=col>total_salary</th><th scope=col>max_salary_in_movie</th><th scope=col>count_movies</th></tr>\n",
              "\t<tr><th scope=col>&lt;chr&gt;</th><th scope=col>&lt;dbl&gt;</th><th scope=col>&lt;dbl&gt;</th><th scope=col>&lt;int&gt;</th></tr>\n",
              "</thead>\n",
              "<tbody>\n",
              "\t<tr><td>Pierce Brosnan</td><td>46.5</td><td>17.9</td><td>4</td></tr>\n",
              "\t<tr><td>Daniel Craig  </td><td>25.9</td><td>14.5</td><td>4</td></tr>\n",
              "\t<tr><td>Sean Connery  </td><td>20.3</td><td> 5.8</td><td>7</td></tr>\n",
              "\t<tr><td>Roger Moore   </td><td>16.9</td><td> 9.1</td><td>7</td></tr>\n",
              "\t<tr><td>Timothy Dalton</td><td>13.1</td><td> 7.9</td><td>2</td></tr>\n",
              "\t<tr><td>George Lazenby</td><td> 0.6</td><td> 0.6</td><td>1</td></tr>\n",
              "\t<tr><td>David Niven   </td><td> 0.0</td><td>-Inf</td><td>1</td></tr>\n",
              "</tbody>\n",
              "</table>\n"
            ]
          },
          "metadata": {
            "tags": []
          }
        }
      ]
    },
    {
      "cell_type": "markdown",
      "metadata": {
        "id": "R9kcQyMl0YTY"
      },
      "source": [
        "### AGREGACIONES CONDICIONADAS\n",
        "---\n",
        "En ocasiones, nos interesa definir un subconjunto específico de observaciones (filas) para cada variable agregada. En otras palabras, podemos definir condiciones específicas para cada variable al configurar una función de agregación.  \n"
      ]
    },
    {
      "cell_type": "code",
      "metadata": {
        "id": "QBgrInUm0d-c",
        "colab": {
          "base_uri": "https://localhost:8080/",
          "height": 99
        },
        "outputId": "324d37d8-6f83-4767-c066-d85d8fdf340a"
      },
      "source": [
        "# En el ejemplo a continuación, realizaremos una agregación global (sin agrupar), pero definiendo condiciones en las variables agregadas\n",
        "df_james_bond %>% summarise(\n",
        "  sum_salary_Roger_Moore = sum(`Bond Actor Salary`[Actor == 'Roger Moore'],na.rm = TRUE)    # únicamente suma de salarios cuando el actor es Rooger Moore\n",
        "  ,sum_salary_Daniel_Craig = sum(`Bond Actor Salary`[Actor == 'Daniel Craig'],na.rm = TRUE) # únicamente suma de salarios cuando el actor es Daniel Craig\n",
        ")"
      ],
      "execution_count": null,
      "outputs": [
        {
          "output_type": "display_data",
          "data": {
            "text/plain": [
              "  sum_salary_Roger_Moore sum_salary_Daniel_Craig\n",
              "1 16.9                   25.9                   "
            ],
            "text/latex": "A data.frame: 1 × 2\n\\begin{tabular}{ll}\n sum\\_salary\\_Roger\\_Moore & sum\\_salary\\_Daniel\\_Craig\\\\\n <dbl> & <dbl>\\\\\n\\hline\n\t 16.9 & 25.9\\\\\n\\end{tabular}\n",
            "text/markdown": "\nA data.frame: 1 × 2\n\n| sum_salary_Roger_Moore &lt;dbl&gt; | sum_salary_Daniel_Craig &lt;dbl&gt; |\n|---|---|\n| 16.9 | 25.9 |\n\n",
            "text/html": [
              "<table>\n",
              "<caption>A data.frame: 1 × 2</caption>\n",
              "<thead>\n",
              "\t<tr><th scope=col>sum_salary_Roger_Moore</th><th scope=col>sum_salary_Daniel_Craig</th></tr>\n",
              "\t<tr><th scope=col>&lt;dbl&gt;</th><th scope=col>&lt;dbl&gt;</th></tr>\n",
              "</thead>\n",
              "<tbody>\n",
              "\t<tr><td>16.9</td><td>25.9</td></tr>\n",
              "</tbody>\n",
              "</table>\n"
            ]
          },
          "metadata": {
            "tags": []
          }
        }
      ]
    },
    {
      "cell_type": "code",
      "metadata": {
        "colab": {
          "base_uri": "https://localhost:8080/",
          "height": 154
        },
        "id": "m7MYYGn46Bjz",
        "outputId": "10f836c2-dccd-4b4d-f77d-1e673cae7e2c"
      },
      "source": [
        "# Las agregaciones condicionadas pueden utilizarse para \"pivotear\" (o \"transponer\") una tabla (es decir, cambiar filas por columnas)\n",
        "## en el ejercicio debajo no utilizamos agregación condicionada y obtenemos la misma información, reportada de otra forma\n",
        "\n",
        "df_james_bond %>% filter(\n",
        "  Actor %in% c('Roger Moore','Daniel Craig')            # filtramos por dos actores      \n",
        ") %>% group_by(\n",
        "  Actor                                                 # agrupamos por actor (quiero agrupar la variable agregada según actor)\n",
        ") %>% summarise(\n",
        "  sum_salary = sum(`Bond Actor Salary`,na.rm = TRUE)    # suma de salarios en películas\n",
        ")"
      ],
      "execution_count": null,
      "outputs": [
        {
          "output_type": "stream",
          "text": [
            "`summarise()` ungrouping output (override with `.groups` argument)\n",
            "\n"
          ],
          "name": "stderr"
        },
        {
          "output_type": "display_data",
          "data": {
            "text/plain": [
              "  Actor        sum_salary\n",
              "1 Daniel Craig 25.9      \n",
              "2 Roger Moore  16.9      "
            ],
            "text/latex": "A tibble: 2 × 2\n\\begin{tabular}{ll}\n Actor & sum\\_salary\\\\\n <chr> & <dbl>\\\\\n\\hline\n\t Daniel Craig & 25.9\\\\\n\t Roger Moore  & 16.9\\\\\n\\end{tabular}\n",
            "text/markdown": "\nA tibble: 2 × 2\n\n| Actor &lt;chr&gt; | sum_salary &lt;dbl&gt; |\n|---|---|\n| Daniel Craig | 25.9 |\n| Roger Moore  | 16.9 |\n\n",
            "text/html": [
              "<table>\n",
              "<caption>A tibble: 2 × 2</caption>\n",
              "<thead>\n",
              "\t<tr><th scope=col>Actor</th><th scope=col>sum_salary</th></tr>\n",
              "\t<tr><th scope=col>&lt;chr&gt;</th><th scope=col>&lt;dbl&gt;</th></tr>\n",
              "</thead>\n",
              "<tbody>\n",
              "\t<tr><td>Daniel Craig</td><td>25.9</td></tr>\n",
              "\t<tr><td>Roger Moore </td><td>16.9</td></tr>\n",
              "</tbody>\n",
              "</table>\n"
            ]
          },
          "metadata": {
            "tags": []
          }
        }
      ]
    },
    {
      "cell_type": "code",
      "metadata": {
        "colab": {
          "base_uri": "https://localhost:8080/",
          "height": 385
        },
        "id": "_obOWfQqWEmE",
        "outputId": "423db7c3-96f0-433b-98c6-a1101d848f0a"
      },
      "source": [
        "# Realizamos otro ejercicio de agregaciones condicionadas\n",
        "## en este caso, agrupamos las métricas agregadas según Director (observar que siempre agrupamos según variables categóricas)\n",
        "\n",
        "df_james_bond %>% group_by(Director) %>% summarise(\n",
        "  total_actor_salary = sum(`Bond Actor Salary`,na.rm = TRUE)                                # esta variable agregada no es condicionada, no estamos limitando las observaciones a ser agragadas\n",
        "  ,sum_salary_Roger_Moore = sum(`Bond Actor Salary`[Actor == 'Roger Moore'],na.rm = TRUE)   # agregamos salarios para actor Roger Moore\n",
        "  ,sum_salary_Daniel_Craig = sum(`Bond Actor Salary`[Actor == 'Daniel Craig'],na.rm = TRUE) # agregamos salarios para actor Daniel Craig\n",
        ") %>% arrange(desc(total_actor_salary))\n",
        "\n",
        "## como resultado, obtenemos (i) la suma total salarios de actores según Director y (ii) la suma de salarios específica para dos actores\n",
        "## aparentemente, el actor Roger Moore únicamente ha hecho películas de James Bond con el director John Glen, por tanto el resto de directores tienen 0 a la variable agregada (condicionada a actor Roger Moore)"
      ],
      "execution_count": null,
      "outputs": [
        {
          "output_type": "stream",
          "text": [
            "`summarise()` ungrouping output (override with `.groups` argument)\n",
            "\n"
          ],
          "name": "stderr"
        },
        {
          "output_type": "display_data",
          "data": {
            "text/plain": [
              "   Director           total_actor_salary sum_salary_Roger_Moore\n",
              "1  John Glen          30.0               16.9                  \n",
              "2  Lee Tamahori       17.9                0.0                  \n",
              "3  Sam Mendes         14.5                0.0                  \n",
              "4  Michael Apted      13.5                0.0                  \n",
              "5  Roger Spottiswoode 10.0                0.0                  \n",
              "6  Guy Hamilton        9.0                0.0                  \n",
              "7  Martin Campbell     8.4                0.0                  \n",
              "8  Marc Forster        8.1                0.0                  \n",
              "9  Terence Young       6.9                0.0                  \n",
              "10 Lewis Gilbert       4.4                0.0                  \n",
              "11 Peter R. Hunt       0.6                0.0                  \n",
              "12 Irvin Kershner      0.0                0.0                  \n",
              "13 Ken Hughes          0.0                0.0                  \n",
              "   sum_salary_Daniel_Craig\n",
              "1   0.0                   \n",
              "2   0.0                   \n",
              "3  14.5                   \n",
              "4   0.0                   \n",
              "5   0.0                   \n",
              "6   0.0                   \n",
              "7   3.3                   \n",
              "8   8.1                   \n",
              "9   0.0                   \n",
              "10  0.0                   \n",
              "11  0.0                   \n",
              "12  0.0                   \n",
              "13  0.0                   "
            ],
            "text/latex": "A tibble: 13 × 4\n\\begin{tabular}{llll}\n Director & total\\_actor\\_salary & sum\\_salary\\_Roger\\_Moore & sum\\_salary\\_Daniel\\_Craig\\\\\n <chr> & <dbl> & <dbl> & <dbl>\\\\\n\\hline\n\t John Glen          & 30.0 & 16.9 &  0.0\\\\\n\t Lee Tamahori       & 17.9 &  0.0 &  0.0\\\\\n\t Sam Mendes         & 14.5 &  0.0 & 14.5\\\\\n\t Michael Apted      & 13.5 &  0.0 &  0.0\\\\\n\t Roger Spottiswoode & 10.0 &  0.0 &  0.0\\\\\n\t Guy Hamilton       &  9.0 &  0.0 &  0.0\\\\\n\t Martin Campbell    &  8.4 &  0.0 &  3.3\\\\\n\t Marc Forster       &  8.1 &  0.0 &  8.1\\\\\n\t Terence Young      &  6.9 &  0.0 &  0.0\\\\\n\t Lewis Gilbert      &  4.4 &  0.0 &  0.0\\\\\n\t Peter R. Hunt      &  0.6 &  0.0 &  0.0\\\\\n\t Irvin Kershner     &  0.0 &  0.0 &  0.0\\\\\n\t Ken Hughes         &  0.0 &  0.0 &  0.0\\\\\n\\end{tabular}\n",
            "text/markdown": "\nA tibble: 13 × 4\n\n| Director &lt;chr&gt; | total_actor_salary &lt;dbl&gt; | sum_salary_Roger_Moore &lt;dbl&gt; | sum_salary_Daniel_Craig &lt;dbl&gt; |\n|---|---|---|---|\n| John Glen          | 30.0 | 16.9 |  0.0 |\n| Lee Tamahori       | 17.9 |  0.0 |  0.0 |\n| Sam Mendes         | 14.5 |  0.0 | 14.5 |\n| Michael Apted      | 13.5 |  0.0 |  0.0 |\n| Roger Spottiswoode | 10.0 |  0.0 |  0.0 |\n| Guy Hamilton       |  9.0 |  0.0 |  0.0 |\n| Martin Campbell    |  8.4 |  0.0 |  3.3 |\n| Marc Forster       |  8.1 |  0.0 |  8.1 |\n| Terence Young      |  6.9 |  0.0 |  0.0 |\n| Lewis Gilbert      |  4.4 |  0.0 |  0.0 |\n| Peter R. Hunt      |  0.6 |  0.0 |  0.0 |\n| Irvin Kershner     |  0.0 |  0.0 |  0.0 |\n| Ken Hughes         |  0.0 |  0.0 |  0.0 |\n\n",
            "text/html": [
              "<table>\n",
              "<caption>A tibble: 13 × 4</caption>\n",
              "<thead>\n",
              "\t<tr><th scope=col>Director</th><th scope=col>total_actor_salary</th><th scope=col>sum_salary_Roger_Moore</th><th scope=col>sum_salary_Daniel_Craig</th></tr>\n",
              "\t<tr><th scope=col>&lt;chr&gt;</th><th scope=col>&lt;dbl&gt;</th><th scope=col>&lt;dbl&gt;</th><th scope=col>&lt;dbl&gt;</th></tr>\n",
              "</thead>\n",
              "<tbody>\n",
              "\t<tr><td>John Glen         </td><td>30.0</td><td>16.9</td><td> 0.0</td></tr>\n",
              "\t<tr><td>Lee Tamahori      </td><td>17.9</td><td> 0.0</td><td> 0.0</td></tr>\n",
              "\t<tr><td>Sam Mendes        </td><td>14.5</td><td> 0.0</td><td>14.5</td></tr>\n",
              "\t<tr><td>Michael Apted     </td><td>13.5</td><td> 0.0</td><td> 0.0</td></tr>\n",
              "\t<tr><td>Roger Spottiswoode</td><td>10.0</td><td> 0.0</td><td> 0.0</td></tr>\n",
              "\t<tr><td>Guy Hamilton      </td><td> 9.0</td><td> 0.0</td><td> 0.0</td></tr>\n",
              "\t<tr><td>Martin Campbell   </td><td> 8.4</td><td> 0.0</td><td> 3.3</td></tr>\n",
              "\t<tr><td>Marc Forster      </td><td> 8.1</td><td> 0.0</td><td> 8.1</td></tr>\n",
              "\t<tr><td>Terence Young     </td><td> 6.9</td><td> 0.0</td><td> 0.0</td></tr>\n",
              "\t<tr><td>Lewis Gilbert     </td><td> 4.4</td><td> 0.0</td><td> 0.0</td></tr>\n",
              "\t<tr><td>Peter R. Hunt     </td><td> 0.6</td><td> 0.0</td><td> 0.0</td></tr>\n",
              "\t<tr><td>Irvin Kershner    </td><td> 0.0</td><td> 0.0</td><td> 0.0</td></tr>\n",
              "\t<tr><td>Ken Hughes        </td><td> 0.0</td><td> 0.0</td><td> 0.0</td></tr>\n",
              "</tbody>\n",
              "</table>\n"
            ]
          },
          "metadata": {
            "tags": []
          }
        }
      ]
    },
    {
      "cell_type": "markdown",
      "metadata": {
        "id": "uzQ397bPJKx8"
      },
      "source": [
        "# EJERCICIOS\n",
        "---\n",
        "\n",
        "\n"
      ]
    },
    {
      "cell_type": "markdown",
      "source": [
        "## SELECCIONANDO COLUMNAS Y FILTRANDO FILAS"
      ],
      "metadata": {
        "id": "e4D7-NfYFgqe"
      }
    },
    {
      "cell_type": "markdown",
      "metadata": {
        "id": "zVZ6ejzbA9RS"
      },
      "source": [
        "#### EX.1.A\n",
        "Partiendo del dataset de personajes de Star Wars, filtrar por aquellos que sean originarios de \"Tatooine\", \"Naboo\" o \"Kashyyyk\". Seleccionar únicamente columnas name, homeworld y species\n",
        "\n"
      ]
    },
    {
      "cell_type": "code",
      "metadata": {
        "id": "zZEC53WNEXGF",
        "colab": {
          "base_uri": "https://localhost:8080/"
        },
        "outputId": "a05a0919-00aa-44bd-efc8-4b26c5281a5c"
      },
      "source": [
        "df_star_wars = fread(\"https://data-wizards.s3.amazonaws.com/datasets/dataset_star_wars.csv\")\n",
        "glimpse(df_star_wars)"
      ],
      "execution_count": null,
      "outputs": [
        {
          "output_type": "stream",
          "text": [
            "Rows: 87\n",
            "Columns: 10\n",
            "$ name       \u001b[3m\u001b[90m<chr>\u001b[39m\u001b[23m \"Mon Mothma\", \"Yoda\", \"Tion Medon\", \"Ratts Tyerell\", \"Luke…\n",
            "$ height     \u001b[3m\u001b[90m<int>\u001b[39m\u001b[23m 150, 66, 206, 79, 172, 96, 165, 228, 188, 188, 184, 150, 1…\n",
            "$ mass       \u001b[3m\u001b[90m<dbl>\u001b[39m\u001b[23m NA, 17.0, 80.0, 15.0, 77.0, 32.0, 75.0, 112.0, 79.0, 84.0,…\n",
            "$ hair_color \u001b[3m\u001b[90m<chr>\u001b[39m\u001b[23m \"auburn\", \"white\", \"none\", \"none\", \"blond\", \"\", \"brown\", \"…\n",
            "$ skin_color \u001b[3m\u001b[90m<chr>\u001b[39m\u001b[23m \"fair\", \"green\", \"grey\", \"grey & blue\", \"fair\", \"white & b…\n",
            "$ eye_color  \u001b[3m\u001b[90m<chr>\u001b[39m\u001b[23m \"blue\", \"brown\", \"black\", \"unknown\", \"blue\", \"red\", \"blue\"…\n",
            "$ birth_year \u001b[3m\u001b[90m<dbl>\u001b[39m\u001b[23m 48.0, 896.0, NA, NA, 19.0, 33.0, 47.0, 200.0, NA, 72.0, NA…\n",
            "$ gender     \u001b[3m\u001b[90m<chr>\u001b[39m\u001b[23m \"female\", \"male\", \"male\", \"male\", \"male\", \"\", \"female\", \"m…\n",
            "$ homeworld  \u001b[3m\u001b[90m<chr>\u001b[39m\u001b[23m \"Chandrila\", \"\", \"Utapau\", \"Aleen Minor\", \"Tatooine\", \"Nab…\n",
            "$ species    \u001b[3m\u001b[90m<chr>\u001b[39m\u001b[23m \"Human\", \"Yoda's species\", \"Pau'an\", \"Aleena\", \"Human\", \"D…\n"
          ],
          "name": "stdout"
        }
      ]
    },
    {
      "cell_type": "markdown",
      "metadata": {
        "id": "p4VdllEpCRjk"
      },
      "source": [
        "#### EX.1.B\n",
        "Importa el dataset de valoraciones de películas de IMDB, filtrar por películas (i) cuyo actor principal sea Johnny Depp y su valoración (*imdb score*) mayor a 7 o (ii) cuyo director sea James Cameron y su valoración mayor a 8. Seleccionar únicamente variables *actor_1_name*, *director_name*, *imdb_score*"
      ]
    },
    {
      "cell_type": "code",
      "metadata": {
        "id": "bj8IsadUCUqV",
        "colab": {
          "base_uri": "https://localhost:8080/"
        },
        "outputId": "dcefc485-7f42-463b-cbe4-ef27bb91e01f"
      },
      "source": [
        "# Importar el dataset\n",
        "df_movies = fread(\"https://data-wizards.s3.amazonaws.com/datasets/movies.csv\")\n",
        "glimpse(df_movies)"
      ],
      "execution_count": null,
      "outputs": [
        {
          "output_type": "stream",
          "text": [
            "Rows: 4,916\n",
            "Columns: 28\n",
            "$ color                     \u001b[3m\u001b[90m<chr>\u001b[39m\u001b[23m \"Color\", \"Color\", \"Color\", \"Color\", \"\", \"Co…\n",
            "$ director_name             \u001b[3m\u001b[90m<chr>\u001b[39m\u001b[23m \"James Cameron\", \"Gore Verbinski\", \"Sam Men…\n",
            "$ num_critic_for_reviews    \u001b[3m\u001b[90m<int>\u001b[39m\u001b[23m 723, 302, 602, 813, NA, 462, 392, 324, 635,…\n",
            "$ duration                  \u001b[3m\u001b[90m<int>\u001b[39m\u001b[23m 178, 169, 148, 164, NA, 132, 156, 100, 141,…\n",
            "$ director_facebook_likes   \u001b[3m\u001b[90m<int>\u001b[39m\u001b[23m 0, 563, 0, 22000, 131, 475, 0, 15, 0, 282, …\n",
            "$ actor_3_facebook_likes    \u001b[3m\u001b[90m<int>\u001b[39m\u001b[23m 855, 1000, 161, 23000, NA, 530, 4000, 284, …\n",
            "$ actor_2_name              \u001b[3m\u001b[90m<chr>\u001b[39m\u001b[23m \"Joel David Moore\", \"Orlando Bloom\", \"Rory …\n",
            "$ actor_1_facebook_likes    \u001b[3m\u001b[90m<int>\u001b[39m\u001b[23m 1000, 40000, 11000, 27000, 131, 640, 24000,…\n",
            "$ gross                     \u001b[3m\u001b[90m<dbl>\u001b[39m\u001b[23m 760505847, 309404152, 200074175, 448130642,…\n",
            "$ genres                    \u001b[3m\u001b[90m<chr>\u001b[39m\u001b[23m \"Action|Adventure|Fantasy|Sci-Fi\", \"Action|…\n",
            "$ actor_1_name              \u001b[3m\u001b[90m<chr>\u001b[39m\u001b[23m \"CCH Pounder\", \"Johnny Depp\", \"Christoph Wa…\n",
            "$ movie_title               \u001b[3m\u001b[90m<chr>\u001b[39m\u001b[23m \"Avatar\", \"Pirates of the Caribbean: At Wor…\n",
            "$ num_voted_users           \u001b[3m\u001b[90m<int>\u001b[39m\u001b[23m 886204, 471220, 275868, 1144337, 8, 212204,…\n",
            "$ cast_total_facebook_likes \u001b[3m\u001b[90m<int>\u001b[39m\u001b[23m 4834, 48350, 11700, 106759, 143, 1873, 4605…\n",
            "$ actor_3_name              \u001b[3m\u001b[90m<chr>\u001b[39m\u001b[23m \"Wes Studi\", \"Jack Davenport\", \"Stephanie S…\n",
            "$ facenumber_in_poster      \u001b[3m\u001b[90m<int>\u001b[39m\u001b[23m 0, 0, 1, 0, 0, 1, 0, 1, 4, 3, 0, 0, 1, 2, 1…\n",
            "$ plot_keywords             \u001b[3m\u001b[90m<chr>\u001b[39m\u001b[23m \"avatar|future|marine|native|paraplegic\", \"…\n",
            "$ movie_imdb_link           \u001b[3m\u001b[90m<chr>\u001b[39m\u001b[23m \"http://www.imdb.com/title/tt0499549/?ref_=…\n",
            "$ num_user_for_reviews      \u001b[3m\u001b[90m<int>\u001b[39m\u001b[23m 3054, 1238, 994, 2701, NA, 738, 1902, 387, …\n",
            "$ language                  \u001b[3m\u001b[90m<chr>\u001b[39m\u001b[23m \"English\", \"English\", \"English\", \"English\",…\n",
            "$ country                   \u001b[3m\u001b[90m<chr>\u001b[39m\u001b[23m \"USA\", \"USA\", \"UK\", \"USA\", \"\", \"USA\", \"USA\"…\n",
            "$ content_rating            \u001b[3m\u001b[90m<chr>\u001b[39m\u001b[23m \"PG-13\", \"PG-13\", \"PG-13\", \"PG-13\", \"\", \"PG…\n",
            "$ budget                    \u001b[3m\u001b[90m<dbl>\u001b[39m\u001b[23m 237000000, 300000000, 245000000, 250000000,…\n",
            "$ title_year                \u001b[3m\u001b[90m<int>\u001b[39m\u001b[23m 2009, 2007, 2015, 2012, NA, 2012, 2007, 201…\n",
            "$ actor_2_facebook_likes    \u001b[3m\u001b[90m<int>\u001b[39m\u001b[23m 936, 5000, 393, 23000, 12, 632, 11000, 553,…\n",
            "$ imdb_score                \u001b[3m\u001b[90m<dbl>\u001b[39m\u001b[23m 7.9, 7.1, 6.8, 8.5, 7.1, 6.6, 6.2, 7.8, 7.5…\n",
            "$ aspect_ratio              \u001b[3m\u001b[90m<dbl>\u001b[39m\u001b[23m 1.78, 2.35, 2.35, 2.35, NA, 2.35, 2.35, 1.8…\n",
            "$ movie_facebook_likes      \u001b[3m\u001b[90m<int>\u001b[39m\u001b[23m 33000, 0, 85000, 164000, 0, 24000, 0, 29000…\n"
          ],
          "name": "stdout"
        }
      ]
    },
    {
      "cell_type": "markdown",
      "source": [
        "## ORDERNAR FILAS Y CREAR NUEVAS COLUMNAS"
      ],
      "metadata": {
        "id": "O73xWLhKFpXJ"
      }
    },
    {
      "cell_type": "markdown",
      "metadata": {
        "id": "uwhCPucp_svi"
      },
      "source": [
        "#### EX.2.A\n",
        "Importa el dataset con datos del WHO (World Health Organization) y crea una nueva variable que identifique si un país está por debajo de la mediana de PIB per cápita (a nivel mundial). Filtra por países europeos que estén por debajo de la mediana mundial de PIB per cápita y selecciona únicamente las variables relevantes\n",
        "\n",
        "\n",
        "\n",
        "\n",
        "\n",
        "\n"
      ]
    },
    {
      "cell_type": "code",
      "metadata": {
        "colab": {
          "base_uri": "https://localhost:8080/"
        },
        "id": "0FL0Go3Av8l0",
        "outputId": "d4a98478-f33a-4995-af1b-58d938ef9b0e"
      },
      "source": [
        "df_who = fread(\"https://data-wizards.s3.amazonaws.com/datasets/dataset_na_who.csv\")\n",
        "glimpse(df_who)"
      ],
      "execution_count": null,
      "outputs": [
        {
          "output_type": "stream",
          "text": [
            "Rows: 196\n",
            "Columns: 13\n",
            "$ Country                                                  \u001b[3m\u001b[90m<chr>\u001b[39m\u001b[23m \"Afghanistan…\n",
            "$ CountryID                                                \u001b[3m\u001b[90m<int>\u001b[39m\u001b[23m 1, 2, 3, 4, …\n",
            "$ ContinentID                                              \u001b[3m\u001b[90m<int>\u001b[39m\u001b[23m 1, 2, 3, 2, …\n",
            "$ `Adolescent fertility rate (%)`                          \u001b[3m\u001b[90m<int>\u001b[39m\u001b[23m 151, 27, 6, …\n",
            "$ `Adult literacy rate (%)`                                \u001b[3m\u001b[90m<dbl>\u001b[39m\u001b[23m 28.0, 98.7, …\n",
            "$ `Gross national income per capita (PPP international $)` \u001b[3m\u001b[90m<int>\u001b[39m\u001b[23m NA, 6000, 59…\n",
            "$ `Net primary school enrolment ratio female (%)`          \u001b[3m\u001b[90m<int>\u001b[39m\u001b[23m NA, 93, 94, …\n",
            "$ `Net primary school enrolment ratio male (%)`            \u001b[3m\u001b[90m<int>\u001b[39m\u001b[23m NA, 94, 96, …\n",
            "$ `Population (in thousands) total`                        \u001b[3m\u001b[90m<int>\u001b[39m\u001b[23m 26088, 3172,…\n",
            "$ `Population annual growth rate (%)`                      \u001b[3m\u001b[90m<dbl>\u001b[39m\u001b[23m 4.0, 0.6, 1.…\n",
            "$ `Population in urban areas (%)`                          \u001b[3m\u001b[90m<int>\u001b[39m\u001b[23m 23, 46, 64, …\n",
            "$ `Population living below the poverty line`               \u001b[3m\u001b[90m<dbl>\u001b[39m\u001b[23m NA, 2.0, NA,…\n",
            "$ Continent                                                \u001b[3m\u001b[90m<chr>\u001b[39m\u001b[23m \"Middle East…\n"
          ],
          "name": "stdout"
        }
      ]
    },
    {
      "cell_type": "markdown",
      "metadata": {
        "id": "UxEAmZcP_pUS"
      },
      "source": [
        "#### EX.2.B\n",
        "Partiendo del dataset con empresas del ranking de fortune, filtrar por empresas del sector tecnológico que tengan beneficios positivos. Para estas empresas, crear una nueva variable con una clasificación de empresas del sector tecnológico según el cuartil de beneficios. Ordenar según beneficio (descendente) y seleccionar únicamente las variables relevantes en este ejercicio\n"
      ]
    },
    {
      "cell_type": "code",
      "metadata": {
        "id": "bNL_i2kp_nwl",
        "colab": {
          "base_uri": "https://localhost:8080/"
        },
        "outputId": "9ee71b5e-076c-4d61-8df5-4cc4212d8f04"
      },
      "source": [
        "# Importamos dataset\n",
        "df_fortune1000 = fread(\"https://data-wizards.s3.amazonaws.com/datasets/fortune1000.csv\")\n",
        "glimpse(df_fortune1000)"
      ],
      "execution_count": null,
      "outputs": [
        {
          "output_type": "stream",
          "text": [
            "Rows: 1,000\n",
            "Columns: 8\n",
            "$ Rank      \u001b[3m\u001b[90m<int>\u001b[39m\u001b[23m 1, 2, 3, 4, 5, 6, 7, 8, 9, 10, 11, 12, 13, 14, 15, 16, 17, …\n",
            "$ Company   \u001b[3m\u001b[90m<chr>\u001b[39m\u001b[23m \"Walmart\", \"Exxon Mobil\", \"Apple\", \"Berkshire Hathaway\", \"M…\n",
            "$ Sector    \u001b[3m\u001b[90m<chr>\u001b[39m\u001b[23m \"Retailing\", \"Energy\", \"Technology\", \"Financials\", \"Health …\n",
            "$ Industry  \u001b[3m\u001b[90m<chr>\u001b[39m\u001b[23m \"General Merchandisers\", \"Petroleum Refining\", \"Computers, …\n",
            "$ Location  \u001b[3m\u001b[90m<chr>\u001b[39m\u001b[23m \"Bentonville, AR\", \"Irving, TX\", \"Cupertino, CA\", \"Omaha, N…\n",
            "$ Revenue   \u001b[3m\u001b[90m<int>\u001b[39m\u001b[23m 482130, 246204, 233715, 210821, 181241, 157107, 153290, 152…\n",
            "$ Profits   \u001b[3m\u001b[90m<int>\u001b[39m\u001b[23m 14694, 16150, 53394, 24083, 1476, 5813, 5237, 9687, 7373, 1…\n",
            "$ Employees \u001b[3m\u001b[90m<int>\u001b[39m\u001b[23m 2300000, 75600, 110000, 331000, 70400, 200000, 199000, 2150…\n"
          ],
          "name": "stdout"
        }
      ]
    },
    {
      "cell_type": "markdown",
      "source": [
        "## AGREGACIONES"
      ],
      "metadata": {
        "id": "0NB9AnNqFwl2"
      }
    },
    {
      "cell_type": "markdown",
      "metadata": {
        "id": "cndfqZw4ZSwG"
      },
      "source": [
        "#### EX.3.A \n",
        "Agregar *revenue* total, segín sector productivo. Ordenar de forma descendente por *revenue*. Para las empresas incluidas en el ranking, ¿cuáles son los sectores que generan más facturación?"
      ]
    },
    {
      "cell_type": "code",
      "metadata": {
        "id": "BnpYaOzZ_jtx"
      },
      "source": [
        "df_fortune1000 = fread(\"https://data-wizards.s3.amazonaws.com/datasets/fortune1000.csv\")\n",
        "glimpse(df_fortune1000)"
      ],
      "execution_count": null,
      "outputs": []
    },
    {
      "cell_type": "markdown",
      "metadata": {
        "id": "1VUN9G4lZbdt"
      },
      "source": [
        "#### EX.3.B\n",
        "Partiendo del dataset con datos de empleados estatales, agregar la mediana de salario base según departamento. Tener en cuenta únicamente empleados full time"
      ]
    },
    {
      "cell_type": "code",
      "metadata": {
        "colab": {
          "base_uri": "https://localhost:8080/"
        },
        "id": "VZAJ-pg_Q5Ur",
        "outputId": "f71a73e5-ef86-4b9a-c8fd-ad59677c45c3"
      },
      "source": [
        "df_employees = fread(\"https://data-wizards.s3.amazonaws.com/datasets/employees.csv\")\n",
        "glimpse(df_employees)"
      ],
      "execution_count": null,
      "outputs": [
        {
          "output_type": "stream",
          "text": [
            "Rows: 2,000\n",
            "Columns: 10\n",
            "$ UNIQUE_ID         \u001b[3m\u001b[90m<int>\u001b[39m\u001b[23m 0, 1, 2, 3, 4, 5, 6, 7, 8, 9, 10, 11, 12, 13, 14, 1…\n",
            "$ POSITION_TITLE    \u001b[3m\u001b[90m<chr>\u001b[39m\u001b[23m \"ASSISTANT DIRECTOR (EX LVL)\", \"LIBRARY ASSISTANT\",…\n",
            "$ DEPARTMENT        \u001b[3m\u001b[90m<chr>\u001b[39m\u001b[23m \"Municipal Courts Department\", \"Library\", \"Houston …\n",
            "$ BASE_SALARY       \u001b[3m\u001b[90m<dbl>\u001b[39m\u001b[23m 121862, 26125, 45279, 63166, 56347, 66614, 71680, 4…\n",
            "$ RACE              \u001b[3m\u001b[90m<chr>\u001b[39m\u001b[23m \"Hispanic/Latino\", \"Hispanic/Latino\", \"White\", \"Whi…\n",
            "$ EMPLOYMENT_TYPE   \u001b[3m\u001b[90m<chr>\u001b[39m\u001b[23m \"Full Time\", \"Full Time\", \"Full Time\", \"Full Time\",…\n",
            "$ GENDER            \u001b[3m\u001b[90m<chr>\u001b[39m\u001b[23m \"Female\", \"Female\", \"Male\", \"Male\", \"Male\", \"Male\",…\n",
            "$ EMPLOYMENT_STATUS \u001b[3m\u001b[90m<chr>\u001b[39m\u001b[23m \"Active\", \"Active\", \"Active\", \"Active\", \"Active\", \"…\n",
            "$ HIRE_DATE         \u001b[3m\u001b[90m<date>\u001b[39m\u001b[23m 2006-06-12, 2000-07-19, 2015-02-03, 1982-02-08, 19…\n",
            "$ JOB_DATE          \u001b[3m\u001b[90m<date>\u001b[39m\u001b[23m 2012-10-13, 2010-09-18, 2015-02-03, 1991-05-25, 19…\n"
          ],
          "name": "stdout"
        }
      ]
    },
    {
      "cell_type": "markdown",
      "metadata": {
        "id": "CZaogctG2LXn"
      },
      "source": [
        "#### EX.3.C \n",
        "Partiendo del df con personajes de Star Wars, ¿cuál es la combinación entre *homeworld* y *species* con mayor número de personajes?\n",
        "##### Nota: algunos personajes no tienen información disponible en los campos *homeworld* y *species*. En este dataset, los campos vacíos no figuran como NA (formalmente vacíos), sino que tienen una entrada vacía de texto (por tanto el sistema no lo reconoce como NA)"
      ]
    },
    {
      "cell_type": "code",
      "metadata": {
        "id": "-VD4eBDNBCWZ"
      },
      "source": [
        "df_star_wars = fread(\"https://data-wizards.s3.amazonaws.com/datasets/dataset_star_wars.csv\")"
      ],
      "execution_count": null,
      "outputs": []
    },
    {
      "cell_type": "markdown",
      "metadata": {
        "id": "CZBKDTT9ZaBU"
      },
      "source": [
        "#### EX.3.D\n",
        "El dataset del WHO (World Health Organization) contiene data de todos los países del mundo. Analizar la mediana y dispersión del PIB per cápita de los distintos continentes. ¿Qué podemos decir sobre la dispersión del PIB per capita en las distintas regiones? ¿en qué regiones los países tienen mayor nivel de disparidad en términos de PIB per capita?\n",
        "\n",
        "##### Se requiere calcular las siguiente variables agregadas según continente:\n",
        "\n",
        "\n",
        "*   Mediana de PIB per cápita\n",
        "*   Deviación estándar de PIB per cápita\n",
        "*   Coeficiente de variación de PIB pér cápita (sd/mediana)\n",
        "\n",
        "\n"
      ]
    },
    {
      "cell_type": "code",
      "metadata": {
        "colab": {
          "base_uri": "https://localhost:8080/"
        },
        "id": "fkTwMuTHFMbv",
        "outputId": "a0bfa3c5-d6bc-4540-ae9b-5a27ff67ce3d"
      },
      "source": [
        "df_who = fread(\"https://data-wizards.s3.amazonaws.com/datasets/dataset_na_who.csv\")\n",
        "glimpse(df_who)"
      ],
      "execution_count": null,
      "outputs": [
        {
          "output_type": "stream",
          "text": [
            "Rows: 196\n",
            "Columns: 13\n",
            "$ Country                                                  \u001b[3m\u001b[90m<chr>\u001b[39m\u001b[23m \"Afghanistan…\n",
            "$ CountryID                                                \u001b[3m\u001b[90m<int>\u001b[39m\u001b[23m 1, 2, 3, 4, …\n",
            "$ ContinentID                                              \u001b[3m\u001b[90m<int>\u001b[39m\u001b[23m 1, 2, 3, 2, …\n",
            "$ `Adolescent fertility rate (%)`                          \u001b[3m\u001b[90m<int>\u001b[39m\u001b[23m 151, 27, 6, …\n",
            "$ `Adult literacy rate (%)`                                \u001b[3m\u001b[90m<dbl>\u001b[39m\u001b[23m 28.0, 98.7, …\n",
            "$ `Gross national income per capita (PPP international $)` \u001b[3m\u001b[90m<int>\u001b[39m\u001b[23m NA, 6000, 59…\n",
            "$ `Net primary school enrolment ratio female (%)`          \u001b[3m\u001b[90m<int>\u001b[39m\u001b[23m NA, 93, 94, …\n",
            "$ `Net primary school enrolment ratio male (%)`            \u001b[3m\u001b[90m<int>\u001b[39m\u001b[23m NA, 94, 96, …\n",
            "$ `Population (in thousands) total`                        \u001b[3m\u001b[90m<int>\u001b[39m\u001b[23m 26088, 3172,…\n",
            "$ `Population annual growth rate (%)`                      \u001b[3m\u001b[90m<dbl>\u001b[39m\u001b[23m 4.0, 0.6, 1.…\n",
            "$ `Population in urban areas (%)`                          \u001b[3m\u001b[90m<int>\u001b[39m\u001b[23m 23, 46, 64, …\n",
            "$ `Population living below the poverty line`               \u001b[3m\u001b[90m<dbl>\u001b[39m\u001b[23m NA, 2.0, NA,…\n",
            "$ Continent                                                \u001b[3m\u001b[90m<chr>\u001b[39m\u001b[23m \"Middle East…\n"
          ],
          "name": "stdout"
        }
      ]
    },
    {
      "cell_type": "markdown",
      "metadata": {
        "id": "7i949HvIYjXH"
      },
      "source": [
        "#### EX.3.E\n",
        "El dataset a continuación contiene un ranking con los videojuegos más vendido de la historia. Agregar ventas totales (todas las regiones) según *publisher* para los videojuegos de (únicamente) tres géneros: *sports*, *action* y *adventure*. Crear métricas específicas agregadas para cada uno de los tres géneros\n",
        "\n",
        "\n"
      ]
    },
    {
      "cell_type": "code",
      "metadata": {
        "colab": {
          "base_uri": "https://localhost:8080/"
        },
        "id": "RUw9PPOMvyhG",
        "outputId": "f36ac303-8393-404d-832b-b029b004fca0"
      },
      "source": [
        "df_videogames_games = fread(\"https://data-wizards.s3.amazonaws.com/datasets/dataset_videogames_games.csv\")\n",
        "glimpse(df_videogames_games)"
      ],
      "execution_count": null,
      "outputs": [
        {
          "output_type": "stream",
          "text": [
            "Rows: 15,947\n",
            "Columns: 10\n",
            "$ rank          \u001b[3m\u001b[90m<int>\u001b[39m\u001b[23m 1, 2, 3, 4, 5, 6, 7, 8, 9, 10, 11, 12, 13, 14, 15, 16, …\n",
            "$ name          \u001b[3m\u001b[90m<chr>\u001b[39m\u001b[23m \"Wii Sports\", \"Super Mario Bros.\", \"Mario Kart Wii\", \"W…\n",
            "$ platform_code \u001b[3m\u001b[90m<chr>\u001b[39m\u001b[23m \"Wii\", \"NES\", \"Wii\", \"Wii\", \"GB\", \"GB\", \"DS\", \"Wii\", \"W…\n",
            "$ year          \u001b[3m\u001b[90m<int>\u001b[39m\u001b[23m 2006, 1985, 2008, 2009, 1996, 1989, 2006, 2006, 2009, 1…\n",
            "$ genre         \u001b[3m\u001b[90m<chr>\u001b[39m\u001b[23m \"Sports\", \"Platform\", \"Racing\", \"Sports\", \"Role-Playing…\n",
            "$ publisher     \u001b[3m\u001b[90m<chr>\u001b[39m\u001b[23m \"Nintendo\", \"Nintendo\", \"Nintendo\", \"Nintendo\", \"Ninten…\n",
            "$ NA_sales      \u001b[3m\u001b[90m<dbl>\u001b[39m\u001b[23m 41.49, 29.08, 15.85, 15.75, 11.27, 23.20, 11.38, 14.03,…\n",
            "$ EU_sales      \u001b[3m\u001b[90m<dbl>\u001b[39m\u001b[23m 29.02, 3.58, 12.88, 11.01, 8.89, 2.26, 9.23, 9.20, 7.06…\n",
            "$ JP_sales      \u001b[3m\u001b[90m<dbl>\u001b[39m\u001b[23m 3.77, 6.81, 3.79, 3.28, 10.22, 4.22, 6.50, 2.93, 4.70, …\n",
            "$ Other_sales   \u001b[3m\u001b[90m<dbl>\u001b[39m\u001b[23m 8.46, 0.77, 3.31, 2.96, 1.00, 0.58, 2.90, 2.85, 2.26, 0…\n"
          ],
          "name": "stdout"
        }
      ]
    },
    {
      "cell_type": "markdown",
      "metadata": {
        "id": "UTEWOu_6YjJv"
      },
      "source": [
        "#### EX.3.F\n",
        "El dataset a continuación contiene un ranking de los 100 mejores álbumes de heavy metal, según la revista \"Rolling Stones\". Agregar la valoración (*rating*) medio según subgénero del metal e incluir métricas agregadas específicamente para cada década de año de publicación."
      ]
    },
    {
      "cell_type": "code",
      "metadata": {
        "colab": {
          "base_uri": "https://localhost:8080/"
        },
        "id": "mCv57c9BpJXA",
        "outputId": "06734fb7-76cf-4644-b507-53a507c19822"
      },
      "source": [
        "df_rolling_stones_albums = fread(\"https://data-wizards.s3.amazonaws.com/datasets/rolling_stones_top_metal_albums.csv\")\n",
        "glimpse(df_rolling_stones_albums)"
      ],
      "execution_count": null,
      "outputs": [
        {
          "output_type": "stream",
          "text": [
            "Rows: 100\n",
            "Columns: 15\n",
            "$ AlbumID_Rank           \u001b[3m\u001b[90m<int>\u001b[39m\u001b[23m 1, 2, 3, 4, 5, 6, 7, 8, 9, 10, 11, 12, 13, 14,…\n",
            "$ Artist                 \u001b[3m\u001b[90m<chr>\u001b[39m\u001b[23m \"Black Sabbath\", \"Metallica\", \"Judas Priest\", …\n",
            "$ Album                  \u001b[3m\u001b[90m<chr>\u001b[39m\u001b[23m \"Paranoid\", \"Master of Puppets\", \"British Stee…\n",
            "$ `Release Year`         \u001b[3m\u001b[90m<int>\u001b[39m\u001b[23m 1970, 1986, 1980, 1982, 1970, 1986, 1984, 1986…\n",
            "$ Spotify_Album          \u001b[3m\u001b[90m<chr>\u001b[39m\u001b[23m \"6r7LZXAVueS5DqdrvXJJK7\", \"41bTjcSaiEe4G40RVVH…\n",
            "$ Description            \u001b[3m\u001b[90m<chr>\u001b[39m\u001b[23m \"http://www.rollingstone.com/music/lists/the-1…\n",
            "$ wiki                   \u001b[3m\u001b[90m<chr>\u001b[39m\u001b[23m \"https://en.wikipedia.org/wiki/Paranoid_(album…\n",
            "$ Duration               \u001b[3m\u001b[90m<chr>\u001b[39m\u001b[23m \"41:47:00\", \"54:50:00\", \"35:59:00\", \"37:40:00\"…\n",
            "$ Minutes                \u001b[3m\u001b[90m<int>\u001b[39m\u001b[23m 41, 54, 35, 37, 39, 28, 85, 36, 39, 52, 47, 38…\n",
            "$ Seconds                \u001b[3m\u001b[90m<int>\u001b[39m\u001b[23m 47, 50, 59, 40, 23, 59, 51, 15, 31, 53, 26, 42…\n",
            "$ `Total Seconds`        \u001b[3m\u001b[90m<int>\u001b[39m\u001b[23m 2507, 3290, 2159, 2260, 2363, 1739, 5151, 2175…\n",
            "$ Label                  \u001b[3m\u001b[90m<chr>\u001b[39m\u001b[23m \"Warner Bros\", \"Elektra\", \"Columbia\", \"Harvest…\n",
            "$ `Sub Metal Genre`      \u001b[3m\u001b[90m<chr>\u001b[39m\u001b[23m \"Heavy Metal\", \"Thrash Metal\", \"New Wave of Br…\n",
            "$ Rating                 \u001b[3m\u001b[90m<dbl>\u001b[39m\u001b[23m 5.0, 5.0, 4.5, 2.5, 5.0, 4.5, 5.0, 2.5, 4.0, 4…\n",
            "$ `Rolling Stone Rating` \u001b[3m\u001b[90m<chr>\u001b[39m\u001b[23m \"Rolling Stone\", \"Rolling Stone\", \"AllMusic\", …\n"
          ],
          "name": "stdout"
        }
      ]
    }
  ]
}